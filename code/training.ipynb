{
  "cells": [
    {
      "cell_type": "code",
      "source": [
        "from google.colab import drive\n",
        "drive.mount('/content/drive')"
      ],
      "metadata": {
        "colab": {
          "base_uri": "https://localhost:8080/"
        },
        "id": "Rz470jhG3XbS",
        "outputId": "875aa247-6b58-473a-dfe1-53ce6fa83845"
      },
      "execution_count": 1,
      "outputs": [
        {
          "output_type": "stream",
          "name": "stdout",
          "text": [
            "Drive already mounted at /content/drive; to attempt to forcibly remount, call drive.mount(\"/content/drive\", force_remount=True).\n"
          ]
        }
      ]
    },
    {
      "cell_type": "code",
      "source": [
        "!unzip /content/drive/MyDrive/helmet-dataset.zip"
      ],
      "metadata": {
        "colab": {
          "base_uri": "https://localhost:8080/"
        },
        "id": "zSZ-nKG85Gno",
        "outputId": "26b17c22-5ab9-4ba6-9794-915703f9a909"
      },
      "execution_count": 2,
      "outputs": [
        {
          "output_type": "stream",
          "name": "stdout",
          "text": [
            "\u001b[1;30;43mStreaming output truncated to the last 5000 lines.\u001b[0m\n",
            " extracting: train/images/BikesHelmets531_png_jpg.rf.f5243105876bec7adb2dc01bdb6c63d1.jpg  \n",
            " extracting: train/images/BikesHelmets532_png_jpg.rf.135eccbd737d674d0fbe3b9c62222b79.jpg  \n",
            " extracting: train/images/BikesHelmets532_png_jpg.rf.186546011b6246942dda1d26dc3deb4a.jpg  \n",
            " extracting: train/images/BikesHelmets532_png_jpg.rf.62d70eb59dcab4d600ae04d5f81b20f4.jpg  \n",
            " extracting: train/images/BikesHelmets532_png_jpg.rf.ab845ea91948bc4c326d3bce602cbd17.jpg  \n",
            " extracting: train/images/BikesHelmets532_png_jpg.rf.b138b4cb30eb228ec34b07ba2fbbedf9.jpg  \n",
            " extracting: train/images/BikesHelmets532_png_jpg.rf.b42be6dc1a119873ad3cd0d4b1dd7afd.jpg  \n",
            " extracting: train/images/BikesHelmets532_png_jpg.rf.b75a5c005926f27c4572006c290ad33a.jpg  \n",
            " extracting: train/images/BikesHelmets532_png_jpg.rf.f1a72db9dcaa01b9db8d0d4fad0c8fb1.jpg  \n",
            " extracting: train/images/BikesHelmets532_png_jpg.rf.ffc326fe1e391f605340324c23ea2000.jpg  \n",
            " extracting: train/images/BikesHelmets533_png_jpg.rf.1804d67bf1cf99a521a5a96bcaf44689.jpg  \n",
            " extracting: train/images/BikesHelmets533_png_jpg.rf.696cfe661d155b0a120dfd84ff36a56e.jpg  \n",
            " extracting: train/images/BikesHelmets533_png_jpg.rf.729eebcb07d21b50d4e9f91728c8ccff.jpg  \n",
            " extracting: train/images/BikesHelmets533_png_jpg.rf.72be8ee3c2aa6ad24fefdeeea1f401bd.jpg  \n",
            " extracting: train/images/BikesHelmets533_png_jpg.rf.b7579e7a7aadbde5e8073ee18626646a.jpg  \n",
            " extracting: train/images/BikesHelmets533_png_jpg.rf.f39d6439d38f1bfd776d2b21b6bbbc72.jpg  \n",
            " extracting: train/images/BikesHelmets535_png_jpg.rf.184ea5d33bac4f970c0de6a634efc48d.jpg  \n",
            " extracting: train/images/BikesHelmets535_png_jpg.rf.4defd9c25abd80c1fd7e927ca6d42719.jpg  \n",
            " extracting: train/images/BikesHelmets535_png_jpg.rf.60cb1d64af2a67c290ba99af26af5b91.jpg  \n",
            " extracting: train/images/BikesHelmets535_png_jpg.rf.76f710a3366818bbedaa99a96acb74c2.jpg  \n",
            " extracting: train/images/BikesHelmets535_png_jpg.rf.a5bcc48799c6e0de822e97acfd10e950.jpg  \n",
            " extracting: train/images/BikesHelmets535_png_jpg.rf.c2e32abd99837ac0134fe64d240a0758.jpg  \n",
            " extracting: train/images/BikesHelmets536_png_jpg.rf.5d3f9a201a8b844b47455f50e42b2144.jpg  \n",
            " extracting: train/images/BikesHelmets536_png_jpg.rf.699c2a35ae09af8c439211eeaaa1e9ef.jpg  \n",
            " extracting: train/images/BikesHelmets536_png_jpg.rf.a7eb3083339457b46e9156479f363b70.jpg  \n",
            " extracting: train/images/BikesHelmets536_png_jpg.rf.a92bf42c75b94a48996b68fdc0e972aa.jpg  \n",
            " extracting: train/images/BikesHelmets536_png_jpg.rf.b893fd8f4bce1cc9edd7bb976d6bfc8c.jpg  \n",
            " extracting: train/images/BikesHelmets536_png_jpg.rf.c41dc3b826213e81c0cd64bbbb7dd848.jpg  \n",
            " extracting: train/images/BikesHelmets536_png_jpg.rf.dff4eaa034e0172316e857dedffef645.jpg  \n",
            " extracting: train/images/BikesHelmets536_png_jpg.rf.ee9fbb21862d27cdf9be95fe33e9408d.jpg  \n",
            " extracting: train/images/BikesHelmets536_png_jpg.rf.feaa18598e8808ffe452c78e1815b610.jpg  \n",
            " extracting: train/images/BikesHelmets53_png_jpg.rf.1335f39bed2abcc4c1aafafb6ab1ebf8.jpg  \n",
            " extracting: train/images/BikesHelmets53_png_jpg.rf.1ce322c0d4d34a2eaff7972a81e3593e.jpg  \n",
            " extracting: train/images/BikesHelmets53_png_jpg.rf.a64f977ae434b88b8858e5f5c8765abd.jpg  \n",
            " extracting: train/images/BikesHelmets53_png_jpg.rf.b148083084fac44c8ef1bf4c3caf48ab.jpg  \n",
            " extracting: train/images/BikesHelmets53_png_jpg.rf.b1aec5aafdb17f54da4efcae4b512023.jpg  \n",
            " extracting: train/images/BikesHelmets53_png_jpg.rf.bfb93c298cf482cd541b21d655b45825.jpg  \n",
            " extracting: train/images/BikesHelmets541_png_jpg.rf.328603cb9446ac1d6d0d092dc7f138fb.jpg  \n",
            " extracting: train/images/BikesHelmets541_png_jpg.rf.6a905fee5100564347b7fd1dc5faf7c6.jpg  \n",
            " extracting: train/images/BikesHelmets541_png_jpg.rf.73e2fdc37b2dcec9f331fe677414430b.jpg  \n",
            " extracting: train/images/BikesHelmets541_png_jpg.rf.8ebca72795f7e9c35b12e15a202a6102.jpg  \n",
            " extracting: train/images/BikesHelmets541_png_jpg.rf.96a30b4ad607e6c2827b4d8894491a3f.jpg  \n",
            " extracting: train/images/BikesHelmets541_png_jpg.rf.a9f35cbd1ba977faad5ef5d15657a53c.jpg  \n",
            " extracting: train/images/BikesHelmets541_png_jpg.rf.da8e9ede88752fdd5800cd589c050ec0.jpg  \n",
            " extracting: train/images/BikesHelmets541_png_jpg.rf.f5a9333f3563a4fc2041bc2039d52433.jpg  \n",
            " extracting: train/images/BikesHelmets541_png_jpg.rf.f7aa255d802e29de33cdf3960f835ea0.jpg  \n",
            " extracting: train/images/BikesHelmets542_png_jpg.rf.1adacba5c10fcfe770e9d3f1dc05cd56.jpg  \n",
            " extracting: train/images/BikesHelmets542_png_jpg.rf.575f00e03dd332a3d9230c2fc0adcd6b.jpg  \n",
            " extracting: train/images/BikesHelmets542_png_jpg.rf.77849e49c1ae20b53e977cc13633956f.jpg  \n",
            " extracting: train/images/BikesHelmets542_png_jpg.rf.7d461f84bdec560bf3db643f4519b45c.jpg  \n",
            " extracting: train/images/BikesHelmets542_png_jpg.rf.980eb4cc6b23348888d3fe6650eaa310.jpg  \n",
            " extracting: train/images/BikesHelmets542_png_jpg.rf.a33cc5b95222c1cd91a6060f7a31c4d8.jpg  \n",
            " extracting: train/images/BikesHelmets545_png_jpg.rf.3166ccfcca127cf0dc4d1671cb01178d.jpg  \n",
            " extracting: train/images/BikesHelmets545_png_jpg.rf.40f70a98cfae9b2c64ba5ccd274212f8.jpg  \n",
            " extracting: train/images/BikesHelmets545_png_jpg.rf.9886316d3d383a6a9b70e5e641c9857b.jpg  \n",
            " extracting: train/images/BikesHelmets545_png_jpg.rf.f0c4e009bf2c8fb9493428f7f3910560.jpg  \n",
            " extracting: train/images/BikesHelmets545_png_jpg.rf.fadfc44ee82e90ea7b4b005a6b7100e2.jpg  \n",
            " extracting: train/images/BikesHelmets545_png_jpg.rf.fecf2f6273e562aeac33a8ba5f03c6ba.jpg  \n",
            " extracting: train/images/BikesHelmets547_png_jpg.rf.0ecde32249dbad3a1a7a6e93e36201d8.jpg  \n",
            " extracting: train/images/BikesHelmets547_png_jpg.rf.2dff22eb8c609dbe6bd04883f1701d1a.jpg  \n",
            " extracting: train/images/BikesHelmets547_png_jpg.rf.4b0bc87b9693801b6298a7ea60bb384a.jpg  \n",
            " extracting: train/images/BikesHelmets547_png_jpg.rf.958d2c118d4efe4c7d2ba993edff86fe.jpg  \n",
            " extracting: train/images/BikesHelmets547_png_jpg.rf.c989c489d8cfd64cefb84851f7634eba.jpg  \n",
            " extracting: train/images/BikesHelmets547_png_jpg.rf.dc9af17c28d4a100f77ed7944ccda90b.jpg  \n",
            " extracting: train/images/BikesHelmets549_png_jpg.rf.2c696a9db2a1cd3e3d7fd9084ca667a3.jpg  \n",
            " extracting: train/images/BikesHelmets549_png_jpg.rf.30b61f391506f8b5459e3431106d48bf.jpg  \n",
            " extracting: train/images/BikesHelmets549_png_jpg.rf.36379db6a32f7ebb9c4da072891a2fe3.jpg  \n",
            " extracting: train/images/BikesHelmets549_png_jpg.rf.606945bd7735cc2c8aeab10405a71e35.jpg  \n",
            " extracting: train/images/BikesHelmets549_png_jpg.rf.74c20eb2602f7eb11b3b45b4aac0fdb1.jpg  \n",
            " extracting: train/images/BikesHelmets549_png_jpg.rf.8505530c7552074bbb7eb4c61633bc19.jpg  \n",
            " extracting: train/images/BikesHelmets549_png_jpg.rf.efb701a87393b45979554ffc381adc67.jpg  \n",
            " extracting: train/images/BikesHelmets549_png_jpg.rf.f4472c73bd3ff51abb3bbdfef18b88b1.jpg  \n",
            " extracting: train/images/BikesHelmets549_png_jpg.rf.f67d108845b089feef490bfaebdc4fbb.jpg  \n",
            " extracting: train/images/BikesHelmets550_png_jpg.rf.13748562ab4ce4e4d99711eab990bd8f.jpg  \n",
            " extracting: train/images/BikesHelmets550_png_jpg.rf.37fa966b06dcb5f304cc0b0d4ec68fce.jpg  \n",
            " extracting: train/images/BikesHelmets550_png_jpg.rf.5ddd435059b43c7a0ad32cf74fd01dca.jpg  \n",
            " extracting: train/images/BikesHelmets550_png_jpg.rf.7dd54404b66f651381af84d520a86b7c.jpg  \n",
            " extracting: train/images/BikesHelmets550_png_jpg.rf.98df2a35a3d73043d9ecd3a24b5c39ce.jpg  \n",
            " extracting: train/images/BikesHelmets550_png_jpg.rf.baf98b415d1e594a2181e232aacc5f79.jpg  \n",
            " extracting: train/images/BikesHelmets550_png_jpg.rf.c7035129b6f08d890a6a36cca9cb1210.jpg  \n",
            " extracting: train/images/BikesHelmets550_png_jpg.rf.d7e9fafc96ea85f3fb6a04b7ea4968e7.jpg  \n",
            " extracting: train/images/BikesHelmets550_png_jpg.rf.f27f98bc9af5a1674efef5314313895b.jpg  \n",
            " extracting: train/images/BikesHelmets551_png_jpg.rf.4d8fd8de5be9637ebfbbbee460c25ce9.jpg  \n",
            " extracting: train/images/BikesHelmets551_png_jpg.rf.bddeedc5228b92f5555b99bdad9c8d4d.jpg  \n",
            " extracting: train/images/BikesHelmets551_png_jpg.rf.ea214ff2431a5f7043f5ec4e09167838.jpg  \n",
            " extracting: train/images/BikesHelmets551_png_jpg.rf.ec79cdce5adbf21bb6c380fa7396bc77.jpg  \n",
            " extracting: train/images/BikesHelmets551_png_jpg.rf.f37bc845e55d0ce4765fbbf54062f9ab.jpg  \n",
            " extracting: train/images/BikesHelmets551_png_jpg.rf.f736a76dde5f19b4d1e959b2c2e1d251.jpg  \n",
            " extracting: train/images/BikesHelmets555_png_jpg.rf.60327199d36acdef48728dc7dfc74c0d.jpg  \n",
            " extracting: train/images/BikesHelmets555_png_jpg.rf.7ff2bb6ddb6cbdff77231c552e90fbf8.jpg  \n",
            " extracting: train/images/BikesHelmets555_png_jpg.rf.8daa11e49047f9934648af01b1517594.jpg  \n",
            " extracting: train/images/BikesHelmets555_png_jpg.rf.941acbb08fa154b813a60b083aeef3b9.jpg  \n",
            " extracting: train/images/BikesHelmets555_png_jpg.rf.acbe27bbeabf2605695547d13b4c0f86.jpg  \n",
            " extracting: train/images/BikesHelmets555_png_jpg.rf.d46ae04c93dedd720e17cf3d304a8831.jpg  \n",
            " extracting: train/images/BikesHelmets555_png_jpg.rf.e848d3eac94287ac727f52a7573af07f.jpg  \n",
            " extracting: train/images/BikesHelmets555_png_jpg.rf.f9f96df4a9fbc35125ba05ebb2b7ccb1.jpg  \n",
            " extracting: train/images/BikesHelmets555_png_jpg.rf.fc65942b084edc5db346bc51902a3528.jpg  \n",
            " extracting: train/images/BikesHelmets557_png_jpg.rf.1451f9526da37a683ffa368f3cebfce6.jpg  \n",
            " extracting: train/images/BikesHelmets557_png_jpg.rf.21dc9b81e11beaa113799f0c412ea30b.jpg  \n",
            " extracting: train/images/BikesHelmets557_png_jpg.rf.33503c6d5c66d83e80a32b57e2ab5833.jpg  \n",
            " extracting: train/images/BikesHelmets557_png_jpg.rf.3d65c9ba7fb425ff057178877278824f.jpg  \n",
            " extracting: train/images/BikesHelmets557_png_jpg.rf.775f1b801a8f440962426080f1d9810e.jpg  \n",
            " extracting: train/images/BikesHelmets557_png_jpg.rf.ce027ddbed7eada5d471a4c720d68be6.jpg  \n",
            " extracting: train/images/BikesHelmets557_png_jpg.rf.d86fc520ec43fb064f8c23f2669e0dc2.jpg  \n",
            " extracting: train/images/BikesHelmets557_png_jpg.rf.e0ea9bb17e4d36b8c0c29f761842acfd.jpg  \n",
            " extracting: train/images/BikesHelmets557_png_jpg.rf.f91963583687437f37c3fe4f1023db5d.jpg  \n",
            " extracting: train/images/BikesHelmets558_png_jpg.rf.330c54a0e54d263014a831fe45f6456e.jpg  \n",
            " extracting: train/images/BikesHelmets558_png_jpg.rf.51a873dfb2ab30d7ff4e0c5c2342d9f6.jpg  \n",
            " extracting: train/images/BikesHelmets558_png_jpg.rf.55e5450e35041c8a8a8affbe37d2085a.jpg  \n",
            " extracting: train/images/BikesHelmets558_png_jpg.rf.56d61ee8abeb247bc681b3932dc273b1.jpg  \n",
            " extracting: train/images/BikesHelmets558_png_jpg.rf.6fb0124752b7b983747b87241beca1f8.jpg  \n",
            " extracting: train/images/BikesHelmets558_png_jpg.rf.8572b8127068ece6304c17ea70b57195.jpg  \n",
            " extracting: train/images/BikesHelmets558_png_jpg.rf.92a8693ff37a700911993de24b67b186.jpg  \n",
            " extracting: train/images/BikesHelmets558_png_jpg.rf.cf6fbe48cc2c0c5988c570fa437bf875.jpg  \n",
            " extracting: train/images/BikesHelmets558_png_jpg.rf.ee3abe86162104e8576b37848e6e4a9b.jpg  \n",
            " extracting: train/images/BikesHelmets559_png_jpg.rf.464723972ed0b88a2c2f181d54258da0.jpg  \n",
            " extracting: train/images/BikesHelmets559_png_jpg.rf.4f194b274ccfa47c4d7aca6084fbf97e.jpg  \n",
            " extracting: train/images/BikesHelmets559_png_jpg.rf.8142ae0cbef38908b6a4e5926e9ccb76.jpg  \n",
            " extracting: train/images/BikesHelmets559_png_jpg.rf.82a6e5657fac3d00b9a96a0f12751e10.jpg  \n",
            " extracting: train/images/BikesHelmets559_png_jpg.rf.a62ff7f1278d02d377462751e28788b6.jpg  \n",
            " extracting: train/images/BikesHelmets559_png_jpg.rf.b24638735115ece4ac366648f44fa6bc.jpg  \n",
            " extracting: train/images/BikesHelmets559_png_jpg.rf.b37d6d711f2026c3d48b64f85a2b5068.jpg  \n",
            " extracting: train/images/BikesHelmets559_png_jpg.rf.d6b873c3b996a20777af52d927fc43b0.jpg  \n",
            " extracting: train/images/BikesHelmets559_png_jpg.rf.ebac37d722c36af06bd4faac17706131.jpg  \n",
            " extracting: train/images/BikesHelmets562_png_jpg.rf.00a2b6443dbcb07499c97328808d2979.jpg  \n",
            " extracting: train/images/BikesHelmets562_png_jpg.rf.1656e652a9a07e2c38d1dec69671e9a4.jpg  \n",
            " extracting: train/images/BikesHelmets562_png_jpg.rf.3d827097ea2ce1387603e04d24543bb3.jpg  \n",
            " extracting: train/images/BikesHelmets562_png_jpg.rf.3da2301c17ca55221d26c0fd46315251.jpg  \n",
            " extracting: train/images/BikesHelmets562_png_jpg.rf.3e11037c66e2327b3ea348e7d6d6b0f7.jpg  \n",
            " extracting: train/images/BikesHelmets562_png_jpg.rf.69b91ab1ab853df8d525ac323cd14cc3.jpg  \n",
            " extracting: train/images/BikesHelmets562_png_jpg.rf.a371d04a65c1c1746cd8dc323b1bb996.jpg  \n",
            " extracting: train/images/BikesHelmets562_png_jpg.rf.a3b25b2d40e03a9245cdecd80508cb64.jpg  \n",
            " extracting: train/images/BikesHelmets562_png_jpg.rf.d011aff77a2747f229015780faecb2f4.jpg  \n",
            " extracting: train/images/BikesHelmets563_png_jpg.rf.0ca2459281074d3d32fe523923b5ab28.jpg  \n",
            " extracting: train/images/BikesHelmets563_png_jpg.rf.132a305acc66c5b04d3a35b02e4b2109.jpg  \n",
            " extracting: train/images/BikesHelmets563_png_jpg.rf.1b43350fc987ff8654bd15a3524dd66c.jpg  \n",
            " extracting: train/images/BikesHelmets563_png_jpg.rf.2d6cb1401eb2ba380dae9d80120ca23d.jpg  \n",
            " extracting: train/images/BikesHelmets563_png_jpg.rf.3c7f86c2cb1ec47370e4e6078f2a68f1.jpg  \n",
            " extracting: train/images/BikesHelmets563_png_jpg.rf.53a1788fa4ae066b1b281a4f970da996.jpg  \n",
            " extracting: train/images/BikesHelmets563_png_jpg.rf.7a9a45931176131e0801c6715db3e3ec.jpg  \n",
            " extracting: train/images/BikesHelmets563_png_jpg.rf.8118a08c77b542352d70b9d6d0330267.jpg  \n",
            " extracting: train/images/BikesHelmets563_png_jpg.rf.9974a27f47855098bd77bc5de973c2f4.jpg  \n",
            " extracting: train/images/BikesHelmets564_png_jpg.rf.208371ca66c7abcaaf8e5e1cd9e1b444.jpg  \n",
            " extracting: train/images/BikesHelmets564_png_jpg.rf.23e9eab0eb09e8b2b35e0ba95393838b.jpg  \n",
            " extracting: train/images/BikesHelmets564_png_jpg.rf.44723f34cea560e6d7817808214a79fd.jpg  \n",
            " extracting: train/images/BikesHelmets564_png_jpg.rf.d2744cac349f64288308a1cb6d10cde3.jpg  \n",
            " extracting: train/images/BikesHelmets564_png_jpg.rf.e28d9ecd107136757b9ee57d8dd0ecee.jpg  \n",
            " extracting: train/images/BikesHelmets564_png_jpg.rf.fd7edf541e18303b847cea7df99f972e.jpg  \n",
            " extracting: train/images/BikesHelmets565_png_jpg.rf.0db7762e44eb44cc68f505115b027d4c.jpg  \n",
            " extracting: train/images/BikesHelmets565_png_jpg.rf.99c0877d6ffcfac69d66602b0e4e3e84.jpg  \n",
            " extracting: train/images/BikesHelmets565_png_jpg.rf.9c2f90f6d22497bfcc0dd041dc8704f2.jpg  \n",
            " extracting: train/images/BikesHelmets565_png_jpg.rf.9c7ba9222641d9516631cdb007d5c4b1.jpg  \n",
            " extracting: train/images/BikesHelmets565_png_jpg.rf.a1cf9715e0434b17e94db62dfddd3866.jpg  \n",
            " extracting: train/images/BikesHelmets565_png_jpg.rf.bab6dc7d2c8944cb86bcb71d1104274b.jpg  \n",
            " extracting: train/images/BikesHelmets565_png_jpg.rf.bf8c31790993f1978c0325022d8def2a.jpg  \n",
            " extracting: train/images/BikesHelmets565_png_jpg.rf.cf00bd4cb7c0f2328492010649500198.jpg  \n",
            " extracting: train/images/BikesHelmets565_png_jpg.rf.ff50288432ae7c970a6e91ab0561e5d1.jpg  \n",
            " extracting: train/images/BikesHelmets569_png_jpg.rf.0b3d3ccfcc16112502586aa47b8c7bd8.jpg  \n",
            " extracting: train/images/BikesHelmets569_png_jpg.rf.0fbb1ac83885c76bdd073b0636f6c8bf.jpg  \n",
            " extracting: train/images/BikesHelmets569_png_jpg.rf.5947f2aff6c48382e886463ddbf4a5ef.jpg  \n",
            " extracting: train/images/BikesHelmets569_png_jpg.rf.730da2a3409824d0b32e8c2bf656a155.jpg  \n",
            " extracting: train/images/BikesHelmets569_png_jpg.rf.9233448f883c229a4521e528e8dfb670.jpg  \n",
            " extracting: train/images/BikesHelmets569_png_jpg.rf.928c68de652886268a3459575154ae63.jpg  \n",
            " extracting: train/images/BikesHelmets569_png_jpg.rf.a9fa612ef7e64736f31c5780b386037b.jpg  \n",
            " extracting: train/images/BikesHelmets569_png_jpg.rf.da86147b1a48563363ca062cf2cdb53f.jpg  \n",
            " extracting: train/images/BikesHelmets569_png_jpg.rf.dc7f98f28fb315e48a0ea1dfb9021292.jpg  \n",
            " extracting: train/images/BikesHelmets56_png_jpg.rf.35eb6f63a2406922c622c1a7ed555626.jpg  \n",
            " extracting: train/images/BikesHelmets56_png_jpg.rf.78240bf1856ee0e63944b776c121d880.jpg  \n",
            " extracting: train/images/BikesHelmets56_png_jpg.rf.91838c61bc1513e5b1c1b11ba708e578.jpg  \n",
            " extracting: train/images/BikesHelmets56_png_jpg.rf.94bdefd10d822c24a1cf3e076d1e49db.jpg  \n",
            " extracting: train/images/BikesHelmets56_png_jpg.rf.9a36d8e1b5e0d7d9e72ac8256f0271ce.jpg  \n",
            " extracting: train/images/BikesHelmets56_png_jpg.rf.bcafcc621a88e284552fb2b42c6ef045.jpg  \n",
            " extracting: train/images/BikesHelmets56_png_jpg.rf.c8bfabb5f1bec2fa4de1b413a0aac013.jpg  \n",
            " extracting: train/images/BikesHelmets56_png_jpg.rf.cccf64e279a848b6450d4900e7e92a16.jpg  \n",
            " extracting: train/images/BikesHelmets56_png_jpg.rf.e96a97cc1a0e89c4f4edcfbf84d3db69.jpg  \n",
            " extracting: train/images/BikesHelmets570_png_jpg.rf.4a18d504be02b4a5e1121d1905a31a28.jpg  \n",
            " extracting: train/images/BikesHelmets570_png_jpg.rf.656389b7bbd657610e6126d8422197b3.jpg  \n",
            " extracting: train/images/BikesHelmets570_png_jpg.rf.90d268120d08b43dc7437835420ad80f.jpg  \n",
            " extracting: train/images/BikesHelmets570_png_jpg.rf.a3f91c3843dbb16e3956f6fe804157ca.jpg  \n",
            " extracting: train/images/BikesHelmets570_png_jpg.rf.b08d97d50384af52ba5a1a45b3bcb4d3.jpg  \n",
            " extracting: train/images/BikesHelmets570_png_jpg.rf.c173b24e774aa449e38716addb286c70.jpg  \n",
            " extracting: train/images/BikesHelmets570_png_jpg.rf.de5e1067fb56fd0f5d20964e06cd551c.jpg  \n",
            " extracting: train/images/BikesHelmets570_png_jpg.rf.e92a9132b6c9befbf555e17b877e5a0c.jpg  \n",
            " extracting: train/images/BikesHelmets570_png_jpg.rf.ebd18c9124cd8b442689ae304f8e5016.jpg  \n",
            " extracting: train/images/BikesHelmets572_png_jpg.rf.0e6545b94316ccdb098d9d7854c2525b.jpg  \n",
            " extracting: train/images/BikesHelmets572_png_jpg.rf.1a3e5b543c6cac78cd0831e4357f34bb.jpg  \n",
            " extracting: train/images/BikesHelmets572_png_jpg.rf.525f110e75019503b6f201870cee51a8.jpg  \n",
            " extracting: train/images/BikesHelmets572_png_jpg.rf.ba11077949b5f2459ee98e35c15e4511.jpg  \n",
            " extracting: train/images/BikesHelmets572_png_jpg.rf.ba2cfe8442029c82d9ed855920e6ab41.jpg  \n",
            " extracting: train/images/BikesHelmets572_png_jpg.rf.e20901b5fa48e6dfee35c90c7c8728d5.jpg  \n",
            " extracting: train/images/BikesHelmets572_png_jpg.rf.e56e6af11f8914b0f0b60ace269872b9.jpg  \n",
            " extracting: train/images/BikesHelmets572_png_jpg.rf.f8f5a9242129d6e6b00258516e6f8ea8.jpg  \n",
            " extracting: train/images/BikesHelmets572_png_jpg.rf.f924e4fb45b9d5c2231333cd925e5616.jpg  \n",
            " extracting: train/images/BikesHelmets576_png_jpg.rf.06642a6aa0bf940eb7a3a24f84e2093d.jpg  \n",
            " extracting: train/images/BikesHelmets576_png_jpg.rf.123e4bb23b995a24f55203bbf03192a6.jpg  \n",
            " extracting: train/images/BikesHelmets576_png_jpg.rf.20dc1040fbb5f258f297d44726b875d1.jpg  \n",
            " extracting: train/images/BikesHelmets576_png_jpg.rf.34d7ef73ca945ebf2864dec9581c591d.jpg  \n",
            " extracting: train/images/BikesHelmets576_png_jpg.rf.40105fd10f0409abe55e65f22e619cb7.jpg  \n",
            " extracting: train/images/BikesHelmets576_png_jpg.rf.9d59b456307345a76b3c4ff4089ea2ca.jpg  \n",
            " extracting: train/images/BikesHelmets576_png_jpg.rf.a1d7046227a9ad12d769d28759e441f3.jpg  \n",
            " extracting: train/images/BikesHelmets576_png_jpg.rf.cf22d0b0691f3cf8b0219787c9c8bc05.jpg  \n",
            " extracting: train/images/BikesHelmets576_png_jpg.rf.da3ec935a940ccf8c07af746a6c53186.jpg  \n",
            " extracting: train/images/BikesHelmets57_png_jpg.rf.2e6f5d6486dd67f9cf7e34d228640a05.jpg  \n",
            " extracting: train/images/BikesHelmets57_png_jpg.rf.40ed778e92d552a95b09ceb97da23dcd.jpg  \n",
            " extracting: train/images/BikesHelmets57_png_jpg.rf.5991c3233cd30267c7ec1d2faed90154.jpg  \n",
            " extracting: train/images/BikesHelmets57_png_jpg.rf.67a5b1c977eca01c9a70115bbcd25ab4.jpg  \n",
            " extracting: train/images/BikesHelmets57_png_jpg.rf.88ceee7888f10bcc730cebe9cdf7d8f7.jpg  \n",
            " extracting: train/images/BikesHelmets57_png_jpg.rf.9b4644d7ba3d6ee828e118ba1f943c31.jpg  \n",
            " extracting: train/images/BikesHelmets580_png_jpg.rf.082cb8447d9168e57fbd386bf95f2eab.jpg  \n",
            " extracting: train/images/BikesHelmets580_png_jpg.rf.2d63bb1540f30f0b19f56768ea811983.jpg  \n",
            " extracting: train/images/BikesHelmets580_png_jpg.rf.2fd2c78d1a02547674c27720a4fe271a.jpg  \n",
            " extracting: train/images/BikesHelmets580_png_jpg.rf.2ffeb354704211e511b28c5256e0041d.jpg  \n",
            " extracting: train/images/BikesHelmets580_png_jpg.rf.572d9398a41dfc6d9393d34fdf42d18b.jpg  \n",
            " extracting: train/images/BikesHelmets580_png_jpg.rf.683b2bbda070915f7e19f69375d69ee6.jpg  \n",
            " extracting: train/images/BikesHelmets580_png_jpg.rf.96519271381559b916906760dc5863c1.jpg  \n",
            " extracting: train/images/BikesHelmets580_png_jpg.rf.e00e56688a0f287ff8bc62d4bf7d4313.jpg  \n",
            " extracting: train/images/BikesHelmets580_png_jpg.rf.ed7e7b8419a0581377c544e08ebd8a41.jpg  \n",
            " extracting: train/images/BikesHelmets582_png_jpg.rf.0e56ad9039e829831db0a0748fec847e.jpg  \n",
            " extracting: train/images/BikesHelmets582_png_jpg.rf.5cdf74f3d473b4b494abcca250cfa850.jpg  \n",
            " extracting: train/images/BikesHelmets582_png_jpg.rf.7137d86c1e21833f29cfbbb25838e304.jpg  \n",
            " extracting: train/images/BikesHelmets582_png_jpg.rf.75851ea9fbca1b92eb30a1cdd5945a66.jpg  \n",
            " extracting: train/images/BikesHelmets582_png_jpg.rf.9749741c5e24aa6659bebc22bdc4ec65.jpg  \n",
            " extracting: train/images/BikesHelmets582_png_jpg.rf.977ad914c29fa8e35c92eac279938746.jpg  \n",
            " extracting: train/images/BikesHelmets582_png_jpg.rf.d02c67c31db0a70093589459d8448eff.jpg  \n",
            " extracting: train/images/BikesHelmets582_png_jpg.rf.e57a9457f37aecb9aaccc1bd12ba11e8.jpg  \n",
            " extracting: train/images/BikesHelmets582_png_jpg.rf.fba928deb2139ae67af0cbf2795bba31.jpg  \n",
            " extracting: train/images/BikesHelmets584_png_jpg.rf.020a45f5e5aeec1f8d367d16b993d1f0.jpg  \n",
            " extracting: train/images/BikesHelmets584_png_jpg.rf.43e9809457455011dcfc37abc361ae3e.jpg  \n",
            " extracting: train/images/BikesHelmets584_png_jpg.rf.4aa2e474d6a01f4e361ca7c20e7dd8f6.jpg  \n",
            " extracting: train/images/BikesHelmets584_png_jpg.rf.5df202c5ad016e8c98c3d12c0eec14c8.jpg  \n",
            " extracting: train/images/BikesHelmets584_png_jpg.rf.8815b2cfebdfcd1cb8c019ce96f8d65b.jpg  \n",
            " extracting: train/images/BikesHelmets584_png_jpg.rf.db9301ac4c9288642f5d2a8a9fb48653.jpg  \n",
            " extracting: train/images/BikesHelmets586_png_jpg.rf.05a7d8059f3f44ad93bab2d3ccca431f.jpg  \n",
            " extracting: train/images/BikesHelmets586_png_jpg.rf.0be42ff2243a5a6982c62690ec7ac14d.jpg  \n",
            " extracting: train/images/BikesHelmets586_png_jpg.rf.2f8da7cf06bd49b56a3777a210759b82.jpg  \n",
            " extracting: train/images/BikesHelmets586_png_jpg.rf.414e9d406305c6a74d0580d2c8929cb9.jpg  \n",
            " extracting: train/images/BikesHelmets586_png_jpg.rf.5cf97a4929575ed3ed349f72ff6fce01.jpg  \n",
            " extracting: train/images/BikesHelmets586_png_jpg.rf.7b7a3d35ca1a97e15f4a7cd316f874b8.jpg  \n",
            " extracting: train/images/BikesHelmets586_png_jpg.rf.8e09cf3c58d738e1bbea48035a40c422.jpg  \n",
            " extracting: train/images/BikesHelmets586_png_jpg.rf.9e9184a6e98cd434488a1d9d5e78a549.jpg  \n",
            " extracting: train/images/BikesHelmets586_png_jpg.rf.e4efbc351378edc9b27b255cc0f0bf22.jpg  \n",
            " extracting: train/images/BikesHelmets589_png_jpg.rf.025bf5dc44a8dc829aa39def9065dd6d.jpg  \n",
            " extracting: train/images/BikesHelmets589_png_jpg.rf.2b28d1b9db28f3527382afc686c3e719.jpg  \n",
            " extracting: train/images/BikesHelmets589_png_jpg.rf.33689f59c9312670433c6853ea062e2c.jpg  \n",
            " extracting: train/images/BikesHelmets589_png_jpg.rf.436da2bf7cc023a6c5fdd368f8aa9b91.jpg  \n",
            " extracting: train/images/BikesHelmets589_png_jpg.rf.46ee4fd03b647d3ea934cb4d3575b0e7.jpg  \n",
            " extracting: train/images/BikesHelmets589_png_jpg.rf.830eeef2b6f1de1515a2c7029eceecba.jpg  \n",
            " extracting: train/images/BikesHelmets589_png_jpg.rf.a4f33a139f262ec24dc93ac39972e0c3.jpg  \n",
            " extracting: train/images/BikesHelmets589_png_jpg.rf.b523c9f9f03543ae34b75a87c8ac35ef.jpg  \n",
            " extracting: train/images/BikesHelmets589_png_jpg.rf.de7792b4ca12e92490940b3fe987bce7.jpg  \n",
            " extracting: train/images/BikesHelmets58_png_jpg.rf.2027ffc7b6b1c05df4fec08432aeddc4.jpg  \n",
            " extracting: train/images/BikesHelmets58_png_jpg.rf.2d790ee5a10d711597ea066cce817f77.jpg  \n",
            " extracting: train/images/BikesHelmets58_png_jpg.rf.4a11c6ef82d4f14f0cf7680b055fcaf7.jpg  \n",
            " extracting: train/images/BikesHelmets58_png_jpg.rf.4d917ae586f3b3c75b73d69274cec99a.jpg  \n",
            " extracting: train/images/BikesHelmets58_png_jpg.rf.61f9e80a251c0c082c181c8115042708.jpg  \n",
            " extracting: train/images/BikesHelmets58_png_jpg.rf.7dcb6d50b259f80486ab9673e76a8d5a.jpg  \n",
            " extracting: train/images/BikesHelmets58_png_jpg.rf.8316efa540b152c653d84384504ad86d.jpg  \n",
            " extracting: train/images/BikesHelmets58_png_jpg.rf.cbdc5679b4f99d4fec28d2345dfc3f22.jpg  \n",
            " extracting: train/images/BikesHelmets58_png_jpg.rf.d262d6ec1b5248c967a8a928c501cebb.jpg  \n",
            " extracting: train/images/BikesHelmets591_png_jpg.rf.12576784ceeb51f7aad23495db4ed70c.jpg  \n",
            " extracting: train/images/BikesHelmets591_png_jpg.rf.41bd50f4cddd94ca6ade839e77987e5a.jpg  \n",
            " extracting: train/images/BikesHelmets591_png_jpg.rf.7077211df3734086e94d2b5b6450d5ac.jpg  \n",
            " extracting: train/images/BikesHelmets591_png_jpg.rf.86402ad5389dbfe97a956ca0b8b14b9b.jpg  \n",
            " extracting: train/images/BikesHelmets591_png_jpg.rf.9582fa85d1b6c88a2bf5ef6ea78d43be.jpg  \n",
            " extracting: train/images/BikesHelmets591_png_jpg.rf.cd8497fc5560d2f3f9a6b294e3e4c97d.jpg  \n",
            " extracting: train/images/BikesHelmets592_png_jpg.rf.1e5d25f76350d6c5f8fd01f0ecf25f10.jpg  \n",
            " extracting: train/images/BikesHelmets592_png_jpg.rf.451b1bf1b11a0227297ce7e1f00428a8.jpg  \n",
            " extracting: train/images/BikesHelmets592_png_jpg.rf.8b76601c52fe10781b5d93e65bd32492.jpg  \n",
            " extracting: train/images/BikesHelmets592_png_jpg.rf.a3206faa9aac29025499f0a7a9d0a6bb.jpg  \n",
            " extracting: train/images/BikesHelmets592_png_jpg.rf.b92a65e425c2305cba3643aa7084e908.jpg  \n",
            " extracting: train/images/BikesHelmets592_png_jpg.rf.c8da9eb47d549343c70b47237e47c460.jpg  \n",
            " extracting: train/images/BikesHelmets593_png_jpg.rf.15b3610782ffcb1f26a29828c8ca7d68.jpg  \n",
            " extracting: train/images/BikesHelmets593_png_jpg.rf.3327af083df1941e04d816fdda892a80.jpg  \n",
            " extracting: train/images/BikesHelmets593_png_jpg.rf.55dd77e02b8f64bb6af54074e38111fe.jpg  \n",
            " extracting: train/images/BikesHelmets593_png_jpg.rf.84fc5304d5f6a37dca54e0e075f6c6e4.jpg  \n",
            " extracting: train/images/BikesHelmets593_png_jpg.rf.c37f9dacf9b8adcdf0412d610c49f2fb.jpg  \n",
            " extracting: train/images/BikesHelmets593_png_jpg.rf.c6e1b3eb0aa44a85a722fa79a18ac01b.jpg  \n",
            " extracting: train/images/BikesHelmets593_png_jpg.rf.d5570ff4b9a4b480cd4011075ea99f47.jpg  \n",
            " extracting: train/images/BikesHelmets593_png_jpg.rf.db6024a8d10157528a8b446f7ef58ae5.jpg  \n",
            " extracting: train/images/BikesHelmets593_png_jpg.rf.fdd4bb7efd29d6d5b6d66e20849db73d.jpg  \n",
            " extracting: train/images/BikesHelmets594_png_jpg.rf.3c8dab437fcd6163df7902ff9be19820.jpg  \n",
            " extracting: train/images/BikesHelmets594_png_jpg.rf.56e56ecaf4de3ee0310cda0bfddc2c3d.jpg  \n",
            " extracting: train/images/BikesHelmets594_png_jpg.rf.635c72b2851d76ac05048d926be29111.jpg  \n",
            " extracting: train/images/BikesHelmets594_png_jpg.rf.7d8719ede3c9c729c8a4006c4d518cfb.jpg  \n",
            " extracting: train/images/BikesHelmets594_png_jpg.rf.93266be3276bcc6699aaec4d1d24d6a1.jpg  \n",
            " extracting: train/images/BikesHelmets594_png_jpg.rf.aac91211638efff406d48f6cc3c5b5e4.jpg  \n",
            " extracting: train/images/BikesHelmets594_png_jpg.rf.cfb638933b961c574c2cc173ae9e27c2.jpg  \n",
            " extracting: train/images/BikesHelmets594_png_jpg.rf.e5cf48a9478a582170b4bc2eadd8f0f6.jpg  \n",
            " extracting: train/images/BikesHelmets594_png_jpg.rf.ef2b4d8e0ebedd87b625c81068304a39.jpg  \n",
            " extracting: train/images/BikesHelmets595_png_jpg.rf.406bec3bcfdf11357f07656648e6b769.jpg  \n",
            " extracting: train/images/BikesHelmets595_png_jpg.rf.6582b1de823382ac8289e786fdc6f975.jpg  \n",
            " extracting: train/images/BikesHelmets595_png_jpg.rf.88f53d1d04e1c57c71d8a24bb7dd706e.jpg  \n",
            " extracting: train/images/BikesHelmets595_png_jpg.rf.9c2aeff3a31693871012ff5dab44e848.jpg  \n",
            " extracting: train/images/BikesHelmets595_png_jpg.rf.bd0d7f2b9f5aba118e2cf998897f2af9.jpg  \n",
            " extracting: train/images/BikesHelmets595_png_jpg.rf.c0a38cf20b3a1c57e149b794eb93ed99.jpg  \n",
            " extracting: train/images/BikesHelmets595_png_jpg.rf.c1d0acc5db38aace0e02e65cc57330de.jpg  \n",
            " extracting: train/images/BikesHelmets595_png_jpg.rf.cf5f95c99ffd6a24ff4cf3057364eefb.jpg  \n",
            " extracting: train/images/BikesHelmets595_png_jpg.rf.ee3c460320a44938d318840f8b8c448f.jpg  \n",
            " extracting: train/images/BikesHelmets597_png_jpg.rf.1d816eaedc64e418f63419d06fe8c533.jpg  \n",
            " extracting: train/images/BikesHelmets597_png_jpg.rf.22d1edf75cd224f6170325e1040cf9a5.jpg  \n",
            " extracting: train/images/BikesHelmets597_png_jpg.rf.257393f0e9a636763a05e5f5face7deb.jpg  \n",
            " extracting: train/images/BikesHelmets597_png_jpg.rf.4dc6c5afffe0d7bb2776e42cbd04b3bf.jpg  \n",
            " extracting: train/images/BikesHelmets597_png_jpg.rf.8d13ecf34213f57308d8759ae433dc57.jpg  \n",
            " extracting: train/images/BikesHelmets597_png_jpg.rf.8eb128c80fe721200f1442b5e6716f0d.jpg  \n",
            " extracting: train/images/BikesHelmets597_png_jpg.rf.c6149d9bacd65b529760f00b951fff44.jpg  \n",
            " extracting: train/images/BikesHelmets597_png_jpg.rf.e75a1f60091c26c45afb1089407ddb86.jpg  \n",
            " extracting: train/images/BikesHelmets597_png_jpg.rf.f8bfeb2e7cd2b86be9d30e350140f9ed.jpg  \n",
            " extracting: train/images/BikesHelmets598_png_jpg.rf.06f10b23ce4964e3dbb86c2397c48a79.jpg  \n",
            " extracting: train/images/BikesHelmets598_png_jpg.rf.1178c526776d53a66da29fac4d2cbbb8.jpg  \n",
            " extracting: train/images/BikesHelmets598_png_jpg.rf.4ef8fb588b006a8a9d8bea5584070045.jpg  \n",
            " extracting: train/images/BikesHelmets598_png_jpg.rf.99c322ada819e2eda7e4435f8afc992e.jpg  \n",
            " extracting: train/images/BikesHelmets598_png_jpg.rf.acfaa5450515ed53eabd0330259ddb39.jpg  \n",
            " extracting: train/images/BikesHelmets598_png_jpg.rf.c56d878973ab84ddf79d1634e51eee80.jpg  \n",
            " extracting: train/images/BikesHelmets598_png_jpg.rf.e5535bd3b9c79fe14c7eb0b0f27f3aff.jpg  \n",
            " extracting: train/images/BikesHelmets598_png_jpg.rf.e6bef71e5795cb0db50e777da3f17a54.jpg  \n",
            " extracting: train/images/BikesHelmets598_png_jpg.rf.fbf888d9ce8751189e7050834a1119c3.jpg  \n",
            " extracting: train/images/BikesHelmets59_png_jpg.rf.00e4b107ef6709b8ba5e5578b6dbbe1e.jpg  \n",
            " extracting: train/images/BikesHelmets59_png_jpg.rf.0c8292a4b175772b0aaf48d3b5da278a.jpg  \n",
            " extracting: train/images/BikesHelmets59_png_jpg.rf.5edad6d31f0eb66eadecdfd812bfd760.jpg  \n",
            " extracting: train/images/BikesHelmets59_png_jpg.rf.6f549b1c02d0d2594fb59d90443dce2d.jpg  \n",
            " extracting: train/images/BikesHelmets59_png_jpg.rf.8470daf5b6e3dbf56702f7e48b55f073.jpg  \n",
            " extracting: train/images/BikesHelmets59_png_jpg.rf.85607fe9c900f32c21d417284919b851.jpg  \n",
            " extracting: train/images/BikesHelmets59_png_jpg.rf.880f4e5b210c405cfbcb4279b512f0f6.jpg  \n",
            " extracting: train/images/BikesHelmets59_png_jpg.rf.c7d4971ede277035c7dd356e4d4c5b58.jpg  \n",
            " extracting: train/images/BikesHelmets59_png_jpg.rf.e91dc1141bf70ec3454c241442b53ab3.jpg  \n",
            " extracting: train/images/BikesHelmets5_png_jpg.rf.0a4593410547f1f4b234a330f2ebd1d1.jpg  \n",
            " extracting: train/images/BikesHelmets5_png_jpg.rf.113c8dd22c8d82fcf427d878dee4686e.jpg  \n",
            " extracting: train/images/BikesHelmets5_png_jpg.rf.23318ce47465a9c552ea6e6c3e5f5f40.jpg  \n",
            " extracting: train/images/BikesHelmets5_png_jpg.rf.353c31d59a8eb0796bb8f1b9e071b535.jpg  \n",
            " extracting: train/images/BikesHelmets5_png_jpg.rf.388e3c9d96ac42060e1118b60ebc3c39.jpg  \n",
            " extracting: train/images/BikesHelmets5_png_jpg.rf.86df9037692d445d19b01da1eb95cb6c.jpg  \n",
            " extracting: train/images/BikesHelmets5_png_jpg.rf.92fcf47247919a89e85bfde683efab02.jpg  \n",
            " extracting: train/images/BikesHelmets5_png_jpg.rf.9dc8849dd475cb5321b2698933e077a9.jpg  \n",
            " extracting: train/images/BikesHelmets5_png_jpg.rf.b4d39c3a73749b2f5518d78b8f0067ee.jpg  \n",
            " extracting: train/images/BikesHelmets600_png_jpg.rf.0ab4905927f0192b764a1c42fa129ce2.jpg  \n",
            " extracting: train/images/BikesHelmets600_png_jpg.rf.2939d4df28ef72f33a7ba4342b435f19.jpg  \n",
            " extracting: train/images/BikesHelmets600_png_jpg.rf.397cc810a10e5feab51b04a17e7efe96.jpg  \n",
            " extracting: train/images/BikesHelmets600_png_jpg.rf.4d9989e57bc1103f096ac3815bd21e2d.jpg  \n",
            " extracting: train/images/BikesHelmets600_png_jpg.rf.57bfb043b178119c64737f7b65233657.jpg  \n",
            " extracting: train/images/BikesHelmets600_png_jpg.rf.8c436fb42211c9ad0c253891a7ec9db6.jpg  \n",
            " extracting: train/images/BikesHelmets600_png_jpg.rf.91b56f979ccd642e7d233fa0652f81b9.jpg  \n",
            " extracting: train/images/BikesHelmets600_png_jpg.rf.ad1711761512238f69b73516ae971a56.jpg  \n",
            " extracting: train/images/BikesHelmets600_png_jpg.rf.b8d9ec46f86fcd0bd78344c79343eb28.jpg  \n",
            " extracting: train/images/BikesHelmets605_png_jpg.rf.026cdc3312f552a44c7f98cb71f757ad.jpg  \n",
            " extracting: train/images/BikesHelmets605_png_jpg.rf.11386e838c619c90887efa4cef66839f.jpg  \n",
            " extracting: train/images/BikesHelmets605_png_jpg.rf.155cf6dfbae331f4d8960ab1392bc6ba.jpg  \n",
            " extracting: train/images/BikesHelmets605_png_jpg.rf.3a50dc526d11033e9fcc79f4d08fc6cc.jpg  \n",
            " extracting: train/images/BikesHelmets605_png_jpg.rf.4cf643b562bef585be1586faa1cb4fd7.jpg  \n",
            " extracting: train/images/BikesHelmets605_png_jpg.rf.6f019fa43ba5fec6a20e0add5abd7d9f.jpg  \n",
            " extracting: train/images/BikesHelmets605_png_jpg.rf.d8be91cfe961a3f615f0fad1c6afeb54.jpg  \n",
            " extracting: train/images/BikesHelmets605_png_jpg.rf.e6f81d9a7d364c906e5e42a80bec233c.jpg  \n",
            " extracting: train/images/BikesHelmets605_png_jpg.rf.ef0f8e435a4d3aacc19fe6b20595c859.jpg  \n",
            " extracting: train/images/BikesHelmets606_png_jpg.rf.58044bd87da2f48965458d411d8aad9a.jpg  \n",
            " extracting: train/images/BikesHelmets606_png_jpg.rf.6ee269a123f90f810dec41002a16ce41.jpg  \n",
            " extracting: train/images/BikesHelmets606_png_jpg.rf.9f29a33ed34df0aa917f96411474b5eb.jpg  \n",
            " extracting: train/images/BikesHelmets606_png_jpg.rf.a9dcd6984ad311ffae1d923cb5dfcdd9.jpg  \n",
            " extracting: train/images/BikesHelmets606_png_jpg.rf.b7ca6d83406e8731876b6b26d8b31004.jpg  \n",
            " extracting: train/images/BikesHelmets606_png_jpg.rf.e479ffc41d3ba7cb08150eff6dcffe0f.jpg  \n",
            " extracting: train/images/BikesHelmets606_png_jpg.rf.f259c84142d63ef6f53ba2fc200daa94.jpg  \n",
            " extracting: train/images/BikesHelmets606_png_jpg.rf.f71a66fc1ff72d4dc8c7356a5550ded7.jpg  \n",
            " extracting: train/images/BikesHelmets606_png_jpg.rf.fc465c3f35b23bfaeb9d58db17a8e379.jpg  \n",
            " extracting: train/images/BikesHelmets607_png_jpg.rf.2944e3c0f998ac7ddab2daabbca40818.jpg  \n",
            " extracting: train/images/BikesHelmets607_png_jpg.rf.47508f90933d5ce320c6f3e92c945268.jpg  \n",
            " extracting: train/images/BikesHelmets607_png_jpg.rf.5764e53de23a4d2f87f684920b9711cf.jpg  \n",
            " extracting: train/images/BikesHelmets607_png_jpg.rf.b7c4068e7a7f37bbf2ebdadc83a21504.jpg  \n",
            " extracting: train/images/BikesHelmets607_png_jpg.rf.e269740b545c2f5c09173c8e9b260a5d.jpg  \n",
            " extracting: train/images/BikesHelmets607_png_jpg.rf.f44bd64177e5440a9fbede195782fce9.jpg  \n",
            " extracting: train/images/BikesHelmets60_png_jpg.rf.45d6bd5402f3b73a852ddb591298239d.jpg  \n",
            " extracting: train/images/BikesHelmets60_png_jpg.rf.8fc62c526804773555e9fa2eff542978.jpg  \n",
            " extracting: train/images/BikesHelmets60_png_jpg.rf.a401dacb5a417ec1677b0203240d5ff0.jpg  \n",
            " extracting: train/images/BikesHelmets60_png_jpg.rf.aed9d3b737b4c9815d15282829c9ba6a.jpg  \n",
            " extracting: train/images/BikesHelmets60_png_jpg.rf.d7413a57cd9dc2112924c72448336e6b.jpg  \n",
            " extracting: train/images/BikesHelmets60_png_jpg.rf.fd436377d73f55f5dd0476c36ed36228.jpg  \n",
            " extracting: train/images/BikesHelmets612_png_jpg.rf.00bd63fa7ddedd4227fc9842808ddd51.jpg  \n",
            " extracting: train/images/BikesHelmets612_png_jpg.rf.36173c50bcaf752c912a6c374bfbb2e5.jpg  \n",
            " extracting: train/images/BikesHelmets612_png_jpg.rf.4579817f03599a445b7bac6db341a979.jpg  \n",
            " extracting: train/images/BikesHelmets612_png_jpg.rf.61b2f2e11c1d132ad368bf6e735771ac.jpg  \n",
            " extracting: train/images/BikesHelmets612_png_jpg.rf.66a4b952a6bd3ff1a765dd95cf8128a2.jpg  \n",
            " extracting: train/images/BikesHelmets612_png_jpg.rf.674d63cc456f83bea7ccc04102425ae3.jpg  \n",
            " extracting: train/images/BikesHelmets612_png_jpg.rf.740bb511260c6b3168570e9b472b7f0f.jpg  \n",
            " extracting: train/images/BikesHelmets612_png_jpg.rf.824ca8aa12a5e827b38b99b7b1efd360.jpg  \n",
            " extracting: train/images/BikesHelmets612_png_jpg.rf.dc6c311f9a9798ad391a0ff86167791e.jpg  \n",
            " extracting: train/images/BikesHelmets613_png_jpg.rf.03d8c3af8faa85949492b85cab0d51dd.jpg  \n",
            " extracting: train/images/BikesHelmets613_png_jpg.rf.0d49a0a4ba526d4f483fa45d73eae9a1.jpg  \n",
            " extracting: train/images/BikesHelmets613_png_jpg.rf.18b7f2ba1a068b55ae183f3b31bb69e4.jpg  \n",
            " extracting: train/images/BikesHelmets613_png_jpg.rf.36c14c54aab2c7c3bd0d94ed77c32b70.jpg  \n",
            " extracting: train/images/BikesHelmets613_png_jpg.rf.56f1632d7a4566df7bb67273a09d89cd.jpg  \n",
            " extracting: train/images/BikesHelmets613_png_jpg.rf.57d0ea933ea6996c222af32169a6d48c.jpg  \n",
            " extracting: train/images/BikesHelmets613_png_jpg.rf.660bde50a6ba0dc946bf0c6d32a3dd64.jpg  \n",
            " extracting: train/images/BikesHelmets613_png_jpg.rf.89c3b24564b95aeacfd7d13ff5c5e530.jpg  \n",
            " extracting: train/images/BikesHelmets613_png_jpg.rf.d110d2c80ff69ab56a76d95ea61794d1.jpg  \n",
            " extracting: train/images/BikesHelmets615_png_jpg.rf.16bb70193f595201d46df1260cc5bb16.jpg  \n",
            " extracting: train/images/BikesHelmets615_png_jpg.rf.2663a304b574c1092abe289680d8b712.jpg  \n",
            " extracting: train/images/BikesHelmets615_png_jpg.rf.4359ad845d852ace25d845aecc7761f5.jpg  \n",
            " extracting: train/images/BikesHelmets615_png_jpg.rf.5692a4564f1f59532e91eb746660db72.jpg  \n",
            " extracting: train/images/BikesHelmets615_png_jpg.rf.b1f28d8c692f35db917072ccfbf97725.jpg  \n",
            " extracting: train/images/BikesHelmets615_png_jpg.rf.f929b3764e3e834f017dab4dd295625e.jpg  \n",
            " extracting: train/images/BikesHelmets617_png_jpg.rf.26922588ed351034936570b10700624e.jpg  \n",
            " extracting: train/images/BikesHelmets617_png_jpg.rf.276053f2fa552a03f9192c5a2c7e011c.jpg  \n",
            " extracting: train/images/BikesHelmets617_png_jpg.rf.6b7186b80297080a8a44d20f43eafcb7.jpg  \n",
            " extracting: train/images/BikesHelmets617_png_jpg.rf.9a0d344277f67c59b22b07fc1f09aca1.jpg  \n",
            " extracting: train/images/BikesHelmets617_png_jpg.rf.9b8aa0d91ce52b4ad890378a7f84af98.jpg  \n",
            " extracting: train/images/BikesHelmets617_png_jpg.rf.b667946f0468816507704fe92972e496.jpg  \n",
            " extracting: train/images/BikesHelmets617_png_jpg.rf.c4614cf58591a848973efbaa8faaaab0.jpg  \n",
            " extracting: train/images/BikesHelmets617_png_jpg.rf.d21818ca9cc26686437738f45624ff23.jpg  \n",
            " extracting: train/images/BikesHelmets617_png_jpg.rf.f96a046f6dcf8abb9e1216a7b7355ce8.jpg  \n",
            " extracting: train/images/BikesHelmets619_png_jpg.rf.4cf63c9269bce5de545edcd1d503758a.jpg  \n",
            " extracting: train/images/BikesHelmets619_png_jpg.rf.4f56a0c3956b0b1d02afb93f863c0c1d.jpg  \n",
            " extracting: train/images/BikesHelmets619_png_jpg.rf.566e0a841e37d2f550199b9ad4261f82.jpg  \n",
            " extracting: train/images/BikesHelmets619_png_jpg.rf.6e32d8300a859049b4525fbe093f0b2b.jpg  \n",
            " extracting: train/images/BikesHelmets619_png_jpg.rf.9e1aff8d2d95b49ba7dc5570b2cbd6b4.jpg  \n",
            " extracting: train/images/BikesHelmets619_png_jpg.rf.adf01390d9775166cfde514213b44dec.jpg  \n",
            " extracting: train/images/BikesHelmets619_png_jpg.rf.d2d8df5a4108f32551df479f35591af8.jpg  \n",
            " extracting: train/images/BikesHelmets619_png_jpg.rf.d3f67f2e7fc3bebc51504e68b5840439.jpg  \n",
            " extracting: train/images/BikesHelmets619_png_jpg.rf.e96db8dccc5b258c5d4f7f8b1e06664d.jpg  \n",
            " extracting: train/images/BikesHelmets61_png_jpg.rf.67aac0dee524afed55cedc98d71e5fa2.jpg  \n",
            " extracting: train/images/BikesHelmets61_png_jpg.rf.96104fad9267723ec101c421999dbf03.jpg  \n",
            " extracting: train/images/BikesHelmets61_png_jpg.rf.a8ddbfdd611222aa04963a195f890103.jpg  \n",
            " extracting: train/images/BikesHelmets61_png_jpg.rf.bef242a0b40fb41bb09155d6799a63ec.jpg  \n",
            " extracting: train/images/BikesHelmets61_png_jpg.rf.e040c769b3e538dfc07483719f54aaae.jpg  \n",
            " extracting: train/images/BikesHelmets61_png_jpg.rf.e214088eafa6ffd08def22eab2125243.jpg  \n",
            " extracting: train/images/BikesHelmets621_png_jpg.rf.2e2daa843b884d3366ed66eb37793f21.jpg  \n",
            " extracting: train/images/BikesHelmets621_png_jpg.rf.60bad2ee0a8274440542d211eab915a1.jpg  \n",
            " extracting: train/images/BikesHelmets621_png_jpg.rf.6fa63f14514adf030ed1974b7c8198bd.jpg  \n",
            " extracting: train/images/BikesHelmets621_png_jpg.rf.814e764e49b2999a68fe5caea955c23a.jpg  \n",
            " extracting: train/images/BikesHelmets621_png_jpg.rf.a1c31fda4d77656ec1b1ce11d9565579.jpg  \n",
            " extracting: train/images/BikesHelmets621_png_jpg.rf.c02de272cfe0761183285363ad96e79f.jpg  \n",
            " extracting: train/images/BikesHelmets621_png_jpg.rf.cf2762ea45ce1fd7ec9b266af5257210.jpg  \n",
            " extracting: train/images/BikesHelmets621_png_jpg.rf.d08d5bb976c635c0503cdcdce9956005.jpg  \n",
            " extracting: train/images/BikesHelmets621_png_jpg.rf.e6a3baf21b8d9e9c6e1038d5d4b8652c.jpg  \n",
            " extracting: train/images/BikesHelmets622_png_jpg.rf.0e01124d3cf1a8312628345c8daa8566.jpg  \n",
            " extracting: train/images/BikesHelmets622_png_jpg.rf.58f60951619709aae15809fd36564444.jpg  \n",
            " extracting: train/images/BikesHelmets622_png_jpg.rf.75ae891afa3f9356788830a2d7f327f2.jpg  \n",
            " extracting: train/images/BikesHelmets622_png_jpg.rf.805ae110d2801366c53cd6e82021507b.jpg  \n",
            " extracting: train/images/BikesHelmets622_png_jpg.rf.a19014c65b5ec9b1472b03a2e6df478e.jpg  \n",
            " extracting: train/images/BikesHelmets622_png_jpg.rf.a60794f1512166df6a60048e87f60d83.jpg  \n",
            " extracting: train/images/BikesHelmets622_png_jpg.rf.bf1fea5316ce879769cb4ba9368593a8.jpg  \n",
            " extracting: train/images/BikesHelmets622_png_jpg.rf.ce5f99ea034e19abd7387044f936ce15.jpg  \n",
            " extracting: train/images/BikesHelmets622_png_jpg.rf.d50b0e64e0ced6d7dcf80c9acef74aab.jpg  \n",
            " extracting: train/images/BikesHelmets623_png_jpg.rf.0820fca4ef2fdc8ac3ebd22dfee9e6ea.jpg  \n",
            " extracting: train/images/BikesHelmets623_png_jpg.rf.54ad5ddfa9e342013b37064ff0808407.jpg  \n",
            " extracting: train/images/BikesHelmets623_png_jpg.rf.af9293764261677e069ad37d45f02a14.jpg  \n",
            " extracting: train/images/BikesHelmets623_png_jpg.rf.c3118fd78f9b49f726485fb479fa3b11.jpg  \n",
            " extracting: train/images/BikesHelmets623_png_jpg.rf.d0f2d71ef23ac5ca3f853126384dcfdf.jpg  \n",
            " extracting: train/images/BikesHelmets623_png_jpg.rf.ee82a0918779de1db8c6d506b4a57512.jpg  \n",
            " extracting: train/images/BikesHelmets626_png_jpg.rf.0f0de7587924aa8120f5c6be1d9278f0.jpg  \n",
            " extracting: train/images/BikesHelmets626_png_jpg.rf.2918e6cec4a89cb49beb594735106728.jpg  \n",
            " extracting: train/images/BikesHelmets626_png_jpg.rf.32894089a3308aad32a585dc430d8230.jpg  \n",
            " extracting: train/images/BikesHelmets626_png_jpg.rf.39494fdc5b92cad294a42701c41e048e.jpg  \n",
            " extracting: train/images/BikesHelmets626_png_jpg.rf.8bc0f4f4d017fa8910ed55cb6fcf0762.jpg  \n",
            " extracting: train/images/BikesHelmets626_png_jpg.rf.8c89806125979458de7787f37dc8690c.jpg  \n",
            " extracting: train/images/BikesHelmets626_png_jpg.rf.b379e9c948bb0ab8dbafd2005badd10a.jpg  \n",
            " extracting: train/images/BikesHelmets626_png_jpg.rf.d1b36e935366e3aa26d98907fe1ad91f.jpg  \n",
            " extracting: train/images/BikesHelmets626_png_jpg.rf.da8449acca4e5e2b256480027f2222ec.jpg  \n",
            " extracting: train/images/BikesHelmets628_png_jpg.rf.270e7ff583effcb89f9b65b2f3e72f03.jpg  \n",
            " extracting: train/images/BikesHelmets628_png_jpg.rf.6d8585bc3e9b8bfe372705642ed04f8b.jpg  \n",
            " extracting: train/images/BikesHelmets628_png_jpg.rf.786d64247113dfdbd6c91e77c1f56d08.jpg  \n",
            " extracting: train/images/BikesHelmets628_png_jpg.rf.7a417e7d71b2de0b245a311f80587571.jpg  \n",
            " extracting: train/images/BikesHelmets628_png_jpg.rf.8b2301ddcbe71685e8280cc6f04b91d7.jpg  \n",
            " extracting: train/images/BikesHelmets628_png_jpg.rf.a4960bd32c71752ffea35e0579592d5c.jpg  \n",
            " extracting: train/images/BikesHelmets628_png_jpg.rf.bd97386cad5676ec18f30759c3f8c503.jpg  \n",
            " extracting: train/images/BikesHelmets628_png_jpg.rf.bdca6d7028df58c3a1e964a1301cb7f7.jpg  \n",
            " extracting: train/images/BikesHelmets628_png_jpg.rf.c70b51c809b870d21b84dd7d7592f1b5.jpg  \n",
            " extracting: train/images/BikesHelmets629_png_jpg.rf.26ac04dd0dfc1304d0789474ac125b95.jpg  \n",
            " extracting: train/images/BikesHelmets629_png_jpg.rf.2aadee71b609e1405d328a9dd0c09572.jpg  \n",
            " extracting: train/images/BikesHelmets629_png_jpg.rf.4e8fc314b7a2f2b89b112a813a66bebc.jpg  \n",
            " extracting: train/images/BikesHelmets629_png_jpg.rf.6eab71ab5dbdbbfe76c8c3c7f61b9303.jpg  \n",
            " extracting: train/images/BikesHelmets629_png_jpg.rf.b6a9ab086fc864c79ae6dd0cf354e276.jpg  \n",
            " extracting: train/images/BikesHelmets629_png_jpg.rf.c4718588ba9420c34a059ba80ecf0305.jpg  \n",
            " extracting: train/images/BikesHelmets629_png_jpg.rf.dfebf33780b16e4b1672e8eb98c0d67e.jpg  \n",
            " extracting: train/images/BikesHelmets629_png_jpg.rf.f09e6bb5762b24cbaffeae0680724478.jpg  \n",
            " extracting: train/images/BikesHelmets629_png_jpg.rf.f63c916977c6186df8493641ffd61594.jpg  \n",
            " extracting: train/images/BikesHelmets62_png_jpg.rf.28c7100eded44a97dd6a6ac99c8d3832.jpg  \n",
            " extracting: train/images/BikesHelmets62_png_jpg.rf.7b54ca7f9c3d6f8f8551a2c93a733053.jpg  \n",
            " extracting: train/images/BikesHelmets62_png_jpg.rf.95b1b35563b9445b2e2ec1517ea2f769.jpg  \n",
            " extracting: train/images/BikesHelmets632_png_jpg.rf.17cc0a0d9cfd4f7a98fe58d61e2e8661.jpg  \n",
            " extracting: train/images/BikesHelmets632_png_jpg.rf.2ca2eeda4b7eca6be87ba6cacda51e44.jpg  \n",
            " extracting: train/images/BikesHelmets632_png_jpg.rf.3cfdd9f6f494339ffb21b94d29e5ebfc.jpg  \n",
            " extracting: train/images/BikesHelmets632_png_jpg.rf.54a4f8f1ab36550d24f70dfd5a68de41.jpg  \n",
            " extracting: train/images/BikesHelmets632_png_jpg.rf.803a9cf5f2a050310035ec8b0cc5a0db.jpg  \n",
            " extracting: train/images/BikesHelmets632_png_jpg.rf.8a54915ad720cd09c06ae4ec154faae6.jpg  \n",
            " extracting: train/images/BikesHelmets632_png_jpg.rf.a0205b3e6bab3a742a373328b0698999.jpg  \n",
            " extracting: train/images/BikesHelmets632_png_jpg.rf.c748aa70d7838ffc46c53ef6f9609e85.jpg  \n",
            " extracting: train/images/BikesHelmets632_png_jpg.rf.e20d037c770fba7f191c9cebc23cb216.jpg  \n",
            " extracting: train/images/BikesHelmets639_png_jpg.rf.0c0af0960d551c7dc5289dad6a8e2fb2.jpg  \n",
            " extracting: train/images/BikesHelmets639_png_jpg.rf.100461af2a4c4c855cd0a328f262b608.jpg  \n",
            " extracting: train/images/BikesHelmets639_png_jpg.rf.203618891db3d87c13c9903030e93cb4.jpg  \n",
            " extracting: train/images/BikesHelmets639_png_jpg.rf.2061e8801679b7fc3dca1d61b2b454f8.jpg  \n",
            " extracting: train/images/BikesHelmets639_png_jpg.rf.2ec2c6d3ffffb492660f1780467a481e.jpg  \n",
            " extracting: train/images/BikesHelmets639_png_jpg.rf.6d6ed6495716979941831a4dc745a9ee.jpg  \n",
            " extracting: train/images/BikesHelmets639_png_jpg.rf.9ee5652b888d21c2d5a0af78ea18af7a.jpg  \n",
            " extracting: train/images/BikesHelmets639_png_jpg.rf.a14ef26fec4855567d7a609ded659cf7.jpg  \n",
            " extracting: train/images/BikesHelmets639_png_jpg.rf.a88c7415bf7cc8bb4864593f91b1346a.jpg  \n",
            " extracting: train/images/BikesHelmets63_png_jpg.rf.2d4ed64fedb066ccb3e31a37a361a6cf.jpg  \n",
            " extracting: train/images/BikesHelmets63_png_jpg.rf.3492b7b004db34fdedfee6f4e207e0ed.jpg  \n",
            " extracting: train/images/BikesHelmets63_png_jpg.rf.7db5d9e4bd36130266d3cf337a7284b7.jpg  \n",
            " extracting: train/images/BikesHelmets63_png_jpg.rf.83623087eded9f5e2db524c17f36210a.jpg  \n",
            " extracting: train/images/BikesHelmets63_png_jpg.rf.966bbab456e367ae70bb913fa8824ab9.jpg  \n",
            " extracting: train/images/BikesHelmets63_png_jpg.rf.bafe26e727c8bfb33e5c11f8c81413d5.jpg  \n",
            " extracting: train/images/BikesHelmets63_png_jpg.rf.bbb8633ecc8bdbe605acd2676f4b4d52.jpg  \n",
            " extracting: train/images/BikesHelmets63_png_jpg.rf.d524c37d0fe7feee8f64237d0bff7ba9.jpg  \n",
            " extracting: train/images/BikesHelmets63_png_jpg.rf.fb953f364b4faa1df70403d0d767e200.jpg  \n",
            " extracting: train/images/BikesHelmets640_png_jpg.rf.0911003bae82fbff16a4a08251d0b651.jpg  \n",
            " extracting: train/images/BikesHelmets640_png_jpg.rf.287bce908fc0143cb5eaf70592d62881.jpg  \n",
            " extracting: train/images/BikesHelmets640_png_jpg.rf.4f6801e4e269b7fad3129e6db17be542.jpg  \n",
            " extracting: train/images/BikesHelmets640_png_jpg.rf.6028f5873093afcc654595df50b40a5f.jpg  \n",
            " extracting: train/images/BikesHelmets640_png_jpg.rf.73354410b1363e12861d55034e913ce3.jpg  \n",
            " extracting: train/images/BikesHelmets640_png_jpg.rf.91958e657467fd2ec9d45d8f24906373.jpg  \n",
            " extracting: train/images/BikesHelmets640_png_jpg.rf.b9833a3a5260b4fa92355cce482a3edc.jpg  \n",
            " extracting: train/images/BikesHelmets640_png_jpg.rf.befdff6d2d6024abc77d479f7d1dd23c.jpg  \n",
            " extracting: train/images/BikesHelmets640_png_jpg.rf.dd0630d6028ec27a0f33f177ae59b898.jpg  \n",
            " extracting: train/images/BikesHelmets641_png_jpg.rf.16ed151a1953a050fc08ea8ef7bf7503.jpg  \n",
            " extracting: train/images/BikesHelmets641_png_jpg.rf.3da07427d496c0ed5aeb862e374b3ab9.jpg  \n",
            " extracting: train/images/BikesHelmets641_png_jpg.rf.5ba4ab35102da25fdab1e15ff43f0b51.jpg  \n",
            " extracting: train/images/BikesHelmets641_png_jpg.rf.8353f8c3510a65d9e066a5e73fd59c9e.jpg  \n",
            " extracting: train/images/BikesHelmets641_png_jpg.rf.e7b264ca07cf229b7751c5da8957009d.jpg  \n",
            " extracting: train/images/BikesHelmets641_png_jpg.rf.ebeb224fff07d3d6b0773d63d5e9f665.jpg  \n",
            " extracting: train/images/BikesHelmets642_png_jpg.rf.0d4f672e5d848f685b115bf4cbd76dea.jpg  \n",
            " extracting: train/images/BikesHelmets642_png_jpg.rf.0f2d5f18015c3ceb93642a15955a42ac.jpg  \n",
            " extracting: train/images/BikesHelmets642_png_jpg.rf.13b15c798dca6b10f406251b74a59514.jpg  \n",
            " extracting: train/images/BikesHelmets642_png_jpg.rf.1895e3b5c3f38bc9140590238c3f164d.jpg  \n",
            " extracting: train/images/BikesHelmets642_png_jpg.rf.3b44768bb6dd90cd691f8244e561eff0.jpg  \n",
            " extracting: train/images/BikesHelmets642_png_jpg.rf.6c0f584eead36cad8da771923d215ed8.jpg  \n",
            " extracting: train/images/BikesHelmets642_png_jpg.rf.776565bed4a7b8b41cbf2a6e2b059731.jpg  \n",
            " extracting: train/images/BikesHelmets642_png_jpg.rf.85bc7e80cf9f378d5bc66ab35b9c68f1.jpg  \n",
            " extracting: train/images/BikesHelmets642_png_jpg.rf.8bb5b15e8cef30feceac0f7694aed839.jpg  \n",
            " extracting: train/images/BikesHelmets645_png_jpg.rf.0dd6c426953861066f47710fc1c65613.jpg  \n",
            " extracting: train/images/BikesHelmets645_png_jpg.rf.0f2a338fa4c9d87561f6d508f62ef513.jpg  \n",
            " extracting: train/images/BikesHelmets645_png_jpg.rf.45cde5802850c9295fcf64ac9502f630.jpg  \n",
            " extracting: train/images/BikesHelmets645_png_jpg.rf.8eb3fbf5155abd1be1fed88d2b6eb046.jpg  \n",
            " extracting: train/images/BikesHelmets645_png_jpg.rf.af5c34fdbc375f7aa97f2d71769c4faa.jpg  \n",
            " extracting: train/images/BikesHelmets645_png_jpg.rf.ba0aeb2c457eeab7d4d108fe22880235.jpg  \n",
            " extracting: train/images/BikesHelmets646_png_jpg.rf.060054cfd6455080b97db3e271fe9799.jpg  \n",
            " extracting: train/images/BikesHelmets646_png_jpg.rf.37bee9eba87b1d4e78d50fa9e04983a7.jpg  \n",
            " extracting: train/images/BikesHelmets646_png_jpg.rf.44a14ea5af27c93b47bb64efe88b307b.jpg  \n",
            " extracting: train/images/BikesHelmets646_png_jpg.rf.4bc54e513ab37bf05f77d91c56c2efbb.jpg  \n",
            " extracting: train/images/BikesHelmets646_png_jpg.rf.6208beafebe3f4ff40f09a0c2433d340.jpg  \n",
            " extracting: train/images/BikesHelmets646_png_jpg.rf.7be746df7e2321d3208bc5ab39c1f8d8.jpg  \n",
            " extracting: train/images/BikesHelmets646_png_jpg.rf.8b834176fd7d45229124fcfd1a3c47b0.jpg  \n",
            " extracting: train/images/BikesHelmets646_png_jpg.rf.91fff85eeaf74cc33905d653977b9727.jpg  \n",
            " extracting: train/images/BikesHelmets646_png_jpg.rf.ee59df6e14c9947aa589010f9a068edf.jpg  \n",
            " extracting: train/images/BikesHelmets648_png_jpg.rf.25dc4022f385a1991983d026168766ae.jpg  \n",
            " extracting: train/images/BikesHelmets648_png_jpg.rf.45fbace39f954ad852b6f8156647000c.jpg  \n",
            " extracting: train/images/BikesHelmets648_png_jpg.rf.85c5c888ce23752c07364ee658cdf8c1.jpg  \n",
            " extracting: train/images/BikesHelmets648_png_jpg.rf.86ad1985633704eb59c40c469326ec42.jpg  \n",
            " extracting: train/images/BikesHelmets648_png_jpg.rf.ad73dd16075ee3a980e51d7eea192c83.jpg  \n",
            " extracting: train/images/BikesHelmets648_png_jpg.rf.c33b591309a3f12dd93e1de55c45732a.jpg  \n",
            " extracting: train/images/BikesHelmets648_png_jpg.rf.e1c512dc8b244988dbb1623239691d48.jpg  \n",
            " extracting: train/images/BikesHelmets648_png_jpg.rf.e6b30359bea88fd2b583b037a83987c4.jpg  \n",
            " extracting: train/images/BikesHelmets648_png_jpg.rf.ec2a17d613ddd130e79f3a9281e60365.jpg  \n",
            " extracting: train/images/BikesHelmets649_png_jpg.rf.145cb49f492f8e0c2c613ec7d76a2f72.jpg  \n",
            " extracting: train/images/BikesHelmets649_png_jpg.rf.186a04b0740c62ebc5104445679135b4.jpg  \n",
            " extracting: train/images/BikesHelmets649_png_jpg.rf.3691d2f7b508266735925c1b758f4361.jpg  \n",
            " extracting: train/images/BikesHelmets649_png_jpg.rf.5f0abd1896d7024cef18ae36aad2c0ba.jpg  \n",
            " extracting: train/images/BikesHelmets649_png_jpg.rf.968b56b222d246f580d5084e57816937.jpg  \n",
            " extracting: train/images/BikesHelmets649_png_jpg.rf.b54d0eccf09a253cb849d741539a5f7d.jpg  \n",
            " extracting: train/images/BikesHelmets649_png_jpg.rf.b94a22741d3c02a1c2116ecf3a5272db.jpg  \n",
            " extracting: train/images/BikesHelmets649_png_jpg.rf.df74cad9405368bc65f01b17132db306.jpg  \n",
            " extracting: train/images/BikesHelmets649_png_jpg.rf.e834033b2a416517cc962e3a46a9e262.jpg  \n",
            " extracting: train/images/BikesHelmets64_png_jpg.rf.010cea122a4dbad1b147ce0c40dcf3df.jpg  \n",
            " extracting: train/images/BikesHelmets64_png_jpg.rf.01915ebdeb5eb44a435a95bbad0fbe12.jpg  \n",
            " extracting: train/images/BikesHelmets64_png_jpg.rf.059fdf66f66bb4fa4d8600fb8783ff09.jpg  \n",
            " extracting: train/images/BikesHelmets64_png_jpg.rf.2b35e730c38d0dde492f1582b3ea4aac.jpg  \n",
            " extracting: train/images/BikesHelmets64_png_jpg.rf.8bd45101c05975ab0960434c273800ce.jpg  \n",
            " extracting: train/images/BikesHelmets64_png_jpg.rf.8d9304b81dc9482ef80bda563444b2f9.jpg  \n",
            " extracting: train/images/BikesHelmets64_png_jpg.rf.b5ca2843d186b7df53aa292c14f3040a.jpg  \n",
            " extracting: train/images/BikesHelmets64_png_jpg.rf.b7b77165fba37e135e6a6fe0b3ce9380.jpg  \n",
            " extracting: train/images/BikesHelmets64_png_jpg.rf.e2a6a74a7c054a6dd74766b63994d9fc.jpg  \n",
            " extracting: train/images/BikesHelmets650_png_jpg.rf.15537de33b66aa45c73411ed5a8b6c98.jpg  \n",
            " extracting: train/images/BikesHelmets650_png_jpg.rf.206f99d142079fd5ba62678885ecabb9.jpg  \n",
            " extracting: train/images/BikesHelmets650_png_jpg.rf.29c2d17c4b5f6378cb965e86eb3f455a.jpg  \n",
            " extracting: train/images/BikesHelmets650_png_jpg.rf.3505ab4aab9e497c8e1e8c2c99d2f257.jpg  \n",
            " extracting: train/images/BikesHelmets650_png_jpg.rf.3e9565dd2075ff9a4584d94a1d737578.jpg  \n",
            " extracting: train/images/BikesHelmets650_png_jpg.rf.a24e8b9ebe284b47042da9f2ef969728.jpg  \n",
            " extracting: train/images/BikesHelmets651_png_jpg.rf.122c746caf4455b78f873556162f2f1f.jpg  \n",
            " extracting: train/images/BikesHelmets651_png_jpg.rf.68b8ece87b7e88ce673c298e197d817c.jpg  \n",
            " extracting: train/images/BikesHelmets651_png_jpg.rf.7106a38479409c6e27279d15ae7a59ea.jpg  \n",
            " extracting: train/images/BikesHelmets651_png_jpg.rf.790a8fc00d379635a9663195b172d319.jpg  \n",
            " extracting: train/images/BikesHelmets651_png_jpg.rf.8041da15b713a8327c10f8699c2d5c68.jpg  \n",
            " extracting: train/images/BikesHelmets651_png_jpg.rf.ab403b878c006d998db429418d38d24e.jpg  \n",
            " extracting: train/images/BikesHelmets651_png_jpg.rf.b83296fd7a27cc6af5f90e5f240b83a4.jpg  \n",
            " extracting: train/images/BikesHelmets651_png_jpg.rf.d234450f53a9f1d04d25e7e568256659.jpg  \n",
            " extracting: train/images/BikesHelmets651_png_jpg.rf.ecf62cdf413d53a493f2b37c54144940.jpg  \n",
            " extracting: train/images/BikesHelmets652_png_jpg.rf.219d65161a204c428eba0ea96fca03c2.jpg  \n",
            " extracting: train/images/BikesHelmets652_png_jpg.rf.6666a99bbaad8aa98a31338c44c3c99b.jpg  \n",
            " extracting: train/images/BikesHelmets652_png_jpg.rf.774ab8d3eb3faff494c4438e92616639.jpg  \n",
            " extracting: train/images/BikesHelmets652_png_jpg.rf.ac987a96c81a35ebb0ec82cda84c6a4f.jpg  \n",
            " extracting: train/images/BikesHelmets652_png_jpg.rf.b0b728c4ec005d8e18aeeddd96f7595d.jpg  \n",
            " extracting: train/images/BikesHelmets652_png_jpg.rf.d2e1a42470ae4f0435d0b28a346b7ecb.jpg  \n",
            " extracting: train/images/BikesHelmets652_png_jpg.rf.e5d9696dca77a108d1e7acf2b0d7fc66.jpg  \n",
            " extracting: train/images/BikesHelmets652_png_jpg.rf.e8b9aeae0954c34c5ec08b2743523dcc.jpg  \n",
            " extracting: train/images/BikesHelmets652_png_jpg.rf.e8d42d49bed18d1c8671bf562e777017.jpg  \n",
            " extracting: train/images/BikesHelmets654_png_jpg.rf.2b9cf987a7be5b37f70daf0132dcc3bc.jpg  \n",
            " extracting: train/images/BikesHelmets654_png_jpg.rf.3db695de6f2b04645b09a9885f1cc94e.jpg  \n",
            " extracting: train/images/BikesHelmets654_png_jpg.rf.86ccef07a517d2b2e0f02d45eff29e84.jpg  \n",
            " extracting: train/images/BikesHelmets654_png_jpg.rf.9b56a66396287a5ac0ca3a311f6fc455.jpg  \n",
            " extracting: train/images/BikesHelmets654_png_jpg.rf.d3d9155af28aab4df659d6f6eeb59ceb.jpg  \n",
            " extracting: train/images/BikesHelmets654_png_jpg.rf.d6905bd27102c2fe14176ee498fe7c66.jpg  \n",
            " extracting: train/images/BikesHelmets655_png_jpg.rf.28d0e669a26414fa3d2d07a1e6092cc1.jpg  \n",
            " extracting: train/images/BikesHelmets655_png_jpg.rf.3a5af08719af952569f758ad8b85e23a.jpg  \n",
            " extracting: train/images/BikesHelmets655_png_jpg.rf.4c9a37418e6a1ba97c23bc3bb8ea34cd.jpg  \n",
            " extracting: train/images/BikesHelmets655_png_jpg.rf.59de5fcf616645be41369f74fcdf3f0d.jpg  \n",
            " extracting: train/images/BikesHelmets655_png_jpg.rf.6562649b82e2deb82b3bbb0ceaf28bc3.jpg  \n",
            " extracting: train/images/BikesHelmets655_png_jpg.rf.e80eef8c76ef100b8f545b40e01d9fb9.jpg  \n",
            " extracting: train/images/BikesHelmets656_png_jpg.rf.1b61ee8fa2c17513880af617ecdbd4be.jpg  \n",
            " extracting: train/images/BikesHelmets656_png_jpg.rf.2797ab9a4bbc702e9dc45965a6b2ef5e.jpg  \n",
            " extracting: train/images/BikesHelmets656_png_jpg.rf.2ef6427cf70b22b9f9f04962772788f0.jpg  \n",
            " extracting: train/images/BikesHelmets656_png_jpg.rf.3cce8c6bb353b774fcf91b958797944b.jpg  \n",
            " extracting: train/images/BikesHelmets656_png_jpg.rf.708b2354186436e2e34709dd4527071c.jpg  \n",
            " extracting: train/images/BikesHelmets656_png_jpg.rf.72d922346809ce001e2e5ed267386a70.jpg  \n",
            " extracting: train/images/BikesHelmets656_png_jpg.rf.80fa940fd7438508fd1330acbe0514a8.jpg  \n",
            " extracting: train/images/BikesHelmets656_png_jpg.rf.aa8b175007c64f0cb7f41dd28131368f.jpg  \n",
            " extracting: train/images/BikesHelmets656_png_jpg.rf.af426c92034b4f9212d84c90b44a381d.jpg  \n",
            " extracting: train/images/BikesHelmets657_png_jpg.rf.144cadd0f2647dd6551087f9e7ad15a4.jpg  \n",
            " extracting: train/images/BikesHelmets657_png_jpg.rf.3f234a0031c0fbf8f13ab073308fef93.jpg  \n",
            " extracting: train/images/BikesHelmets657_png_jpg.rf.64302b0c6bf4887eeb70cf66e59fd9ce.jpg  \n",
            " extracting: train/images/BikesHelmets657_png_jpg.rf.7befdfd60184c1c9ace7e6efae2f6c2d.jpg  \n",
            " extracting: train/images/BikesHelmets657_png_jpg.rf.86e127c5009f1041df2bc3e82df40eda.jpg  \n",
            " extracting: train/images/BikesHelmets657_png_jpg.rf.c9ddab8d976dea1a362497d771ab61db.jpg  \n",
            " extracting: train/images/BikesHelmets657_png_jpg.rf.cb131a9d47b1cdc06a428eee9df07783.jpg  \n",
            " extracting: train/images/BikesHelmets657_png_jpg.rf.dc7f2d077f240712317ce9d77c696f70.jpg  \n",
            " extracting: train/images/BikesHelmets657_png_jpg.rf.e680350ef4031326c09583057b6d9fd8.jpg  \n",
            " extracting: train/images/BikesHelmets659_png_jpg.rf.0314882d3e89e02aa42f765227d4b104.jpg  \n",
            " extracting: train/images/BikesHelmets659_png_jpg.rf.64cb94507cc5f2529a5bb270b0e9be6b.jpg  \n",
            " extracting: train/images/BikesHelmets659_png_jpg.rf.697a711efafd38b1e005d5c6b068ae3d.jpg  \n",
            " extracting: train/images/BikesHelmets659_png_jpg.rf.87fe1ec37698a281f0997fada8b82826.jpg  \n",
            " extracting: train/images/BikesHelmets659_png_jpg.rf.b59b60ee87bfd2eb7eec1a9e23b0bd00.jpg  \n",
            " extracting: train/images/BikesHelmets659_png_jpg.rf.df4785a92bd4cb7791e3e4d0be877a7b.jpg  \n",
            " extracting: train/images/BikesHelmets65_png_jpg.rf.2696999688686425d26fbb6906fc3f10.jpg  \n",
            " extracting: train/images/BikesHelmets65_png_jpg.rf.32b511a3a410817575ee3c3fa168b21d.jpg  \n",
            " extracting: train/images/BikesHelmets65_png_jpg.rf.6742f53e80c2b958c1fa12ab2744e90a.jpg  \n",
            " extracting: train/images/BikesHelmets65_png_jpg.rf.71db1f93ca73733f0ef2a2b5b0fe34b2.jpg  \n",
            " extracting: train/images/BikesHelmets65_png_jpg.rf.8306f47b2ce786964910857b98e58b12.jpg  \n",
            " extracting: train/images/BikesHelmets65_png_jpg.rf.ab1745a27ffc8cde57a5865afb1bc2c6.jpg  \n",
            " extracting: train/images/BikesHelmets65_png_jpg.rf.b4f70ef4b871d5f7d6337e062a59832a.jpg  \n",
            " extracting: train/images/BikesHelmets65_png_jpg.rf.bc72c0c59bf704194f9ac84cf3e84c84.jpg  \n",
            " extracting: train/images/BikesHelmets65_png_jpg.rf.eded5ea4b6a9671c271eea275e6fc14c.jpg  \n",
            " extracting: train/images/BikesHelmets660_png_jpg.rf.1a46d66c6e318d61e4247f2faacd797b.jpg  \n",
            " extracting: train/images/BikesHelmets660_png_jpg.rf.3e054406bdb7ce322d69ed3940690c5c.jpg  \n",
            " extracting: train/images/BikesHelmets660_png_jpg.rf.470d152d6b13c032fda408ae82435fbf.jpg  \n",
            " extracting: train/images/BikesHelmets660_png_jpg.rf.90cd4bc99cef0a3e97e065bbd9237809.jpg  \n",
            " extracting: train/images/BikesHelmets660_png_jpg.rf.9577b5eb92432ad41206e2413eae32c6.jpg  \n",
            " extracting: train/images/BikesHelmets660_png_jpg.rf.9dc3806c49cf481c42aed6d514fc9102.jpg  \n",
            " extracting: train/images/BikesHelmets660_png_jpg.rf.a11a2f1f73c18d85e1464ab15a187b1c.jpg  \n",
            " extracting: train/images/BikesHelmets660_png_jpg.rf.ad37128dae7804e37b353315941e5735.jpg  \n",
            " extracting: train/images/BikesHelmets660_png_jpg.rf.c4a67fab330df6223960abd1a498e5a9.jpg  \n",
            " extracting: train/images/BikesHelmets662_png_jpg.rf.6169901c0b27e34bff3ac5955a0c4a50.jpg  \n",
            " extracting: train/images/BikesHelmets662_png_jpg.rf.6cbb9c4ca08beb9b2d7b500162f4b80f.jpg  \n",
            " extracting: train/images/BikesHelmets662_png_jpg.rf.714c0dadf6348c485750adb4300a717a.jpg  \n",
            " extracting: train/images/BikesHelmets662_png_jpg.rf.7baad982ee8ab7aded92cd914ac2c253.jpg  \n",
            " extracting: train/images/BikesHelmets662_png_jpg.rf.95af533aebb95977c70698723f0770e9.jpg  \n",
            " extracting: train/images/BikesHelmets662_png_jpg.rf.b93be5a6274173eedc7c8d1d93850c51.jpg  \n",
            " extracting: train/images/BikesHelmets662_png_jpg.rf.c0740413e595b14b23f62ac3569b7cb8.jpg  \n",
            " extracting: train/images/BikesHelmets662_png_jpg.rf.c5a728ed4f732c03a0160a1923a48aaa.jpg  \n",
            " extracting: train/images/BikesHelmets662_png_jpg.rf.ef25c1206ce8d90a83150291a13e9a88.jpg  \n",
            " extracting: train/images/BikesHelmets665_png_jpg.rf.081e944953dc22c39ddc5e5f717a0004.jpg  \n",
            " extracting: train/images/BikesHelmets665_png_jpg.rf.33a26a9d6db0fa0ccc5f66cad6998d95.jpg  \n",
            " extracting: train/images/BikesHelmets665_png_jpg.rf.589af91d7c4fa639bd4d6b756c09ac84.jpg  \n",
            " extracting: train/images/BikesHelmets665_png_jpg.rf.98ebadd1e7c85c957aaa7a14eb74d108.jpg  \n",
            " extracting: train/images/BikesHelmets665_png_jpg.rf.c5dbca9938b5d6101c223fdd13fd7e3f.jpg  \n",
            " extracting: train/images/BikesHelmets665_png_jpg.rf.d6057a1283df76533d7d0fd901982217.jpg  \n",
            " extracting: train/images/BikesHelmets665_png_jpg.rf.e23fcc4c11c2c0d3e7bb7f187989e10f.jpg  \n",
            " extracting: train/images/BikesHelmets665_png_jpg.rf.e5cebdeb9c809898c547040e2a6ac22f.jpg  \n",
            " extracting: train/images/BikesHelmets665_png_jpg.rf.f5d6c80a2eb4b6591eee33908c89d053.jpg  \n",
            " extracting: train/images/BikesHelmets66_png_jpg.rf.09bb37a1f22ea730a7b2cb179651e487.jpg  \n",
            " extracting: train/images/BikesHelmets66_png_jpg.rf.0e29b6c717b887722a4d8cbbaffe83c0.jpg  \n",
            " extracting: train/images/BikesHelmets66_png_jpg.rf.4b68aa609f2e3302908bc477530344f6.jpg  \n",
            " extracting: train/images/BikesHelmets66_png_jpg.rf.51dcbf328d70b8bf0ce114f0529ae5cd.jpg  \n",
            " extracting: train/images/BikesHelmets66_png_jpg.rf.5e220aaefcca69fa2545cf86f8070300.jpg  \n",
            " extracting: train/images/BikesHelmets66_png_jpg.rf.8517f4db7f066adf06bc7751bcadaca8.jpg  \n",
            " extracting: train/images/BikesHelmets66_png_jpg.rf.b2061f7c103bf2371976192f585620b0.jpg  \n",
            " extracting: train/images/BikesHelmets66_png_jpg.rf.d506e342d4a5f533704f3e65b4da6097.jpg  \n",
            " extracting: train/images/BikesHelmets66_png_jpg.rf.ec7046ad3def9a66c891dc412d41478b.jpg  \n",
            " extracting: train/images/BikesHelmets670_png_jpg.rf.1c03e15e5ef16934bb8b777977988bc3.jpg  \n",
            " extracting: train/images/BikesHelmets670_png_jpg.rf.3eb7206d63c6473d7c72d70af444fb3c.jpg  \n",
            " extracting: train/images/BikesHelmets670_png_jpg.rf.4b183e98bbb54bc083e91aff549aa502.jpg  \n",
            " extracting: train/images/BikesHelmets670_png_jpg.rf.540fb4f748820846c3d0a97ba0961d51.jpg  \n",
            " extracting: train/images/BikesHelmets670_png_jpg.rf.7e39e793a5a52bc3b3b0da07bf353924.jpg  \n",
            " extracting: train/images/BikesHelmets670_png_jpg.rf.80189b5deb049695ab9e87bc3237c9a4.jpg  \n",
            " extracting: train/images/BikesHelmets670_png_jpg.rf.d4bf66af21d1681126f061744d34d799.jpg  \n",
            " extracting: train/images/BikesHelmets670_png_jpg.rf.e51bcbfde66bf5566d2639e0d8ff31c2.jpg  \n",
            " extracting: train/images/BikesHelmets670_png_jpg.rf.f4794f6c06aa0537ffd370ca6c88cee8.jpg  \n",
            " extracting: train/images/BikesHelmets672_png_jpg.rf.1c7e63f7b10b251b01a7e2afdc98c6cf.jpg  \n",
            " extracting: train/images/BikesHelmets672_png_jpg.rf.20d05e6d351dd78e0bcde176c851ef6f.jpg  \n",
            " extracting: train/images/BikesHelmets672_png_jpg.rf.2c482d3ac5ff9f67939572cfda960750.jpg  \n",
            " extracting: train/images/BikesHelmets672_png_jpg.rf.360da1f435aed5d521179e2e7a180e99.jpg  \n",
            " extracting: train/images/BikesHelmets672_png_jpg.rf.6bc76d3abb0de68506f09c2f8d73fbdd.jpg  \n",
            " extracting: train/images/BikesHelmets672_png_jpg.rf.8daebc5c0b0caba71edf5bedb306aeeb.jpg  \n",
            " extracting: train/images/BikesHelmets672_png_jpg.rf.ae00c7237f71f08aca0f00732e5f3e06.jpg  \n",
            " extracting: train/images/BikesHelmets672_png_jpg.rf.b4b656be178d7005fef97e6b9accbb8b.jpg  \n",
            " extracting: train/images/BikesHelmets672_png_jpg.rf.ff15ecdfb11521dd8cc7e084eadf71bd.jpg  \n",
            " extracting: train/images/BikesHelmets675_png_jpg.rf.2991b0f9345029d82602ebe292d57df3.jpg  \n",
            " extracting: train/images/BikesHelmets675_png_jpg.rf.3943abb2c084ee114ccf39604b3a32af.jpg  \n",
            " extracting: train/images/BikesHelmets675_png_jpg.rf.500fecd76ff4ed91f944d635d10a7cc7.jpg  \n",
            " extracting: train/images/BikesHelmets675_png_jpg.rf.7a13e7feb75ec630cc27f1fcc0e415c7.jpg  \n",
            " extracting: train/images/BikesHelmets675_png_jpg.rf.7f0fca51dd78bf61d07fc11c5a66ef4a.jpg  \n",
            " extracting: train/images/BikesHelmets675_png_jpg.rf.7f6d24db4f8f23f17dd5c57ff7d733ed.jpg  \n",
            " extracting: train/images/BikesHelmets675_png_jpg.rf.85b29a0a447d4bc6b0d0b437ea0e00d0.jpg  \n",
            " extracting: train/images/BikesHelmets675_png_jpg.rf.e1d66a60ff97d5b4e76482b92d7d9f0a.jpg  \n",
            " extracting: train/images/BikesHelmets675_png_jpg.rf.f61e9fd8a7fad91c08b3ea40bad9caba.jpg  \n",
            " extracting: train/images/BikesHelmets676_png_jpg.rf.047526b2c80e3691f685a714e4cc3c11.jpg  \n",
            " extracting: train/images/BikesHelmets676_png_jpg.rf.14d5f7e77961fffc82e0bb7c8b033994.jpg  \n",
            " extracting: train/images/BikesHelmets676_png_jpg.rf.18b412dda5ab3569602c000e0a7323de.jpg  \n",
            " extracting: train/images/BikesHelmets676_png_jpg.rf.516f3d74e6f3c378b64fbf2ddb980b93.jpg  \n",
            " extracting: train/images/BikesHelmets676_png_jpg.rf.7a33699ff4e7526ce6e1ca33c5df43a0.jpg  \n",
            " extracting: train/images/BikesHelmets676_png_jpg.rf.91f5fc80f2fdb1fcdeb18556ebf5b5ae.jpg  \n",
            " extracting: train/images/BikesHelmets676_png_jpg.rf.99cda1c9bfac06abea1b7f5568574f76.jpg  \n",
            " extracting: train/images/BikesHelmets676_png_jpg.rf.b1560026c33e0d427f04295ee612c31d.jpg  \n",
            " extracting: train/images/BikesHelmets676_png_jpg.rf.c2b191f125f5e77a6477f7aa1a94b396.jpg  \n",
            " extracting: train/images/BikesHelmets677_png_jpg.rf.2e858d37b2c341b1804416d8aea6aa0d.jpg  \n",
            " extracting: train/images/BikesHelmets677_png_jpg.rf.33c3a0de31ab55435520941de27593d5.jpg  \n",
            " extracting: train/images/BikesHelmets677_png_jpg.rf.4b3def262a4412897c6753c444ee547a.jpg  \n",
            " extracting: train/images/BikesHelmets677_png_jpg.rf.7cc8c05950b5e0f60bbf9231837fa94c.jpg  \n",
            " extracting: train/images/BikesHelmets677_png_jpg.rf.8332f2dcbce4387c7ca5a83e92b4ae4f.jpg  \n",
            " extracting: train/images/BikesHelmets677_png_jpg.rf.b7a2bffc047e2069bb1f02413257354a.jpg  \n",
            " extracting: train/images/BikesHelmets677_png_jpg.rf.e02e4fcf7aca34547e931ee91c9e4483.jpg  \n",
            " extracting: train/images/BikesHelmets677_png_jpg.rf.e38d62c7b2ff5c9a4d8ef51dcfd746c5.jpg  \n",
            " extracting: train/images/BikesHelmets677_png_jpg.rf.ec648553fe8cd753fc86d928d97e1575.jpg  \n",
            " extracting: train/images/BikesHelmets678_png_jpg.rf.1b8aa439f19ca5249e852d561e28df1d.jpg  \n",
            " extracting: train/images/BikesHelmets678_png_jpg.rf.31d533b18c758d782a65ba4022e9ef83.jpg  \n",
            " extracting: train/images/BikesHelmets678_png_jpg.rf.5ad4c4c4df61266bf0a9293e96a8ce6c.jpg  \n",
            " extracting: train/images/BikesHelmets678_png_jpg.rf.7de3307492a3157b12e73c6aa3e74a25.jpg  \n",
            " extracting: train/images/BikesHelmets678_png_jpg.rf.df739d27f38e9379f91d20ee30dc4b19.jpg  \n",
            " extracting: train/images/BikesHelmets678_png_jpg.rf.f7f691773545b9e45c481526fc0b4c99.jpg  \n",
            " extracting: train/images/BikesHelmets67_png_jpg.rf.53810362d96aa3374f5da2dbed3f95ca.jpg  \n",
            " extracting: train/images/BikesHelmets67_png_jpg.rf.548a136471da09b4d5813449cd626c95.jpg  \n",
            " extracting: train/images/BikesHelmets67_png_jpg.rf.5c25c49c4623904a58d7587b7faaa181.jpg  \n",
            " extracting: train/images/BikesHelmets67_png_jpg.rf.821929ee15cb5ba6c1c9b9c3d586206d.jpg  \n",
            " extracting: train/images/BikesHelmets67_png_jpg.rf.c2776c41bdf9d6f33f33b60d2afb66cc.jpg  \n",
            " extracting: train/images/BikesHelmets67_png_jpg.rf.eb888fe9fce509fd6e3a2035f58c677a.jpg  \n",
            " extracting: train/images/BikesHelmets680_png_jpg.rf.03dae7aee7221f7f8c3cec1c9b3da411.jpg  \n",
            " extracting: train/images/BikesHelmets680_png_jpg.rf.0455a3c10f7f09b530527fc09766a8d2.jpg  \n",
            " extracting: train/images/BikesHelmets680_png_jpg.rf.0a5e7ae8bd8adf444c6601bb62c0726d.jpg  \n",
            " extracting: train/images/BikesHelmets680_png_jpg.rf.1e7efcd4fe3ea04e3e621aa638951ce9.jpg  \n",
            " extracting: train/images/BikesHelmets680_png_jpg.rf.2d4e474a7e8e97be6f6775a4ef620190.jpg  \n",
            " extracting: train/images/BikesHelmets680_png_jpg.rf.c98debe4ffb384f6d58baa96e79253af.jpg  \n",
            " extracting: train/images/BikesHelmets680_png_jpg.rf.d943e83895fc83f7b8f3a6bdeebeee31.jpg  \n",
            " extracting: train/images/BikesHelmets680_png_jpg.rf.eacddc4888e6b08cac654f8ef194e3a7.jpg  \n",
            " extracting: train/images/BikesHelmets680_png_jpg.rf.fdc46315e5257010b0bece1cc406c528.jpg  \n",
            " extracting: train/images/BikesHelmets683_png_jpg.rf.1b2fce5715a1dc2fa2d43d4198ea3883.jpg  \n",
            " extracting: train/images/BikesHelmets683_png_jpg.rf.23ee874ab3dbe65dccb3d0844f0625c5.jpg  \n",
            " extracting: train/images/BikesHelmets683_png_jpg.rf.341d95a09711ccfbffda07b29897bf9c.jpg  \n",
            " extracting: train/images/BikesHelmets683_png_jpg.rf.6e9ddee8f8f2494f076395769785d534.jpg  \n",
            " extracting: train/images/BikesHelmets683_png_jpg.rf.8cf84a630e16340eea0ba33f1b66c230.jpg  \n",
            " extracting: train/images/BikesHelmets683_png_jpg.rf.97350bc0a547037586aef4c842b22964.jpg  \n",
            " extracting: train/images/BikesHelmets683_png_jpg.rf.b680791c2a89fcf250046922436f3f4a.jpg  \n",
            " extracting: train/images/BikesHelmets683_png_jpg.rf.cb41d1739d99aa84196d52d53d7e52dc.jpg  \n",
            " extracting: train/images/BikesHelmets683_png_jpg.rf.d3cfec518bbcf557001e323e091aa36d.jpg  \n",
            " extracting: train/images/BikesHelmets684_png_jpg.rf.0c79055696beda28353e5700db76fa9b.jpg  \n",
            " extracting: train/images/BikesHelmets684_png_jpg.rf.4cfffb881ff3e9391f6e2b6cb949a932.jpg  \n",
            " extracting: train/images/BikesHelmets684_png_jpg.rf.5a29084b8701c9d416aaa019ede759a3.jpg  \n",
            " extracting: train/images/BikesHelmets684_png_jpg.rf.79e97d65d6b265438b06e182a1159ebb.jpg  \n",
            " extracting: train/images/BikesHelmets684_png_jpg.rf.880a419edaf54eb3fa84e3abc00c4c51.jpg  \n",
            " extracting: train/images/BikesHelmets684_png_jpg.rf.8d4724671eb34b63fca7016ec70c8a36.jpg  \n",
            " extracting: train/images/BikesHelmets685_png_jpg.rf.5fb8e9c007aea9dcb4d057c7335463fa.jpg  \n",
            " extracting: train/images/BikesHelmets685_png_jpg.rf.8e283e09078e9c1bf65f1b51988855f7.jpg  \n",
            " extracting: train/images/BikesHelmets685_png_jpg.rf.bd44b0c01f1ffc483f80aea690d9e12e.jpg  \n",
            " extracting: train/images/BikesHelmets686_png_jpg.rf.11a217339a70f3cc0618345a15356364.jpg  \n",
            " extracting: train/images/BikesHelmets686_png_jpg.rf.5f4114eced6ca58a25a10de873bd0093.jpg  \n",
            " extracting: train/images/BikesHelmets686_png_jpg.rf.6632c592612ea6eee9974dd21d3d63c8.jpg  \n",
            " extracting: train/images/BikesHelmets686_png_jpg.rf.7f2baca7febdb7dc68adc10f7e37d5eb.jpg  \n",
            " extracting: train/images/BikesHelmets686_png_jpg.rf.7fc07c4d8d6b02715d18ac309b4253d4.jpg  \n",
            " extracting: train/images/BikesHelmets686_png_jpg.rf.8aa5550fae9af3c80b9e5649ff6e5366.jpg  \n",
            " extracting: train/images/BikesHelmets686_png_jpg.rf.9800e5ea8467161ccd84cb0f9c9b0b11.jpg  \n",
            " extracting: train/images/BikesHelmets686_png_jpg.rf.9b69eb7cd70386f6b06195d610452eec.jpg  \n",
            " extracting: train/images/BikesHelmets686_png_jpg.rf.e7f8699165f45369795a846a84271a50.jpg  \n",
            " extracting: train/images/BikesHelmets687_png_jpg.rf.03236d9d26ea742e754036e3a4a46835.jpg  \n",
            " extracting: train/images/BikesHelmets687_png_jpg.rf.2211ecf328d8b856a8e0ce7386ac0117.jpg  \n",
            " extracting: train/images/BikesHelmets687_png_jpg.rf.48efb8e993e200a14f7669358db71da0.jpg  \n",
            " extracting: train/images/BikesHelmets687_png_jpg.rf.6961dd043305e16e1c2b9a4e2586d88c.jpg  \n",
            " extracting: train/images/BikesHelmets687_png_jpg.rf.7bdef49917c5f2eac3657e4236d244a0.jpg  \n",
            " extracting: train/images/BikesHelmets687_png_jpg.rf.a7d0c728100e0121adb07ffbba311a17.jpg  \n",
            " extracting: train/images/BikesHelmets687_png_jpg.rf.bbf3df2e547d6a2f7f731a636cf2216a.jpg  \n",
            " extracting: train/images/BikesHelmets687_png_jpg.rf.d85e435007e9d5d99fff966ec7337691.jpg  \n",
            " extracting: train/images/BikesHelmets687_png_jpg.rf.e420b64756c72427b80e55b476b88f21.jpg  \n",
            " extracting: train/images/BikesHelmets688_png_jpg.rf.0e566f9fff1ca5ba3ccfe4651e5144be.jpg  \n",
            " extracting: train/images/BikesHelmets688_png_jpg.rf.59675d2c82df04be571a54a4f9d63b82.jpg  \n",
            " extracting: train/images/BikesHelmets688_png_jpg.rf.b4f0ae09c9d1e959cc23d58a4f832570.jpg  \n",
            " extracting: train/images/BikesHelmets688_png_jpg.rf.c1c5b40c3c610113602b47f401ed1ce8.jpg  \n",
            " extracting: train/images/BikesHelmets688_png_jpg.rf.c4954b8e563f60bd8c6b095d7c5879a5.jpg  \n",
            " extracting: train/images/BikesHelmets688_png_jpg.rf.dbbb22c919e0dd906f5525480ff08c0b.jpg  \n",
            " extracting: train/images/BikesHelmets689_png_jpg.rf.3ce2651868caac2c023c7210f58f9aeb.jpg  \n",
            " extracting: train/images/BikesHelmets689_png_jpg.rf.3e56708e801555fbdfdbb79905b5e91a.jpg  \n",
            " extracting: train/images/BikesHelmets689_png_jpg.rf.4a26f1c8edb5aca21231c85734dc7d48.jpg  \n",
            " extracting: train/images/BikesHelmets689_png_jpg.rf.7bf25601107e891b6be8fb7615513507.jpg  \n",
            " extracting: train/images/BikesHelmets689_png_jpg.rf.7cbed7b26a635b7a45aadc1a66b3363a.jpg  \n",
            " extracting: train/images/BikesHelmets689_png_jpg.rf.90d78964f64b89f02d438217bd3604d3.jpg  \n",
            " extracting: train/images/BikesHelmets689_png_jpg.rf.9f16d2262aed824692378aaff06d30be.jpg  \n",
            " extracting: train/images/BikesHelmets689_png_jpg.rf.aed8ece6b6417f3a19b13bf0fb98d179.jpg  \n",
            " extracting: train/images/BikesHelmets689_png_jpg.rf.cbf2c72b425d3917834092de8ef1b521.jpg  \n",
            " extracting: train/images/BikesHelmets690_png_jpg.rf.6225f1dffa5f6b46ed4658d4bb874b92.jpg  \n",
            " extracting: train/images/BikesHelmets690_png_jpg.rf.6737fb8e02e32679156c42b92853e2b6.jpg  \n",
            " extracting: train/images/BikesHelmets690_png_jpg.rf.6cdfdcff07daff9cc894314d1910719e.jpg  \n",
            " extracting: train/images/BikesHelmets690_png_jpg.rf.8810290255b875fb621ea146af94926f.jpg  \n",
            " extracting: train/images/BikesHelmets690_png_jpg.rf.bb3d7de0f1539f550a9289b5f53bfa1b.jpg  \n",
            " extracting: train/images/BikesHelmets690_png_jpg.rf.c80718322cbd09507b897e3da0aa6f3d.jpg  \n",
            " extracting: train/images/BikesHelmets690_png_jpg.rf.d40c34a6e68c7d78a7a53a77f70eaddc.jpg  \n",
            " extracting: train/images/BikesHelmets690_png_jpg.rf.e1f12ae096382ecde33c8427f4448145.jpg  \n",
            " extracting: train/images/BikesHelmets690_png_jpg.rf.ea03ef5c738b83473b72507fdce8d774.jpg  \n",
            " extracting: train/images/BikesHelmets693_png_jpg.rf.30fe04691224b089f17a67cfde6737cb.jpg  \n",
            " extracting: train/images/BikesHelmets693_png_jpg.rf.325c6cf2cb8bbc1abf013655ce3021be.jpg  \n",
            " extracting: train/images/BikesHelmets693_png_jpg.rf.36c9ff9b2a65a802c2ceec6ff5593c9d.jpg  \n",
            " extracting: train/images/BikesHelmets693_png_jpg.rf.56ddd90ed468aeceb9d7708f0a1ec589.jpg  \n",
            " extracting: train/images/BikesHelmets693_png_jpg.rf.7bfea395b487d6973a28136bfdbbfd00.jpg  \n",
            " extracting: train/images/BikesHelmets693_png_jpg.rf.adb9cd7edaa33b09a024ab6db910b004.jpg  \n",
            " extracting: train/images/BikesHelmets693_png_jpg.rf.ddffa3a176515aea73c205e99841c35c.jpg  \n",
            " extracting: train/images/BikesHelmets693_png_jpg.rf.de26ed063c8a984c84db30adaac320f8.jpg  \n",
            " extracting: train/images/BikesHelmets693_png_jpg.rf.f24d90703742a0b91dcc67aca2ee0496.jpg  \n",
            " extracting: train/images/BikesHelmets69_png_jpg.rf.02df4ff13afbc2ae4877b4da46297d88.jpg  \n",
            " extracting: train/images/BikesHelmets69_png_jpg.rf.3a915ee506cc93de06fc359636f7703a.jpg  \n",
            " extracting: train/images/BikesHelmets69_png_jpg.rf.8cf575fe8ffd36fab4b88e528023b269.jpg  \n",
            " extracting: train/images/BikesHelmets69_png_jpg.rf.b4c771cb9e7942d86ddb7cdb751529b3.jpg  \n",
            " extracting: train/images/BikesHelmets69_png_jpg.rf.c952f9288e1f59199687b979ac99adba.jpg  \n",
            " extracting: train/images/BikesHelmets69_png_jpg.rf.e341ed050742467ada8ce13ca890f5fa.jpg  \n",
            " extracting: train/images/BikesHelmets6_png_jpg.rf.1239839c5f745a07a429b7ddfb34e8c2.jpg  \n",
            " extracting: train/images/BikesHelmets6_png_jpg.rf.191334acf990212526b5a3d73da0dbb9.jpg  \n",
            " extracting: train/images/BikesHelmets6_png_jpg.rf.1dda247dcf5250476c4e78b5b8a1a115.jpg  \n",
            " extracting: train/images/BikesHelmets6_png_jpg.rf.2f7ad38e3f686f30c620b0c2a2ca8d80.jpg  \n",
            " extracting: train/images/BikesHelmets6_png_jpg.rf.353e422957083a72f4c903e649508d46.jpg  \n",
            " extracting: train/images/BikesHelmets6_png_jpg.rf.896f8f03c39186ea5b2d678c7af3a620.jpg  \n",
            " extracting: train/images/BikesHelmets6_png_jpg.rf.d39bd09a8aa997f3f222664076f418c7.jpg  \n",
            " extracting: train/images/BikesHelmets6_png_jpg.rf.f4099bffbb0c4e21ac05f659bcd114fd.jpg  \n",
            " extracting: train/images/BikesHelmets6_png_jpg.rf.f7e6fd0fd1d180de30ee3efe416098f2.jpg  \n",
            " extracting: train/images/BikesHelmets700_png_jpg.rf.09eda01e3ba1cf1686026da626e809fd.jpg  \n",
            " extracting: train/images/BikesHelmets700_png_jpg.rf.1b2a0516461bb2ec7582cd90f1ad48dd.jpg  \n",
            " extracting: train/images/BikesHelmets700_png_jpg.rf.445ba745902cc260435bf52ea8faa868.jpg  \n",
            " extracting: train/images/BikesHelmets700_png_jpg.rf.470c3caa0ebd4cc8a698f066694ebce1.jpg  \n",
            " extracting: train/images/BikesHelmets700_png_jpg.rf.60d23fa6e756462ffb35633978168b98.jpg  \n",
            " extracting: train/images/BikesHelmets700_png_jpg.rf.997b89a57fcf1ecf7005362aa7dc6e9c.jpg  \n",
            " extracting: train/images/BikesHelmets700_png_jpg.rf.db340d3f6b3d083fd84a8c7e77871114.jpg  \n",
            " extracting: train/images/BikesHelmets700_png_jpg.rf.f2f381d06f2894133c61716264c96be9.jpg  \n",
            " extracting: train/images/BikesHelmets700_png_jpg.rf.f7c3ece6094af54a6c7a3f7d19903dcf.jpg  \n",
            " extracting: train/images/BikesHelmets702_png_jpg.rf.1a3a836def98aa6a5cb0cab2a5198e5c.jpg  \n",
            " extracting: train/images/BikesHelmets702_png_jpg.rf.27810617253a136e5ac74bc825ae1c2a.jpg  \n",
            " extracting: train/images/BikesHelmets702_png_jpg.rf.487230d327f773fed153d78d44f519be.jpg  \n",
            " extracting: train/images/BikesHelmets702_png_jpg.rf.4d775544f273bd7b9c6ea8a3bc4ae8b9.jpg  \n",
            " extracting: train/images/BikesHelmets702_png_jpg.rf.6d5afab389d06363d12d0e701161920e.jpg  \n",
            " extracting: train/images/BikesHelmets702_png_jpg.rf.79136c27030764cb3f84bbee3ba9ac86.jpg  \n",
            " extracting: train/images/BikesHelmets702_png_jpg.rf.9030c552b061ab9b4d26cbf897a08c60.jpg  \n",
            " extracting: train/images/BikesHelmets702_png_jpg.rf.dd200c79f08ddb05883b6d6d62da5857.jpg  \n",
            " extracting: train/images/BikesHelmets702_png_jpg.rf.feed8a50ce4a2aca71ec007de84054d6.jpg  \n",
            " extracting: train/images/BikesHelmets705_png_jpg.rf.17d258bd323733363961eed1fa03a615.jpg  \n",
            " extracting: train/images/BikesHelmets705_png_jpg.rf.3dfdc6b473300000e18e1eab831c5a6c.jpg  \n",
            " extracting: train/images/BikesHelmets705_png_jpg.rf.d57c5e035e0d51d2452b0dd349839ca8.jpg  \n",
            " extracting: train/images/BikesHelmets706_png_jpg.rf.0a9a7c6580b29f25d004385f3b6d7221.jpg  \n",
            " extracting: train/images/BikesHelmets706_png_jpg.rf.756abdbf1ce98f880795478628698594.jpg  \n",
            " extracting: train/images/BikesHelmets706_png_jpg.rf.82938cf5077383713ff6f4e7bc0d517f.jpg  \n",
            " extracting: train/images/BikesHelmets706_png_jpg.rf.861350cf915ea1c953b1b29c41d6a201.jpg  \n",
            " extracting: train/images/BikesHelmets706_png_jpg.rf.a139648c844fb31ab2f0396d5ef0fe53.jpg  \n",
            " extracting: train/images/BikesHelmets706_png_jpg.rf.b36d16e3532b7a8210d5b1ff0bfce973.jpg  \n",
            " extracting: train/images/BikesHelmets706_png_jpg.rf.ba908a6e539706f49f859aa9400310a3.jpg  \n",
            " extracting: train/images/BikesHelmets706_png_jpg.rf.cf6a18995f11952e67c4a904d52903c1.jpg  \n",
            " extracting: train/images/BikesHelmets706_png_jpg.rf.e6dd9d047a5d91d5946790d90afb47b5.jpg  \n",
            " extracting: train/images/BikesHelmets707_png_jpg.rf.30a9035b04e4276b5e2fffa889f74ed6.jpg  \n",
            " extracting: train/images/BikesHelmets707_png_jpg.rf.34ea0f3c33ceff0245be9a7be7ad63f0.jpg  \n",
            " extracting: train/images/BikesHelmets707_png_jpg.rf.5a76541968e393dfff8ab5ddf9546b95.jpg  \n",
            " extracting: train/images/BikesHelmets707_png_jpg.rf.5cbc25883625c821dac1ac57388a2c48.jpg  \n",
            " extracting: train/images/BikesHelmets707_png_jpg.rf.5d1d54b8958b82f1a559c4134da9839e.jpg  \n",
            " extracting: train/images/BikesHelmets707_png_jpg.rf.7d42db87e32b5316721a1eca92308c23.jpg  \n",
            " extracting: train/images/BikesHelmets707_png_jpg.rf.9ee7d9108ac6150fa39e3166d734103a.jpg  \n",
            " extracting: train/images/BikesHelmets707_png_jpg.rf.cf17c01f604c5fb9257784e35cddf8c9.jpg  \n",
            " extracting: train/images/BikesHelmets707_png_jpg.rf.e8b071cbbe9b64af11c940b3bbdfb9dc.jpg  \n",
            " extracting: train/images/BikesHelmets709_png_jpg.rf.60c9b7825cb907e02e65619b6d0c8481.jpg  \n",
            " extracting: train/images/BikesHelmets709_png_jpg.rf.6702fba011e5453a2f29e8a8cc3a07dc.jpg  \n",
            " extracting: train/images/BikesHelmets709_png_jpg.rf.82f929faa9716f9f696a2e36e052a25e.jpg  \n",
            " extracting: train/images/BikesHelmets709_png_jpg.rf.8dccb49df12af015e2b8c4e064d431de.jpg  \n",
            " extracting: train/images/BikesHelmets709_png_jpg.rf.99d3b74978449920b4e9f436438adece.jpg  \n",
            " extracting: train/images/BikesHelmets709_png_jpg.rf.df3914bd860615b495f9d34752e496d8.jpg  \n",
            " extracting: train/images/BikesHelmets714_png_jpg.rf.00289d614b7cabcad316143328bde39b.jpg  \n",
            " extracting: train/images/BikesHelmets714_png_jpg.rf.0ac0dc33f8d50bcfa5fa2e281e52f6d4.jpg  \n",
            " extracting: train/images/BikesHelmets714_png_jpg.rf.3132a7f3649eacc075c3b3f1cbba9132.jpg  \n",
            " extracting: train/images/BikesHelmets714_png_jpg.rf.4a034eb3808d3607a4a42aa5d9dc9b6c.jpg  \n",
            " extracting: train/images/BikesHelmets714_png_jpg.rf.8a3926af4638119c4318a140f7bc040f.jpg  \n",
            " extracting: train/images/BikesHelmets714_png_jpg.rf.90bffe0660bc9d28777776996f86997b.jpg  \n",
            " extracting: train/images/BikesHelmets714_png_jpg.rf.97ab016a1407b9332019b8a972067425.jpg  \n",
            " extracting: train/images/BikesHelmets714_png_jpg.rf.aaaf0c814704b94220a30b88cde8bb3a.jpg  \n",
            " extracting: train/images/BikesHelmets714_png_jpg.rf.ce4dccee3e3d1728f40957620b14c52c.jpg  \n",
            " extracting: train/images/BikesHelmets715_png_jpg.rf.461750b1c98358b537f2bb4d571a7cda.jpg  \n",
            " extracting: train/images/BikesHelmets715_png_jpg.rf.64634ebb1cd9f7505f1c97d89eaf6bb5.jpg  \n",
            " extracting: train/images/BikesHelmets715_png_jpg.rf.8646f51badfba7b2d39f2552309c58d4.jpg  \n",
            " extracting: train/images/BikesHelmets715_png_jpg.rf.ed0a7b22b5cbfb370f85e23d551c51e3.jpg  \n",
            " extracting: train/images/BikesHelmets715_png_jpg.rf.f33fbfa152bbb93f0d7fac800db5c125.jpg  \n",
            " extracting: train/images/BikesHelmets715_png_jpg.rf.f54d4599fef16fe770c68cf9e9b15843.jpg  \n",
            " extracting: train/images/BikesHelmets721_png_jpg.rf.91d01039e3181c3b69d6416076d73b10.jpg  \n",
            " extracting: train/images/BikesHelmets721_png_jpg.rf.b58edc6550569a3432d2f07fa59b92a9.jpg  \n",
            " extracting: train/images/BikesHelmets721_png_jpg.rf.c0d33629f25493a52c5df6ed0219ffeb.jpg  \n",
            " extracting: train/images/BikesHelmets721_png_jpg.rf.c11b748ec773f50553566b2f68357b10.jpg  \n",
            " extracting: train/images/BikesHelmets721_png_jpg.rf.d465e8cf8cfccea68ff84b41a84cc92d.jpg  \n",
            " extracting: train/images/BikesHelmets721_png_jpg.rf.d9dc70c1a619d300731463b4590f700a.jpg  \n",
            " extracting: train/images/BikesHelmets722_png_jpg.rf.5fd13d6eccf3d5d0d282992db16fed55.jpg  \n",
            " extracting: train/images/BikesHelmets722_png_jpg.rf.7ae1cd31a62f0b0da781d8d25545ed1b.jpg  \n",
            " extracting: train/images/BikesHelmets722_png_jpg.rf.9f29f3da49eb6cd6ec479513cecd1ee2.jpg  \n",
            " extracting: train/images/BikesHelmets722_png_jpg.rf.a27671fb7c190f60dc814e2fa0e2aea3.jpg  \n",
            " extracting: train/images/BikesHelmets722_png_jpg.rf.abba4195bf830ef14c50fa7e9424f883.jpg  \n",
            " extracting: train/images/BikesHelmets722_png_jpg.rf.c815c19fd519c0fd7b5813bab379fb4b.jpg  \n",
            " extracting: train/images/BikesHelmets724_png_jpg.rf.451df3c910a70a3c2951b23b97425bf3.jpg  \n",
            " extracting: train/images/BikesHelmets724_png_jpg.rf.5728e9de0bec1cd3830113fb76bd0d74.jpg  \n",
            " extracting: train/images/BikesHelmets724_png_jpg.rf.7b5f134585153d244064f3d56a933431.jpg  \n",
            " extracting: train/images/BikesHelmets724_png_jpg.rf.c047e3a400efe9893117de0dd6f11be4.jpg  \n",
            " extracting: train/images/BikesHelmets724_png_jpg.rf.c796d170fa4f705e2c84a4cd4c6f9189.jpg  \n",
            " extracting: train/images/BikesHelmets724_png_jpg.rf.cdedc551ffd1975b83163617046411fe.jpg  \n",
            " extracting: train/images/BikesHelmets724_png_jpg.rf.d249b26993083a412714bc9887b03280.jpg  \n",
            " extracting: train/images/BikesHelmets724_png_jpg.rf.dc6fe7743f949747b5bcea8be9c49e3e.jpg  \n",
            " extracting: train/images/BikesHelmets724_png_jpg.rf.e958102d6c73c07bf49255165c64a05f.jpg  \n",
            " extracting: train/images/BikesHelmets726_png_jpg.rf.2e031abb69790d85b2bfa087ac5c6c33.jpg  \n",
            " extracting: train/images/BikesHelmets726_png_jpg.rf.49f9cbf321a827589646b1ccd039f84b.jpg  \n",
            " extracting: train/images/BikesHelmets726_png_jpg.rf.592784ca858bae745923548dc2364d7d.jpg  \n",
            " extracting: train/images/BikesHelmets726_png_jpg.rf.7c8a6f57fa01eb8b97eb7404d6c40da3.jpg  \n",
            " extracting: train/images/BikesHelmets726_png_jpg.rf.a2550ed68d8526e7fc2dd05152bddeae.jpg  \n",
            " extracting: train/images/BikesHelmets726_png_jpg.rf.c358c0408b5f1e5fe9fbcf4bb71cab23.jpg  \n",
            " extracting: train/images/BikesHelmets72_png_jpg.rf.0c9a5a9640dd5caa5f35598ab605998d.jpg  \n",
            " extracting: train/images/BikesHelmets72_png_jpg.rf.2dc32af15b01536a7df219d50db14ad5.jpg  \n",
            " extracting: train/images/BikesHelmets72_png_jpg.rf.440609c9fd98cfa5dbed9c187f6845be.jpg  \n",
            " extracting: train/images/BikesHelmets72_png_jpg.rf.cba22b18a0993d38a735b8c5c63d156d.jpg  \n",
            " extracting: train/images/BikesHelmets72_png_jpg.rf.cdb57d600493a82216fe7fd1013992f1.jpg  \n",
            " extracting: train/images/BikesHelmets72_png_jpg.rf.f4a70208a14d89d9a8347fb1d9ca73db.jpg  \n",
            " extracting: train/images/BikesHelmets730_png_jpg.rf.1032b34dcc2dfb5acff915b5de379b8e.jpg  \n",
            " extracting: train/images/BikesHelmets730_png_jpg.rf.2a41454e80fa9d3e12c35c67b5c966ed.jpg  \n",
            " extracting: train/images/BikesHelmets730_png_jpg.rf.e0de63dacc7f3f919d084badb6d2019c.jpg  \n",
            " extracting: train/images/BikesHelmets730_png_jpg.rf.e3e37a17fdfa2a8394f39f7baf359f59.jpg  \n",
            " extracting: train/images/BikesHelmets730_png_jpg.rf.eca453a1eaa40d9dd4222a560144facd.jpg  \n",
            " extracting: train/images/BikesHelmets730_png_jpg.rf.fcbb96393a87b3824979805640809f50.jpg  \n",
            " extracting: train/images/BikesHelmets731_png_jpg.rf.2dfcb357310f014d5ede005020a0c2fc.jpg  \n",
            " extracting: train/images/BikesHelmets731_png_jpg.rf.43b65ec66692e50e7512a95d58d3b196.jpg  \n",
            " extracting: train/images/BikesHelmets731_png_jpg.rf.5b022a477eafbc88cc1da8e4d807d53a.jpg  \n",
            " extracting: train/images/BikesHelmets731_png_jpg.rf.833e02124c2000b92f8107944ea936f8.jpg  \n",
            " extracting: train/images/BikesHelmets731_png_jpg.rf.8a51baa668e81bf0c105e6b975e13e2b.jpg  \n",
            " extracting: train/images/BikesHelmets731_png_jpg.rf.b998cac4ff718bf19e87d9189da2cbcd.jpg  \n",
            " extracting: train/images/BikesHelmets733_png_jpg.rf.278b9babd48417460d2b21d3fd762090.jpg  \n",
            " extracting: train/images/BikesHelmets733_png_jpg.rf.2c9f11c4f37bfedb6daf1cfc14c361ae.jpg  \n",
            " extracting: train/images/BikesHelmets733_png_jpg.rf.373e430e86fe77e5185ec6aa6c81c858.jpg  \n",
            " extracting: train/images/BikesHelmets733_png_jpg.rf.37c1390f7c34b2a35bf9deb5d52b9a46.jpg  \n",
            " extracting: train/images/BikesHelmets733_png_jpg.rf.9f8dc958e3fe105abeb203169b1bf351.jpg  \n",
            " extracting: train/images/BikesHelmets733_png_jpg.rf.d627ff02ba6b1ef781ffa911352b2137.jpg  \n",
            " extracting: train/images/BikesHelmets733_png_jpg.rf.e5b96a25d8690b6ad519bfb2762ebb8c.jpg  \n",
            " extracting: train/images/BikesHelmets733_png_jpg.rf.e6bc6c746c491abfff36b2ccb6c907a9.jpg  \n",
            " extracting: train/images/BikesHelmets733_png_jpg.rf.f94ed66d94f50199804e6f414acd214f.jpg  \n",
            " extracting: train/images/BikesHelmets734_png_jpg.rf.0b8aa0a872026151cd916a3f20eb0587.jpg  \n",
            " extracting: train/images/BikesHelmets734_png_jpg.rf.1d0c5df341aec7d107b79c80f59cbd96.jpg  \n",
            " extracting: train/images/BikesHelmets734_png_jpg.rf.25c62bdf03ab3324736b852fe0d435a2.jpg  \n",
            " extracting: train/images/BikesHelmets734_png_jpg.rf.7353ad2750a84fed45763c7479f5c725.jpg  \n",
            " extracting: train/images/BikesHelmets734_png_jpg.rf.98ff7b53ee789e910e9faa2e4db2d4c6.jpg  \n",
            " extracting: train/images/BikesHelmets734_png_jpg.rf.c9571c0614be8f2f054ec5d89478e1f9.jpg  \n",
            " extracting: train/images/BikesHelmets735_png_jpg.rf.040790d217aa0c59cc6a18b4eaa84326.jpg  \n",
            " extracting: train/images/BikesHelmets735_png_jpg.rf.0ded09f4c6c47ef1589bf12de8e99faa.jpg  \n",
            " extracting: train/images/BikesHelmets735_png_jpg.rf.212dd73e90737c27cfa7a5c52a5e9f25.jpg  \n",
            " extracting: train/images/BikesHelmets735_png_jpg.rf.5ffc023152e360d0e3a653c3e9a9749f.jpg  \n",
            " extracting: train/images/BikesHelmets735_png_jpg.rf.78f13b02128b82059d58b501f8014959.jpg  \n",
            " extracting: train/images/BikesHelmets735_png_jpg.rf.b1361b9b86321915d4d0b3271486c4eb.jpg  \n",
            " extracting: train/images/BikesHelmets737_png_jpg.rf.0e842c0ca8da204bbddcf49a7c25017a.jpg  \n",
            " extracting: train/images/BikesHelmets737_png_jpg.rf.5e9e23ec2c80568ff639d6f1e9bae89d.jpg  \n",
            " extracting: train/images/BikesHelmets737_png_jpg.rf.6b3f102285863e12e10f33f1e352a207.jpg  \n",
            " extracting: train/images/BikesHelmets737_png_jpg.rf.7e685e6d63743ef1cbac69b54b2f3e88.jpg  \n",
            " extracting: train/images/BikesHelmets737_png_jpg.rf.87456700689becb6dfc5d7482d9b9182.jpg  \n",
            " extracting: train/images/BikesHelmets737_png_jpg.rf.971a98802953c37ec7b815c9c73874af.jpg  \n",
            " extracting: train/images/BikesHelmets737_png_jpg.rf.b517655307bc636e6700161b63df9fed.jpg  \n",
            " extracting: train/images/BikesHelmets737_png_jpg.rf.bc6555e0c35472b3d35672931a88f0ca.jpg  \n",
            " extracting: train/images/BikesHelmets737_png_jpg.rf.da1109e401e93beaad2406bbc3321a28.jpg  \n",
            " extracting: train/images/BikesHelmets738_png_jpg.rf.4fd340517fa568043b45ef1d13dfe9e7.jpg  \n",
            " extracting: train/images/BikesHelmets738_png_jpg.rf.8db937f1af6673e463d9dfecec57007c.jpg  \n",
            " extracting: train/images/BikesHelmets738_png_jpg.rf.b2e5eb6020bf027ce878d82bed8ad2a4.jpg  \n",
            " extracting: train/images/BikesHelmets738_png_jpg.rf.b4def1adf76f6451179cee37e783f3ab.jpg  \n",
            " extracting: train/images/BikesHelmets738_png_jpg.rf.df11f54f7aa8c7d2d7e359935ba4ec52.jpg  \n",
            " extracting: train/images/BikesHelmets738_png_jpg.rf.edc1ec1979af9ed144469e333c526bf8.jpg  \n",
            " extracting: train/images/BikesHelmets73_png_jpg.rf.00507c91b539b0ada1694ff2bf71a38b.jpg  \n",
            " extracting: train/images/BikesHelmets73_png_jpg.rf.049e94cd2f7627d1de838e6ab2234add.jpg  \n",
            " extracting: train/images/BikesHelmets73_png_jpg.rf.323823ad8d2d22af70b0284bc3d9a809.jpg  \n",
            " extracting: train/images/BikesHelmets73_png_jpg.rf.502cb28cf8b7c2b20a0b466c3fce9a4a.jpg  \n",
            " extracting: train/images/BikesHelmets73_png_jpg.rf.517456617b19cc607a148dab111e9771.jpg  \n",
            " extracting: train/images/BikesHelmets73_png_jpg.rf.6e7b20d51b9677acf9cbeb9540e04360.jpg  \n",
            " extracting: train/images/BikesHelmets73_png_jpg.rf.b1f876b49ebfda9caa463166e1620eac.jpg  \n",
            " extracting: train/images/BikesHelmets73_png_jpg.rf.c62f43e802d333a7910456c38d02f244.jpg  \n",
            " extracting: train/images/BikesHelmets73_png_jpg.rf.db2e9971c886a9a2830fd3f048b164e4.jpg  \n",
            " extracting: train/images/BikesHelmets741_png_jpg.rf.5ce6a9002028ef59f63edc45d557f56d.jpg  \n",
            " extracting: train/images/BikesHelmets741_png_jpg.rf.a4d62278a1d42f79123dfe52be77443c.jpg  \n",
            " extracting: train/images/BikesHelmets741_png_jpg.rf.a57ee301b0c614e990fb61cbe85d93bd.jpg  \n",
            " extracting: train/images/BikesHelmets741_png_jpg.rf.b5f7ec61f07ae7a92cbfde47c717dfba.jpg  \n",
            " extracting: train/images/BikesHelmets741_png_jpg.rf.bff609afb54de1af07ad7c5d39de7516.jpg  \n",
            " extracting: train/images/BikesHelmets741_png_jpg.rf.d395e3741b25a8f6c253600d8f6df4ac.jpg  \n",
            " extracting: train/images/BikesHelmets744_png_jpg.rf.0739a47711ab113e9289c56b7be57b36.jpg  \n",
            " extracting: train/images/BikesHelmets744_png_jpg.rf.1fe870314f2f796b34867f7be3a48eff.jpg  \n",
            " extracting: train/images/BikesHelmets744_png_jpg.rf.3acf165be1dc33fa9b037ced6d68d1dd.jpg  \n",
            " extracting: train/images/BikesHelmets744_png_jpg.rf.5f24a867c3bbcfc6bd76d443f5e938af.jpg  \n",
            " extracting: train/images/BikesHelmets744_png_jpg.rf.6d4b84e3e0c8b22bdd0196e5baa0c9e4.jpg  \n",
            " extracting: train/images/BikesHelmets744_png_jpg.rf.7c535650a3143063fa27422e27948242.jpg  \n",
            " extracting: train/images/BikesHelmets744_png_jpg.rf.8a6b32a7c939627f2e6872e0cd1114be.jpg  \n",
            " extracting: train/images/BikesHelmets744_png_jpg.rf.8c8f2bafbffe1fcdcfb2e411a08b39d0.jpg  \n",
            " extracting: train/images/BikesHelmets744_png_jpg.rf.d1127306afe0f0fd915347a0c47cde19.jpg  \n",
            " extracting: train/images/BikesHelmets745_png_jpg.rf.3317a6c71fa48d77da164ef4a319181a.jpg  \n",
            " extracting: train/images/BikesHelmets745_png_jpg.rf.387851de75acb2b20c954dc11f6a8154.jpg  \n",
            " extracting: train/images/BikesHelmets745_png_jpg.rf.490c1a74ccaa2fc99f7b595910d23880.jpg  \n",
            " extracting: train/images/BikesHelmets745_png_jpg.rf.4d17075146c8657f98ecaed3ff7afaaa.jpg  \n",
            " extracting: train/images/BikesHelmets745_png_jpg.rf.53c48771d8c8c18e061d2fe2d88880cf.jpg  \n",
            " extracting: train/images/BikesHelmets745_png_jpg.rf.56881458f4cb610874448675aec8257d.jpg  \n",
            " extracting: train/images/BikesHelmets745_png_jpg.rf.b1e9c5d2f839f202ed4593d470e1811b.jpg  \n",
            " extracting: train/images/BikesHelmets745_png_jpg.rf.c5f6a883630ffe3d0a731b8f8ec5d888.jpg  \n",
            " extracting: train/images/BikesHelmets745_png_jpg.rf.dd6da056accd5bd79e71eddb2f69dc17.jpg  \n",
            " extracting: train/images/BikesHelmets746_png_jpg.rf.000377b2cad3f9a4b19a821facb0a837.jpg  \n",
            " extracting: train/images/BikesHelmets746_png_jpg.rf.152351c740790ff054de717b2591b08b.jpg  \n",
            " extracting: train/images/BikesHelmets746_png_jpg.rf.418d340cafdbdb477e42b5b1ba1ff90f.jpg  \n",
            " extracting: train/images/BikesHelmets746_png_jpg.rf.753207982146c29e1b9de225511cb425.jpg  \n",
            " extracting: train/images/BikesHelmets746_png_jpg.rf.9f739767ccb5be2807dfe4c450626701.jpg  \n",
            " extracting: train/images/BikesHelmets746_png_jpg.rf.b1d082740f572509c393c2bdeee2e5ac.jpg  \n",
            " extracting: train/images/BikesHelmets746_png_jpg.rf.ca721cb766def3fae90d5cc736bd6455.jpg  \n",
            " extracting: train/images/BikesHelmets746_png_jpg.rf.d929b66c62a7730f1142272b01aa3af2.jpg  \n",
            " extracting: train/images/BikesHelmets746_png_jpg.rf.db68350b875812f15187ce97dbf2e83c.jpg  \n",
            " extracting: train/images/BikesHelmets747_png_jpg.rf.2f37c92bc2c8caf4ecd269b1d19e475a.jpg  \n",
            " extracting: train/images/BikesHelmets747_png_jpg.rf.41e09702ced26dbff662167ef78bcc70.jpg  \n",
            " extracting: train/images/BikesHelmets747_png_jpg.rf.5321e63aa68ae04c9736236e7c2c4363.jpg  \n",
            " extracting: train/images/BikesHelmets747_png_jpg.rf.53ce03e9074d79bff90a7ad651d50483.jpg  \n",
            " extracting: train/images/BikesHelmets747_png_jpg.rf.a94f93e6d55856de7ea48d5bd499360f.jpg  \n",
            " extracting: train/images/BikesHelmets747_png_jpg.rf.b88b5e06aa2227099d434e995c65410d.jpg  \n",
            " extracting: train/images/BikesHelmets747_png_jpg.rf.cb2720a0974e16bc547f8d82dbe297cd.jpg  \n",
            " extracting: train/images/BikesHelmets747_png_jpg.rf.d55375838c95c32000b90a05c720f88f.jpg  \n",
            " extracting: train/images/BikesHelmets747_png_jpg.rf.f380a4e01a9277446d52821606bb44a2.jpg  \n",
            " extracting: train/images/BikesHelmets748_png_jpg.rf.0ccaeea5ed98281e5f3bef5f07879e6c.jpg  \n",
            " extracting: train/images/BikesHelmets748_png_jpg.rf.2a6f3872b7da093e1de10e9ee6f4c294.jpg  \n",
            " extracting: train/images/BikesHelmets748_png_jpg.rf.5f3879f6f7adb32b857d0c38d4f1bacd.jpg  \n",
            " extracting: train/images/BikesHelmets748_png_jpg.rf.6c634cfe0c0ec96d8071533a0b236f79.jpg  \n",
            " extracting: train/images/BikesHelmets748_png_jpg.rf.6d95788fd759eecb48f257b5ff45c8d7.jpg  \n",
            " extracting: train/images/BikesHelmets748_png_jpg.rf.6f7d9431d21db10df997721661fb45c9.jpg  \n",
            " extracting: train/images/BikesHelmets748_png_jpg.rf.784a897be39cf18cd2e43304901a6503.jpg  \n",
            " extracting: train/images/BikesHelmets748_png_jpg.rf.f4996897de703a364fd2ff8cd8c35fe2.jpg  \n",
            " extracting: train/images/BikesHelmets748_png_jpg.rf.fa9c15c3518908473fdd71ebd56e109d.jpg  \n",
            " extracting: train/images/BikesHelmets751_png_jpg.rf.1463d776aa0aa5e4c30759b386cc6554.jpg  \n",
            " extracting: train/images/BikesHelmets751_png_jpg.rf.2d3b9138fe93d2f57b5c7c889ed7b428.jpg  \n",
            " extracting: train/images/BikesHelmets751_png_jpg.rf.2e8710808264ff939f5b2ac5a12f589b.jpg  \n",
            " extracting: train/images/BikesHelmets751_png_jpg.rf.482ddf9fffecb225c27e281d9183c880.jpg  \n",
            " extracting: train/images/BikesHelmets751_png_jpg.rf.757016c01cff8e7c7a10f6d7a541075c.jpg  \n",
            " extracting: train/images/BikesHelmets751_png_jpg.rf.896ff99662d8838a25643e1ff082abe6.jpg  \n",
            " extracting: train/images/BikesHelmets751_png_jpg.rf.8f66719543ff5fef392a4175bce593a5.jpg  \n",
            " extracting: train/images/BikesHelmets751_png_jpg.rf.9f122651e750e3ae3ecab5569fa0f049.jpg  \n",
            " extracting: train/images/BikesHelmets751_png_jpg.rf.a54fc204a4de0b48f3344e0680f09e5e.jpg  \n",
            " extracting: train/images/BikesHelmets756_png_jpg.rf.55c232fe14bc923d64397ab79dfcb4c4.jpg  \n",
            " extracting: train/images/BikesHelmets756_png_jpg.rf.90517b6de2e27d3243432a119af5a60c.jpg  \n",
            " extracting: train/images/BikesHelmets756_png_jpg.rf.9f24522ff5392b2a553e382033b83c1e.jpg  \n",
            " extracting: train/images/BikesHelmets756_png_jpg.rf.b84b1871acdedfb7fdef8167182e5521.jpg  \n",
            " extracting: train/images/BikesHelmets756_png_jpg.rf.d412ef0af685348c4e135f2b234ee86f.jpg  \n",
            " extracting: train/images/BikesHelmets756_png_jpg.rf.f397f0daa1752d4a61714f9a1c95499b.jpg  \n",
            " extracting: train/images/BikesHelmets762_png_jpg.rf.0503c2bfc8e338160e3242103fb7569d.jpg  \n",
            " extracting: train/images/BikesHelmets762_png_jpg.rf.0f59f94656aa8a07a7c1005a5c1ac64c.jpg  \n",
            " extracting: train/images/BikesHelmets762_png_jpg.rf.5864107fefd3d97f0422635f0fc7dfdd.jpg  \n",
            " extracting: train/images/BikesHelmets762_png_jpg.rf.8d9abd3a7629802420029d4aafdd09aa.jpg  \n",
            " extracting: train/images/BikesHelmets762_png_jpg.rf.90904357db176cecc6bf54a723e2548f.jpg  \n",
            " extracting: train/images/BikesHelmets762_png_jpg.rf.abd3916cbed9707b371b33c76dbb8fad.jpg  \n",
            " extracting: train/images/BikesHelmets762_png_jpg.rf.d193f87305dcf49197e5ea339376bc78.jpg  \n",
            " extracting: train/images/BikesHelmets762_png_jpg.rf.e2fc689411eaccf748a2d8a0b28cc358.jpg  \n",
            " extracting: train/images/BikesHelmets762_png_jpg.rf.f7adcfedd9128678ab2da82f959640c1.jpg  \n",
            " extracting: train/images/BikesHelmets77_png_jpg.rf.2bb579e8d8b08b6593f41417941e6547.jpg  \n",
            " extracting: train/images/BikesHelmets77_png_jpg.rf.69f52e112e8c4266e27e1a71b08775cb.jpg  \n",
            " extracting: train/images/BikesHelmets77_png_jpg.rf.833685d0c6d79831870e162d355ace52.jpg  \n",
            " extracting: train/images/BikesHelmets77_png_jpg.rf.a67b5e745112ffc7acc3e9e70826592d.jpg  \n",
            " extracting: train/images/BikesHelmets77_png_jpg.rf.bd074384f59cb7187b691170f729c746.jpg  \n",
            " extracting: train/images/BikesHelmets77_png_jpg.rf.bf9534f1c6c3999ade78278589a7ff99.jpg  \n",
            " extracting: train/images/BikesHelmets77_png_jpg.rf.c4364e1834ef14a04e09a167399f23d7.jpg  \n",
            " extracting: train/images/BikesHelmets77_png_jpg.rf.c9c900b0dabe1349f3ef51bd069aaa29.jpg  \n",
            " extracting: train/images/BikesHelmets77_png_jpg.rf.df5b4495974dda0dfb8069d678b5bbdd.jpg  \n",
            " extracting: train/images/BikesHelmets78_png_jpg.rf.779c893bd2c59edacf54ad3884103a2c.jpg  \n",
            " extracting: train/images/BikesHelmets78_png_jpg.rf.855932afe8dcac5be66977a5c824159c.jpg  \n",
            " extracting: train/images/BikesHelmets78_png_jpg.rf.c02357c7c38f445425e82a429b9d91ba.jpg  \n",
            " extracting: train/images/BikesHelmets7_png_jpg.rf.366099d70a46fa4368b3ada219564d68.jpg  \n",
            " extracting: train/images/BikesHelmets7_png_jpg.rf.6a2f292bdf318e13a35c372351e8e720.jpg  \n",
            " extracting: train/images/BikesHelmets7_png_jpg.rf.7e3636b06b6849df8c6fce146f57cc6a.jpg  \n",
            " extracting: train/images/BikesHelmets7_png_jpg.rf.9085b74e4c2467a66380f3674e3761e3.jpg  \n",
            " extracting: train/images/BikesHelmets7_png_jpg.rf.a51fe68c3c3546b7a0d67bb9535213df.jpg  \n",
            " extracting: train/images/BikesHelmets7_png_jpg.rf.b10250aa8e3a6a834ab9b5ea15bd31d6.jpg  \n",
            " extracting: train/images/BikesHelmets7_png_jpg.rf.c0f790d66b1961116f7c06352764711e.jpg  \n",
            " extracting: train/images/BikesHelmets7_png_jpg.rf.c5393e3ff73fb14ad0702a3ed1611fcf.jpg  \n",
            " extracting: train/images/BikesHelmets7_png_jpg.rf.fbfb4825e27a613ef1aba278b5ccb0d4.jpg  \n",
            " extracting: train/images/BikesHelmets82_png_jpg.rf.236a6c288f9e11c954893173f9b8b6c7.jpg  \n",
            " extracting: train/images/BikesHelmets82_png_jpg.rf.25df03144bb25419fbd97297d9e2ed03.jpg  \n",
            " extracting: train/images/BikesHelmets82_png_jpg.rf.28a25382ace99f56e3d3a13e35a8bdff.jpg  \n",
            " extracting: train/images/BikesHelmets82_png_jpg.rf.3e934230acad7fae3231c3ed79888e8d.jpg  \n",
            " extracting: train/images/BikesHelmets82_png_jpg.rf.4c11fb3e8b12197d1d5ce0db5501f89a.jpg  \n",
            " extracting: train/images/BikesHelmets82_png_jpg.rf.4f40c9559b0c54627c2d4ae9912e7f39.jpg  \n",
            " extracting: train/images/BikesHelmets82_png_jpg.rf.63fa1eb4540a76765ef02c993ac51c65.jpg  \n",
            " extracting: train/images/BikesHelmets82_png_jpg.rf.93626158de7104d79643172db7e9c5d5.jpg  \n",
            " extracting: train/images/BikesHelmets82_png_jpg.rf.cee41a579c16257255d46637be70bc20.jpg  \n",
            " extracting: train/images/BikesHelmets83_png_jpg.rf.06707e1823b3d23f315895f7bdff4d57.jpg  \n",
            " extracting: train/images/BikesHelmets83_png_jpg.rf.218a92588c8876a01b712632bf580c70.jpg  \n",
            " extracting: train/images/BikesHelmets83_png_jpg.rf.2a30936b6d17f16d75a9ddde7e5de18b.jpg  \n",
            " extracting: train/images/BikesHelmets83_png_jpg.rf.50bc434e0d0e0e6b0a464df87f8cd31e.jpg  \n",
            " extracting: train/images/BikesHelmets83_png_jpg.rf.5448cb99a69cefca5935e96b90f1d662.jpg  \n",
            " extracting: train/images/BikesHelmets83_png_jpg.rf.7c9d79dc382e48c8b1035cb785fab8de.jpg  \n",
            " extracting: train/images/BikesHelmets83_png_jpg.rf.a6b72703e976200f925ab92caa399927.jpg  \n",
            " extracting: train/images/BikesHelmets83_png_jpg.rf.c99b2b036017d6718bc8fca758de6bc4.jpg  \n",
            " extracting: train/images/BikesHelmets83_png_jpg.rf.f2a967c0821bf0d947cfdc2a90d741e7.jpg  \n",
            " extracting: train/images/BikesHelmets84_png_jpg.rf.15514b866de94945da7da3d94904f14a.jpg  \n",
            " extracting: train/images/BikesHelmets84_png_jpg.rf.7a6a263f052a0071c37ad7818706573e.jpg  \n",
            " extracting: train/images/BikesHelmets84_png_jpg.rf.842b726249435b811cadb86067cc8f0f.jpg  \n",
            " extracting: train/images/BikesHelmets84_png_jpg.rf.b154b9d65a850cfbb0c2c51d980e4eb5.jpg  \n",
            " extracting: train/images/BikesHelmets84_png_jpg.rf.cb969a5eb09da05c438edac3889aec1b.jpg  \n",
            " extracting: train/images/BikesHelmets84_png_jpg.rf.f1f4556ac9c5767aac1fe3a1755c1431.jpg  \n",
            " extracting: train/images/BikesHelmets85_png_jpg.rf.0e38c121b03833f62c624dd6716b01f8.jpg  \n",
            " extracting: train/images/BikesHelmets85_png_jpg.rf.4bcb0079c6efaf96987bd375ad96f3e5.jpg  \n",
            " extracting: train/images/BikesHelmets85_png_jpg.rf.62742e3e583da80f2dfee3b70daf4509.jpg  \n",
            " extracting: train/images/BikesHelmets85_png_jpg.rf.7ec97a6549e82f9ff4155d415bb10195.jpg  \n",
            " extracting: train/images/BikesHelmets85_png_jpg.rf.ba9f391f5457cd4ec081fda65f49d95d.jpg  \n",
            " extracting: train/images/BikesHelmets85_png_jpg.rf.cfea9a97170ad02dc5ef6d4867c142b2.jpg  \n",
            " extracting: train/images/BikesHelmets85_png_jpg.rf.d78e03f5537da0a1e6a2eee59e895113.jpg  \n",
            " extracting: train/images/BikesHelmets85_png_jpg.rf.db9e09a821b2901937cefb71b8000186.jpg  \n",
            " extracting: train/images/BikesHelmets85_png_jpg.rf.ef313689209f35be0769a5b8c37a0e1f.jpg  \n",
            " extracting: train/images/BikesHelmets86_png_jpg.rf.1693490a81a98bffdc95efda29d611a5.jpg  \n",
            " extracting: train/images/BikesHelmets86_png_jpg.rf.209793b7714a294c5a2ed35da75eaec7.jpg  \n",
            " extracting: train/images/BikesHelmets86_png_jpg.rf.3b7e03c75ac706f0fa71ef9612921388.jpg  \n",
            " extracting: train/images/BikesHelmets86_png_jpg.rf.3dbd6a0ae2b1484fcae8cc4207d0d837.jpg  \n",
            " extracting: train/images/BikesHelmets86_png_jpg.rf.6ebfd3aaa7d81f1d3a6cc478bdbc6932.jpg  \n",
            " extracting: train/images/BikesHelmets86_png_jpg.rf.8860bbf9885c6b5d64c345ba10229778.jpg  \n",
            " extracting: train/images/BikesHelmets88_png_jpg.rf.1d277d0ea3da29832622db97801587c4.jpg  \n",
            " extracting: train/images/BikesHelmets88_png_jpg.rf.3c70e13e06b4822afc7d8ce22b653205.jpg  \n",
            " extracting: train/images/BikesHelmets88_png_jpg.rf.515493578a9c769140199131118751f1.jpg  \n",
            " extracting: train/images/BikesHelmets88_png_jpg.rf.871f2f66cfc321f2eff60ab2f96d9530.jpg  \n",
            " extracting: train/images/BikesHelmets88_png_jpg.rf.8fe20de569e832c0ced8327ce1e41e88.jpg  \n",
            " extracting: train/images/BikesHelmets88_png_jpg.rf.a6613f798805326a5c0ba3db6165f14a.jpg  \n",
            " extracting: train/images/BikesHelmets88_png_jpg.rf.c542f5d910677029c12690214a6506cc.jpg  \n",
            " extracting: train/images/BikesHelmets88_png_jpg.rf.c628e5ceb77310b4ee661c631f1523be.jpg  \n",
            " extracting: train/images/BikesHelmets88_png_jpg.rf.f5b659b370398186bf8a78a22840c556.jpg  \n",
            " extracting: train/images/BikesHelmets89_png_jpg.rf.061456356fa2a85e1c1c562cf6a50ae0.jpg  \n",
            " extracting: train/images/BikesHelmets89_png_jpg.rf.7389eb334abc1c764dc93ad7177d714b.jpg  \n",
            " extracting: train/images/BikesHelmets89_png_jpg.rf.8b569c2ec9fc46da24a0fa725e1393ce.jpg  \n",
            " extracting: train/images/BikesHelmets89_png_jpg.rf.8c3860f95f029067cbbec021b1b3bbbc.jpg  \n",
            " extracting: train/images/BikesHelmets89_png_jpg.rf.945f8329beb80a700b40aac8aa0dcd30.jpg  \n",
            " extracting: train/images/BikesHelmets89_png_jpg.rf.9c2f8f503884f6403aa0d5255218503f.jpg  \n",
            " extracting: train/images/BikesHelmets89_png_jpg.rf.cb562872e27b23d3f2ab58b2435e9bd2.jpg  \n",
            " extracting: train/images/BikesHelmets89_png_jpg.rf.f9fd9e861b738bf8f86676ed6e207d71.jpg  \n",
            " extracting: train/images/BikesHelmets89_png_jpg.rf.fe101c3f717e3e65d1e42dc9f35af40e.jpg  \n",
            " extracting: train/images/BikesHelmets90_png_jpg.rf.297a536434c586506bcd3874d9da88b3.jpg  \n",
            " extracting: train/images/BikesHelmets90_png_jpg.rf.8ddc5f0a09dcbe17575263eff619b5df.jpg  \n",
            " extracting: train/images/BikesHelmets90_png_jpg.rf.bdae85c718917287d4c3067224053f60.jpg  \n",
            " extracting: train/images/BikesHelmets90_png_jpg.rf.c89cd93810c690c07bacd1aa9e268620.jpg  \n",
            " extracting: train/images/BikesHelmets90_png_jpg.rf.dc1053f61f98a52632f3b6d4c402a48f.jpg  \n",
            " extracting: train/images/BikesHelmets90_png_jpg.rf.e7d5bb7b8665d011cf3b0c377cbd378d.jpg  \n",
            " extracting: train/images/BikesHelmets91_png_jpg.rf.2fdc23f7f5be139ad30cb005d1caa2da.jpg  \n",
            " extracting: train/images/BikesHelmets91_png_jpg.rf.6bfd3e7aa2ae7025836b687d1f217af3.jpg  \n",
            " extracting: train/images/BikesHelmets91_png_jpg.rf.6dfb3ab31cd48c63e3ef008b3bef95e8.jpg  \n",
            " extracting: train/images/BikesHelmets91_png_jpg.rf.a18ffa9f47616c61eadca5bd1c53d753.jpg  \n",
            " extracting: train/images/BikesHelmets91_png_jpg.rf.c1b32a01fdc6df262764dccc5f30a2d5.jpg  \n",
            " extracting: train/images/BikesHelmets91_png_jpg.rf.d18ee1923d0e1a03e1184a839fc2a1c2.jpg  \n",
            " extracting: train/images/BikesHelmets91_png_jpg.rf.d22c1a46102e78695e6498a22b0f2ee9.jpg  \n",
            " extracting: train/images/BikesHelmets91_png_jpg.rf.da4cb61c1b61694e76fc72b6e803cd9b.jpg  \n",
            " extracting: train/images/BikesHelmets91_png_jpg.rf.f9c8e3f2ea92b940597413d2486a7885.jpg  \n",
            " extracting: train/images/BikesHelmets92_png_jpg.rf.2690ec69013d63fed304cba94ea3550a.jpg  \n",
            " extracting: train/images/BikesHelmets92_png_jpg.rf.5add09162ad1174fb701ecf45b82fa54.jpg  \n",
            " extracting: train/images/BikesHelmets92_png_jpg.rf.67cb2b5f4a498a90647abf7a1097d47c.jpg  \n",
            " extracting: train/images/BikesHelmets92_png_jpg.rf.afb2117b45a310da8572d3e010af4b07.jpg  \n",
            " extracting: train/images/BikesHelmets92_png_jpg.rf.b0c26fd2f54ab5952a097c74d2577d28.jpg  \n",
            " extracting: train/images/BikesHelmets92_png_jpg.rf.b4104d15aaf90af706134d7a6315bc8a.jpg  \n",
            " extracting: train/images/BikesHelmets92_png_jpg.rf.cd79676b8ac8d5ccd642ab71d3dbabb0.jpg  \n",
            " extracting: train/images/BikesHelmets92_png_jpg.rf.eb78a9a5f060b04d66e2dc3c4bb9f58d.jpg  \n",
            " extracting: train/images/BikesHelmets92_png_jpg.rf.fe5dd2e921aa541ac1da5a4a68232059.jpg  \n",
            " extracting: train/images/BikesHelmets93_png_jpg.rf.400cb67b797f2f29e3669c4290c866e4.jpg  \n",
            " extracting: train/images/BikesHelmets93_png_jpg.rf.451aaae7eb1ece1a97528216397e9ce1.jpg  \n",
            " extracting: train/images/BikesHelmets93_png_jpg.rf.4d8d329c9504c437821076928a826a4c.jpg  \n",
            " extracting: train/images/BikesHelmets93_png_jpg.rf.b07740e86131575ccbc369ad8f1a40b2.jpg  \n",
            " extracting: train/images/BikesHelmets93_png_jpg.rf.d235f77d7204c90b9cd7f4b8d4530c93.jpg  \n",
            " extracting: train/images/BikesHelmets93_png_jpg.rf.e355e121bbc65e7f3e4b5f9ff11cd7b4.jpg  \n",
            " extracting: train/images/BikesHelmets95_png_jpg.rf.00e4bb26a852de22fa064f6d29840344.jpg  \n",
            " extracting: train/images/BikesHelmets95_png_jpg.rf.197e2b2ad1ded58111f11e57f96a9935.jpg  \n",
            " extracting: train/images/BikesHelmets95_png_jpg.rf.7e20c680f9f354f52f82696a3f9ae6fa.jpg  \n",
            " extracting: train/images/BikesHelmets95_png_jpg.rf.9598fe738a125b1f4b9c42d6d07f807e.jpg  \n",
            " extracting: train/images/BikesHelmets95_png_jpg.rf.c1d07a48c05ac8e83987f822a00f6fb0.jpg  \n",
            " extracting: train/images/BikesHelmets95_png_jpg.rf.da569337fb1f01d0b3ebc6065e3f28b0.jpg  \n",
            " extracting: train/images/BikesHelmets95_png_jpg.rf.ed5d9ec5f77116b65d7986481fe03436.jpg  \n",
            " extracting: train/images/BikesHelmets95_png_jpg.rf.fb063812d721553134a29cea004545b6.jpg  \n",
            " extracting: train/images/BikesHelmets95_png_jpg.rf.fd501e22eb2cb11796c276ff5508a05b.jpg  \n",
            " extracting: train/images/BikesHelmets96_png_jpg.rf.22a09bda5da2534b3081d52c0324688f.jpg  \n",
            " extracting: train/images/BikesHelmets96_png_jpg.rf.2770c72638b874b6c3c0ae1608e74c3b.jpg  \n",
            " extracting: train/images/BikesHelmets96_png_jpg.rf.480565e6380881650ee0301936756ae2.jpg  \n",
            " extracting: train/images/BikesHelmets96_png_jpg.rf.64c0fe39a5879e811dfcf15959d5a956.jpg  \n",
            " extracting: train/images/BikesHelmets96_png_jpg.rf.77344d22f032bdd07436c0a29c7a0d13.jpg  \n",
            " extracting: train/images/BikesHelmets96_png_jpg.rf.9a8b839f2b74079f5382f0e346fc2244.jpg  \n",
            " extracting: train/images/BikesHelmets96_png_jpg.rf.b4707183999550dda2ba409bbefd46c8.jpg  \n",
            " extracting: train/images/BikesHelmets96_png_jpg.rf.c9387fa56a3d7bdae10b1c26e9dba2e7.jpg  \n",
            " extracting: train/images/BikesHelmets96_png_jpg.rf.d606f9d580d3853a748192152a8394eb.jpg  \n",
            " extracting: train/images/BikesHelmets97_png_jpg.rf.144fde61202180b70c2ca9da55771e3d.jpg  \n",
            " extracting: train/images/BikesHelmets97_png_jpg.rf.45728cfc99961de2c330737b2bc25908.jpg  \n",
            " extracting: train/images/BikesHelmets97_png_jpg.rf.64f241d0c32d7c4c45ee34a5b7eacc23.jpg  \n",
            " extracting: train/images/BikesHelmets97_png_jpg.rf.71da6ce7892b6269f2240af0d25a408f.jpg  \n",
            " extracting: train/images/BikesHelmets97_png_jpg.rf.73a3c075d949fa6914d10164cd69504f.jpg  \n",
            " extracting: train/images/BikesHelmets97_png_jpg.rf.9bdb767fb87f0100a90abb1b920a16b0.jpg  \n",
            " extracting: train/images/BikesHelmets97_png_jpg.rf.b7a30312d8b9491caf146a783c033d3f.jpg  \n",
            " extracting: train/images/BikesHelmets97_png_jpg.rf.ba9b7b4fe27276657430f40a82ee8e33.jpg  \n",
            " extracting: train/images/BikesHelmets97_png_jpg.rf.e12c41131946239aa121724fd350f30b.jpg  \n",
            " extracting: train/images/BikesHelmets98_png_jpg.rf.63b3a955ead71f26d0182acf08a2f82e.jpg  \n",
            " extracting: train/images/BikesHelmets98_png_jpg.rf.79564bbbbbd3d1dff09b0107f543b6ec.jpg  \n",
            " extracting: train/images/BikesHelmets98_png_jpg.rf.937a7ad893d1bdb48489a752dedef135.jpg  \n",
            " extracting: train/images/BikesHelmets98_png_jpg.rf.b7e3a4405d101dd53b85920784881fed.jpg  \n",
            " extracting: train/images/BikesHelmets98_png_jpg.rf.d3804820cd938ab3b474d1f4170c5bce.jpg  \n",
            " extracting: train/images/BikesHelmets98_png_jpg.rf.f4baecb6d54f77dbee571c4298075e1b.jpg  \n",
            " extracting: train/images/BikesHelmets99_png_jpg.rf.2c9e48f8d12d7cec4d1bfe33b02b4692.jpg  \n",
            " extracting: train/images/BikesHelmets99_png_jpg.rf.3b17701943d33b1719f61c3233359807.jpg  \n",
            " extracting: train/images/BikesHelmets99_png_jpg.rf.442b5190a6b39fc67d31dbeed37382a2.jpg  \n",
            " extracting: train/images/BikesHelmets99_png_jpg.rf.51a0edcdf11d11e3a9129b600aa3f870.jpg  \n",
            " extracting: train/images/BikesHelmets99_png_jpg.rf.5ba9062f19047d0a3fde59c4a0848655.jpg  \n",
            " extracting: train/images/BikesHelmets99_png_jpg.rf.8fed0e2dbcd7b4e1dd228c8aa66e633c.jpg  \n",
            " extracting: train/images/BikesHelmets99_png_jpg.rf.b1b7f1ea48ee52734e975084e31abfbd.jpg  \n",
            " extracting: train/images/BikesHelmets99_png_jpg.rf.ba991a75edc25d8cb0e4a0a9d3f02ee3.jpg  \n",
            " extracting: train/images/BikesHelmets99_png_jpg.rf.ce4caa90a02a553595e08b92f12a302c.jpg  \n",
            "   creating: train/labels/\n",
            " extracting: train/labels/BikesHelmets100_png_jpg.rf.14401dde2d6c7e132e0e14c2da052a08.txt  \n",
            " extracting: train/labels/BikesHelmets100_png_jpg.rf.1ac1fe36fbf3a4987e73c1d990a03225.txt  \n",
            " extracting: train/labels/BikesHelmets100_png_jpg.rf.221243c923da3253e4f818d357626d91.txt  \n",
            " extracting: train/labels/BikesHelmets100_png_jpg.rf.24f817ad1347c0e1921689bfe9f1307a.txt  \n",
            " extracting: train/labels/BikesHelmets100_png_jpg.rf.3b09e87a24f50b89a53ae80dbd9b5559.txt  \n",
            " extracting: train/labels/BikesHelmets100_png_jpg.rf.68794a13ca26986ce534028b3adf57e2.txt  \n",
            " extracting: train/labels/BikesHelmets100_png_jpg.rf.98d1d3db7a99748766778238d58d2204.txt  \n",
            " extracting: train/labels/BikesHelmets100_png_jpg.rf.e247db05fcf6327356062bf56b6c2d77.txt  \n",
            " extracting: train/labels/BikesHelmets100_png_jpg.rf.fd05f96fe3e563da2e83c733570c66cd.txt  \n",
            " extracting: train/labels/BikesHelmets101_png_jpg.rf.29b07f9aef209433f638dc8b82078533.txt  \n",
            " extracting: train/labels/BikesHelmets101_png_jpg.rf.4b220eb8045a2b536fb344f24db75c35.txt  \n",
            " extracting: train/labels/BikesHelmets101_png_jpg.rf.5cd51cf916c244d2a2a66cf9447ff99f.txt  \n",
            " extracting: train/labels/BikesHelmets101_png_jpg.rf.5e85b5185f8a9160132a505502e9370d.txt  \n",
            " extracting: train/labels/BikesHelmets101_png_jpg.rf.6de1eac3b2a8a1d0532cfc47941cb5b1.txt  \n",
            " extracting: train/labels/BikesHelmets101_png_jpg.rf.959f5d85609d98bbf9107da48cf7058c.txt  \n",
            " extracting: train/labels/BikesHelmets101_png_jpg.rf.b1f2c43aa837aac12e06d494e2a87e94.txt  \n",
            " extracting: train/labels/BikesHelmets101_png_jpg.rf.d52c358e8ba2bffb66f797eebe3b034c.txt  \n",
            " extracting: train/labels/BikesHelmets101_png_jpg.rf.fe1733cf0ec062254d9fb93f0002303b.txt  \n",
            " extracting: train/labels/BikesHelmets103_png_jpg.rf.3901fa0120c71ce6e56bcbe61e07aa12.txt  \n",
            " extracting: train/labels/BikesHelmets103_png_jpg.rf.3ff3a323f740e1d8ac53c00b3c6dff54.txt  \n",
            " extracting: train/labels/BikesHelmets103_png_jpg.rf.6a93643bdcbec419e9ac9807218ef700.txt  \n",
            " extracting: train/labels/BikesHelmets103_png_jpg.rf.855276284858bf92a181029322943b3b.txt  \n",
            " extracting: train/labels/BikesHelmets103_png_jpg.rf.9522a45b01fafcf2e869ad855e327202.txt  \n",
            " extracting: train/labels/BikesHelmets103_png_jpg.rf.a9db4089d43ea2e86c135de41a6770e5.txt  \n",
            " extracting: train/labels/BikesHelmets103_png_jpg.rf.b2066dad06793c8e696a1d09380528de.txt  \n",
            " extracting: train/labels/BikesHelmets103_png_jpg.rf.cec71710b3b4fd8f00837443f48b6f73.txt  \n",
            " extracting: train/labels/BikesHelmets103_png_jpg.rf.f2f66d66d56ffab62c5f1a18b08c609d.txt  \n",
            " extracting: train/labels/BikesHelmets106_png_jpg.rf.16dff0324b769e98d4e7c84544ed0686.txt  \n",
            " extracting: train/labels/BikesHelmets106_png_jpg.rf.1cce3602fcf04951928f1d37d2e9403c.txt  \n",
            " extracting: train/labels/BikesHelmets106_png_jpg.rf.54da8d277ef7cb59acb13bf1ef874ca7.txt  \n",
            " extracting: train/labels/BikesHelmets106_png_jpg.rf.796c18f9b59537eb0b49615a7344a189.txt  \n",
            " extracting: train/labels/BikesHelmets106_png_jpg.rf.83becd53c6ddd87e80f568414899a129.txt  \n",
            " extracting: train/labels/BikesHelmets106_png_jpg.rf.a9159832def6f8b518709209cfe0bc3c.txt  \n",
            " extracting: train/labels/BikesHelmets106_png_jpg.rf.abeb6207786368664947ec9207c78b77.txt  \n",
            " extracting: train/labels/BikesHelmets106_png_jpg.rf.c992d401d68009839db068d9ca95c422.txt  \n",
            " extracting: train/labels/BikesHelmets106_png_jpg.rf.ff684a36dd645da2a53f0b11fdc5f9c6.txt  \n",
            " extracting: train/labels/BikesHelmets107_png_jpg.rf.0f54a5f7b7004debb446e2530adb92fe.txt  \n",
            " extracting: train/labels/BikesHelmets107_png_jpg.rf.6fa09a03cde14baebd170e8fb2f5d7cd.txt  \n",
            " extracting: train/labels/BikesHelmets107_png_jpg.rf.7a14efcc97590b205c75247b2639350b.txt  \n",
            " extracting: train/labels/BikesHelmets107_png_jpg.rf.7bccc8b8f6ef68c772a147a3844f7867.txt  \n",
            " extracting: train/labels/BikesHelmets107_png_jpg.rf.92da865461f61b6034aff7f177d026ea.txt  \n",
            " extracting: train/labels/BikesHelmets107_png_jpg.rf.f76f97c0a131c3710abe35a3f547e090.txt  \n",
            " extracting: train/labels/BikesHelmets108_png_jpg.rf.09d8c0255b8803dc7b14a23bba845caa.txt  \n",
            " extracting: train/labels/BikesHelmets108_png_jpg.rf.2c166414feb2c6d466a431cddacbc93f.txt  \n",
            " extracting: train/labels/BikesHelmets108_png_jpg.rf.3b9126fc465d8588c687db92c3b1e258.txt  \n",
            " extracting: train/labels/BikesHelmets108_png_jpg.rf.708d8d10c4d24c3a64989c73378966d4.txt  \n",
            " extracting: train/labels/BikesHelmets108_png_jpg.rf.9dc8ffe36bee7848b55cf3a0a3662d92.txt  \n",
            " extracting: train/labels/BikesHelmets108_png_jpg.rf.c3cdd303b1a1c43d1237bbd4adc7d1a1.txt  \n",
            " extracting: train/labels/BikesHelmets108_png_jpg.rf.d4c1c3101542497c13c80ea922765916.txt  \n",
            " extracting: train/labels/BikesHelmets108_png_jpg.rf.e2a3408ae3e71d796b68e02b82df37c1.txt  \n",
            " extracting: train/labels/BikesHelmets108_png_jpg.rf.fe508d38cb84785ff545213f2e4ef035.txt  \n",
            " extracting: train/labels/BikesHelmets109_png_jpg.rf.2da0eafa8c5cba0b5f169d1477584973.txt  \n",
            " extracting: train/labels/BikesHelmets109_png_jpg.rf.4be9586e6cb0a4e1ca4881628dd601fa.txt  \n",
            " extracting: train/labels/BikesHelmets109_png_jpg.rf.540a7e077955a48f2bfcf51e4ad90c77.txt  \n",
            " extracting: train/labels/BikesHelmets109_png_jpg.rf.66da0b0b08579187ff6712465be96f15.txt  \n",
            " extracting: train/labels/BikesHelmets109_png_jpg.rf.6b2493f2489375a001d5563c4a51866e.txt  \n",
            " extracting: train/labels/BikesHelmets109_png_jpg.rf.80257673507663669baeb36cb3bc3703.txt  \n",
            " extracting: train/labels/BikesHelmets109_png_jpg.rf.92a7c69ba7eabdbd21181d07a281240e.txt  \n",
            " extracting: train/labels/BikesHelmets109_png_jpg.rf.bddf185cac8e37d8d7e95789eaf68973.txt  \n",
            " extracting: train/labels/BikesHelmets109_png_jpg.rf.c302102c280db16136ca9c1fd75a2a0b.txt  \n",
            " extracting: train/labels/BikesHelmets110_png_jpg.rf.1415c028ca449ce0faff7c35d4bfa053.txt  \n",
            " extracting: train/labels/BikesHelmets110_png_jpg.rf.2b09873ad3e89be051499f9b4372f59f.txt  \n",
            " extracting: train/labels/BikesHelmets110_png_jpg.rf.3757fcf014700fe291af1be1ff2b8e4c.txt  \n",
            " extracting: train/labels/BikesHelmets110_png_jpg.rf.57a5d1311dd694ba9d6360e574d68b9b.txt  \n",
            " extracting: train/labels/BikesHelmets110_png_jpg.rf.6fe08798167bb17f0e88be2fa09cf247.txt  \n",
            " extracting: train/labels/BikesHelmets110_png_jpg.rf.8cfda0d3186ba26c891b121f0fb2df16.txt  \n",
            " extracting: train/labels/BikesHelmets110_png_jpg.rf.94815ac196dfdb28cefeb1303b126bbd.txt  \n",
            " extracting: train/labels/BikesHelmets110_png_jpg.rf.95347141662a120be771ce7e1be547e1.txt  \n",
            " extracting: train/labels/BikesHelmets110_png_jpg.rf.b49958103ba7206d68ebe0e5a8fc64e4.txt  \n",
            " extracting: train/labels/BikesHelmets111_png_jpg.rf.586b5e150f2574b6cb0155f3a5ea8fe9.txt  \n",
            " extracting: train/labels/BikesHelmets111_png_jpg.rf.cf6142cd91644b9008407983a6976e18.txt  \n",
            " extracting: train/labels/BikesHelmets111_png_jpg.rf.d04b2ef16b6ec0da7bccf6ce1d4ac373.txt  \n",
            " extracting: train/labels/BikesHelmets111_png_jpg.rf.db0eb58598312e3f3ec223506cf5fbbe.txt  \n",
            " extracting: train/labels/BikesHelmets111_png_jpg.rf.eca697183d74ec7a99daa5a9d46bb6e2.txt  \n",
            " extracting: train/labels/BikesHelmets111_png_jpg.rf.f85985464339e336d692b24f6e9a8b04.txt  \n",
            " extracting: train/labels/BikesHelmets112_png_jpg.rf.1a52f98140c22819c88cf1a04bf302b7.txt  \n",
            " extracting: train/labels/BikesHelmets112_png_jpg.rf.1c3abc4f4b7c6f6b546e097213cd8a46.txt  \n",
            " extracting: train/labels/BikesHelmets112_png_jpg.rf.2fbaad60f1d0a779a6fc79a0d3ffaf21.txt  \n",
            " extracting: train/labels/BikesHelmets112_png_jpg.rf.55802f2f2aeda3df699455d28c2f43df.txt  \n",
            " extracting: train/labels/BikesHelmets112_png_jpg.rf.5f58777342ea8ec80ced7b5f987a382b.txt  \n",
            " extracting: train/labels/BikesHelmets112_png_jpg.rf.75f25890ca1b5c45457ff0f50f03abf7.txt  \n",
            " extracting: train/labels/BikesHelmets112_png_jpg.rf.7a147582a695d613f8b0137c01179dde.txt  \n",
            " extracting: train/labels/BikesHelmets112_png_jpg.rf.d8ee614a1c00c878d9612d383058f7b7.txt  \n",
            " extracting: train/labels/BikesHelmets112_png_jpg.rf.ea77bd53d63c1102f43fae4e5141c677.txt  \n",
            " extracting: train/labels/BikesHelmets113_png_jpg.rf.0d5119000d53330aa0c8a8cc857152c5.txt  \n",
            " extracting: train/labels/BikesHelmets113_png_jpg.rf.4173c51c21d726c36b84267754fc0d47.txt  \n",
            " extracting: train/labels/BikesHelmets113_png_jpg.rf.496bb3311b8fea00de8cb76139e9ea5b.txt  \n",
            " extracting: train/labels/BikesHelmets113_png_jpg.rf.5fbaae5dc1b39434f61134c2660f0805.txt  \n",
            " extracting: train/labels/BikesHelmets113_png_jpg.rf.85e2ce35b29875ceb2fa59c99b1cbe5f.txt  \n",
            " extracting: train/labels/BikesHelmets113_png_jpg.rf.a03bddae47f4aa403fd06d436e687ef7.txt  \n",
            " extracting: train/labels/BikesHelmets113_png_jpg.rf.b64647fe690b1dd325a9a371713d5b39.txt  \n",
            " extracting: train/labels/BikesHelmets113_png_jpg.rf.d28c6a1263da66fd057a5a8743958b4c.txt  \n",
            " extracting: train/labels/BikesHelmets113_png_jpg.rf.f310125ed74f2b1883c8661adf945f6c.txt  \n",
            " extracting: train/labels/BikesHelmets114_png_jpg.rf.1e678072c47e86cde8ba33c55af70353.txt  \n",
            " extracting: train/labels/BikesHelmets114_png_jpg.rf.20e3899e450bca090fce0f87e007df7b.txt  \n",
            " extracting: train/labels/BikesHelmets114_png_jpg.rf.426db29951fb57aadaf9a9e9e8902fe8.txt  \n",
            " extracting: train/labels/BikesHelmets114_png_jpg.rf.7d471a16d98689c504606a86c97b928e.txt  \n",
            " extracting: train/labels/BikesHelmets114_png_jpg.rf.a759f9f6a2b862c21c9f28516255032b.txt  \n",
            " extracting: train/labels/BikesHelmets114_png_jpg.rf.ae9c33ee46842d8544f87b230374ec6b.txt  \n",
            " extracting: train/labels/BikesHelmets114_png_jpg.rf.b150cff7e6498d4e5ae771a8cc714eea.txt  \n",
            " extracting: train/labels/BikesHelmets114_png_jpg.rf.d68a9d0e4851d9725f0cf7b7542fb11b.txt  \n",
            " extracting: train/labels/BikesHelmets114_png_jpg.rf.fe5639e057192614f44ecbc200ec0ae6.txt  \n",
            " extracting: train/labels/BikesHelmets115_png_jpg.rf.1283b886ebae61e6eb6255bd44663f93.txt  \n",
            " extracting: train/labels/BikesHelmets115_png_jpg.rf.13280d885dc3a2362b1f189f5e87c644.txt  \n",
            " extracting: train/labels/BikesHelmets115_png_jpg.rf.1e8e3a696bb3a11db7f68b3f51f6a33c.txt  \n",
            " extracting: train/labels/BikesHelmets115_png_jpg.rf.6d606efe1fc06d018a7777bd19935847.txt  \n",
            " extracting: train/labels/BikesHelmets115_png_jpg.rf.7377ce0d9ae60a4705de0501cb6e4792.txt  \n",
            " extracting: train/labels/BikesHelmets115_png_jpg.rf.9815b248a1d79b1ea0ec4fb8c6acc5b2.txt  \n",
            " extracting: train/labels/BikesHelmets115_png_jpg.rf.c6ea1757c4f728e6127c530b9221c90c.txt  \n",
            " extracting: train/labels/BikesHelmets115_png_jpg.rf.dcbcd2320296a50420b5122393765cbb.txt  \n",
            " extracting: train/labels/BikesHelmets115_png_jpg.rf.ee26a242cb9cf531ec1a3655c5b106bd.txt  \n",
            " extracting: train/labels/BikesHelmets116_png_jpg.rf.02f6c21744cee273fa070cba77700e02.txt  \n",
            " extracting: train/labels/BikesHelmets116_png_jpg.rf.0f164b629f72834572a3c7030021a1d1.txt  \n",
            " extracting: train/labels/BikesHelmets116_png_jpg.rf.2de0f7e07d3de14482c9f0138f90907f.txt  \n",
            " extracting: train/labels/BikesHelmets116_png_jpg.rf.3381b919b43f080ef3fb199d41c688af.txt  \n",
            " extracting: train/labels/BikesHelmets116_png_jpg.rf.5a9837c56e870dbc7d7851b3b1d9cfb0.txt  \n",
            " extracting: train/labels/BikesHelmets116_png_jpg.rf.6084f53f0b8f35813c8b4699fcd67fc1.txt  \n",
            " extracting: train/labels/BikesHelmets116_png_jpg.rf.d1b8ffc6cb8559d2247d926e94df267e.txt  \n",
            " extracting: train/labels/BikesHelmets116_png_jpg.rf.ec14345b1ef3d1b7751745b382e893cd.txt  \n",
            " extracting: train/labels/BikesHelmets116_png_jpg.rf.fa7d486ed68334b74dad85b8a172106b.txt  \n",
            " extracting: train/labels/BikesHelmets118_png_jpg.rf.34e5a2005506b664699002b60be978b7.txt  \n",
            " extracting: train/labels/BikesHelmets118_png_jpg.rf.741763f5f3316f04661c773a1040eecd.txt  \n",
            " extracting: train/labels/BikesHelmets118_png_jpg.rf.7bfe2ac9121903ba4908ef8ee1e0536a.txt  \n",
            " extracting: train/labels/BikesHelmets118_png_jpg.rf.8b356de0fa09b136becf3a420af9a3ec.txt  \n",
            " extracting: train/labels/BikesHelmets118_png_jpg.rf.99ed9697e7bdc6eb403934cdff67ecd7.txt  \n",
            " extracting: train/labels/BikesHelmets118_png_jpg.rf.bc620df245b59acde134091800f1b503.txt  \n",
            " extracting: train/labels/BikesHelmets120_png_jpg.rf.13eb08939d2b1e67cfef25d13d0b8139.txt  \n",
            " extracting: train/labels/BikesHelmets120_png_jpg.rf.2c93fc63f6cad0a50bd1ef9d5cf56dda.txt  \n",
            " extracting: train/labels/BikesHelmets120_png_jpg.rf.473922558f4fb4396beabd0e3d0df0d4.txt  \n",
            " extracting: train/labels/BikesHelmets120_png_jpg.rf.4dd408bac044ecdbfee515aa434822a1.txt  \n",
            " extracting: train/labels/BikesHelmets120_png_jpg.rf.548adea913f86a505fa729c588971e91.txt  \n",
            " extracting: train/labels/BikesHelmets120_png_jpg.rf.82b37a70e7b5a3b0f4ea0ddcb9ebcb42.txt  \n",
            " extracting: train/labels/BikesHelmets120_png_jpg.rf.a0af85b9b96df70b8e3a39e24a8cf91e.txt  \n",
            " extracting: train/labels/BikesHelmets120_png_jpg.rf.a539c2d06b01b48951536bddff03cf39.txt  \n",
            " extracting: train/labels/BikesHelmets120_png_jpg.rf.d2cd1f3367cbdea76277df670b3232dc.txt  \n",
            " extracting: train/labels/BikesHelmets121_png_jpg.rf.070823c3bf7ca775fdd6bdc75dcf3a3b.txt  \n",
            " extracting: train/labels/BikesHelmets121_png_jpg.rf.15180241fc3e8f1a2bc0cc955b851d34.txt  \n",
            " extracting: train/labels/BikesHelmets121_png_jpg.rf.191b7b71acd828f6b3bb666b0137b734.txt  \n",
            " extracting: train/labels/BikesHelmets121_png_jpg.rf.252a29917c2d22cc8fcb1c8edd3739a4.txt  \n",
            " extracting: train/labels/BikesHelmets121_png_jpg.rf.2cc259243fad5c7eb5d79475868a1811.txt  \n",
            " extracting: train/labels/BikesHelmets121_png_jpg.rf.335f7d7ad6267c473807eff4fcb0d000.txt  \n",
            " extracting: train/labels/BikesHelmets121_png_jpg.rf.37382d11bd8ba9d66c1429f2b8c9ff21.txt  \n",
            " extracting: train/labels/BikesHelmets121_png_jpg.rf.af7874f3daab7265858c34983885d39e.txt  \n",
            " extracting: train/labels/BikesHelmets121_png_jpg.rf.b95cb1ad207ba01829fe0fdde9db8d8e.txt  \n",
            " extracting: train/labels/BikesHelmets122_png_jpg.rf.2b9cd85ddd5700d5075d20e8d78cdfd6.txt  \n",
            " extracting: train/labels/BikesHelmets122_png_jpg.rf.4a4fafddc28517072826a9c5c0a6f1da.txt  \n",
            " extracting: train/labels/BikesHelmets122_png_jpg.rf.55792efdff74b646f102f4202ac1f4ee.txt  \n",
            " extracting: train/labels/BikesHelmets122_png_jpg.rf.6348e66922018751629d03fd275d13d5.txt  \n",
            " extracting: train/labels/BikesHelmets122_png_jpg.rf.dc14c7d85e38fe2f05f449592041473f.txt  \n",
            " extracting: train/labels/BikesHelmets122_png_jpg.rf.fc21629aafae2b599a94a54648f446d6.txt  \n",
            " extracting: train/labels/BikesHelmets123_png_jpg.rf.19becf585586060047c6e0b88ff508c3.txt  \n",
            " extracting: train/labels/BikesHelmets123_png_jpg.rf.1eb362506f1ed6812eebe85b5918c708.txt  \n",
            " extracting: train/labels/BikesHelmets123_png_jpg.rf.5b9a4512509a349ebad1d6fd6aece455.txt  \n",
            " extracting: train/labels/BikesHelmets123_png_jpg.rf.631869f8f02b1a568665b2566a846b9b.txt  \n",
            " extracting: train/labels/BikesHelmets123_png_jpg.rf.91e8f5714fc0f4b5520954d3b19b8263.txt  \n",
            " extracting: train/labels/BikesHelmets123_png_jpg.rf.e5847f354d30af39ad725d08d659cc4d.txt  \n",
            " extracting: train/labels/BikesHelmets126_png_jpg.rf.3669f73f48556218abbdac2da081da03.txt  \n",
            " extracting: train/labels/BikesHelmets126_png_jpg.rf.385799c4fa39b02344fafa469a981271.txt  \n",
            " extracting: train/labels/BikesHelmets126_png_jpg.rf.3c9f166cdb7fbc7ce54144cba7048b53.txt  \n",
            " extracting: train/labels/BikesHelmets126_png_jpg.rf.5351cc3ede960d5957f055d7ee822491.txt  \n",
            " extracting: train/labels/BikesHelmets126_png_jpg.rf.716ccdb06942a436ced988fcfc6925e5.txt  \n",
            " extracting: train/labels/BikesHelmets126_png_jpg.rf.ad511e8e090b9b63ba09e2dd6dcab02a.txt  \n",
            " extracting: train/labels/BikesHelmets126_png_jpg.rf.e1cdbb7d4d4128656783d56249b76a14.txt  \n",
            " extracting: train/labels/BikesHelmets126_png_jpg.rf.ef6b5129e360fe7481039523ddff7e48.txt  \n",
            " extracting: train/labels/BikesHelmets126_png_jpg.rf.fd5e6a671a2e45f7faada01796e5f34d.txt  \n",
            " extracting: train/labels/BikesHelmets127_png_jpg.rf.2267b1fd4eac484f43fd9f952d860d83.txt  \n",
            " extracting: train/labels/BikesHelmets127_png_jpg.rf.2a9bc9333e947ca0d6fab1f4b6a26897.txt  \n",
            " extracting: train/labels/BikesHelmets127_png_jpg.rf.58752b89e001620bd28fa64340411d70.txt  \n",
            " extracting: train/labels/BikesHelmets127_png_jpg.rf.7a2704061bfa02fee210b43aca862616.txt  \n",
            " extracting: train/labels/BikesHelmets127_png_jpg.rf.7e41a56932301491186fed3a3f084310.txt  \n",
            " extracting: train/labels/BikesHelmets127_png_jpg.rf.fe6d507f3772fd10db551cd2e1a82fef.txt  \n",
            " extracting: train/labels/BikesHelmets128_png_jpg.rf.20d2790a1b81cd77f9c62a45b24e4a0c.txt  \n",
            " extracting: train/labels/BikesHelmets128_png_jpg.rf.3fe69a9bf265e39b545413562ccccaa8.txt  \n",
            " extracting: train/labels/BikesHelmets128_png_jpg.rf.43a739a491da77523444a57c261e8ac6.txt  \n",
            " extracting: train/labels/BikesHelmets128_png_jpg.rf.503b94cc70f67c939eb7371a28ba4e0d.txt  \n",
            " extracting: train/labels/BikesHelmets128_png_jpg.rf.58be0ac7dfcbcdba1bb5d4dd0fbced18.txt  \n",
            " extracting: train/labels/BikesHelmets128_png_jpg.rf.5e4bad3d7464a8f44d3eec1c612f381b.txt  \n",
            " extracting: train/labels/BikesHelmets128_png_jpg.rf.76dd9b80fe2db48768f77645964f2621.txt  \n",
            " extracting: train/labels/BikesHelmets128_png_jpg.rf.daf3eee69434378b74f72c9a7c6cc974.txt  \n",
            " extracting: train/labels/BikesHelmets128_png_jpg.rf.e54387d174c066ff7bcbc6c4872f1a5b.txt  \n",
            " extracting: train/labels/BikesHelmets129_png_jpg.rf.309e97d551c0f5fa8d3156c86408295a.txt  \n",
            " extracting: train/labels/BikesHelmets129_png_jpg.rf.533ee6b96caabb2033f2e6524763eb49.txt  \n",
            " extracting: train/labels/BikesHelmets129_png_jpg.rf.5894de7a7671445aba60fcf61b4be567.txt  \n",
            " extracting: train/labels/BikesHelmets129_png_jpg.rf.8628b2dc3060fde22ef8da23c68f4597.txt  \n",
            " extracting: train/labels/BikesHelmets129_png_jpg.rf.ae8e109268cdf54e06a665afd25eaa71.txt  \n",
            " extracting: train/labels/BikesHelmets129_png_jpg.rf.cac2ab33ea38ff5c17dc4448a4bc77ff.txt  \n",
            " extracting: train/labels/BikesHelmets12_png_jpg.rf.1aaf89dbdee7aef97ec49af2d75ff5ed.txt  \n",
            " extracting: train/labels/BikesHelmets12_png_jpg.rf.25da056a86f73018c338b9bc2ef711ae.txt  \n",
            " extracting: train/labels/BikesHelmets12_png_jpg.rf.5d9b2490e5564b2469441cae048496fa.txt  \n",
            " extracting: train/labels/BikesHelmets12_png_jpg.rf.8fe0e78384d84b1fe000a66a82a9037d.txt  \n",
            " extracting: train/labels/BikesHelmets12_png_jpg.rf.c999ddb6f48e5c7217acdd7f8e8d986f.txt  \n",
            " extracting: train/labels/BikesHelmets12_png_jpg.rf.e584308a9dd927944dbb0feead75448d.txt  \n",
            " extracting: train/labels/BikesHelmets132_png_jpg.rf.3c952eef0045ba19a277d6ac1dd01f24.txt  \n",
            " extracting: train/labels/BikesHelmets132_png_jpg.rf.4c79fc5562307011ad6746c0c041fe39.txt  \n",
            " extracting: train/labels/BikesHelmets132_png_jpg.rf.4f1099a6531200d49cc41ed40a641ac5.txt  \n",
            " extracting: train/labels/BikesHelmets132_png_jpg.rf.6ac8f7fac42a8f03cc9aa5c68106def0.txt  \n",
            " extracting: train/labels/BikesHelmets132_png_jpg.rf.8b318ec288c2567e8f4750332db86c09.txt  \n",
            " extracting: train/labels/BikesHelmets132_png_jpg.rf.9ceb0710725ffeb894c28a03f23dca1b.txt  \n",
            " extracting: train/labels/BikesHelmets132_png_jpg.rf.a72c51173f7f1cf0e827a7cccac3413b.txt  \n",
            " extracting: train/labels/BikesHelmets132_png_jpg.rf.bdeeab55e83f11b084e7546f242b4d3c.txt  \n",
            " extracting: train/labels/BikesHelmets132_png_jpg.rf.ffdcbf458d3ff68304b83874555a4765.txt  \n",
            " extracting: train/labels/BikesHelmets133_png_jpg.rf.5cb6e1300a7d92048dc5583fab8ca70e.txt  \n",
            " extracting: train/labels/BikesHelmets133_png_jpg.rf.6f55988299d747c4a66d8e9c6efe0cd9.txt  \n",
            " extracting: train/labels/BikesHelmets133_png_jpg.rf.83751d0ae27f8aaf8f2e0f1594ea7bf2.txt  \n",
            " extracting: train/labels/BikesHelmets133_png_jpg.rf.a6c8f63650ecace3cb1df194e7df5136.txt  \n",
            " extracting: train/labels/BikesHelmets133_png_jpg.rf.cb388f083895ff2d610c4aefebea9631.txt  \n",
            " extracting: train/labels/BikesHelmets133_png_jpg.rf.d04147a40168dcd8aba0b04f2ccc7d09.txt  \n",
            " extracting: train/labels/BikesHelmets133_png_jpg.rf.e197c9a39a1fdbd1b8935868c83e0f6c.txt  \n",
            " extracting: train/labels/BikesHelmets133_png_jpg.rf.f2c9ddb761d1e537ee252d4908a46807.txt  \n",
            " extracting: train/labels/BikesHelmets133_png_jpg.rf.f62915528b2b60cf53b322cb93378c45.txt  \n",
            " extracting: train/labels/BikesHelmets134_png_jpg.rf.3a0259e18cc7ba4c989efc2c3bd683f1.txt  \n",
            " extracting: train/labels/BikesHelmets134_png_jpg.rf.43ecac044bebf0cce9515f0e0dc21783.txt  \n",
            " extracting: train/labels/BikesHelmets134_png_jpg.rf.47da6420f6984aa7c57d7a36b58c46fc.txt  \n",
            " extracting: train/labels/BikesHelmets134_png_jpg.rf.4f49e77d5b8cdee22618e82aac54bdf4.txt  \n",
            " extracting: train/labels/BikesHelmets134_png_jpg.rf.5ac41d9f0f83452299bc8dd98d10d9c0.txt  \n",
            " extracting: train/labels/BikesHelmets134_png_jpg.rf.625dc7f952dbf3a1b9f044277f555718.txt  \n",
            " extracting: train/labels/BikesHelmets134_png_jpg.rf.674431ce43b3549929a876baac94a107.txt  \n",
            " extracting: train/labels/BikesHelmets134_png_jpg.rf.b8955126e2442c6adf67ea9c258acb34.txt  \n",
            " extracting: train/labels/BikesHelmets134_png_jpg.rf.b9708fa49ea47ea9a813f3a9b26dc9c8.txt  \n",
            " extracting: train/labels/BikesHelmets136_png_jpg.rf.79834de24942fa5da405d42f51042ea9.txt  \n",
            " extracting: train/labels/BikesHelmets136_png_jpg.rf.907fc6200da102c2e11323057e8f73ca.txt  \n",
            " extracting: train/labels/BikesHelmets136_png_jpg.rf.a850fbe8d0314f37c3a7c7d230462299.txt  \n",
            " extracting: train/labels/BikesHelmets136_png_jpg.rf.cb653647c7bea8ad8b87d4e8f536c982.txt  \n",
            " extracting: train/labels/BikesHelmets136_png_jpg.rf.d9f1bdbaefd3df796ef1536e48fdf2af.txt  \n",
            " extracting: train/labels/BikesHelmets136_png_jpg.rf.e259b8184abae5f85fbe27725d700d1e.txt  \n",
            " extracting: train/labels/BikesHelmets136_png_jpg.rf.f0f8957131ede4d98651bc5df7759882.txt  \n",
            " extracting: train/labels/BikesHelmets136_png_jpg.rf.f97f7bf07c00a2309eedbcf81fca6263.txt  \n",
            " extracting: train/labels/BikesHelmets136_png_jpg.rf.fcf6829af93d36974c522687d79b6088.txt  \n",
            " extracting: train/labels/BikesHelmets137_png_jpg.rf.0f887c5ea2f618428413b735197eab3d.txt  \n",
            " extracting: train/labels/BikesHelmets137_png_jpg.rf.19bad1a2926b2cb829246fab05b32a95.txt  \n",
            " extracting: train/labels/BikesHelmets137_png_jpg.rf.32501d1b884036812abc666468029538.txt  \n",
            " extracting: train/labels/BikesHelmets137_png_jpg.rf.44da026de603ee40b7fa7a13c8086b0b.txt  \n",
            " extracting: train/labels/BikesHelmets137_png_jpg.rf.8c055d3207ad02111a63489214775270.txt  \n",
            " extracting: train/labels/BikesHelmets137_png_jpg.rf.c01558a84d832a04d3a44321f4ddb7f3.txt  \n",
            " extracting: train/labels/BikesHelmets137_png_jpg.rf.e761787b77cd44d9aa401dd0d4d05333.txt  \n",
            " extracting: train/labels/BikesHelmets137_png_jpg.rf.f600a61c84181022430ee5c143aac1b2.txt  \n",
            " extracting: train/labels/BikesHelmets137_png_jpg.rf.fb1d89822ee9fbe51f86c1d95ddd5792.txt  \n",
            " extracting: train/labels/BikesHelmets13_png_jpg.rf.02f8882a0f0ba7b70ccb6faebc4b6c48.txt  \n",
            " extracting: train/labels/BikesHelmets13_png_jpg.rf.11a9b1c422fa141d7a676af706f47a3b.txt  \n",
            " extracting: train/labels/BikesHelmets13_png_jpg.rf.462f681ad3191c89d19cf6aa19566839.txt  \n",
            " extracting: train/labels/BikesHelmets13_png_jpg.rf.46fa38c52de9112ffd38fbcfc94739b2.txt  \n",
            " extracting: train/labels/BikesHelmets13_png_jpg.rf.541778c5668aef2ce4a874d7cb03dcc2.txt  \n",
            " extracting: train/labels/BikesHelmets13_png_jpg.rf.62c125be760cf13e469cd17a8fa27739.txt  \n",
            " extracting: train/labels/BikesHelmets13_png_jpg.rf.c08c4c06ea7f7732898cf6c52793bef1.txt  \n",
            " extracting: train/labels/BikesHelmets13_png_jpg.rf.d24fd291ede06c28a1753032fdd4ff1c.txt  \n",
            " extracting: train/labels/BikesHelmets13_png_jpg.rf.fa86733080927daa56288e44b42c6e0a.txt  \n",
            " extracting: train/labels/BikesHelmets141_png_jpg.rf.2a32500e238cd409db707df1190ad53b.txt  \n",
            " extracting: train/labels/BikesHelmets141_png_jpg.rf.35d623e9468509e7b9e07f58bcafc03b.txt  \n",
            " extracting: train/labels/BikesHelmets141_png_jpg.rf.4dbdccf1095de19a8e3b4a23f62ec144.txt  \n",
            " extracting: train/labels/BikesHelmets141_png_jpg.rf.76bbc94b8a04770b61e52246a805001b.txt  \n",
            " extracting: train/labels/BikesHelmets141_png_jpg.rf.7bd10daaf3871f78d5c2a7e34be166f7.txt  \n",
            " extracting: train/labels/BikesHelmets141_png_jpg.rf.afc0bd14df995eb97d7fb6274c8c66b7.txt  \n",
            " extracting: train/labels/BikesHelmets141_png_jpg.rf.bba468270664f6ff56cb5698e2f64f6b.txt  \n",
            " extracting: train/labels/BikesHelmets141_png_jpg.rf.d723ba8452ae2501226df74cd66a3c19.txt  \n",
            " extracting: train/labels/BikesHelmets141_png_jpg.rf.fd8f1cdd98b85c4da23b09d262b87620.txt  \n",
            " extracting: train/labels/BikesHelmets142_png_jpg.rf.1d5f55187be4966ee3dcbb7b31ad9af8.txt  \n",
            " extracting: train/labels/BikesHelmets142_png_jpg.rf.5ca2d5731ebc661e13bea7e9f9463ea0.txt  \n",
            " extracting: train/labels/BikesHelmets142_png_jpg.rf.606c8d156cb93027881723eadbf5021a.txt  \n",
            " extracting: train/labels/BikesHelmets142_png_jpg.rf.a6010dcc474072afa2a1ab8bc93f3e6e.txt  \n",
            " extracting: train/labels/BikesHelmets142_png_jpg.rf.b1a303f6d4bb9d4598b335b179c1bf80.txt  \n",
            " extracting: train/labels/BikesHelmets142_png_jpg.rf.c466cb6c9b21b84d487291bee66a3bf0.txt  \n",
            " extracting: train/labels/BikesHelmets142_png_jpg.rf.c9ef2712523fbf9548bd21956e5de57c.txt  \n",
            " extracting: train/labels/BikesHelmets142_png_jpg.rf.cb0715df2000b7371a7996510ba3eecd.txt  \n",
            " extracting: train/labels/BikesHelmets142_png_jpg.rf.f381a8282105b8461dedae6b7f669222.txt  \n",
            " extracting: train/labels/BikesHelmets143_png_jpg.rf.741b92dbacc92a552469a61858f49cb2.txt  \n",
            " extracting: train/labels/BikesHelmets143_png_jpg.rf.8f743c3b587f4c8d21c00889a98a7a4b.txt  \n",
            " extracting: train/labels/BikesHelmets143_png_jpg.rf.92c8cc9178d400ee502fb36501842132.txt  \n",
            " extracting: train/labels/BikesHelmets143_png_jpg.rf.99f5be17bc44c15987fe51f9bdaf4fdb.txt  \n",
            " extracting: train/labels/BikesHelmets143_png_jpg.rf.cc15513fe1f9854fb00e827045c33356.txt  \n",
            " extracting: train/labels/BikesHelmets143_png_jpg.rf.ebcb8e0d79150bcedb0275e5dc229874.txt  \n",
            " extracting: train/labels/BikesHelmets143_png_jpg.rf.f3ecfa82565594520d9d092926555417.txt  \n",
            " extracting: train/labels/BikesHelmets143_png_jpg.rf.f791162eed8b8e279c1f8c8f6175301c.txt  \n",
            " extracting: train/labels/BikesHelmets143_png_jpg.rf.fab6cc4634b2865e35d46570bddc7d6c.txt  \n",
            " extracting: train/labels/BikesHelmets145_png_jpg.rf.21319c49ef0d00bf508fc7555c56a114.txt  \n",
            " extracting: train/labels/BikesHelmets145_png_jpg.rf.45926209aef85b027e0764d96149bb30.txt  \n",
            " extracting: train/labels/BikesHelmets145_png_jpg.rf.4f97ee77d4debf67e67098bbd66fd132.txt  \n",
            " extracting: train/labels/BikesHelmets145_png_jpg.rf.74aff99fc3b1e0e24c99fd5589d86b80.txt  \n",
            " extracting: train/labels/BikesHelmets145_png_jpg.rf.7ae1a76ec79fa4fde544138db15204b7.txt  \n",
            " extracting: train/labels/BikesHelmets145_png_jpg.rf.7ca8b08bbe06fd9b53e7957c2b957b54.txt  \n",
            " extracting: train/labels/BikesHelmets145_png_jpg.rf.8e6206ce9fac489c9f1efc5486741f50.txt  \n",
            " extracting: train/labels/BikesHelmets145_png_jpg.rf.b6cb9969950ebfdd8ef828ff869cafb7.txt  \n",
            " extracting: train/labels/BikesHelmets145_png_jpg.rf.f1328d959bd678ec1d963b1be3dcfc5f.txt  \n",
            " extracting: train/labels/BikesHelmets147_png_jpg.rf.04d09fbc5570c47434bd558b2592691f.txt  \n",
            " extracting: train/labels/BikesHelmets147_png_jpg.rf.1350ee2ab37483f984901fccd98ef680.txt  \n",
            " extracting: train/labels/BikesHelmets147_png_jpg.rf.1f438e5e0b1c0c640aff4dfa6ee31cce.txt  \n",
            " extracting: train/labels/BikesHelmets147_png_jpg.rf.2d7f05c9308c50bdf4499d626d9299cb.txt  \n",
            " extracting: train/labels/BikesHelmets147_png_jpg.rf.38c51b0c6802fc1369c139bf376efaa6.txt  \n",
            " extracting: train/labels/BikesHelmets147_png_jpg.rf.43f253f30c07aa2f571a37d4abf79999.txt  \n",
            " extracting: train/labels/BikesHelmets147_png_jpg.rf.84335a4059c42428bbdb66c55d304a72.txt  \n",
            " extracting: train/labels/BikesHelmets147_png_jpg.rf.fcde762ae8092ac7f78b6b709c3b48a9.txt  \n",
            " extracting: train/labels/BikesHelmets147_png_jpg.rf.fefe966d01a58a17ecbb9d4a95b886a4.txt  \n",
            " extracting: train/labels/BikesHelmets149_png_jpg.rf.0f17b04794967d732c73a0d023ec6aa3.txt  \n",
            " extracting: train/labels/BikesHelmets149_png_jpg.rf.1105488437b7fb117f12fc5546fa0d51.txt  \n",
            " extracting: train/labels/BikesHelmets149_png_jpg.rf.2f2ee47e313d9ba0e5471526d72580d4.txt  \n",
            " extracting: train/labels/BikesHelmets149_png_jpg.rf.3c4389126b1f41b56eeff6289693c1c1.txt  \n",
            " extracting: train/labels/BikesHelmets149_png_jpg.rf.762528a3990041940a1c18c663015143.txt  \n",
            " extracting: train/labels/BikesHelmets149_png_jpg.rf.af8cd65cf989b2cd24f2e28bc7daacab.txt  \n",
            " extracting: train/labels/BikesHelmets149_png_jpg.rf.bad631184b91eb3ee761e79aadd357f8.txt  \n",
            " extracting: train/labels/BikesHelmets149_png_jpg.rf.c6673b49c144403dee4bdcb23353f728.txt  \n",
            " extracting: train/labels/BikesHelmets149_png_jpg.rf.db41097013b3481af0d8da0bb6a71ffc.txt  \n",
            " extracting: train/labels/BikesHelmets14_png_jpg.rf.681483df48d7a27f8e1f4b9242cc3cf6.txt  \n",
            " extracting: train/labels/BikesHelmets14_png_jpg.rf.78784369eaaa406217581b05a0792992.txt  \n",
            " extracting: train/labels/BikesHelmets14_png_jpg.rf.a5a7ff6691970800d813cce316ac5f90.txt  \n",
            " extracting: train/labels/BikesHelmets14_png_jpg.rf.c0ba0079d18d9e5c4950152f8252712a.txt  \n",
            " extracting: train/labels/BikesHelmets14_png_jpg.rf.c11cf218959fa0e83703d8ae2a9561c9.txt  \n",
            " extracting: train/labels/BikesHelmets14_png_jpg.rf.c757643636f22e9e13747d57d3aa88a4.txt  \n",
            " extracting: train/labels/BikesHelmets152_png_jpg.rf.00c8244d8f121e9a855d252c33f36926.txt  \n",
            " extracting: train/labels/BikesHelmets152_png_jpg.rf.471e16c16457023fe5903d5cbc1cdbe6.txt  \n",
            " extracting: train/labels/BikesHelmets152_png_jpg.rf.4d30de9450aa106846e2a1c952a98068.txt  \n",
            " extracting: train/labels/BikesHelmets152_png_jpg.rf.524a20d89d063b6517afd485d383fa15.txt  \n",
            " extracting: train/labels/BikesHelmets152_png_jpg.rf.63a1135fb036fc6cac127b50fca93e3b.txt  \n",
            " extracting: train/labels/BikesHelmets152_png_jpg.rf.63d303e04a646ff601dee087360b75dd.txt  \n",
            " extracting: train/labels/BikesHelmets152_png_jpg.rf.6b3d9189484f83863c265fb8e15cf9a1.txt  \n",
            " extracting: train/labels/BikesHelmets152_png_jpg.rf.c28935bdd07ab506bbacfa5cf3451a4e.txt  \n",
            " extracting: train/labels/BikesHelmets152_png_jpg.rf.ea8b749496e474826d653ec830f99eea.txt  \n",
            " extracting: train/labels/BikesHelmets153_png_jpg.rf.2c13575ff5af907786a476620594bd0f.txt  \n",
            " extracting: train/labels/BikesHelmets153_png_jpg.rf.6d871a93621ea31ff80408ff3cfd3d32.txt  \n",
            " extracting: train/labels/BikesHelmets153_png_jpg.rf.74f5e2e7abfb3a987fea02662cc73e7c.txt  \n",
            " extracting: train/labels/BikesHelmets153_png_jpg.rf.82b1455b1cc7137206e683fc225caca8.txt  \n",
            " extracting: train/labels/BikesHelmets153_png_jpg.rf.bfd6269dc7761bdda8b7fdd3549ee74e.txt  \n",
            " extracting: train/labels/BikesHelmets153_png_jpg.rf.c208658951c613abbb502cb76233bd33.txt  \n",
            " extracting: train/labels/BikesHelmets154_png_jpg.rf.774093b6491fb557e565e9fe5fa0b2b3.txt  \n",
            " extracting: train/labels/BikesHelmets154_png_jpg.rf.85dd79c949e58cf1c6481241abd4715a.txt  \n",
            " extracting: train/labels/BikesHelmets154_png_jpg.rf.934709f29ec7df822f9e26e1ee69a829.txt  \n",
            " extracting: train/labels/BikesHelmets154_png_jpg.rf.a96c098fe4b96874649186876b370b19.txt  \n",
            " extracting: train/labels/BikesHelmets154_png_jpg.rf.c3b95d718de02b514304dd87fd6802c3.txt  \n",
            " extracting: train/labels/BikesHelmets154_png_jpg.rf.ce39fc169f63ede1f3ffafd37ef868e5.txt  \n",
            " extracting: train/labels/BikesHelmets154_png_jpg.rf.ef89e0a89c6b78daa0e626f9ca729719.txt  \n",
            " extracting: train/labels/BikesHelmets154_png_jpg.rf.f3a17712ae0225e1669505fe69f41ecf.txt  \n",
            " extracting: train/labels/BikesHelmets154_png_jpg.rf.fb44c94ac2488bf3a99e41d2fdcb6756.txt  \n",
            " extracting: train/labels/BikesHelmets155_png_jpg.rf.052711770f9469510594898fce72d162.txt  \n",
            " extracting: train/labels/BikesHelmets155_png_jpg.rf.3743fb48e445a49bc405a9126b91b727.txt  \n",
            " extracting: train/labels/BikesHelmets155_png_jpg.rf.5c09141176c1053c0fe46ee6ea7af83c.txt  \n",
            " extracting: train/labels/BikesHelmets155_png_jpg.rf.78dd824e83bf882b98609aa93c0ceda2.txt  \n",
            " extracting: train/labels/BikesHelmets155_png_jpg.rf.a9fc399ef8137ea65ea68ed447d89b4e.txt  \n",
            " extracting: train/labels/BikesHelmets155_png_jpg.rf.c1cc519f9fbf484115a86ef2a5a99b53.txt  \n",
            " extracting: train/labels/BikesHelmets155_png_jpg.rf.c1cf54dd059a2eeb3cedc0e79b9168c6.txt  \n",
            " extracting: train/labels/BikesHelmets155_png_jpg.rf.e0b57f2c2b1bee1848e7c3b09c6c3398.txt  \n",
            " extracting: train/labels/BikesHelmets155_png_jpg.rf.ee2f50ff2ae032fd765c258f3251d40c.txt  \n",
            " extracting: train/labels/BikesHelmets156_png_jpg.rf.126607478cfd7943d3fdd8206107a80d.txt  \n",
            " extracting: train/labels/BikesHelmets156_png_jpg.rf.1a7d183a35ac1388fa97c497e0b5d538.txt  \n",
            " extracting: train/labels/BikesHelmets156_png_jpg.rf.3b33aa9fcb18c148a4c821358176e6f1.txt  \n",
            " extracting: train/labels/BikesHelmets156_png_jpg.rf.5dcc736f4e4430758f6206ebf5ed7bf0.txt  \n",
            " extracting: train/labels/BikesHelmets156_png_jpg.rf.8b02e5d45c53341eff9f78a92cf4cd39.txt  \n",
            " extracting: train/labels/BikesHelmets156_png_jpg.rf.9f2d9b0a226c5dad81c7e65e020fe79c.txt  \n",
            " extracting: train/labels/BikesHelmets156_png_jpg.rf.a727decfa21e508740bc52f244ec5d9c.txt  \n",
            " extracting: train/labels/BikesHelmets156_png_jpg.rf.af11688842e3d000012cfb7c16f6778f.txt  \n",
            " extracting: train/labels/BikesHelmets156_png_jpg.rf.fcc94d3447b9d69df073c3a8996fd8fa.txt  \n",
            " extracting: train/labels/BikesHelmets158_png_jpg.rf.2f7d081224af205548edc16e5d46538b.txt  \n",
            " extracting: train/labels/BikesHelmets158_png_jpg.rf.4623619e1d0701f291ae1574621b88c4.txt  \n",
            " extracting: train/labels/BikesHelmets158_png_jpg.rf.55d50b80b70775bd0853a855487d81b2.txt  \n",
            " extracting: train/labels/BikesHelmets158_png_jpg.rf.606ff50a7060abbaa5371844c0b801cc.txt  \n",
            " extracting: train/labels/BikesHelmets158_png_jpg.rf.88dc1ce9c936a00c5d130ae9c44b7ffc.txt  \n",
            " extracting: train/labels/BikesHelmets158_png_jpg.rf.a911a96d8b3c640dfcc0c863354767c0.txt  \n",
            " extracting: train/labels/BikesHelmets158_png_jpg.rf.bc1cc8cd78729eda439adfaebcb9f882.txt  \n",
            " extracting: train/labels/BikesHelmets158_png_jpg.rf.cd8ad4193c0c67126f082a2dccbfb581.txt  \n",
            " extracting: train/labels/BikesHelmets158_png_jpg.rf.cebd009f03f250afef38a97dcfc76948.txt  \n",
            " extracting: train/labels/BikesHelmets160_png_jpg.rf.10638612164bf654bc9b51722c7d00dd.txt  \n",
            " extracting: train/labels/BikesHelmets160_png_jpg.rf.26eeb716066af23983d616e314642ba5.txt  \n",
            " extracting: train/labels/BikesHelmets160_png_jpg.rf.4bce5773c77aa01c1d85a148b13dd23b.txt  \n",
            " extracting: train/labels/BikesHelmets160_png_jpg.rf.dcacd9de0ef710642f5b07f44a42f61f.txt  \n",
            " extracting: train/labels/BikesHelmets160_png_jpg.rf.e5eed3a2bc8ae4dd432761662b1eec84.txt  \n",
            " extracting: train/labels/BikesHelmets160_png_jpg.rf.fdf3f87b45fe26096bad771e1a12aad9.txt  \n",
            " extracting: train/labels/BikesHelmets161_png_jpg.rf.17e6c29a2bed3009daeed1c14324886d.txt  \n",
            " extracting: train/labels/BikesHelmets161_png_jpg.rf.2a4b11d2df236de73568481b8e6b33ba.txt  \n",
            " extracting: train/labels/BikesHelmets161_png_jpg.rf.499b616df55ab0ad5ee986feffaaf9f6.txt  \n",
            " extracting: train/labels/BikesHelmets161_png_jpg.rf.4ed4e174691ad88f36876cbf58ff75a4.txt  \n",
            " extracting: train/labels/BikesHelmets161_png_jpg.rf.5fdabc33f4e35b639a71b9001aa5cfe2.txt  \n",
            " extracting: train/labels/BikesHelmets161_png_jpg.rf.66ffe398ccce77cbc6924503a74429c8.txt  \n",
            " extracting: train/labels/BikesHelmets161_png_jpg.rf.89cf44a910bc8de11a96e78567361be8.txt  \n",
            " extracting: train/labels/BikesHelmets161_png_jpg.rf.a1ec91c3bcda38d04f046bd392c1e8af.txt  \n",
            " extracting: train/labels/BikesHelmets161_png_jpg.rf.eb5e810ff9cc30919b3863c210a991a4.txt  \n",
            " extracting: train/labels/BikesHelmets164_png_jpg.rf.21fa1b4f677ece2cc881fb4c671f8a58.txt  \n",
            " extracting: train/labels/BikesHelmets164_png_jpg.rf.2a3b2853a908028d72fd3434aff01b6a.txt  \n",
            " extracting: train/labels/BikesHelmets164_png_jpg.rf.47d3a74664f95627dd7f363345ec642b.txt  \n",
            " extracting: train/labels/BikesHelmets164_png_jpg.rf.8174f715a31e49db104c120df4693c77.txt  \n",
            " extracting: train/labels/BikesHelmets164_png_jpg.rf.84f56605afa1d1ad722df1c3c04c742f.txt  \n",
            " extracting: train/labels/BikesHelmets164_png_jpg.rf.a0a8fbd1465bae92db3c1b48290f7911.txt  \n",
            " extracting: train/labels/BikesHelmets164_png_jpg.rf.a45c7c97fec8b17b749c1cc32990b211.txt  \n",
            " extracting: train/labels/BikesHelmets164_png_jpg.rf.d12f393580b2ed8888e238f400e8a220.txt  \n",
            " extracting: train/labels/BikesHelmets164_png_jpg.rf.ef67174ca62bb2f254dbd04610f9a13a.txt  \n",
            " extracting: train/labels/BikesHelmets165_png_jpg.rf.1071b8507a5a097ac25832e85bce75a6.txt  \n",
            " extracting: train/labels/BikesHelmets165_png_jpg.rf.284d208e9c5bec0a256a43771506776b.txt  \n",
            " extracting: train/labels/BikesHelmets165_png_jpg.rf.58be19ffe90a6b71dd11053fc89529ed.txt  \n",
            " extracting: train/labels/BikesHelmets165_png_jpg.rf.7356b1bd92a38c82979d03582f143c00.txt  \n",
            " extracting: train/labels/BikesHelmets165_png_jpg.rf.a8d756f1b80cd56a7ca851cd0ba78788.txt  \n",
            " extracting: train/labels/BikesHelmets165_png_jpg.rf.ed99a3cdef68771935e53ab82ebac497.txt  \n",
            " extracting: train/labels/BikesHelmets168_png_jpg.rf.027ec2970ff0f0d70eb7be34f249a193.txt  \n",
            " extracting: train/labels/BikesHelmets168_png_jpg.rf.0cf22b9f3df1e614cea2b3493a40f68b.txt  \n",
            " extracting: train/labels/BikesHelmets168_png_jpg.rf.233a02d5b900640ae1024950f13ccfca.txt  \n",
            " extracting: train/labels/BikesHelmets168_png_jpg.rf.57e6b76e530b7cb2685084b6f2336378.txt  \n",
            " extracting: train/labels/BikesHelmets168_png_jpg.rf.5b550ce3968b51ce40a7756b232cf608.txt  \n",
            " extracting: train/labels/BikesHelmets168_png_jpg.rf.a7a7b28e05094aaf1938ec714e17698b.txt  \n",
            " extracting: train/labels/BikesHelmets168_png_jpg.rf.dcd1f8927a94a029f5ca1b97a910db5f.txt  \n",
            " extracting: train/labels/BikesHelmets168_png_jpg.rf.de23278117c48bbd8cec434c3429fd12.txt  \n",
            " extracting: train/labels/BikesHelmets168_png_jpg.rf.f33dcfca56f1080e3f1fc6b66e9c8dac.txt  \n",
            " extracting: train/labels/BikesHelmets169_png_jpg.rf.04b20a3d7a0d150fe9937eacc5705fce.txt  \n",
            " extracting: train/labels/BikesHelmets169_png_jpg.rf.56c03d061aae3c3092a7f074f7e6c401.txt  \n",
            " extracting: train/labels/BikesHelmets169_png_jpg.rf.810d414c0b026337e97a5e3b1d45bdb4.txt  \n",
            " extracting: train/labels/BikesHelmets169_png_jpg.rf.b655070cb92b9a85c0f69cc09ab802a8.txt  \n",
            " extracting: train/labels/BikesHelmets169_png_jpg.rf.bedcb5e9af5b64b1ee900443fbf2ac0a.txt  \n",
            " extracting: train/labels/BikesHelmets169_png_jpg.rf.e5053a3386fcdde5545b70349aaf44b0.txt  \n",
            " extracting: train/labels/BikesHelmets16_png_jpg.rf.0867a2ac9eb1bb79a4e567890c2ab275.txt  \n",
            " extracting: train/labels/BikesHelmets16_png_jpg.rf.1394dc915a93b370ed6018b1fd69da9c.txt  \n",
            " extracting: train/labels/BikesHelmets16_png_jpg.rf.3a859b2170e601b51432666a5eb77c8f.txt  \n",
            " extracting: train/labels/BikesHelmets16_png_jpg.rf.4962149c9995b0700bc366ca87ee2d99.txt  \n",
            " extracting: train/labels/BikesHelmets16_png_jpg.rf.569c6ee6bfada6b7207155d097ffbc33.txt  \n",
            " extracting: train/labels/BikesHelmets16_png_jpg.rf.634c1be0b16d8d04c5a80a2f95dd4abd.txt  \n",
            " extracting: train/labels/BikesHelmets16_png_jpg.rf.67fbe61b06e32c6caba565bbeee26b68.txt  \n",
            " extracting: train/labels/BikesHelmets16_png_jpg.rf.76908ea43d31323aad844ca98a104161.txt  \n",
            " extracting: train/labels/BikesHelmets16_png_jpg.rf.b1821e962cbfaed6b97032ca4ce12beb.txt  \n",
            " extracting: train/labels/BikesHelmets170_png_jpg.rf.0428dbf1232c10048f4814e36e067742.txt  \n",
            " extracting: train/labels/BikesHelmets170_png_jpg.rf.294caac1c49330b4931f2c0b464ecbb1.txt  \n",
            " extracting: train/labels/BikesHelmets170_png_jpg.rf.5ace892f00e70dc8be90d2aed40d6bbd.txt  \n",
            " extracting: train/labels/BikesHelmets170_png_jpg.rf.62e7d13f67fac929675b8ef996629f41.txt  \n",
            " extracting: train/labels/BikesHelmets170_png_jpg.rf.83f1a1db694dfdd163ae6cc92c8596d7.txt  \n",
            " extracting: train/labels/BikesHelmets170_png_jpg.rf.860998e27fcd18510ff47b323fbad22c.txt  \n",
            " extracting: train/labels/BikesHelmets170_png_jpg.rf.93d8ee51cea49042abff5c9d5fea1ba4.txt  \n",
            " extracting: train/labels/BikesHelmets170_png_jpg.rf.af7b8ddee5bb1886fb682deea5ca07f1.txt  \n",
            " extracting: train/labels/BikesHelmets170_png_jpg.rf.bde500ac019f83c574b1f702875ac65e.txt  \n",
            " extracting: train/labels/BikesHelmets171_png_jpg.rf.057fffd6b311703326dc75fd4130c387.txt  \n",
            " extracting: train/labels/BikesHelmets171_png_jpg.rf.18246e2e6786e8506cc319d2a08d027b.txt  \n",
            " extracting: train/labels/BikesHelmets171_png_jpg.rf.3aa83ac0378cba75bf4fc763e6765245.txt  \n",
            " extracting: train/labels/BikesHelmets171_png_jpg.rf.77c8853791c7afedb8f407f478a409cd.txt  \n",
            " extracting: train/labels/BikesHelmets171_png_jpg.rf.9758294ebd45d3ee541fd78888101664.txt  \n",
            " extracting: train/labels/BikesHelmets171_png_jpg.rf.a1b98f4536d9532c6e2c706933b3cb72.txt  \n",
            " extracting: train/labels/BikesHelmets171_png_jpg.rf.b60ff626489ffb0bc53c7d0469954e49.txt  \n",
            " extracting: train/labels/BikesHelmets171_png_jpg.rf.be0119914b699541f8839a7b99c9b450.txt  \n",
            " extracting: train/labels/BikesHelmets171_png_jpg.rf.e9a8949093c73ae6dd58d60035d19bcc.txt  \n",
            " extracting: train/labels/BikesHelmets172_png_jpg.rf.01426771e396ffdb6169079ff33a2990.txt  \n",
            " extracting: train/labels/BikesHelmets172_png_jpg.rf.01cdad8c95ec8c3f2011deceefcf948e.txt  \n",
            " extracting: train/labels/BikesHelmets172_png_jpg.rf.561b646577c0e60d095253869c870304.txt  \n",
            " extracting: train/labels/BikesHelmets172_png_jpg.rf.567990f902ab88c1b17aa85b03da7201.txt  \n",
            " extracting: train/labels/BikesHelmets172_png_jpg.rf.635383befd4140bcb4dae33bceb6d9a7.txt  \n",
            " extracting: train/labels/BikesHelmets172_png_jpg.rf.7dc08f5404c0ce642e0421ff8a20324b.txt  \n",
            " extracting: train/labels/BikesHelmets172_png_jpg.rf.87481b21a4d71086345657ea8939482a.txt  \n",
            " extracting: train/labels/BikesHelmets172_png_jpg.rf.8983e2d398b5f2e3eb0796283bdfc84f.txt  \n",
            " extracting: train/labels/BikesHelmets172_png_jpg.rf.c377accc406e5ce364bec54bbc443ddf.txt  \n",
            " extracting: train/labels/BikesHelmets173_png_jpg.rf.21cef746700ee511a563b72f9575ce67.txt  \n",
            " extracting: train/labels/BikesHelmets173_png_jpg.rf.3f873c8b605c4f8565cf6daf24417d69.txt  \n",
            " extracting: train/labels/BikesHelmets173_png_jpg.rf.4f99f3ff23ec70b6cc5e5fd306ca4f02.txt  \n",
            " extracting: train/labels/BikesHelmets173_png_jpg.rf.55344ae9cb0bafde1a2e571458bf4ff1.txt  \n",
            " extracting: train/labels/BikesHelmets173_png_jpg.rf.7989a49dd77e2ef09f98eb4cced4a0d3.txt  \n",
            " extracting: train/labels/BikesHelmets173_png_jpg.rf.c33e0782514ba1f16c7dc3789519db9d.txt  \n",
            " extracting: train/labels/BikesHelmets173_png_jpg.rf.c63ee6f4b7c39e1808e3d85558daa9be.txt  \n",
            " extracting: train/labels/BikesHelmets173_png_jpg.rf.d086d81b7cd83e222a80dfded7c67069.txt  \n",
            " extracting: train/labels/BikesHelmets173_png_jpg.rf.e4ffc518c3b2d797b210c27955617ee0.txt  \n",
            " extracting: train/labels/BikesHelmets174_png_jpg.rf.06dc83cfd5b0b5a02013d105d44cd0fb.txt  \n",
            " extracting: train/labels/BikesHelmets174_png_jpg.rf.3aa114bc47449c263182c63331da6cb5.txt  \n",
            " extracting: train/labels/BikesHelmets174_png_jpg.rf.4df8778c569849954f66c389fa392b24.txt  \n",
            " extracting: train/labels/BikesHelmets174_png_jpg.rf.4e16098bbdd75c1da5006799014912a2.txt  \n",
            " extracting: train/labels/BikesHelmets174_png_jpg.rf.726477cf859aa6165d9f0da78ae2f299.txt  \n",
            " extracting: train/labels/BikesHelmets174_png_jpg.rf.8345dfc2f6c45da4c08f4db7b477d4a3.txt  \n",
            " extracting: train/labels/BikesHelmets174_png_jpg.rf.8964bf86a658d2050e5abb8180c2a85a.txt  \n",
            " extracting: train/labels/BikesHelmets174_png_jpg.rf.91dea73775d9e9d8383e8a19781ee2be.txt  \n",
            " extracting: train/labels/BikesHelmets174_png_jpg.rf.c03d1debb8749799e5a4888eae1c0b1f.txt  \n",
            " extracting: train/labels/BikesHelmets175_png_jpg.rf.02b9b0bc5563105d689d0ab57ec72416.txt  \n",
            " extracting: train/labels/BikesHelmets175_png_jpg.rf.19827c3ac2d42323fb3f569cc5a07a0b.txt  \n",
            " extracting: train/labels/BikesHelmets175_png_jpg.rf.3f954cd35f78beeb239fdd345c5e4fb8.txt  \n",
            " extracting: train/labels/BikesHelmets175_png_jpg.rf.828100a02a0d07a74382ea35c6f4ff05.txt  \n",
            " extracting: train/labels/BikesHelmets175_png_jpg.rf.a8f4570fce4fa329186cb9df44b8be25.txt  \n",
            " extracting: train/labels/BikesHelmets175_png_jpg.rf.c4c2bd37959d2bbf1596a990a5c1835e.txt  \n",
            " extracting: train/labels/BikesHelmets175_png_jpg.rf.c86bacab3267e89129f892a0b741b7a3.txt  \n",
            " extracting: train/labels/BikesHelmets175_png_jpg.rf.cdc40ffa23dbffca95b15c3891b64a38.txt  \n",
            " extracting: train/labels/BikesHelmets175_png_jpg.rf.d6ebb2c2f91b1a12922395a1d0c5ee7f.txt  \n",
            " extracting: train/labels/BikesHelmets177_png_jpg.rf.1590aca390735438148c95a08d0a2c74.txt  \n",
            " extracting: train/labels/BikesHelmets177_png_jpg.rf.3139ed351db29b463eb03d370e81df74.txt  \n",
            " extracting: train/labels/BikesHelmets177_png_jpg.rf.48f9544b5eee8720f1c194c6d1d9d4e9.txt  \n",
            " extracting: train/labels/BikesHelmets177_png_jpg.rf.55262f866b56a129637363b1e855a154.txt  \n",
            " extracting: train/labels/BikesHelmets177_png_jpg.rf.55b4fd44ed6812a2d990650a88474817.txt  \n",
            " extracting: train/labels/BikesHelmets177_png_jpg.rf.6d62d1fd9538c23bec797e87a12fb48f.txt  \n",
            " extracting: train/labels/BikesHelmets177_png_jpg.rf.8da8ce6592297133e8abf2945c666d68.txt  \n",
            " extracting: train/labels/BikesHelmets177_png_jpg.rf.dbe5e7467f8dd01ce072d35c6fe855e3.txt  \n",
            " extracting: train/labels/BikesHelmets177_png_jpg.rf.e4360a9b03427a0448127a554ebc5031.txt  \n",
            " extracting: train/labels/BikesHelmets178_png_jpg.rf.0ed6bbd1b437f608a26c76d69792ea93.txt  \n",
            " extracting: train/labels/BikesHelmets178_png_jpg.rf.21be78c51afafca4ee57ded2df20e61d.txt  \n",
            " extracting: train/labels/BikesHelmets178_png_jpg.rf.48a617516ac3775c0836fb8b33356d73.txt  \n",
            " extracting: train/labels/BikesHelmets178_png_jpg.rf.4ffb20c53d388fb5f36cc094e9025087.txt  \n",
            " extracting: train/labels/BikesHelmets178_png_jpg.rf.6cbacfd8b7190d5ec067a48fdb74aa5e.txt  \n",
            " extracting: train/labels/BikesHelmets178_png_jpg.rf.72c1413d2afa0b0c0204896f02246ed9.txt  \n",
            " extracting: train/labels/BikesHelmets178_png_jpg.rf.92291749f0360ddd787cca71323b3570.txt  \n",
            " extracting: train/labels/BikesHelmets178_png_jpg.rf.a9ec90286f192e2e21b1d71544eff6f2.txt  \n",
            " extracting: train/labels/BikesHelmets178_png_jpg.rf.cf37d2ed3a2be17dbb9555cb1f8e6dde.txt  \n",
            " extracting: train/labels/BikesHelmets17_png_jpg.rf.2cf55d8a30f86526908a56d3a48c50ed.txt  \n",
            " extracting: train/labels/BikesHelmets17_png_jpg.rf.62230d4035d9a9358d5b415949a79750.txt  \n",
            " extracting: train/labels/BikesHelmets17_png_jpg.rf.c807180626dae814bbaae6432bb77add.txt  \n",
            " extracting: train/labels/BikesHelmets181_png_jpg.rf.0064d603045bccd847c5510ad8454b4a.txt  \n",
            " extracting: train/labels/BikesHelmets181_png_jpg.rf.178d9cd2991f7f141f081cb83dde256b.txt  \n",
            " extracting: train/labels/BikesHelmets181_png_jpg.rf.24349cb652d5f38274e425df24eba2f1.txt  \n",
            " extracting: train/labels/BikesHelmets181_png_jpg.rf.4550e8aa6b94dbf8033db638ac048034.txt  \n",
            " extracting: train/labels/BikesHelmets181_png_jpg.rf.5fa44ec060d0cd22ef43db51a7dba279.txt  \n",
            " extracting: train/labels/BikesHelmets181_png_jpg.rf.6a41f63cccaa1a46f86778869f35ff5f.txt  \n",
            " extracting: train/labels/BikesHelmets181_png_jpg.rf.a1799ed030ad09ca9b9f9c816674b6ee.txt  \n",
            " extracting: train/labels/BikesHelmets181_png_jpg.rf.b609eff7e2459cee060db8a34d0476f7.txt  \n",
            " extracting: train/labels/BikesHelmets181_png_jpg.rf.e12ddef097d50d52d3de07d38857cec4.txt  \n",
            " extracting: train/labels/BikesHelmets182_png_jpg.rf.c2cdf38565d2153dc45c5dec6aa61902.txt  \n",
            " extracting: train/labels/BikesHelmets182_png_jpg.rf.ce1ec3cd705c2bed5f7f1accc41cbad7.txt  \n",
            " extracting: train/labels/BikesHelmets182_png_jpg.rf.f3877c87a0013ed17dc0fd3b0d16e626.txt  \n",
            " extracting: train/labels/BikesHelmets183_png_jpg.rf.05fd23dbe256ac1ed98c9890e5820ad1.txt  \n",
            " extracting: train/labels/BikesHelmets183_png_jpg.rf.2474dc885e7ecdfe1c6253698f9a001a.txt  \n",
            " extracting: train/labels/BikesHelmets183_png_jpg.rf.3c6aad962806665b2bc0f4c556ee9489.txt  \n",
            " extracting: train/labels/BikesHelmets183_png_jpg.rf.5ca491aec3f18fea7887f30c0a2be8a1.txt  \n",
            " extracting: train/labels/BikesHelmets183_png_jpg.rf.8ae2744c151d4a13b199e93fbd638536.txt  \n",
            " extracting: train/labels/BikesHelmets183_png_jpg.rf.9d0b3759dc50f3647f91f212b35659b5.txt  \n",
            " extracting: train/labels/BikesHelmets183_png_jpg.rf.b574e7aac5980c60aa1650888e93d4e3.txt  \n",
            " extracting: train/labels/BikesHelmets183_png_jpg.rf.cb4223f33c44c2b7607039da759f8565.txt  \n",
            " extracting: train/labels/BikesHelmets183_png_jpg.rf.f9a744287160b9526e0ec6716123c4e9.txt  \n",
            " extracting: train/labels/BikesHelmets184_png_jpg.rf.218d1c52bed4aedccb47caa276978921.txt  \n",
            " extracting: train/labels/BikesHelmets184_png_jpg.rf.47fa73d2c7713c05a70cd4b3020ac804.txt  \n",
            " extracting: train/labels/BikesHelmets184_png_jpg.rf.54895d0da6a20d7040334857c47ceaee.txt  \n",
            " extracting: train/labels/BikesHelmets184_png_jpg.rf.c1eb771e16b9326b5f09542cd7575da0.txt  \n",
            " extracting: train/labels/BikesHelmets184_png_jpg.rf.ca81e79213c27b201a73992dc555affd.txt  \n",
            " extracting: train/labels/BikesHelmets184_png_jpg.rf.ef0795b50981aeb5c9b150ccd21b6f2f.txt  \n",
            " extracting: train/labels/BikesHelmets185_png_jpg.rf.2093f2a8ca86a84a00de209e58b2b8b0.txt  \n",
            " extracting: train/labels/BikesHelmets185_png_jpg.rf.519fbe2fdb4c778bf4e8abc6be093628.txt  \n",
            " extracting: train/labels/BikesHelmets185_png_jpg.rf.51c04c4d6af76cabb9d9d48aa01aae33.txt  \n",
            " extracting: train/labels/BikesHelmets185_png_jpg.rf.5dfee2c21aa01385e8440f1535564f42.txt  \n",
            " extracting: train/labels/BikesHelmets185_png_jpg.rf.8420ba1011319b6285a9597a25ff2fc9.txt  \n",
            " extracting: train/labels/BikesHelmets185_png_jpg.rf.9a0ac2e1115815bf5b5fc7c3fa8c1037.txt  \n",
            " extracting: train/labels/BikesHelmets185_png_jpg.rf.c0af0c74cb5ceb37c34923ac3152ee00.txt  \n",
            " extracting: train/labels/BikesHelmets185_png_jpg.rf.f1cd4d4c265ca4b6087a223218a10bc0.txt  \n",
            " extracting: train/labels/BikesHelmets185_png_jpg.rf.f42eb2f3bf7708faab2f98bbfba71825.txt  \n",
            " extracting: train/labels/BikesHelmets187_png_jpg.rf.0a12711b96439fc5f9ab00c898e30b10.txt  \n",
            " extracting: train/labels/BikesHelmets187_png_jpg.rf.315cc3f220da754884b9c74f670fc528.txt  \n",
            " extracting: train/labels/BikesHelmets187_png_jpg.rf.3746248b9b9c89e83f38405c0f0f5bf7.txt  \n",
            " extracting: train/labels/BikesHelmets187_png_jpg.rf.47459c8f870c9e568b5310352f284c0c.txt  \n",
            " extracting: train/labels/BikesHelmets187_png_jpg.rf.685106b71141391520794cfef43747c2.txt  \n",
            " extracting: train/labels/BikesHelmets187_png_jpg.rf.a90b1d2853ea651afa6f6dfa3583b58d.txt  \n",
            " extracting: train/labels/BikesHelmets188_png_jpg.rf.28170662400e1ca25ef92bb7dbd4c336.txt  \n",
            " extracting: train/labels/BikesHelmets188_png_jpg.rf.401c2859a69bc6e837f26a680abf1bc1.txt  \n",
            " extracting: train/labels/BikesHelmets188_png_jpg.rf.4ea70e24cc376170c8ed689a8c6c0328.txt  \n",
            " extracting: train/labels/BikesHelmets188_png_jpg.rf.9d8ac603352d479d18496173d2e410e6.txt  \n",
            " extracting: train/labels/BikesHelmets188_png_jpg.rf.9e347fe23761ef00cc39fdfc146491bc.txt  \n",
            " extracting: train/labels/BikesHelmets188_png_jpg.rf.a3c659574643a5fe5d0517e0769e131a.txt  \n",
            " extracting: train/labels/BikesHelmets188_png_jpg.rf.ac4cc6f665ba1779312dbe76f69cfd86.txt  \n",
            " extracting: train/labels/BikesHelmets188_png_jpg.rf.d3d80dd39549e1bf2eb0937b9db45f83.txt  \n",
            " extracting: train/labels/BikesHelmets188_png_jpg.rf.f787a34d7741ac503a54fbf34662cce7.txt  \n",
            " extracting: train/labels/BikesHelmets190_png_jpg.rf.232e9a07d7f5df25fff915f7a6757c70.txt  \n",
            " extracting: train/labels/BikesHelmets190_png_jpg.rf.2c93dc0c76495dc3efc5c5ed456d4684.txt  \n",
            " extracting: train/labels/BikesHelmets190_png_jpg.rf.3d8e10347e983aec5ee217e14e802bc0.txt  \n",
            " extracting: train/labels/BikesHelmets190_png_jpg.rf.4b9e08f80d80896783d97bf31c8586ed.txt  \n",
            " extracting: train/labels/BikesHelmets190_png_jpg.rf.572d61f09d282039e057e6d357b2ee3f.txt  \n",
            " extracting: train/labels/BikesHelmets190_png_jpg.rf.92128da850bc3b61ae76d0e26a07164d.txt  \n",
            " extracting: train/labels/BikesHelmets190_png_jpg.rf.9de0d392b35329c0a4de0f7a33748b98.txt  \n",
            " extracting: train/labels/BikesHelmets190_png_jpg.rf.e09377b5a5c1653cbe2a36c00e7b2206.txt  \n",
            " extracting: train/labels/BikesHelmets190_png_jpg.rf.f4dfacc696aa6805385d8ad5b2d38872.txt  \n",
            " extracting: train/labels/BikesHelmets192_png_jpg.rf.110f29283640b868d4535825e8cc5a16.txt  \n",
            " extracting: train/labels/BikesHelmets192_png_jpg.rf.647d3966f9b6dd2c41b4c336bd9a2756.txt  \n",
            " extracting: train/labels/BikesHelmets192_png_jpg.rf.8733f241b9d69fc141ee76d5930bbe5c.txt  \n",
            " extracting: train/labels/BikesHelmets192_png_jpg.rf.9dc271cf13ce359dbe885aaf6eab24db.txt  \n",
            " extracting: train/labels/BikesHelmets192_png_jpg.rf.9e10d2fc09639e7d8540cb5f515f241a.txt  \n",
            " extracting: train/labels/BikesHelmets192_png_jpg.rf.c07ecdb94cceedc955ce30568c162089.txt  \n",
            " extracting: train/labels/BikesHelmets192_png_jpg.rf.d299de4890ba10df8783971d1f7fe006.txt  \n",
            " extracting: train/labels/BikesHelmets192_png_jpg.rf.d701588dca25b5292f10665c3c0c22ab.txt  \n",
            " extracting: train/labels/BikesHelmets192_png_jpg.rf.f01544b77296408f66d382e3792ae6ca.txt  \n",
            " extracting: train/labels/BikesHelmets193_png_jpg.rf.49c48b61815db7e659f408e736436052.txt  \n",
            " extracting: train/labels/BikesHelmets193_png_jpg.rf.5445512f90049e7649929ab8271874f4.txt  \n",
            " extracting: train/labels/BikesHelmets193_png_jpg.rf.8d3afe1c36873c9708483867fe2f92c0.txt  \n",
            " extracting: train/labels/BikesHelmets193_png_jpg.rf.a5c5bada1684324c4995663b14abb134.txt  \n",
            " extracting: train/labels/BikesHelmets193_png_jpg.rf.c274c27600ae36da2122ea57b4715f71.txt  \n",
            " extracting: train/labels/BikesHelmets193_png_jpg.rf.f3aa14519cac1f38845cc2b174af8446.txt  \n",
            " extracting: train/labels/BikesHelmets194_png_jpg.rf.5053d4e967b976ea868ef65a2026f25a.txt  \n",
            " extracting: train/labels/BikesHelmets194_png_jpg.rf.9ee3f1a1ef8b0c66022080f72b25af02.txt  \n",
            " extracting: train/labels/BikesHelmets194_png_jpg.rf.afa5870c8d9d367bc1fb1fe1c599156a.txt  \n",
            " extracting: train/labels/BikesHelmets194_png_jpg.rf.b4d61afce31c01fa0555185b99218ead.txt  \n",
            " extracting: train/labels/BikesHelmets194_png_jpg.rf.b545ea771983f0066277956531357f2b.txt  \n",
            " extracting: train/labels/BikesHelmets194_png_jpg.rf.bf47fbd2f3e31aacc6765b30717b93a6.txt  \n",
            " extracting: train/labels/BikesHelmets194_png_jpg.rf.c4f7e299c67f6fec5ff4ca791195dc20.txt  \n",
            " extracting: train/labels/BikesHelmets194_png_jpg.rf.e78f2a36bd519ad65bd768e19c670408.txt  \n",
            " extracting: train/labels/BikesHelmets194_png_jpg.rf.f82f9e56fc6428116c869060d66cb198.txt  \n",
            " extracting: train/labels/BikesHelmets197_png_jpg.rf.0eef2aa0159d64742b93f31cba0954a7.txt  \n",
            " extracting: train/labels/BikesHelmets197_png_jpg.rf.2537d76132b59128e2fcc1902ce4da88.txt  \n",
            " extracting: train/labels/BikesHelmets197_png_jpg.rf.37f10604e8dea4011135638a8933ace5.txt  \n",
            " extracting: train/labels/BikesHelmets197_png_jpg.rf.92832d8c9bf01ba1d6b62803012a2ca1.txt  \n",
            " extracting: train/labels/BikesHelmets197_png_jpg.rf.9a556bc54188488c2d032fc09f77da26.txt  \n",
            " extracting: train/labels/BikesHelmets197_png_jpg.rf.a2db7731c8b0e7e61ae27083032b2b1e.txt  \n",
            " extracting: train/labels/BikesHelmets197_png_jpg.rf.b4a24e0271fdfa9b6566f249f1203cbd.txt  \n",
            " extracting: train/labels/BikesHelmets197_png_jpg.rf.d234ed297a12992c8245ec498ede3860.txt  \n",
            " extracting: train/labels/BikesHelmets197_png_jpg.rf.e804f02c343a5324d411615f4f9517f1.txt  \n",
            " extracting: train/labels/BikesHelmets199_png_jpg.rf.051476d2a170341e7171ac42292ef020.txt  \n",
            " extracting: train/labels/BikesHelmets199_png_jpg.rf.4c9c9d01cae7fbaee9db99211de34134.txt  \n",
            " extracting: train/labels/BikesHelmets199_png_jpg.rf.4d1682f53cf69c97b2380ec1a13e33fa.txt  \n",
            " extracting: train/labels/BikesHelmets199_png_jpg.rf.8fabe83f0d00505641c12178c29e5064.txt  \n",
            " extracting: train/labels/BikesHelmets199_png_jpg.rf.a2ce0478e1bbde069b81d89a7b825b7b.txt  \n",
            " extracting: train/labels/BikesHelmets199_png_jpg.rf.a53c3945dc1543eed20365de7661e926.txt  \n",
            " extracting: train/labels/BikesHelmets199_png_jpg.rf.b7e793242db9485e435321210f45da86.txt  \n",
            " extracting: train/labels/BikesHelmets199_png_jpg.rf.d337b0dac1608422883ab62956254ac5.txt  \n",
            " extracting: train/labels/BikesHelmets199_png_jpg.rf.d6b34b0ac12cb39885d059d5fac83a50.txt  \n",
            " extracting: train/labels/BikesHelmets19_png_jpg.rf.0e3ec9c4a880023c337e54236251cf90.txt  \n",
            " extracting: train/labels/BikesHelmets19_png_jpg.rf.1c826923768810de6c4fab31661115c5.txt  \n",
            " extracting: train/labels/BikesHelmets19_png_jpg.rf.4549bfce6248bbfdbb272de663f2d42a.txt  \n",
            " extracting: train/labels/BikesHelmets19_png_jpg.rf.47852495dffcec306fe10a0f91e7ddf1.txt  \n",
            " extracting: train/labels/BikesHelmets19_png_jpg.rf.78018e1f6d03c9264b27637e7b65cd88.txt  \n",
            " extracting: train/labels/BikesHelmets19_png_jpg.rf.818ee6aa2a314f59ee91f2c322999613.txt  \n",
            " extracting: train/labels/BikesHelmets19_png_jpg.rf.c9da2eb00526b7005f1ec489c4b1fd55.txt  \n",
            " extracting: train/labels/BikesHelmets19_png_jpg.rf.d6f0044226c8cbf90f9f28ad58d638b6.txt  \n",
            " extracting: train/labels/BikesHelmets19_png_jpg.rf.d9356899c55143dfacdebc0734e659df.txt  \n",
            " extracting: train/labels/BikesHelmets1_png_jpg.rf.089d86ab806bbe28bb374590dd0db1d0.txt  \n",
            " extracting: train/labels/BikesHelmets1_png_jpg.rf.13f9343a85b6d7c85e66487589ce8b90.txt  \n",
            " extracting: train/labels/BikesHelmets1_png_jpg.rf.476e773cd820db171e759566454a58a4.txt  \n",
            " extracting: train/labels/BikesHelmets1_png_jpg.rf.50223c790c7dff6dd94aba9fc27e4455.txt  \n",
            " extracting: train/labels/BikesHelmets1_png_jpg.rf.59532c85176bacab3fbd1612b1f5d44b.txt  \n",
            " extracting: train/labels/BikesHelmets1_png_jpg.rf.65a1daf2e4c733156d03da21a4f8b860.txt  \n",
            " extracting: train/labels/BikesHelmets1_png_jpg.rf.69ec36bb2e37e773c0758421ed36a9f4.txt  \n",
            " extracting: train/labels/BikesHelmets1_png_jpg.rf.960a0e9a5183aba58e2f070ff4a9c906.txt  \n",
            " extracting: train/labels/BikesHelmets1_png_jpg.rf.aafad27b88a0f2d0b31af5171ff06d84.txt  \n",
            " extracting: train/labels/BikesHelmets202_png_jpg.rf.1df3ed1f3c0ad94c3839421ef99d75f5.txt  \n",
            " extracting: train/labels/BikesHelmets202_png_jpg.rf.261066b545db78a8cfcf965b91ecbfce.txt  \n",
            " extracting: train/labels/BikesHelmets202_png_jpg.rf.3422c9bf4615f052e15bf7c85b91b358.txt  \n",
            " extracting: train/labels/BikesHelmets202_png_jpg.rf.407297643b10387f09fbf9550c2a6e01.txt  \n",
            " extracting: train/labels/BikesHelmets202_png_jpg.rf.66378b8d289f5d93987137d686fb7f16.txt  \n",
            " extracting: train/labels/BikesHelmets202_png_jpg.rf.8b134d7192a6775d932ae2b3e9a83096.txt  \n",
            " extracting: train/labels/BikesHelmets202_png_jpg.rf.b852a74b5be6fdf6e2fb647916433fd6.txt  \n",
            " extracting: train/labels/BikesHelmets202_png_jpg.rf.ceef8079a4f54acfe8f55c94ced09677.txt  \n",
            " extracting: train/labels/BikesHelmets202_png_jpg.rf.de80107c37989d77ea445c9f1bfd7957.txt  \n",
            " extracting: train/labels/BikesHelmets204_png_jpg.rf.2b5e455e2cf6dbaf90537c2d37bb905c.txt  \n",
            " extracting: train/labels/BikesHelmets204_png_jpg.rf.33bf6a00a69e108655dc62c862924525.txt  \n",
            " extracting: train/labels/BikesHelmets204_png_jpg.rf.429f5299637fcb89bacb88f19b36b4ce.txt  \n",
            " extracting: train/labels/BikesHelmets204_png_jpg.rf.6ed090a8d25f146aeb27b48cbb3802ac.txt  \n",
            " extracting: train/labels/BikesHelmets204_png_jpg.rf.75f9fa138be0ce25ed81205c7fb2aeca.txt  \n",
            " extracting: train/labels/BikesHelmets204_png_jpg.rf.7d89b5685da21ef9b165b0a4977522b7.txt  \n",
            " extracting: train/labels/BikesHelmets204_png_jpg.rf.900fbd8773aa55a96274cb9704baffb6.txt  \n",
            " extracting: train/labels/BikesHelmets204_png_jpg.rf.fc2248f280208d84c962fcad4d595965.txt  \n",
            " extracting: train/labels/BikesHelmets204_png_jpg.rf.ff258b9578a4dde7d7c1244f639c98a6.txt  \n",
            " extracting: train/labels/BikesHelmets207_png_jpg.rf.53320b6843c85c25d0eaf5dad9e64a67.txt  \n",
            " extracting: train/labels/BikesHelmets207_png_jpg.rf.80f2b187ab378eefe34c1c37d568028f.txt  \n",
            " extracting: train/labels/BikesHelmets207_png_jpg.rf.8ee57d596c980df674da967f5c12a4a3.txt  \n",
            " extracting: train/labels/BikesHelmets207_png_jpg.rf.b88ad56f4658911437d96b29fe9b4780.txt  \n",
            " extracting: train/labels/BikesHelmets207_png_jpg.rf.c6bd4b0a692ae58ebb1c78c6c70e7ce7.txt  \n",
            " extracting: train/labels/BikesHelmets207_png_jpg.rf.cea4050cc89486814c1febdcff99a191.txt  \n",
            " extracting: train/labels/BikesHelmets207_png_jpg.rf.eac58c14dcaf7969780d38b1c72bc2b7.txt  \n",
            " extracting: train/labels/BikesHelmets207_png_jpg.rf.f9a38e4f86835d694751422203ac937b.txt  \n",
            " extracting: train/labels/BikesHelmets207_png_jpg.rf.fede2bd0b5dc4120bf6c75b05a2cf739.txt  \n",
            " extracting: train/labels/BikesHelmets209_png_jpg.rf.16698267b6029958bfab0a33b64db235.txt  \n",
            " extracting: train/labels/BikesHelmets209_png_jpg.rf.33363ec6f73d9dbe13574930c299bae0.txt  \n",
            " extracting: train/labels/BikesHelmets209_png_jpg.rf.43f27cc72ded29f954dbab0c8a8bfd9f.txt  \n",
            " extracting: train/labels/BikesHelmets209_png_jpg.rf.648598bcbb979838dc1f66b289ec16dc.txt  \n",
            " extracting: train/labels/BikesHelmets209_png_jpg.rf.9b96450ce8b7fed8acce0fcff189ce86.txt  \n",
            " extracting: train/labels/BikesHelmets209_png_jpg.rf.c115e18b4c83bb051583b763e9489683.txt  \n",
            " extracting: train/labels/BikesHelmets209_png_jpg.rf.ec543b6a53fee3effec6cb64bb674196.txt  \n",
            " extracting: train/labels/BikesHelmets209_png_jpg.rf.ec73e5bf0b9320fb6d7740282ba9817c.txt  \n",
            " extracting: train/labels/BikesHelmets209_png_jpg.rf.ffdc3980941f2e87c97043000afe9e41.txt  \n",
            " extracting: train/labels/BikesHelmets20_png_jpg.rf.1e33ebbfce31d45d978b06b7f953bb8e.txt  \n",
            " extracting: train/labels/BikesHelmets20_png_jpg.rf.21b42f4dd500119e9af5e862b2b97c5b.txt  \n",
            " extracting: train/labels/BikesHelmets20_png_jpg.rf.427ebefe7249342b0291989706bff08b.txt  \n",
            " extracting: train/labels/BikesHelmets20_png_jpg.rf.6185416f9b53de23cdef56ea9e9e4057.txt  \n",
            " extracting: train/labels/BikesHelmets20_png_jpg.rf.7540cba42fb1a75506adc4cd30776fa8.txt  \n",
            " extracting: train/labels/BikesHelmets20_png_jpg.rf.792e5fcb517f737a08a83971cec044db.txt  \n",
            " extracting: train/labels/BikesHelmets20_png_jpg.rf.7bf651d5a074de2ad02bb212575f643f.txt  \n",
            " extracting: train/labels/BikesHelmets20_png_jpg.rf.96fd4d8254225d14d75cd7ee3b81e81c.txt  \n",
            " extracting: train/labels/BikesHelmets20_png_jpg.rf.ba8f090e17a4faea46163f87d27b3065.txt  \n",
            " extracting: train/labels/BikesHelmets211_png_jpg.rf.1cc482446fb8c7f6a52823bccbdb0c2f.txt  \n",
            " extracting: train/labels/BikesHelmets211_png_jpg.rf.3a93ab3365ef1d89d3f9224c08a21ea2.txt  \n",
            " extracting: train/labels/BikesHelmets211_png_jpg.rf.92e4da89118ac5f61b439502d315c160.txt  \n",
            " extracting: train/labels/BikesHelmets211_png_jpg.rf.c909537b95abb4e2fad3826099aabe77.txt  \n",
            " extracting: train/labels/BikesHelmets211_png_jpg.rf.d832b4ce3dd8647cb6b155927f800281.txt  \n",
            " extracting: train/labels/BikesHelmets211_png_jpg.rf.e3eb3f9839ebed28c2076c0ed859fbf4.txt  \n",
            " extracting: train/labels/BikesHelmets213_png_jpg.rf.014ac0376de80698a94eb65db69a1c96.txt  \n",
            " extracting: train/labels/BikesHelmets213_png_jpg.rf.2578c7f0ae0669dbebf7d1ba87621762.txt  \n",
            " extracting: train/labels/BikesHelmets213_png_jpg.rf.2bad0ce9d173c9c7ba494d45cb6e9d56.txt  \n",
            " extracting: train/labels/BikesHelmets213_png_jpg.rf.2f136e11df6eac1849940b3df8a13742.txt  \n",
            " extracting: train/labels/BikesHelmets213_png_jpg.rf.4e40aa376efa222f52aebb116861fa6e.txt  \n",
            " extracting: train/labels/BikesHelmets213_png_jpg.rf.6086bcf0c4d8d1a7c9641e2c8eed8601.txt  \n",
            " extracting: train/labels/BikesHelmets213_png_jpg.rf.ce7d8d31a4baa0a3bf6f51df68bfa75b.txt  \n",
            " extracting: train/labels/BikesHelmets213_png_jpg.rf.dc96a265a37f0260275ae63544d57793.txt  \n",
            " extracting: train/labels/BikesHelmets213_png_jpg.rf.e2cfc2cc80d9d4c638a5baa1e4f0ab0c.txt  \n",
            " extracting: train/labels/BikesHelmets215_png_jpg.rf.07ce221e523e2b209cb1116de72e2d90.txt  \n",
            " extracting: train/labels/BikesHelmets215_png_jpg.rf.1705f8ff01e360772ddf51c20623b526.txt  \n",
            " extracting: train/labels/BikesHelmets215_png_jpg.rf.225af9bce45a2a46b16dc19177509b6d.txt  \n",
            " extracting: train/labels/BikesHelmets215_png_jpg.rf.629ad8bc99209a6579a2590be1c8187c.txt  \n",
            " extracting: train/labels/BikesHelmets215_png_jpg.rf.81a225b59389e5f48f9445539f3fdcc0.txt  \n",
            " extracting: train/labels/BikesHelmets215_png_jpg.rf.8307ef75de028ed1244fb594dea9b8d7.txt  \n",
            " extracting: train/labels/BikesHelmets215_png_jpg.rf.b5c0d9618a0aa416f3a6219e228526ec.txt  \n",
            " extracting: train/labels/BikesHelmets215_png_jpg.rf.ce14017ddd9c11d14b89d19f616dbceb.txt  \n",
            " extracting: train/labels/BikesHelmets215_png_jpg.rf.e210b594d90767e48048c143a2224061.txt  \n",
            " extracting: train/labels/BikesHelmets217_png_jpg.rf.03a25bf2eb524138a3833f5ca6033485.txt  \n",
            " extracting: train/labels/BikesHelmets217_png_jpg.rf.5033f2e9e9b74e5007210055547752c1.txt  \n",
            " extracting: train/labels/BikesHelmets217_png_jpg.rf.6cef5219d4318c295e0f66b37ec26ec0.txt  \n",
            " extracting: train/labels/BikesHelmets217_png_jpg.rf.859b7113ce3378544f2b6f087f74832a.txt  \n",
            " extracting: train/labels/BikesHelmets217_png_jpg.rf.91911764e95c8fc1daef94102f6c8440.txt  \n",
            " extracting: train/labels/BikesHelmets217_png_jpg.rf.aca16d33639136f20df830a957d73df1.txt  \n",
            " extracting: train/labels/BikesHelmets217_png_jpg.rf.b09f6f9c063a4b12421971df568b12be.txt  \n",
            " extracting: train/labels/BikesHelmets217_png_jpg.rf.c90978c159368f3fcbe63e69cdbffb1f.txt  \n",
            " extracting: train/labels/BikesHelmets217_png_jpg.rf.d60a3d0358f6cfab414873e811d443ac.txt  \n",
            " extracting: train/labels/BikesHelmets218_png_jpg.rf.011a53dc1fde3b343e1f22f20b3ebf53.txt  \n",
            " extracting: train/labels/BikesHelmets218_png_jpg.rf.2c83d87e755ee8fa782f87ace3edd1e1.txt  \n",
            " extracting: train/labels/BikesHelmets218_png_jpg.rf.36c81d8ede6f893037eb969bb8cb7957.txt  \n",
            " extracting: train/labels/BikesHelmets218_png_jpg.rf.afb33c7ff08d7729a4369b0b14ae19e9.txt  \n",
            " extracting: train/labels/BikesHelmets218_png_jpg.rf.b983ffbfe9a4a3b73c41f01c7aff79fc.txt  \n",
            " extracting: train/labels/BikesHelmets218_png_jpg.rf.c03e43236f9adb2989b798ab1fb80231.txt  \n",
            " extracting: train/labels/BikesHelmets218_png_jpg.rf.cd047c503d0abaf0d3b6cacc9a5bdbb3.txt  \n",
            " extracting: train/labels/BikesHelmets218_png_jpg.rf.ebc9b1c680e7f5f3e14ae5dda1e1d57b.txt  \n",
            " extracting: train/labels/BikesHelmets218_png_jpg.rf.fd65228f54b3eaf1b02de62b7b7ea956.txt  \n",
            " extracting: train/labels/BikesHelmets21_png_jpg.rf.2e6316a2fff82f1e191c6c84007dc3c0.txt  \n",
            " extracting: train/labels/BikesHelmets21_png_jpg.rf.301f52d8e5d8b8eb336f14ede8c1b9e0.txt  \n",
            " extracting: train/labels/BikesHelmets21_png_jpg.rf.3f0034ed5438f71758c5a3a63f278e0f.txt  \n",
            " extracting: train/labels/BikesHelmets21_png_jpg.rf.5c238c92cddb40be7893252acf59b149.txt  \n",
            " extracting: train/labels/BikesHelmets21_png_jpg.rf.ca361a206145bd2471ac1763204c7057.txt  \n",
            " extracting: train/labels/BikesHelmets21_png_jpg.rf.d19756caa36ee0b286926db16bcfe85d.txt  \n",
            " extracting: train/labels/BikesHelmets222_png_jpg.rf.323237e8e7587c0e5c45ba0a33589b11.txt  \n",
            " extracting: train/labels/BikesHelmets222_png_jpg.rf.424e12ab1d3a1c91141e922973293def.txt  \n",
            " extracting: train/labels/BikesHelmets222_png_jpg.rf.542010a1367c7f5f59d819ee36662a64.txt  \n",
            " extracting: train/labels/BikesHelmets222_png_jpg.rf.9b4e4ee7d083c6f51f7069a380ce4277.txt  \n",
            " extracting: train/labels/BikesHelmets222_png_jpg.rf.af74ab8465cc17744c46953a7c54617d.txt  \n",
            " extracting: train/labels/BikesHelmets222_png_jpg.rf.d89e9d953f58b570eff91db726bd3d45.txt  \n",
            " extracting: train/labels/BikesHelmets223_png_jpg.rf.64fd1b70f913f6acf4b966100cd5ec9f.txt  \n",
            " extracting: train/labels/BikesHelmets223_png_jpg.rf.7e41fafbf4aba60a1a1bf048b14bd18b.txt  \n",
            " extracting: train/labels/BikesHelmets223_png_jpg.rf.d1452393921505b90550369da3c7c2e8.txt  \n",
            " extracting: train/labels/BikesHelmets226_png_jpg.rf.3cd1c913a9a6aaa8c067fbe47c3f4d25.txt  \n",
            " extracting: train/labels/BikesHelmets226_png_jpg.rf.405510bc3afdae61c094891e84cd5d84.txt  \n",
            " extracting: train/labels/BikesHelmets226_png_jpg.rf.46aa1e21d8cbe79bdbbbd315467d8c64.txt  \n",
            " extracting: train/labels/BikesHelmets226_png_jpg.rf.b703ddf23475678a77334899a341b098.txt  \n",
            " extracting: train/labels/BikesHelmets226_png_jpg.rf.cd98c0d6e1731da466fd3073822edccd.txt  \n",
            " extracting: train/labels/BikesHelmets226_png_jpg.rf.e6f52886d2a63e6ef14aa90807fa2e10.txt  \n",
            " extracting: train/labels/BikesHelmets227_png_jpg.rf.12b12d5e9ece9a2ab6420b25a3fe8476.txt  \n",
            " extracting: train/labels/BikesHelmets227_png_jpg.rf.3db9a14ef814e90ba27a78ce4590f04a.txt  \n",
            " extracting: train/labels/BikesHelmets227_png_jpg.rf.54b94f5b6f11fead4c36ae3cb48f43a7.txt  \n",
            " extracting: train/labels/BikesHelmets227_png_jpg.rf.737e42cbf739c9caeac70f8c0ef58322.txt  \n",
            " extracting: train/labels/BikesHelmets227_png_jpg.rf.7566118f66fd866a4d42efbd9ee80ffa.txt  \n",
            " extracting: train/labels/BikesHelmets227_png_jpg.rf.b7e13f3b39de84a0d613cd7c8f605143.txt  \n",
            " extracting: train/labels/BikesHelmets227_png_jpg.rf.e268211390840d79c9a04cfa44cf5f79.txt  \n",
            " extracting: train/labels/BikesHelmets227_png_jpg.rf.eafd1185cd1fbcc4285a3ec0b477e814.txt  \n",
            " extracting: train/labels/BikesHelmets227_png_jpg.rf.ec43b6be43b97aa974a9736d31959c0c.txt  \n",
            " extracting: train/labels/BikesHelmets229_png_jpg.rf.24bab4049155e48df8cc348f9774b53e.txt  \n",
            " extracting: train/labels/BikesHelmets229_png_jpg.rf.4754acfb78110368d46de2950a4af367.txt  \n",
            " extracting: train/labels/BikesHelmets229_png_jpg.rf.5b47bff3fce404bb72e12e278d3dd7a0.txt  \n",
            " extracting: train/labels/BikesHelmets229_png_jpg.rf.64109920527efb890dd2b4f308ba9ace.txt  \n",
            " extracting: train/labels/BikesHelmets229_png_jpg.rf.787dda35713afc3e3d9e8baa367079fd.txt  \n",
            " extracting: train/labels/BikesHelmets229_png_jpg.rf.96fc86d89606c60ed0d25726cb398acf.txt  \n",
            " extracting: train/labels/BikesHelmets229_png_jpg.rf.a6d102cc0ced8bea6fd501d908040b84.txt  \n",
            " extracting: train/labels/BikesHelmets229_png_jpg.rf.c90945e29f035d6c2a95e388483b916c.txt  \n",
            " extracting: train/labels/BikesHelmets229_png_jpg.rf.f65e7ed90346877c2fa5c5e11865836a.txt  \n",
            " extracting: train/labels/BikesHelmets22_png_jpg.rf.42813914397c3e7dc8614ba5585fa1a0.txt  \n",
            " extracting: train/labels/BikesHelmets22_png_jpg.rf.4cef00a25f249d04ce9aac0736386deb.txt  \n",
            " extracting: train/labels/BikesHelmets22_png_jpg.rf.7372b543e2e9b12f0e02d34e99e5a263.txt  \n",
            " extracting: train/labels/BikesHelmets22_png_jpg.rf.7dfb0bac378f10de26c564c7b3fa264b.txt  \n",
            " extracting: train/labels/BikesHelmets22_png_jpg.rf.8884344b7beb2017f6b1a3f81f4bd37f.txt  \n",
            " extracting: train/labels/BikesHelmets22_png_jpg.rf.a1924adbc02089186f519212bae045d0.txt  \n",
            " extracting: train/labels/BikesHelmets22_png_jpg.rf.df3b98930ac08fef03a4113746b86a0d.txt  \n",
            " extracting: train/labels/BikesHelmets22_png_jpg.rf.ef859337c86a53a1b312318e096541f7.txt  \n",
            " extracting: train/labels/BikesHelmets22_png_jpg.rf.f2dc309099b8643948bd055926be376e.txt  \n",
            " extracting: train/labels/BikesHelmets231_png_jpg.rf.20b899587abe51eb7e9c026d8740c673.txt  \n",
            " extracting: train/labels/BikesHelmets231_png_jpg.rf.22afb70f3b98446b0c2657926d249384.txt  \n",
            " extracting: train/labels/BikesHelmets231_png_jpg.rf.3cc53cd53c69c42b2aff01944f6ecef3.txt  \n",
            " extracting: train/labels/BikesHelmets231_png_jpg.rf.5ae5cac825ca12b5a10632e4b9b5d01a.txt  \n",
            " extracting: train/labels/BikesHelmets231_png_jpg.rf.82af6080d6155cc133b7d4e359ea399a.txt  \n",
            " extracting: train/labels/BikesHelmets231_png_jpg.rf.c03d2ff229ee0e1f2e55dd9fc7579be8.txt  \n",
            " extracting: train/labels/BikesHelmets231_png_jpg.rf.e32d5d178cb071424c15a7b01855c74d.txt  \n",
            " extracting: train/labels/BikesHelmets231_png_jpg.rf.f356db7397c54e8fe6a45b8da1b4ecd5.txt  \n",
            " extracting: train/labels/BikesHelmets231_png_jpg.rf.fcab62381531462ecc2ee6223fbb590d.txt  \n",
            " extracting: train/labels/BikesHelmets232_png_jpg.rf.21e686f877fda88fc82e3db969649334.txt  \n",
            " extracting: train/labels/BikesHelmets232_png_jpg.rf.8c5ef40c42e5b5e0f6190433507d8566.txt  \n",
            " extracting: train/labels/BikesHelmets232_png_jpg.rf.a01b82852ae1d1e8c0fc16db3fd2330d.txt  \n",
            " extracting: train/labels/BikesHelmets232_png_jpg.rf.aecabe3179b1e84b0488b54d28366d8e.txt  \n",
            " extracting: train/labels/BikesHelmets232_png_jpg.rf.cf8326edd396c97f8455d25b5e085ad9.txt  \n",
            " extracting: train/labels/BikesHelmets232_png_jpg.rf.e7999bfe4ce7c58990e6dc4285cca93f.txt  \n",
            " extracting: train/labels/BikesHelmets233_png_jpg.rf.1e2f9c2b34b77ffcf6e7c950cdd01e66.txt  \n",
            " extracting: train/labels/BikesHelmets233_png_jpg.rf.1e68f5f998076b3785e2c37e054d1c3e.txt  \n",
            " extracting: train/labels/BikesHelmets233_png_jpg.rf.576080f2b8b586e182a941872906ce52.txt  \n",
            " extracting: train/labels/BikesHelmets233_png_jpg.rf.578161578c76cae8e394f78ea8b61410.txt  \n",
            " extracting: train/labels/BikesHelmets233_png_jpg.rf.9ac96e9129016b96d84ef7bb96d37b48.txt  \n",
            " extracting: train/labels/BikesHelmets233_png_jpg.rf.a700c9fabce97da875f315898f0282c9.txt  \n",
            " extracting: train/labels/BikesHelmets233_png_jpg.rf.e2f4daef5ddcfa8e7e99ef3dec7404dd.txt  \n",
            " extracting: train/labels/BikesHelmets233_png_jpg.rf.e753df0f3a47fd148844ed47afb1d26d.txt  \n",
            " extracting: train/labels/BikesHelmets233_png_jpg.rf.f14417e889442580751d514f805e94a8.txt  \n",
            " extracting: train/labels/BikesHelmets234_png_jpg.rf.6ece3d8aca029d0753db311b1f32ba1e.txt  \n",
            " extracting: train/labels/BikesHelmets234_png_jpg.rf.8fc4ac9a386dec56cf072782355ea73e.txt  \n",
            " extracting: train/labels/BikesHelmets234_png_jpg.rf.a0175bc7522172fccdf0718297e636ad.txt  \n",
            " extracting: train/labels/BikesHelmets234_png_jpg.rf.cb1bd4ce4b9fcc8db846c0ee21a07769.txt  \n",
            " extracting: train/labels/BikesHelmets234_png_jpg.rf.eda7191cdc5f2d5873a7500c2811b870.txt  \n",
            " extracting: train/labels/BikesHelmets234_png_jpg.rf.fa8ce80310613e171de9751e536bd0a8.txt  \n",
            " extracting: train/labels/BikesHelmets235_png_jpg.rf.2b049a769bc074b3310160b0c2b5d5e2.txt  \n",
            " extracting: train/labels/BikesHelmets235_png_jpg.rf.2bf0a389a7caed16a5aef3cc4a67ebd6.txt  \n",
            " extracting: train/labels/BikesHelmets235_png_jpg.rf.3e2408100ba083a5002a9d4afb019f33.txt  \n",
            " extracting: train/labels/BikesHelmets235_png_jpg.rf.4bd5780216620b1de44808787809a170.txt  \n",
            " extracting: train/labels/BikesHelmets235_png_jpg.rf.5b352d12529268e6ab40a4742b130727.txt  \n",
            " extracting: train/labels/BikesHelmets235_png_jpg.rf.6c4156c5ef5fa6b8f9312a82f07d98f2.txt  \n",
            " extracting: train/labels/BikesHelmets235_png_jpg.rf.8b7763d5b7e095b682e402c7c735426a.txt  \n",
            " extracting: train/labels/BikesHelmets235_png_jpg.rf.b0bf25bd4b268834f55926ea2c9e3e8a.txt  \n",
            " extracting: train/labels/BikesHelmets235_png_jpg.rf.bdb99c0cb60511e611eccf576e256c75.txt  \n",
            " extracting: train/labels/BikesHelmets237_png_jpg.rf.093c9cd6e780a7c21dd4bc6d13666822.txt  \n",
            " extracting: train/labels/BikesHelmets237_png_jpg.rf.0fa37621531f008e5e3eb7dd8fd32375.txt  \n",
            " extracting: train/labels/BikesHelmets237_png_jpg.rf.2ec1dd53a6870d027fe2c4e97718e033.txt  \n",
            " extracting: train/labels/BikesHelmets237_png_jpg.rf.56bb00513fedef3f87fc2ce6502dc0d0.txt  \n",
            " extracting: train/labels/BikesHelmets237_png_jpg.rf.65efe0048bbc245bbfe45d200d84196a.txt  \n",
            " extracting: train/labels/BikesHelmets237_png_jpg.rf.7502b2c21e7792c035600b3f8d5afc0e.txt  \n",
            " extracting: train/labels/BikesHelmets237_png_jpg.rf.80698cd9f72a20f7c44c3cb026e758d6.txt  \n",
            " extracting: train/labels/BikesHelmets237_png_jpg.rf.cda198fd107b4fd531a867007fe0691a.txt  \n",
            " extracting: train/labels/BikesHelmets237_png_jpg.rf.e7dea3c55db85c65893ab9f05977150d.txt  \n",
            " extracting: train/labels/BikesHelmets239_png_jpg.rf.0b4d983cd2a28811bc9145df24a80d49.txt  \n",
            " extracting: train/labels/BikesHelmets239_png_jpg.rf.13fad933880dc6f50129e5d7150704f4.txt  \n",
            " extracting: train/labels/BikesHelmets239_png_jpg.rf.20781c228c24d6681b32c2504268b09c.txt  \n",
            " extracting: train/labels/BikesHelmets239_png_jpg.rf.23f5a27c122f698194665f699365856a.txt  \n",
            " extracting: train/labels/BikesHelmets239_png_jpg.rf.3a53701d7682f8d6d211241478950d68.txt  \n",
            " extracting: train/labels/BikesHelmets239_png_jpg.rf.5222186d26e174b37f34275f5466806e.txt  \n",
            " extracting: train/labels/BikesHelmets239_png_jpg.rf.721d43ece9a06a4ef6bc40a04c11c0a3.txt  \n",
            " extracting: train/labels/BikesHelmets239_png_jpg.rf.96af614c2c9e4a0eb81ec61dfb322b0c.txt  \n",
            " extracting: train/labels/BikesHelmets239_png_jpg.rf.9d672875fc8de6e9a6550d582bf4ceac.txt  \n",
            " extracting: train/labels/BikesHelmets23_png_jpg.rf.3eaa0e975342f3bb6fc82c75ae504ccf.txt  \n",
            " extracting: train/labels/BikesHelmets23_png_jpg.rf.56f57268944e858f61e52e0ca41465e8.txt  \n",
            " extracting: train/labels/BikesHelmets23_png_jpg.rf.6c721ecf72ae720fdbaafd3a69fb109d.txt  \n",
            " extracting: train/labels/BikesHelmets23_png_jpg.rf.6d7039641bd51a49c1c6ebcef0a9ae42.txt  \n",
            " extracting: train/labels/BikesHelmets23_png_jpg.rf.8095d425bee0b6585bb2e475c0ab0a53.txt  \n",
            " extracting: train/labels/BikesHelmets23_png_jpg.rf.81129c33cc0442740cc691cede5acae5.txt  \n",
            " extracting: train/labels/BikesHelmets23_png_jpg.rf.c53185d52373356509da95f8a2375433.txt  \n",
            " extracting: train/labels/BikesHelmets23_png_jpg.rf.e85181119f2497552d3fb0fc563c5e50.txt  \n",
            " extracting: train/labels/BikesHelmets23_png_jpg.rf.f463a15775ee4f7f0a833709b9997db6.txt  \n",
            " extracting: train/labels/BikesHelmets240_png_jpg.rf.0b179d529738fac0a4cc2419679ed7fe.txt  \n",
            " extracting: train/labels/BikesHelmets240_png_jpg.rf.5546b414d5560011fd3888978eebb83e.txt  \n",
            " extracting: train/labels/BikesHelmets240_png_jpg.rf.6b3ca1e6f1592632112f8aef2fd38d91.txt  \n",
            " extracting: train/labels/BikesHelmets240_png_jpg.rf.859ed37e4d605c40f4879550d687a456.txt  \n",
            " extracting: train/labels/BikesHelmets240_png_jpg.rf.d22fd7fe2b12436c21babe3fc2b053c4.txt  \n",
            " extracting: train/labels/BikesHelmets240_png_jpg.rf.f386667e49aa200559766666273555af.txt  \n",
            " extracting: train/labels/BikesHelmets241_png_jpg.rf.3e2f3839ad9fa085e8925029fd66e162.txt  \n",
            " extracting: train/labels/BikesHelmets241_png_jpg.rf.82884b42e680e480b79b0a8ab7016503.txt  \n",
            " extracting: train/labels/BikesHelmets241_png_jpg.rf.8729c9ea46fe3fcc11daa0d407fd9039.txt  \n",
            " extracting: train/labels/BikesHelmets241_png_jpg.rf.e6bf1aaf6736d8f2c18fe100c7a32bc2.txt  \n",
            " extracting: train/labels/BikesHelmets241_png_jpg.rf.eb4d274188ab56ea9f6d0582d93b0e8f.txt  \n",
            " extracting: train/labels/BikesHelmets241_png_jpg.rf.f16296f82133e5a3ca11be0302dfa068.txt  \n",
            " extracting: train/labels/BikesHelmets242_png_jpg.rf.1b7b1ff2d72a82fab8761b05aaff7420.txt  \n",
            " extracting: train/labels/BikesHelmets242_png_jpg.rf.27f143c428c70f186a953910e76d8730.txt  \n",
            " extracting: train/labels/BikesHelmets242_png_jpg.rf.5cf3b45392e68257a350534564355a35.txt  \n",
            " extracting: train/labels/BikesHelmets242_png_jpg.rf.7c56dd5b2a0375fcb0107dc92c935409.txt  \n",
            " extracting: train/labels/BikesHelmets242_png_jpg.rf.9b9a7aff9e3eb927f159a716b7fc1c9b.txt  \n",
            " extracting: train/labels/BikesHelmets242_png_jpg.rf.de37140b81bbd2184e4ffcec0163aa5c.txt  \n",
            " extracting: train/labels/BikesHelmets242_png_jpg.rf.deafd11029f9c4ae7b3a4b9ec96225be.txt  \n",
            " extracting: train/labels/BikesHelmets242_png_jpg.rf.f38df471f58c70e054a91a4f29aaf3d9.txt  \n",
            " extracting: train/labels/BikesHelmets242_png_jpg.rf.f5f5e36c63a626dae290dc4e5d077b7f.txt  \n",
            " extracting: train/labels/BikesHelmets243_png_jpg.rf.38d13627548cc1039789f007a222463f.txt  \n",
            " extracting: train/labels/BikesHelmets243_png_jpg.rf.68d590f665508eaa0e8d984a2e38a92b.txt  \n",
            " extracting: train/labels/BikesHelmets243_png_jpg.rf.86534d9771d9e9c0f52be85fc7ef0162.txt  \n",
            " extracting: train/labels/BikesHelmets243_png_jpg.rf.90c6e43e8bb7106025c79dda9a3c4d74.txt  \n",
            " extracting: train/labels/BikesHelmets243_png_jpg.rf.ce08e6119ede7acb57d9ee7140499b20.txt  \n",
            " extracting: train/labels/BikesHelmets243_png_jpg.rf.db059283d0595a924bcf7747ab6c8625.txt  \n",
            " extracting: train/labels/BikesHelmets244_png_jpg.rf.1dd91518b8338f16495be53109f1a81a.txt  \n",
            " extracting: train/labels/BikesHelmets244_png_jpg.rf.2255303a9625b252eac8998349a0ce9e.txt  \n",
            " extracting: train/labels/BikesHelmets244_png_jpg.rf.2a61ebc1405550a3a26735e537aa3204.txt  \n",
            " extracting: train/labels/BikesHelmets244_png_jpg.rf.3f82c7b74d648128271d7574cb5bd682.txt  \n",
            " extracting: train/labels/BikesHelmets244_png_jpg.rf.70835548af7de9db73cbc2e1d5acb0c8.txt  \n",
            " extracting: train/labels/BikesHelmets244_png_jpg.rf.b12bc5335bcb04434af156bf5d0ab7fa.txt  \n",
            " extracting: train/labels/BikesHelmets244_png_jpg.rf.e0acb3e5101410962d97e15042137a38.txt  \n",
            " extracting: train/labels/BikesHelmets244_png_jpg.rf.e3d78724fef572ccddbf6d1ad39a84a8.txt  \n",
            " extracting: train/labels/BikesHelmets244_png_jpg.rf.f7f85a2608540256cd17a35f7b8a2a5e.txt  \n",
            " extracting: train/labels/BikesHelmets246_png_jpg.rf.13f57d6a6cd1e682772b6a5eb3f2edd9.txt  \n",
            " extracting: train/labels/BikesHelmets246_png_jpg.rf.1a312521b5d357549ef6f451ee8cd35c.txt  \n",
            " extracting: train/labels/BikesHelmets246_png_jpg.rf.3cca9551f374624be14ed79a9a29401a.txt  \n",
            " extracting: train/labels/BikesHelmets246_png_jpg.rf.4258d10fc2bc6d40b4dda7e39d1aa717.txt  \n",
            " extracting: train/labels/BikesHelmets246_png_jpg.rf.80feb365a6c6bab2dbde8070c1c923b6.txt  \n",
            " extracting: train/labels/BikesHelmets246_png_jpg.rf.8213f1f434dd53b3a1707893193d03d9.txt  \n",
            " extracting: train/labels/BikesHelmets246_png_jpg.rf.a4179d17cc76e3408303acdaade19051.txt  \n",
            " extracting: train/labels/BikesHelmets246_png_jpg.rf.cdb0f67b558db4062b7f1631446c499b.txt  \n",
            " extracting: train/labels/BikesHelmets246_png_jpg.rf.fc14df5cf40a7dedfdba2b8faab1fd25.txt  \n",
            " extracting: train/labels/BikesHelmets247_png_jpg.rf.19f4482b63daa3edeea1d08d7e350932.txt  \n",
            " extracting: train/labels/BikesHelmets247_png_jpg.rf.5750200a3a95fe6821437a7d291697d0.txt  \n",
            " extracting: train/labels/BikesHelmets247_png_jpg.rf.59a105227e724578318227361a56e462.txt  \n",
            " extracting: train/labels/BikesHelmets247_png_jpg.rf.8dbed532aa51ba79d9177fef2b7975aa.txt  \n",
            " extracting: train/labels/BikesHelmets247_png_jpg.rf.9dcbf19e289522d060e69d9b8c965b12.txt  \n",
            " extracting: train/labels/BikesHelmets247_png_jpg.rf.ae29fba5d48cf327db8a15e4a83cc645.txt  \n",
            " extracting: train/labels/BikesHelmets247_png_jpg.rf.aebfad26df01a84a3f7d664016ce748f.txt  \n",
            " extracting: train/labels/BikesHelmets247_png_jpg.rf.c91644b2c34ce4cb2c9d2b536a0c9bd2.txt  \n",
            " extracting: train/labels/BikesHelmets247_png_jpg.rf.f26cb4fb75391319a771b06c1d1bbcf8.txt  \n",
            " extracting: train/labels/BikesHelmets249_png_jpg.rf.3d67b99c7b548d2edbbc468cfb802f38.txt  \n",
            " extracting: train/labels/BikesHelmets249_png_jpg.rf.4b6c70bcb959bc799e130ba64d673e69.txt  \n",
            " extracting: train/labels/BikesHelmets249_png_jpg.rf.55b67f82ac6d748df94d589bcb980627.txt  \n",
            " extracting: train/labels/BikesHelmets249_png_jpg.rf.5a7e63f25cbdae11062c2b1590145db0.txt  \n",
            " extracting: train/labels/BikesHelmets249_png_jpg.rf.a59ac0b859410e93a1da04372fabec83.txt  \n",
            " extracting: train/labels/BikesHelmets249_png_jpg.rf.aaa657ba711f6660d26c219ce28ded4f.txt  \n",
            " extracting: train/labels/BikesHelmets249_png_jpg.rf.c224cd76f6a3ec194a1809adf1e02208.txt  \n",
            " extracting: train/labels/BikesHelmets249_png_jpg.rf.cccbc55e6aa26ee878ceac8550026ff6.txt  \n",
            " extracting: train/labels/BikesHelmets249_png_jpg.rf.e96900ad1d36631eb826cc74c3c7a064.txt  \n",
            " extracting: train/labels/BikesHelmets251_png_jpg.rf.291511c8a7cb7da76078621da848e895.txt  \n",
            " extracting: train/labels/BikesHelmets251_png_jpg.rf.345782fb5e381a1c3904c87081f1ec77.txt  \n",
            " extracting: train/labels/BikesHelmets251_png_jpg.rf.4d778074aea74d26eb56f7952e4e3eb7.txt  \n",
            " extracting: train/labels/BikesHelmets251_png_jpg.rf.9b8feae458a3f171d4b2a59cf923beab.txt  \n",
            " extracting: train/labels/BikesHelmets251_png_jpg.rf.a2f390f81c34caff9fd8b3baf36db46d.txt  \n",
            " extracting: train/labels/BikesHelmets251_png_jpg.rf.a6581897210bf7be565a6dc93478e04d.txt  \n",
            " extracting: train/labels/BikesHelmets251_png_jpg.rf.a88242aab1fcb8d688301583458f89e8.txt  \n",
            " extracting: train/labels/BikesHelmets251_png_jpg.rf.ac9c0b5786b23c9f057709ea3decb051.txt  \n",
            " extracting: train/labels/BikesHelmets251_png_jpg.rf.b4c0a45a6549042bec4e7c587d666d7b.txt  \n",
            " extracting: train/labels/BikesHelmets253_png_jpg.rf.517751b213e494d262ce2d697853776d.txt  \n",
            " extracting: train/labels/BikesHelmets253_png_jpg.rf.5256fc039a46b2911c3a85348fa1ccba.txt  \n",
            " extracting: train/labels/BikesHelmets253_png_jpg.rf.7835a5c01a7a55032f6d1faab64e4976.txt  \n",
            " extracting: train/labels/BikesHelmets253_png_jpg.rf.970f4cfe9ba1068ba1e3d7cbb0ad93e3.txt  \n",
            " extracting: train/labels/BikesHelmets253_png_jpg.rf.97e0c981e0eaf0d1e2abf147ea950375.txt  \n",
            " extracting: train/labels/BikesHelmets253_png_jpg.rf.9cee6cecdec1b1e3a449a8b062898bbd.txt  \n",
            " extracting: train/labels/BikesHelmets253_png_jpg.rf.b76c84a75f4672374911ceb2788db256.txt  \n",
            " extracting: train/labels/BikesHelmets253_png_jpg.rf.cccec11112f3abde559da8c3c262f94b.txt  \n",
            " extracting: train/labels/BikesHelmets253_png_jpg.rf.f3a718d3068d99207b15adc0a3cb7620.txt  \n",
            " extracting: train/labels/BikesHelmets254_png_jpg.rf.186c282c118965d8311b8e091b956df7.txt  \n",
            " extracting: train/labels/BikesHelmets254_png_jpg.rf.19313f5e975a000b3b69a0bc7d1589d7.txt  \n",
            " extracting: train/labels/BikesHelmets254_png_jpg.rf.45d2a8671c537780f655b5c78f8de430.txt  \n",
            " extracting: train/labels/BikesHelmets254_png_jpg.rf.57d45c8643edbfb6cb58d46d9ef10831.txt  \n",
            " extracting: train/labels/BikesHelmets254_png_jpg.rf.70f8ccc2d1488a75f68c3853439aaa09.txt  \n",
            " extracting: train/labels/BikesHelmets254_png_jpg.rf.7a8500fbb680499e8cd6044adef1d7b9.txt  \n",
            " extracting: train/labels/BikesHelmets254_png_jpg.rf.a5a6d80d6c4b22df47dbb51340b20874.txt  \n",
            " extracting: train/labels/BikesHelmets254_png_jpg.rf.b616c1231badd3b46350abfb02cd3655.txt  \n",
            " extracting: train/labels/BikesHelmets254_png_jpg.rf.f57ed500554b312e1d65cafd376b2f6b.txt  \n",
            " extracting: train/labels/BikesHelmets256_png_jpg.rf.22071bd82f393de6158f1eef6f7b7489.txt  \n",
            " extracting: train/labels/BikesHelmets256_png_jpg.rf.6f6dbccb1fe0a95e0d295cad99323d31.txt  \n",
            " extracting: train/labels/BikesHelmets256_png_jpg.rf.80b443fa15dc6c5876737ead4e5c28e6.txt  \n",
            " extracting: train/labels/BikesHelmets256_png_jpg.rf.c3e82235395f2291926d3509425cce19.txt  \n",
            " extracting: train/labels/BikesHelmets256_png_jpg.rf.e794230ec190801ad193b42bdf511531.txt  \n",
            " extracting: train/labels/BikesHelmets256_png_jpg.rf.f52c00f1b2063fb9438b7f18e1744624.txt  \n",
            " extracting: train/labels/BikesHelmets257_png_jpg.rf.33746d59410c5203bd837c4c851d620a.txt  \n",
            " extracting: train/labels/BikesHelmets257_png_jpg.rf.64c1805267a0dbde426c4c1dae3108b0.txt  \n",
            " extracting: train/labels/BikesHelmets257_png_jpg.rf.7b42a7d83cfd21adf583be694098c018.txt  \n",
            " extracting: train/labels/BikesHelmets257_png_jpg.rf.86abb12e9bf7016cc6c7dfe66496c2b7.txt  \n",
            " extracting: train/labels/BikesHelmets257_png_jpg.rf.bed7c108569c2d5b4f2b2b5f70adc07f.txt  \n",
            " extracting: train/labels/BikesHelmets257_png_jpg.rf.e0a00167722bcb01bfe3aef630558501.txt  \n",
            " extracting: train/labels/BikesHelmets257_png_jpg.rf.e569e3b65084198f8be6748e5acb47b8.txt  \n",
            " extracting: train/labels/BikesHelmets257_png_jpg.rf.f399d129f1df432ecb866572e13b6c24.txt  \n",
            " extracting: train/labels/BikesHelmets257_png_jpg.rf.f5a65fc90d0542dde45720cc655d896d.txt  \n",
            " extracting: train/labels/BikesHelmets261_png_jpg.rf.2da9274c0e7e99f3234a5850f9559c8d.txt  \n",
            " extracting: train/labels/BikesHelmets261_png_jpg.rf.48a48a20ea3cae87250040f44fdeb819.txt  \n",
            " extracting: train/labels/BikesHelmets261_png_jpg.rf.86bb1bc006e432de641339a80289acd9.txt  \n",
            " extracting: train/labels/BikesHelmets261_png_jpg.rf.a218d4bdb70d3facb241aca0c12fec26.txt  \n",
            " extracting: train/labels/BikesHelmets261_png_jpg.rf.cf67f696f1c75b4d18bc4302c8cd637b.txt  \n",
            " extracting: train/labels/BikesHelmets261_png_jpg.rf.d6a6f5c72f2ff0fe4fc904db0c414982.txt  \n",
            " extracting: train/labels/BikesHelmets261_png_jpg.rf.d7be9dd580196b808899f60f765dd300.txt  \n",
            " extracting: train/labels/BikesHelmets261_png_jpg.rf.ea928630af849caeecb1b6328abd3172.txt  \n",
            " extracting: train/labels/BikesHelmets261_png_jpg.rf.ed7676ab42b2c7675093febaa71fcebd.txt  \n",
            " extracting: train/labels/BikesHelmets262_png_jpg.rf.1e530889fe152e0ce6fcd3a8eefa0053.txt  \n",
            " extracting: train/labels/BikesHelmets262_png_jpg.rf.32102f78d27ad13e462b59cda161fc62.txt  \n",
            " extracting: train/labels/BikesHelmets262_png_jpg.rf.41153fa08ce9219ec317afe820a66e22.txt  \n",
            " extracting: train/labels/BikesHelmets262_png_jpg.rf.48fc201a796b91241c3add2308236039.txt  \n",
            " extracting: train/labels/BikesHelmets262_png_jpg.rf.70f7e75dcff155f2c5e1c6939bb5862a.txt  \n",
            " extracting: train/labels/BikesHelmets262_png_jpg.rf.87ffd3a509c5dda971c015003b9486eb.txt  \n",
            " extracting: train/labels/BikesHelmets262_png_jpg.rf.8e78493beb4a20902dbdbf1fd4d9ee52.txt  \n",
            " extracting: train/labels/BikesHelmets262_png_jpg.rf.a3b305e204893982c802ecb0df008271.txt  \n",
            " extracting: train/labels/BikesHelmets262_png_jpg.rf.c5411f235170a0a73a23ca87fc8a4a38.txt  \n",
            " extracting: train/labels/BikesHelmets263_png_jpg.rf.2e4f606d605bdcefde7252d3b453222f.txt  \n",
            " extracting: train/labels/BikesHelmets263_png_jpg.rf.6c615e6fa6421f319f5faeddd56d9b30.txt  \n",
            " extracting: train/labels/BikesHelmets263_png_jpg.rf.904d7fbc4b6aa541bbbea9ac715a983e.txt  \n",
            " extracting: train/labels/BikesHelmets263_png_jpg.rf.d275a0fd70b3d1516f293f7292e28bf3.txt  \n",
            " extracting: train/labels/BikesHelmets263_png_jpg.rf.e8538da5271d0236e6c87670a64571b6.txt  \n",
            " extracting: train/labels/BikesHelmets263_png_jpg.rf.f1c034593445dd7b61128393717a4c91.txt  \n",
            " extracting: train/labels/BikesHelmets264_png_jpg.rf.09ed7ee063fd9b1d982dba6e703bfbbe.txt  \n",
            " extracting: train/labels/BikesHelmets264_png_jpg.rf.110e3327477104a0b5a0fb8282321f64.txt  \n",
            " extracting: train/labels/BikesHelmets264_png_jpg.rf.6019c044b33081f061f4cf76a2dd2f7b.txt  \n",
            " extracting: train/labels/BikesHelmets264_png_jpg.rf.6bd618fcecfac717e95be218b8d8907a.txt  \n",
            " extracting: train/labels/BikesHelmets264_png_jpg.rf.7a024a4e23a76da7330638ca963939cb.txt  \n",
            " extracting: train/labels/BikesHelmets264_png_jpg.rf.9073c151b52eb8ca0736baf459d06cff.txt  \n",
            " extracting: train/labels/BikesHelmets264_png_jpg.rf.b8d6d9b06008298d46dfe20ebd7fd721.txt  \n",
            " extracting: train/labels/BikesHelmets264_png_jpg.rf.f5d6e1fe3b446cac0ae9c1b8cf65969a.txt  \n",
            " extracting: train/labels/BikesHelmets264_png_jpg.rf.fa9b3da8742fb9700fb96667f18ff1f8.txt  \n",
            " extracting: train/labels/BikesHelmets270_png_jpg.rf.0904cb63707fd56294797ed07e2b226c.txt  \n",
            " extracting: train/labels/BikesHelmets270_png_jpg.rf.2ec805fa22746f36762167a39c1b5514.txt  \n",
            " extracting: train/labels/BikesHelmets270_png_jpg.rf.75fd60f8d4a4fe0671febee7fb17c8e9.txt  \n",
            " extracting: train/labels/BikesHelmets270_png_jpg.rf.9f4aff4668955c5877f27ee85826189a.txt  \n",
            " extracting: train/labels/BikesHelmets270_png_jpg.rf.d6ec7f56353ac991007798187acde51c.txt  \n",
            " extracting: train/labels/BikesHelmets270_png_jpg.rf.f3bccec1ac75e0d1bbb6d99310332f69.txt  \n",
            " extracting: train/labels/BikesHelmets271_png_jpg.rf.03ede3e56eb9236c157cd70d82c65a15.txt  \n",
            " extracting: train/labels/BikesHelmets271_png_jpg.rf.5460c96624a5736164f06b841c1bcef1.txt  \n",
            " extracting: train/labels/BikesHelmets271_png_jpg.rf.5bb35c4cb7070ed44fcf20691e1398a2.txt  \n",
            " extracting: train/labels/BikesHelmets271_png_jpg.rf.77b7c8aadde92a3bc5b20fcd253a98f3.txt  \n",
            " extracting: train/labels/BikesHelmets271_png_jpg.rf.7f9360a54ebcdf346ae6e2697871bd41.txt  \n",
            " extracting: train/labels/BikesHelmets271_png_jpg.rf.81b4f8087bcd1f1560a4a655627b4c1b.txt  \n",
            " extracting: train/labels/BikesHelmets271_png_jpg.rf.ccb00449688a1b40667ef579921102ea.txt  \n",
            " extracting: train/labels/BikesHelmets271_png_jpg.rf.e80869d175be48923b1e714e184fba89.txt  \n",
            " extracting: train/labels/BikesHelmets271_png_jpg.rf.eb840913c534c967de35a3fe49698fbe.txt  \n",
            " extracting: train/labels/BikesHelmets272_png_jpg.rf.0d4669779ff65fe0b94091321a89dc7b.txt  \n",
            " extracting: train/labels/BikesHelmets272_png_jpg.rf.4da1310fbca73db35f4d46297b668782.txt  \n",
            " extracting: train/labels/BikesHelmets272_png_jpg.rf.52b15d05d38f33cc6420fee15f459378.txt  \n",
            " extracting: train/labels/BikesHelmets272_png_jpg.rf.558428f2ffffae11514c3ccfb03d2a3b.txt  \n",
            " extracting: train/labels/BikesHelmets272_png_jpg.rf.559d4da31526297922b10e0c6eb051b6.txt  \n",
            " extracting: train/labels/BikesHelmets272_png_jpg.rf.72270d2c16d8a79b92fe5d037a4830e6.txt  \n",
            " extracting: train/labels/BikesHelmets272_png_jpg.rf.7a79011289e4ae5605d5f54257feeece.txt  \n",
            " extracting: train/labels/BikesHelmets272_png_jpg.rf.b74ec3adb6fe9bfab3f56bf90579cedb.txt  \n",
            " extracting: train/labels/BikesHelmets272_png_jpg.rf.f1ebf74f348fecdab017688c5f7ddc29.txt  \n",
            " extracting: train/labels/BikesHelmets273_png_jpg.rf.03e4e04fda2876e2f3380a3e499e45ed.txt  \n",
            " extracting: train/labels/BikesHelmets273_png_jpg.rf.0ecd5242c4089a597e403d66b2e52781.txt  \n",
            " extracting: train/labels/BikesHelmets273_png_jpg.rf.1656dfffb9496e50b1b694dd820b3cb9.txt  \n",
            " extracting: train/labels/BikesHelmets273_png_jpg.rf.1cb8e2e6b6502b98ca76233834325aac.txt  \n",
            " extracting: train/labels/BikesHelmets273_png_jpg.rf.1e266f82eb8253c4f137c12b25220591.txt  \n",
            " extracting: train/labels/BikesHelmets273_png_jpg.rf.2a43845c0ebeead48ce67c9f98d96746.txt  \n",
            " extracting: train/labels/BikesHelmets273_png_jpg.rf.4676a016b5958c93328f7e9c8661d28b.txt  \n",
            " extracting: train/labels/BikesHelmets273_png_jpg.rf.bd098c90f855842cf14d8f368c3f4089.txt  \n",
            " extracting: train/labels/BikesHelmets273_png_jpg.rf.f200bcab6bb2da94dc08c8a398f54283.txt  \n",
            " extracting: train/labels/BikesHelmets278_png_jpg.rf.446c63eb19855498168a675876b53ad2.txt  \n",
            " extracting: train/labels/BikesHelmets278_png_jpg.rf.47cdd3170399df1510bafae7508df2c9.txt  \n",
            " extracting: train/labels/BikesHelmets278_png_jpg.rf.4adde517c522b6da66df1dd3d2d1e6ee.txt  \n",
            " extracting: train/labels/BikesHelmets278_png_jpg.rf.763d32595e41fb5a97fbc341f8037585.txt  \n",
            " extracting: train/labels/BikesHelmets278_png_jpg.rf.7bde87552ccafdfb22f18a1a0201dc3a.txt  \n",
            " extracting: train/labels/BikesHelmets278_png_jpg.rf.a8956bef0d1bb76bcdb8e134f16775f8.txt  \n",
            " extracting: train/labels/BikesHelmets279_png_jpg.rf.2e6f3de086ea8035286ad41c286e1657.txt  \n",
            " extracting: train/labels/BikesHelmets279_png_jpg.rf.4b279c04b9784d2db6f5bd3c44c40935.txt  \n",
            " extracting: train/labels/BikesHelmets279_png_jpg.rf.5cab6a89255ef74f7707288fdea0eb3d.txt  \n",
            " extracting: train/labels/BikesHelmets279_png_jpg.rf.5f76eaaeac798327162e2139ef0bbf22.txt  \n",
            " extracting: train/labels/BikesHelmets279_png_jpg.rf.b6afb41605a4df9f561583beeb8ab9da.txt  \n",
            " extracting: train/labels/BikesHelmets279_png_jpg.rf.d80e0770bc98b76c00962d9032af2acd.txt  \n",
            " extracting: train/labels/BikesHelmets27_png_jpg.rf.65e0344f71906cde3fab5a1fdec89ff1.txt  \n",
            " extracting: train/labels/BikesHelmets27_png_jpg.rf.664b68503c3e7324975efa27ce1266e3.txt  \n",
            " extracting: train/labels/BikesHelmets27_png_jpg.rf.6a06fb1a8b6741139c5a1bbe94ec8ebf.txt  \n",
            " extracting: train/labels/BikesHelmets27_png_jpg.rf.6d7480051f1e40ed11f30d2a110537f5.txt  \n",
            " extracting: train/labels/BikesHelmets27_png_jpg.rf.9a32b20c5f67099b9e68a03dbd1bf85b.txt  \n",
            " extracting: train/labels/BikesHelmets27_png_jpg.rf.c9012add09bfb672b25dd37ee868d53d.txt  \n",
            " extracting: train/labels/BikesHelmets281_png_jpg.rf.247df50b95ef6edaede6f20e279e2703.txt  \n",
            " extracting: train/labels/BikesHelmets281_png_jpg.rf.29618a9c83fb45a630419c3ad8169e36.txt  \n",
            " extracting: train/labels/BikesHelmets281_png_jpg.rf.5009d1daf55c7802c9f2807707a1afb4.txt  \n",
            " extracting: train/labels/BikesHelmets281_png_jpg.rf.c443ef4476f839ea51ed34037c82304f.txt  \n",
            " extracting: train/labels/BikesHelmets281_png_jpg.rf.ddcb0501dd7ad7e736c7867fa181c678.txt  \n",
            " extracting: train/labels/BikesHelmets281_png_jpg.rf.e60d230b6b6cd01a72f1e6712d41c988.txt  \n",
            " extracting: train/labels/BikesHelmets282_png_jpg.rf.18999ccffff07f9bdfe6608b921c6011.txt  \n",
            " extracting: train/labels/BikesHelmets282_png_jpg.rf.494da45fe1d8ef3b22be411245883033.txt  \n",
            " extracting: train/labels/BikesHelmets282_png_jpg.rf.641b14f451253cff6772f9e13cd227f3.txt  \n",
            " extracting: train/labels/BikesHelmets282_png_jpg.rf.9e8a13b06f19d4ffcffe1fc15adf9836.txt  \n",
            " extracting: train/labels/BikesHelmets282_png_jpg.rf.c7f341aad114cef75f7e3043a7d82c23.txt  \n",
            " extracting: train/labels/BikesHelmets282_png_jpg.rf.ee229a728f11c5318152617dbce2ce28.txt  \n",
            " extracting: train/labels/BikesHelmets283_png_jpg.rf.0feebf31441850251ba2661142dcf53d.txt  \n",
            " extracting: train/labels/BikesHelmets283_png_jpg.rf.3c14b50c4e865d9ba0413123d65838e0.txt  \n",
            " extracting: train/labels/BikesHelmets283_png_jpg.rf.bb595fdee525408ab4871b81778b30ef.txt  \n",
            " extracting: train/labels/BikesHelmets283_png_jpg.rf.bcf3c99889c37af857c8f5d3467d6301.txt  \n",
            " extracting: train/labels/BikesHelmets283_png_jpg.rf.c343b1ede2a4381d567ebb315a18b860.txt  \n",
            " extracting: train/labels/BikesHelmets283_png_jpg.rf.e81ea20e4ea6d6a4ef4d862b4253ba70.txt  \n",
            " extracting: train/labels/BikesHelmets284_png_jpg.rf.09a6637b3bdf1fa92f1f8430101c8a1b.txt  \n",
            " extracting: train/labels/BikesHelmets284_png_jpg.rf.2ccf296c3b4f71a30761025fea1fc818.txt  \n",
            " extracting: train/labels/BikesHelmets284_png_jpg.rf.2f8eca4071cb6c6d1d2f06e9274eb496.txt  \n",
            " extracting: train/labels/BikesHelmets284_png_jpg.rf.63150ca49fa82620c61f4c0e31842791.txt  \n",
            " extracting: train/labels/BikesHelmets284_png_jpg.rf.69a9ceed6b9032c0f1038ef4ffb142f4.txt  \n",
            " extracting: train/labels/BikesHelmets284_png_jpg.rf.7abd7cda905748eb845987da42ba33ca.txt  \n",
            " extracting: train/labels/BikesHelmets284_png_jpg.rf.a3cbabb871047d8318c8591a891e9d47.txt  \n",
            " extracting: train/labels/BikesHelmets284_png_jpg.rf.e3b4c003f5c2c5d1ea08625213075348.txt  \n",
            " extracting: train/labels/BikesHelmets284_png_jpg.rf.f48d541c7e52a7336799fadcf34d90cf.txt  \n",
            " extracting: train/labels/BikesHelmets286_png_jpg.rf.00c76b87385ecfe7dcd42023e67ca858.txt  \n",
            " extracting: train/labels/BikesHelmets286_png_jpg.rf.0381c4138ecda5179a7ce7379623ffc5.txt  \n",
            " extracting: train/labels/BikesHelmets286_png_jpg.rf.3f726fbffc3526af0527b1340a0f2a83.txt  \n",
            " extracting: train/labels/BikesHelmets286_png_jpg.rf.432addcd6c8a203b0886ba3651c32813.txt  \n",
            " extracting: train/labels/BikesHelmets286_png_jpg.rf.58a186231ec437cd7de68de5b0dcc6f2.txt  \n",
            " extracting: train/labels/BikesHelmets286_png_jpg.rf.87ea0d151b4a2fbde8af823f51cf7b6d.txt  \n",
            " extracting: train/labels/BikesHelmets286_png_jpg.rf.98f7fd11526dde9a042aa5f121bebc01.txt  \n",
            " extracting: train/labels/BikesHelmets286_png_jpg.rf.a55198cf54f4a67412895dc846ba88b6.txt  \n",
            " extracting: train/labels/BikesHelmets286_png_jpg.rf.ecd1e600775872fd474a6d358cb3bbd8.txt  \n",
            " extracting: train/labels/BikesHelmets288_png_jpg.rf.14a125cb41422e2d5b3237a643554f45.txt  \n",
            " extracting: train/labels/BikesHelmets288_png_jpg.rf.2ffe7ebf46073b45a56cd3c159965ed7.txt  \n",
            " extracting: train/labels/BikesHelmets288_png_jpg.rf.47a8bba475abe32745a910c423397f58.txt  \n",
            " extracting: train/labels/BikesHelmets288_png_jpg.rf.49f7ddbc5f47607bb43cf1fd17989edf.txt  \n",
            " extracting: train/labels/BikesHelmets288_png_jpg.rf.6b9e51149e28de7deb59be7a419f318c.txt  \n",
            " extracting: train/labels/BikesHelmets288_png_jpg.rf.aed7e7b0f8860cd0a390b91726632d90.txt  \n",
            " extracting: train/labels/BikesHelmets288_png_jpg.rf.c07f0baecc7a3a4c011fb7cf2546ec34.txt  \n",
            " extracting: train/labels/BikesHelmets288_png_jpg.rf.e64a40ce5ee8f53478ae3c38486c4e17.txt  \n",
            " extracting: train/labels/BikesHelmets288_png_jpg.rf.f70956c03956c02b48ef010e4c41c2a6.txt  \n",
            " extracting: train/labels/BikesHelmets289_png_jpg.rf.5bf63a1547a36112c8af9ee503ed2907.txt  \n",
            " extracting: train/labels/BikesHelmets289_png_jpg.rf.817fffb37767039113837ae6c91f8835.txt  \n",
            " extracting: train/labels/BikesHelmets289_png_jpg.rf.841041f64dd20733aa6abed56e880732.txt  \n",
            " extracting: train/labels/BikesHelmets289_png_jpg.rf.ad16cf775c5a8ccb7936f037ff6d06bd.txt  \n",
            " extracting: train/labels/BikesHelmets289_png_jpg.rf.ad60130647a2991cb8bc30cc2d2d88ae.txt  \n",
            " extracting: train/labels/BikesHelmets289_png_jpg.rf.c1f0bfcf6878ab8f69a53089a70a253d.txt  \n",
            " extracting: train/labels/BikesHelmets289_png_jpg.rf.d7fc6a87d998569a9ba5177749ff33f4.txt  \n",
            " extracting: train/labels/BikesHelmets289_png_jpg.rf.dc1911ee650cf790800b854fe4becdcd.txt  \n",
            " extracting: train/labels/BikesHelmets289_png_jpg.rf.fa13dc93fb8e27613aec40e6e6378996.txt  \n",
            " extracting: train/labels/BikesHelmets28_png_jpg.rf.6be763a63ceaf998eca971dc8c828734.txt  \n",
            " extracting: train/labels/BikesHelmets28_png_jpg.rf.75467c0d87e5f8bf10b1083ec6547893.txt  \n",
            " extracting: train/labels/BikesHelmets28_png_jpg.rf.78dbfcb00d5fff6b34bfc449c527846d.txt  \n",
            " extracting: train/labels/BikesHelmets28_png_jpg.rf.79986a486bfecd46ca88ab528a6a738c.txt  \n",
            " extracting: train/labels/BikesHelmets28_png_jpg.rf.e0d278aa7b3e8a0a380005e0b207bbaa.txt  \n",
            " extracting: train/labels/BikesHelmets28_png_jpg.rf.e346d2d6fe40eb02f33e08d1a48de4c8.txt  \n",
            " extracting: train/labels/BikesHelmets28_png_jpg.rf.e3e30ddbe4e2f165f456f55df6b22513.txt  \n",
            " extracting: train/labels/BikesHelmets28_png_jpg.rf.e527c900682d30be9ddedf5cca66b820.txt  \n",
            " extracting: train/labels/BikesHelmets28_png_jpg.rf.fda398c094f435865bba9a7ae957e51f.txt  \n",
            " extracting: train/labels/BikesHelmets290_png_jpg.rf.209a90373372b896c36769ecb8d3dcc1.txt  \n",
            " extracting: train/labels/BikesHelmets290_png_jpg.rf.3f62210b278f623467b2e7749e7c1ff0.txt  \n",
            " extracting: train/labels/BikesHelmets290_png_jpg.rf.5c5805187457be24890a5ad2e106c323.txt  \n",
            " extracting: train/labels/BikesHelmets290_png_jpg.rf.719181eb0c990eb20efe7d27c3dd5f62.txt  \n",
            " extracting: train/labels/BikesHelmets290_png_jpg.rf.8a5b829ac6df740db148cb0c8eeebd8f.txt  \n",
            " extracting: train/labels/BikesHelmets290_png_jpg.rf.cb6df79dd27c52aac2b9a2c8a091c4d7.txt  \n",
            " extracting: train/labels/BikesHelmets290_png_jpg.rf.df42ce85cb4af5c3ea791fd4cf0224cb.txt  \n",
            " extracting: train/labels/BikesHelmets290_png_jpg.rf.fc6bddbc9588d96a6fadf4390fd3631c.txt  \n",
            " extracting: train/labels/BikesHelmets290_png_jpg.rf.fc8b0278b28d5ee88df5efd05a9cfe52.txt  \n",
            " extracting: train/labels/BikesHelmets291_png_jpg.rf.287cbec6c50e90dfcf158bc5ec81452f.txt  \n",
            " extracting: train/labels/BikesHelmets291_png_jpg.rf.526773965059a0756619d49cca940ab9.txt  \n",
            " extracting: train/labels/BikesHelmets291_png_jpg.rf.5c678c9ed4fd107cdfcebe29ac99a3ad.txt  \n",
            " extracting: train/labels/BikesHelmets291_png_jpg.rf.7eda7d1be155129750a21dd942c2c31b.txt  \n",
            " extracting: train/labels/BikesHelmets291_png_jpg.rf.a3304f47d20c21f6ab3921793b55a4d4.txt  \n",
            " extracting: train/labels/BikesHelmets291_png_jpg.rf.ee5abb2f3c10809ab4383fb47de2759a.txt  \n",
            " extracting: train/labels/BikesHelmets292_png_jpg.rf.13f52a9da7729b95a1434d93d4849142.txt  \n",
            " extracting: train/labels/BikesHelmets292_png_jpg.rf.3eb3dc7cccf8e449003d701e0e6c4426.txt  \n",
            " extracting: train/labels/BikesHelmets292_png_jpg.rf.9a0cb75b4d68f987095c87078789f042.txt  \n",
            " extracting: train/labels/BikesHelmets292_png_jpg.rf.9f623c8c39d76754ef0f37437d6ad207.txt  \n",
            " extracting: train/labels/BikesHelmets292_png_jpg.rf.ab8cc8ccde7a41b2bb595e24416de202.txt  \n",
            " extracting: train/labels/BikesHelmets292_png_jpg.rf.e0ae91850962a8aa5790853e73235564.txt  \n",
            " extracting: train/labels/BikesHelmets293_png_jpg.rf.030d6706a0acdb50191bb81534baa9cd.txt  \n",
            " extracting: train/labels/BikesHelmets293_png_jpg.rf.1163465bd180ee060976931c3ca306a8.txt  \n",
            " extracting: train/labels/BikesHelmets293_png_jpg.rf.15d108e7e7753a4c9908a4781ef74298.txt  \n",
            " extracting: train/labels/BikesHelmets293_png_jpg.rf.1fd6b82d9d2f452f1e156f19910ab293.txt  \n",
            " extracting: train/labels/BikesHelmets293_png_jpg.rf.a12da5934a5aa41e65c913a0571d9735.txt  \n",
            " extracting: train/labels/BikesHelmets293_png_jpg.rf.a843ac85854020f17f4c1ed3f6782dd6.txt  \n",
            " extracting: train/labels/BikesHelmets293_png_jpg.rf.ac6656334da71cb017a4a5979e3f2785.txt  \n",
            " extracting: train/labels/BikesHelmets293_png_jpg.rf.bf8764ea965507a40984e1af52eb695e.txt  \n",
            " extracting: train/labels/BikesHelmets293_png_jpg.rf.def57ac90a99157d1d81abcc495b26e0.txt  \n",
            " extracting: train/labels/BikesHelmets29_png_jpg.rf.223ae9c9a280739dd8114ef77f4c11fa.txt  \n",
            " extracting: train/labels/BikesHelmets29_png_jpg.rf.53bf3462905774f289bd88bb2f2a8f68.txt  \n",
            " extracting: train/labels/BikesHelmets29_png_jpg.rf.732788dfc9bea37ef5e0cf2c78f37054.txt  \n",
            " extracting: train/labels/BikesHelmets29_png_jpg.rf.7f942f99adfefeada42745a09c42c73c.txt  \n",
            " extracting: train/labels/BikesHelmets29_png_jpg.rf.88190165de91d27320014684b31d1c2e.txt  \n",
            " extracting: train/labels/BikesHelmets29_png_jpg.rf.b205002e667bee765c63699a9dedc313.txt  \n",
            " extracting: train/labels/BikesHelmets29_png_jpg.rf.ce95120c7d71d5804e2f6d4c2ec8a316.txt  \n",
            " extracting: train/labels/BikesHelmets29_png_jpg.rf.e9cdaaabb2b0bfcf7971a18de7c60131.txt  \n",
            " extracting: train/labels/BikesHelmets29_png_jpg.rf.ea0769ab1028f3f1db2121e8b04cd780.txt  \n",
            " extracting: train/labels/BikesHelmets300_png_jpg.rf.24c8099229429f866b5ad1fb683e8e4f.txt  \n",
            " extracting: train/labels/BikesHelmets300_png_jpg.rf.342fbee61bc6576645f49e4512467b64.txt  \n",
            " extracting: train/labels/BikesHelmets300_png_jpg.rf.7aee93019bef2bfb70cc9bdac2b503f0.txt  \n",
            " extracting: train/labels/BikesHelmets300_png_jpg.rf.9069faeaa169eca5430e3d56b52befb6.txt  \n",
            " extracting: train/labels/BikesHelmets300_png_jpg.rf.9ed7d165ebd28ea311aa6ac33e7a2b2d.txt  \n",
            " extracting: train/labels/BikesHelmets300_png_jpg.rf.a9e94c0bfe3ad8248db85bd596dcba8d.txt  \n",
            " extracting: train/labels/BikesHelmets300_png_jpg.rf.add0254dc81c5fbdc3de2497a1f760e5.txt  \n",
            " extracting: train/labels/BikesHelmets300_png_jpg.rf.e8d4d339c4d1a9a8c6ccf67f0039eb51.txt  \n",
            " extracting: train/labels/BikesHelmets300_png_jpg.rf.ef178faefbe4b93c1c353ce211f06ff4.txt  \n",
            " extracting: train/labels/BikesHelmets304_png_jpg.rf.0698369e09e3c761212abc9911c99209.txt  \n",
            " extracting: train/labels/BikesHelmets304_png_jpg.rf.40e0218e0eef06d3ac796f93a38f0916.txt  \n",
            " extracting: train/labels/BikesHelmets304_png_jpg.rf.4d41db4fd0991472bb10e450d8808027.txt  \n",
            " extracting: train/labels/BikesHelmets304_png_jpg.rf.5e6fe10ed5553f2e414d09aa9702dfaf.txt  \n",
            " extracting: train/labels/BikesHelmets304_png_jpg.rf.7e93f576257db7ec68b3df92bc6efd82.txt  \n",
            " extracting: train/labels/BikesHelmets304_png_jpg.rf.8c009318083483ae2a8b1bd056dfffc9.txt  \n",
            " extracting: train/labels/BikesHelmets304_png_jpg.rf.d22f4139f03598aa69ec7d3fda06a11d.txt  \n",
            " extracting: train/labels/BikesHelmets304_png_jpg.rf.e3cb2f4490057b3f6d834057af184628.txt  \n",
            " extracting: train/labels/BikesHelmets304_png_jpg.rf.eac89cf79235fd2ef23f0e8424f063aa.txt  \n",
            " extracting: train/labels/BikesHelmets307_png_jpg.rf.2bfe733dd43efcf3e1b3053689178515.txt  \n",
            " extracting: train/labels/BikesHelmets307_png_jpg.rf.35d47bb870160cdd6ff0fc9be5ea4615.txt  \n",
            " extracting: train/labels/BikesHelmets307_png_jpg.rf.78661902eeb13067c2717570a0d6ad33.txt  \n",
            " extracting: train/labels/BikesHelmets307_png_jpg.rf.7bf79a268afb335e97199648bc5c7f04.txt  \n",
            " extracting: train/labels/BikesHelmets307_png_jpg.rf.8413e18404b02e0aa4a38fbfbdd049ae.txt  \n",
            " extracting: train/labels/BikesHelmets307_png_jpg.rf.927a838d1959bfee366f90fafda7bd56.txt  \n",
            " extracting: train/labels/BikesHelmets307_png_jpg.rf.a84265d6812a3a80a0264a10f34ea534.txt  \n",
            " extracting: train/labels/BikesHelmets307_png_jpg.rf.b8d592d7d38f5ec1b74859589f9419bd.txt  \n",
            " extracting: train/labels/BikesHelmets307_png_jpg.rf.c566164e16980257a0ce0744779a0fe0.txt  \n",
            " extracting: train/labels/BikesHelmets310_png_jpg.rf.20f184db623dd4e8721adcb62f23b1e6.txt  \n",
            " extracting: train/labels/BikesHelmets310_png_jpg.rf.4035a05de647cf2ec118761c2b5bb130.txt  \n",
            " extracting: train/labels/BikesHelmets310_png_jpg.rf.567560dd0ab68c166e2ec121fb75358e.txt  \n",
            " extracting: train/labels/BikesHelmets310_png_jpg.rf.82daa173d5ed1a45ad26477d0f0c55a2.txt  \n",
            " extracting: train/labels/BikesHelmets310_png_jpg.rf.a66023f7bac137f69500f647b9ca3de2.txt  \n",
            " extracting: train/labels/BikesHelmets310_png_jpg.rf.fcc005b1db2a883cc77af0603a828ddd.txt  \n",
            " extracting: train/labels/BikesHelmets311_png_jpg.rf.03f0f79f2afea4727c0b7e7600b0be15.txt  \n",
            " extracting: train/labels/BikesHelmets311_png_jpg.rf.35a6ed5aa49ba090215ac746f893e76d.txt  \n",
            " extracting: train/labels/BikesHelmets311_png_jpg.rf.8dec382c652cb19767637f1a50cceead.txt  \n",
            " extracting: train/labels/BikesHelmets311_png_jpg.rf.ae0cc4c562a4df58fc8fa079939c0655.txt  \n",
            " extracting: train/labels/BikesHelmets311_png_jpg.rf.b08326fd0861fd40700f7d994bfa9bf9.txt  \n",
            " extracting: train/labels/BikesHelmets311_png_jpg.rf.b1d0cd1e30f5b28c0decdd51e5a4701f.txt  \n",
            " extracting: train/labels/BikesHelmets311_png_jpg.rf.c1b0fdcafc26d76ef69f9214a755622d.txt  \n",
            " extracting: train/labels/BikesHelmets311_png_jpg.rf.d33cfac96603e57516b65e96964970c3.txt  \n",
            " extracting: train/labels/BikesHelmets311_png_jpg.rf.d79c5c69e6eb515a9ffca1e281497187.txt  \n",
            " extracting: train/labels/BikesHelmets313_png_jpg.rf.18940922266176be2692917c5b20031b.txt  \n",
            " extracting: train/labels/BikesHelmets313_png_jpg.rf.7c7b2ecad23f021ad501da3dbf8b588c.txt  \n",
            " extracting: train/labels/BikesHelmets313_png_jpg.rf.b16db9ec1a42e0b1cc27d6254c508ece.txt  \n",
            " extracting: train/labels/BikesHelmets313_png_jpg.rf.c6411366cfb39ff338d31adfb1fad182.txt  \n",
            " extracting: train/labels/BikesHelmets313_png_jpg.rf.de69bdab16297390812f2dd95af991fa.txt  \n",
            " extracting: train/labels/BikesHelmets313_png_jpg.rf.e5e5803aedba4ac697bbcc82cfe6e65f.txt  \n",
            " extracting: train/labels/BikesHelmets313_png_jpg.rf.f4a0eeb4c00adeed22487ffdc66b7cff.txt  \n",
            " extracting: train/labels/BikesHelmets313_png_jpg.rf.f9081659e5200e8b010952aa19db1eb0.txt  \n",
            " extracting: train/labels/BikesHelmets313_png_jpg.rf.f9955f9108b3e1f8a9683bb6c9c47097.txt  \n",
            " extracting: train/labels/BikesHelmets314_png_jpg.rf.10ec375ceabadc3f2179b2462b5626c7.txt  \n",
            " extracting: train/labels/BikesHelmets314_png_jpg.rf.4041a58af9945d79b8eea90051e92812.txt  \n",
            " extracting: train/labels/BikesHelmets314_png_jpg.rf.65b35f3c016f0b6a564e7f89d1db99f1.txt  \n",
            " extracting: train/labels/BikesHelmets314_png_jpg.rf.8701b7f978ca256debcc285a79a4ce55.txt  \n",
            " extracting: train/labels/BikesHelmets314_png_jpg.rf.8b790da8b3443f77172d171a56e380f9.txt  \n",
            " extracting: train/labels/BikesHelmets314_png_jpg.rf.8d98a6efd1c6267aaf4e2783abef0fe8.txt  \n",
            " extracting: train/labels/BikesHelmets314_png_jpg.rf.ddfbf8c78d3043dfd739ac206df672ef.txt  \n",
            " extracting: train/labels/BikesHelmets314_png_jpg.rf.ee73d4ac78ed924afc5ffd4b56d481a0.txt  \n",
            " extracting: train/labels/BikesHelmets314_png_jpg.rf.f3d06c10fc44042f46c728d7b064832b.txt  \n",
            " extracting: train/labels/BikesHelmets315_png_jpg.rf.064a56708febbf3d7aa59e222de55c16.txt  \n",
            " extracting: train/labels/BikesHelmets315_png_jpg.rf.55418abed67c52c538e2b10671ec045e.txt  \n",
            " extracting: train/labels/BikesHelmets315_png_jpg.rf.603f5a41d9e25014762144a5502b9901.txt  \n",
            " extracting: train/labels/BikesHelmets315_png_jpg.rf.7dbc46d324ddbeba15f0e61258c1bb26.txt  \n",
            " extracting: train/labels/BikesHelmets315_png_jpg.rf.8240209db02b4c544f256a3465697665.txt  \n",
            " extracting: train/labels/BikesHelmets315_png_jpg.rf.8d30088ce2a956744e442355c73fe93d.txt  \n",
            " extracting: train/labels/BikesHelmets315_png_jpg.rf.a45caae2ee5ddbdffdb2965851f89c74.txt  \n",
            " extracting: train/labels/BikesHelmets315_png_jpg.rf.dace830ae873854d05c80da2a7f982df.txt  \n",
            " extracting: train/labels/BikesHelmets315_png_jpg.rf.f544175f9406416aa5e3afba81c7ea82.txt  \n",
            " extracting: train/labels/BikesHelmets318_png_jpg.rf.0af042bcaae364ae849cc7deb3a46f69.txt  \n",
            " extracting: train/labels/BikesHelmets318_png_jpg.rf.11fed0253311eec7d225246426e5ba6a.txt  \n",
            " extracting: train/labels/BikesHelmets318_png_jpg.rf.1bd1f7392868bb8a0332e6d0838b424c.txt  \n",
            " extracting: train/labels/BikesHelmets318_png_jpg.rf.4cf061f58205994a6db824c534cafd56.txt  \n",
            " extracting: train/labels/BikesHelmets318_png_jpg.rf.608a70bcd7d342a0ae1b972d3bf01c4c.txt  \n",
            " extracting: train/labels/BikesHelmets318_png_jpg.rf.abaa9206f514cb5280923b429d662017.txt  \n",
            " extracting: train/labels/BikesHelmets318_png_jpg.rf.acd3f3980f4d5c06cd0688fbfa28e4f6.txt  \n",
            " extracting: train/labels/BikesHelmets318_png_jpg.rf.c1b6f03c9984254717b366edc20738e1.txt  \n",
            " extracting: train/labels/BikesHelmets318_png_jpg.rf.d7edcdaecca280cac43aa4e085cda108.txt  \n",
            " extracting: train/labels/BikesHelmets31_png_jpg.rf.171fb98c1c5acddaad0517045ef76755.txt  \n",
            " extracting: train/labels/BikesHelmets31_png_jpg.rf.1e471958a2ca42a28b71eef2e703b41d.txt  \n",
            " extracting: train/labels/BikesHelmets31_png_jpg.rf.73cdbaf6a28b34d9341af6c108c85805.txt  \n",
            " extracting: train/labels/BikesHelmets31_png_jpg.rf.9c5f0427d58932b1cfc20ab4186a460b.txt  \n",
            " extracting: train/labels/BikesHelmets31_png_jpg.rf.9feee9e0cb9a5a5000b766498dfacab8.txt  \n",
            " extracting: train/labels/BikesHelmets31_png_jpg.rf.b560449608f3aec6e236117e5a8ec0e9.txt  \n",
            " extracting: train/labels/BikesHelmets31_png_jpg.rf.cbf017ca032427b245ae33dd0828e3c9.txt  \n",
            " extracting: train/labels/BikesHelmets31_png_jpg.rf.e2b1a61a889cd10b04c00367062ee40e.txt  \n",
            " extracting: train/labels/BikesHelmets31_png_jpg.rf.e79ac689ebb6f0addacb61441dbd9560.txt  \n",
            " extracting: train/labels/BikesHelmets322_png_jpg.rf.0b1c01356c6ad2308614acb45ed3fd86.txt  \n",
            " extracting: train/labels/BikesHelmets322_png_jpg.rf.123afe4baf44929f4c628d3a87c0aae7.txt  \n",
            " extracting: train/labels/BikesHelmets322_png_jpg.rf.32bf6624ece190de74662afe21a497b3.txt  \n",
            " extracting: train/labels/BikesHelmets322_png_jpg.rf.491c86b0a8ad669ed978cb7cf14ffdf6.txt  \n",
            " extracting: train/labels/BikesHelmets322_png_jpg.rf.56c7b87c3ee92b41c769f37cfd084118.txt  \n",
            " extracting: train/labels/BikesHelmets322_png_jpg.rf.7afe9b2cb715e63a2bc0f90d4f4abf67.txt  \n",
            " extracting: train/labels/BikesHelmets322_png_jpg.rf.d5a2ad988ad6523124c21f913038a326.txt  \n",
            " extracting: train/labels/BikesHelmets322_png_jpg.rf.d82197a59ea1e1d03e088acb67d3122b.txt  \n",
            " extracting: train/labels/BikesHelmets322_png_jpg.rf.f41d156848ff0786df98cf275b63268b.txt  \n",
            " extracting: train/labels/BikesHelmets324_png_jpg.rf.0ee0c766cbbac6cc47daf7c55b490dad.txt  \n",
            " extracting: train/labels/BikesHelmets324_png_jpg.rf.103020fae002ce78bd75977a6fd4196c.txt  \n",
            " extracting: train/labels/BikesHelmets324_png_jpg.rf.3db0054ab0d6d6085df7d3e1c798de5b.txt  \n",
            " extracting: train/labels/BikesHelmets324_png_jpg.rf.64fd64ca0ab17f82a9e60e90abaa84b9.txt  \n",
            " extracting: train/labels/BikesHelmets324_png_jpg.rf.8fc28f3d09b8a9f9efc3a258fd7f688a.txt  \n",
            " extracting: train/labels/BikesHelmets324_png_jpg.rf.d7d2394e42f519d8921daaf410f7aee4.txt  \n",
            " extracting: train/labels/BikesHelmets326_png_jpg.rf.06124e373dd3060182f929b757dfccf9.txt  \n",
            " extracting: train/labels/BikesHelmets326_png_jpg.rf.36acc6b7fc79d999129459500770e1ee.txt  \n",
            " extracting: train/labels/BikesHelmets326_png_jpg.rf.4e5d0724357a49bdaa645dddec12e4a4.txt  \n",
            " extracting: train/labels/BikesHelmets326_png_jpg.rf.573c10b53c28c94ca1e85e338c92ee46.txt  \n",
            " extracting: train/labels/BikesHelmets326_png_jpg.rf.8b49b71649c1e838e9f73da05eedafa3.txt  \n",
            " extracting: train/labels/BikesHelmets326_png_jpg.rf.a399e6dd51099c9621f6135fa883cc91.txt  \n",
            " extracting: train/labels/BikesHelmets326_png_jpg.rf.b58a4addb4594b38ee83ddc2c1e2a170.txt  \n",
            " extracting: train/labels/BikesHelmets326_png_jpg.rf.b99e34458790aeaf4487f804ca8a0a9a.txt  \n",
            " extracting: train/labels/BikesHelmets326_png_jpg.rf.ba34cae579cc45ae7cace49a6f17091a.txt  \n",
            " extracting: train/labels/BikesHelmets328_png_jpg.rf.0e3168f6bd7a24cef712d8702e7cabd1.txt  \n",
            " extracting: train/labels/BikesHelmets328_png_jpg.rf.5624960b6239fcd2198e13c8c2c97bb0.txt  \n",
            " extracting: train/labels/BikesHelmets328_png_jpg.rf.64f9fa201764b71fe3bcfcaa9ba94643.txt  \n",
            " extracting: train/labels/BikesHelmets328_png_jpg.rf.708f0aa334aaa6eed039eca340406849.txt  \n",
            " extracting: train/labels/BikesHelmets328_png_jpg.rf.70ad6524ca734bc7f8fe05d191bd0319.txt  \n",
            " extracting: train/labels/BikesHelmets328_png_jpg.rf.9ba1dc99fe9db819b53a7301e3faf38d.txt  \n",
            " extracting: train/labels/BikesHelmets328_png_jpg.rf.a7166bbb0a4f25ed66b9f2683dbceb84.txt  \n",
            " extracting: train/labels/BikesHelmets328_png_jpg.rf.d4dac780db8e6dfac053db4d19a60222.txt  \n",
            " extracting: train/labels/BikesHelmets328_png_jpg.rf.d8472d0ac0345fad4de350f20f9bc02d.txt  \n",
            " extracting: train/labels/BikesHelmets32_png_jpg.rf.01c1dd07e614f3539a027c1920a4b364.txt  \n",
            " extracting: train/labels/BikesHelmets32_png_jpg.rf.142966bf93c526f09a3d226ff28051ac.txt  \n",
            " extracting: train/labels/BikesHelmets32_png_jpg.rf.3c5dc14488bc8fe19937aa2e86eaf580.txt  \n",
            " extracting: train/labels/BikesHelmets32_png_jpg.rf.515078efffa30211b754cea509f46a22.txt  \n",
            " extracting: train/labels/BikesHelmets32_png_jpg.rf.6725316838d066a0e8adfa20f81ebd72.txt  \n",
            " extracting: train/labels/BikesHelmets32_png_jpg.rf.7c858a25fe33ae7bf082d850e9175414.txt  \n",
            " extracting: train/labels/BikesHelmets32_png_jpg.rf.8cf4fe01f08f4016994e9b62dc46c990.txt  \n",
            " extracting: train/labels/BikesHelmets32_png_jpg.rf.c743606371a5679de1ca269a513370e2.txt  \n",
            " extracting: train/labels/BikesHelmets32_png_jpg.rf.e8fd74ace3509a7241135e7d3a1b0313.txt  \n",
            " extracting: train/labels/BikesHelmets331_png_jpg.rf.07152c6c70e6d041688edb95a3377548.txt  \n",
            " extracting: train/labels/BikesHelmets331_png_jpg.rf.08406ecd208729c2f85e2eb702b7d629.txt  \n",
            " extracting: train/labels/BikesHelmets331_png_jpg.rf.3876deb80eb046d49bc0a8584e844700.txt  \n",
            " extracting: train/labels/BikesHelmets331_png_jpg.rf.4da5053b8049c5c847b2c8732263bdf1.txt  \n",
            " extracting: train/labels/BikesHelmets331_png_jpg.rf.5bebf194610a6ddad0329d01085f6d7a.txt  \n",
            " extracting: train/labels/BikesHelmets331_png_jpg.rf.b0534a479789641351a24f7a8963fa85.txt  \n",
            " extracting: train/labels/BikesHelmets331_png_jpg.rf.bea66dd1971f3ad8a8cc0a47e85e742b.txt  \n",
            " extracting: train/labels/BikesHelmets331_png_jpg.rf.bf409be494f86d06c5c3a2afad6d869b.txt  \n",
            " extracting: train/labels/BikesHelmets331_png_jpg.rf.fc754d32665ab47f255bb9d40c5f7755.txt  \n",
            " extracting: train/labels/BikesHelmets334_png_jpg.rf.1f4049dad01f39fa4bb55fa565937f49.txt  \n",
            " extracting: train/labels/BikesHelmets334_png_jpg.rf.2f68973413ffd1a244e3e0f8352d348b.txt  \n",
            " extracting: train/labels/BikesHelmets334_png_jpg.rf.410cc54ecbfea26ae56c6e06cd431647.txt  \n",
            " extracting: train/labels/BikesHelmets334_png_jpg.rf.73a7c70c3affcf55480f262c131d6f23.txt  \n",
            " extracting: train/labels/BikesHelmets334_png_jpg.rf.900bf8ab12ae01d5fb215ba38be07b9c.txt  \n",
            " extracting: train/labels/BikesHelmets334_png_jpg.rf.9cb4d0299f209af1647b944699fec3b2.txt  \n",
            " extracting: train/labels/BikesHelmets334_png_jpg.rf.dc54a6721f88226c8cb9819ba6ee7892.txt  \n",
            " extracting: train/labels/BikesHelmets334_png_jpg.rf.de0668c8f8c3d2f7bdebc2c0f6e2b604.txt  \n",
            " extracting: train/labels/BikesHelmets334_png_jpg.rf.f0b2131b6856a0f72c6bf89040977078.txt  \n",
            " extracting: train/labels/BikesHelmets336_png_jpg.rf.0bdaa9730831c6ef0df63ba38144d652.txt  \n",
            " extracting: train/labels/BikesHelmets336_png_jpg.rf.309ff6c1abfba257f988c0f8b026814e.txt  \n",
            " extracting: train/labels/BikesHelmets336_png_jpg.rf.53203c31d318a6dfc66b179859d241d0.txt  \n",
            " extracting: train/labels/BikesHelmets336_png_jpg.rf.5bd683e3fb4d2d6b5dea4245a3c21b4b.txt  \n",
            " extracting: train/labels/BikesHelmets336_png_jpg.rf.6533f813b6f1bdb9ec8f36ea67746a20.txt  \n",
            " extracting: train/labels/BikesHelmets336_png_jpg.rf.751fee7661ba10b708628e7452ebb1df.txt  \n",
            " extracting: train/labels/BikesHelmets336_png_jpg.rf.84d0db5f38afef9e28d134c954885c3c.txt  \n",
            " extracting: train/labels/BikesHelmets336_png_jpg.rf.ad1a3b07decdbbd4a5b366b44f10fb8c.txt  \n",
            " extracting: train/labels/BikesHelmets336_png_jpg.rf.e018a9fb2e5f2f354481697016827906.txt  \n",
            " extracting: train/labels/BikesHelmets337_png_jpg.rf.07e8addce79e3f31c275c9425b79d8ec.txt  \n",
            " extracting: train/labels/BikesHelmets337_png_jpg.rf.7c8562b249dd92032bfc3aace396e4d0.txt  \n",
            " extracting: train/labels/BikesHelmets337_png_jpg.rf.85b747e05a17a909ab36077cad400406.txt  \n",
            " extracting: train/labels/BikesHelmets337_png_jpg.rf.bdfd81a06427ebafdce54aa4022b0365.txt  \n",
            " extracting: train/labels/BikesHelmets337_png_jpg.rf.cfbc49570b22740843ae494c75f5cd1c.txt  \n",
            " extracting: train/labels/BikesHelmets337_png_jpg.rf.e3c53566e4fb90df77e87806d8141f66.txt  \n",
            " extracting: train/labels/BikesHelmets338_png_jpg.rf.23f7a539001e9cc71fba765e4a126a02.txt  \n",
            " extracting: train/labels/BikesHelmets338_png_jpg.rf.32fc1c22fbc8d643156af6690e774eb2.txt  \n",
            " extracting: train/labels/BikesHelmets338_png_jpg.rf.3e4f5f35ceced18d1f897a9998cef100.txt  \n",
            " extracting: train/labels/BikesHelmets338_png_jpg.rf.b42b09c4d470d8c8b0c0e6b5326c87d6.txt  \n",
            " extracting: train/labels/BikesHelmets338_png_jpg.rf.c50e6bc8d55df32c9dc8268bbc2c55cc.txt  \n",
            " extracting: train/labels/BikesHelmets338_png_jpg.rf.d2c93a68f7c1bed288d06bff3c462b30.txt  \n",
            " extracting: train/labels/BikesHelmets338_png_jpg.rf.e7a59d466cc85ce0a5ab3622789d1d74.txt  \n",
            " extracting: train/labels/BikesHelmets338_png_jpg.rf.f658ff0d258ab1d703a25ca65b599bca.txt  \n",
            " extracting: train/labels/BikesHelmets338_png_jpg.rf.fba1b3e637b2800e5f490e10759edd75.txt  \n",
            " extracting: train/labels/BikesHelmets339_png_jpg.rf.0398b83a2e0053f4a736371e3df2f2af.txt  \n",
            " extracting: train/labels/BikesHelmets339_png_jpg.rf.09a8d8f79ce70032a526dc39080f8869.txt  \n",
            " extracting: train/labels/BikesHelmets339_png_jpg.rf.13f3ce34c5e939004c06185790727945.txt  \n",
            " extracting: train/labels/BikesHelmets339_png_jpg.rf.7dbfe2954ff774ccb47fa630ddd7935b.txt  \n",
            " extracting: train/labels/BikesHelmets339_png_jpg.rf.dc511080e96a1e3e814b1b6d9bcca35e.txt  \n",
            " extracting: train/labels/BikesHelmets339_png_jpg.rf.e083c99ff7cbb8178e8e9ab0263af722.txt  \n",
            " extracting: train/labels/BikesHelmets339_png_jpg.rf.e435f52f4d89347f6d2c56a8729841da.txt  \n",
            " extracting: train/labels/BikesHelmets339_png_jpg.rf.ed417dffa1143c0d35572e525312f68e.txt  \n",
            " extracting: train/labels/BikesHelmets339_png_jpg.rf.f17de8c94aea6939f1a2c57cba14c3f6.txt  \n",
            " extracting: train/labels/BikesHelmets341_png_jpg.rf.01deaf555d3bdd0d2b2b60d718d2cf8b.txt  \n",
            " extracting: train/labels/BikesHelmets341_png_jpg.rf.221644d67a5c696d3c5278e8802cdff8.txt  \n",
            " extracting: train/labels/BikesHelmets341_png_jpg.rf.3344b8f44369fc78c8c2e82906486da0.txt  \n",
            " extracting: train/labels/BikesHelmets341_png_jpg.rf.550d8366003cc43bf93b1d49cf67fdc6.txt  \n",
            " extracting: train/labels/BikesHelmets341_png_jpg.rf.74d9d3f302f4a5b2a87cad9c0f2db79a.txt  \n",
            " extracting: train/labels/BikesHelmets341_png_jpg.rf.94c7b76567719252dd8688aa5f6fd344.txt  \n",
            " extracting: train/labels/BikesHelmets341_png_jpg.rf.9a69e0152a2bec3877dda1cd31fdc9ce.txt  \n",
            " extracting: train/labels/BikesHelmets341_png_jpg.rf.aafbc07d9284338e29cf666fd19f64d3.txt  \n",
            " extracting: train/labels/BikesHelmets341_png_jpg.rf.d39f9652f0beccc170fc3146666329d2.txt  \n",
            " extracting: train/labels/BikesHelmets343_png_jpg.rf.15703aeb29f73d3ad0ae516cbc056c6d.txt  \n",
            " extracting: train/labels/BikesHelmets343_png_jpg.rf.73dbac6493e566ee02defa63cb2c455d.txt  \n",
            " extracting: train/labels/BikesHelmets343_png_jpg.rf.8cc72f21cd32e55cbdc4337213c16522.txt  \n",
            " extracting: train/labels/BikesHelmets343_png_jpg.rf.990029b2fe0c55bf225b27b894f20870.txt  \n",
            " extracting: train/labels/BikesHelmets343_png_jpg.rf.a44b68a432bd86c34d5fc1cdd1e0f606.txt  \n",
            " extracting: train/labels/BikesHelmets343_png_jpg.rf.b9bdff9a2af8554c5fbf123c0d2133b3.txt  \n",
            " extracting: train/labels/BikesHelmets344_png_jpg.rf.16049b2c1a480abef8ecb2c0fc31673e.txt  \n",
            " extracting: train/labels/BikesHelmets344_png_jpg.rf.3e9efc0e20caeb932a346a941c7f6123.txt  \n",
            " extracting: train/labels/BikesHelmets344_png_jpg.rf.717abaffd7120a79aca0f15a10468d8d.txt  \n",
            " extracting: train/labels/BikesHelmets344_png_jpg.rf.741b18d9a106f3be88f0f5f139d33947.txt  \n",
            " extracting: train/labels/BikesHelmets344_png_jpg.rf.7b1802153c8e817f7f8f2104393e25da.txt  \n",
            " extracting: train/labels/BikesHelmets344_png_jpg.rf.827bf7d52679d6f62fcdd06afd5ffac6.txt  \n",
            " extracting: train/labels/BikesHelmets344_png_jpg.rf.9cd8db805cf471cf80d64018fda0f207.txt  \n",
            " extracting: train/labels/BikesHelmets344_png_jpg.rf.d872662555357f0671f7445d3d498263.txt  \n",
            " extracting: train/labels/BikesHelmets344_png_jpg.rf.e114db014aaab1db4d3280e23231f16b.txt  \n",
            " extracting: train/labels/BikesHelmets346_png_jpg.rf.078c2d2caaa02c5ecb9d7d1d51d71454.txt  \n",
            " extracting: train/labels/BikesHelmets346_png_jpg.rf.4a7b713b61126b76da03cb6f3c127bee.txt  \n",
            " extracting: train/labels/BikesHelmets346_png_jpg.rf.8e67e8cfd5e0c41a33f2a4a536906be9.txt  \n",
            " extracting: train/labels/BikesHelmets346_png_jpg.rf.a123d42a48fb8321814f7accf10a95f0.txt  \n",
            " extracting: train/labels/BikesHelmets346_png_jpg.rf.c4081109cc4103611b7b39e41d33912a.txt  \n",
            " extracting: train/labels/BikesHelmets346_png_jpg.rf.d201787b928518110ce31e152f012f1c.txt  \n",
            " extracting: train/labels/BikesHelmets349_png_jpg.rf.1a3182e5930bc6108171e6c1869ecd27.txt  \n",
            " extracting: train/labels/BikesHelmets349_png_jpg.rf.5b4654aa4ed1cdbc89fcda70524f5dc8.txt  \n",
            " extracting: train/labels/BikesHelmets349_png_jpg.rf.75c93eb7f6aff0276e05bd61a206fa9f.txt  \n",
            " extracting: train/labels/BikesHelmets349_png_jpg.rf.78f0a912603fd720fe3ea39c11904739.txt  \n",
            " extracting: train/labels/BikesHelmets349_png_jpg.rf.7929a193077f9430b1b153bc3ed30856.txt  \n",
            " extracting: train/labels/BikesHelmets349_png_jpg.rf.c048163c91205311e5f1cb124633fc22.txt  \n",
            " extracting: train/labels/BikesHelmets349_png_jpg.rf.c5d4cc48e8900dae434f5542db8e507a.txt  \n",
            " extracting: train/labels/BikesHelmets349_png_jpg.rf.cf33fd2f24fe57f5af0654cdb4d7a9ed.txt  \n",
            " extracting: train/labels/BikesHelmets349_png_jpg.rf.db8fc32101d759808ba91fc4d6c1ca30.txt  \n",
            " extracting: train/labels/BikesHelmets34_png_jpg.rf.01559bb9c5f0c38290e40baa66c28acf.txt  \n",
            " extracting: train/labels/BikesHelmets34_png_jpg.rf.0bda6da599a1103808f82188fb022545.txt  \n",
            " extracting: train/labels/BikesHelmets34_png_jpg.rf.29e758ff47e638f0616d1587678f8d00.txt  \n",
            " extracting: train/labels/BikesHelmets34_png_jpg.rf.643a57be0f9d5419cf45151d2b469bea.txt  \n",
            " extracting: train/labels/BikesHelmets34_png_jpg.rf.7040260cbad25a79539b4eb4f3a034d5.txt  \n",
            " extracting: train/labels/BikesHelmets34_png_jpg.rf.8a8d58ce21f62fce9a58b694ed1da363.txt  \n",
            " extracting: train/labels/BikesHelmets351_png_jpg.rf.1d41e2b55274c39b54be157ff9f838c7.txt  \n",
            " extracting: train/labels/BikesHelmets351_png_jpg.rf.409254546a2ffc54e95e91e030688549.txt  \n",
            " extracting: train/labels/BikesHelmets351_png_jpg.rf.84ce2cd81d20dd3625af6bcb51cb5bd7.txt  \n",
            " extracting: train/labels/BikesHelmets351_png_jpg.rf.a4d4728012810757208e34843172e465.txt  \n",
            " extracting: train/labels/BikesHelmets351_png_jpg.rf.a93bbd62e25e637d9f86839015cbda30.txt  \n",
            " extracting: train/labels/BikesHelmets351_png_jpg.rf.b777c3eff03d2c6007d883c47092409b.txt  \n",
            " extracting: train/labels/BikesHelmets351_png_jpg.rf.c53f768c9af9b07b2a5770d0e7581ea5.txt  \n",
            " extracting: train/labels/BikesHelmets351_png_jpg.rf.e3cc6d5d8f09a1be7b877a942338db0f.txt  \n",
            " extracting: train/labels/BikesHelmets351_png_jpg.rf.e6089ce083bc4a644be519c64c97d464.txt  \n",
            " extracting: train/labels/BikesHelmets353_png_jpg.rf.572c4002fbd7dc15cbf133201ba3a5a6.txt  \n",
            " extracting: train/labels/BikesHelmets353_png_jpg.rf.83aa7652822613732774c939d007c57d.txt  \n",
            " extracting: train/labels/BikesHelmets353_png_jpg.rf.abf883ee440b0cffdfef480d9a12d728.txt  \n",
            " extracting: train/labels/BikesHelmets353_png_jpg.rf.ae5e80380aa42fa553d8ceff5690e43d.txt  \n",
            " extracting: train/labels/BikesHelmets353_png_jpg.rf.b22f0cf28b49d5c3428547da7698830c.txt  \n",
            " extracting: train/labels/BikesHelmets353_png_jpg.rf.c1ce438a832e8fa222d95876c1768e08.txt  \n",
            " extracting: train/labels/BikesHelmets353_png_jpg.rf.d4278a77ff3a124c6b5210fe2e5ac63a.txt  \n",
            " extracting: train/labels/BikesHelmets353_png_jpg.rf.d449ecd1731ca978afbb5aa253710377.txt  \n",
            " extracting: train/labels/BikesHelmets353_png_jpg.rf.e3eb04861f08bf8fef5e97441b88c261.txt  \n",
            " extracting: train/labels/BikesHelmets354_png_jpg.rf.5d26e19578aeeafcf60536004f8557b3.txt  \n",
            " extracting: train/labels/BikesHelmets354_png_jpg.rf.6b72f104c5c5d40d13b768f0c7612409.txt  \n",
            " extracting: train/labels/BikesHelmets354_png_jpg.rf.ac321a51c61187e28597543507bd066d.txt  \n",
            " extracting: train/labels/BikesHelmets354_png_jpg.rf.b2103831db235fb2db309a581cf17b3c.txt  \n",
            " extracting: train/labels/BikesHelmets354_png_jpg.rf.bb525f36aab22731aa5a30ee1ebd7965.txt  \n",
            " extracting: train/labels/BikesHelmets354_png_jpg.rf.d653412ab8743da184cb987e5af1d024.txt  \n",
            " extracting: train/labels/BikesHelmets354_png_jpg.rf.da2b04e3d883ddb310699a6e7a46ef04.txt  \n",
            " extracting: train/labels/BikesHelmets354_png_jpg.rf.e22986b49188203084b0fa84fee9b01f.txt  \n",
            " extracting: train/labels/BikesHelmets354_png_jpg.rf.e433397d71c4d11bf5b8ea33ba84f6f8.txt  \n",
            " extracting: train/labels/BikesHelmets355_png_jpg.rf.1f594fe2155f8b19505f88e878008d49.txt  \n",
            " extracting: train/labels/BikesHelmets355_png_jpg.rf.23f25f4761bbfa64786af5ec27eb8e97.txt  \n",
            " extracting: train/labels/BikesHelmets355_png_jpg.rf.3b1398a4653e8ed802dad9f150d4f279.txt  \n",
            " extracting: train/labels/BikesHelmets355_png_jpg.rf.3f8ecdd291fb2a3972ce584227839e72.txt  \n",
            " extracting: train/labels/BikesHelmets355_png_jpg.rf.44268706b1be20f2c5889638b9a19075.txt  \n",
            " extracting: train/labels/BikesHelmets355_png_jpg.rf.4bd75352d4f61ecf5884c543a381e36b.txt  \n",
            " extracting: train/labels/BikesHelmets355_png_jpg.rf.59b09bd031605f019be8d6343bb2ff12.txt  \n",
            " extracting: train/labels/BikesHelmets355_png_jpg.rf.694db037b9a59151a49f9690703374ff.txt  \n",
            " extracting: train/labels/BikesHelmets355_png_jpg.rf.8f9d2428da552143f5bb15447d5d61d4.txt  \n",
            " extracting: train/labels/BikesHelmets356_png_jpg.rf.04273133e7d74bbba89717316e263e07.txt  \n",
            " extracting: train/labels/BikesHelmets356_png_jpg.rf.11fb436fcb09dfc41283f31732c669e0.txt  \n",
            " extracting: train/labels/BikesHelmets356_png_jpg.rf.409e05cacf18ab3cab2aa7cae2528052.txt  \n",
            " extracting: train/labels/BikesHelmets356_png_jpg.rf.6d7c1b240d4895aed7d8fab2d5b96a54.txt  \n",
            " extracting: train/labels/BikesHelmets356_png_jpg.rf.6ffd336c1148681b47b798b877bd95e9.txt  \n",
            " extracting: train/labels/BikesHelmets356_png_jpg.rf.78993030896bb8e70639b2e993a32e64.txt  \n",
            " extracting: train/labels/BikesHelmets356_png_jpg.rf.88a1b2b4350e88320fc38113974fb851.txt  \n",
            " extracting: train/labels/BikesHelmets356_png_jpg.rf.ba83dc97af41080adf96f01ab7e4f762.txt  \n",
            " extracting: train/labels/BikesHelmets356_png_jpg.rf.d8a125e3182086ec87c53df76be9cd58.txt  \n",
            " extracting: train/labels/BikesHelmets357_png_jpg.rf.2501c1c3785329b708cbbe7f933b5cfc.txt  \n",
            " extracting: train/labels/BikesHelmets357_png_jpg.rf.6ba0afe9f3e8c17b5ed12e8df5ae5a73.txt  \n",
            " extracting: train/labels/BikesHelmets357_png_jpg.rf.74ef0bfe007deb8cb889b8b4a76f3063.txt  \n",
            " extracting: train/labels/BikesHelmets357_png_jpg.rf.7ffdeb6685d3b316632b8d1f19626df7.txt  \n",
            " extracting: train/labels/BikesHelmets357_png_jpg.rf.9a2341208873780604631f184cf4d3e7.txt  \n",
            " extracting: train/labels/BikesHelmets357_png_jpg.rf.9ca7b4ccf06a0b59adb18d67c5202c6f.txt  \n",
            " extracting: train/labels/BikesHelmets357_png_jpg.rf.a44f72dc6774b6e2e04a386855987573.txt  \n",
            " extracting: train/labels/BikesHelmets357_png_jpg.rf.b61b12ad47b14689e6d8590ded2a9f36.txt  \n",
            " extracting: train/labels/BikesHelmets357_png_jpg.rf.e8e9b320421f537b1e166605ef6a77dd.txt  \n",
            " extracting: train/labels/BikesHelmets360_png_jpg.rf.00ae62ae9da05df465701922bc13e348.txt  \n",
            " extracting: train/labels/BikesHelmets360_png_jpg.rf.072abd3d70ac052d49efd6015204e6d2.txt  \n",
            " extracting: train/labels/BikesHelmets360_png_jpg.rf.2b834543bb9df971494868607e45c414.txt  \n",
            " extracting: train/labels/BikesHelmets360_png_jpg.rf.377f02cf57d66a588f8e79a6da6a460b.txt  \n",
            " extracting: train/labels/BikesHelmets360_png_jpg.rf.40bfe79c1ace4eba0f2e80115ffe9995.txt  \n",
            " extracting: train/labels/BikesHelmets360_png_jpg.rf.7ddcaf0d9440aefb8b2d41cc158571ed.txt  \n",
            " extracting: train/labels/BikesHelmets360_png_jpg.rf.e86d779c4930c2081a82ca429093c2ac.txt  \n",
            " extracting: train/labels/BikesHelmets360_png_jpg.rf.ebe3e40689afeceebfbc7600971c3ffd.txt  \n",
            " extracting: train/labels/BikesHelmets360_png_jpg.rf.fd203d5c1cab57d82adff492aacad234.txt  \n",
            " extracting: train/labels/BikesHelmets361_png_jpg.rf.0e644d75203f2439aee80a5742fa2680.txt  \n",
            " extracting: train/labels/BikesHelmets361_png_jpg.rf.13602c683880149c07ab4d32d7513ba3.txt  \n",
            " extracting: train/labels/BikesHelmets361_png_jpg.rf.4150624b6e72434f31c04dac3f4a84bb.txt  \n",
            " extracting: train/labels/BikesHelmets361_png_jpg.rf.477d71f445600bdff5cda22468c2d70e.txt  \n",
            " extracting: train/labels/BikesHelmets361_png_jpg.rf.6313c401e531cffdad62ea5159209e1c.txt  \n",
            " extracting: train/labels/BikesHelmets361_png_jpg.rf.845cd7e23b69db80eda4c973c4c7eefb.txt  \n",
            " extracting: train/labels/BikesHelmets361_png_jpg.rf.a0ea95412936a3539efc40d96e881151.txt  \n",
            " extracting: train/labels/BikesHelmets361_png_jpg.rf.c488289d6f405446c9e4b1226d320a53.txt  \n",
            " extracting: train/labels/BikesHelmets361_png_jpg.rf.f72664f4fe0357bbf9c0db4c4805601a.txt  \n",
            " extracting: train/labels/BikesHelmets363_png_jpg.rf.0932f46ad7d96bb2ccbbf9438039ec52.txt  \n",
            " extracting: train/labels/BikesHelmets363_png_jpg.rf.101d733bff493481cfee1e343b86ae88.txt  \n",
            " extracting: train/labels/BikesHelmets363_png_jpg.rf.21cb4c3597bdf94d9efbec70013cab4c.txt  \n",
            " extracting: train/labels/BikesHelmets363_png_jpg.rf.34da0fa287c0510502753e49cf7d69b0.txt  \n",
            " extracting: train/labels/BikesHelmets363_png_jpg.rf.5b89abe6f6a6ecadf0518872509fa996.txt  \n",
            " extracting: train/labels/BikesHelmets363_png_jpg.rf.7bcea002e400b236ac9a9430aa25ca52.txt  \n",
            " extracting: train/labels/BikesHelmets363_png_jpg.rf.89551050fc50607eb785ad8561042eb6.txt  \n",
            " extracting: train/labels/BikesHelmets363_png_jpg.rf.be17eded030317301a25fa0030335595.txt  \n",
            " extracting: train/labels/BikesHelmets363_png_jpg.rf.e37f1f1ff8b63f979df3213521bdf710.txt  \n",
            " extracting: train/labels/BikesHelmets364_png_jpg.rf.038da6d1e1678b3506ad284dbfebf16d.txt  \n",
            " extracting: train/labels/BikesHelmets364_png_jpg.rf.0425d6fc92100c7825ce8f9e39399aa5.txt  \n",
            " extracting: train/labels/BikesHelmets364_png_jpg.rf.27e3176c05ee224f53f6150692391622.txt  \n",
            " extracting: train/labels/BikesHelmets364_png_jpg.rf.2a0c11ee740fefe6cc93e91ee73bcf52.txt  \n",
            " extracting: train/labels/BikesHelmets364_png_jpg.rf.38a54c9d8c873fd0cc8ec590829d74fa.txt  \n",
            " extracting: train/labels/BikesHelmets364_png_jpg.rf.66974f053bea2e1265565ce710fe96c6.txt  \n",
            " extracting: train/labels/BikesHelmets364_png_jpg.rf.9e44c6b7be8370b8328e468501ab6b79.txt  \n",
            " extracting: train/labels/BikesHelmets364_png_jpg.rf.aa1dc8a1b05dfc5ce7e088efe83a3441.txt  \n",
            " extracting: train/labels/BikesHelmets364_png_jpg.rf.c9346c5b926b21871928c209907015e9.txt  \n",
            " extracting: train/labels/BikesHelmets366_png_jpg.rf.0dd9c0f251abdf399f98082662331e7b.txt  \n",
            " extracting: train/labels/BikesHelmets366_png_jpg.rf.119645fdd2454932d267cbf4c7ae2aaa.txt  \n",
            " extracting: train/labels/BikesHelmets366_png_jpg.rf.3026626a5944b5c9a7758aa51134f95a.txt  \n",
            " extracting: train/labels/BikesHelmets366_png_jpg.rf.65ae457ee319dd718b050ee4cf375d1d.txt  \n",
            " extracting: train/labels/BikesHelmets366_png_jpg.rf.79026490222cd0dfa8909648372e4128.txt  \n",
            " extracting: train/labels/BikesHelmets366_png_jpg.rf.8cbdfb68bf417905dabcffa15c2369b9.txt  \n",
            " extracting: train/labels/BikesHelmets366_png_jpg.rf.961210363a6533b291f7149e6df0a7a0.txt  \n",
            " extracting: train/labels/BikesHelmets366_png_jpg.rf.bd7eec429898e1fce0989fb4fce2cd61.txt  \n",
            " extracting: train/labels/BikesHelmets366_png_jpg.rf.e638779a9b06e12ea8fc93c5641d7b95.txt  \n",
            " extracting: train/labels/BikesHelmets368_png_jpg.rf.41201983f7bb0f680b573112e10866b6.txt  \n",
            " extracting: train/labels/BikesHelmets368_png_jpg.rf.46083e087c22f688515a1a2efe4376e4.txt  \n",
            " extracting: train/labels/BikesHelmets368_png_jpg.rf.b2020f9d8e01cac21c4888a59335972e.txt  \n",
            " extracting: train/labels/BikesHelmets368_png_jpg.rf.da1ea01cf9883e6d3844be5a5b5b882f.txt  \n",
            " extracting: train/labels/BikesHelmets368_png_jpg.rf.e281ce7947d814ae1ac438dceb0224dc.txt  \n",
            " extracting: train/labels/BikesHelmets368_png_jpg.rf.fa19d2959d1025955df20b6c12970366.txt  \n",
            " extracting: train/labels/BikesHelmets369_png_jpg.rf.0e238fdf74de900f5f8b681a471f5e7e.txt  \n",
            " extracting: train/labels/BikesHelmets369_png_jpg.rf.21ab68cbb901cfe9019aff0274872b82.txt  \n",
            " extracting: train/labels/BikesHelmets369_png_jpg.rf.46da8c3b56aaf95ec45748583b0ffc64.txt  \n",
            " extracting: train/labels/BikesHelmets369_png_jpg.rf.694b6cc7904276b01dca10f2deb0e442.txt  \n",
            " extracting: train/labels/BikesHelmets369_png_jpg.rf.e33299d6ff3f7e0eec999c9940d7352d.txt  \n",
            " extracting: train/labels/BikesHelmets369_png_jpg.rf.e3e6f3c81e8bb4c96c130ad8b721c946.txt  \n",
            " extracting: train/labels/BikesHelmets36_png_jpg.rf.3aa43b36579a7ec981d1172c93df6d09.txt  \n",
            " extracting: train/labels/BikesHelmets36_png_jpg.rf.5ade80b16939af2e1cca79a9e46133ad.txt  \n",
            " extracting: train/labels/BikesHelmets36_png_jpg.rf.6cdc4a54ee23169f73d3f7e63483effe.txt  \n",
            " extracting: train/labels/BikesHelmets36_png_jpg.rf.7fc9e3f52a6662719bf14b005342f93e.txt  \n",
            " extracting: train/labels/BikesHelmets36_png_jpg.rf.84cbd90bc1844045b7b90a5f732eabed.txt  \n",
            " extracting: train/labels/BikesHelmets36_png_jpg.rf.8637891ce9ebae9909343797ae545a67.txt  \n",
            " extracting: train/labels/BikesHelmets36_png_jpg.rf.964978caed27933838ffe73ed11a82dd.txt  \n",
            " extracting: train/labels/BikesHelmets36_png_jpg.rf.db1c8dd46e7db42d4ea6e508d647e752.txt  \n",
            " extracting: train/labels/BikesHelmets36_png_jpg.rf.e123d955e346162545963f8c9914f3ea.txt  \n",
            " extracting: train/labels/BikesHelmets370_png_jpg.rf.0be66404955772927710691ff08b5e19.txt  \n",
            " extracting: train/labels/BikesHelmets370_png_jpg.rf.1170385737dc33a551172bc7d7c6fdcd.txt  \n",
            " extracting: train/labels/BikesHelmets370_png_jpg.rf.370b98040ac83159349adde1a3a21925.txt  \n",
            " extracting: train/labels/BikesHelmets370_png_jpg.rf.3ba3cf2fd1094c0c9274d09704f1e48c.txt  \n",
            " extracting: train/labels/BikesHelmets370_png_jpg.rf.67b9bd877b63c6bae64a5de5776b3709.txt  \n",
            " extracting: train/labels/BikesHelmets370_png_jpg.rf.8e04b6f4113b1dfad0c28b144d036cd7.txt  \n",
            " extracting: train/labels/BikesHelmets370_png_jpg.rf.b6440c51f9467c56167f2f3596d1db2b.txt  \n",
            " extracting: train/labels/BikesHelmets370_png_jpg.rf.c704229a651e4427f4ef07ca50424fbf.txt  \n",
            " extracting: train/labels/BikesHelmets370_png_jpg.rf.e3567cfa2157626def8a023191813a46.txt  \n",
            " extracting: train/labels/BikesHelmets372_png_jpg.rf.231bd916a405cfe46f1aeaa17319f41f.txt  \n",
            " extracting: train/labels/BikesHelmets372_png_jpg.rf.7917ddd7cbdbf161b5934e4fe137a4be.txt  \n",
            " extracting: train/labels/BikesHelmets372_png_jpg.rf.82e8cca08583d1389726dcb964cea0ef.txt  \n",
            " extracting: train/labels/BikesHelmets372_png_jpg.rf.aff0a8db8779079c004c600bc3efe0f9.txt  \n",
            " extracting: train/labels/BikesHelmets372_png_jpg.rf.bf101621a74ac488a2ca9aded71828a8.txt  \n",
            " extracting: train/labels/BikesHelmets372_png_jpg.rf.ebc4e5412e5d6719f21d1ec1f582c7bc.txt  \n",
            " extracting: train/labels/BikesHelmets372_png_jpg.rf.efea8e7722ce90028b1c89bdd1a516ac.txt  \n",
            " extracting: train/labels/BikesHelmets372_png_jpg.rf.f3fd6872be6dd2602c346263effebf57.txt  \n",
            " extracting: train/labels/BikesHelmets372_png_jpg.rf.f412f17a1b55792c57e55a2d9dcd050a.txt  \n",
            " extracting: train/labels/BikesHelmets375_png_jpg.rf.04908e95367bbe88002b83849a3dced4.txt  \n",
            " extracting: train/labels/BikesHelmets375_png_jpg.rf.2f0ca330f694088a51cbe55a392b5b71.txt  \n",
            " extracting: train/labels/BikesHelmets375_png_jpg.rf.50f98ddec2e0af7c6a384f7565f976bd.txt  \n",
            " extracting: train/labels/BikesHelmets375_png_jpg.rf.58e53a9215cc39bd8664bd8e5863d474.txt  \n",
            " extracting: train/labels/BikesHelmets375_png_jpg.rf.684f85720a896b7755cd97f65e48fdc9.txt  \n",
            " extracting: train/labels/BikesHelmets375_png_jpg.rf.6add5d77af1bbf3dbcf8cbc6e2d6e408.txt  \n",
            " extracting: train/labels/BikesHelmets375_png_jpg.rf.6e389c247e636fbe0492eb2d58edee05.txt  \n",
            " extracting: train/labels/BikesHelmets375_png_jpg.rf.6f07034778988d2f563f58b26ff278cc.txt  \n",
            " extracting: train/labels/BikesHelmets375_png_jpg.rf.f5ae57e2f15b0643f22775eed0bd3beb.txt  \n",
            " extracting: train/labels/BikesHelmets376_png_jpg.rf.3321968a5d6fe64edccb6f4822aaa806.txt  \n",
            " extracting: train/labels/BikesHelmets376_png_jpg.rf.90e0edfa1319b7de7e4fe3b63405c656.txt  \n",
            " extracting: train/labels/BikesHelmets376_png_jpg.rf.f8a9ee8066ca27da48a55f23d669ea70.txt  \n",
            " extracting: train/labels/BikesHelmets379_png_jpg.rf.03c890b83394acb25a849b3d4c1885b3.txt  \n",
            " extracting: train/labels/BikesHelmets379_png_jpg.rf.09264128abda9bcd93b463fae8447c88.txt  \n",
            " extracting: train/labels/BikesHelmets379_png_jpg.rf.6d48b30b7f73a6d493c80c028c8e10da.txt  \n",
            " extracting: train/labels/BikesHelmets379_png_jpg.rf.770770c642c42ad2f6b7bbe24955b780.txt  \n",
            " extracting: train/labels/BikesHelmets379_png_jpg.rf.bf57ed00fa112ea12524bdddd999de46.txt  \n",
            " extracting: train/labels/BikesHelmets379_png_jpg.rf.f41bd1917babd178bf06ff31aba04084.txt  \n",
            " extracting: train/labels/BikesHelmets37_png_jpg.rf.15ac3819fe1ae112bc3b4ff48547a5fc.txt  \n",
            " extracting: train/labels/BikesHelmets37_png_jpg.rf.272a5969e11b2433d859229d5e5ce64e.txt  \n",
            " extracting: train/labels/BikesHelmets37_png_jpg.rf.3ff6137187e3220e660391d3c48a297a.txt  \n",
            " extracting: train/labels/BikesHelmets37_png_jpg.rf.477562245a2397b7b8cb81a29cda967d.txt  \n",
            " extracting: train/labels/BikesHelmets37_png_jpg.rf.5613d5f076fae0d7c716147cb122d7a9.txt  \n",
            " extracting: train/labels/BikesHelmets37_png_jpg.rf.8e4bcf7748da1db4aca545149b48cea3.txt  \n",
            " extracting: train/labels/BikesHelmets37_png_jpg.rf.b3289ef3750ee752bdce9da1955ba541.txt  \n",
            " extracting: train/labels/BikesHelmets37_png_jpg.rf.dd1f2d492f708738dbf3553f27f47454.txt  \n",
            " extracting: train/labels/BikesHelmets37_png_jpg.rf.de7daaeb02fec5556a4c9c41e2b98138.txt  \n",
            " extracting: train/labels/BikesHelmets381_png_jpg.rf.47c32e2e58c554b8288422ab21022b83.txt  \n",
            " extracting: train/labels/BikesHelmets381_png_jpg.rf.79082149d48d357c09a5f669385b2f10.txt  \n",
            " extracting: train/labels/BikesHelmets381_png_jpg.rf.7d140f0dc580947cce0ea81e05589830.txt  \n",
            " extracting: train/labels/BikesHelmets381_png_jpg.rf.983b6147e205365ab972f0701cf06586.txt  \n",
            " extracting: train/labels/BikesHelmets381_png_jpg.rf.a3f84bb41d2f0a213b040accfee29ed7.txt  \n",
            " extracting: train/labels/BikesHelmets381_png_jpg.rf.a57bc828b06c9d959f63de3080a7c16d.txt  \n",
            " extracting: train/labels/BikesHelmets381_png_jpg.rf.d03464f03e0890a697fedf867431f6ea.txt  \n",
            " extracting: train/labels/BikesHelmets381_png_jpg.rf.d41377bbd1683ea9bd823251befbac12.txt  \n",
            " extracting: train/labels/BikesHelmets381_png_jpg.rf.ffff3a9136a22020db85a53ab508dc94.txt  \n",
            " extracting: train/labels/BikesHelmets382_png_jpg.rf.42178463ea32a481bb14bb945d092e56.txt  \n",
            " extracting: train/labels/BikesHelmets382_png_jpg.rf.4f67d8c5a5054922a28962f81c7144c5.txt  \n",
            " extracting: train/labels/BikesHelmets382_png_jpg.rf.573008e82a1267ba58f8fd14e68822f1.txt  \n",
            " extracting: train/labels/BikesHelmets382_png_jpg.rf.94743c805540a6b18d7e9b5d8a24246a.txt  \n",
            " extracting: train/labels/BikesHelmets382_png_jpg.rf.aceabea5597cbeb0c054b4cd50f8b8c7.txt  \n",
            " extracting: train/labels/BikesHelmets382_png_jpg.rf.b4bc12e6746ce899e611f586646b1ef1.txt  \n",
            " extracting: train/labels/BikesHelmets382_png_jpg.rf.c0c1abbef2e4aaa0a3fec700e1dca486.txt  \n",
            " extracting: train/labels/BikesHelmets382_png_jpg.rf.c6a90dde45e43df44780c7a272bcf04d.txt  \n",
            " extracting: train/labels/BikesHelmets382_png_jpg.rf.e41bead671556d6d7f2fa9d035fe5685.txt  \n",
            " extracting: train/labels/BikesHelmets384_png_jpg.rf.0a4eeeedf9c76b03f6b852bdf55e948f.txt  \n",
            " extracting: train/labels/BikesHelmets384_png_jpg.rf.2b2e335a643a8e99cb036f722348618e.txt  \n",
            " extracting: train/labels/BikesHelmets384_png_jpg.rf.34ea41fa2971c6837af902607d776f70.txt  \n",
            " extracting: train/labels/BikesHelmets384_png_jpg.rf.71c57fd061e14e5318e11538f3073544.txt  \n",
            " extracting: train/labels/BikesHelmets384_png_jpg.rf.9a92eca95b6ba759f30718b6929d2685.txt  \n",
            " extracting: train/labels/BikesHelmets384_png_jpg.rf.c1f75406dc1da28dfb545f2b51e2b7d2.txt  \n",
            " extracting: train/labels/BikesHelmets384_png_jpg.rf.e5c6dcf05e395e4691162db1444673f2.txt  \n",
            " extracting: train/labels/BikesHelmets384_png_jpg.rf.f3c38a20578e919ade8840ea10574692.txt  \n",
            " extracting: train/labels/BikesHelmets384_png_jpg.rf.fd461476f0a5b417acebb55952a53af6.txt  \n",
            " extracting: train/labels/BikesHelmets385_png_jpg.rf.42494c7c6eb9281a6fde86e25f57e8b8.txt  \n",
            " extracting: train/labels/BikesHelmets385_png_jpg.rf.47dea13774675e9c34db9febe2c70dcc.txt  \n",
            " extracting: train/labels/BikesHelmets385_png_jpg.rf.5a774331d6f35cc0fa7ece96a9ce0417.txt  \n",
            " extracting: train/labels/BikesHelmets385_png_jpg.rf.832b14fc3cc76949cb38e848e3eb6b82.txt  \n",
            " extracting: train/labels/BikesHelmets385_png_jpg.rf.8da66dc43b0a95a82b2fc676b66bf544.txt  \n",
            " extracting: train/labels/BikesHelmets385_png_jpg.rf.98e8fd51edf8bd8a1046135525fc68f4.txt  \n",
            " extracting: train/labels/BikesHelmets385_png_jpg.rf.db4e9cbbe9c57bba6f94f25372d901c0.txt  \n",
            " extracting: train/labels/BikesHelmets385_png_jpg.rf.de713d692132460cca58370c3fef81b6.txt  \n",
            " extracting: train/labels/BikesHelmets385_png_jpg.rf.e4bbe00e23db517c9cb2882d58f0b540.txt  \n",
            " extracting: train/labels/BikesHelmets386_png_jpg.rf.000cac3649197dfac2ed49713253c36d.txt  \n",
            " extracting: train/labels/BikesHelmets386_png_jpg.rf.4c9d3c081e0bdd9c4cc482e4be191d14.txt  \n",
            " extracting: train/labels/BikesHelmets386_png_jpg.rf.b4edfd5472b7e248536f109cf2ee519d.txt  \n",
            " extracting: train/labels/BikesHelmets386_png_jpg.rf.c3001ef50e4f1b553e1d9143fb3f1883.txt  \n",
            " extracting: train/labels/BikesHelmets386_png_jpg.rf.d0b39f2e346b6070089d97361988d7b4.txt  \n",
            " extracting: train/labels/BikesHelmets386_png_jpg.rf.db2675b0b3cfadd8a1c11b45d10b9e45.txt  \n",
            " extracting: train/labels/BikesHelmets386_png_jpg.rf.de570a60aa8acfd33426d35fc05d486a.txt  \n",
            " extracting: train/labels/BikesHelmets386_png_jpg.rf.f7a474a26aaddc840dc0256fcf64fbfb.txt  \n",
            " extracting: train/labels/BikesHelmets386_png_jpg.rf.fdfac003e8a2a98dff0e2446d2568562.txt  \n",
            " extracting: train/labels/BikesHelmets387_png_jpg.rf.155670857e4e0d89b85e73b6feb92462.txt  \n",
            " extracting: train/labels/BikesHelmets387_png_jpg.rf.22800217fb3cf01b8be9cc14db5cddaa.txt  \n",
            " extracting: train/labels/BikesHelmets387_png_jpg.rf.3db8409a3bc16aba0ebc7d404dd4a492.txt  \n",
            " extracting: train/labels/BikesHelmets387_png_jpg.rf.6db9b856cc5ec9a20c73b80865374a12.txt  \n",
            " extracting: train/labels/BikesHelmets387_png_jpg.rf.707107ed19969326e47e61cf903a0d10.txt  \n",
            " extracting: train/labels/BikesHelmets387_png_jpg.rf.7d1803254bfb4874093c058e3cf03f43.txt  \n",
            " extracting: train/labels/BikesHelmets387_png_jpg.rf.834815ef83c7e329c31f69513900edb9.txt  \n",
            " extracting: train/labels/BikesHelmets387_png_jpg.rf.a82ee2dca53cac0e51607f3d348e59a6.txt  \n",
            " extracting: train/labels/BikesHelmets387_png_jpg.rf.d5b24bd3f2e5cb6f949bca56622a0b69.txt  \n",
            " extracting: train/labels/BikesHelmets388_png_jpg.rf.03368e2a9ce5bcc44ea00b68b6f95e5d.txt  \n",
            " extracting: train/labels/BikesHelmets388_png_jpg.rf.0e03320c44b38017062a7b3ce39f9bda.txt  \n",
            " extracting: train/labels/BikesHelmets388_png_jpg.rf.16a803bd22c6aa5217dad494b9c5d51f.txt  \n",
            " extracting: train/labels/BikesHelmets388_png_jpg.rf.21c385556e8273c14602a8d57db7ba59.txt  \n",
            " extracting: train/labels/BikesHelmets388_png_jpg.rf.676edda5b48318e9a0b582be144c10c6.txt  \n",
            " extracting: train/labels/BikesHelmets388_png_jpg.rf.fbc905dd69007298e8c2554bf0562990.txt  \n",
            " extracting: train/labels/BikesHelmets389_png_jpg.rf.1731bd577c656315a516a5f84beef18e.txt  \n",
            " extracting: train/labels/BikesHelmets389_png_jpg.rf.5dbdede5182532205a0cb55a89b721ae.txt  \n",
            " extracting: train/labels/BikesHelmets389_png_jpg.rf.72a9c24ae7439539748af48260d17c83.txt  \n",
            " extracting: train/labels/BikesHelmets389_png_jpg.rf.79177a7de6252271bf3a7e669703345a.txt  \n",
            " extracting: train/labels/BikesHelmets389_png_jpg.rf.a4fb499fafa68a666234fba5196bba8c.txt  \n",
            " extracting: train/labels/BikesHelmets389_png_jpg.rf.b01c5a58486e8996ab4dc0ef4e7bea54.txt  \n",
            " extracting: train/labels/BikesHelmets389_png_jpg.rf.d51beb83ec364b3f30e5a34b3cbd3e15.txt  \n",
            " extracting: train/labels/BikesHelmets389_png_jpg.rf.d5f6d05779a6536473cabdad08358335.txt  \n",
            " extracting: train/labels/BikesHelmets389_png_jpg.rf.f7b4c0cae4ae9233a87b3ffefe86121e.txt  \n",
            " extracting: train/labels/BikesHelmets38_png_jpg.rf.2c159ac29333127471204709e317d319.txt  \n",
            " extracting: train/labels/BikesHelmets38_png_jpg.rf.59d5f6d27cda1396cbb0700daa1aa588.txt  \n",
            " extracting: train/labels/BikesHelmets38_png_jpg.rf.8bd7d126148a43fdf07b4463c8bd0c0d.txt  \n",
            " extracting: train/labels/BikesHelmets38_png_jpg.rf.a31c49029bf9eb15e15fe548eaa54d8f.txt  \n",
            " extracting: train/labels/BikesHelmets38_png_jpg.rf.e7e85983676138995a5e7bbb284a151d.txt  \n",
            " extracting: train/labels/BikesHelmets38_png_jpg.rf.f759670fb060d895a9084f0933c2d3e0.txt  \n",
            " extracting: train/labels/BikesHelmets390_png_jpg.rf.04d205588a488e95e54c58bde103e2d1.txt  \n",
            " extracting: train/labels/BikesHelmets390_png_jpg.rf.1b30a146d16514d765cf27566be71e19.txt  \n",
            " extracting: train/labels/BikesHelmets390_png_jpg.rf.24dc47ed0788a12adce30532cd4129e0.txt  \n",
            " extracting: train/labels/BikesHelmets390_png_jpg.rf.308e3fecc085676cf2c9437e31929383.txt  \n",
            " extracting: train/labels/BikesHelmets390_png_jpg.rf.3f8b3cc8f2bff9de7b88e387b963f106.txt  \n",
            " extracting: train/labels/BikesHelmets390_png_jpg.rf.9a43b6bb0f97e4ae31c67218c4703149.txt  \n",
            " extracting: train/labels/BikesHelmets390_png_jpg.rf.a30aedb6d0ea617cc8e9f33a5b64a52c.txt  \n",
            " extracting: train/labels/BikesHelmets390_png_jpg.rf.aa743876a669085e6237945868509e76.txt  \n",
            " extracting: train/labels/BikesHelmets390_png_jpg.rf.b2aa3e0abbda3927496f669efc2350fe.txt  \n",
            " extracting: train/labels/BikesHelmets391_png_jpg.rf.192cf36619e8999564b5300260e85698.txt  \n",
            " extracting: train/labels/BikesHelmets391_png_jpg.rf.29c4a0589d8a6d2175afbc144e3ea589.txt  \n",
            " extracting: train/labels/BikesHelmets391_png_jpg.rf.5ea4b9ef5140d87240899e20e1e65638.txt  \n",
            " extracting: train/labels/BikesHelmets391_png_jpg.rf.6c9120e12d5388f1461443ff2b48070d.txt  \n",
            " extracting: train/labels/BikesHelmets391_png_jpg.rf.a39f1696531d9717026a674e916c1176.txt  \n",
            " extracting: train/labels/BikesHelmets391_png_jpg.rf.a672aac9e834aee67f6bdcc101c51a25.txt  \n",
            " extracting: train/labels/BikesHelmets391_png_jpg.rf.df2455215e0c89022c168621f9012033.txt  \n",
            " extracting: train/labels/BikesHelmets391_png_jpg.rf.f53c526855f65c7d09fb543b7e869ec6.txt  \n",
            " extracting: train/labels/BikesHelmets391_png_jpg.rf.fcbe56aba6d9248b26b62a4d03f4f9aa.txt  \n",
            " extracting: train/labels/BikesHelmets392_png_jpg.rf.169bdf8e61f367bcb90191bc4125ec3a.txt  \n",
            " extracting: train/labels/BikesHelmets392_png_jpg.rf.2720463cc075c2792403f8a91f7f5cf0.txt  \n",
            " extracting: train/labels/BikesHelmets392_png_jpg.rf.29d7aa38f7cf3bc5aeda2842db477557.txt  \n",
            " extracting: train/labels/BikesHelmets392_png_jpg.rf.50d300c99ecb655ed453c4de1c5db3ae.txt  \n",
            " extracting: train/labels/BikesHelmets392_png_jpg.rf.5e9a136c956c7900a10df740a6704455.txt  \n",
            " extracting: train/labels/BikesHelmets392_png_jpg.rf.5ec961256e27fb851d51b8550a89020f.txt  \n",
            " extracting: train/labels/BikesHelmets392_png_jpg.rf.766a32ebc4478b47f36645bfbad953de.txt  \n",
            " extracting: train/labels/BikesHelmets392_png_jpg.rf.aa6099e88950ed2108624bf1afa87bc2.txt  \n",
            " extracting: train/labels/BikesHelmets392_png_jpg.rf.e25764c6063bd8960ac9f76942bfe0e3.txt  \n",
            " extracting: train/labels/BikesHelmets393_png_jpg.rf.04d5b926b35cab1f9a53b4cff2a0b6ab.txt  \n",
            " extracting: train/labels/BikesHelmets393_png_jpg.rf.0b9970c2fe91e3673cd79cbc63299801.txt  \n",
            " extracting: train/labels/BikesHelmets393_png_jpg.rf.1d79653f74c7c6008c8ccb48e5921e61.txt  \n",
            " extracting: train/labels/BikesHelmets393_png_jpg.rf.5d892e11c233f0835313d50f16e966cb.txt  \n",
            " extracting: train/labels/BikesHelmets393_png_jpg.rf.5e5c782c94c616a7c7b3137ef1604814.txt  \n",
            " extracting: train/labels/BikesHelmets393_png_jpg.rf.6d8a7c586fa5fa1d16a78e3b7e7839c7.txt  \n",
            " extracting: train/labels/BikesHelmets393_png_jpg.rf.ab111f1975adfbf4950c96505e5d453e.txt  \n",
            " extracting: train/labels/BikesHelmets393_png_jpg.rf.b68c41e2dbc0805a5e599a6f9ba3e477.txt  \n",
            " extracting: train/labels/BikesHelmets393_png_jpg.rf.bd1c8f8bfc064a173bd77f6dbcc54046.txt  \n",
            " extracting: train/labels/BikesHelmets395_png_jpg.rf.104795552a01daaf4b4472c919d140e3.txt  \n",
            " extracting: train/labels/BikesHelmets395_png_jpg.rf.10c22559dc0e95562c196802e795b67a.txt  \n",
            " extracting: train/labels/BikesHelmets395_png_jpg.rf.27c1300e50889802562df28a2c7226c7.txt  \n",
            " extracting: train/labels/BikesHelmets395_png_jpg.rf.34187073a344768c8cb8b190b15d8d83.txt  \n",
            " extracting: train/labels/BikesHelmets395_png_jpg.rf.3c75a5152c1ac3b57bf70f71b48c5070.txt  \n",
            " extracting: train/labels/BikesHelmets395_png_jpg.rf.a025db0b7b4d162f2277283c52cb2ced.txt  \n",
            " extracting: train/labels/BikesHelmets39_png_jpg.rf.0d3480532a3c90a0cf607d32cde3d551.txt  \n",
            " extracting: train/labels/BikesHelmets39_png_jpg.rf.4ee92bded62b45e11133f9df8fb01af9.txt  \n",
            " extracting: train/labels/BikesHelmets39_png_jpg.rf.526030310ec921f45a09c9215a3ea2c1.txt  \n",
            " extracting: train/labels/BikesHelmets39_png_jpg.rf.59d2f644b6796e47e7f1725447e87995.txt  \n",
            " extracting: train/labels/BikesHelmets39_png_jpg.rf.87ed7f1e0b59ab7a9d409027e3dc787a.txt  \n",
            " extracting: train/labels/BikesHelmets39_png_jpg.rf.ad292e9785ae23b74f62186c2ef469f6.txt  \n",
            " extracting: train/labels/BikesHelmets39_png_jpg.rf.cf1bd8b9da9b0ddb0de7e54940a9e5ad.txt  \n",
            " extracting: train/labels/BikesHelmets39_png_jpg.rf.ded06349aaa4f0270ace8b57d19d1e43.txt  \n",
            " extracting: train/labels/BikesHelmets39_png_jpg.rf.f78e0eeb95ac5d1c3703fbba32d915c1.txt  \n",
            " extracting: train/labels/BikesHelmets3_png_jpg.rf.7f8d95a3f4637e7bc25edf97c24ab5eb.txt  \n",
            " extracting: train/labels/BikesHelmets3_png_jpg.rf.a142afe4bec70fe2769b90c5df6852e6.txt  \n",
            " extracting: train/labels/BikesHelmets3_png_jpg.rf.a6f2588828290f867afa705b04763222.txt  \n",
            " extracting: train/labels/BikesHelmets3_png_jpg.rf.a77118e48115ea75bcb7294155f76428.txt  \n",
            " extracting: train/labels/BikesHelmets3_png_jpg.rf.ac6ea50a7bfe9a8c0a9f12872146a059.txt  \n",
            " extracting: train/labels/BikesHelmets3_png_jpg.rf.afe744766cd7313840df58180ae22964.txt  \n",
            " extracting: train/labels/BikesHelmets3_png_jpg.rf.b9915ab5c34a1b6d6eee5970e89ca958.txt  \n",
            " extracting: train/labels/BikesHelmets3_png_jpg.rf.d508101cd6e79d2a35717d614672d9fd.txt  \n",
            " extracting: train/labels/BikesHelmets3_png_jpg.rf.fdaba5d6280088050b9dd301edc97350.txt  \n",
            " extracting: train/labels/BikesHelmets401_png_jpg.rf.15424005d2dd800c564c005b27e2aba3.txt  \n",
            " extracting: train/labels/BikesHelmets401_png_jpg.rf.7ffcb16d45a24771c63729c27a64d0d1.txt  \n",
            " extracting: train/labels/BikesHelmets401_png_jpg.rf.e8a240f0fd65290f6c7a07a987ff76be.txt  \n",
            " extracting: train/labels/BikesHelmets403_png_jpg.rf.04dba767094a2a6b5c7519f78e37ca46.txt  \n",
            " extracting: train/labels/BikesHelmets403_png_jpg.rf.20402944ff4d3dc3da25114af1990723.txt  \n",
            " extracting: train/labels/BikesHelmets403_png_jpg.rf.2fc81fbdd7cd6114365a2c007272067a.txt  \n",
            " extracting: train/labels/BikesHelmets403_png_jpg.rf.30ec485ed7d027d4b73e0c08b92122a6.txt  \n",
            " extracting: train/labels/BikesHelmets403_png_jpg.rf.5d5c99c4722944eabcb8faf426f6404a.txt  \n",
            " extracting: train/labels/BikesHelmets403_png_jpg.rf.69a52d7dfa65751772eab2fb6f340537.txt  \n",
            " extracting: train/labels/BikesHelmets403_png_jpg.rf.9a8e78447328933ff86997f194728c17.txt  \n",
            " extracting: train/labels/BikesHelmets403_png_jpg.rf.c87bf9c55876920dd5f0be43b6d5c7dc.txt  \n",
            " extracting: train/labels/BikesHelmets403_png_jpg.rf.ea7edfdecc1020fd03a68da509d243af.txt  \n",
            " extracting: train/labels/BikesHelmets404_png_jpg.rf.09cf42bbe93b74cfca73c89f729c19ac.txt  \n",
            " extracting: train/labels/BikesHelmets404_png_jpg.rf.1a1faf1464c74c01639a515281c167da.txt  \n",
            " extracting: train/labels/BikesHelmets404_png_jpg.rf.28076f18f7e0de25ddd143f62774e72f.txt  \n",
            " extracting: train/labels/BikesHelmets404_png_jpg.rf.2e87f8db7cebbed3db95eaeaec6b03e7.txt  \n",
            " extracting: train/labels/BikesHelmets404_png_jpg.rf.69e6dffc32ee5b497c5335407a2b6385.txt  \n",
            " extracting: train/labels/BikesHelmets404_png_jpg.rf.80cadabe9f9af9e32e9b172360b234a7.txt  \n",
            " extracting: train/labels/BikesHelmets404_png_jpg.rf.80cb8d6163579af1b08ddb2fc3965405.txt  \n",
            " extracting: train/labels/BikesHelmets404_png_jpg.rf.903cde89cbcf312a0ece51e2b1d7989c.txt  \n",
            " extracting: train/labels/BikesHelmets404_png_jpg.rf.e68ac0efb2c4d1c54a75819598863b4e.txt  \n",
            " extracting: train/labels/BikesHelmets405_png_jpg.rf.177fdb53b1e07bcff4c4ebcc02b96246.txt  \n",
            " extracting: train/labels/BikesHelmets405_png_jpg.rf.1ddbd10b59524597957d2b18f730cf1e.txt  \n",
            " extracting: train/labels/BikesHelmets405_png_jpg.rf.568b63b0ab7f14bee6e7f3751c2af91f.txt  \n",
            " extracting: train/labels/BikesHelmets405_png_jpg.rf.8a59bde34b38df7d069a1c4d43ae64b0.txt  \n",
            " extracting: train/labels/BikesHelmets405_png_jpg.rf.90aa30891a4a5ca1001b3c6216fa8d6b.txt  \n",
            " extracting: train/labels/BikesHelmets405_png_jpg.rf.a86f365caf968f25801c898a62057d35.txt  \n",
            " extracting: train/labels/BikesHelmets405_png_jpg.rf.ce29c13abca7a7a79c3f15bb0cafdaaa.txt  \n",
            " extracting: train/labels/BikesHelmets405_png_jpg.rf.d0788f1e04521dff55bcabc244bc926a.txt  \n",
            " extracting: train/labels/BikesHelmets405_png_jpg.rf.d138330b69518652ca05cf6443bd45f4.txt  \n",
            " extracting: train/labels/BikesHelmets406_png_jpg.rf.043e6f9b583e4e623d19c6c4e7c1475e.txt  \n",
            " extracting: train/labels/BikesHelmets406_png_jpg.rf.38795c6ee3a6bcb074f4b1dc70e1bb46.txt  \n",
            " extracting: train/labels/BikesHelmets406_png_jpg.rf.72fdb4140eb382dab6ee78884668cdcc.txt  \n",
            " extracting: train/labels/BikesHelmets406_png_jpg.rf.7bc6ac5fd2aab5b429ed3d70c977598f.txt  \n",
            " extracting: train/labels/BikesHelmets406_png_jpg.rf.85003751f6418813dd659477113736d0.txt  \n",
            " extracting: train/labels/BikesHelmets406_png_jpg.rf.a81fbf6ac42923b253e5960f35bbad6e.txt  \n",
            " extracting: train/labels/BikesHelmets406_png_jpg.rf.a8a72b2827b25c91dcba9de62a9f400d.txt  \n",
            " extracting: train/labels/BikesHelmets406_png_jpg.rf.b578f3f97eced20af030fd46a4266307.txt  \n",
            " extracting: train/labels/BikesHelmets406_png_jpg.rf.ed7752db42ce45f4c3ba1abc5e0f35d8.txt  \n",
            " extracting: train/labels/BikesHelmets408_png_jpg.rf.01c896e6a55f74ddd48c1628e27438b5.txt  \n",
            " extracting: train/labels/BikesHelmets408_png_jpg.rf.75aa36dbb46cd71d39796d112ed96656.txt  \n",
            " extracting: train/labels/BikesHelmets408_png_jpg.rf.8a87ad5901a370f6ad7d8cbeb7284649.txt  \n",
            " extracting: train/labels/BikesHelmets408_png_jpg.rf.918835c9828cc13494e6b6a96aba5667.txt  \n",
            " extracting: train/labels/BikesHelmets408_png_jpg.rf.9a980f155358b931fe23849c90af2704.txt  \n",
            " extracting: train/labels/BikesHelmets408_png_jpg.rf.a1faed708ccc2e064f9aef82e37d6104.txt  \n",
            " extracting: train/labels/BikesHelmets408_png_jpg.rf.a7e1a490157828df0922b7be6d6925a8.txt  \n",
            " extracting: train/labels/BikesHelmets408_png_jpg.rf.dafdb9641a3243366f747953eb6c7141.txt  \n",
            " extracting: train/labels/BikesHelmets408_png_jpg.rf.fe4beed608735b8f70ad17ef25af6f9e.txt  \n",
            " extracting: train/labels/BikesHelmets40_png_jpg.rf.66236eb6e8c2fea4dd1518521235d83a.txt  \n",
            " extracting: train/labels/BikesHelmets40_png_jpg.rf.742ec11092e1eef47d55bbee4ae238d7.txt  \n",
            " extracting: train/labels/BikesHelmets40_png_jpg.rf.a71fcab53dfd88487ab3c250ab270a92.txt  \n",
            " extracting: train/labels/BikesHelmets40_png_jpg.rf.b0a8b515dde2ae8757ae43fdbf4a03e1.txt  \n",
            " extracting: train/labels/BikesHelmets40_png_jpg.rf.b2e6ed75b6c28f2bf767f748adc53571.txt  \n",
            " extracting: train/labels/BikesHelmets40_png_jpg.rf.c670c0a38dc32c337ced447e6e199e4a.txt  \n",
            " extracting: train/labels/BikesHelmets411_png_jpg.rf.2f83b939dd0faf23716f598dd536c4aa.txt  \n",
            " extracting: train/labels/BikesHelmets411_png_jpg.rf.339db2dd2113c4efddcbd185b394f08b.txt  \n",
            " extracting: train/labels/BikesHelmets411_png_jpg.rf.4fc1f900d2ef0d4c4fddf0baafeb88ef.txt  \n",
            " extracting: train/labels/BikesHelmets411_png_jpg.rf.88354f640ea4780d7fae65880c47713a.txt  \n",
            " extracting: train/labels/BikesHelmets411_png_jpg.rf.969c936bda2dc125405974b97d39da51.txt  \n",
            " extracting: train/labels/BikesHelmets411_png_jpg.rf.9fd033a8874b4ec249a4e583c41b5fe4.txt  \n",
            " extracting: train/labels/BikesHelmets411_png_jpg.rf.b1e8fe02b23b4977a7491c7ab43ef70f.txt  \n",
            " extracting: train/labels/BikesHelmets411_png_jpg.rf.fa885f56b03e1cebc6c1c91d6210333b.txt  \n",
            " extracting: train/labels/BikesHelmets411_png_jpg.rf.ff99b7ff643ae1de3f2f378a67698afa.txt  \n",
            " extracting: train/labels/BikesHelmets412_png_jpg.rf.32dbec3c79b86821b4936edf6c2c830f.txt  \n",
            " extracting: train/labels/BikesHelmets412_png_jpg.rf.5929935d95a520a9786f7badda3397f6.txt  \n",
            " extracting: train/labels/BikesHelmets412_png_jpg.rf.7b5abe3edef9cc389368a1d7747637f0.txt  \n",
            " extracting: train/labels/BikesHelmets412_png_jpg.rf.981e9678d28282e4a6c0ec1d80c522a1.txt  \n",
            " extracting: train/labels/BikesHelmets412_png_jpg.rf.a1221c914bf188ef6d33d1531222cd5c.txt  \n",
            " extracting: train/labels/BikesHelmets412_png_jpg.rf.d3924c046e4caedae9e33584203d0576.txt  \n",
            " extracting: train/labels/BikesHelmets412_png_jpg.rf.e7f1ffd60f345b8fec58356425e83069.txt  \n",
            " extracting: train/labels/BikesHelmets412_png_jpg.rf.e8cbc12dfaa9a1a6df5f5b9dea2543e9.txt  \n",
            " extracting: train/labels/BikesHelmets412_png_jpg.rf.faa97efc0f8eab9483cde045ff8c0d01.txt  \n",
            " extracting: train/labels/BikesHelmets415_png_jpg.rf.24faddb5f2db66f961bae9e8565d4e0d.txt  \n",
            " extracting: train/labels/BikesHelmets415_png_jpg.rf.482da45a9c0bba8ce3a4a5b42981abb7.txt  \n",
            " extracting: train/labels/BikesHelmets415_png_jpg.rf.78a2d37cf9aeffcf9a0fc566538b07b3.txt  \n",
            " extracting: train/labels/BikesHelmets415_png_jpg.rf.b103e604ed4e014d52896712c711486e.txt  \n",
            " extracting: train/labels/BikesHelmets415_png_jpg.rf.c02204b491000e5e6eb3f7fcffdb0c03.txt  \n",
            " extracting: train/labels/BikesHelmets415_png_jpg.rf.ce573d1d37a4ce5e0c23e38b02ea4f90.txt  \n",
            " extracting: train/labels/BikesHelmets415_png_jpg.rf.ec0f2a92b6c92e5b1d291d21f5815d88.txt  \n",
            " extracting: train/labels/BikesHelmets415_png_jpg.rf.fab388779651793964172a07bfae3547.txt  \n",
            " extracting: train/labels/BikesHelmets415_png_jpg.rf.fc866e38250ce6161f32b056e801814f.txt  \n",
            " extracting: train/labels/BikesHelmets416_png_jpg.rf.2313a85c688ee1ac25ffe9d4dae80c82.txt  \n",
            " extracting: train/labels/BikesHelmets416_png_jpg.rf.3675ae6b16cf079b01f179d6ee59952c.txt  \n",
            " extracting: train/labels/BikesHelmets416_png_jpg.rf.538b1c097f906fafaaa4925ab0491359.txt  \n",
            " extracting: train/labels/BikesHelmets416_png_jpg.rf.5e7a1044e9a97e3458d9717154b2cb00.txt  \n",
            " extracting: train/labels/BikesHelmets416_png_jpg.rf.7ea69b4c65527cefbd632b754568b0d2.txt  \n",
            " extracting: train/labels/BikesHelmets416_png_jpg.rf.91195306902eeb98e2dc08568d046bbc.txt  \n",
            " extracting: train/labels/BikesHelmets416_png_jpg.rf.b48b57c6af2d60caba792bea3a1a85e8.txt  \n",
            " extracting: train/labels/BikesHelmets416_png_jpg.rf.de5aec69bffd72047fb4c6f8c5f8b621.txt  \n",
            " extracting: train/labels/BikesHelmets416_png_jpg.rf.f8197c583c1f9bf3bff48202eb90eb0d.txt  \n",
            " extracting: train/labels/BikesHelmets417_png_jpg.rf.1668dec0d5c0b790ac92e4764a57268a.txt  \n",
            " extracting: train/labels/BikesHelmets417_png_jpg.rf.43bfa6b2465bc42bec92226e13548a63.txt  \n",
            " extracting: train/labels/BikesHelmets417_png_jpg.rf.4e12c949c95c885b39fe90376d422994.txt  \n",
            " extracting: train/labels/BikesHelmets417_png_jpg.rf.6d26f92a31a23244298758b534b68aa0.txt  \n",
            " extracting: train/labels/BikesHelmets417_png_jpg.rf.73eb47db99603ec94d9bb8a66d910065.txt  \n",
            " extracting: train/labels/BikesHelmets417_png_jpg.rf.a468d56e1d32f23f1f7236870d8366ac.txt  \n",
            " extracting: train/labels/BikesHelmets417_png_jpg.rf.d339bd0fa22de6f42b161539d55314fc.txt  \n",
            " extracting: train/labels/BikesHelmets417_png_jpg.rf.d9f7fbcc85fc156e7a5823f4c2a8e83d.txt  \n",
            " extracting: train/labels/BikesHelmets417_png_jpg.rf.fc2c71f329205f28ae007c214cb477f5.txt  \n",
            " extracting: train/labels/BikesHelmets419_png_jpg.rf.1382cc242e0ee35fdd6cba21a3ec718b.txt  \n",
            " extracting: train/labels/BikesHelmets419_png_jpg.rf.6ce5f8d414085c218800bc9084fc8770.txt  \n",
            " extracting: train/labels/BikesHelmets419_png_jpg.rf.7a2e6fef689a4fc94c442074214a8407.txt  \n",
            " extracting: train/labels/BikesHelmets419_png_jpg.rf.98eec3e501099eabb09b9a295876ecb4.txt  \n",
            " extracting: train/labels/BikesHelmets419_png_jpg.rf.a871554f0d938803ae49f45ac6ea9056.txt  \n",
            " extracting: train/labels/BikesHelmets419_png_jpg.rf.b005fe66f0a20efd59d9113b111da9f0.txt  \n",
            " extracting: train/labels/BikesHelmets41_png_jpg.rf.09ac9a54851084002fa627f1d36e399c.txt  \n",
            " extracting: train/labels/BikesHelmets41_png_jpg.rf.22c1fda2103000d3550042afcd59ab9f.txt  \n",
            " extracting: train/labels/BikesHelmets41_png_jpg.rf.4024881dcdd6323e090588c7e902eaeb.txt  \n",
            " extracting: train/labels/BikesHelmets41_png_jpg.rf.6bf3fe318c84e2414946ad118c24cc99.txt  \n",
            " extracting: train/labels/BikesHelmets41_png_jpg.rf.86f94105a2274155ac3b07ff77f85087.txt  \n",
            " extracting: train/labels/BikesHelmets41_png_jpg.rf.bea6a4631ebbe19526ef5ba0913eada2.txt  \n",
            " extracting: train/labels/BikesHelmets41_png_jpg.rf.d30d34033c62a50d0391c70aff0f4b29.txt  \n",
            " extracting: train/labels/BikesHelmets41_png_jpg.rf.edbbd179a2bbbbb139562f7e4d1a3c6a.txt  \n",
            " extracting: train/labels/BikesHelmets41_png_jpg.rf.f18c1be0ac9c18b4c8a7e1ccfde68701.txt  \n",
            " extracting: train/labels/BikesHelmets420_png_jpg.rf.147fcf146165f2df732d5ff06f7fdefc.txt  \n",
            " extracting: train/labels/BikesHelmets420_png_jpg.rf.26b1a8c5b78063db41c7fccf6ad797f4.txt  \n",
            " extracting: train/labels/BikesHelmets420_png_jpg.rf.641645bfb9167faf9612aecf79677d5d.txt  \n",
            " extracting: train/labels/BikesHelmets420_png_jpg.rf.9ad4bd302b14e71e8416b7101d8f8b2a.txt  \n",
            " extracting: train/labels/BikesHelmets420_png_jpg.rf.e671b2cdcec09fdb11c4b8345bef2ded.txt  \n",
            " extracting: train/labels/BikesHelmets420_png_jpg.rf.ff10afbf8d13803424a0f881ab81ff56.txt  \n",
            " extracting: train/labels/BikesHelmets423_png_jpg.rf.08f28b1fde952f09b861e13b2e6d4f25.txt  \n",
            " extracting: train/labels/BikesHelmets423_png_jpg.rf.0ab74ec6246961c6658af733c09ac217.txt  \n",
            " extracting: train/labels/BikesHelmets423_png_jpg.rf.40328674f9fc840c09df52172b97b8f4.txt  \n",
            " extracting: train/labels/BikesHelmets423_png_jpg.rf.464f0461ecc9ba6a81effa8ae1ec9c0b.txt  \n",
            " extracting: train/labels/BikesHelmets423_png_jpg.rf.75c1d5f1929ba19c8030a8becb3248d3.txt  \n",
            " extracting: train/labels/BikesHelmets423_png_jpg.rf.85b08d358caf93fe5175f214cfe160ce.txt  \n",
            " extracting: train/labels/BikesHelmets423_png_jpg.rf.a0e5b62d9f257925948bc9b57d79cbbe.txt  \n",
            " extracting: train/labels/BikesHelmets423_png_jpg.rf.b227b8fd0ee13094eec48478c65a6b41.txt  \n",
            " extracting: train/labels/BikesHelmets423_png_jpg.rf.d822560cb3d4af4e5ed6ee84d5be3068.txt  \n",
            " extracting: train/labels/BikesHelmets424_png_jpg.rf.072c41d028c419088a148c8f31392e45.txt  \n",
            " extracting: train/labels/BikesHelmets424_png_jpg.rf.3cf3f5496dbcc5fdb095aa835fb80df4.txt  \n",
            " extracting: train/labels/BikesHelmets424_png_jpg.rf.4bfb59cf8c8b87bea6ab046de491219a.txt  \n",
            " extracting: train/labels/BikesHelmets424_png_jpg.rf.61b45c927361a37c00f307b1a23b342b.txt  \n",
            " extracting: train/labels/BikesHelmets424_png_jpg.rf.639274709f5e04086323559cbd2bd539.txt  \n",
            " extracting: train/labels/BikesHelmets424_png_jpg.rf.65bb7ddd939dc71afd021615033e3182.txt  \n",
            " extracting: train/labels/BikesHelmets424_png_jpg.rf.739633e0e233e6bb69cd1cc5028cf405.txt  \n",
            " extracting: train/labels/BikesHelmets424_png_jpg.rf.7dd24ff0ba4a4abdd0e8e3e76842ba0b.txt  \n",
            " extracting: train/labels/BikesHelmets424_png_jpg.rf.a99feeadeb3fd18e93cc0778fa06256c.txt  \n",
            " extracting: train/labels/BikesHelmets425_png_jpg.rf.3176d583051c16ff369d7e780be89b69.txt  \n",
            " extracting: train/labels/BikesHelmets425_png_jpg.rf.647fe656bc6fd346533dce47015cc4ad.txt  \n",
            " extracting: train/labels/BikesHelmets425_png_jpg.rf.6e14e204b08c44c4bb54851f328838b8.txt  \n",
            " extracting: train/labels/BikesHelmets425_png_jpg.rf.88bd31330d91f4f5bacc746154d40ff0.txt  \n",
            " extracting: train/labels/BikesHelmets425_png_jpg.rf.bbf817d703692845cf8b2bd16ce304b6.txt  \n",
            " extracting: train/labels/BikesHelmets425_png_jpg.rf.c5e39e421dd3bd9362e274a7a14d561d.txt  \n",
            " extracting: train/labels/BikesHelmets425_png_jpg.rf.cf89b762dd1892f5a370c35984ab2924.txt  \n",
            " extracting: train/labels/BikesHelmets425_png_jpg.rf.d54ad6b7b06a36f04bd6a25c1a2d42b8.txt  \n",
            " extracting: train/labels/BikesHelmets425_png_jpg.rf.d80fcc1a3ced7deeb0e78f721843003f.txt  \n",
            " extracting: train/labels/BikesHelmets428_png_jpg.rf.0c023ea6cc157e439486926e11b95b3f.txt  \n",
            " extracting: train/labels/BikesHelmets428_png_jpg.rf.2dee4c11d441a623a0d35dcbb88dad78.txt  \n",
            " extracting: train/labels/BikesHelmets428_png_jpg.rf.4afe29c0ec8c4ced52c8f2f696ede865.txt  \n",
            " extracting: train/labels/BikesHelmets428_png_jpg.rf.4f1c5e34481f44312b1d6d4cb29721c2.txt  \n",
            " extracting: train/labels/BikesHelmets428_png_jpg.rf.5fee162a05ae2b7c6eead60a5d7eb404.txt  \n",
            " extracting: train/labels/BikesHelmets428_png_jpg.rf.701ca2e7b697f5db7bb54627fb5c8be3.txt  \n",
            " extracting: train/labels/BikesHelmets428_png_jpg.rf.8bccb48f1fa4db2f3a80b101881fdce4.txt  \n",
            " extracting: train/labels/BikesHelmets428_png_jpg.rf.e5658d26289cd7c6e984a432b5311145.txt  \n",
            " extracting: train/labels/BikesHelmets428_png_jpg.rf.ed13b659a4a282e9d26bc7c1edd1ed04.txt  \n",
            " extracting: train/labels/BikesHelmets429_png_jpg.rf.08824a41651c783033233007280f57b5.txt  \n",
            " extracting: train/labels/BikesHelmets429_png_jpg.rf.6aa3ecea794a463bea3af70349ae661e.txt  \n",
            " extracting: train/labels/BikesHelmets429_png_jpg.rf.83dcd0804febbe95e7914ab8d6bc5f6b.txt  \n",
            " extracting: train/labels/BikesHelmets429_png_jpg.rf.97338b3cc800e67c5ab151bdafaaf493.txt  \n",
            " extracting: train/labels/BikesHelmets429_png_jpg.rf.af63114012242fe87c8a52098aa1ea5a.txt  \n",
            " extracting: train/labels/BikesHelmets429_png_jpg.rf.f052330c78ebd19eb2fb4418220b8c3c.txt  \n",
            " extracting: train/labels/BikesHelmets42_png_jpg.rf.0a6c55b208202a95abd0e64a6c688d7e.txt  \n",
            " extracting: train/labels/BikesHelmets42_png_jpg.rf.7afb691b91708226eea2c4a291d62f3b.txt  \n",
            " extracting: train/labels/BikesHelmets42_png_jpg.rf.8be7ed8848452bc1268cb0de1447dff8.txt  \n",
            " extracting: train/labels/BikesHelmets42_png_jpg.rf.a4a299a98a0bb0c4d9154455a39dbcff.txt  \n",
            " extracting: train/labels/BikesHelmets42_png_jpg.rf.d592791ca2cb342145b470fdbcbd65a7.txt  \n",
            " extracting: train/labels/BikesHelmets42_png_jpg.rf.f73cfcf98720e6172f1553a28ac4e9ad.txt  \n",
            " extracting: train/labels/BikesHelmets431_png_jpg.rf.0d86d14bd4093625b61ed13e511c3eac.txt  \n",
            " extracting: train/labels/BikesHelmets431_png_jpg.rf.30a71b252618ad22db3d32aa340b39f1.txt  \n",
            " extracting: train/labels/BikesHelmets431_png_jpg.rf.3690c5528cc0eb52a09cc3836ea64faf.txt  \n",
            " extracting: train/labels/BikesHelmets431_png_jpg.rf.3d9c68630021ab84227c7f9c11d71410.txt  \n",
            " extracting: train/labels/BikesHelmets431_png_jpg.rf.53d37cf1dc4a3db10f2fa7fd9461664a.txt  \n",
            " extracting: train/labels/BikesHelmets431_png_jpg.rf.546fdb2815811e5cfe0f8578ffa74008.txt  \n",
            " extracting: train/labels/BikesHelmets431_png_jpg.rf.7ae12b7664d69720217049fe9c65b6e9.txt  \n",
            " extracting: train/labels/BikesHelmets431_png_jpg.rf.ae2f1ff4e2ae2d1c9e6ec06d30f1f0fc.txt  \n",
            " extracting: train/labels/BikesHelmets431_png_jpg.rf.e9b429cd8b72723e25d02daaf04b6bd6.txt  \n",
            " extracting: train/labels/BikesHelmets432_png_jpg.rf.0d38493d0e5f927b110dc384e76de0ad.txt  \n",
            " extracting: train/labels/BikesHelmets432_png_jpg.rf.0ed21b98847e95eef6ff177302902b0b.txt  \n",
            " extracting: train/labels/BikesHelmets432_png_jpg.rf.52023a0638a0618545822db093791743.txt  \n",
            " extracting: train/labels/BikesHelmets432_png_jpg.rf.570fe38c290e42a6598e6135440cc8bf.txt  \n",
            " extracting: train/labels/BikesHelmets432_png_jpg.rf.678fd24747bb1a2a195a9584c5e86698.txt  \n",
            " extracting: train/labels/BikesHelmets432_png_jpg.rf.9924f173d39ba1d3a4cfe81484ddcc05.txt  \n",
            " extracting: train/labels/BikesHelmets432_png_jpg.rf.ae1c3e690e2dff0e7b8b73bd385afa13.txt  \n",
            " extracting: train/labels/BikesHelmets432_png_jpg.rf.b7403b26fcb78995571315b209558e32.txt  \n",
            " extracting: train/labels/BikesHelmets432_png_jpg.rf.e4a0b6459d60cf786eb517c0db7aed84.txt  \n",
            " extracting: train/labels/BikesHelmets435_png_jpg.rf.0016223535cb275d7fd77a14db034f34.txt  \n",
            " extracting: train/labels/BikesHelmets435_png_jpg.rf.0a776450ceafcc083b59284401a6f1e7.txt  \n",
            " extracting: train/labels/BikesHelmets435_png_jpg.rf.1dcacc6db89288a077414fed86dbaf0f.txt  \n",
            " extracting: train/labels/BikesHelmets435_png_jpg.rf.34a792c485aa42dc647ea2d9b38d75c8.txt  \n",
            " extracting: train/labels/BikesHelmets435_png_jpg.rf.5a0c350f315c314ffcae5d7b6e098428.txt  \n",
            " extracting: train/labels/BikesHelmets435_png_jpg.rf.78d118075f5a5d5fd22ae2ff1b3ddf5d.txt  \n",
            " extracting: train/labels/BikesHelmets435_png_jpg.rf.7cd49558e917bec88fdd4280a9248d26.txt  \n",
            " extracting: train/labels/BikesHelmets435_png_jpg.rf.ada2f92f9157a4104b475f8fa97011d6.txt  \n",
            " extracting: train/labels/BikesHelmets435_png_jpg.rf.c855775bf213fbfe72f6a6452f3ac50d.txt  \n",
            " extracting: train/labels/BikesHelmets436_png_jpg.rf.33274a82bce96eba0fc2c4fd271dad0b.txt  \n",
            " extracting: train/labels/BikesHelmets436_png_jpg.rf.345b0d39845dd37e191e28c8df7eb54b.txt  \n",
            " extracting: train/labels/BikesHelmets436_png_jpg.rf.82e0aa09de92066a7bb5325d98efeea6.txt  \n",
            " extracting: train/labels/BikesHelmets436_png_jpg.rf.8894a84023fd6fe17c37cc7d70c5426c.txt  \n",
            " extracting: train/labels/BikesHelmets436_png_jpg.rf.8c6884284ff032605775f8e0a213519b.txt  \n",
            " extracting: train/labels/BikesHelmets436_png_jpg.rf.ad009e377d0b90a6fc035d5e3598739c.txt  \n",
            " extracting: train/labels/BikesHelmets436_png_jpg.rf.ae2228bdd00889a521b7e596ff169a64.txt  \n",
            " extracting: train/labels/BikesHelmets436_png_jpg.rf.bc84b6de9907356722d9db0d49e56cb1.txt  \n",
            " extracting: train/labels/BikesHelmets436_png_jpg.rf.e9279b1c2c2fc4ad863eb4af727c35f5.txt  \n",
            " extracting: train/labels/BikesHelmets439_png_jpg.rf.09a62644aaf9c035db73fa5bf3aec1e0.txt  \n",
            " extracting: train/labels/BikesHelmets439_png_jpg.rf.0b5783e7d9c37f3c4d47a3a29d8b7643.txt  \n",
            " extracting: train/labels/BikesHelmets439_png_jpg.rf.269384ce0287d5ea7a3c16287137b9b2.txt  \n",
            " extracting: train/labels/BikesHelmets439_png_jpg.rf.499686e269099cabb9d93e338abfac70.txt  \n",
            " extracting: train/labels/BikesHelmets439_png_jpg.rf.509d6a2514377813dd905f356d86e194.txt  \n",
            " extracting: train/labels/BikesHelmets439_png_jpg.rf.6f0a7c0d304d43e5b13cc65f766b1e18.txt  \n",
            " extracting: train/labels/BikesHelmets439_png_jpg.rf.720fe36cdd77e32e0ad964d30be5c758.txt  \n",
            " extracting: train/labels/BikesHelmets439_png_jpg.rf.77b24edc78b3b5373b8689fc7b09040b.txt  \n",
            " extracting: train/labels/BikesHelmets439_png_jpg.rf.af62c0cb60e72dcc1ddddc22e0fcde41.txt  \n",
            " extracting: train/labels/BikesHelmets441_png_jpg.rf.24329960516dbc5be87aea11f0a00bb9.txt  \n",
            " extracting: train/labels/BikesHelmets441_png_jpg.rf.286676413fbd7e0fdb47994dcd25a6ba.txt  \n",
            " extracting: train/labels/BikesHelmets441_png_jpg.rf.29e92b81ed58222c0832d1a32aa914ec.txt  \n",
            " extracting: train/labels/BikesHelmets441_png_jpg.rf.629f93f83d28341aaf7ced8a6dafdbe5.txt  \n",
            " extracting: train/labels/BikesHelmets441_png_jpg.rf.8ed51731752128d520335d5a84b5e29c.txt  \n",
            " extracting: train/labels/BikesHelmets441_png_jpg.rf.d972221ec7d7e887096f21e541a9ae16.txt  \n",
            " extracting: train/labels/BikesHelmets442_png_jpg.rf.1fa911b0f9ef60dc9b8b0dce4c39c750.txt  \n",
            " extracting: train/labels/BikesHelmets442_png_jpg.rf.7482727a2a97418a10518cbdc393907c.txt  \n",
            " extracting: train/labels/BikesHelmets442_png_jpg.rf.9c0fc2517b1a4fbfdc0631f2dff26883.txt  \n",
            " extracting: train/labels/BikesHelmets442_png_jpg.rf.b41442e39cee9c3f8c7edacb1fe8a03f.txt  \n",
            " extracting: train/labels/BikesHelmets442_png_jpg.rf.ca3481a11740c709cd8f4dd0decf86a9.txt  \n",
            " extracting: train/labels/BikesHelmets442_png_jpg.rf.d5c979983af8f249a71c4f800edfadda.txt  \n",
            " extracting: train/labels/BikesHelmets442_png_jpg.rf.e2b2938596347e29a15d6fa7c0f1b098.txt  \n",
            " extracting: train/labels/BikesHelmets442_png_jpg.rf.fc0cd885d3e9402e2fac0e878ecaf67a.txt  \n",
            " extracting: train/labels/BikesHelmets442_png_jpg.rf.ff35556b4c064d85eebf8744f4f4e4d0.txt  \n",
            " extracting: train/labels/BikesHelmets444_png_jpg.rf.2a02ad2c8455dc2be235c9b3bfbcef44.txt  \n",
            " extracting: train/labels/BikesHelmets444_png_jpg.rf.603d6f9d6f955bbc38904c6a2493457b.txt  \n",
            " extracting: train/labels/BikesHelmets444_png_jpg.rf.64ec31ac53319ae5f1a5034150e79b07.txt  \n",
            " extracting: train/labels/BikesHelmets444_png_jpg.rf.66e6d9178181c3b6dc86c4edf4528f50.txt  \n",
            " extracting: train/labels/BikesHelmets444_png_jpg.rf.6e19ef5eb338e4bd8d5a9eef52104c48.txt  \n",
            " extracting: train/labels/BikesHelmets444_png_jpg.rf.8dc3b7c0ef79dab065f53a9f0721daa2.txt  \n",
            " extracting: train/labels/BikesHelmets444_png_jpg.rf.93bc0b0d8641314887711ad4b92675fe.txt  \n",
            " extracting: train/labels/BikesHelmets444_png_jpg.rf.a9896f0cb62614fb7ddb7a1e82fe4c71.txt  \n",
            " extracting: train/labels/BikesHelmets444_png_jpg.rf.b7561b5f5c04d9b028e517503f830fb9.txt  \n",
            " extracting: train/labels/BikesHelmets445_png_jpg.rf.10a5fd9539bbe6191ac7d4eff6948f5f.txt  \n",
            " extracting: train/labels/BikesHelmets445_png_jpg.rf.2363c34d66d266fb88796743e2b7510a.txt  \n",
            " extracting: train/labels/BikesHelmets445_png_jpg.rf.2675aee35ba442619dcec22982a8bd2f.txt  \n",
            " extracting: train/labels/BikesHelmets445_png_jpg.rf.598a055158a1f779e737b4b8cfd895e8.txt  \n",
            " extracting: train/labels/BikesHelmets445_png_jpg.rf.b048b7514540a180737dd6e780b0c30c.txt  \n",
            " extracting: train/labels/BikesHelmets445_png_jpg.rf.c46603abd0c3860e55de868121d89138.txt  \n",
            " extracting: train/labels/BikesHelmets445_png_jpg.rf.da95d0adb3b3499e8b75414e00ad239e.txt  \n",
            " extracting: train/labels/BikesHelmets445_png_jpg.rf.eb62fe9c3ce8962668c2125e33ad6c2c.txt  \n",
            " extracting: train/labels/BikesHelmets445_png_jpg.rf.ef84ae849e1c31ffbf0bd1a191ac406b.txt  \n",
            " extracting: train/labels/BikesHelmets446_png_jpg.rf.15e4f6518f00b99b327b3af0ac151169.txt  \n",
            " extracting: train/labels/BikesHelmets446_png_jpg.rf.26efd18af2d4ad14e04928a74620a91e.txt  \n",
            " extracting: train/labels/BikesHelmets446_png_jpg.rf.318c91dbbd1333d6b944e0021c57265e.txt  \n",
            " extracting: train/labels/BikesHelmets446_png_jpg.rf.3ffa52de196b2cb562f5406d2e3159be.txt  \n",
            " extracting: train/labels/BikesHelmets446_png_jpg.rf.4761688d26d317a933a82ac683ce8c01.txt  \n",
            " extracting: train/labels/BikesHelmets446_png_jpg.rf.8396e2667d1323eedb8f2af3682facc8.txt  \n",
            " extracting: train/labels/BikesHelmets446_png_jpg.rf.a456b53ffa20f4faaa93b8cbaeb34211.txt  \n",
            " extracting: train/labels/BikesHelmets446_png_jpg.rf.b52924a5ea9bfaa6c7924b4eb7bbd9f5.txt  \n",
            " extracting: train/labels/BikesHelmets446_png_jpg.rf.ec498e680fc2be57d16651c8bb4f2fa7.txt  \n",
            " extracting: train/labels/BikesHelmets449_png_jpg.rf.057c74df7d4e3ba85b828193cf4cd282.txt  \n",
            " extracting: train/labels/BikesHelmets449_png_jpg.rf.337416b5c80407f3159937888d380f28.txt  \n",
            " extracting: train/labels/BikesHelmets449_png_jpg.rf.5055a15e47c0ce00e9e1f730efdab59a.txt  \n",
            " extracting: train/labels/BikesHelmets449_png_jpg.rf.525f5928f538daaa8813a8298f859d0f.txt  \n",
            " extracting: train/labels/BikesHelmets449_png_jpg.rf.7e0d27408dae585ff58f06b314b2064f.txt  \n",
            " extracting: train/labels/BikesHelmets449_png_jpg.rf.b83ddf7d000fd7123e91c64219f401ec.txt  \n",
            " extracting: train/labels/BikesHelmets449_png_jpg.rf.e7855151c48fd2fa5724d103483ab2be.txt  \n",
            " extracting: train/labels/BikesHelmets449_png_jpg.rf.eda49dc01a516396978b68ea53ec167a.txt  \n",
            " extracting: train/labels/BikesHelmets449_png_jpg.rf.f7201e884ac6df31b7b094228093dfc6.txt  \n",
            " extracting: train/labels/BikesHelmets44_png_jpg.rf.24e40a99a77269191c58e5aa6a0a0c83.txt  \n",
            " extracting: train/labels/BikesHelmets44_png_jpg.rf.26b4873130bc70e761e02780886f9291.txt  \n",
            " extracting: train/labels/BikesHelmets44_png_jpg.rf.5b85b4606dc51f1f3dfb86e1d1f5cc0f.txt  \n",
            " extracting: train/labels/BikesHelmets44_png_jpg.rf.5fb2db8df2b9a2e1613721a130c34d9b.txt  \n",
            " extracting: train/labels/BikesHelmets44_png_jpg.rf.9072efb4fd171ec6589a710382230d4f.txt  \n",
            " extracting: train/labels/BikesHelmets44_png_jpg.rf.ba42bcca02fe50e9c0fcb8fa998ec9db.txt  \n",
            " extracting: train/labels/BikesHelmets44_png_jpg.rf.dd0e8d11edb83f1ef3ca2b49be4a43e4.txt  \n",
            " extracting: train/labels/BikesHelmets44_png_jpg.rf.ed74cfb98fddaefb9fc00bf38661a40c.txt  \n",
            " extracting: train/labels/BikesHelmets44_png_jpg.rf.f53ec81e6ab3cf09c221c2a57fa963a0.txt  \n",
            " extracting: train/labels/BikesHelmets450_png_jpg.rf.0a65b2eedb606f5d95e8be6b3c50692a.txt  \n",
            " extracting: train/labels/BikesHelmets450_png_jpg.rf.15e312474082676b8210a88fd30e7035.txt  \n",
            " extracting: train/labels/BikesHelmets450_png_jpg.rf.3e0dabb6eb90e3f18322cfbab868466b.txt  \n",
            " extracting: train/labels/BikesHelmets450_png_jpg.rf.4080b375193f56a0080fe2b95f420764.txt  \n",
            " extracting: train/labels/BikesHelmets450_png_jpg.rf.40b9472d4cf9f4f929eca8682595cefc.txt  \n",
            " extracting: train/labels/BikesHelmets450_png_jpg.rf.56abf88b6348eaf69b03ea3698516428.txt  \n",
            " extracting: train/labels/BikesHelmets450_png_jpg.rf.92a3296fff43c1556ff02e15ec77dc26.txt  \n",
            " extracting: train/labels/BikesHelmets450_png_jpg.rf.d497a80917811442c79b92a8669916f0.txt  \n",
            " extracting: train/labels/BikesHelmets450_png_jpg.rf.e257abd876efe97e55c314b69476ede3.txt  \n",
            " extracting: train/labels/BikesHelmets451_png_jpg.rf.06c1b4b25e408f5109b438debed5d38e.txt  \n",
            " extracting: train/labels/BikesHelmets451_png_jpg.rf.2d2fcf772a18cfefa26068c26ba4bffb.txt  \n",
            " extracting: train/labels/BikesHelmets451_png_jpg.rf.335c9f601ccb0b60b0be44054c78ef90.txt  \n",
            " extracting: train/labels/BikesHelmets451_png_jpg.rf.940f3b26c6f4aae7cc10c3162ac96006.txt  \n",
            " extracting: train/labels/BikesHelmets451_png_jpg.rf.e527c8fd7775906c420fa7e5be66045b.txt  \n",
            " extracting: train/labels/BikesHelmets451_png_jpg.rf.f7fe9231f6cbe26be74088946f0efa6e.txt  \n",
            " extracting: train/labels/BikesHelmets452_png_jpg.rf.1cc7dd796bd6f78f9364861948bfcc86.txt  \n",
            " extracting: train/labels/BikesHelmets452_png_jpg.rf.37622fca7b4590b297918142bec563d6.txt  \n",
            " extracting: train/labels/BikesHelmets452_png_jpg.rf.4a36207c16f55c4f9a780f3179c0e8cf.txt  \n",
            " extracting: train/labels/BikesHelmets452_png_jpg.rf.6d83a9481d17bc1f86a6d81478c5cbd2.txt  \n",
            " extracting: train/labels/BikesHelmets452_png_jpg.rf.83c1d5a3977d981501d94468f523c864.txt  \n",
            " extracting: train/labels/BikesHelmets452_png_jpg.rf.8e410cc96ce4d424b6af7ad025b77cbd.txt  \n",
            " extracting: train/labels/BikesHelmets453_png_jpg.rf.2178bb9cc25f874b5aa6c9b832e4e530.txt  \n",
            " extracting: train/labels/BikesHelmets453_png_jpg.rf.33e7e00384d5b0207f7ccb8dd9014bc8.txt  \n",
            " extracting: train/labels/BikesHelmets453_png_jpg.rf.9e5d9109feaad741a2c37f84ba0b9a81.txt  \n",
            " extracting: train/labels/BikesHelmets453_png_jpg.rf.d2d11b6626afc868320d1467eb98a883.txt  \n",
            " extracting: train/labels/BikesHelmets453_png_jpg.rf.dacd3691b325209b9a0098c88659b3c3.txt  \n",
            " extracting: train/labels/BikesHelmets453_png_jpg.rf.e4bf3c9a6549b79851b05f902cb69207.txt  \n",
            " extracting: train/labels/BikesHelmets456_png_jpg.rf.4e417ff1500fd6f17bf160c33020a2e7.txt  \n",
            " extracting: train/labels/BikesHelmets456_png_jpg.rf.52dbb594358b203c801219b8ecefd4c6.txt  \n",
            " extracting: train/labels/BikesHelmets456_png_jpg.rf.76d655d3f4284761de089acca2be5c7a.txt  \n",
            " extracting: train/labels/BikesHelmets456_png_jpg.rf.a519f8370e96f01bbfa5ba57f43e3358.txt  \n",
            " extracting: train/labels/BikesHelmets456_png_jpg.rf.af0be3345f9cacd385499fb10e9091a6.txt  \n",
            " extracting: train/labels/BikesHelmets456_png_jpg.rf.ceb0c254df699215610dce754e31e60e.txt  \n",
            " extracting: train/labels/BikesHelmets456_png_jpg.rf.d020ba8ca3a9ed304a0e54fe146e2333.txt  \n",
            " extracting: train/labels/BikesHelmets456_png_jpg.rf.d324817550a43584787547e86b45c855.txt  \n",
            " extracting: train/labels/BikesHelmets456_png_jpg.rf.d67855f4152c9ff78f0789a2a484a79d.txt  \n",
            " extracting: train/labels/BikesHelmets457_png_jpg.rf.60314d04be9844951c98d657e6b02ce0.txt  \n",
            " extracting: train/labels/BikesHelmets457_png_jpg.rf.6b1b90427556ec45e4775e4a495ff8fa.txt  \n",
            " extracting: train/labels/BikesHelmets457_png_jpg.rf.778213dfb7950acee2aacc0780d7f1cf.txt  \n",
            " extracting: train/labels/BikesHelmets457_png_jpg.rf.78d69e6f30bca42dbe77967b2aabd3b5.txt  \n",
            " extracting: train/labels/BikesHelmets457_png_jpg.rf.9b1a11f78cd657d17da8d2cd57ad307a.txt  \n",
            " extracting: train/labels/BikesHelmets457_png_jpg.rf.a47f6dac376d8d169bf0da77a448b9dd.txt  \n",
            " extracting: train/labels/BikesHelmets457_png_jpg.rf.c4dcd19d7c830e9ca8e53c6c77798ebe.txt  \n",
            " extracting: train/labels/BikesHelmets457_png_jpg.rf.de4f3cc2820d3d8f9ab1eee067657dc1.txt  \n",
            " extracting: train/labels/BikesHelmets457_png_jpg.rf.e94562a3501525c0e7cba726dfa07a8f.txt  \n",
            " extracting: train/labels/BikesHelmets459_png_jpg.rf.17d0bfdc5ac0fdfde07d1b985a783f59.txt  \n",
            " extracting: train/labels/BikesHelmets459_png_jpg.rf.5298cf72ba00aa8d6bd9627c34ed867a.txt  \n",
            " extracting: train/labels/BikesHelmets459_png_jpg.rf.5ed23fe2430539c56e11b66d5aaf5612.txt  \n",
            " extracting: train/labels/BikesHelmets459_png_jpg.rf.9c17ff48247de6fedd586ac6f69b583e.txt  \n",
            " extracting: train/labels/BikesHelmets459_png_jpg.rf.b9997cb1467114ce25cf54a1fb20266c.txt  \n",
            " extracting: train/labels/BikesHelmets459_png_jpg.rf.c645de554eddb19f6fddad9d5ee10036.txt  \n",
            " extracting: train/labels/BikesHelmets459_png_jpg.rf.c97cfc454f1e24d2cf83f225b9061f1b.txt  \n",
            " extracting: train/labels/BikesHelmets459_png_jpg.rf.d3daf93adff3094299daeb7398e8873f.txt  \n",
            " extracting: train/labels/BikesHelmets459_png_jpg.rf.e9b80ccc94329c68c9a58ab0f0c5d689.txt  \n",
            " extracting: train/labels/BikesHelmets45_png_jpg.rf.1fc5fab79eaf4ba6e1dcb75e9e730251.txt  \n",
            " extracting: train/labels/BikesHelmets45_png_jpg.rf.2f557f869a78b92a9794b04995741bf0.txt  \n",
            " extracting: train/labels/BikesHelmets45_png_jpg.rf.456301ba55eb0201fa4ce62a178398d9.txt  \n",
            " extracting: train/labels/BikesHelmets45_png_jpg.rf.9dbdcea8aa3782645c6fe3dde02b93ae.txt  \n",
            " extracting: train/labels/BikesHelmets45_png_jpg.rf.ae4afe59c533cff410ec466a94cfc32e.txt  \n",
            " extracting: train/labels/BikesHelmets45_png_jpg.rf.bf627e626c3afaaf84d4171acf869fa1.txt  \n",
            " extracting: train/labels/BikesHelmets45_png_jpg.rf.c111aca6859ad64869f829e88285785e.txt  \n",
            " extracting: train/labels/BikesHelmets45_png_jpg.rf.e2bcf1807425e910ee57992acec92e64.txt  \n",
            " extracting: train/labels/BikesHelmets45_png_jpg.rf.e4af79abe9a9b1ed8a51d2abba0ee2aa.txt  \n",
            " extracting: train/labels/BikesHelmets461_png_jpg.rf.1b9194910b4a62dcd1e3938064cfabe9.txt  \n",
            " extracting: train/labels/BikesHelmets461_png_jpg.rf.46c1647521555c72b41712f17a1e0cbe.txt  \n",
            " extracting: train/labels/BikesHelmets461_png_jpg.rf.4c0b9f27537275c67260a5733fc66274.txt  \n",
            " extracting: train/labels/BikesHelmets461_png_jpg.rf.8ef40166b09249b0b3236290e1dc8e2a.txt  \n",
            " extracting: train/labels/BikesHelmets461_png_jpg.rf.92057142cc1b0b7f5ddae57c0abe87e5.txt  \n",
            " extracting: train/labels/BikesHelmets461_png_jpg.rf.c16ef9733d6b1d278ed431b3be65ae51.txt  \n",
            " extracting: train/labels/BikesHelmets461_png_jpg.rf.cb701657a24eb4d5bfc4d6362105a950.txt  \n",
            " extracting: train/labels/BikesHelmets461_png_jpg.rf.ff7dde93dada1de56eebc9364bc55596.txt  \n",
            " extracting: train/labels/BikesHelmets461_png_jpg.rf.ff8d52ce0921ff1c320b3bbdc5e43a86.txt  \n",
            " extracting: train/labels/BikesHelmets463_png_jpg.rf.1eec2280c2faf60b6d708d37cc08ba7f.txt  \n",
            " extracting: train/labels/BikesHelmets463_png_jpg.rf.451bb25117b09b7d2942f1e04400a291.txt  \n",
            " extracting: train/labels/BikesHelmets463_png_jpg.rf.47ad3cf406a58fe2555d6277ea38d2a6.txt  \n",
            " extracting: train/labels/BikesHelmets463_png_jpg.rf.5bbd64e6e7fece45a96fadefa560e9aa.txt  \n",
            " extracting: train/labels/BikesHelmets463_png_jpg.rf.5e804a3deeb6d895827cfd1370c03e92.txt  \n",
            " extracting: train/labels/BikesHelmets463_png_jpg.rf.91b5e6504f3a8628fe454b548eba212e.txt  \n",
            " extracting: train/labels/BikesHelmets463_png_jpg.rf.9a2d72308a8fbc0492383ac5e96acbf3.txt  \n",
            " extracting: train/labels/BikesHelmets463_png_jpg.rf.bc2946c33ad55d190442a388c4dff340.txt  \n",
            " extracting: train/labels/BikesHelmets463_png_jpg.rf.dd83129a84f74fb77e94a2eafcced7ae.txt  \n",
            " extracting: train/labels/BikesHelmets464_png_jpg.rf.0d3cb3804c6276483c793ea240415bb4.txt  \n",
            " extracting: train/labels/BikesHelmets464_png_jpg.rf.34a0ad626857b3a2069ed4c4b7a2b913.txt  \n",
            " extracting: train/labels/BikesHelmets464_png_jpg.rf.91a341a896cf0225e8595c5f4c428d29.txt  \n",
            " extracting: train/labels/BikesHelmets464_png_jpg.rf.b2e41ed16aef8d1db493d8034083ea1b.txt  \n",
            " extracting: train/labels/BikesHelmets464_png_jpg.rf.ec68b163d16eb28d235a5e031ecfb851.txt  \n",
            " extracting: train/labels/BikesHelmets464_png_jpg.rf.f3a8518ce69b3f9f3af6266d15885b8c.txt  \n",
            " extracting: train/labels/BikesHelmets465_png_jpg.rf.1204377ff441dc609500622ff63aa219.txt  \n",
            " extracting: train/labels/BikesHelmets465_png_jpg.rf.25be510c4da138eca7a1dd0199afd067.txt  \n",
            " extracting: train/labels/BikesHelmets465_png_jpg.rf.3afb8f34eeca7b72f0210d5054cd2dc4.txt  \n",
            " extracting: train/labels/BikesHelmets465_png_jpg.rf.44f72530404b8590399c568793d04f89.txt  \n",
            " extracting: train/labels/BikesHelmets465_png_jpg.rf.872cbbff647842194d842fd31ac54eb7.txt  \n",
            " extracting: train/labels/BikesHelmets465_png_jpg.rf.895ed8ad39fe37a22dc66a46220e4e0a.txt  \n",
            " extracting: train/labels/BikesHelmets465_png_jpg.rf.b4f94783ad9064c27e497578872de170.txt  \n",
            " extracting: train/labels/BikesHelmets465_png_jpg.rf.ca2a3db78bfd4461e7c1ef8ee9f54baf.txt  \n",
            " extracting: train/labels/BikesHelmets465_png_jpg.rf.f7c7e249e8f26acad9666fef33647ab4.txt  \n",
            " extracting: train/labels/BikesHelmets466_png_jpg.rf.0ed6da344ce2c41b40d8311d99ba8e79.txt  \n",
            " extracting: train/labels/BikesHelmets466_png_jpg.rf.111d4f5d50af328199fa5c38fa6d63f1.txt  \n",
            " extracting: train/labels/BikesHelmets466_png_jpg.rf.316a12147c93b45c5d80d3f0bec325f3.txt  \n",
            " extracting: train/labels/BikesHelmets466_png_jpg.rf.36e0e0a9bce23f8911710d5420c6042c.txt  \n",
            " extracting: train/labels/BikesHelmets466_png_jpg.rf.65f392620973fadffd9f03e690eb5275.txt  \n",
            " extracting: train/labels/BikesHelmets466_png_jpg.rf.7ecbd334cc48747aaa5ca4d860650b1b.txt  \n",
            " extracting: train/labels/BikesHelmets466_png_jpg.rf.97d50198c2ed3a88f7a5995aadd30efa.txt  \n",
            " extracting: train/labels/BikesHelmets466_png_jpg.rf.aa61e107fe6b4c61d5a4f6d8fbbeb576.txt  \n",
            " extracting: train/labels/BikesHelmets466_png_jpg.rf.d5b0f1c706842ec40e0efd0f552248a2.txt  \n",
            " extracting: train/labels/BikesHelmets468_png_jpg.rf.0ae8170de076f79ce67cde933ddbb65d.txt  \n",
            " extracting: train/labels/BikesHelmets468_png_jpg.rf.0e2f5d1126e69d53d598dd9231944afb.txt  \n",
            " extracting: train/labels/BikesHelmets468_png_jpg.rf.2532e6deff43b31ebcad12580761f4e1.txt  \n",
            " extracting: train/labels/BikesHelmets468_png_jpg.rf.54750c04bf396fe1c80be52a511c0c3c.txt  \n",
            " extracting: train/labels/BikesHelmets468_png_jpg.rf.548be9f737f5a679a3edf6b48993863f.txt  \n",
            " extracting: train/labels/BikesHelmets468_png_jpg.rf.5ec8635af855469b633ec10d0aff7717.txt  \n",
            " extracting: train/labels/BikesHelmets468_png_jpg.rf.664ab53c058263f22873009cbbaa6431.txt  \n",
            " extracting: train/labels/BikesHelmets468_png_jpg.rf.6aca36038c09fdb4cbc09e11da4b44bf.txt  \n",
            " extracting: train/labels/BikesHelmets468_png_jpg.rf.6dfffc90ec64ec228b08d1803f7c8ef0.txt  \n",
            " extracting: train/labels/BikesHelmets469_png_jpg.rf.0cd00a306e5a79151ddfcf5d4e813e10.txt  \n",
            " extracting: train/labels/BikesHelmets469_png_jpg.rf.38bc40096302f4c09225817c03a1edd1.txt  \n",
            " extracting: train/labels/BikesHelmets469_png_jpg.rf.77f98f31d375e6d08852efb9bc712266.txt  \n",
            " extracting: train/labels/BikesHelmets469_png_jpg.rf.8687745280673271f9c3e438c9cb4887.txt  \n",
            " extracting: train/labels/BikesHelmets469_png_jpg.rf.93ff56cb00b1166952174d7b3a4fe858.txt  \n",
            " extracting: train/labels/BikesHelmets469_png_jpg.rf.a5802de890d02a4e0525f771a29479c6.txt  \n",
            " extracting: train/labels/BikesHelmets469_png_jpg.rf.ea5684b7750717e16adc1f0b2de3eaa9.txt  \n",
            " extracting: train/labels/BikesHelmets469_png_jpg.rf.eb12684a504a27c02696ddde3bdae5bf.txt  \n",
            " extracting: train/labels/BikesHelmets469_png_jpg.rf.fdd718687a41faacab6d806735b76ac5.txt  \n",
            " extracting: train/labels/BikesHelmets471_png_jpg.rf.34c2ae56e19e3878aa16c821860c0e1f.txt  \n",
            " extracting: train/labels/BikesHelmets471_png_jpg.rf.43ffea6292e235b4e58f316ae148e860.txt  \n",
            " extracting: train/labels/BikesHelmets471_png_jpg.rf.47aac6e169bced5eaa4c1a5e42d81cbf.txt  \n",
            " extracting: train/labels/BikesHelmets471_png_jpg.rf.569dbca32e1e32580c064afb44f0ce05.txt  \n",
            " extracting: train/labels/BikesHelmets471_png_jpg.rf.84711d66bb44d0223a3b1e5fec23daa9.txt  \n",
            " extracting: train/labels/BikesHelmets471_png_jpg.rf.b4bbd3b02d34e8012dad1fa1382c5d41.txt  \n",
            " extracting: train/labels/BikesHelmets471_png_jpg.rf.b91394c8d076fff98ec570482b661a1f.txt  \n",
            " extracting: train/labels/BikesHelmets471_png_jpg.rf.e58f60fe1e047a60e6afe5657a178f97.txt  \n",
            " extracting: train/labels/BikesHelmets471_png_jpg.rf.f9601bc28f9811a9d11404a59393a3b8.txt  \n",
            " extracting: train/labels/BikesHelmets472_png_jpg.rf.26d76fc9235b59b407b80af863a727e4.txt  \n",
            " extracting: train/labels/BikesHelmets472_png_jpg.rf.2b15748c14e60e30b8e588edbd045f9e.txt  \n",
            " extracting: train/labels/BikesHelmets472_png_jpg.rf.2c38d1578fe832fc15435172628e7c55.txt  \n",
            " extracting: train/labels/BikesHelmets472_png_jpg.rf.49c41d6c6f64d611a7e7c4bc6eaf2dbb.txt  \n",
            " extracting: train/labels/BikesHelmets472_png_jpg.rf.785a7501131370f37bfdba7a189868db.txt  \n",
            " extracting: train/labels/BikesHelmets472_png_jpg.rf.981ef1c572d9a4291f99d7353ac95da6.txt  \n",
            " extracting: train/labels/BikesHelmets472_png_jpg.rf.b735327015ea80bc6941662e56647b08.txt  \n",
            " extracting: train/labels/BikesHelmets472_png_jpg.rf.e23c14331ddbc4ea18228d54c855a748.txt  \n",
            " extracting: train/labels/BikesHelmets472_png_jpg.rf.f493342a6799426e7195adcc22ddaac8.txt  \n",
            " extracting: train/labels/BikesHelmets473_png_jpg.rf.6db3ca700c244194d6f6eb25d04fffb2.txt  \n",
            " extracting: train/labels/BikesHelmets473_png_jpg.rf.8b14c680cf24db54cdaa4c06a83776fa.txt  \n",
            " extracting: train/labels/BikesHelmets473_png_jpg.rf.a5fd0a91b20e4a3e0b4be1e0475c4c64.txt  \n",
            " extracting: train/labels/BikesHelmets473_png_jpg.rf.a9b7a0b21cb9486858bb362edb088d5e.txt  \n",
            " extracting: train/labels/BikesHelmets473_png_jpg.rf.d7226338f26316644efcab7928e1c67f.txt  \n",
            " extracting: train/labels/BikesHelmets473_png_jpg.rf.dfcc877eebe9014d2b54874b273fd63f.txt  \n",
            " extracting: train/labels/BikesHelmets477_png_jpg.rf.059ea3fdf2fa4f5d24b3b3b146b48361.txt  \n",
            " extracting: train/labels/BikesHelmets477_png_jpg.rf.17a27a87a6abac181dd5ad2e87f76daa.txt  \n",
            " extracting: train/labels/BikesHelmets477_png_jpg.rf.1c707185a2b740bfbe2aa536c40b2013.txt  \n",
            " extracting: train/labels/BikesHelmets477_png_jpg.rf.324e001495f2595b246a7b66f6e8d32f.txt  \n",
            " extracting: train/labels/BikesHelmets477_png_jpg.rf.41d596a5fb43cc15e4bffbb89499477e.txt  \n",
            " extracting: train/labels/BikesHelmets477_png_jpg.rf.66420d291015852a1e766d525200ce91.txt  \n",
            " extracting: train/labels/BikesHelmets477_png_jpg.rf.7477e726b7963fbb6cc11c198b24027c.txt  \n",
            " extracting: train/labels/BikesHelmets477_png_jpg.rf.a630e4072f225c7312eed2aedac03f97.txt  \n",
            " extracting: train/labels/BikesHelmets477_png_jpg.rf.b9c2da4797bf6a55ad5f22d10c9ece7f.txt  \n",
            " extracting: train/labels/BikesHelmets47_png_jpg.rf.035bf39e4e23b77daf2cf43d52e599b9.txt  \n",
            " extracting: train/labels/BikesHelmets47_png_jpg.rf.14a60640022c454525c0a8e73d3374ac.txt  \n",
            " extracting: train/labels/BikesHelmets47_png_jpg.rf.15d21f3dc203f718626129a7de31e999.txt  \n",
            " extracting: train/labels/BikesHelmets47_png_jpg.rf.3145c61af7bb6e6a7fd225bd15da5fa3.txt  \n",
            " extracting: train/labels/BikesHelmets47_png_jpg.rf.32f5e87aab29dc680db2f1729c3b1b12.txt  \n",
            " extracting: train/labels/BikesHelmets47_png_jpg.rf.3867766320bcae7cd00e6f419d7cad4a.txt  \n",
            " extracting: train/labels/BikesHelmets47_png_jpg.rf.54fb0ec3319754f80bfcb0a871ee4734.txt  \n",
            " extracting: train/labels/BikesHelmets47_png_jpg.rf.aa60c48154edd2c255c5b42102d17ace.txt  \n",
            " extracting: train/labels/BikesHelmets47_png_jpg.rf.e1502c84270c2383b30948a26402c021.txt  \n",
            " extracting: train/labels/BikesHelmets480_png_jpg.rf.0e97f178c334188efe25f5aaf643f4d2.txt  \n",
            " extracting: train/labels/BikesHelmets480_png_jpg.rf.22dd998c7930e3816fc5370743c26673.txt  \n",
            " extracting: train/labels/BikesHelmets480_png_jpg.rf.2dbd58dc54ca80c72a855ebabc5b3390.txt  \n",
            " extracting: train/labels/BikesHelmets480_png_jpg.rf.39d62593501c2411fdd75e56c103eed6.txt  \n",
            " extracting: train/labels/BikesHelmets480_png_jpg.rf.79941caf13b6d3ab8e74d2cd31ee0559.txt  \n",
            " extracting: train/labels/BikesHelmets480_png_jpg.rf.8d45c22f4c97018da3f4a085983ce132.txt  \n",
            " extracting: train/labels/BikesHelmets480_png_jpg.rf.9702e1e60d60addc9d3fde2487d60779.txt  \n",
            " extracting: train/labels/BikesHelmets480_png_jpg.rf.d87fa0336a8d76f0417fb55da232630e.txt  \n",
            " extracting: train/labels/BikesHelmets480_png_jpg.rf.ddea6501d1b004a10404bc38ebd0cf0b.txt  \n",
            " extracting: train/labels/BikesHelmets482_png_jpg.rf.000a901e6015f417a5567fdfba1cf782.txt  \n",
            " extracting: train/labels/BikesHelmets482_png_jpg.rf.70e95470328243720e54b14ededc9442.txt  \n",
            " extracting: train/labels/BikesHelmets482_png_jpg.rf.88c6f2abcabbca1286420e9f4ab794a6.txt  \n",
            " extracting: train/labels/BikesHelmets482_png_jpg.rf.8a0a9b1f36c8c6be349f48c30ef1b90b.txt  \n",
            " extracting: train/labels/BikesHelmets482_png_jpg.rf.cf808eb2cdd814177f4119c87d49467d.txt  \n",
            " extracting: train/labels/BikesHelmets482_png_jpg.rf.f8149797e9e09965a4eb7f7f2996851c.txt  \n",
            " extracting: train/labels/BikesHelmets483_png_jpg.rf.20a3f5b2cd2b18ad58d86233714d6dc9.txt  \n",
            " extracting: train/labels/BikesHelmets483_png_jpg.rf.25e5c2a586803db3eef703d2fdc29364.txt  \n",
            " extracting: train/labels/BikesHelmets483_png_jpg.rf.3c3c68e668e2023a64d289829cad545f.txt  \n",
            " extracting: train/labels/BikesHelmets483_png_jpg.rf.5cf6173cb4af9f45ec4ec5358e85c379.txt  \n",
            " extracting: train/labels/BikesHelmets483_png_jpg.rf.95dd9436535d6718415ce4b6dd722aec.txt  \n",
            " extracting: train/labels/BikesHelmets483_png_jpg.rf.a62304a4f2b1e46e117e9bc2b126794d.txt  \n",
            " extracting: train/labels/BikesHelmets483_png_jpg.rf.ab8c65aa1d6c854e9068776097967378.txt  \n",
            " extracting: train/labels/BikesHelmets483_png_jpg.rf.c138223016f6453d465cda01af53ca74.txt  \n",
            " extracting: train/labels/BikesHelmets483_png_jpg.rf.fd243812d20dfcccf776ae93b37ef230.txt  \n",
            " extracting: train/labels/BikesHelmets484_png_jpg.rf.16ad1d0720c3cae5ddead6e8df6844f3.txt  \n",
            " extracting: train/labels/BikesHelmets484_png_jpg.rf.3242907f8ae4700f2e4c20d327dce4fa.txt  \n",
            " extracting: train/labels/BikesHelmets484_png_jpg.rf.5898be64af367569db27e57495dc4884.txt  \n",
            " extracting: train/labels/BikesHelmets484_png_jpg.rf.b5833221df8bc291c5d293391150aced.txt  \n",
            " extracting: train/labels/BikesHelmets484_png_jpg.rf.c3a3f9b23d527303ed654f259bf19df6.txt  \n",
            " extracting: train/labels/BikesHelmets484_png_jpg.rf.ee32c2c23ef2a410c4353c03526a268d.txt  \n",
            " extracting: train/labels/BikesHelmets485_png_jpg.rf.18d0991eb0674743ebfde6c34cc41017.txt  \n",
            " extracting: train/labels/BikesHelmets485_png_jpg.rf.1b505f6bf0d578a0980f670cdf61a6d4.txt  \n",
            " extracting: train/labels/BikesHelmets485_png_jpg.rf.31929e1203667cf3cbd2bdca9a19ae9c.txt  \n",
            " extracting: train/labels/BikesHelmets485_png_jpg.rf.44b33025ebb903cc72d1645020ee7e7a.txt  \n",
            " extracting: train/labels/BikesHelmets485_png_jpg.rf.48bd556beeb685d36d82791343009b60.txt  \n",
            " extracting: train/labels/BikesHelmets485_png_jpg.rf.aa8e206f1d201b5a51fc453b02a05e0d.txt  \n",
            " extracting: train/labels/BikesHelmets486_png_jpg.rf.55f24a20ee38501cb08366b85f9197f6.txt  \n",
            " extracting: train/labels/BikesHelmets486_png_jpg.rf.5b337cd7b423724f090d91da159a83d7.txt  \n",
            " extracting: train/labels/BikesHelmets486_png_jpg.rf.7b31d43c8eb685da8a6b93312217afe3.txt  \n",
            " extracting: train/labels/BikesHelmets486_png_jpg.rf.925ce2c5fde6363444358495c109e4c3.txt  \n",
            " extracting: train/labels/BikesHelmets486_png_jpg.rf.9fe05d954ab13a35332115b8ba345e00.txt  \n",
            " extracting: train/labels/BikesHelmets486_png_jpg.rf.a3669872840b503ef118a29729295add.txt  \n",
            " extracting: train/labels/BikesHelmets486_png_jpg.rf.aefa31e26741a5545990e502a94002ee.txt  \n",
            " extracting: train/labels/BikesHelmets486_png_jpg.rf.f354ab4b2e629bbd1e981d928519d3e1.txt  \n",
            " extracting: train/labels/BikesHelmets486_png_jpg.rf.f7614e0926964bc29d5d6a5e92d80af8.txt  \n",
            " extracting: train/labels/BikesHelmets489_png_jpg.rf.27376e600c794435de0e05c6c944eba0.txt  \n",
            " extracting: train/labels/BikesHelmets489_png_jpg.rf.591764a949fbc00df46c8fdb2306e66e.txt  \n",
            " extracting: train/labels/BikesHelmets489_png_jpg.rf.5c39e2948b25b16d3652a4b79daaed3a.txt  \n",
            " extracting: train/labels/BikesHelmets489_png_jpg.rf.763aeb8cf42f5d3b1f9920b9dbc43327.txt  \n",
            " extracting: train/labels/BikesHelmets489_png_jpg.rf.8cf113b3a1c92e7170264785e6e8de01.txt  \n",
            " extracting: train/labels/BikesHelmets489_png_jpg.rf.9043ebdee5c030b1172fdc598135169f.txt  \n",
            " extracting: train/labels/BikesHelmets489_png_jpg.rf.96edf4448b9bb460389c9773069cafbb.txt  \n",
            " extracting: train/labels/BikesHelmets489_png_jpg.rf.d4773a5eaf8b5780d78ab6d2c9fb77cf.txt  \n",
            " extracting: train/labels/BikesHelmets489_png_jpg.rf.ff858a3114a8518d29f014331893b5ff.txt  \n",
            " extracting: train/labels/BikesHelmets48_png_jpg.rf.027a9e0a31313b0cf98c8bd88732d2ae.txt  \n",
            " extracting: train/labels/BikesHelmets48_png_jpg.rf.a3f6c45ba33760cfaf9611ca2e346c0b.txt  \n",
            " extracting: train/labels/BikesHelmets48_png_jpg.rf.c0d6a138935bc8288d44e67ec514c657.txt  \n",
            " extracting: train/labels/BikesHelmets48_png_jpg.rf.fa01481c0cfec3885de1edfe916a1f57.txt  \n",
            " extracting: train/labels/BikesHelmets48_png_jpg.rf.fb2283968aafcb4d17758de6d91949ec.txt  \n",
            " extracting: train/labels/BikesHelmets48_png_jpg.rf.ff1c8fc62845bbfde14ba24608d6325d.txt  \n",
            " extracting: train/labels/BikesHelmets490_png_jpg.rf.1254f9d810eb83f42533d2a55769e8a1.txt  \n",
            " extracting: train/labels/BikesHelmets490_png_jpg.rf.1f54c93f141312c5f6b2c445224535a9.txt  \n",
            " extracting: train/labels/BikesHelmets490_png_jpg.rf.534720b822429d2aeb7842324f5c4336.txt  \n",
            " extracting: train/labels/BikesHelmets490_png_jpg.rf.60de329acddf8e923d9dbd31c8a7e454.txt  \n",
            " extracting: train/labels/BikesHelmets490_png_jpg.rf.6e5182ee985922239003724ea732143e.txt  \n",
            " extracting: train/labels/BikesHelmets490_png_jpg.rf.734e0f7c9261a8e9cb9d03bd5c5e462a.txt  \n",
            " extracting: train/labels/BikesHelmets490_png_jpg.rf.7ea5c7a4f6761deace0dc9e002d7d9fa.txt  \n",
            " extracting: train/labels/BikesHelmets490_png_jpg.rf.e70f7ff613759216db217e5ccbc89fb3.txt  \n",
            " extracting: train/labels/BikesHelmets490_png_jpg.rf.f58c5b1f6b870748869f4bad57de74f2.txt  \n",
            " extracting: train/labels/BikesHelmets491_png_jpg.rf.7524dbbac26288c67dc18a9b7a78643c.txt  \n",
            " extracting: train/labels/BikesHelmets491_png_jpg.rf.d0b6cb68915e70dda49cec470d40d9bc.txt  \n",
            " extracting: train/labels/BikesHelmets491_png_jpg.rf.ebf590c2c0c02c638ba8eed6d4f4d622.txt  \n",
            " extracting: train/labels/BikesHelmets492_png_jpg.rf.15e9a57674ef02ed7829571f48c666e9.txt  \n",
            " extracting: train/labels/BikesHelmets492_png_jpg.rf.1677332ae6a1ce5ed3a3a538f156a909.txt  \n",
            " extracting: train/labels/BikesHelmets492_png_jpg.rf.190ed7f1cf32185fea269fa31cce5a84.txt  \n",
            " extracting: train/labels/BikesHelmets492_png_jpg.rf.2131b19c673390501f0514d7db38804d.txt  \n",
            " extracting: train/labels/BikesHelmets492_png_jpg.rf.3b8ad269168f851791597863897b232e.txt  \n",
            " extracting: train/labels/BikesHelmets492_png_jpg.rf.878d74873184e3d89856100bed9f610e.txt  \n",
            " extracting: train/labels/BikesHelmets492_png_jpg.rf.c9fa3f57c42cc012aedd07bb841d773d.txt  \n",
            " extracting: train/labels/BikesHelmets492_png_jpg.rf.e1ab4b7006857ca9d748bd8f1c779df6.txt  \n",
            " extracting: train/labels/BikesHelmets492_png_jpg.rf.ee3576c204a84e4188070e1027756d18.txt  \n",
            " extracting: train/labels/BikesHelmets497_png_jpg.rf.1126d098c4302b30ae402078bd8d329e.txt  \n",
            " extracting: train/labels/BikesHelmets497_png_jpg.rf.1e292c038d49919856bf2f7581b64b4a.txt  \n",
            " extracting: train/labels/BikesHelmets497_png_jpg.rf.5901971c51a5018e7f428988f15123b1.txt  \n",
            " extracting: train/labels/BikesHelmets497_png_jpg.rf.6c95326f1d5d604ebe20b9bfd40596cd.txt  \n",
            " extracting: train/labels/BikesHelmets497_png_jpg.rf.8721bae373359feec703e1d44fff1b25.txt  \n",
            " extracting: train/labels/BikesHelmets497_png_jpg.rf.b2a72b1b1b48830bce9e7e98ee762858.txt  \n",
            " extracting: train/labels/BikesHelmets497_png_jpg.rf.c61b7bc6cca164a14937edbb921d5a67.txt  \n",
            " extracting: train/labels/BikesHelmets497_png_jpg.rf.dc6d683d1fbcdb970f0ac640f098cf35.txt  \n",
            " extracting: train/labels/BikesHelmets497_png_jpg.rf.f5151761d340073f604183de662bbc7a.txt  \n",
            " extracting: train/labels/BikesHelmets499_png_jpg.rf.1c5e2f0c32329e6a0bb3e0cf8b5d13ad.txt  \n",
            " extracting: train/labels/BikesHelmets499_png_jpg.rf.7259b74b74bb8d2ab389afa8632126c4.txt  \n",
            " extracting: train/labels/BikesHelmets499_png_jpg.rf.88f7253ff34cb8add67a539e736bcdf8.txt  \n",
            " extracting: train/labels/BikesHelmets499_png_jpg.rf.a94573852bb25eb21fa1dda9234e266d.txt  \n",
            " extracting: train/labels/BikesHelmets499_png_jpg.rf.f3337bc7897d3523dba244ec9417be93.txt  \n",
            " extracting: train/labels/BikesHelmets499_png_jpg.rf.ff1b63a014c092179b9b9b9f313100c7.txt  \n",
            " extracting: train/labels/BikesHelmets49_png_jpg.rf.14192b77b666bf965da7c6d53bab86f1.txt  \n",
            " extracting: train/labels/BikesHelmets49_png_jpg.rf.144a1af07311c48ac964b69f3c1a625c.txt  \n",
            " extracting: train/labels/BikesHelmets49_png_jpg.rf.3e707ffe11be4343df33bf94002cbacd.txt  \n",
            " extracting: train/labels/BikesHelmets49_png_jpg.rf.549c450e3dcfb22e9b4ee17bee43eb54.txt  \n",
            " extracting: train/labels/BikesHelmets49_png_jpg.rf.a6ec3d63903013c5816dc2ecc270ac0a.txt  \n",
            " extracting: train/labels/BikesHelmets49_png_jpg.rf.ae30e736e72809e0a679f142b5b8aef5.txt  \n",
            " extracting: train/labels/BikesHelmets49_png_jpg.rf.b29c1f77693cb7fda1248d7025c1dd48.txt  \n",
            " extracting: train/labels/BikesHelmets49_png_jpg.rf.ce707031060a6a2b4c544acc49242732.txt  \n",
            " extracting: train/labels/BikesHelmets49_png_jpg.rf.df5f33f872fee2245e09f2366c14306c.txt  \n",
            " extracting: train/labels/BikesHelmets4_png_jpg.rf.08f092a0716fcc0d8b49f5a15ba6aea8.txt  \n",
            " extracting: train/labels/BikesHelmets4_png_jpg.rf.114df13a3232f493df5a677d5ba95c4a.txt  \n",
            " extracting: train/labels/BikesHelmets4_png_jpg.rf.243635300bd44f5182b3a4749154fa5b.txt  \n",
            " extracting: train/labels/BikesHelmets4_png_jpg.rf.2956cac09ee99258ec7fbee88ded9442.txt  \n",
            " extracting: train/labels/BikesHelmets4_png_jpg.rf.45e0ce48a0b805a23349b909e8205cd1.txt  \n",
            " extracting: train/labels/BikesHelmets4_png_jpg.rf.a3904859e0a0aa3b30cee2265af4ccca.txt  \n",
            " extracting: train/labels/BikesHelmets4_png_jpg.rf.ab81a866511093eab2be59b11735077f.txt  \n",
            " extracting: train/labels/BikesHelmets4_png_jpg.rf.ea40234fda69f702459d0c69a8ee0471.txt  \n",
            " extracting: train/labels/BikesHelmets4_png_jpg.rf.f5d5c76514dbdcd55225969d53f353a8.txt  \n",
            " extracting: train/labels/BikesHelmets500_png_jpg.rf.16b39ccd799b7a000a0d6b72970fdcb9.txt  \n",
            " extracting: train/labels/BikesHelmets500_png_jpg.rf.312c94f6bddbe9caa69f266be9c26b1a.txt  \n",
            " extracting: train/labels/BikesHelmets500_png_jpg.rf.37ac898886d28283e1fa5a85ab9342bc.txt  \n",
            " extracting: train/labels/BikesHelmets500_png_jpg.rf.70fbfbe325b9bbd12efc3ddb65253012.txt  \n",
            " extracting: train/labels/BikesHelmets500_png_jpg.rf.8ef217e5f0bb44af5733e9086d1b641b.txt  \n",
            " extracting: train/labels/BikesHelmets500_png_jpg.rf.f9186b3e36abadb2e1548373dcbadaf1.txt  \n",
            " extracting: train/labels/BikesHelmets502_png_jpg.rf.23a7e368601a15958596ca2bbcac41dd.txt  \n",
            " extracting: train/labels/BikesHelmets502_png_jpg.rf.2a8f5536bae44747b8669afb89254c93.txt  \n",
            " extracting: train/labels/BikesHelmets502_png_jpg.rf.36234d31a4f5297fed481adbf8b390ad.txt  \n",
            " extracting: train/labels/BikesHelmets502_png_jpg.rf.42bb37a919438c82c911056f19706433.txt  \n",
            " extracting: train/labels/BikesHelmets502_png_jpg.rf.46946f3f8de16b9abdd77a420b8e7c99.txt  \n",
            " extracting: train/labels/BikesHelmets502_png_jpg.rf.5e8053fcf09434d25d1342eca5484df8.txt  \n",
            " extracting: train/labels/BikesHelmets502_png_jpg.rf.77cd2418ea6ed79de6bd96560fc1a0f8.txt  \n",
            " extracting: train/labels/BikesHelmets502_png_jpg.rf.d434a8bd76bc24413a1558c23ff48078.txt  \n",
            " extracting: train/labels/BikesHelmets502_png_jpg.rf.ef30a039253b64082c2ca73e06b6b513.txt  \n",
            " extracting: train/labels/BikesHelmets507_png_jpg.rf.0b2545dbeaa96765128bdedbd5f6a237.txt  \n",
            " extracting: train/labels/BikesHelmets507_png_jpg.rf.0b8e5c307ee2ae5e0cbf747388f4b01e.txt  \n",
            " extracting: train/labels/BikesHelmets507_png_jpg.rf.40bf1b91aebf03e09dd034ff846a2f0e.txt  \n",
            " extracting: train/labels/BikesHelmets507_png_jpg.rf.6fb3ecd6242577e9d990e3c1302f1f2a.txt  \n",
            " extracting: train/labels/BikesHelmets507_png_jpg.rf.7bde93cd2de3ee6e4ece72c0c707071f.txt  \n",
            " extracting: train/labels/BikesHelmets507_png_jpg.rf.98b8fd79d862d58213ffa2f168d7f773.txt  \n",
            " extracting: train/labels/BikesHelmets507_png_jpg.rf.c0a5f852bfb91dfbdfcfd44e21857330.txt  \n",
            " extracting: train/labels/BikesHelmets507_png_jpg.rf.c454f8cacc86f099d18db978e2f180c7.txt  \n",
            " extracting: train/labels/BikesHelmets507_png_jpg.rf.d6b5a1c0bcee44660b7c2c799bd8d24f.txt  \n",
            " extracting: train/labels/BikesHelmets508_png_jpg.rf.537916525c0f35c65783ec2c0c1b6dc5.txt  \n",
            " extracting: train/labels/BikesHelmets508_png_jpg.rf.5daee807bc0e9d1a33abc4988714418d.txt  \n",
            " extracting: train/labels/BikesHelmets508_png_jpg.rf.b21da02fe2bb52c45c735d8a045d6d03.txt  \n",
            " extracting: train/labels/BikesHelmets509_png_jpg.rf.01a4ae2eab0cd51527beb51387a95f39.txt  \n",
            " extracting: train/labels/BikesHelmets509_png_jpg.rf.1622e0aeb47df1ef37b2400c33ad1d56.txt  \n",
            " extracting: train/labels/BikesHelmets509_png_jpg.rf.16bee84409d103a75550cad92ffd4790.txt  \n",
            " extracting: train/labels/BikesHelmets509_png_jpg.rf.842d5e7ae6b44582e61cf0812b0be6f5.txt  \n",
            " extracting: train/labels/BikesHelmets509_png_jpg.rf.9eea923b394a66c9c92f7d35a9073fc1.txt  \n",
            " extracting: train/labels/BikesHelmets509_png_jpg.rf.c23fd4f2e8ecb8a51c5345a20a05bf13.txt  \n",
            " extracting: train/labels/BikesHelmets510_png_jpg.rf.0627c1420a34abd8d353c8e888bafcae.txt  \n",
            " extracting: train/labels/BikesHelmets510_png_jpg.rf.1f09fcc7250f5f1c7674b31c2a01793a.txt  \n",
            " extracting: train/labels/BikesHelmets510_png_jpg.rf.5f6baf551c393a943eb750eb9ed9bf91.txt  \n",
            " extracting: train/labels/BikesHelmets510_png_jpg.rf.7299b43577e4a825d4f3e0663d302593.txt  \n",
            " extracting: train/labels/BikesHelmets510_png_jpg.rf.8ea62ab13b0983965e8ba5162e4d7f36.txt  \n",
            " extracting: train/labels/BikesHelmets510_png_jpg.rf.9d254b399ad20d27f88528ee1ff723a4.txt  \n",
            " extracting: train/labels/BikesHelmets510_png_jpg.rf.a0a5b7bf694b3c701a645ccd05548d2a.txt  \n",
            " extracting: train/labels/BikesHelmets510_png_jpg.rf.afa1943822b1e2f5786b7e250d212ba0.txt  \n",
            " extracting: train/labels/BikesHelmets510_png_jpg.rf.cb101a3cbf2a25404e951a5fa66a9ed1.txt  \n",
            " extracting: train/labels/BikesHelmets512_png_jpg.rf.2f84e0942c7f40948f0f9def4ebe53e8.txt  \n",
            " extracting: train/labels/BikesHelmets512_png_jpg.rf.8cc9edff18acff12d43e2b0b7987315c.txt  \n",
            " extracting: train/labels/BikesHelmets512_png_jpg.rf.ad4550c9a608ed2009b152f713d57b6e.txt  \n",
            " extracting: train/labels/BikesHelmets512_png_jpg.rf.c25a4086cfd938330a9a75e44db11a27.txt  \n",
            " extracting: train/labels/BikesHelmets512_png_jpg.rf.e2e6ff1dcbef8e45452f7f5eef099346.txt  \n",
            " extracting: train/labels/BikesHelmets512_png_jpg.rf.f73ef2fc176e44aa073c2de2b4d52b2b.txt  \n",
            " extracting: train/labels/BikesHelmets513_png_jpg.rf.3cd159bd6c8cc931cc99744f114f4b13.txt  \n",
            " extracting: train/labels/BikesHelmets513_png_jpg.rf.473be46f1301328907dfa51fc80d050a.txt  \n",
            " extracting: train/labels/BikesHelmets513_png_jpg.rf.96120dfa58e72362bda1dfd913a8d704.txt  \n",
            " extracting: train/labels/BikesHelmets513_png_jpg.rf.b930395056d9d84bc49c3573b7dad2a2.txt  \n",
            " extracting: train/labels/BikesHelmets513_png_jpg.rf.d52275ba3ba42443ffa59f594bef7b6a.txt  \n",
            " extracting: train/labels/BikesHelmets513_png_jpg.rf.ef3c839aa5c570096b8bc9075d113514.txt  \n",
            " extracting: train/labels/BikesHelmets514_png_jpg.rf.0e21fd198c01a05f85a75c5a768b7f9c.txt  \n",
            " extracting: train/labels/BikesHelmets514_png_jpg.rf.323b456b67a9c9fbd3e6004d12f199ea.txt  \n",
            " extracting: train/labels/BikesHelmets514_png_jpg.rf.328fe5333626d33ee70872dc55ebca3e.txt  \n",
            " extracting: train/labels/BikesHelmets514_png_jpg.rf.aaaa5ae2a4c0d890409f061f4b388a79.txt  \n",
            " extracting: train/labels/BikesHelmets514_png_jpg.rf.c460466d22292eb77dc071836341a7c8.txt  \n",
            " extracting: train/labels/BikesHelmets514_png_jpg.rf.e47b4aa3d9b8ddf3891ae9644cda77b0.txt  \n",
            " extracting: train/labels/BikesHelmets514_png_jpg.rf.e69c14c75dfb88fffa38277a1434122c.txt  \n",
            " extracting: train/labels/BikesHelmets514_png_jpg.rf.e901c4d49864c3222833c01a43f5cae6.txt  \n",
            " extracting: train/labels/BikesHelmets514_png_jpg.rf.fcd0aa2fad758e9657b6eb217c551536.txt  \n",
            " extracting: train/labels/BikesHelmets515_png_jpg.rf.2966e4c17634609dd72ee1df3b7cc677.txt  \n",
            " extracting: train/labels/BikesHelmets515_png_jpg.rf.2c6c1489414283842439e58fa3523091.txt  \n",
            " extracting: train/labels/BikesHelmets515_png_jpg.rf.2cf743a963939d5328485a272f8e7436.txt  \n",
            " extracting: train/labels/BikesHelmets515_png_jpg.rf.4f57f72c551dd0a9aa1d7cb6dccc7c69.txt  \n",
            " extracting: train/labels/BikesHelmets515_png_jpg.rf.52ce31c0cce4953c398baed47946f4fa.txt  \n",
            " extracting: train/labels/BikesHelmets515_png_jpg.rf.b2d05ccb7eb39cd27fcd4883f66fa394.txt  \n",
            " extracting: train/labels/BikesHelmets515_png_jpg.rf.bc4082eedfbc0b394bb34d50f5bc1927.txt  \n",
            " extracting: train/labels/BikesHelmets515_png_jpg.rf.c703a6892771bdb0c93bf278922480a1.txt  \n",
            " extracting: train/labels/BikesHelmets515_png_jpg.rf.ccce543ff908f107a6927854722a48ac.txt  \n",
            " extracting: train/labels/BikesHelmets516_png_jpg.rf.33b3a8832b1d8899b606f441a647a1b7.txt  \n",
            " extracting: train/labels/BikesHelmets516_png_jpg.rf.364daf715326f2844ceadf24a284dc97.txt  \n",
            " extracting: train/labels/BikesHelmets516_png_jpg.rf.382e77d706a305ff6126eb7799f4d5e0.txt  \n",
            " extracting: train/labels/BikesHelmets516_png_jpg.rf.3ba3c09274d8d2b29b5c705b99271130.txt  \n",
            " extracting: train/labels/BikesHelmets516_png_jpg.rf.3cf114d051ff3438030b11e5345f3e12.txt  \n",
            " extracting: train/labels/BikesHelmets516_png_jpg.rf.7bab062b8a5f1b9023f1499d1627f768.txt  \n",
            " extracting: train/labels/BikesHelmets516_png_jpg.rf.a00cb1012e2e7dee4e3c70c2584bda70.txt  \n",
            " extracting: train/labels/BikesHelmets516_png_jpg.rf.b09f4107a24e2d44e0f953e3dfb5a111.txt  \n",
            " extracting: train/labels/BikesHelmets516_png_jpg.rf.dab2c43229cfaa330abf06302dd92132.txt  \n",
            " extracting: train/labels/BikesHelmets517_png_jpg.rf.0007c30829b55e254c047cb37b87e83d.txt  \n",
            " extracting: train/labels/BikesHelmets517_png_jpg.rf.0bcc5a536d4cb53d39639acc96d5b24f.txt  \n",
            " extracting: train/labels/BikesHelmets517_png_jpg.rf.a71ac7379286e5fb880e71b7274b87cf.txt  \n",
            " extracting: train/labels/BikesHelmets517_png_jpg.rf.a9fc72004b640b48354172a3d3d55efe.txt  \n",
            " extracting: train/labels/BikesHelmets517_png_jpg.rf.c7e27427556b65d64469ab3192f66c30.txt  \n",
            " extracting: train/labels/BikesHelmets517_png_jpg.rf.d7aff1404ee9b8713b864d03ca608c55.txt  \n",
            " extracting: train/labels/BikesHelmets517_png_jpg.rf.e8d988a48f892fe2fa6f92c08942f106.txt  \n",
            " extracting: train/labels/BikesHelmets517_png_jpg.rf.f0a89f1cf365a7fd7de0a8b8f89bb869.txt  \n",
            " extracting: train/labels/BikesHelmets517_png_jpg.rf.fab594a171d0d33c631ee020056f9b60.txt  \n",
            " extracting: train/labels/BikesHelmets51_png_jpg.rf.0052bf7d5122a75aa72c7ed5c58b328a.txt  \n",
            " extracting: train/labels/BikesHelmets51_png_jpg.rf.52414fd3a848d8b794d86af068dcaae4.txt  \n",
            " extracting: train/labels/BikesHelmets51_png_jpg.rf.5d85238680dbebf69448d7c2c6dce2bc.txt  \n",
            " extracting: train/labels/BikesHelmets51_png_jpg.rf.70ac75060f2a4c19ccbed47a461b680e.txt  \n",
            " extracting: train/labels/BikesHelmets51_png_jpg.rf.744162bad08b98212a8d57dda212dd3f.txt  \n",
            " extracting: train/labels/BikesHelmets51_png_jpg.rf.8226f51a0cddee09f3de89b6840cc560.txt  \n",
            " extracting: train/labels/BikesHelmets51_png_jpg.rf.a5e626854785ac205807c872c980ba9b.txt  \n",
            " extracting: train/labels/BikesHelmets51_png_jpg.rf.b3bd83c54f8a421e2b38408649f485df.txt  \n",
            " extracting: train/labels/BikesHelmets51_png_jpg.rf.d2ec33c1220e312c45ce505968ff1438.txt  \n",
            " extracting: train/labels/BikesHelmets520_png_jpg.rf.1458fb1b47ebd3b737f35ee3c561b8b2.txt  \n",
            " extracting: train/labels/BikesHelmets520_png_jpg.rf.54e193150afb8949c83d8dba1c12f744.txt  \n",
            " extracting: train/labels/BikesHelmets520_png_jpg.rf.86c5d3c55eb907131434d8710886544a.txt  \n",
            " extracting: train/labels/BikesHelmets520_png_jpg.rf.971f20441de122e77db49d400409986c.txt  \n",
            " extracting: train/labels/BikesHelmets520_png_jpg.rf.b67632dd002fcfd8daed9ea9332ac694.txt  \n",
            " extracting: train/labels/BikesHelmets520_png_jpg.rf.c96de8a1bb360dbf38b7dfbd2668a05e.txt  \n",
            " extracting: train/labels/BikesHelmets520_png_jpg.rf.caa7754ee767c31bd7d64ced823febf6.txt  \n",
            " extracting: train/labels/BikesHelmets520_png_jpg.rf.eed36201c7a0fad41381d376dcce351d.txt  \n",
            " extracting: train/labels/BikesHelmets520_png_jpg.rf.f2f71d99ee35461c2142822c03b743ba.txt  \n",
            " extracting: train/labels/BikesHelmets522_png_jpg.rf.0b100d97f9f7d6134d6fd2993a853742.txt  \n",
            " extracting: train/labels/BikesHelmets522_png_jpg.rf.1dccfd5fc631b207d4122c292ba4db61.txt  \n",
            " extracting: train/labels/BikesHelmets522_png_jpg.rf.4902dc980022cbc9337740c2aca10e20.txt  \n",
            " extracting: train/labels/BikesHelmets522_png_jpg.rf.498b9e46b84df44aaf0ab50137ed49e5.txt  \n",
            " extracting: train/labels/BikesHelmets522_png_jpg.rf.5d4bc2c11604a3e50f77db5efba385a8.txt  \n",
            " extracting: train/labels/BikesHelmets522_png_jpg.rf.6b392daf614ce22ce13393b7dda31175.txt  \n",
            " extracting: train/labels/BikesHelmets522_png_jpg.rf.86afb400b882f4da2c4475e002913705.txt  \n",
            " extracting: train/labels/BikesHelmets522_png_jpg.rf.88688e431b1451cb3a7c0b7c61a0f2af.txt  \n",
            " extracting: train/labels/BikesHelmets522_png_jpg.rf.aa14cb9112071b14fd64318b9b50e741.txt  \n",
            " extracting: train/labels/BikesHelmets523_png_jpg.rf.05346e0a72d010fe76230e59b249ac6f.txt  \n",
            " extracting: train/labels/BikesHelmets523_png_jpg.rf.159c4c1b129a33d0a708e79345c470dd.txt  \n",
            " extracting: train/labels/BikesHelmets523_png_jpg.rf.501118bb3dd48eaa30d971e120cfe71c.txt  \n",
            " extracting: train/labels/BikesHelmets523_png_jpg.rf.60f8c959a726d712964af33a8b3d31a4.txt  \n",
            " extracting: train/labels/BikesHelmets523_png_jpg.rf.9540a1560c7753919ca9b26037087b20.txt  \n",
            " extracting: train/labels/BikesHelmets523_png_jpg.rf.a0675baed7ca22025dc1830ce7f241f6.txt  \n",
            " extracting: train/labels/BikesHelmets523_png_jpg.rf.b3b919520745f5b5e734e4de55042f3b.txt  \n",
            " extracting: train/labels/BikesHelmets523_png_jpg.rf.ebc1796565b2100927292ffdd69539f6.txt  \n",
            " extracting: train/labels/BikesHelmets523_png_jpg.rf.f8c4be53cb79bbf55acaeeabc6df0834.txt  \n",
            " extracting: train/labels/BikesHelmets524_png_jpg.rf.5a26522b0a222ab0cabc2455486eda11.txt  \n",
            " extracting: train/labels/BikesHelmets524_png_jpg.rf.6b8a38eca2b9327b37a780b8f005c802.txt  \n",
            " extracting: train/labels/BikesHelmets524_png_jpg.rf.809696d11858ec395808008d218b757b.txt  \n",
            " extracting: train/labels/BikesHelmets524_png_jpg.rf.89bb203836bd6ca62c83e2a5f77434a0.txt  \n",
            " extracting: train/labels/BikesHelmets524_png_jpg.rf.d9442b4c8bbcb1ea7e3250728ea1f8b4.txt  \n",
            " extracting: train/labels/BikesHelmets524_png_jpg.rf.fdbe9385884599d639bf800c4879eeab.txt  \n",
            " extracting: train/labels/BikesHelmets526_png_jpg.rf.41f0328da7b54a04763d616cd19f4547.txt  \n",
            " extracting: train/labels/BikesHelmets526_png_jpg.rf.522a4a26177abc82cd356607e55e2704.txt  \n",
            " extracting: train/labels/BikesHelmets526_png_jpg.rf.57420337145585b0d817486ba147f124.txt  \n",
            " extracting: train/labels/BikesHelmets526_png_jpg.rf.b89e1be69b590475f118c046b4bd9001.txt  \n",
            " extracting: train/labels/BikesHelmets526_png_jpg.rf.bed45678128ee8e0a377cf23988bd33b.txt  \n",
            " extracting: train/labels/BikesHelmets526_png_jpg.rf.c11347c2357b92a733faee4e360ef570.txt  \n",
            " extracting: train/labels/BikesHelmets526_png_jpg.rf.cbc3c42c2126c4cf61995578f664d3e7.txt  \n",
            " extracting: train/labels/BikesHelmets526_png_jpg.rf.d4b85ec1387cdbee7d7f1015a9332222.txt  \n",
            " extracting: train/labels/BikesHelmets526_png_jpg.rf.e0985f6a7f519ea467fb8040fb98147a.txt  \n",
            " extracting: train/labels/BikesHelmets529_png_jpg.rf.138d1838484ace804ba3e8ce0a251e08.txt  \n",
            " extracting: train/labels/BikesHelmets529_png_jpg.rf.38d2c69c7c1525e92d0f716c41888385.txt  \n",
            " extracting: train/labels/BikesHelmets529_png_jpg.rf.840b5b5d112a5e3da2e617f30f18860b.txt  \n",
            " extracting: train/labels/BikesHelmets529_png_jpg.rf.b9e4e4a2397bcb43669c38513cb1f85a.txt  \n",
            " extracting: train/labels/BikesHelmets529_png_jpg.rf.ba426aa1d3ecc7a53e33ef0b706d58fc.txt  \n",
            " extracting: train/labels/BikesHelmets529_png_jpg.rf.cddf990ea01966b35cea2db9dd173638.txt  \n",
            " extracting: train/labels/BikesHelmets52_png_jpg.rf.2340b174e96b1ef2091a651c3b45b0b8.txt  \n",
            " extracting: train/labels/BikesHelmets52_png_jpg.rf.2d09ff5ca48ac7992fe1b9fc3c5c9a87.txt  \n",
            " extracting: train/labels/BikesHelmets52_png_jpg.rf.41f9613cc6ab12f98a0244b0ee1651fb.txt  \n",
            " extracting: train/labels/BikesHelmets52_png_jpg.rf.52400e3a0483b207e8c476607ea2fd8b.txt  \n",
            " extracting: train/labels/BikesHelmets52_png_jpg.rf.6137264b9ddb0a484a5682ad0bb00be7.txt  \n",
            " extracting: train/labels/BikesHelmets52_png_jpg.rf.78e562fc54f780908720e42d35275c5c.txt  \n",
            " extracting: train/labels/BikesHelmets52_png_jpg.rf.96424253202b74de4cb76d23500b8219.txt  \n",
            " extracting: train/labels/BikesHelmets52_png_jpg.rf.aa93bc1c3df5c108978fe9b2107aa177.txt  \n",
            " extracting: train/labels/BikesHelmets52_png_jpg.rf.b5919b6dcf4d19be17a6fe22bce0400f.txt  \n",
            " extracting: train/labels/BikesHelmets530_png_jpg.rf.1f47b728fe28b94db0fb8f055c6c8268.txt  \n",
            " extracting: train/labels/BikesHelmets530_png_jpg.rf.2097d2a524c268e80c0d3da6873a1b3d.txt  \n",
            " extracting: train/labels/BikesHelmets530_png_jpg.rf.40fa49077638209cb70744fbdd34e50c.txt  \n",
            " extracting: train/labels/BikesHelmets530_png_jpg.rf.460b4e41f1520c875f5b5bc2fe8cf3a9.txt  \n",
            " extracting: train/labels/BikesHelmets530_png_jpg.rf.4d639c739cd6e516f8b8d45dd63421b3.txt  \n",
            " extracting: train/labels/BikesHelmets530_png_jpg.rf.86ce6be536782bce2042ea083afb309b.txt  \n",
            " extracting: train/labels/BikesHelmets530_png_jpg.rf.b28dd8e3dde094cad81c67fca9f8b86a.txt  \n",
            " extracting: train/labels/BikesHelmets530_png_jpg.rf.e9c1d4efe35030bb95788e771470d8c8.txt  \n",
            " extracting: train/labels/BikesHelmets530_png_jpg.rf.f3d127af0f7632cc1e0bdaf784bcb43d.txt  \n",
            " extracting: train/labels/BikesHelmets531_png_jpg.rf.06e003cb4ffbb4242e451a59c2874f27.txt  \n",
            " extracting: train/labels/BikesHelmets531_png_jpg.rf.08405ad2efb98b2ed3ab9e24a1b83346.txt  \n",
            " extracting: train/labels/BikesHelmets531_png_jpg.rf.0e8b76b68959a05338782178cf8cdbbe.txt  \n",
            " extracting: train/labels/BikesHelmets531_png_jpg.rf.2c2f1b674f360cb0e15e9771512cef42.txt  \n",
            " extracting: train/labels/BikesHelmets531_png_jpg.rf.36f756ffec57bb4ca4092552216d7055.txt  \n",
            " extracting: train/labels/BikesHelmets531_png_jpg.rf.51987be7401764681d95b7a465fc5375.txt  \n",
            " extracting: train/labels/BikesHelmets531_png_jpg.rf.a8cd197b9612804f5eecf901d2ece354.txt  \n",
            " extracting: train/labels/BikesHelmets531_png_jpg.rf.ea8c62c892d91c8c2747b163be73134e.txt  \n",
            " extracting: train/labels/BikesHelmets531_png_jpg.rf.f5243105876bec7adb2dc01bdb6c63d1.txt  \n",
            " extracting: train/labels/BikesHelmets532_png_jpg.rf.135eccbd737d674d0fbe3b9c62222b79.txt  \n",
            " extracting: train/labels/BikesHelmets532_png_jpg.rf.186546011b6246942dda1d26dc3deb4a.txt  \n",
            " extracting: train/labels/BikesHelmets532_png_jpg.rf.62d70eb59dcab4d600ae04d5f81b20f4.txt  \n",
            " extracting: train/labels/BikesHelmets532_png_jpg.rf.ab845ea91948bc4c326d3bce602cbd17.txt  \n",
            " extracting: train/labels/BikesHelmets532_png_jpg.rf.b138b4cb30eb228ec34b07ba2fbbedf9.txt  \n",
            " extracting: train/labels/BikesHelmets532_png_jpg.rf.b42be6dc1a119873ad3cd0d4b1dd7afd.txt  \n",
            " extracting: train/labels/BikesHelmets532_png_jpg.rf.b75a5c005926f27c4572006c290ad33a.txt  \n",
            " extracting: train/labels/BikesHelmets532_png_jpg.rf.f1a72db9dcaa01b9db8d0d4fad0c8fb1.txt  \n",
            " extracting: train/labels/BikesHelmets532_png_jpg.rf.ffc326fe1e391f605340324c23ea2000.txt  \n",
            " extracting: train/labels/BikesHelmets533_png_jpg.rf.1804d67bf1cf99a521a5a96bcaf44689.txt  \n",
            " extracting: train/labels/BikesHelmets533_png_jpg.rf.696cfe661d155b0a120dfd84ff36a56e.txt  \n",
            " extracting: train/labels/BikesHelmets533_png_jpg.rf.729eebcb07d21b50d4e9f91728c8ccff.txt  \n",
            " extracting: train/labels/BikesHelmets533_png_jpg.rf.72be8ee3c2aa6ad24fefdeeea1f401bd.txt  \n",
            " extracting: train/labels/BikesHelmets533_png_jpg.rf.b7579e7a7aadbde5e8073ee18626646a.txt  \n",
            " extracting: train/labels/BikesHelmets533_png_jpg.rf.f39d6439d38f1bfd776d2b21b6bbbc72.txt  \n",
            " extracting: train/labels/BikesHelmets535_png_jpg.rf.184ea5d33bac4f970c0de6a634efc48d.txt  \n",
            " extracting: train/labels/BikesHelmets535_png_jpg.rf.4defd9c25abd80c1fd7e927ca6d42719.txt  \n",
            " extracting: train/labels/BikesHelmets535_png_jpg.rf.60cb1d64af2a67c290ba99af26af5b91.txt  \n",
            " extracting: train/labels/BikesHelmets535_png_jpg.rf.76f710a3366818bbedaa99a96acb74c2.txt  \n",
            " extracting: train/labels/BikesHelmets535_png_jpg.rf.a5bcc48799c6e0de822e97acfd10e950.txt  \n",
            " extracting: train/labels/BikesHelmets535_png_jpg.rf.c2e32abd99837ac0134fe64d240a0758.txt  \n",
            " extracting: train/labels/BikesHelmets536_png_jpg.rf.5d3f9a201a8b844b47455f50e42b2144.txt  \n",
            " extracting: train/labels/BikesHelmets536_png_jpg.rf.699c2a35ae09af8c439211eeaaa1e9ef.txt  \n",
            " extracting: train/labels/BikesHelmets536_png_jpg.rf.a7eb3083339457b46e9156479f363b70.txt  \n",
            " extracting: train/labels/BikesHelmets536_png_jpg.rf.a92bf42c75b94a48996b68fdc0e972aa.txt  \n",
            " extracting: train/labels/BikesHelmets536_png_jpg.rf.b893fd8f4bce1cc9edd7bb976d6bfc8c.txt  \n",
            " extracting: train/labels/BikesHelmets536_png_jpg.rf.c41dc3b826213e81c0cd64bbbb7dd848.txt  \n",
            " extracting: train/labels/BikesHelmets536_png_jpg.rf.dff4eaa034e0172316e857dedffef645.txt  \n",
            " extracting: train/labels/BikesHelmets536_png_jpg.rf.ee9fbb21862d27cdf9be95fe33e9408d.txt  \n",
            " extracting: train/labels/BikesHelmets536_png_jpg.rf.feaa18598e8808ffe452c78e1815b610.txt  \n",
            " extracting: train/labels/BikesHelmets53_png_jpg.rf.1335f39bed2abcc4c1aafafb6ab1ebf8.txt  \n",
            " extracting: train/labels/BikesHelmets53_png_jpg.rf.1ce322c0d4d34a2eaff7972a81e3593e.txt  \n",
            " extracting: train/labels/BikesHelmets53_png_jpg.rf.a64f977ae434b88b8858e5f5c8765abd.txt  \n",
            " extracting: train/labels/BikesHelmets53_png_jpg.rf.b148083084fac44c8ef1bf4c3caf48ab.txt  \n",
            " extracting: train/labels/BikesHelmets53_png_jpg.rf.b1aec5aafdb17f54da4efcae4b512023.txt  \n",
            " extracting: train/labels/BikesHelmets53_png_jpg.rf.bfb93c298cf482cd541b21d655b45825.txt  \n",
            " extracting: train/labels/BikesHelmets541_png_jpg.rf.328603cb9446ac1d6d0d092dc7f138fb.txt  \n",
            " extracting: train/labels/BikesHelmets541_png_jpg.rf.6a905fee5100564347b7fd1dc5faf7c6.txt  \n",
            " extracting: train/labels/BikesHelmets541_png_jpg.rf.73e2fdc37b2dcec9f331fe677414430b.txt  \n",
            " extracting: train/labels/BikesHelmets541_png_jpg.rf.8ebca72795f7e9c35b12e15a202a6102.txt  \n",
            " extracting: train/labels/BikesHelmets541_png_jpg.rf.96a30b4ad607e6c2827b4d8894491a3f.txt  \n",
            " extracting: train/labels/BikesHelmets541_png_jpg.rf.a9f35cbd1ba977faad5ef5d15657a53c.txt  \n",
            " extracting: train/labels/BikesHelmets541_png_jpg.rf.da8e9ede88752fdd5800cd589c050ec0.txt  \n",
            " extracting: train/labels/BikesHelmets541_png_jpg.rf.f5a9333f3563a4fc2041bc2039d52433.txt  \n",
            " extracting: train/labels/BikesHelmets541_png_jpg.rf.f7aa255d802e29de33cdf3960f835ea0.txt  \n",
            " extracting: train/labels/BikesHelmets542_png_jpg.rf.1adacba5c10fcfe770e9d3f1dc05cd56.txt  \n",
            " extracting: train/labels/BikesHelmets542_png_jpg.rf.575f00e03dd332a3d9230c2fc0adcd6b.txt  \n",
            " extracting: train/labels/BikesHelmets542_png_jpg.rf.77849e49c1ae20b53e977cc13633956f.txt  \n",
            " extracting: train/labels/BikesHelmets542_png_jpg.rf.7d461f84bdec560bf3db643f4519b45c.txt  \n",
            " extracting: train/labels/BikesHelmets542_png_jpg.rf.980eb4cc6b23348888d3fe6650eaa310.txt  \n",
            " extracting: train/labels/BikesHelmets542_png_jpg.rf.a33cc5b95222c1cd91a6060f7a31c4d8.txt  \n",
            " extracting: train/labels/BikesHelmets545_png_jpg.rf.3166ccfcca127cf0dc4d1671cb01178d.txt  \n",
            " extracting: train/labels/BikesHelmets545_png_jpg.rf.40f70a98cfae9b2c64ba5ccd274212f8.txt  \n",
            " extracting: train/labels/BikesHelmets545_png_jpg.rf.9886316d3d383a6a9b70e5e641c9857b.txt  \n",
            " extracting: train/labels/BikesHelmets545_png_jpg.rf.f0c4e009bf2c8fb9493428f7f3910560.txt  \n",
            " extracting: train/labels/BikesHelmets545_png_jpg.rf.fadfc44ee82e90ea7b4b005a6b7100e2.txt  \n",
            " extracting: train/labels/BikesHelmets545_png_jpg.rf.fecf2f6273e562aeac33a8ba5f03c6ba.txt  \n",
            " extracting: train/labels/BikesHelmets547_png_jpg.rf.0ecde32249dbad3a1a7a6e93e36201d8.txt  \n",
            " extracting: train/labels/BikesHelmets547_png_jpg.rf.2dff22eb8c609dbe6bd04883f1701d1a.txt  \n",
            " extracting: train/labels/BikesHelmets547_png_jpg.rf.4b0bc87b9693801b6298a7ea60bb384a.txt  \n",
            " extracting: train/labels/BikesHelmets547_png_jpg.rf.958d2c118d4efe4c7d2ba993edff86fe.txt  \n",
            " extracting: train/labels/BikesHelmets547_png_jpg.rf.c989c489d8cfd64cefb84851f7634eba.txt  \n",
            " extracting: train/labels/BikesHelmets547_png_jpg.rf.dc9af17c28d4a100f77ed7944ccda90b.txt  \n",
            " extracting: train/labels/BikesHelmets549_png_jpg.rf.2c696a9db2a1cd3e3d7fd9084ca667a3.txt  \n",
            " extracting: train/labels/BikesHelmets549_png_jpg.rf.30b61f391506f8b5459e3431106d48bf.txt  \n",
            " extracting: train/labels/BikesHelmets549_png_jpg.rf.36379db6a32f7ebb9c4da072891a2fe3.txt  \n",
            " extracting: train/labels/BikesHelmets549_png_jpg.rf.606945bd7735cc2c8aeab10405a71e35.txt  \n",
            " extracting: train/labels/BikesHelmets549_png_jpg.rf.74c20eb2602f7eb11b3b45b4aac0fdb1.txt  \n",
            " extracting: train/labels/BikesHelmets549_png_jpg.rf.8505530c7552074bbb7eb4c61633bc19.txt  \n",
            " extracting: train/labels/BikesHelmets549_png_jpg.rf.efb701a87393b45979554ffc381adc67.txt  \n",
            " extracting: train/labels/BikesHelmets549_png_jpg.rf.f4472c73bd3ff51abb3bbdfef18b88b1.txt  \n",
            " extracting: train/labels/BikesHelmets549_png_jpg.rf.f67d108845b089feef490bfaebdc4fbb.txt  \n",
            " extracting: train/labels/BikesHelmets550_png_jpg.rf.13748562ab4ce4e4d99711eab990bd8f.txt  \n",
            " extracting: train/labels/BikesHelmets550_png_jpg.rf.37fa966b06dcb5f304cc0b0d4ec68fce.txt  \n",
            " extracting: train/labels/BikesHelmets550_png_jpg.rf.5ddd435059b43c7a0ad32cf74fd01dca.txt  \n",
            " extracting: train/labels/BikesHelmets550_png_jpg.rf.7dd54404b66f651381af84d520a86b7c.txt  \n",
            " extracting: train/labels/BikesHelmets550_png_jpg.rf.98df2a35a3d73043d9ecd3a24b5c39ce.txt  \n",
            " extracting: train/labels/BikesHelmets550_png_jpg.rf.baf98b415d1e594a2181e232aacc5f79.txt  \n",
            " extracting: train/labels/BikesHelmets550_png_jpg.rf.c7035129b6f08d890a6a36cca9cb1210.txt  \n",
            " extracting: train/labels/BikesHelmets550_png_jpg.rf.d7e9fafc96ea85f3fb6a04b7ea4968e7.txt  \n",
            " extracting: train/labels/BikesHelmets550_png_jpg.rf.f27f98bc9af5a1674efef5314313895b.txt  \n",
            " extracting: train/labels/BikesHelmets551_png_jpg.rf.4d8fd8de5be9637ebfbbbee460c25ce9.txt  \n",
            " extracting: train/labels/BikesHelmets551_png_jpg.rf.bddeedc5228b92f5555b99bdad9c8d4d.txt  \n",
            " extracting: train/labels/BikesHelmets551_png_jpg.rf.ea214ff2431a5f7043f5ec4e09167838.txt  \n",
            " extracting: train/labels/BikesHelmets551_png_jpg.rf.ec79cdce5adbf21bb6c380fa7396bc77.txt  \n",
            " extracting: train/labels/BikesHelmets551_png_jpg.rf.f37bc845e55d0ce4765fbbf54062f9ab.txt  \n",
            " extracting: train/labels/BikesHelmets551_png_jpg.rf.f736a76dde5f19b4d1e959b2c2e1d251.txt  \n",
            " extracting: train/labels/BikesHelmets555_png_jpg.rf.60327199d36acdef48728dc7dfc74c0d.txt  \n",
            " extracting: train/labels/BikesHelmets555_png_jpg.rf.7ff2bb6ddb6cbdff77231c552e90fbf8.txt  \n",
            " extracting: train/labels/BikesHelmets555_png_jpg.rf.8daa11e49047f9934648af01b1517594.txt  \n",
            " extracting: train/labels/BikesHelmets555_png_jpg.rf.941acbb08fa154b813a60b083aeef3b9.txt  \n",
            " extracting: train/labels/BikesHelmets555_png_jpg.rf.acbe27bbeabf2605695547d13b4c0f86.txt  \n",
            " extracting: train/labels/BikesHelmets555_png_jpg.rf.d46ae04c93dedd720e17cf3d304a8831.txt  \n",
            " extracting: train/labels/BikesHelmets555_png_jpg.rf.e848d3eac94287ac727f52a7573af07f.txt  \n",
            " extracting: train/labels/BikesHelmets555_png_jpg.rf.f9f96df4a9fbc35125ba05ebb2b7ccb1.txt  \n",
            " extracting: train/labels/BikesHelmets555_png_jpg.rf.fc65942b084edc5db346bc51902a3528.txt  \n",
            " extracting: train/labels/BikesHelmets557_png_jpg.rf.1451f9526da37a683ffa368f3cebfce6.txt  \n",
            " extracting: train/labels/BikesHelmets557_png_jpg.rf.21dc9b81e11beaa113799f0c412ea30b.txt  \n",
            " extracting: train/labels/BikesHelmets557_png_jpg.rf.33503c6d5c66d83e80a32b57e2ab5833.txt  \n",
            " extracting: train/labels/BikesHelmets557_png_jpg.rf.3d65c9ba7fb425ff057178877278824f.txt  \n",
            " extracting: train/labels/BikesHelmets557_png_jpg.rf.775f1b801a8f440962426080f1d9810e.txt  \n",
            " extracting: train/labels/BikesHelmets557_png_jpg.rf.ce027ddbed7eada5d471a4c720d68be6.txt  \n",
            " extracting: train/labels/BikesHelmets557_png_jpg.rf.d86fc520ec43fb064f8c23f2669e0dc2.txt  \n",
            " extracting: train/labels/BikesHelmets557_png_jpg.rf.e0ea9bb17e4d36b8c0c29f761842acfd.txt  \n",
            " extracting: train/labels/BikesHelmets557_png_jpg.rf.f91963583687437f37c3fe4f1023db5d.txt  \n",
            " extracting: train/labels/BikesHelmets558_png_jpg.rf.330c54a0e54d263014a831fe45f6456e.txt  \n",
            " extracting: train/labels/BikesHelmets558_png_jpg.rf.51a873dfb2ab30d7ff4e0c5c2342d9f6.txt  \n",
            " extracting: train/labels/BikesHelmets558_png_jpg.rf.55e5450e35041c8a8a8affbe37d2085a.txt  \n",
            " extracting: train/labels/BikesHelmets558_png_jpg.rf.56d61ee8abeb247bc681b3932dc273b1.txt  \n",
            " extracting: train/labels/BikesHelmets558_png_jpg.rf.6fb0124752b7b983747b87241beca1f8.txt  \n",
            " extracting: train/labels/BikesHelmets558_png_jpg.rf.8572b8127068ece6304c17ea70b57195.txt  \n",
            " extracting: train/labels/BikesHelmets558_png_jpg.rf.92a8693ff37a700911993de24b67b186.txt  \n",
            " extracting: train/labels/BikesHelmets558_png_jpg.rf.cf6fbe48cc2c0c5988c570fa437bf875.txt  \n",
            " extracting: train/labels/BikesHelmets558_png_jpg.rf.ee3abe86162104e8576b37848e6e4a9b.txt  \n",
            " extracting: train/labels/BikesHelmets559_png_jpg.rf.464723972ed0b88a2c2f181d54258da0.txt  \n",
            " extracting: train/labels/BikesHelmets559_png_jpg.rf.4f194b274ccfa47c4d7aca6084fbf97e.txt  \n",
            " extracting: train/labels/BikesHelmets559_png_jpg.rf.8142ae0cbef38908b6a4e5926e9ccb76.txt  \n",
            " extracting: train/labels/BikesHelmets559_png_jpg.rf.82a6e5657fac3d00b9a96a0f12751e10.txt  \n",
            " extracting: train/labels/BikesHelmets559_png_jpg.rf.a62ff7f1278d02d377462751e28788b6.txt  \n",
            " extracting: train/labels/BikesHelmets559_png_jpg.rf.b24638735115ece4ac366648f44fa6bc.txt  \n",
            " extracting: train/labels/BikesHelmets559_png_jpg.rf.b37d6d711f2026c3d48b64f85a2b5068.txt  \n",
            " extracting: train/labels/BikesHelmets559_png_jpg.rf.d6b873c3b996a20777af52d927fc43b0.txt  \n",
            " extracting: train/labels/BikesHelmets559_png_jpg.rf.ebac37d722c36af06bd4faac17706131.txt  \n",
            " extracting: train/labels/BikesHelmets562_png_jpg.rf.00a2b6443dbcb07499c97328808d2979.txt  \n",
            " extracting: train/labels/BikesHelmets562_png_jpg.rf.1656e652a9a07e2c38d1dec69671e9a4.txt  \n",
            " extracting: train/labels/BikesHelmets562_png_jpg.rf.3d827097ea2ce1387603e04d24543bb3.txt  \n",
            " extracting: train/labels/BikesHelmets562_png_jpg.rf.3da2301c17ca55221d26c0fd46315251.txt  \n",
            " extracting: train/labels/BikesHelmets562_png_jpg.rf.3e11037c66e2327b3ea348e7d6d6b0f7.txt  \n",
            " extracting: train/labels/BikesHelmets562_png_jpg.rf.69b91ab1ab853df8d525ac323cd14cc3.txt  \n",
            " extracting: train/labels/BikesHelmets562_png_jpg.rf.a371d04a65c1c1746cd8dc323b1bb996.txt  \n",
            " extracting: train/labels/BikesHelmets562_png_jpg.rf.a3b25b2d40e03a9245cdecd80508cb64.txt  \n",
            " extracting: train/labels/BikesHelmets562_png_jpg.rf.d011aff77a2747f229015780faecb2f4.txt  \n",
            " extracting: train/labels/BikesHelmets563_png_jpg.rf.0ca2459281074d3d32fe523923b5ab28.txt  \n",
            " extracting: train/labels/BikesHelmets563_png_jpg.rf.132a305acc66c5b04d3a35b02e4b2109.txt  \n",
            " extracting: train/labels/BikesHelmets563_png_jpg.rf.1b43350fc987ff8654bd15a3524dd66c.txt  \n",
            " extracting: train/labels/BikesHelmets563_png_jpg.rf.2d6cb1401eb2ba380dae9d80120ca23d.txt  \n",
            " extracting: train/labels/BikesHelmets563_png_jpg.rf.3c7f86c2cb1ec47370e4e6078f2a68f1.txt  \n",
            " extracting: train/labels/BikesHelmets563_png_jpg.rf.53a1788fa4ae066b1b281a4f970da996.txt  \n",
            " extracting: train/labels/BikesHelmets563_png_jpg.rf.7a9a45931176131e0801c6715db3e3ec.txt  \n",
            " extracting: train/labels/BikesHelmets563_png_jpg.rf.8118a08c77b542352d70b9d6d0330267.txt  \n",
            " extracting: train/labels/BikesHelmets563_png_jpg.rf.9974a27f47855098bd77bc5de973c2f4.txt  \n",
            " extracting: train/labels/BikesHelmets564_png_jpg.rf.208371ca66c7abcaaf8e5e1cd9e1b444.txt  \n",
            " extracting: train/labels/BikesHelmets564_png_jpg.rf.23e9eab0eb09e8b2b35e0ba95393838b.txt  \n",
            " extracting: train/labels/BikesHelmets564_png_jpg.rf.44723f34cea560e6d7817808214a79fd.txt  \n",
            " extracting: train/labels/BikesHelmets564_png_jpg.rf.d2744cac349f64288308a1cb6d10cde3.txt  \n",
            " extracting: train/labels/BikesHelmets564_png_jpg.rf.e28d9ecd107136757b9ee57d8dd0ecee.txt  \n",
            " extracting: train/labels/BikesHelmets564_png_jpg.rf.fd7edf541e18303b847cea7df99f972e.txt  \n",
            " extracting: train/labels/BikesHelmets565_png_jpg.rf.0db7762e44eb44cc68f505115b027d4c.txt  \n",
            " extracting: train/labels/BikesHelmets565_png_jpg.rf.99c0877d6ffcfac69d66602b0e4e3e84.txt  \n",
            " extracting: train/labels/BikesHelmets565_png_jpg.rf.9c2f90f6d22497bfcc0dd041dc8704f2.txt  \n",
            " extracting: train/labels/BikesHelmets565_png_jpg.rf.9c7ba9222641d9516631cdb007d5c4b1.txt  \n",
            " extracting: train/labels/BikesHelmets565_png_jpg.rf.a1cf9715e0434b17e94db62dfddd3866.txt  \n",
            " extracting: train/labels/BikesHelmets565_png_jpg.rf.bab6dc7d2c8944cb86bcb71d1104274b.txt  \n",
            " extracting: train/labels/BikesHelmets565_png_jpg.rf.bf8c31790993f1978c0325022d8def2a.txt  \n",
            " extracting: train/labels/BikesHelmets565_png_jpg.rf.cf00bd4cb7c0f2328492010649500198.txt  \n",
            " extracting: train/labels/BikesHelmets565_png_jpg.rf.ff50288432ae7c970a6e91ab0561e5d1.txt  \n",
            " extracting: train/labels/BikesHelmets569_png_jpg.rf.0b3d3ccfcc16112502586aa47b8c7bd8.txt  \n",
            " extracting: train/labels/BikesHelmets569_png_jpg.rf.0fbb1ac83885c76bdd073b0636f6c8bf.txt  \n",
            " extracting: train/labels/BikesHelmets569_png_jpg.rf.5947f2aff6c48382e886463ddbf4a5ef.txt  \n",
            " extracting: train/labels/BikesHelmets569_png_jpg.rf.730da2a3409824d0b32e8c2bf656a155.txt  \n",
            " extracting: train/labels/BikesHelmets569_png_jpg.rf.9233448f883c229a4521e528e8dfb670.txt  \n",
            " extracting: train/labels/BikesHelmets569_png_jpg.rf.928c68de652886268a3459575154ae63.txt  \n",
            " extracting: train/labels/BikesHelmets569_png_jpg.rf.a9fa612ef7e64736f31c5780b386037b.txt  \n",
            " extracting: train/labels/BikesHelmets569_png_jpg.rf.da86147b1a48563363ca062cf2cdb53f.txt  \n",
            " extracting: train/labels/BikesHelmets569_png_jpg.rf.dc7f98f28fb315e48a0ea1dfb9021292.txt  \n",
            " extracting: train/labels/BikesHelmets56_png_jpg.rf.35eb6f63a2406922c622c1a7ed555626.txt  \n",
            " extracting: train/labels/BikesHelmets56_png_jpg.rf.78240bf1856ee0e63944b776c121d880.txt  \n",
            " extracting: train/labels/BikesHelmets56_png_jpg.rf.91838c61bc1513e5b1c1b11ba708e578.txt  \n",
            " extracting: train/labels/BikesHelmets56_png_jpg.rf.94bdefd10d822c24a1cf3e076d1e49db.txt  \n",
            " extracting: train/labels/BikesHelmets56_png_jpg.rf.9a36d8e1b5e0d7d9e72ac8256f0271ce.txt  \n",
            " extracting: train/labels/BikesHelmets56_png_jpg.rf.bcafcc621a88e284552fb2b42c6ef045.txt  \n",
            " extracting: train/labels/BikesHelmets56_png_jpg.rf.c8bfabb5f1bec2fa4de1b413a0aac013.txt  \n",
            " extracting: train/labels/BikesHelmets56_png_jpg.rf.cccf64e279a848b6450d4900e7e92a16.txt  \n",
            " extracting: train/labels/BikesHelmets56_png_jpg.rf.e96a97cc1a0e89c4f4edcfbf84d3db69.txt  \n",
            " extracting: train/labels/BikesHelmets570_png_jpg.rf.4a18d504be02b4a5e1121d1905a31a28.txt  \n",
            " extracting: train/labels/BikesHelmets570_png_jpg.rf.656389b7bbd657610e6126d8422197b3.txt  \n",
            " extracting: train/labels/BikesHelmets570_png_jpg.rf.90d268120d08b43dc7437835420ad80f.txt  \n",
            " extracting: train/labels/BikesHelmets570_png_jpg.rf.a3f91c3843dbb16e3956f6fe804157ca.txt  \n",
            " extracting: train/labels/BikesHelmets570_png_jpg.rf.b08d97d50384af52ba5a1a45b3bcb4d3.txt  \n",
            " extracting: train/labels/BikesHelmets570_png_jpg.rf.c173b24e774aa449e38716addb286c70.txt  \n",
            " extracting: train/labels/BikesHelmets570_png_jpg.rf.de5e1067fb56fd0f5d20964e06cd551c.txt  \n",
            " extracting: train/labels/BikesHelmets570_png_jpg.rf.e92a9132b6c9befbf555e17b877e5a0c.txt  \n",
            " extracting: train/labels/BikesHelmets570_png_jpg.rf.ebd18c9124cd8b442689ae304f8e5016.txt  \n",
            " extracting: train/labels/BikesHelmets572_png_jpg.rf.0e6545b94316ccdb098d9d7854c2525b.txt  \n",
            " extracting: train/labels/BikesHelmets572_png_jpg.rf.1a3e5b543c6cac78cd0831e4357f34bb.txt  \n",
            " extracting: train/labels/BikesHelmets572_png_jpg.rf.525f110e75019503b6f201870cee51a8.txt  \n",
            " extracting: train/labels/BikesHelmets572_png_jpg.rf.ba11077949b5f2459ee98e35c15e4511.txt  \n",
            " extracting: train/labels/BikesHelmets572_png_jpg.rf.ba2cfe8442029c82d9ed855920e6ab41.txt  \n",
            " extracting: train/labels/BikesHelmets572_png_jpg.rf.e20901b5fa48e6dfee35c90c7c8728d5.txt  \n",
            " extracting: train/labels/BikesHelmets572_png_jpg.rf.e56e6af11f8914b0f0b60ace269872b9.txt  \n",
            " extracting: train/labels/BikesHelmets572_png_jpg.rf.f8f5a9242129d6e6b00258516e6f8ea8.txt  \n",
            " extracting: train/labels/BikesHelmets572_png_jpg.rf.f924e4fb45b9d5c2231333cd925e5616.txt  \n",
            " extracting: train/labels/BikesHelmets576_png_jpg.rf.06642a6aa0bf940eb7a3a24f84e2093d.txt  \n",
            " extracting: train/labels/BikesHelmets576_png_jpg.rf.123e4bb23b995a24f55203bbf03192a6.txt  \n",
            " extracting: train/labels/BikesHelmets576_png_jpg.rf.20dc1040fbb5f258f297d44726b875d1.txt  \n",
            " extracting: train/labels/BikesHelmets576_png_jpg.rf.34d7ef73ca945ebf2864dec9581c591d.txt  \n",
            " extracting: train/labels/BikesHelmets576_png_jpg.rf.40105fd10f0409abe55e65f22e619cb7.txt  \n",
            " extracting: train/labels/BikesHelmets576_png_jpg.rf.9d59b456307345a76b3c4ff4089ea2ca.txt  \n",
            " extracting: train/labels/BikesHelmets576_png_jpg.rf.a1d7046227a9ad12d769d28759e441f3.txt  \n",
            " extracting: train/labels/BikesHelmets576_png_jpg.rf.cf22d0b0691f3cf8b0219787c9c8bc05.txt  \n",
            " extracting: train/labels/BikesHelmets576_png_jpg.rf.da3ec935a940ccf8c07af746a6c53186.txt  \n",
            " extracting: train/labels/BikesHelmets57_png_jpg.rf.2e6f5d6486dd67f9cf7e34d228640a05.txt  \n",
            " extracting: train/labels/BikesHelmets57_png_jpg.rf.40ed778e92d552a95b09ceb97da23dcd.txt  \n",
            " extracting: train/labels/BikesHelmets57_png_jpg.rf.5991c3233cd30267c7ec1d2faed90154.txt  \n",
            " extracting: train/labels/BikesHelmets57_png_jpg.rf.67a5b1c977eca01c9a70115bbcd25ab4.txt  \n",
            " extracting: train/labels/BikesHelmets57_png_jpg.rf.88ceee7888f10bcc730cebe9cdf7d8f7.txt  \n",
            " extracting: train/labels/BikesHelmets57_png_jpg.rf.9b4644d7ba3d6ee828e118ba1f943c31.txt  \n",
            " extracting: train/labels/BikesHelmets580_png_jpg.rf.082cb8447d9168e57fbd386bf95f2eab.txt  \n",
            " extracting: train/labels/BikesHelmets580_png_jpg.rf.2d63bb1540f30f0b19f56768ea811983.txt  \n",
            " extracting: train/labels/BikesHelmets580_png_jpg.rf.2fd2c78d1a02547674c27720a4fe271a.txt  \n",
            " extracting: train/labels/BikesHelmets580_png_jpg.rf.2ffeb354704211e511b28c5256e0041d.txt  \n",
            " extracting: train/labels/BikesHelmets580_png_jpg.rf.572d9398a41dfc6d9393d34fdf42d18b.txt  \n",
            " extracting: train/labels/BikesHelmets580_png_jpg.rf.683b2bbda070915f7e19f69375d69ee6.txt  \n",
            " extracting: train/labels/BikesHelmets580_png_jpg.rf.96519271381559b916906760dc5863c1.txt  \n",
            " extracting: train/labels/BikesHelmets580_png_jpg.rf.e00e56688a0f287ff8bc62d4bf7d4313.txt  \n",
            " extracting: train/labels/BikesHelmets580_png_jpg.rf.ed7e7b8419a0581377c544e08ebd8a41.txt  \n",
            " extracting: train/labels/BikesHelmets582_png_jpg.rf.0e56ad9039e829831db0a0748fec847e.txt  \n",
            " extracting: train/labels/BikesHelmets582_png_jpg.rf.5cdf74f3d473b4b494abcca250cfa850.txt  \n",
            " extracting: train/labels/BikesHelmets582_png_jpg.rf.7137d86c1e21833f29cfbbb25838e304.txt  \n",
            " extracting: train/labels/BikesHelmets582_png_jpg.rf.75851ea9fbca1b92eb30a1cdd5945a66.txt  \n",
            " extracting: train/labels/BikesHelmets582_png_jpg.rf.9749741c5e24aa6659bebc22bdc4ec65.txt  \n",
            " extracting: train/labels/BikesHelmets582_png_jpg.rf.977ad914c29fa8e35c92eac279938746.txt  \n",
            " extracting: train/labels/BikesHelmets582_png_jpg.rf.d02c67c31db0a70093589459d8448eff.txt  \n",
            " extracting: train/labels/BikesHelmets582_png_jpg.rf.e57a9457f37aecb9aaccc1bd12ba11e8.txt  \n",
            " extracting: train/labels/BikesHelmets582_png_jpg.rf.fba928deb2139ae67af0cbf2795bba31.txt  \n",
            " extracting: train/labels/BikesHelmets584_png_jpg.rf.020a45f5e5aeec1f8d367d16b993d1f0.txt  \n",
            " extracting: train/labels/BikesHelmets584_png_jpg.rf.43e9809457455011dcfc37abc361ae3e.txt  \n",
            " extracting: train/labels/BikesHelmets584_png_jpg.rf.4aa2e474d6a01f4e361ca7c20e7dd8f6.txt  \n",
            " extracting: train/labels/BikesHelmets584_png_jpg.rf.5df202c5ad016e8c98c3d12c0eec14c8.txt  \n",
            " extracting: train/labels/BikesHelmets584_png_jpg.rf.8815b2cfebdfcd1cb8c019ce96f8d65b.txt  \n",
            " extracting: train/labels/BikesHelmets584_png_jpg.rf.db9301ac4c9288642f5d2a8a9fb48653.txt  \n",
            " extracting: train/labels/BikesHelmets586_png_jpg.rf.05a7d8059f3f44ad93bab2d3ccca431f.txt  \n",
            " extracting: train/labels/BikesHelmets586_png_jpg.rf.0be42ff2243a5a6982c62690ec7ac14d.txt  \n",
            " extracting: train/labels/BikesHelmets586_png_jpg.rf.2f8da7cf06bd49b56a3777a210759b82.txt  \n",
            " extracting: train/labels/BikesHelmets586_png_jpg.rf.414e9d406305c6a74d0580d2c8929cb9.txt  \n",
            " extracting: train/labels/BikesHelmets586_png_jpg.rf.5cf97a4929575ed3ed349f72ff6fce01.txt  \n",
            " extracting: train/labels/BikesHelmets586_png_jpg.rf.7b7a3d35ca1a97e15f4a7cd316f874b8.txt  \n",
            " extracting: train/labels/BikesHelmets586_png_jpg.rf.8e09cf3c58d738e1bbea48035a40c422.txt  \n",
            " extracting: train/labels/BikesHelmets586_png_jpg.rf.9e9184a6e98cd434488a1d9d5e78a549.txt  \n",
            " extracting: train/labels/BikesHelmets586_png_jpg.rf.e4efbc351378edc9b27b255cc0f0bf22.txt  \n",
            " extracting: train/labels/BikesHelmets589_png_jpg.rf.025bf5dc44a8dc829aa39def9065dd6d.txt  \n",
            " extracting: train/labels/BikesHelmets589_png_jpg.rf.2b28d1b9db28f3527382afc686c3e719.txt  \n",
            " extracting: train/labels/BikesHelmets589_png_jpg.rf.33689f59c9312670433c6853ea062e2c.txt  \n",
            " extracting: train/labels/BikesHelmets589_png_jpg.rf.436da2bf7cc023a6c5fdd368f8aa9b91.txt  \n",
            " extracting: train/labels/BikesHelmets589_png_jpg.rf.46ee4fd03b647d3ea934cb4d3575b0e7.txt  \n",
            " extracting: train/labels/BikesHelmets589_png_jpg.rf.830eeef2b6f1de1515a2c7029eceecba.txt  \n",
            " extracting: train/labels/BikesHelmets589_png_jpg.rf.a4f33a139f262ec24dc93ac39972e0c3.txt  \n",
            " extracting: train/labels/BikesHelmets589_png_jpg.rf.b523c9f9f03543ae34b75a87c8ac35ef.txt  \n",
            " extracting: train/labels/BikesHelmets589_png_jpg.rf.de7792b4ca12e92490940b3fe987bce7.txt  \n",
            " extracting: train/labels/BikesHelmets58_png_jpg.rf.2027ffc7b6b1c05df4fec08432aeddc4.txt  \n",
            " extracting: train/labels/BikesHelmets58_png_jpg.rf.2d790ee5a10d711597ea066cce817f77.txt  \n",
            " extracting: train/labels/BikesHelmets58_png_jpg.rf.4a11c6ef82d4f14f0cf7680b055fcaf7.txt  \n",
            " extracting: train/labels/BikesHelmets58_png_jpg.rf.4d917ae586f3b3c75b73d69274cec99a.txt  \n",
            " extracting: train/labels/BikesHelmets58_png_jpg.rf.61f9e80a251c0c082c181c8115042708.txt  \n",
            " extracting: train/labels/BikesHelmets58_png_jpg.rf.7dcb6d50b259f80486ab9673e76a8d5a.txt  \n",
            " extracting: train/labels/BikesHelmets58_png_jpg.rf.8316efa540b152c653d84384504ad86d.txt  \n",
            " extracting: train/labels/BikesHelmets58_png_jpg.rf.cbdc5679b4f99d4fec28d2345dfc3f22.txt  \n",
            " extracting: train/labels/BikesHelmets58_png_jpg.rf.d262d6ec1b5248c967a8a928c501cebb.txt  \n",
            " extracting: train/labels/BikesHelmets591_png_jpg.rf.12576784ceeb51f7aad23495db4ed70c.txt  \n",
            " extracting: train/labels/BikesHelmets591_png_jpg.rf.41bd50f4cddd94ca6ade839e77987e5a.txt  \n",
            " extracting: train/labels/BikesHelmets591_png_jpg.rf.7077211df3734086e94d2b5b6450d5ac.txt  \n",
            " extracting: train/labels/BikesHelmets591_png_jpg.rf.86402ad5389dbfe97a956ca0b8b14b9b.txt  \n",
            " extracting: train/labels/BikesHelmets591_png_jpg.rf.9582fa85d1b6c88a2bf5ef6ea78d43be.txt  \n",
            " extracting: train/labels/BikesHelmets591_png_jpg.rf.cd8497fc5560d2f3f9a6b294e3e4c97d.txt  \n",
            " extracting: train/labels/BikesHelmets592_png_jpg.rf.1e5d25f76350d6c5f8fd01f0ecf25f10.txt  \n",
            " extracting: train/labels/BikesHelmets592_png_jpg.rf.451b1bf1b11a0227297ce7e1f00428a8.txt  \n",
            " extracting: train/labels/BikesHelmets592_png_jpg.rf.8b76601c52fe10781b5d93e65bd32492.txt  \n",
            " extracting: train/labels/BikesHelmets592_png_jpg.rf.a3206faa9aac29025499f0a7a9d0a6bb.txt  \n",
            " extracting: train/labels/BikesHelmets592_png_jpg.rf.b92a65e425c2305cba3643aa7084e908.txt  \n",
            " extracting: train/labels/BikesHelmets592_png_jpg.rf.c8da9eb47d549343c70b47237e47c460.txt  \n",
            " extracting: train/labels/BikesHelmets593_png_jpg.rf.15b3610782ffcb1f26a29828c8ca7d68.txt  \n",
            " extracting: train/labels/BikesHelmets593_png_jpg.rf.3327af083df1941e04d816fdda892a80.txt  \n",
            " extracting: train/labels/BikesHelmets593_png_jpg.rf.55dd77e02b8f64bb6af54074e38111fe.txt  \n",
            " extracting: train/labels/BikesHelmets593_png_jpg.rf.84fc5304d5f6a37dca54e0e075f6c6e4.txt  \n",
            " extracting: train/labels/BikesHelmets593_png_jpg.rf.c37f9dacf9b8adcdf0412d610c49f2fb.txt  \n",
            " extracting: train/labels/BikesHelmets593_png_jpg.rf.c6e1b3eb0aa44a85a722fa79a18ac01b.txt  \n",
            " extracting: train/labels/BikesHelmets593_png_jpg.rf.d5570ff4b9a4b480cd4011075ea99f47.txt  \n",
            " extracting: train/labels/BikesHelmets593_png_jpg.rf.db6024a8d10157528a8b446f7ef58ae5.txt  \n",
            " extracting: train/labels/BikesHelmets593_png_jpg.rf.fdd4bb7efd29d6d5b6d66e20849db73d.txt  \n",
            " extracting: train/labels/BikesHelmets594_png_jpg.rf.3c8dab437fcd6163df7902ff9be19820.txt  \n",
            " extracting: train/labels/BikesHelmets594_png_jpg.rf.56e56ecaf4de3ee0310cda0bfddc2c3d.txt  \n",
            " extracting: train/labels/BikesHelmets594_png_jpg.rf.635c72b2851d76ac05048d926be29111.txt  \n",
            " extracting: train/labels/BikesHelmets594_png_jpg.rf.7d8719ede3c9c729c8a4006c4d518cfb.txt  \n",
            " extracting: train/labels/BikesHelmets594_png_jpg.rf.93266be3276bcc6699aaec4d1d24d6a1.txt  \n",
            " extracting: train/labels/BikesHelmets594_png_jpg.rf.aac91211638efff406d48f6cc3c5b5e4.txt  \n",
            " extracting: train/labels/BikesHelmets594_png_jpg.rf.cfb638933b961c574c2cc173ae9e27c2.txt  \n",
            " extracting: train/labels/BikesHelmets594_png_jpg.rf.e5cf48a9478a582170b4bc2eadd8f0f6.txt  \n",
            " extracting: train/labels/BikesHelmets594_png_jpg.rf.ef2b4d8e0ebedd87b625c81068304a39.txt  \n",
            " extracting: train/labels/BikesHelmets595_png_jpg.rf.406bec3bcfdf11357f07656648e6b769.txt  \n",
            " extracting: train/labels/BikesHelmets595_png_jpg.rf.6582b1de823382ac8289e786fdc6f975.txt  \n",
            " extracting: train/labels/BikesHelmets595_png_jpg.rf.88f53d1d04e1c57c71d8a24bb7dd706e.txt  \n",
            " extracting: train/labels/BikesHelmets595_png_jpg.rf.9c2aeff3a31693871012ff5dab44e848.txt  \n",
            " extracting: train/labels/BikesHelmets595_png_jpg.rf.bd0d7f2b9f5aba118e2cf998897f2af9.txt  \n",
            " extracting: train/labels/BikesHelmets595_png_jpg.rf.c0a38cf20b3a1c57e149b794eb93ed99.txt  \n",
            " extracting: train/labels/BikesHelmets595_png_jpg.rf.c1d0acc5db38aace0e02e65cc57330de.txt  \n",
            " extracting: train/labels/BikesHelmets595_png_jpg.rf.cf5f95c99ffd6a24ff4cf3057364eefb.txt  \n",
            " extracting: train/labels/BikesHelmets595_png_jpg.rf.ee3c460320a44938d318840f8b8c448f.txt  \n",
            " extracting: train/labels/BikesHelmets597_png_jpg.rf.1d816eaedc64e418f63419d06fe8c533.txt  \n",
            " extracting: train/labels/BikesHelmets597_png_jpg.rf.22d1edf75cd224f6170325e1040cf9a5.txt  \n",
            " extracting: train/labels/BikesHelmets597_png_jpg.rf.257393f0e9a636763a05e5f5face7deb.txt  \n",
            " extracting: train/labels/BikesHelmets597_png_jpg.rf.4dc6c5afffe0d7bb2776e42cbd04b3bf.txt  \n",
            " extracting: train/labels/BikesHelmets597_png_jpg.rf.8d13ecf34213f57308d8759ae433dc57.txt  \n",
            " extracting: train/labels/BikesHelmets597_png_jpg.rf.8eb128c80fe721200f1442b5e6716f0d.txt  \n",
            " extracting: train/labels/BikesHelmets597_png_jpg.rf.c6149d9bacd65b529760f00b951fff44.txt  \n",
            " extracting: train/labels/BikesHelmets597_png_jpg.rf.e75a1f60091c26c45afb1089407ddb86.txt  \n",
            " extracting: train/labels/BikesHelmets597_png_jpg.rf.f8bfeb2e7cd2b86be9d30e350140f9ed.txt  \n",
            " extracting: train/labels/BikesHelmets598_png_jpg.rf.06f10b23ce4964e3dbb86c2397c48a79.txt  \n",
            " extracting: train/labels/BikesHelmets598_png_jpg.rf.1178c526776d53a66da29fac4d2cbbb8.txt  \n",
            " extracting: train/labels/BikesHelmets598_png_jpg.rf.4ef8fb588b006a8a9d8bea5584070045.txt  \n",
            " extracting: train/labels/BikesHelmets598_png_jpg.rf.99c322ada819e2eda7e4435f8afc992e.txt  \n",
            " extracting: train/labels/BikesHelmets598_png_jpg.rf.acfaa5450515ed53eabd0330259ddb39.txt  \n",
            " extracting: train/labels/BikesHelmets598_png_jpg.rf.c56d878973ab84ddf79d1634e51eee80.txt  \n",
            " extracting: train/labels/BikesHelmets598_png_jpg.rf.e5535bd3b9c79fe14c7eb0b0f27f3aff.txt  \n",
            " extracting: train/labels/BikesHelmets598_png_jpg.rf.e6bef71e5795cb0db50e777da3f17a54.txt  \n",
            " extracting: train/labels/BikesHelmets598_png_jpg.rf.fbf888d9ce8751189e7050834a1119c3.txt  \n",
            " extracting: train/labels/BikesHelmets59_png_jpg.rf.00e4b107ef6709b8ba5e5578b6dbbe1e.txt  \n",
            " extracting: train/labels/BikesHelmets59_png_jpg.rf.0c8292a4b175772b0aaf48d3b5da278a.txt  \n",
            " extracting: train/labels/BikesHelmets59_png_jpg.rf.5edad6d31f0eb66eadecdfd812bfd760.txt  \n",
            " extracting: train/labels/BikesHelmets59_png_jpg.rf.6f549b1c02d0d2594fb59d90443dce2d.txt  \n",
            " extracting: train/labels/BikesHelmets59_png_jpg.rf.8470daf5b6e3dbf56702f7e48b55f073.txt  \n",
            " extracting: train/labels/BikesHelmets59_png_jpg.rf.85607fe9c900f32c21d417284919b851.txt  \n",
            " extracting: train/labels/BikesHelmets59_png_jpg.rf.880f4e5b210c405cfbcb4279b512f0f6.txt  \n",
            " extracting: train/labels/BikesHelmets59_png_jpg.rf.c7d4971ede277035c7dd356e4d4c5b58.txt  \n",
            " extracting: train/labels/BikesHelmets59_png_jpg.rf.e91dc1141bf70ec3454c241442b53ab3.txt  \n",
            " extracting: train/labels/BikesHelmets5_png_jpg.rf.0a4593410547f1f4b234a330f2ebd1d1.txt  \n",
            " extracting: train/labels/BikesHelmets5_png_jpg.rf.113c8dd22c8d82fcf427d878dee4686e.txt  \n",
            " extracting: train/labels/BikesHelmets5_png_jpg.rf.23318ce47465a9c552ea6e6c3e5f5f40.txt  \n",
            " extracting: train/labels/BikesHelmets5_png_jpg.rf.353c31d59a8eb0796bb8f1b9e071b535.txt  \n",
            " extracting: train/labels/BikesHelmets5_png_jpg.rf.388e3c9d96ac42060e1118b60ebc3c39.txt  \n",
            " extracting: train/labels/BikesHelmets5_png_jpg.rf.86df9037692d445d19b01da1eb95cb6c.txt  \n",
            " extracting: train/labels/BikesHelmets5_png_jpg.rf.92fcf47247919a89e85bfde683efab02.txt  \n",
            " extracting: train/labels/BikesHelmets5_png_jpg.rf.9dc8849dd475cb5321b2698933e077a9.txt  \n",
            " extracting: train/labels/BikesHelmets5_png_jpg.rf.b4d39c3a73749b2f5518d78b8f0067ee.txt  \n",
            " extracting: train/labels/BikesHelmets600_png_jpg.rf.0ab4905927f0192b764a1c42fa129ce2.txt  \n",
            " extracting: train/labels/BikesHelmets600_png_jpg.rf.2939d4df28ef72f33a7ba4342b435f19.txt  \n",
            " extracting: train/labels/BikesHelmets600_png_jpg.rf.397cc810a10e5feab51b04a17e7efe96.txt  \n",
            " extracting: train/labels/BikesHelmets600_png_jpg.rf.4d9989e57bc1103f096ac3815bd21e2d.txt  \n",
            " extracting: train/labels/BikesHelmets600_png_jpg.rf.57bfb043b178119c64737f7b65233657.txt  \n",
            " extracting: train/labels/BikesHelmets600_png_jpg.rf.8c436fb42211c9ad0c253891a7ec9db6.txt  \n",
            " extracting: train/labels/BikesHelmets600_png_jpg.rf.91b56f979ccd642e7d233fa0652f81b9.txt  \n",
            " extracting: train/labels/BikesHelmets600_png_jpg.rf.ad1711761512238f69b73516ae971a56.txt  \n",
            " extracting: train/labels/BikesHelmets600_png_jpg.rf.b8d9ec46f86fcd0bd78344c79343eb28.txt  \n",
            " extracting: train/labels/BikesHelmets605_png_jpg.rf.026cdc3312f552a44c7f98cb71f757ad.txt  \n",
            " extracting: train/labels/BikesHelmets605_png_jpg.rf.11386e838c619c90887efa4cef66839f.txt  \n",
            " extracting: train/labels/BikesHelmets605_png_jpg.rf.155cf6dfbae331f4d8960ab1392bc6ba.txt  \n",
            " extracting: train/labels/BikesHelmets605_png_jpg.rf.3a50dc526d11033e9fcc79f4d08fc6cc.txt  \n",
            " extracting: train/labels/BikesHelmets605_png_jpg.rf.4cf643b562bef585be1586faa1cb4fd7.txt  \n",
            " extracting: train/labels/BikesHelmets605_png_jpg.rf.6f019fa43ba5fec6a20e0add5abd7d9f.txt  \n",
            " extracting: train/labels/BikesHelmets605_png_jpg.rf.d8be91cfe961a3f615f0fad1c6afeb54.txt  \n",
            " extracting: train/labels/BikesHelmets605_png_jpg.rf.e6f81d9a7d364c906e5e42a80bec233c.txt  \n",
            " extracting: train/labels/BikesHelmets605_png_jpg.rf.ef0f8e435a4d3aacc19fe6b20595c859.txt  \n",
            " extracting: train/labels/BikesHelmets606_png_jpg.rf.58044bd87da2f48965458d411d8aad9a.txt  \n",
            " extracting: train/labels/BikesHelmets606_png_jpg.rf.6ee269a123f90f810dec41002a16ce41.txt  \n",
            " extracting: train/labels/BikesHelmets606_png_jpg.rf.9f29a33ed34df0aa917f96411474b5eb.txt  \n",
            " extracting: train/labels/BikesHelmets606_png_jpg.rf.a9dcd6984ad311ffae1d923cb5dfcdd9.txt  \n",
            " extracting: train/labels/BikesHelmets606_png_jpg.rf.b7ca6d83406e8731876b6b26d8b31004.txt  \n",
            " extracting: train/labels/BikesHelmets606_png_jpg.rf.e479ffc41d3ba7cb08150eff6dcffe0f.txt  \n",
            " extracting: train/labels/BikesHelmets606_png_jpg.rf.f259c84142d63ef6f53ba2fc200daa94.txt  \n",
            " extracting: train/labels/BikesHelmets606_png_jpg.rf.f71a66fc1ff72d4dc8c7356a5550ded7.txt  \n",
            " extracting: train/labels/BikesHelmets606_png_jpg.rf.fc465c3f35b23bfaeb9d58db17a8e379.txt  \n",
            " extracting: train/labels/BikesHelmets607_png_jpg.rf.2944e3c0f998ac7ddab2daabbca40818.txt  \n",
            " extracting: train/labels/BikesHelmets607_png_jpg.rf.47508f90933d5ce320c6f3e92c945268.txt  \n",
            " extracting: train/labels/BikesHelmets607_png_jpg.rf.5764e53de23a4d2f87f684920b9711cf.txt  \n",
            " extracting: train/labels/BikesHelmets607_png_jpg.rf.b7c4068e7a7f37bbf2ebdadc83a21504.txt  \n",
            " extracting: train/labels/BikesHelmets607_png_jpg.rf.e269740b545c2f5c09173c8e9b260a5d.txt  \n",
            " extracting: train/labels/BikesHelmets607_png_jpg.rf.f44bd64177e5440a9fbede195782fce9.txt  \n",
            " extracting: train/labels/BikesHelmets60_png_jpg.rf.45d6bd5402f3b73a852ddb591298239d.txt  \n",
            " extracting: train/labels/BikesHelmets60_png_jpg.rf.8fc62c526804773555e9fa2eff542978.txt  \n",
            " extracting: train/labels/BikesHelmets60_png_jpg.rf.a401dacb5a417ec1677b0203240d5ff0.txt  \n",
            " extracting: train/labels/BikesHelmets60_png_jpg.rf.aed9d3b737b4c9815d15282829c9ba6a.txt  \n",
            " extracting: train/labels/BikesHelmets60_png_jpg.rf.d7413a57cd9dc2112924c72448336e6b.txt  \n",
            " extracting: train/labels/BikesHelmets60_png_jpg.rf.fd436377d73f55f5dd0476c36ed36228.txt  \n",
            " extracting: train/labels/BikesHelmets612_png_jpg.rf.00bd63fa7ddedd4227fc9842808ddd51.txt  \n",
            " extracting: train/labels/BikesHelmets612_png_jpg.rf.36173c50bcaf752c912a6c374bfbb2e5.txt  \n",
            " extracting: train/labels/BikesHelmets612_png_jpg.rf.4579817f03599a445b7bac6db341a979.txt  \n",
            " extracting: train/labels/BikesHelmets612_png_jpg.rf.61b2f2e11c1d132ad368bf6e735771ac.txt  \n",
            " extracting: train/labels/BikesHelmets612_png_jpg.rf.66a4b952a6bd3ff1a765dd95cf8128a2.txt  \n",
            " extracting: train/labels/BikesHelmets612_png_jpg.rf.674d63cc456f83bea7ccc04102425ae3.txt  \n",
            " extracting: train/labels/BikesHelmets612_png_jpg.rf.740bb511260c6b3168570e9b472b7f0f.txt  \n",
            " extracting: train/labels/BikesHelmets612_png_jpg.rf.824ca8aa12a5e827b38b99b7b1efd360.txt  \n",
            " extracting: train/labels/BikesHelmets612_png_jpg.rf.dc6c311f9a9798ad391a0ff86167791e.txt  \n",
            " extracting: train/labels/BikesHelmets613_png_jpg.rf.03d8c3af8faa85949492b85cab0d51dd.txt  \n",
            " extracting: train/labels/BikesHelmets613_png_jpg.rf.0d49a0a4ba526d4f483fa45d73eae9a1.txt  \n",
            " extracting: train/labels/BikesHelmets613_png_jpg.rf.18b7f2ba1a068b55ae183f3b31bb69e4.txt  \n",
            " extracting: train/labels/BikesHelmets613_png_jpg.rf.36c14c54aab2c7c3bd0d94ed77c32b70.txt  \n",
            " extracting: train/labels/BikesHelmets613_png_jpg.rf.56f1632d7a4566df7bb67273a09d89cd.txt  \n",
            " extracting: train/labels/BikesHelmets613_png_jpg.rf.57d0ea933ea6996c222af32169a6d48c.txt  \n",
            " extracting: train/labels/BikesHelmets613_png_jpg.rf.660bde50a6ba0dc946bf0c6d32a3dd64.txt  \n",
            " extracting: train/labels/BikesHelmets613_png_jpg.rf.89c3b24564b95aeacfd7d13ff5c5e530.txt  \n",
            " extracting: train/labels/BikesHelmets613_png_jpg.rf.d110d2c80ff69ab56a76d95ea61794d1.txt  \n",
            " extracting: train/labels/BikesHelmets615_png_jpg.rf.16bb70193f595201d46df1260cc5bb16.txt  \n",
            " extracting: train/labels/BikesHelmets615_png_jpg.rf.2663a304b574c1092abe289680d8b712.txt  \n",
            " extracting: train/labels/BikesHelmets615_png_jpg.rf.4359ad845d852ace25d845aecc7761f5.txt  \n",
            " extracting: train/labels/BikesHelmets615_png_jpg.rf.5692a4564f1f59532e91eb746660db72.txt  \n",
            " extracting: train/labels/BikesHelmets615_png_jpg.rf.b1f28d8c692f35db917072ccfbf97725.txt  \n",
            " extracting: train/labels/BikesHelmets615_png_jpg.rf.f929b3764e3e834f017dab4dd295625e.txt  \n",
            " extracting: train/labels/BikesHelmets617_png_jpg.rf.26922588ed351034936570b10700624e.txt  \n",
            " extracting: train/labels/BikesHelmets617_png_jpg.rf.276053f2fa552a03f9192c5a2c7e011c.txt  \n",
            " extracting: train/labels/BikesHelmets617_png_jpg.rf.6b7186b80297080a8a44d20f43eafcb7.txt  \n",
            " extracting: train/labels/BikesHelmets617_png_jpg.rf.9a0d344277f67c59b22b07fc1f09aca1.txt  \n",
            " extracting: train/labels/BikesHelmets617_png_jpg.rf.9b8aa0d91ce52b4ad890378a7f84af98.txt  \n",
            " extracting: train/labels/BikesHelmets617_png_jpg.rf.b667946f0468816507704fe92972e496.txt  \n",
            " extracting: train/labels/BikesHelmets617_png_jpg.rf.c4614cf58591a848973efbaa8faaaab0.txt  \n",
            " extracting: train/labels/BikesHelmets617_png_jpg.rf.d21818ca9cc26686437738f45624ff23.txt  \n",
            " extracting: train/labels/BikesHelmets617_png_jpg.rf.f96a046f6dcf8abb9e1216a7b7355ce8.txt  \n",
            " extracting: train/labels/BikesHelmets619_png_jpg.rf.4cf63c9269bce5de545edcd1d503758a.txt  \n",
            " extracting: train/labels/BikesHelmets619_png_jpg.rf.4f56a0c3956b0b1d02afb93f863c0c1d.txt  \n",
            " extracting: train/labels/BikesHelmets619_png_jpg.rf.566e0a841e37d2f550199b9ad4261f82.txt  \n",
            " extracting: train/labels/BikesHelmets619_png_jpg.rf.6e32d8300a859049b4525fbe093f0b2b.txt  \n",
            " extracting: train/labels/BikesHelmets619_png_jpg.rf.9e1aff8d2d95b49ba7dc5570b2cbd6b4.txt  \n",
            " extracting: train/labels/BikesHelmets619_png_jpg.rf.adf01390d9775166cfde514213b44dec.txt  \n",
            " extracting: train/labels/BikesHelmets619_png_jpg.rf.d2d8df5a4108f32551df479f35591af8.txt  \n",
            " extracting: train/labels/BikesHelmets619_png_jpg.rf.d3f67f2e7fc3bebc51504e68b5840439.txt  \n",
            " extracting: train/labels/BikesHelmets619_png_jpg.rf.e96db8dccc5b258c5d4f7f8b1e06664d.txt  \n",
            " extracting: train/labels/BikesHelmets61_png_jpg.rf.67aac0dee524afed55cedc98d71e5fa2.txt  \n",
            " extracting: train/labels/BikesHelmets61_png_jpg.rf.96104fad9267723ec101c421999dbf03.txt  \n",
            " extracting: train/labels/BikesHelmets61_png_jpg.rf.a8ddbfdd611222aa04963a195f890103.txt  \n",
            " extracting: train/labels/BikesHelmets61_png_jpg.rf.bef242a0b40fb41bb09155d6799a63ec.txt  \n",
            " extracting: train/labels/BikesHelmets61_png_jpg.rf.e040c769b3e538dfc07483719f54aaae.txt  \n",
            " extracting: train/labels/BikesHelmets61_png_jpg.rf.e214088eafa6ffd08def22eab2125243.txt  \n",
            " extracting: train/labels/BikesHelmets621_png_jpg.rf.2e2daa843b884d3366ed66eb37793f21.txt  \n",
            " extracting: train/labels/BikesHelmets621_png_jpg.rf.60bad2ee0a8274440542d211eab915a1.txt  \n",
            " extracting: train/labels/BikesHelmets621_png_jpg.rf.6fa63f14514adf030ed1974b7c8198bd.txt  \n",
            " extracting: train/labels/BikesHelmets621_png_jpg.rf.814e764e49b2999a68fe5caea955c23a.txt  \n",
            " extracting: train/labels/BikesHelmets621_png_jpg.rf.a1c31fda4d77656ec1b1ce11d9565579.txt  \n",
            " extracting: train/labels/BikesHelmets621_png_jpg.rf.c02de272cfe0761183285363ad96e79f.txt  \n",
            " extracting: train/labels/BikesHelmets621_png_jpg.rf.cf2762ea45ce1fd7ec9b266af5257210.txt  \n",
            " extracting: train/labels/BikesHelmets621_png_jpg.rf.d08d5bb976c635c0503cdcdce9956005.txt  \n",
            " extracting: train/labels/BikesHelmets621_png_jpg.rf.e6a3baf21b8d9e9c6e1038d5d4b8652c.txt  \n",
            " extracting: train/labels/BikesHelmets622_png_jpg.rf.0e01124d3cf1a8312628345c8daa8566.txt  \n",
            " extracting: train/labels/BikesHelmets622_png_jpg.rf.58f60951619709aae15809fd36564444.txt  \n",
            " extracting: train/labels/BikesHelmets622_png_jpg.rf.75ae891afa3f9356788830a2d7f327f2.txt  \n",
            " extracting: train/labels/BikesHelmets622_png_jpg.rf.805ae110d2801366c53cd6e82021507b.txt  \n",
            " extracting: train/labels/BikesHelmets622_png_jpg.rf.a19014c65b5ec9b1472b03a2e6df478e.txt  \n",
            " extracting: train/labels/BikesHelmets622_png_jpg.rf.a60794f1512166df6a60048e87f60d83.txt  \n",
            " extracting: train/labels/BikesHelmets622_png_jpg.rf.bf1fea5316ce879769cb4ba9368593a8.txt  \n",
            " extracting: train/labels/BikesHelmets622_png_jpg.rf.ce5f99ea034e19abd7387044f936ce15.txt  \n",
            " extracting: train/labels/BikesHelmets622_png_jpg.rf.d50b0e64e0ced6d7dcf80c9acef74aab.txt  \n",
            " extracting: train/labels/BikesHelmets623_png_jpg.rf.0820fca4ef2fdc8ac3ebd22dfee9e6ea.txt  \n",
            " extracting: train/labels/BikesHelmets623_png_jpg.rf.54ad5ddfa9e342013b37064ff0808407.txt  \n",
            " extracting: train/labels/BikesHelmets623_png_jpg.rf.af9293764261677e069ad37d45f02a14.txt  \n",
            " extracting: train/labels/BikesHelmets623_png_jpg.rf.c3118fd78f9b49f726485fb479fa3b11.txt  \n",
            " extracting: train/labels/BikesHelmets623_png_jpg.rf.d0f2d71ef23ac5ca3f853126384dcfdf.txt  \n",
            " extracting: train/labels/BikesHelmets623_png_jpg.rf.ee82a0918779de1db8c6d506b4a57512.txt  \n",
            " extracting: train/labels/BikesHelmets626_png_jpg.rf.0f0de7587924aa8120f5c6be1d9278f0.txt  \n",
            " extracting: train/labels/BikesHelmets626_png_jpg.rf.2918e6cec4a89cb49beb594735106728.txt  \n",
            " extracting: train/labels/BikesHelmets626_png_jpg.rf.32894089a3308aad32a585dc430d8230.txt  \n",
            " extracting: train/labels/BikesHelmets626_png_jpg.rf.39494fdc5b92cad294a42701c41e048e.txt  \n",
            " extracting: train/labels/BikesHelmets626_png_jpg.rf.8bc0f4f4d017fa8910ed55cb6fcf0762.txt  \n",
            " extracting: train/labels/BikesHelmets626_png_jpg.rf.8c89806125979458de7787f37dc8690c.txt  \n",
            " extracting: train/labels/BikesHelmets626_png_jpg.rf.b379e9c948bb0ab8dbafd2005badd10a.txt  \n",
            " extracting: train/labels/BikesHelmets626_png_jpg.rf.d1b36e935366e3aa26d98907fe1ad91f.txt  \n",
            " extracting: train/labels/BikesHelmets626_png_jpg.rf.da8449acca4e5e2b256480027f2222ec.txt  \n",
            " extracting: train/labels/BikesHelmets628_png_jpg.rf.270e7ff583effcb89f9b65b2f3e72f03.txt  \n",
            " extracting: train/labels/BikesHelmets628_png_jpg.rf.6d8585bc3e9b8bfe372705642ed04f8b.txt  \n",
            " extracting: train/labels/BikesHelmets628_png_jpg.rf.786d64247113dfdbd6c91e77c1f56d08.txt  \n",
            " extracting: train/labels/BikesHelmets628_png_jpg.rf.7a417e7d71b2de0b245a311f80587571.txt  \n",
            " extracting: train/labels/BikesHelmets628_png_jpg.rf.8b2301ddcbe71685e8280cc6f04b91d7.txt  \n",
            " extracting: train/labels/BikesHelmets628_png_jpg.rf.a4960bd32c71752ffea35e0579592d5c.txt  \n",
            " extracting: train/labels/BikesHelmets628_png_jpg.rf.bd97386cad5676ec18f30759c3f8c503.txt  \n",
            " extracting: train/labels/BikesHelmets628_png_jpg.rf.bdca6d7028df58c3a1e964a1301cb7f7.txt  \n",
            " extracting: train/labels/BikesHelmets628_png_jpg.rf.c70b51c809b870d21b84dd7d7592f1b5.txt  \n",
            " extracting: train/labels/BikesHelmets629_png_jpg.rf.26ac04dd0dfc1304d0789474ac125b95.txt  \n",
            " extracting: train/labels/BikesHelmets629_png_jpg.rf.2aadee71b609e1405d328a9dd0c09572.txt  \n",
            " extracting: train/labels/BikesHelmets629_png_jpg.rf.4e8fc314b7a2f2b89b112a813a66bebc.txt  \n",
            " extracting: train/labels/BikesHelmets629_png_jpg.rf.6eab71ab5dbdbbfe76c8c3c7f61b9303.txt  \n",
            " extracting: train/labels/BikesHelmets629_png_jpg.rf.b6a9ab086fc864c79ae6dd0cf354e276.txt  \n",
            " extracting: train/labels/BikesHelmets629_png_jpg.rf.c4718588ba9420c34a059ba80ecf0305.txt  \n",
            " extracting: train/labels/BikesHelmets629_png_jpg.rf.dfebf33780b16e4b1672e8eb98c0d67e.txt  \n",
            " extracting: train/labels/BikesHelmets629_png_jpg.rf.f09e6bb5762b24cbaffeae0680724478.txt  \n",
            " extracting: train/labels/BikesHelmets629_png_jpg.rf.f63c916977c6186df8493641ffd61594.txt  \n",
            " extracting: train/labels/BikesHelmets62_png_jpg.rf.28c7100eded44a97dd6a6ac99c8d3832.txt  \n",
            " extracting: train/labels/BikesHelmets62_png_jpg.rf.7b54ca7f9c3d6f8f8551a2c93a733053.txt  \n",
            " extracting: train/labels/BikesHelmets62_png_jpg.rf.95b1b35563b9445b2e2ec1517ea2f769.txt  \n",
            " extracting: train/labels/BikesHelmets632_png_jpg.rf.17cc0a0d9cfd4f7a98fe58d61e2e8661.txt  \n",
            " extracting: train/labels/BikesHelmets632_png_jpg.rf.2ca2eeda4b7eca6be87ba6cacda51e44.txt  \n",
            " extracting: train/labels/BikesHelmets632_png_jpg.rf.3cfdd9f6f494339ffb21b94d29e5ebfc.txt  \n",
            " extracting: train/labels/BikesHelmets632_png_jpg.rf.54a4f8f1ab36550d24f70dfd5a68de41.txt  \n",
            " extracting: train/labels/BikesHelmets632_png_jpg.rf.803a9cf5f2a050310035ec8b0cc5a0db.txt  \n",
            " extracting: train/labels/BikesHelmets632_png_jpg.rf.8a54915ad720cd09c06ae4ec154faae6.txt  \n",
            " extracting: train/labels/BikesHelmets632_png_jpg.rf.a0205b3e6bab3a742a373328b0698999.txt  \n",
            " extracting: train/labels/BikesHelmets632_png_jpg.rf.c748aa70d7838ffc46c53ef6f9609e85.txt  \n",
            " extracting: train/labels/BikesHelmets632_png_jpg.rf.e20d037c770fba7f191c9cebc23cb216.txt  \n",
            " extracting: train/labels/BikesHelmets639_png_jpg.rf.0c0af0960d551c7dc5289dad6a8e2fb2.txt  \n",
            " extracting: train/labels/BikesHelmets639_png_jpg.rf.100461af2a4c4c855cd0a328f262b608.txt  \n",
            " extracting: train/labels/BikesHelmets639_png_jpg.rf.203618891db3d87c13c9903030e93cb4.txt  \n",
            " extracting: train/labels/BikesHelmets639_png_jpg.rf.2061e8801679b7fc3dca1d61b2b454f8.txt  \n",
            " extracting: train/labels/BikesHelmets639_png_jpg.rf.2ec2c6d3ffffb492660f1780467a481e.txt  \n",
            " extracting: train/labels/BikesHelmets639_png_jpg.rf.6d6ed6495716979941831a4dc745a9ee.txt  \n",
            " extracting: train/labels/BikesHelmets639_png_jpg.rf.9ee5652b888d21c2d5a0af78ea18af7a.txt  \n",
            " extracting: train/labels/BikesHelmets639_png_jpg.rf.a14ef26fec4855567d7a609ded659cf7.txt  \n",
            " extracting: train/labels/BikesHelmets639_png_jpg.rf.a88c7415bf7cc8bb4864593f91b1346a.txt  \n",
            " extracting: train/labels/BikesHelmets63_png_jpg.rf.2d4ed64fedb066ccb3e31a37a361a6cf.txt  \n",
            " extracting: train/labels/BikesHelmets63_png_jpg.rf.3492b7b004db34fdedfee6f4e207e0ed.txt  \n",
            " extracting: train/labels/BikesHelmets63_png_jpg.rf.7db5d9e4bd36130266d3cf337a7284b7.txt  \n",
            " extracting: train/labels/BikesHelmets63_png_jpg.rf.83623087eded9f5e2db524c17f36210a.txt  \n",
            " extracting: train/labels/BikesHelmets63_png_jpg.rf.966bbab456e367ae70bb913fa8824ab9.txt  \n",
            " extracting: train/labels/BikesHelmets63_png_jpg.rf.bafe26e727c8bfb33e5c11f8c81413d5.txt  \n",
            " extracting: train/labels/BikesHelmets63_png_jpg.rf.bbb8633ecc8bdbe605acd2676f4b4d52.txt  \n",
            " extracting: train/labels/BikesHelmets63_png_jpg.rf.d524c37d0fe7feee8f64237d0bff7ba9.txt  \n",
            " extracting: train/labels/BikesHelmets63_png_jpg.rf.fb953f364b4faa1df70403d0d767e200.txt  \n",
            " extracting: train/labels/BikesHelmets640_png_jpg.rf.0911003bae82fbff16a4a08251d0b651.txt  \n",
            " extracting: train/labels/BikesHelmets640_png_jpg.rf.287bce908fc0143cb5eaf70592d62881.txt  \n",
            " extracting: train/labels/BikesHelmets640_png_jpg.rf.4f6801e4e269b7fad3129e6db17be542.txt  \n",
            " extracting: train/labels/BikesHelmets640_png_jpg.rf.6028f5873093afcc654595df50b40a5f.txt  \n",
            " extracting: train/labels/BikesHelmets640_png_jpg.rf.73354410b1363e12861d55034e913ce3.txt  \n",
            " extracting: train/labels/BikesHelmets640_png_jpg.rf.91958e657467fd2ec9d45d8f24906373.txt  \n",
            " extracting: train/labels/BikesHelmets640_png_jpg.rf.b9833a3a5260b4fa92355cce482a3edc.txt  \n",
            " extracting: train/labels/BikesHelmets640_png_jpg.rf.befdff6d2d6024abc77d479f7d1dd23c.txt  \n",
            " extracting: train/labels/BikesHelmets640_png_jpg.rf.dd0630d6028ec27a0f33f177ae59b898.txt  \n",
            " extracting: train/labels/BikesHelmets641_png_jpg.rf.16ed151a1953a050fc08ea8ef7bf7503.txt  \n",
            " extracting: train/labels/BikesHelmets641_png_jpg.rf.3da07427d496c0ed5aeb862e374b3ab9.txt  \n",
            " extracting: train/labels/BikesHelmets641_png_jpg.rf.5ba4ab35102da25fdab1e15ff43f0b51.txt  \n",
            " extracting: train/labels/BikesHelmets641_png_jpg.rf.8353f8c3510a65d9e066a5e73fd59c9e.txt  \n",
            " extracting: train/labels/BikesHelmets641_png_jpg.rf.e7b264ca07cf229b7751c5da8957009d.txt  \n",
            " extracting: train/labels/BikesHelmets641_png_jpg.rf.ebeb224fff07d3d6b0773d63d5e9f665.txt  \n",
            " extracting: train/labels/BikesHelmets642_png_jpg.rf.0d4f672e5d848f685b115bf4cbd76dea.txt  \n",
            " extracting: train/labels/BikesHelmets642_png_jpg.rf.0f2d5f18015c3ceb93642a15955a42ac.txt  \n",
            " extracting: train/labels/BikesHelmets642_png_jpg.rf.13b15c798dca6b10f406251b74a59514.txt  \n",
            " extracting: train/labels/BikesHelmets642_png_jpg.rf.1895e3b5c3f38bc9140590238c3f164d.txt  \n",
            " extracting: train/labels/BikesHelmets642_png_jpg.rf.3b44768bb6dd90cd691f8244e561eff0.txt  \n",
            " extracting: train/labels/BikesHelmets642_png_jpg.rf.6c0f584eead36cad8da771923d215ed8.txt  \n",
            " extracting: train/labels/BikesHelmets642_png_jpg.rf.776565bed4a7b8b41cbf2a6e2b059731.txt  \n",
            " extracting: train/labels/BikesHelmets642_png_jpg.rf.85bc7e80cf9f378d5bc66ab35b9c68f1.txt  \n",
            " extracting: train/labels/BikesHelmets642_png_jpg.rf.8bb5b15e8cef30feceac0f7694aed839.txt  \n",
            " extracting: train/labels/BikesHelmets645_png_jpg.rf.0dd6c426953861066f47710fc1c65613.txt  \n",
            " extracting: train/labels/BikesHelmets645_png_jpg.rf.0f2a338fa4c9d87561f6d508f62ef513.txt  \n",
            " extracting: train/labels/BikesHelmets645_png_jpg.rf.45cde5802850c9295fcf64ac9502f630.txt  \n",
            " extracting: train/labels/BikesHelmets645_png_jpg.rf.8eb3fbf5155abd1be1fed88d2b6eb046.txt  \n",
            " extracting: train/labels/BikesHelmets645_png_jpg.rf.af5c34fdbc375f7aa97f2d71769c4faa.txt  \n",
            " extracting: train/labels/BikesHelmets645_png_jpg.rf.ba0aeb2c457eeab7d4d108fe22880235.txt  \n",
            " extracting: train/labels/BikesHelmets646_png_jpg.rf.060054cfd6455080b97db3e271fe9799.txt  \n",
            " extracting: train/labels/BikesHelmets646_png_jpg.rf.37bee9eba87b1d4e78d50fa9e04983a7.txt  \n",
            " extracting: train/labels/BikesHelmets646_png_jpg.rf.44a14ea5af27c93b47bb64efe88b307b.txt  \n",
            " extracting: train/labels/BikesHelmets646_png_jpg.rf.4bc54e513ab37bf05f77d91c56c2efbb.txt  \n",
            " extracting: train/labels/BikesHelmets646_png_jpg.rf.6208beafebe3f4ff40f09a0c2433d340.txt  \n",
            " extracting: train/labels/BikesHelmets646_png_jpg.rf.7be746df7e2321d3208bc5ab39c1f8d8.txt  \n",
            " extracting: train/labels/BikesHelmets646_png_jpg.rf.8b834176fd7d45229124fcfd1a3c47b0.txt  \n",
            " extracting: train/labels/BikesHelmets646_png_jpg.rf.91fff85eeaf74cc33905d653977b9727.txt  \n",
            " extracting: train/labels/BikesHelmets646_png_jpg.rf.ee59df6e14c9947aa589010f9a068edf.txt  \n",
            " extracting: train/labels/BikesHelmets648_png_jpg.rf.25dc4022f385a1991983d026168766ae.txt  \n",
            " extracting: train/labels/BikesHelmets648_png_jpg.rf.45fbace39f954ad852b6f8156647000c.txt  \n",
            " extracting: train/labels/BikesHelmets648_png_jpg.rf.85c5c888ce23752c07364ee658cdf8c1.txt  \n",
            " extracting: train/labels/BikesHelmets648_png_jpg.rf.86ad1985633704eb59c40c469326ec42.txt  \n",
            " extracting: train/labels/BikesHelmets648_png_jpg.rf.ad73dd16075ee3a980e51d7eea192c83.txt  \n",
            " extracting: train/labels/BikesHelmets648_png_jpg.rf.c33b591309a3f12dd93e1de55c45732a.txt  \n",
            " extracting: train/labels/BikesHelmets648_png_jpg.rf.e1c512dc8b244988dbb1623239691d48.txt  \n",
            " extracting: train/labels/BikesHelmets648_png_jpg.rf.e6b30359bea88fd2b583b037a83987c4.txt  \n",
            " extracting: train/labels/BikesHelmets648_png_jpg.rf.ec2a17d613ddd130e79f3a9281e60365.txt  \n",
            " extracting: train/labels/BikesHelmets649_png_jpg.rf.145cb49f492f8e0c2c613ec7d76a2f72.txt  \n",
            " extracting: train/labels/BikesHelmets649_png_jpg.rf.186a04b0740c62ebc5104445679135b4.txt  \n",
            " extracting: train/labels/BikesHelmets649_png_jpg.rf.3691d2f7b508266735925c1b758f4361.txt  \n",
            " extracting: train/labels/BikesHelmets649_png_jpg.rf.5f0abd1896d7024cef18ae36aad2c0ba.txt  \n",
            " extracting: train/labels/BikesHelmets649_png_jpg.rf.968b56b222d246f580d5084e57816937.txt  \n",
            " extracting: train/labels/BikesHelmets649_png_jpg.rf.b54d0eccf09a253cb849d741539a5f7d.txt  \n",
            " extracting: train/labels/BikesHelmets649_png_jpg.rf.b94a22741d3c02a1c2116ecf3a5272db.txt  \n",
            " extracting: train/labels/BikesHelmets649_png_jpg.rf.df74cad9405368bc65f01b17132db306.txt  \n",
            " extracting: train/labels/BikesHelmets649_png_jpg.rf.e834033b2a416517cc962e3a46a9e262.txt  \n",
            " extracting: train/labels/BikesHelmets64_png_jpg.rf.010cea122a4dbad1b147ce0c40dcf3df.txt  \n",
            " extracting: train/labels/BikesHelmets64_png_jpg.rf.01915ebdeb5eb44a435a95bbad0fbe12.txt  \n",
            " extracting: train/labels/BikesHelmets64_png_jpg.rf.059fdf66f66bb4fa4d8600fb8783ff09.txt  \n",
            " extracting: train/labels/BikesHelmets64_png_jpg.rf.2b35e730c38d0dde492f1582b3ea4aac.txt  \n",
            " extracting: train/labels/BikesHelmets64_png_jpg.rf.8bd45101c05975ab0960434c273800ce.txt  \n",
            " extracting: train/labels/BikesHelmets64_png_jpg.rf.8d9304b81dc9482ef80bda563444b2f9.txt  \n",
            " extracting: train/labels/BikesHelmets64_png_jpg.rf.b5ca2843d186b7df53aa292c14f3040a.txt  \n",
            " extracting: train/labels/BikesHelmets64_png_jpg.rf.b7b77165fba37e135e6a6fe0b3ce9380.txt  \n",
            " extracting: train/labels/BikesHelmets64_png_jpg.rf.e2a6a74a7c054a6dd74766b63994d9fc.txt  \n",
            " extracting: train/labels/BikesHelmets650_png_jpg.rf.15537de33b66aa45c73411ed5a8b6c98.txt  \n",
            " extracting: train/labels/BikesHelmets650_png_jpg.rf.206f99d142079fd5ba62678885ecabb9.txt  \n",
            " extracting: train/labels/BikesHelmets650_png_jpg.rf.29c2d17c4b5f6378cb965e86eb3f455a.txt  \n",
            " extracting: train/labels/BikesHelmets650_png_jpg.rf.3505ab4aab9e497c8e1e8c2c99d2f257.txt  \n",
            " extracting: train/labels/BikesHelmets650_png_jpg.rf.3e9565dd2075ff9a4584d94a1d737578.txt  \n",
            " extracting: train/labels/BikesHelmets650_png_jpg.rf.a24e8b9ebe284b47042da9f2ef969728.txt  \n",
            " extracting: train/labels/BikesHelmets651_png_jpg.rf.122c746caf4455b78f873556162f2f1f.txt  \n",
            " extracting: train/labels/BikesHelmets651_png_jpg.rf.68b8ece87b7e88ce673c298e197d817c.txt  \n",
            " extracting: train/labels/BikesHelmets651_png_jpg.rf.7106a38479409c6e27279d15ae7a59ea.txt  \n",
            " extracting: train/labels/BikesHelmets651_png_jpg.rf.790a8fc00d379635a9663195b172d319.txt  \n",
            " extracting: train/labels/BikesHelmets651_png_jpg.rf.8041da15b713a8327c10f8699c2d5c68.txt  \n",
            " extracting: train/labels/BikesHelmets651_png_jpg.rf.ab403b878c006d998db429418d38d24e.txt  \n",
            " extracting: train/labels/BikesHelmets651_png_jpg.rf.b83296fd7a27cc6af5f90e5f240b83a4.txt  \n",
            " extracting: train/labels/BikesHelmets651_png_jpg.rf.d234450f53a9f1d04d25e7e568256659.txt  \n",
            " extracting: train/labels/BikesHelmets651_png_jpg.rf.ecf62cdf413d53a493f2b37c54144940.txt  \n",
            " extracting: train/labels/BikesHelmets652_png_jpg.rf.219d65161a204c428eba0ea96fca03c2.txt  \n",
            " extracting: train/labels/BikesHelmets652_png_jpg.rf.6666a99bbaad8aa98a31338c44c3c99b.txt  \n",
            " extracting: train/labels/BikesHelmets652_png_jpg.rf.774ab8d3eb3faff494c4438e92616639.txt  \n",
            " extracting: train/labels/BikesHelmets652_png_jpg.rf.ac987a96c81a35ebb0ec82cda84c6a4f.txt  \n",
            " extracting: train/labels/BikesHelmets652_png_jpg.rf.b0b728c4ec005d8e18aeeddd96f7595d.txt  \n",
            " extracting: train/labels/BikesHelmets652_png_jpg.rf.d2e1a42470ae4f0435d0b28a346b7ecb.txt  \n",
            " extracting: train/labels/BikesHelmets652_png_jpg.rf.e5d9696dca77a108d1e7acf2b0d7fc66.txt  \n",
            " extracting: train/labels/BikesHelmets652_png_jpg.rf.e8b9aeae0954c34c5ec08b2743523dcc.txt  \n",
            " extracting: train/labels/BikesHelmets652_png_jpg.rf.e8d42d49bed18d1c8671bf562e777017.txt  \n",
            " extracting: train/labels/BikesHelmets654_png_jpg.rf.2b9cf987a7be5b37f70daf0132dcc3bc.txt  \n",
            " extracting: train/labels/BikesHelmets654_png_jpg.rf.3db695de6f2b04645b09a9885f1cc94e.txt  \n",
            " extracting: train/labels/BikesHelmets654_png_jpg.rf.86ccef07a517d2b2e0f02d45eff29e84.txt  \n",
            " extracting: train/labels/BikesHelmets654_png_jpg.rf.9b56a66396287a5ac0ca3a311f6fc455.txt  \n",
            " extracting: train/labels/BikesHelmets654_png_jpg.rf.d3d9155af28aab4df659d6f6eeb59ceb.txt  \n",
            " extracting: train/labels/BikesHelmets654_png_jpg.rf.d6905bd27102c2fe14176ee498fe7c66.txt  \n",
            " extracting: train/labels/BikesHelmets655_png_jpg.rf.28d0e669a26414fa3d2d07a1e6092cc1.txt  \n",
            " extracting: train/labels/BikesHelmets655_png_jpg.rf.3a5af08719af952569f758ad8b85e23a.txt  \n",
            " extracting: train/labels/BikesHelmets655_png_jpg.rf.4c9a37418e6a1ba97c23bc3bb8ea34cd.txt  \n",
            " extracting: train/labels/BikesHelmets655_png_jpg.rf.59de5fcf616645be41369f74fcdf3f0d.txt  \n",
            " extracting: train/labels/BikesHelmets655_png_jpg.rf.6562649b82e2deb82b3bbb0ceaf28bc3.txt  \n",
            " extracting: train/labels/BikesHelmets655_png_jpg.rf.e80eef8c76ef100b8f545b40e01d9fb9.txt  \n",
            " extracting: train/labels/BikesHelmets656_png_jpg.rf.1b61ee8fa2c17513880af617ecdbd4be.txt  \n",
            " extracting: train/labels/BikesHelmets656_png_jpg.rf.2797ab9a4bbc702e9dc45965a6b2ef5e.txt  \n",
            " extracting: train/labels/BikesHelmets656_png_jpg.rf.2ef6427cf70b22b9f9f04962772788f0.txt  \n",
            " extracting: train/labels/BikesHelmets656_png_jpg.rf.3cce8c6bb353b774fcf91b958797944b.txt  \n",
            " extracting: train/labels/BikesHelmets656_png_jpg.rf.708b2354186436e2e34709dd4527071c.txt  \n",
            " extracting: train/labels/BikesHelmets656_png_jpg.rf.72d922346809ce001e2e5ed267386a70.txt  \n",
            " extracting: train/labels/BikesHelmets656_png_jpg.rf.80fa940fd7438508fd1330acbe0514a8.txt  \n",
            " extracting: train/labels/BikesHelmets656_png_jpg.rf.aa8b175007c64f0cb7f41dd28131368f.txt  \n",
            " extracting: train/labels/BikesHelmets656_png_jpg.rf.af426c92034b4f9212d84c90b44a381d.txt  \n",
            " extracting: train/labels/BikesHelmets657_png_jpg.rf.144cadd0f2647dd6551087f9e7ad15a4.txt  \n",
            " extracting: train/labels/BikesHelmets657_png_jpg.rf.3f234a0031c0fbf8f13ab073308fef93.txt  \n",
            " extracting: train/labels/BikesHelmets657_png_jpg.rf.64302b0c6bf4887eeb70cf66e59fd9ce.txt  \n",
            " extracting: train/labels/BikesHelmets657_png_jpg.rf.7befdfd60184c1c9ace7e6efae2f6c2d.txt  \n",
            " extracting: train/labels/BikesHelmets657_png_jpg.rf.86e127c5009f1041df2bc3e82df40eda.txt  \n",
            " extracting: train/labels/BikesHelmets657_png_jpg.rf.c9ddab8d976dea1a362497d771ab61db.txt  \n",
            " extracting: train/labels/BikesHelmets657_png_jpg.rf.cb131a9d47b1cdc06a428eee9df07783.txt  \n",
            " extracting: train/labels/BikesHelmets657_png_jpg.rf.dc7f2d077f240712317ce9d77c696f70.txt  \n",
            " extracting: train/labels/BikesHelmets657_png_jpg.rf.e680350ef4031326c09583057b6d9fd8.txt  \n",
            " extracting: train/labels/BikesHelmets659_png_jpg.rf.0314882d3e89e02aa42f765227d4b104.txt  \n",
            " extracting: train/labels/BikesHelmets659_png_jpg.rf.64cb94507cc5f2529a5bb270b0e9be6b.txt  \n",
            " extracting: train/labels/BikesHelmets659_png_jpg.rf.697a711efafd38b1e005d5c6b068ae3d.txt  \n",
            " extracting: train/labels/BikesHelmets659_png_jpg.rf.87fe1ec37698a281f0997fada8b82826.txt  \n",
            " extracting: train/labels/BikesHelmets659_png_jpg.rf.b59b60ee87bfd2eb7eec1a9e23b0bd00.txt  \n",
            " extracting: train/labels/BikesHelmets659_png_jpg.rf.df4785a92bd4cb7791e3e4d0be877a7b.txt  \n",
            " extracting: train/labels/BikesHelmets65_png_jpg.rf.2696999688686425d26fbb6906fc3f10.txt  \n",
            " extracting: train/labels/BikesHelmets65_png_jpg.rf.32b511a3a410817575ee3c3fa168b21d.txt  \n",
            " extracting: train/labels/BikesHelmets65_png_jpg.rf.6742f53e80c2b958c1fa12ab2744e90a.txt  \n",
            " extracting: train/labels/BikesHelmets65_png_jpg.rf.71db1f93ca73733f0ef2a2b5b0fe34b2.txt  \n",
            " extracting: train/labels/BikesHelmets65_png_jpg.rf.8306f47b2ce786964910857b98e58b12.txt  \n",
            " extracting: train/labels/BikesHelmets65_png_jpg.rf.ab1745a27ffc8cde57a5865afb1bc2c6.txt  \n",
            " extracting: train/labels/BikesHelmets65_png_jpg.rf.b4f70ef4b871d5f7d6337e062a59832a.txt  \n",
            " extracting: train/labels/BikesHelmets65_png_jpg.rf.bc72c0c59bf704194f9ac84cf3e84c84.txt  \n",
            " extracting: train/labels/BikesHelmets65_png_jpg.rf.eded5ea4b6a9671c271eea275e6fc14c.txt  \n",
            " extracting: train/labels/BikesHelmets660_png_jpg.rf.1a46d66c6e318d61e4247f2faacd797b.txt  \n",
            " extracting: train/labels/BikesHelmets660_png_jpg.rf.3e054406bdb7ce322d69ed3940690c5c.txt  \n",
            " extracting: train/labels/BikesHelmets660_png_jpg.rf.470d152d6b13c032fda408ae82435fbf.txt  \n",
            " extracting: train/labels/BikesHelmets660_png_jpg.rf.90cd4bc99cef0a3e97e065bbd9237809.txt  \n",
            " extracting: train/labels/BikesHelmets660_png_jpg.rf.9577b5eb92432ad41206e2413eae32c6.txt  \n",
            " extracting: train/labels/BikesHelmets660_png_jpg.rf.9dc3806c49cf481c42aed6d514fc9102.txt  \n",
            " extracting: train/labels/BikesHelmets660_png_jpg.rf.a11a2f1f73c18d85e1464ab15a187b1c.txt  \n",
            " extracting: train/labels/BikesHelmets660_png_jpg.rf.ad37128dae7804e37b353315941e5735.txt  \n",
            " extracting: train/labels/BikesHelmets660_png_jpg.rf.c4a67fab330df6223960abd1a498e5a9.txt  \n",
            " extracting: train/labels/BikesHelmets662_png_jpg.rf.6169901c0b27e34bff3ac5955a0c4a50.txt  \n",
            " extracting: train/labels/BikesHelmets662_png_jpg.rf.6cbb9c4ca08beb9b2d7b500162f4b80f.txt  \n",
            " extracting: train/labels/BikesHelmets662_png_jpg.rf.714c0dadf6348c485750adb4300a717a.txt  \n",
            " extracting: train/labels/BikesHelmets662_png_jpg.rf.7baad982ee8ab7aded92cd914ac2c253.txt  \n",
            " extracting: train/labels/BikesHelmets662_png_jpg.rf.95af533aebb95977c70698723f0770e9.txt  \n",
            " extracting: train/labels/BikesHelmets662_png_jpg.rf.b93be5a6274173eedc7c8d1d93850c51.txt  \n",
            " extracting: train/labels/BikesHelmets662_png_jpg.rf.c0740413e595b14b23f62ac3569b7cb8.txt  \n",
            " extracting: train/labels/BikesHelmets662_png_jpg.rf.c5a728ed4f732c03a0160a1923a48aaa.txt  \n",
            " extracting: train/labels/BikesHelmets662_png_jpg.rf.ef25c1206ce8d90a83150291a13e9a88.txt  \n",
            " extracting: train/labels/BikesHelmets665_png_jpg.rf.081e944953dc22c39ddc5e5f717a0004.txt  \n",
            " extracting: train/labels/BikesHelmets665_png_jpg.rf.33a26a9d6db0fa0ccc5f66cad6998d95.txt  \n",
            " extracting: train/labels/BikesHelmets665_png_jpg.rf.589af91d7c4fa639bd4d6b756c09ac84.txt  \n",
            " extracting: train/labels/BikesHelmets665_png_jpg.rf.98ebadd1e7c85c957aaa7a14eb74d108.txt  \n",
            " extracting: train/labels/BikesHelmets665_png_jpg.rf.c5dbca9938b5d6101c223fdd13fd7e3f.txt  \n",
            " extracting: train/labels/BikesHelmets665_png_jpg.rf.d6057a1283df76533d7d0fd901982217.txt  \n",
            " extracting: train/labels/BikesHelmets665_png_jpg.rf.e23fcc4c11c2c0d3e7bb7f187989e10f.txt  \n",
            " extracting: train/labels/BikesHelmets665_png_jpg.rf.e5cebdeb9c809898c547040e2a6ac22f.txt  \n",
            " extracting: train/labels/BikesHelmets665_png_jpg.rf.f5d6c80a2eb4b6591eee33908c89d053.txt  \n",
            " extracting: train/labels/BikesHelmets66_png_jpg.rf.09bb37a1f22ea730a7b2cb179651e487.txt  \n",
            " extracting: train/labels/BikesHelmets66_png_jpg.rf.0e29b6c717b887722a4d8cbbaffe83c0.txt  \n",
            " extracting: train/labels/BikesHelmets66_png_jpg.rf.4b68aa609f2e3302908bc477530344f6.txt  \n",
            " extracting: train/labels/BikesHelmets66_png_jpg.rf.51dcbf328d70b8bf0ce114f0529ae5cd.txt  \n",
            " extracting: train/labels/BikesHelmets66_png_jpg.rf.5e220aaefcca69fa2545cf86f8070300.txt  \n",
            " extracting: train/labels/BikesHelmets66_png_jpg.rf.8517f4db7f066adf06bc7751bcadaca8.txt  \n",
            " extracting: train/labels/BikesHelmets66_png_jpg.rf.b2061f7c103bf2371976192f585620b0.txt  \n",
            " extracting: train/labels/BikesHelmets66_png_jpg.rf.d506e342d4a5f533704f3e65b4da6097.txt  \n",
            " extracting: train/labels/BikesHelmets66_png_jpg.rf.ec7046ad3def9a66c891dc412d41478b.txt  \n",
            " extracting: train/labels/BikesHelmets670_png_jpg.rf.1c03e15e5ef16934bb8b777977988bc3.txt  \n",
            " extracting: train/labels/BikesHelmets670_png_jpg.rf.3eb7206d63c6473d7c72d70af444fb3c.txt  \n",
            " extracting: train/labels/BikesHelmets670_png_jpg.rf.4b183e98bbb54bc083e91aff549aa502.txt  \n",
            " extracting: train/labels/BikesHelmets670_png_jpg.rf.540fb4f748820846c3d0a97ba0961d51.txt  \n",
            " extracting: train/labels/BikesHelmets670_png_jpg.rf.7e39e793a5a52bc3b3b0da07bf353924.txt  \n",
            " extracting: train/labels/BikesHelmets670_png_jpg.rf.80189b5deb049695ab9e87bc3237c9a4.txt  \n",
            " extracting: train/labels/BikesHelmets670_png_jpg.rf.d4bf66af21d1681126f061744d34d799.txt  \n",
            " extracting: train/labels/BikesHelmets670_png_jpg.rf.e51bcbfde66bf5566d2639e0d8ff31c2.txt  \n",
            " extracting: train/labels/BikesHelmets670_png_jpg.rf.f4794f6c06aa0537ffd370ca6c88cee8.txt  \n",
            " extracting: train/labels/BikesHelmets672_png_jpg.rf.1c7e63f7b10b251b01a7e2afdc98c6cf.txt  \n",
            " extracting: train/labels/BikesHelmets672_png_jpg.rf.20d05e6d351dd78e0bcde176c851ef6f.txt  \n",
            " extracting: train/labels/BikesHelmets672_png_jpg.rf.2c482d3ac5ff9f67939572cfda960750.txt  \n",
            " extracting: train/labels/BikesHelmets672_png_jpg.rf.360da1f435aed5d521179e2e7a180e99.txt  \n",
            " extracting: train/labels/BikesHelmets672_png_jpg.rf.6bc76d3abb0de68506f09c2f8d73fbdd.txt  \n",
            " extracting: train/labels/BikesHelmets672_png_jpg.rf.8daebc5c0b0caba71edf5bedb306aeeb.txt  \n",
            " extracting: train/labels/BikesHelmets672_png_jpg.rf.ae00c7237f71f08aca0f00732e5f3e06.txt  \n",
            " extracting: train/labels/BikesHelmets672_png_jpg.rf.b4b656be178d7005fef97e6b9accbb8b.txt  \n",
            " extracting: train/labels/BikesHelmets672_png_jpg.rf.ff15ecdfb11521dd8cc7e084eadf71bd.txt  \n",
            " extracting: train/labels/BikesHelmets675_png_jpg.rf.2991b0f9345029d82602ebe292d57df3.txt  \n",
            " extracting: train/labels/BikesHelmets675_png_jpg.rf.3943abb2c084ee114ccf39604b3a32af.txt  \n",
            " extracting: train/labels/BikesHelmets675_png_jpg.rf.500fecd76ff4ed91f944d635d10a7cc7.txt  \n",
            " extracting: train/labels/BikesHelmets675_png_jpg.rf.7a13e7feb75ec630cc27f1fcc0e415c7.txt  \n",
            " extracting: train/labels/BikesHelmets675_png_jpg.rf.7f0fca51dd78bf61d07fc11c5a66ef4a.txt  \n",
            " extracting: train/labels/BikesHelmets675_png_jpg.rf.7f6d24db4f8f23f17dd5c57ff7d733ed.txt  \n",
            " extracting: train/labels/BikesHelmets675_png_jpg.rf.85b29a0a447d4bc6b0d0b437ea0e00d0.txt  \n",
            " extracting: train/labels/BikesHelmets675_png_jpg.rf.e1d66a60ff97d5b4e76482b92d7d9f0a.txt  \n",
            " extracting: train/labels/BikesHelmets675_png_jpg.rf.f61e9fd8a7fad91c08b3ea40bad9caba.txt  \n",
            " extracting: train/labels/BikesHelmets676_png_jpg.rf.047526b2c80e3691f685a714e4cc3c11.txt  \n",
            " extracting: train/labels/BikesHelmets676_png_jpg.rf.14d5f7e77961fffc82e0bb7c8b033994.txt  \n",
            " extracting: train/labels/BikesHelmets676_png_jpg.rf.18b412dda5ab3569602c000e0a7323de.txt  \n",
            " extracting: train/labels/BikesHelmets676_png_jpg.rf.516f3d74e6f3c378b64fbf2ddb980b93.txt  \n",
            " extracting: train/labels/BikesHelmets676_png_jpg.rf.7a33699ff4e7526ce6e1ca33c5df43a0.txt  \n",
            " extracting: train/labels/BikesHelmets676_png_jpg.rf.91f5fc80f2fdb1fcdeb18556ebf5b5ae.txt  \n",
            " extracting: train/labels/BikesHelmets676_png_jpg.rf.99cda1c9bfac06abea1b7f5568574f76.txt  \n",
            " extracting: train/labels/BikesHelmets676_png_jpg.rf.b1560026c33e0d427f04295ee612c31d.txt  \n",
            " extracting: train/labels/BikesHelmets676_png_jpg.rf.c2b191f125f5e77a6477f7aa1a94b396.txt  \n",
            " extracting: train/labels/BikesHelmets677_png_jpg.rf.2e858d37b2c341b1804416d8aea6aa0d.txt  \n",
            " extracting: train/labels/BikesHelmets677_png_jpg.rf.33c3a0de31ab55435520941de27593d5.txt  \n",
            " extracting: train/labels/BikesHelmets677_png_jpg.rf.4b3def262a4412897c6753c444ee547a.txt  \n",
            " extracting: train/labels/BikesHelmets677_png_jpg.rf.7cc8c05950b5e0f60bbf9231837fa94c.txt  \n",
            " extracting: train/labels/BikesHelmets677_png_jpg.rf.8332f2dcbce4387c7ca5a83e92b4ae4f.txt  \n",
            " extracting: train/labels/BikesHelmets677_png_jpg.rf.b7a2bffc047e2069bb1f02413257354a.txt  \n",
            " extracting: train/labels/BikesHelmets677_png_jpg.rf.e02e4fcf7aca34547e931ee91c9e4483.txt  \n",
            " extracting: train/labels/BikesHelmets677_png_jpg.rf.e38d62c7b2ff5c9a4d8ef51dcfd746c5.txt  \n",
            " extracting: train/labels/BikesHelmets677_png_jpg.rf.ec648553fe8cd753fc86d928d97e1575.txt  \n",
            " extracting: train/labels/BikesHelmets678_png_jpg.rf.1b8aa439f19ca5249e852d561e28df1d.txt  \n",
            " extracting: train/labels/BikesHelmets678_png_jpg.rf.31d533b18c758d782a65ba4022e9ef83.txt  \n",
            " extracting: train/labels/BikesHelmets678_png_jpg.rf.5ad4c4c4df61266bf0a9293e96a8ce6c.txt  \n",
            " extracting: train/labels/BikesHelmets678_png_jpg.rf.7de3307492a3157b12e73c6aa3e74a25.txt  \n",
            " extracting: train/labels/BikesHelmets678_png_jpg.rf.df739d27f38e9379f91d20ee30dc4b19.txt  \n",
            " extracting: train/labels/BikesHelmets678_png_jpg.rf.f7f691773545b9e45c481526fc0b4c99.txt  \n",
            " extracting: train/labels/BikesHelmets67_png_jpg.rf.53810362d96aa3374f5da2dbed3f95ca.txt  \n",
            " extracting: train/labels/BikesHelmets67_png_jpg.rf.548a136471da09b4d5813449cd626c95.txt  \n",
            " extracting: train/labels/BikesHelmets67_png_jpg.rf.5c25c49c4623904a58d7587b7faaa181.txt  \n",
            " extracting: train/labels/BikesHelmets67_png_jpg.rf.821929ee15cb5ba6c1c9b9c3d586206d.txt  \n",
            " extracting: train/labels/BikesHelmets67_png_jpg.rf.c2776c41bdf9d6f33f33b60d2afb66cc.txt  \n",
            " extracting: train/labels/BikesHelmets67_png_jpg.rf.eb888fe9fce509fd6e3a2035f58c677a.txt  \n",
            " extracting: train/labels/BikesHelmets680_png_jpg.rf.03dae7aee7221f7f8c3cec1c9b3da411.txt  \n",
            " extracting: train/labels/BikesHelmets680_png_jpg.rf.0455a3c10f7f09b530527fc09766a8d2.txt  \n",
            " extracting: train/labels/BikesHelmets680_png_jpg.rf.0a5e7ae8bd8adf444c6601bb62c0726d.txt  \n",
            " extracting: train/labels/BikesHelmets680_png_jpg.rf.1e7efcd4fe3ea04e3e621aa638951ce9.txt  \n",
            " extracting: train/labels/BikesHelmets680_png_jpg.rf.2d4e474a7e8e97be6f6775a4ef620190.txt  \n",
            " extracting: train/labels/BikesHelmets680_png_jpg.rf.c98debe4ffb384f6d58baa96e79253af.txt  \n",
            " extracting: train/labels/BikesHelmets680_png_jpg.rf.d943e83895fc83f7b8f3a6bdeebeee31.txt  \n",
            " extracting: train/labels/BikesHelmets680_png_jpg.rf.eacddc4888e6b08cac654f8ef194e3a7.txt  \n",
            " extracting: train/labels/BikesHelmets680_png_jpg.rf.fdc46315e5257010b0bece1cc406c528.txt  \n",
            " extracting: train/labels/BikesHelmets683_png_jpg.rf.1b2fce5715a1dc2fa2d43d4198ea3883.txt  \n",
            " extracting: train/labels/BikesHelmets683_png_jpg.rf.23ee874ab3dbe65dccb3d0844f0625c5.txt  \n",
            " extracting: train/labels/BikesHelmets683_png_jpg.rf.341d95a09711ccfbffda07b29897bf9c.txt  \n",
            " extracting: train/labels/BikesHelmets683_png_jpg.rf.6e9ddee8f8f2494f076395769785d534.txt  \n",
            " extracting: train/labels/BikesHelmets683_png_jpg.rf.8cf84a630e16340eea0ba33f1b66c230.txt  \n",
            " extracting: train/labels/BikesHelmets683_png_jpg.rf.97350bc0a547037586aef4c842b22964.txt  \n",
            " extracting: train/labels/BikesHelmets683_png_jpg.rf.b680791c2a89fcf250046922436f3f4a.txt  \n",
            " extracting: train/labels/BikesHelmets683_png_jpg.rf.cb41d1739d99aa84196d52d53d7e52dc.txt  \n",
            " extracting: train/labels/BikesHelmets683_png_jpg.rf.d3cfec518bbcf557001e323e091aa36d.txt  \n",
            " extracting: train/labels/BikesHelmets684_png_jpg.rf.0c79055696beda28353e5700db76fa9b.txt  \n",
            " extracting: train/labels/BikesHelmets684_png_jpg.rf.4cfffb881ff3e9391f6e2b6cb949a932.txt  \n",
            " extracting: train/labels/BikesHelmets684_png_jpg.rf.5a29084b8701c9d416aaa019ede759a3.txt  \n",
            " extracting: train/labels/BikesHelmets684_png_jpg.rf.79e97d65d6b265438b06e182a1159ebb.txt  \n",
            " extracting: train/labels/BikesHelmets684_png_jpg.rf.880a419edaf54eb3fa84e3abc00c4c51.txt  \n",
            " extracting: train/labels/BikesHelmets684_png_jpg.rf.8d4724671eb34b63fca7016ec70c8a36.txt  \n",
            " extracting: train/labels/BikesHelmets685_png_jpg.rf.5fb8e9c007aea9dcb4d057c7335463fa.txt  \n",
            " extracting: train/labels/BikesHelmets685_png_jpg.rf.8e283e09078e9c1bf65f1b51988855f7.txt  \n",
            " extracting: train/labels/BikesHelmets685_png_jpg.rf.bd44b0c01f1ffc483f80aea690d9e12e.txt  \n",
            " extracting: train/labels/BikesHelmets686_png_jpg.rf.11a217339a70f3cc0618345a15356364.txt  \n",
            " extracting: train/labels/BikesHelmets686_png_jpg.rf.5f4114eced6ca58a25a10de873bd0093.txt  \n",
            " extracting: train/labels/BikesHelmets686_png_jpg.rf.6632c592612ea6eee9974dd21d3d63c8.txt  \n",
            " extracting: train/labels/BikesHelmets686_png_jpg.rf.7f2baca7febdb7dc68adc10f7e37d5eb.txt  \n",
            " extracting: train/labels/BikesHelmets686_png_jpg.rf.7fc07c4d8d6b02715d18ac309b4253d4.txt  \n",
            " extracting: train/labels/BikesHelmets686_png_jpg.rf.8aa5550fae9af3c80b9e5649ff6e5366.txt  \n",
            " extracting: train/labels/BikesHelmets686_png_jpg.rf.9800e5ea8467161ccd84cb0f9c9b0b11.txt  \n",
            " extracting: train/labels/BikesHelmets686_png_jpg.rf.9b69eb7cd70386f6b06195d610452eec.txt  \n",
            " extracting: train/labels/BikesHelmets686_png_jpg.rf.e7f8699165f45369795a846a84271a50.txt  \n",
            " extracting: train/labels/BikesHelmets687_png_jpg.rf.03236d9d26ea742e754036e3a4a46835.txt  \n",
            " extracting: train/labels/BikesHelmets687_png_jpg.rf.2211ecf328d8b856a8e0ce7386ac0117.txt  \n",
            " extracting: train/labels/BikesHelmets687_png_jpg.rf.48efb8e993e200a14f7669358db71da0.txt  \n",
            " extracting: train/labels/BikesHelmets687_png_jpg.rf.6961dd043305e16e1c2b9a4e2586d88c.txt  \n",
            " extracting: train/labels/BikesHelmets687_png_jpg.rf.7bdef49917c5f2eac3657e4236d244a0.txt  \n",
            " extracting: train/labels/BikesHelmets687_png_jpg.rf.a7d0c728100e0121adb07ffbba311a17.txt  \n",
            " extracting: train/labels/BikesHelmets687_png_jpg.rf.bbf3df2e547d6a2f7f731a636cf2216a.txt  \n",
            " extracting: train/labels/BikesHelmets687_png_jpg.rf.d85e435007e9d5d99fff966ec7337691.txt  \n",
            " extracting: train/labels/BikesHelmets687_png_jpg.rf.e420b64756c72427b80e55b476b88f21.txt  \n",
            " extracting: train/labels/BikesHelmets688_png_jpg.rf.0e566f9fff1ca5ba3ccfe4651e5144be.txt  \n",
            " extracting: train/labels/BikesHelmets688_png_jpg.rf.59675d2c82df04be571a54a4f9d63b82.txt  \n",
            " extracting: train/labels/BikesHelmets688_png_jpg.rf.b4f0ae09c9d1e959cc23d58a4f832570.txt  \n",
            " extracting: train/labels/BikesHelmets688_png_jpg.rf.c1c5b40c3c610113602b47f401ed1ce8.txt  \n",
            " extracting: train/labels/BikesHelmets688_png_jpg.rf.c4954b8e563f60bd8c6b095d7c5879a5.txt  \n",
            " extracting: train/labels/BikesHelmets688_png_jpg.rf.dbbb22c919e0dd906f5525480ff08c0b.txt  \n",
            " extracting: train/labels/BikesHelmets689_png_jpg.rf.3ce2651868caac2c023c7210f58f9aeb.txt  \n",
            " extracting: train/labels/BikesHelmets689_png_jpg.rf.3e56708e801555fbdfdbb79905b5e91a.txt  \n",
            " extracting: train/labels/BikesHelmets689_png_jpg.rf.4a26f1c8edb5aca21231c85734dc7d48.txt  \n",
            " extracting: train/labels/BikesHelmets689_png_jpg.rf.7bf25601107e891b6be8fb7615513507.txt  \n",
            " extracting: train/labels/BikesHelmets689_png_jpg.rf.7cbed7b26a635b7a45aadc1a66b3363a.txt  \n",
            " extracting: train/labels/BikesHelmets689_png_jpg.rf.90d78964f64b89f02d438217bd3604d3.txt  \n",
            " extracting: train/labels/BikesHelmets689_png_jpg.rf.9f16d2262aed824692378aaff06d30be.txt  \n",
            " extracting: train/labels/BikesHelmets689_png_jpg.rf.aed8ece6b6417f3a19b13bf0fb98d179.txt  \n",
            " extracting: train/labels/BikesHelmets689_png_jpg.rf.cbf2c72b425d3917834092de8ef1b521.txt  \n",
            " extracting: train/labels/BikesHelmets690_png_jpg.rf.6225f1dffa5f6b46ed4658d4bb874b92.txt  \n",
            " extracting: train/labels/BikesHelmets690_png_jpg.rf.6737fb8e02e32679156c42b92853e2b6.txt  \n",
            " extracting: train/labels/BikesHelmets690_png_jpg.rf.6cdfdcff07daff9cc894314d1910719e.txt  \n",
            " extracting: train/labels/BikesHelmets690_png_jpg.rf.8810290255b875fb621ea146af94926f.txt  \n",
            " extracting: train/labels/BikesHelmets690_png_jpg.rf.bb3d7de0f1539f550a9289b5f53bfa1b.txt  \n",
            " extracting: train/labels/BikesHelmets690_png_jpg.rf.c80718322cbd09507b897e3da0aa6f3d.txt  \n",
            " extracting: train/labels/BikesHelmets690_png_jpg.rf.d40c34a6e68c7d78a7a53a77f70eaddc.txt  \n",
            " extracting: train/labels/BikesHelmets690_png_jpg.rf.e1f12ae096382ecde33c8427f4448145.txt  \n",
            " extracting: train/labels/BikesHelmets690_png_jpg.rf.ea03ef5c738b83473b72507fdce8d774.txt  \n",
            " extracting: train/labels/BikesHelmets693_png_jpg.rf.30fe04691224b089f17a67cfde6737cb.txt  \n",
            " extracting: train/labels/BikesHelmets693_png_jpg.rf.325c6cf2cb8bbc1abf013655ce3021be.txt  \n",
            " extracting: train/labels/BikesHelmets693_png_jpg.rf.36c9ff9b2a65a802c2ceec6ff5593c9d.txt  \n",
            " extracting: train/labels/BikesHelmets693_png_jpg.rf.56ddd90ed468aeceb9d7708f0a1ec589.txt  \n",
            " extracting: train/labels/BikesHelmets693_png_jpg.rf.7bfea395b487d6973a28136bfdbbfd00.txt  \n",
            " extracting: train/labels/BikesHelmets693_png_jpg.rf.adb9cd7edaa33b09a024ab6db910b004.txt  \n",
            " extracting: train/labels/BikesHelmets693_png_jpg.rf.ddffa3a176515aea73c205e99841c35c.txt  \n",
            " extracting: train/labels/BikesHelmets693_png_jpg.rf.de26ed063c8a984c84db30adaac320f8.txt  \n",
            " extracting: train/labels/BikesHelmets693_png_jpg.rf.f24d90703742a0b91dcc67aca2ee0496.txt  \n",
            " extracting: train/labels/BikesHelmets69_png_jpg.rf.02df4ff13afbc2ae4877b4da46297d88.txt  \n",
            " extracting: train/labels/BikesHelmets69_png_jpg.rf.3a915ee506cc93de06fc359636f7703a.txt  \n",
            " extracting: train/labels/BikesHelmets69_png_jpg.rf.8cf575fe8ffd36fab4b88e528023b269.txt  \n",
            " extracting: train/labels/BikesHelmets69_png_jpg.rf.b4c771cb9e7942d86ddb7cdb751529b3.txt  \n",
            " extracting: train/labels/BikesHelmets69_png_jpg.rf.c952f9288e1f59199687b979ac99adba.txt  \n",
            " extracting: train/labels/BikesHelmets69_png_jpg.rf.e341ed050742467ada8ce13ca890f5fa.txt  \n",
            " extracting: train/labels/BikesHelmets6_png_jpg.rf.1239839c5f745a07a429b7ddfb34e8c2.txt  \n",
            " extracting: train/labels/BikesHelmets6_png_jpg.rf.191334acf990212526b5a3d73da0dbb9.txt  \n",
            " extracting: train/labels/BikesHelmets6_png_jpg.rf.1dda247dcf5250476c4e78b5b8a1a115.txt  \n",
            " extracting: train/labels/BikesHelmets6_png_jpg.rf.2f7ad38e3f686f30c620b0c2a2ca8d80.txt  \n",
            " extracting: train/labels/BikesHelmets6_png_jpg.rf.353e422957083a72f4c903e649508d46.txt  \n",
            " extracting: train/labels/BikesHelmets6_png_jpg.rf.896f8f03c39186ea5b2d678c7af3a620.txt  \n",
            " extracting: train/labels/BikesHelmets6_png_jpg.rf.d39bd09a8aa997f3f222664076f418c7.txt  \n",
            " extracting: train/labels/BikesHelmets6_png_jpg.rf.f4099bffbb0c4e21ac05f659bcd114fd.txt  \n",
            " extracting: train/labels/BikesHelmets6_png_jpg.rf.f7e6fd0fd1d180de30ee3efe416098f2.txt  \n",
            " extracting: train/labels/BikesHelmets700_png_jpg.rf.09eda01e3ba1cf1686026da626e809fd.txt  \n",
            " extracting: train/labels/BikesHelmets700_png_jpg.rf.1b2a0516461bb2ec7582cd90f1ad48dd.txt  \n",
            " extracting: train/labels/BikesHelmets700_png_jpg.rf.445ba745902cc260435bf52ea8faa868.txt  \n",
            " extracting: train/labels/BikesHelmets700_png_jpg.rf.470c3caa0ebd4cc8a698f066694ebce1.txt  \n",
            " extracting: train/labels/BikesHelmets700_png_jpg.rf.60d23fa6e756462ffb35633978168b98.txt  \n",
            " extracting: train/labels/BikesHelmets700_png_jpg.rf.997b89a57fcf1ecf7005362aa7dc6e9c.txt  \n",
            " extracting: train/labels/BikesHelmets700_png_jpg.rf.db340d3f6b3d083fd84a8c7e77871114.txt  \n",
            " extracting: train/labels/BikesHelmets700_png_jpg.rf.f2f381d06f2894133c61716264c96be9.txt  \n",
            " extracting: train/labels/BikesHelmets700_png_jpg.rf.f7c3ece6094af54a6c7a3f7d19903dcf.txt  \n",
            " extracting: train/labels/BikesHelmets702_png_jpg.rf.1a3a836def98aa6a5cb0cab2a5198e5c.txt  \n",
            " extracting: train/labels/BikesHelmets702_png_jpg.rf.27810617253a136e5ac74bc825ae1c2a.txt  \n",
            " extracting: train/labels/BikesHelmets702_png_jpg.rf.487230d327f773fed153d78d44f519be.txt  \n",
            " extracting: train/labels/BikesHelmets702_png_jpg.rf.4d775544f273bd7b9c6ea8a3bc4ae8b9.txt  \n",
            " extracting: train/labels/BikesHelmets702_png_jpg.rf.6d5afab389d06363d12d0e701161920e.txt  \n",
            " extracting: train/labels/BikesHelmets702_png_jpg.rf.79136c27030764cb3f84bbee3ba9ac86.txt  \n",
            " extracting: train/labels/BikesHelmets702_png_jpg.rf.9030c552b061ab9b4d26cbf897a08c60.txt  \n",
            " extracting: train/labels/BikesHelmets702_png_jpg.rf.dd200c79f08ddb05883b6d6d62da5857.txt  \n",
            " extracting: train/labels/BikesHelmets702_png_jpg.rf.feed8a50ce4a2aca71ec007de84054d6.txt  \n",
            " extracting: train/labels/BikesHelmets705_png_jpg.rf.17d258bd323733363961eed1fa03a615.txt  \n",
            " extracting: train/labels/BikesHelmets705_png_jpg.rf.3dfdc6b473300000e18e1eab831c5a6c.txt  \n",
            " extracting: train/labels/BikesHelmets705_png_jpg.rf.d57c5e035e0d51d2452b0dd349839ca8.txt  \n",
            " extracting: train/labels/BikesHelmets706_png_jpg.rf.0a9a7c6580b29f25d004385f3b6d7221.txt  \n",
            " extracting: train/labels/BikesHelmets706_png_jpg.rf.756abdbf1ce98f880795478628698594.txt  \n",
            " extracting: train/labels/BikesHelmets706_png_jpg.rf.82938cf5077383713ff6f4e7bc0d517f.txt  \n",
            " extracting: train/labels/BikesHelmets706_png_jpg.rf.861350cf915ea1c953b1b29c41d6a201.txt  \n",
            " extracting: train/labels/BikesHelmets706_png_jpg.rf.a139648c844fb31ab2f0396d5ef0fe53.txt  \n",
            " extracting: train/labels/BikesHelmets706_png_jpg.rf.b36d16e3532b7a8210d5b1ff0bfce973.txt  \n",
            " extracting: train/labels/BikesHelmets706_png_jpg.rf.ba908a6e539706f49f859aa9400310a3.txt  \n",
            " extracting: train/labels/BikesHelmets706_png_jpg.rf.cf6a18995f11952e67c4a904d52903c1.txt  \n",
            " extracting: train/labels/BikesHelmets706_png_jpg.rf.e6dd9d047a5d91d5946790d90afb47b5.txt  \n",
            " extracting: train/labels/BikesHelmets707_png_jpg.rf.30a9035b04e4276b5e2fffa889f74ed6.txt  \n",
            " extracting: train/labels/BikesHelmets707_png_jpg.rf.34ea0f3c33ceff0245be9a7be7ad63f0.txt  \n",
            " extracting: train/labels/BikesHelmets707_png_jpg.rf.5a76541968e393dfff8ab5ddf9546b95.txt  \n",
            " extracting: train/labels/BikesHelmets707_png_jpg.rf.5cbc25883625c821dac1ac57388a2c48.txt  \n",
            " extracting: train/labels/BikesHelmets707_png_jpg.rf.5d1d54b8958b82f1a559c4134da9839e.txt  \n",
            " extracting: train/labels/BikesHelmets707_png_jpg.rf.7d42db87e32b5316721a1eca92308c23.txt  \n",
            " extracting: train/labels/BikesHelmets707_png_jpg.rf.9ee7d9108ac6150fa39e3166d734103a.txt  \n",
            " extracting: train/labels/BikesHelmets707_png_jpg.rf.cf17c01f604c5fb9257784e35cddf8c9.txt  \n",
            " extracting: train/labels/BikesHelmets707_png_jpg.rf.e8b071cbbe9b64af11c940b3bbdfb9dc.txt  \n",
            " extracting: train/labels/BikesHelmets709_png_jpg.rf.60c9b7825cb907e02e65619b6d0c8481.txt  \n",
            " extracting: train/labels/BikesHelmets709_png_jpg.rf.6702fba011e5453a2f29e8a8cc3a07dc.txt  \n",
            " extracting: train/labels/BikesHelmets709_png_jpg.rf.82f929faa9716f9f696a2e36e052a25e.txt  \n",
            " extracting: train/labels/BikesHelmets709_png_jpg.rf.8dccb49df12af015e2b8c4e064d431de.txt  \n",
            " extracting: train/labels/BikesHelmets709_png_jpg.rf.99d3b74978449920b4e9f436438adece.txt  \n",
            " extracting: train/labels/BikesHelmets709_png_jpg.rf.df3914bd860615b495f9d34752e496d8.txt  \n",
            " extracting: train/labels/BikesHelmets714_png_jpg.rf.00289d614b7cabcad316143328bde39b.txt  \n",
            " extracting: train/labels/BikesHelmets714_png_jpg.rf.0ac0dc33f8d50bcfa5fa2e281e52f6d4.txt  \n",
            " extracting: train/labels/BikesHelmets714_png_jpg.rf.3132a7f3649eacc075c3b3f1cbba9132.txt  \n",
            " extracting: train/labels/BikesHelmets714_png_jpg.rf.4a034eb3808d3607a4a42aa5d9dc9b6c.txt  \n",
            " extracting: train/labels/BikesHelmets714_png_jpg.rf.8a3926af4638119c4318a140f7bc040f.txt  \n",
            " extracting: train/labels/BikesHelmets714_png_jpg.rf.90bffe0660bc9d28777776996f86997b.txt  \n",
            " extracting: train/labels/BikesHelmets714_png_jpg.rf.97ab016a1407b9332019b8a972067425.txt  \n",
            " extracting: train/labels/BikesHelmets714_png_jpg.rf.aaaf0c814704b94220a30b88cde8bb3a.txt  \n",
            " extracting: train/labels/BikesHelmets714_png_jpg.rf.ce4dccee3e3d1728f40957620b14c52c.txt  \n",
            " extracting: train/labels/BikesHelmets715_png_jpg.rf.461750b1c98358b537f2bb4d571a7cda.txt  \n",
            " extracting: train/labels/BikesHelmets715_png_jpg.rf.64634ebb1cd9f7505f1c97d89eaf6bb5.txt  \n",
            " extracting: train/labels/BikesHelmets715_png_jpg.rf.8646f51badfba7b2d39f2552309c58d4.txt  \n",
            " extracting: train/labels/BikesHelmets715_png_jpg.rf.ed0a7b22b5cbfb370f85e23d551c51e3.txt  \n",
            " extracting: train/labels/BikesHelmets715_png_jpg.rf.f33fbfa152bbb93f0d7fac800db5c125.txt  \n",
            " extracting: train/labels/BikesHelmets715_png_jpg.rf.f54d4599fef16fe770c68cf9e9b15843.txt  \n",
            " extracting: train/labels/BikesHelmets721_png_jpg.rf.91d01039e3181c3b69d6416076d73b10.txt  \n",
            " extracting: train/labels/BikesHelmets721_png_jpg.rf.b58edc6550569a3432d2f07fa59b92a9.txt  \n",
            " extracting: train/labels/BikesHelmets721_png_jpg.rf.c0d33629f25493a52c5df6ed0219ffeb.txt  \n",
            " extracting: train/labels/BikesHelmets721_png_jpg.rf.c11b748ec773f50553566b2f68357b10.txt  \n",
            " extracting: train/labels/BikesHelmets721_png_jpg.rf.d465e8cf8cfccea68ff84b41a84cc92d.txt  \n",
            " extracting: train/labels/BikesHelmets721_png_jpg.rf.d9dc70c1a619d300731463b4590f700a.txt  \n",
            " extracting: train/labels/BikesHelmets722_png_jpg.rf.5fd13d6eccf3d5d0d282992db16fed55.txt  \n",
            " extracting: train/labels/BikesHelmets722_png_jpg.rf.7ae1cd31a62f0b0da781d8d25545ed1b.txt  \n",
            " extracting: train/labels/BikesHelmets722_png_jpg.rf.9f29f3da49eb6cd6ec479513cecd1ee2.txt  \n",
            " extracting: train/labels/BikesHelmets722_png_jpg.rf.a27671fb7c190f60dc814e2fa0e2aea3.txt  \n",
            " extracting: train/labels/BikesHelmets722_png_jpg.rf.abba4195bf830ef14c50fa7e9424f883.txt  \n",
            " extracting: train/labels/BikesHelmets722_png_jpg.rf.c815c19fd519c0fd7b5813bab379fb4b.txt  \n",
            " extracting: train/labels/BikesHelmets724_png_jpg.rf.451df3c910a70a3c2951b23b97425bf3.txt  \n",
            " extracting: train/labels/BikesHelmets724_png_jpg.rf.5728e9de0bec1cd3830113fb76bd0d74.txt  \n",
            " extracting: train/labels/BikesHelmets724_png_jpg.rf.7b5f134585153d244064f3d56a933431.txt  \n",
            " extracting: train/labels/BikesHelmets724_png_jpg.rf.c047e3a400efe9893117de0dd6f11be4.txt  \n",
            " extracting: train/labels/BikesHelmets724_png_jpg.rf.c796d170fa4f705e2c84a4cd4c6f9189.txt  \n",
            " extracting: train/labels/BikesHelmets724_png_jpg.rf.cdedc551ffd1975b83163617046411fe.txt  \n",
            " extracting: train/labels/BikesHelmets724_png_jpg.rf.d249b26993083a412714bc9887b03280.txt  \n",
            " extracting: train/labels/BikesHelmets724_png_jpg.rf.dc6fe7743f949747b5bcea8be9c49e3e.txt  \n",
            " extracting: train/labels/BikesHelmets724_png_jpg.rf.e958102d6c73c07bf49255165c64a05f.txt  \n",
            " extracting: train/labels/BikesHelmets726_png_jpg.rf.2e031abb69790d85b2bfa087ac5c6c33.txt  \n",
            " extracting: train/labels/BikesHelmets726_png_jpg.rf.49f9cbf321a827589646b1ccd039f84b.txt  \n",
            " extracting: train/labels/BikesHelmets726_png_jpg.rf.592784ca858bae745923548dc2364d7d.txt  \n",
            " extracting: train/labels/BikesHelmets726_png_jpg.rf.7c8a6f57fa01eb8b97eb7404d6c40da3.txt  \n",
            " extracting: train/labels/BikesHelmets726_png_jpg.rf.a2550ed68d8526e7fc2dd05152bddeae.txt  \n",
            " extracting: train/labels/BikesHelmets726_png_jpg.rf.c358c0408b5f1e5fe9fbcf4bb71cab23.txt  \n",
            " extracting: train/labels/BikesHelmets72_png_jpg.rf.0c9a5a9640dd5caa5f35598ab605998d.txt  \n",
            " extracting: train/labels/BikesHelmets72_png_jpg.rf.2dc32af15b01536a7df219d50db14ad5.txt  \n",
            " extracting: train/labels/BikesHelmets72_png_jpg.rf.440609c9fd98cfa5dbed9c187f6845be.txt  \n",
            " extracting: train/labels/BikesHelmets72_png_jpg.rf.cba22b18a0993d38a735b8c5c63d156d.txt  \n",
            " extracting: train/labels/BikesHelmets72_png_jpg.rf.cdb57d600493a82216fe7fd1013992f1.txt  \n",
            " extracting: train/labels/BikesHelmets72_png_jpg.rf.f4a70208a14d89d9a8347fb1d9ca73db.txt  \n",
            " extracting: train/labels/BikesHelmets730_png_jpg.rf.1032b34dcc2dfb5acff915b5de379b8e.txt  \n",
            " extracting: train/labels/BikesHelmets730_png_jpg.rf.2a41454e80fa9d3e12c35c67b5c966ed.txt  \n",
            " extracting: train/labels/BikesHelmets730_png_jpg.rf.e0de63dacc7f3f919d084badb6d2019c.txt  \n",
            " extracting: train/labels/BikesHelmets730_png_jpg.rf.e3e37a17fdfa2a8394f39f7baf359f59.txt  \n",
            " extracting: train/labels/BikesHelmets730_png_jpg.rf.eca453a1eaa40d9dd4222a560144facd.txt  \n",
            " extracting: train/labels/BikesHelmets730_png_jpg.rf.fcbb96393a87b3824979805640809f50.txt  \n",
            " extracting: train/labels/BikesHelmets731_png_jpg.rf.2dfcb357310f014d5ede005020a0c2fc.txt  \n",
            " extracting: train/labels/BikesHelmets731_png_jpg.rf.43b65ec66692e50e7512a95d58d3b196.txt  \n",
            " extracting: train/labels/BikesHelmets731_png_jpg.rf.5b022a477eafbc88cc1da8e4d807d53a.txt  \n",
            " extracting: train/labels/BikesHelmets731_png_jpg.rf.833e02124c2000b92f8107944ea936f8.txt  \n",
            " extracting: train/labels/BikesHelmets731_png_jpg.rf.8a51baa668e81bf0c105e6b975e13e2b.txt  \n",
            " extracting: train/labels/BikesHelmets731_png_jpg.rf.b998cac4ff718bf19e87d9189da2cbcd.txt  \n",
            " extracting: train/labels/BikesHelmets733_png_jpg.rf.278b9babd48417460d2b21d3fd762090.txt  \n",
            " extracting: train/labels/BikesHelmets733_png_jpg.rf.2c9f11c4f37bfedb6daf1cfc14c361ae.txt  \n",
            " extracting: train/labels/BikesHelmets733_png_jpg.rf.373e430e86fe77e5185ec6aa6c81c858.txt  \n",
            " extracting: train/labels/BikesHelmets733_png_jpg.rf.37c1390f7c34b2a35bf9deb5d52b9a46.txt  \n",
            " extracting: train/labels/BikesHelmets733_png_jpg.rf.9f8dc958e3fe105abeb203169b1bf351.txt  \n",
            " extracting: train/labels/BikesHelmets733_png_jpg.rf.d627ff02ba6b1ef781ffa911352b2137.txt  \n",
            " extracting: train/labels/BikesHelmets733_png_jpg.rf.e5b96a25d8690b6ad519bfb2762ebb8c.txt  \n",
            " extracting: train/labels/BikesHelmets733_png_jpg.rf.e6bc6c746c491abfff36b2ccb6c907a9.txt  \n",
            " extracting: train/labels/BikesHelmets733_png_jpg.rf.f94ed66d94f50199804e6f414acd214f.txt  \n",
            " extracting: train/labels/BikesHelmets734_png_jpg.rf.0b8aa0a872026151cd916a3f20eb0587.txt  \n",
            " extracting: train/labels/BikesHelmets734_png_jpg.rf.1d0c5df341aec7d107b79c80f59cbd96.txt  \n",
            " extracting: train/labels/BikesHelmets734_png_jpg.rf.25c62bdf03ab3324736b852fe0d435a2.txt  \n",
            " extracting: train/labels/BikesHelmets734_png_jpg.rf.7353ad2750a84fed45763c7479f5c725.txt  \n",
            " extracting: train/labels/BikesHelmets734_png_jpg.rf.98ff7b53ee789e910e9faa2e4db2d4c6.txt  \n",
            " extracting: train/labels/BikesHelmets734_png_jpg.rf.c9571c0614be8f2f054ec5d89478e1f9.txt  \n",
            " extracting: train/labels/BikesHelmets735_png_jpg.rf.040790d217aa0c59cc6a18b4eaa84326.txt  \n",
            " extracting: train/labels/BikesHelmets735_png_jpg.rf.0ded09f4c6c47ef1589bf12de8e99faa.txt  \n",
            " extracting: train/labels/BikesHelmets735_png_jpg.rf.212dd73e90737c27cfa7a5c52a5e9f25.txt  \n",
            " extracting: train/labels/BikesHelmets735_png_jpg.rf.5ffc023152e360d0e3a653c3e9a9749f.txt  \n",
            " extracting: train/labels/BikesHelmets735_png_jpg.rf.78f13b02128b82059d58b501f8014959.txt  \n",
            " extracting: train/labels/BikesHelmets735_png_jpg.rf.b1361b9b86321915d4d0b3271486c4eb.txt  \n",
            " extracting: train/labels/BikesHelmets737_png_jpg.rf.0e842c0ca8da204bbddcf49a7c25017a.txt  \n",
            " extracting: train/labels/BikesHelmets737_png_jpg.rf.5e9e23ec2c80568ff639d6f1e9bae89d.txt  \n",
            " extracting: train/labels/BikesHelmets737_png_jpg.rf.6b3f102285863e12e10f33f1e352a207.txt  \n",
            " extracting: train/labels/BikesHelmets737_png_jpg.rf.7e685e6d63743ef1cbac69b54b2f3e88.txt  \n",
            " extracting: train/labels/BikesHelmets737_png_jpg.rf.87456700689becb6dfc5d7482d9b9182.txt  \n",
            " extracting: train/labels/BikesHelmets737_png_jpg.rf.971a98802953c37ec7b815c9c73874af.txt  \n",
            " extracting: train/labels/BikesHelmets737_png_jpg.rf.b517655307bc636e6700161b63df9fed.txt  \n",
            " extracting: train/labels/BikesHelmets737_png_jpg.rf.bc6555e0c35472b3d35672931a88f0ca.txt  \n",
            " extracting: train/labels/BikesHelmets737_png_jpg.rf.da1109e401e93beaad2406bbc3321a28.txt  \n",
            " extracting: train/labels/BikesHelmets738_png_jpg.rf.4fd340517fa568043b45ef1d13dfe9e7.txt  \n",
            " extracting: train/labels/BikesHelmets738_png_jpg.rf.8db937f1af6673e463d9dfecec57007c.txt  \n",
            " extracting: train/labels/BikesHelmets738_png_jpg.rf.b2e5eb6020bf027ce878d82bed8ad2a4.txt  \n",
            " extracting: train/labels/BikesHelmets738_png_jpg.rf.b4def1adf76f6451179cee37e783f3ab.txt  \n",
            " extracting: train/labels/BikesHelmets738_png_jpg.rf.df11f54f7aa8c7d2d7e359935ba4ec52.txt  \n",
            " extracting: train/labels/BikesHelmets738_png_jpg.rf.edc1ec1979af9ed144469e333c526bf8.txt  \n",
            " extracting: train/labels/BikesHelmets73_png_jpg.rf.00507c91b539b0ada1694ff2bf71a38b.txt  \n",
            " extracting: train/labels/BikesHelmets73_png_jpg.rf.049e94cd2f7627d1de838e6ab2234add.txt  \n",
            " extracting: train/labels/BikesHelmets73_png_jpg.rf.323823ad8d2d22af70b0284bc3d9a809.txt  \n",
            " extracting: train/labels/BikesHelmets73_png_jpg.rf.502cb28cf8b7c2b20a0b466c3fce9a4a.txt  \n",
            " extracting: train/labels/BikesHelmets73_png_jpg.rf.517456617b19cc607a148dab111e9771.txt  \n",
            " extracting: train/labels/BikesHelmets73_png_jpg.rf.6e7b20d51b9677acf9cbeb9540e04360.txt  \n",
            " extracting: train/labels/BikesHelmets73_png_jpg.rf.b1f876b49ebfda9caa463166e1620eac.txt  \n",
            " extracting: train/labels/BikesHelmets73_png_jpg.rf.c62f43e802d333a7910456c38d02f244.txt  \n",
            " extracting: train/labels/BikesHelmets73_png_jpg.rf.db2e9971c886a9a2830fd3f048b164e4.txt  \n",
            " extracting: train/labels/BikesHelmets741_png_jpg.rf.5ce6a9002028ef59f63edc45d557f56d.txt  \n",
            " extracting: train/labels/BikesHelmets741_png_jpg.rf.a4d62278a1d42f79123dfe52be77443c.txt  \n",
            " extracting: train/labels/BikesHelmets741_png_jpg.rf.a57ee301b0c614e990fb61cbe85d93bd.txt  \n",
            " extracting: train/labels/BikesHelmets741_png_jpg.rf.b5f7ec61f07ae7a92cbfde47c717dfba.txt  \n",
            " extracting: train/labels/BikesHelmets741_png_jpg.rf.bff609afb54de1af07ad7c5d39de7516.txt  \n",
            " extracting: train/labels/BikesHelmets741_png_jpg.rf.d395e3741b25a8f6c253600d8f6df4ac.txt  \n",
            " extracting: train/labels/BikesHelmets744_png_jpg.rf.0739a47711ab113e9289c56b7be57b36.txt  \n",
            " extracting: train/labels/BikesHelmets744_png_jpg.rf.1fe870314f2f796b34867f7be3a48eff.txt  \n",
            " extracting: train/labels/BikesHelmets744_png_jpg.rf.3acf165be1dc33fa9b037ced6d68d1dd.txt  \n",
            " extracting: train/labels/BikesHelmets744_png_jpg.rf.5f24a867c3bbcfc6bd76d443f5e938af.txt  \n",
            " extracting: train/labels/BikesHelmets744_png_jpg.rf.6d4b84e3e0c8b22bdd0196e5baa0c9e4.txt  \n",
            " extracting: train/labels/BikesHelmets744_png_jpg.rf.7c535650a3143063fa27422e27948242.txt  \n",
            " extracting: train/labels/BikesHelmets744_png_jpg.rf.8a6b32a7c939627f2e6872e0cd1114be.txt  \n",
            " extracting: train/labels/BikesHelmets744_png_jpg.rf.8c8f2bafbffe1fcdcfb2e411a08b39d0.txt  \n",
            " extracting: train/labels/BikesHelmets744_png_jpg.rf.d1127306afe0f0fd915347a0c47cde19.txt  \n",
            " extracting: train/labels/BikesHelmets745_png_jpg.rf.3317a6c71fa48d77da164ef4a319181a.txt  \n",
            " extracting: train/labels/BikesHelmets745_png_jpg.rf.387851de75acb2b20c954dc11f6a8154.txt  \n",
            " extracting: train/labels/BikesHelmets745_png_jpg.rf.490c1a74ccaa2fc99f7b595910d23880.txt  \n",
            " extracting: train/labels/BikesHelmets745_png_jpg.rf.4d17075146c8657f98ecaed3ff7afaaa.txt  \n",
            " extracting: train/labels/BikesHelmets745_png_jpg.rf.53c48771d8c8c18e061d2fe2d88880cf.txt  \n",
            " extracting: train/labels/BikesHelmets745_png_jpg.rf.56881458f4cb610874448675aec8257d.txt  \n",
            " extracting: train/labels/BikesHelmets745_png_jpg.rf.b1e9c5d2f839f202ed4593d470e1811b.txt  \n",
            " extracting: train/labels/BikesHelmets745_png_jpg.rf.c5f6a883630ffe3d0a731b8f8ec5d888.txt  \n",
            " extracting: train/labels/BikesHelmets745_png_jpg.rf.dd6da056accd5bd79e71eddb2f69dc17.txt  \n",
            " extracting: train/labels/BikesHelmets746_png_jpg.rf.000377b2cad3f9a4b19a821facb0a837.txt  \n",
            " extracting: train/labels/BikesHelmets746_png_jpg.rf.152351c740790ff054de717b2591b08b.txt  \n",
            " extracting: train/labels/BikesHelmets746_png_jpg.rf.418d340cafdbdb477e42b5b1ba1ff90f.txt  \n",
            " extracting: train/labels/BikesHelmets746_png_jpg.rf.753207982146c29e1b9de225511cb425.txt  \n",
            " extracting: train/labels/BikesHelmets746_png_jpg.rf.9f739767ccb5be2807dfe4c450626701.txt  \n",
            " extracting: train/labels/BikesHelmets746_png_jpg.rf.b1d082740f572509c393c2bdeee2e5ac.txt  \n",
            " extracting: train/labels/BikesHelmets746_png_jpg.rf.ca721cb766def3fae90d5cc736bd6455.txt  \n",
            " extracting: train/labels/BikesHelmets746_png_jpg.rf.d929b66c62a7730f1142272b01aa3af2.txt  \n",
            " extracting: train/labels/BikesHelmets746_png_jpg.rf.db68350b875812f15187ce97dbf2e83c.txt  \n",
            " extracting: train/labels/BikesHelmets747_png_jpg.rf.2f37c92bc2c8caf4ecd269b1d19e475a.txt  \n",
            " extracting: train/labels/BikesHelmets747_png_jpg.rf.41e09702ced26dbff662167ef78bcc70.txt  \n",
            " extracting: train/labels/BikesHelmets747_png_jpg.rf.5321e63aa68ae04c9736236e7c2c4363.txt  \n",
            " extracting: train/labels/BikesHelmets747_png_jpg.rf.53ce03e9074d79bff90a7ad651d50483.txt  \n",
            " extracting: train/labels/BikesHelmets747_png_jpg.rf.a94f93e6d55856de7ea48d5bd499360f.txt  \n",
            " extracting: train/labels/BikesHelmets747_png_jpg.rf.b88b5e06aa2227099d434e995c65410d.txt  \n",
            " extracting: train/labels/BikesHelmets747_png_jpg.rf.cb2720a0974e16bc547f8d82dbe297cd.txt  \n",
            " extracting: train/labels/BikesHelmets747_png_jpg.rf.d55375838c95c32000b90a05c720f88f.txt  \n",
            " extracting: train/labels/BikesHelmets747_png_jpg.rf.f380a4e01a9277446d52821606bb44a2.txt  \n",
            " extracting: train/labels/BikesHelmets748_png_jpg.rf.0ccaeea5ed98281e5f3bef5f07879e6c.txt  \n",
            " extracting: train/labels/BikesHelmets748_png_jpg.rf.2a6f3872b7da093e1de10e9ee6f4c294.txt  \n",
            " extracting: train/labels/BikesHelmets748_png_jpg.rf.5f3879f6f7adb32b857d0c38d4f1bacd.txt  \n",
            " extracting: train/labels/BikesHelmets748_png_jpg.rf.6c634cfe0c0ec96d8071533a0b236f79.txt  \n",
            " extracting: train/labels/BikesHelmets748_png_jpg.rf.6d95788fd759eecb48f257b5ff45c8d7.txt  \n",
            " extracting: train/labels/BikesHelmets748_png_jpg.rf.6f7d9431d21db10df997721661fb45c9.txt  \n",
            " extracting: train/labels/BikesHelmets748_png_jpg.rf.784a897be39cf18cd2e43304901a6503.txt  \n",
            " extracting: train/labels/BikesHelmets748_png_jpg.rf.f4996897de703a364fd2ff8cd8c35fe2.txt  \n",
            " extracting: train/labels/BikesHelmets748_png_jpg.rf.fa9c15c3518908473fdd71ebd56e109d.txt  \n",
            " extracting: train/labels/BikesHelmets751_png_jpg.rf.1463d776aa0aa5e4c30759b386cc6554.txt  \n",
            " extracting: train/labels/BikesHelmets751_png_jpg.rf.2d3b9138fe93d2f57b5c7c889ed7b428.txt  \n",
            " extracting: train/labels/BikesHelmets751_png_jpg.rf.2e8710808264ff939f5b2ac5a12f589b.txt  \n",
            " extracting: train/labels/BikesHelmets751_png_jpg.rf.482ddf9fffecb225c27e281d9183c880.txt  \n",
            " extracting: train/labels/BikesHelmets751_png_jpg.rf.757016c01cff8e7c7a10f6d7a541075c.txt  \n",
            " extracting: train/labels/BikesHelmets751_png_jpg.rf.896ff99662d8838a25643e1ff082abe6.txt  \n",
            " extracting: train/labels/BikesHelmets751_png_jpg.rf.8f66719543ff5fef392a4175bce593a5.txt  \n",
            " extracting: train/labels/BikesHelmets751_png_jpg.rf.9f122651e750e3ae3ecab5569fa0f049.txt  \n",
            " extracting: train/labels/BikesHelmets751_png_jpg.rf.a54fc204a4de0b48f3344e0680f09e5e.txt  \n",
            " extracting: train/labels/BikesHelmets756_png_jpg.rf.55c232fe14bc923d64397ab79dfcb4c4.txt  \n",
            " extracting: train/labels/BikesHelmets756_png_jpg.rf.90517b6de2e27d3243432a119af5a60c.txt  \n",
            " extracting: train/labels/BikesHelmets756_png_jpg.rf.9f24522ff5392b2a553e382033b83c1e.txt  \n",
            " extracting: train/labels/BikesHelmets756_png_jpg.rf.b84b1871acdedfb7fdef8167182e5521.txt  \n",
            " extracting: train/labels/BikesHelmets756_png_jpg.rf.d412ef0af685348c4e135f2b234ee86f.txt  \n",
            " extracting: train/labels/BikesHelmets756_png_jpg.rf.f397f0daa1752d4a61714f9a1c95499b.txt  \n",
            " extracting: train/labels/BikesHelmets762_png_jpg.rf.0503c2bfc8e338160e3242103fb7569d.txt  \n",
            " extracting: train/labels/BikesHelmets762_png_jpg.rf.0f59f94656aa8a07a7c1005a5c1ac64c.txt  \n",
            " extracting: train/labels/BikesHelmets762_png_jpg.rf.5864107fefd3d97f0422635f0fc7dfdd.txt  \n",
            " extracting: train/labels/BikesHelmets762_png_jpg.rf.8d9abd3a7629802420029d4aafdd09aa.txt  \n",
            " extracting: train/labels/BikesHelmets762_png_jpg.rf.90904357db176cecc6bf54a723e2548f.txt  \n",
            " extracting: train/labels/BikesHelmets762_png_jpg.rf.abd3916cbed9707b371b33c76dbb8fad.txt  \n",
            " extracting: train/labels/BikesHelmets762_png_jpg.rf.d193f87305dcf49197e5ea339376bc78.txt  \n",
            " extracting: train/labels/BikesHelmets762_png_jpg.rf.e2fc689411eaccf748a2d8a0b28cc358.txt  \n",
            " extracting: train/labels/BikesHelmets762_png_jpg.rf.f7adcfedd9128678ab2da82f959640c1.txt  \n",
            " extracting: train/labels/BikesHelmets77_png_jpg.rf.2bb579e8d8b08b6593f41417941e6547.txt  \n",
            " extracting: train/labels/BikesHelmets77_png_jpg.rf.69f52e112e8c4266e27e1a71b08775cb.txt  \n",
            " extracting: train/labels/BikesHelmets77_png_jpg.rf.833685d0c6d79831870e162d355ace52.txt  \n",
            " extracting: train/labels/BikesHelmets77_png_jpg.rf.a67b5e745112ffc7acc3e9e70826592d.txt  \n",
            " extracting: train/labels/BikesHelmets77_png_jpg.rf.bd074384f59cb7187b691170f729c746.txt  \n",
            " extracting: train/labels/BikesHelmets77_png_jpg.rf.bf9534f1c6c3999ade78278589a7ff99.txt  \n",
            " extracting: train/labels/BikesHelmets77_png_jpg.rf.c4364e1834ef14a04e09a167399f23d7.txt  \n",
            " extracting: train/labels/BikesHelmets77_png_jpg.rf.c9c900b0dabe1349f3ef51bd069aaa29.txt  \n",
            " extracting: train/labels/BikesHelmets77_png_jpg.rf.df5b4495974dda0dfb8069d678b5bbdd.txt  \n",
            " extracting: train/labels/BikesHelmets78_png_jpg.rf.779c893bd2c59edacf54ad3884103a2c.txt  \n",
            " extracting: train/labels/BikesHelmets78_png_jpg.rf.855932afe8dcac5be66977a5c824159c.txt  \n",
            " extracting: train/labels/BikesHelmets78_png_jpg.rf.c02357c7c38f445425e82a429b9d91ba.txt  \n",
            " extracting: train/labels/BikesHelmets7_png_jpg.rf.366099d70a46fa4368b3ada219564d68.txt  \n",
            " extracting: train/labels/BikesHelmets7_png_jpg.rf.6a2f292bdf318e13a35c372351e8e720.txt  \n",
            " extracting: train/labels/BikesHelmets7_png_jpg.rf.7e3636b06b6849df8c6fce146f57cc6a.txt  \n",
            " extracting: train/labels/BikesHelmets7_png_jpg.rf.9085b74e4c2467a66380f3674e3761e3.txt  \n",
            " extracting: train/labels/BikesHelmets7_png_jpg.rf.a51fe68c3c3546b7a0d67bb9535213df.txt  \n",
            " extracting: train/labels/BikesHelmets7_png_jpg.rf.b10250aa8e3a6a834ab9b5ea15bd31d6.txt  \n",
            " extracting: train/labels/BikesHelmets7_png_jpg.rf.c0f790d66b1961116f7c06352764711e.txt  \n",
            " extracting: train/labels/BikesHelmets7_png_jpg.rf.c5393e3ff73fb14ad0702a3ed1611fcf.txt  \n",
            " extracting: train/labels/BikesHelmets7_png_jpg.rf.fbfb4825e27a613ef1aba278b5ccb0d4.txt  \n",
            " extracting: train/labels/BikesHelmets82_png_jpg.rf.236a6c288f9e11c954893173f9b8b6c7.txt  \n",
            " extracting: train/labels/BikesHelmets82_png_jpg.rf.25df03144bb25419fbd97297d9e2ed03.txt  \n",
            " extracting: train/labels/BikesHelmets82_png_jpg.rf.28a25382ace99f56e3d3a13e35a8bdff.txt  \n",
            " extracting: train/labels/BikesHelmets82_png_jpg.rf.3e934230acad7fae3231c3ed79888e8d.txt  \n",
            " extracting: train/labels/BikesHelmets82_png_jpg.rf.4c11fb3e8b12197d1d5ce0db5501f89a.txt  \n",
            " extracting: train/labels/BikesHelmets82_png_jpg.rf.4f40c9559b0c54627c2d4ae9912e7f39.txt  \n",
            " extracting: train/labels/BikesHelmets82_png_jpg.rf.63fa1eb4540a76765ef02c993ac51c65.txt  \n",
            " extracting: train/labels/BikesHelmets82_png_jpg.rf.93626158de7104d79643172db7e9c5d5.txt  \n",
            " extracting: train/labels/BikesHelmets82_png_jpg.rf.cee41a579c16257255d46637be70bc20.txt  \n",
            " extracting: train/labels/BikesHelmets83_png_jpg.rf.06707e1823b3d23f315895f7bdff4d57.txt  \n",
            " extracting: train/labels/BikesHelmets83_png_jpg.rf.218a92588c8876a01b712632bf580c70.txt  \n",
            " extracting: train/labels/BikesHelmets83_png_jpg.rf.2a30936b6d17f16d75a9ddde7e5de18b.txt  \n",
            " extracting: train/labels/BikesHelmets83_png_jpg.rf.50bc434e0d0e0e6b0a464df87f8cd31e.txt  \n",
            " extracting: train/labels/BikesHelmets83_png_jpg.rf.5448cb99a69cefca5935e96b90f1d662.txt  \n",
            " extracting: train/labels/BikesHelmets83_png_jpg.rf.7c9d79dc382e48c8b1035cb785fab8de.txt  \n",
            " extracting: train/labels/BikesHelmets83_png_jpg.rf.a6b72703e976200f925ab92caa399927.txt  \n",
            " extracting: train/labels/BikesHelmets83_png_jpg.rf.c99b2b036017d6718bc8fca758de6bc4.txt  \n",
            " extracting: train/labels/BikesHelmets83_png_jpg.rf.f2a967c0821bf0d947cfdc2a90d741e7.txt  \n",
            " extracting: train/labels/BikesHelmets84_png_jpg.rf.15514b866de94945da7da3d94904f14a.txt  \n",
            " extracting: train/labels/BikesHelmets84_png_jpg.rf.7a6a263f052a0071c37ad7818706573e.txt  \n",
            " extracting: train/labels/BikesHelmets84_png_jpg.rf.842b726249435b811cadb86067cc8f0f.txt  \n",
            " extracting: train/labels/BikesHelmets84_png_jpg.rf.b154b9d65a850cfbb0c2c51d980e4eb5.txt  \n",
            " extracting: train/labels/BikesHelmets84_png_jpg.rf.cb969a5eb09da05c438edac3889aec1b.txt  \n",
            " extracting: train/labels/BikesHelmets84_png_jpg.rf.f1f4556ac9c5767aac1fe3a1755c1431.txt  \n",
            " extracting: train/labels/BikesHelmets85_png_jpg.rf.0e38c121b03833f62c624dd6716b01f8.txt  \n",
            " extracting: train/labels/BikesHelmets85_png_jpg.rf.4bcb0079c6efaf96987bd375ad96f3e5.txt  \n",
            " extracting: train/labels/BikesHelmets85_png_jpg.rf.62742e3e583da80f2dfee3b70daf4509.txt  \n",
            " extracting: train/labels/BikesHelmets85_png_jpg.rf.7ec97a6549e82f9ff4155d415bb10195.txt  \n",
            " extracting: train/labels/BikesHelmets85_png_jpg.rf.ba9f391f5457cd4ec081fda65f49d95d.txt  \n",
            " extracting: train/labels/BikesHelmets85_png_jpg.rf.cfea9a97170ad02dc5ef6d4867c142b2.txt  \n",
            " extracting: train/labels/BikesHelmets85_png_jpg.rf.d78e03f5537da0a1e6a2eee59e895113.txt  \n",
            " extracting: train/labels/BikesHelmets85_png_jpg.rf.db9e09a821b2901937cefb71b8000186.txt  \n",
            " extracting: train/labels/BikesHelmets85_png_jpg.rf.ef313689209f35be0769a5b8c37a0e1f.txt  \n",
            " extracting: train/labels/BikesHelmets86_png_jpg.rf.1693490a81a98bffdc95efda29d611a5.txt  \n",
            " extracting: train/labels/BikesHelmets86_png_jpg.rf.209793b7714a294c5a2ed35da75eaec7.txt  \n",
            " extracting: train/labels/BikesHelmets86_png_jpg.rf.3b7e03c75ac706f0fa71ef9612921388.txt  \n",
            " extracting: train/labels/BikesHelmets86_png_jpg.rf.3dbd6a0ae2b1484fcae8cc4207d0d837.txt  \n",
            " extracting: train/labels/BikesHelmets86_png_jpg.rf.6ebfd3aaa7d81f1d3a6cc478bdbc6932.txt  \n",
            " extracting: train/labels/BikesHelmets86_png_jpg.rf.8860bbf9885c6b5d64c345ba10229778.txt  \n",
            " extracting: train/labels/BikesHelmets88_png_jpg.rf.1d277d0ea3da29832622db97801587c4.txt  \n",
            " extracting: train/labels/BikesHelmets88_png_jpg.rf.3c70e13e06b4822afc7d8ce22b653205.txt  \n",
            " extracting: train/labels/BikesHelmets88_png_jpg.rf.515493578a9c769140199131118751f1.txt  \n",
            " extracting: train/labels/BikesHelmets88_png_jpg.rf.871f2f66cfc321f2eff60ab2f96d9530.txt  \n",
            " extracting: train/labels/BikesHelmets88_png_jpg.rf.8fe20de569e832c0ced8327ce1e41e88.txt  \n",
            " extracting: train/labels/BikesHelmets88_png_jpg.rf.a6613f798805326a5c0ba3db6165f14a.txt  \n",
            " extracting: train/labels/BikesHelmets88_png_jpg.rf.c542f5d910677029c12690214a6506cc.txt  \n",
            " extracting: train/labels/BikesHelmets88_png_jpg.rf.c628e5ceb77310b4ee661c631f1523be.txt  \n",
            " extracting: train/labels/BikesHelmets88_png_jpg.rf.f5b659b370398186bf8a78a22840c556.txt  \n",
            " extracting: train/labels/BikesHelmets89_png_jpg.rf.061456356fa2a85e1c1c562cf6a50ae0.txt  \n",
            " extracting: train/labels/BikesHelmets89_png_jpg.rf.7389eb334abc1c764dc93ad7177d714b.txt  \n",
            " extracting: train/labels/BikesHelmets89_png_jpg.rf.8b569c2ec9fc46da24a0fa725e1393ce.txt  \n",
            " extracting: train/labels/BikesHelmets89_png_jpg.rf.8c3860f95f029067cbbec021b1b3bbbc.txt  \n",
            " extracting: train/labels/BikesHelmets89_png_jpg.rf.945f8329beb80a700b40aac8aa0dcd30.txt  \n",
            " extracting: train/labels/BikesHelmets89_png_jpg.rf.9c2f8f503884f6403aa0d5255218503f.txt  \n",
            " extracting: train/labels/BikesHelmets89_png_jpg.rf.cb562872e27b23d3f2ab58b2435e9bd2.txt  \n",
            " extracting: train/labels/BikesHelmets89_png_jpg.rf.f9fd9e861b738bf8f86676ed6e207d71.txt  \n",
            " extracting: train/labels/BikesHelmets89_png_jpg.rf.fe101c3f717e3e65d1e42dc9f35af40e.txt  \n",
            " extracting: train/labels/BikesHelmets90_png_jpg.rf.297a536434c586506bcd3874d9da88b3.txt  \n",
            " extracting: train/labels/BikesHelmets90_png_jpg.rf.8ddc5f0a09dcbe17575263eff619b5df.txt  \n",
            " extracting: train/labels/BikesHelmets90_png_jpg.rf.bdae85c718917287d4c3067224053f60.txt  \n",
            " extracting: train/labels/BikesHelmets90_png_jpg.rf.c89cd93810c690c07bacd1aa9e268620.txt  \n",
            " extracting: train/labels/BikesHelmets90_png_jpg.rf.dc1053f61f98a52632f3b6d4c402a48f.txt  \n",
            " extracting: train/labels/BikesHelmets90_png_jpg.rf.e7d5bb7b8665d011cf3b0c377cbd378d.txt  \n",
            " extracting: train/labels/BikesHelmets91_png_jpg.rf.2fdc23f7f5be139ad30cb005d1caa2da.txt  \n",
            " extracting: train/labels/BikesHelmets91_png_jpg.rf.6bfd3e7aa2ae7025836b687d1f217af3.txt  \n",
            " extracting: train/labels/BikesHelmets91_png_jpg.rf.6dfb3ab31cd48c63e3ef008b3bef95e8.txt  \n",
            " extracting: train/labels/BikesHelmets91_png_jpg.rf.a18ffa9f47616c61eadca5bd1c53d753.txt  \n",
            " extracting: train/labels/BikesHelmets91_png_jpg.rf.c1b32a01fdc6df262764dccc5f30a2d5.txt  \n",
            " extracting: train/labels/BikesHelmets91_png_jpg.rf.d18ee1923d0e1a03e1184a839fc2a1c2.txt  \n",
            " extracting: train/labels/BikesHelmets91_png_jpg.rf.d22c1a46102e78695e6498a22b0f2ee9.txt  \n",
            " extracting: train/labels/BikesHelmets91_png_jpg.rf.da4cb61c1b61694e76fc72b6e803cd9b.txt  \n",
            " extracting: train/labels/BikesHelmets91_png_jpg.rf.f9c8e3f2ea92b940597413d2486a7885.txt  \n",
            " extracting: train/labels/BikesHelmets92_png_jpg.rf.2690ec69013d63fed304cba94ea3550a.txt  \n",
            " extracting: train/labels/BikesHelmets92_png_jpg.rf.5add09162ad1174fb701ecf45b82fa54.txt  \n",
            " extracting: train/labels/BikesHelmets92_png_jpg.rf.67cb2b5f4a498a90647abf7a1097d47c.txt  \n",
            " extracting: train/labels/BikesHelmets92_png_jpg.rf.afb2117b45a310da8572d3e010af4b07.txt  \n",
            " extracting: train/labels/BikesHelmets92_png_jpg.rf.b0c26fd2f54ab5952a097c74d2577d28.txt  \n",
            " extracting: train/labels/BikesHelmets92_png_jpg.rf.b4104d15aaf90af706134d7a6315bc8a.txt  \n",
            " extracting: train/labels/BikesHelmets92_png_jpg.rf.cd79676b8ac8d5ccd642ab71d3dbabb0.txt  \n",
            " extracting: train/labels/BikesHelmets92_png_jpg.rf.eb78a9a5f060b04d66e2dc3c4bb9f58d.txt  \n",
            " extracting: train/labels/BikesHelmets92_png_jpg.rf.fe5dd2e921aa541ac1da5a4a68232059.txt  \n",
            " extracting: train/labels/BikesHelmets93_png_jpg.rf.400cb67b797f2f29e3669c4290c866e4.txt  \n",
            " extracting: train/labels/BikesHelmets93_png_jpg.rf.451aaae7eb1ece1a97528216397e9ce1.txt  \n",
            " extracting: train/labels/BikesHelmets93_png_jpg.rf.4d8d329c9504c437821076928a826a4c.txt  \n",
            " extracting: train/labels/BikesHelmets93_png_jpg.rf.b07740e86131575ccbc369ad8f1a40b2.txt  \n",
            " extracting: train/labels/BikesHelmets93_png_jpg.rf.d235f77d7204c90b9cd7f4b8d4530c93.txt  \n",
            " extracting: train/labels/BikesHelmets93_png_jpg.rf.e355e121bbc65e7f3e4b5f9ff11cd7b4.txt  \n",
            " extracting: train/labels/BikesHelmets95_png_jpg.rf.00e4bb26a852de22fa064f6d29840344.txt  \n",
            " extracting: train/labels/BikesHelmets95_png_jpg.rf.197e2b2ad1ded58111f11e57f96a9935.txt  \n",
            " extracting: train/labels/BikesHelmets95_png_jpg.rf.7e20c680f9f354f52f82696a3f9ae6fa.txt  \n",
            " extracting: train/labels/BikesHelmets95_png_jpg.rf.9598fe738a125b1f4b9c42d6d07f807e.txt  \n",
            " extracting: train/labels/BikesHelmets95_png_jpg.rf.c1d07a48c05ac8e83987f822a00f6fb0.txt  \n",
            " extracting: train/labels/BikesHelmets95_png_jpg.rf.da569337fb1f01d0b3ebc6065e3f28b0.txt  \n",
            " extracting: train/labels/BikesHelmets95_png_jpg.rf.ed5d9ec5f77116b65d7986481fe03436.txt  \n",
            " extracting: train/labels/BikesHelmets95_png_jpg.rf.fb063812d721553134a29cea004545b6.txt  \n",
            " extracting: train/labels/BikesHelmets95_png_jpg.rf.fd501e22eb2cb11796c276ff5508a05b.txt  \n",
            " extracting: train/labels/BikesHelmets96_png_jpg.rf.22a09bda5da2534b3081d52c0324688f.txt  \n",
            " extracting: train/labels/BikesHelmets96_png_jpg.rf.2770c72638b874b6c3c0ae1608e74c3b.txt  \n",
            " extracting: train/labels/BikesHelmets96_png_jpg.rf.480565e6380881650ee0301936756ae2.txt  \n",
            " extracting: train/labels/BikesHelmets96_png_jpg.rf.64c0fe39a5879e811dfcf15959d5a956.txt  \n",
            " extracting: train/labels/BikesHelmets96_png_jpg.rf.77344d22f032bdd07436c0a29c7a0d13.txt  \n",
            " extracting: train/labels/BikesHelmets96_png_jpg.rf.9a8b839f2b74079f5382f0e346fc2244.txt  \n",
            " extracting: train/labels/BikesHelmets96_png_jpg.rf.b4707183999550dda2ba409bbefd46c8.txt  \n",
            " extracting: train/labels/BikesHelmets96_png_jpg.rf.c9387fa56a3d7bdae10b1c26e9dba2e7.txt  \n",
            " extracting: train/labels/BikesHelmets96_png_jpg.rf.d606f9d580d3853a748192152a8394eb.txt  \n",
            " extracting: train/labels/BikesHelmets97_png_jpg.rf.144fde61202180b70c2ca9da55771e3d.txt  \n",
            " extracting: train/labels/BikesHelmets97_png_jpg.rf.45728cfc99961de2c330737b2bc25908.txt  \n",
            " extracting: train/labels/BikesHelmets97_png_jpg.rf.64f241d0c32d7c4c45ee34a5b7eacc23.txt  \n",
            " extracting: train/labels/BikesHelmets97_png_jpg.rf.71da6ce7892b6269f2240af0d25a408f.txt  \n",
            " extracting: train/labels/BikesHelmets97_png_jpg.rf.73a3c075d949fa6914d10164cd69504f.txt  \n",
            " extracting: train/labels/BikesHelmets97_png_jpg.rf.9bdb767fb87f0100a90abb1b920a16b0.txt  \n",
            " extracting: train/labels/BikesHelmets97_png_jpg.rf.b7a30312d8b9491caf146a783c033d3f.txt  \n",
            " extracting: train/labels/BikesHelmets97_png_jpg.rf.ba9b7b4fe27276657430f40a82ee8e33.txt  \n",
            " extracting: train/labels/BikesHelmets97_png_jpg.rf.e12c41131946239aa121724fd350f30b.txt  \n",
            " extracting: train/labels/BikesHelmets98_png_jpg.rf.63b3a955ead71f26d0182acf08a2f82e.txt  \n",
            " extracting: train/labels/BikesHelmets98_png_jpg.rf.79564bbbbbd3d1dff09b0107f543b6ec.txt  \n",
            " extracting: train/labels/BikesHelmets98_png_jpg.rf.937a7ad893d1bdb48489a752dedef135.txt  \n",
            " extracting: train/labels/BikesHelmets98_png_jpg.rf.b7e3a4405d101dd53b85920784881fed.txt  \n",
            " extracting: train/labels/BikesHelmets98_png_jpg.rf.d3804820cd938ab3b474d1f4170c5bce.txt  \n",
            " extracting: train/labels/BikesHelmets98_png_jpg.rf.f4baecb6d54f77dbee571c4298075e1b.txt  \n",
            " extracting: train/labels/BikesHelmets99_png_jpg.rf.2c9e48f8d12d7cec4d1bfe33b02b4692.txt  \n",
            " extracting: train/labels/BikesHelmets99_png_jpg.rf.3b17701943d33b1719f61c3233359807.txt  \n",
            " extracting: train/labels/BikesHelmets99_png_jpg.rf.442b5190a6b39fc67d31dbeed37382a2.txt  \n",
            " extracting: train/labels/BikesHelmets99_png_jpg.rf.51a0edcdf11d11e3a9129b600aa3f870.txt  \n",
            " extracting: train/labels/BikesHelmets99_png_jpg.rf.5ba9062f19047d0a3fde59c4a0848655.txt  \n",
            " extracting: train/labels/BikesHelmets99_png_jpg.rf.8fed0e2dbcd7b4e1dd228c8aa66e633c.txt  \n",
            " extracting: train/labels/BikesHelmets99_png_jpg.rf.b1b7f1ea48ee52734e975084e31abfbd.txt  \n",
            " extracting: train/labels/BikesHelmets99_png_jpg.rf.ba991a75edc25d8cb0e4a0a9d3f02ee3.txt  \n",
            " extracting: train/labels/BikesHelmets99_png_jpg.rf.ce4caa90a02a553595e08b92f12a302c.txt  \n",
            "   creating: valid/\n",
            "   creating: valid/images/\n",
            " extracting: valid/images/BikesHelmets0_png_jpg.rf.6b5704cd71c95602bcb6d97a40fb2ac4.jpg  \n",
            " extracting: valid/images/BikesHelmets104_png_jpg.rf.92493ba303089eda2c78fce531a13fad.jpg  \n",
            " extracting: valid/images/BikesHelmets105_png_jpg.rf.dd9c24164890a6d12e366ee8bf550e7f.jpg  \n",
            " extracting: valid/images/BikesHelmets10_png_jpg.rf.41b8adf0381b2dc549920a6d44d7669c.jpg  \n",
            " extracting: valid/images/BikesHelmets117_png_jpg.rf.fdd963fd06f58b8b1a0116aa7c7e7182.jpg  \n",
            " extracting: valid/images/BikesHelmets119_png_jpg.rf.515538c8f9cc8f3dfcae958428a05e83.jpg  \n",
            " extracting: valid/images/BikesHelmets11_png_jpg.rf.cf422d864c22cbb8965f6e6d736cc4f3.jpg  \n",
            " extracting: valid/images/BikesHelmets135_png_jpg.rf.9785af6e149b2e99340b120792902e43.jpg  \n",
            " extracting: valid/images/BikesHelmets139_png_jpg.rf.2f4ee0fcdcc4dd48797678d928d35254.jpg  \n",
            " extracting: valid/images/BikesHelmets140_png_jpg.rf.a0ef74b0613f22424b27da1b1824b599.jpg  \n",
            " extracting: valid/images/BikesHelmets144_png_jpg.rf.8411cd802481530fb3b7fbaaf41b7088.jpg  \n",
            " extracting: valid/images/BikesHelmets146_png_jpg.rf.fa72491ab899128ac9fd5cf7f479b917.jpg  \n",
            " extracting: valid/images/BikesHelmets148_png_jpg.rf.399c9c066b524c84e524ea6887c2e8ed.jpg  \n",
            " extracting: valid/images/BikesHelmets151_png_jpg.rf.0aa12f426059cf9ab2afb17d5c4216ce.jpg  \n",
            " extracting: valid/images/BikesHelmets157_png_jpg.rf.38cd053b2173c593a3e974180c7d6f76.jpg  \n",
            " extracting: valid/images/BikesHelmets159_png_jpg.rf.513b31431d7178ed7ec855a8ad944d46.jpg  \n",
            " extracting: valid/images/BikesHelmets15_png_jpg.rf.b105cebf2c612bff159bd688a629acd7.jpg  \n",
            " extracting: valid/images/BikesHelmets166_png_jpg.rf.e7c5f7fa9d31bf3fc71767fffbf498da.jpg  \n",
            " extracting: valid/images/BikesHelmets179_png_jpg.rf.8ff885d0deb0c2677d30b9421fb7c871.jpg  \n",
            " extracting: valid/images/BikesHelmets180_png_jpg.rf.5b0006fac2ac5df04703477261ab4bd4.jpg  \n",
            " extracting: valid/images/BikesHelmets186_png_jpg.rf.0ce3a773c83337ed061aa90bbcce836e.jpg  \n",
            " extracting: valid/images/BikesHelmets191_png_jpg.rf.63b3a39aa2ebd7ebbfd8e9f8caa232cb.jpg  \n",
            " extracting: valid/images/BikesHelmets196_png_jpg.rf.24cbb36ae5e1bb429037cd4e777e06fc.jpg  \n",
            " extracting: valid/images/BikesHelmets198_png_jpg.rf.5ea01b695f88f893f4c630626f53af67.jpg  \n",
            " extracting: valid/images/BikesHelmets200_png_jpg.rf.6d1fdd72d93940b0231c4d71febf4c79.jpg  \n",
            " extracting: valid/images/BikesHelmets201_png_jpg.rf.564f31af1871901a60772868d33375bf.jpg  \n",
            " extracting: valid/images/BikesHelmets205_png_jpg.rf.780768501666f2adcb70e9123effe4df.jpg  \n",
            " extracting: valid/images/BikesHelmets206_png_jpg.rf.b16da058257f4de10149dd629650274e.jpg  \n",
            " extracting: valid/images/BikesHelmets210_png_jpg.rf.45f9cf699909183e49981a7419249c29.jpg  \n",
            " extracting: valid/images/BikesHelmets214_png_jpg.rf.1d0ffe8683b60c22758b285d719ad461.jpg  \n",
            " extracting: valid/images/BikesHelmets216_png_jpg.rf.6d3be7e70c143030ebaeda3a44fd56b1.jpg  \n",
            " extracting: valid/images/BikesHelmets219_png_jpg.rf.889c4229eae3d987ed58fd14d80ee710.jpg  \n",
            " extracting: valid/images/BikesHelmets221_png_jpg.rf.c96918d5a52b0e0bba7520c0f868dbc2.jpg  \n",
            " extracting: valid/images/BikesHelmets224_png_jpg.rf.1479a85587cebc7af5f7f61de1669795.jpg  \n",
            " extracting: valid/images/BikesHelmets228_png_jpg.rf.14d82b0c2d71dc3a163a8f18bff14649.jpg  \n",
            " extracting: valid/images/BikesHelmets236_png_jpg.rf.d360e8fb3cf27b4b26202ed1a9874d1e.jpg  \n",
            " extracting: valid/images/BikesHelmets238_png_jpg.rf.14533b4d4c483966f567c2f30e0d2144.jpg  \n",
            " extracting: valid/images/BikesHelmets245_png_jpg.rf.ca30f46f0d200926a17df2567c353e3f.jpg  \n",
            " extracting: valid/images/BikesHelmets24_png_jpg.rf.f22100dba05f7d9839aad0319c803a69.jpg  \n",
            " extracting: valid/images/BikesHelmets274_png_jpg.rf.c83477d36436a7d7a71ec18ce0e61e6e.jpg  \n",
            " extracting: valid/images/BikesHelmets275_png_jpg.rf.3385ff45c479cf986395feb129564fd9.jpg  \n",
            " extracting: valid/images/BikesHelmets280_png_jpg.rf.b192bd9e4fec76d310ea53675442ad2b.jpg  \n",
            " extracting: valid/images/BikesHelmets297_png_jpg.rf.8d6065900e0a44a67b1f4dc96eb09c5f.jpg  \n",
            " extracting: valid/images/BikesHelmets299_png_jpg.rf.73d64ab0b782fb6fc267a0694cefe42d.jpg  \n",
            " extracting: valid/images/BikesHelmets2_png_jpg.rf.2cca0279ece1d8f364403dde4b4e5a9c.jpg  \n",
            " extracting: valid/images/BikesHelmets303_png_jpg.rf.a3c75d42bd88e206a7825feb55ca87fd.jpg  \n",
            " extracting: valid/images/BikesHelmets306_png_jpg.rf.adc142435e5936db5e857f586bd12955.jpg  \n",
            " extracting: valid/images/BikesHelmets309_png_jpg.rf.286aeb08e7e790e8151ed40d43384d73.jpg  \n",
            " extracting: valid/images/BikesHelmets30_png_jpg.rf.e9274ab657a92205e5e2c3e684efb89e.jpg  \n",
            " extracting: valid/images/BikesHelmets312_png_jpg.rf.de0f0306dc9074df3284fe6eccc254e2.jpg  \n",
            " extracting: valid/images/BikesHelmets316_png_jpg.rf.0bdc8e553348cc4cc3e54e24b56cb9fb.jpg  \n",
            " extracting: valid/images/BikesHelmets319_png_jpg.rf.c5d8cb9dbf558c6b83981934ce166825.jpg  \n",
            " extracting: valid/images/BikesHelmets320_png_jpg.rf.2f9ce848cdc6df7fedc3c6e84900cd17.jpg  \n",
            " extracting: valid/images/BikesHelmets321_png_jpg.rf.d55bd3ead9117daec5baf193e2ea7aa2.jpg  \n",
            " extracting: valid/images/BikesHelmets323_png_jpg.rf.21ac2512c491d67e59b0c68643fe8b0e.jpg  \n",
            " extracting: valid/images/BikesHelmets325_png_jpg.rf.20521ff77f7fb5d5d3e23c4fc9c62773.jpg  \n",
            " extracting: valid/images/BikesHelmets347_png_jpg.rf.cbec94ed3b6c15a26655c92ed06140e2.jpg  \n",
            " extracting: valid/images/BikesHelmets35_png_jpg.rf.1ee0b586f112b0cc9e1cfebec24ca036.jpg  \n",
            " extracting: valid/images/BikesHelmets362_png_jpg.rf.3621f4db828734214cb9d8ab9d021a04.jpg  \n",
            " extracting: valid/images/BikesHelmets365_png_jpg.rf.b365cd576f909e3d5d650c95c7cc33aa.jpg  \n",
            " extracting: valid/images/BikesHelmets367_png_jpg.rf.969c528ed313254eb5006ccc1dae859b.jpg  \n",
            " extracting: valid/images/BikesHelmets371_png_jpg.rf.6832eecfa550d066748bc48701760b70.jpg  \n",
            " extracting: valid/images/BikesHelmets374_png_jpg.rf.2902d1e39dbab8d1da3f11192abda1b2.jpg  \n",
            " extracting: valid/images/BikesHelmets383_png_jpg.rf.be79c8dbfc1fc7eaa498562cb6bc831c.jpg  \n",
            " extracting: valid/images/BikesHelmets421_png_jpg.rf.0661442b7a488a234a207b75746f63de.jpg  \n",
            " extracting: valid/images/BikesHelmets426_png_jpg.rf.eb1ff9a9a79264ddcf6c2dc4ebf7d993.jpg  \n",
            " extracting: valid/images/BikesHelmets437_png_jpg.rf.bd0123240e34c020851cfe569aa81664.jpg  \n",
            " extracting: valid/images/BikesHelmets43_png_jpg.rf.0996afa8de3c7afa623d7cac0d67223e.jpg  \n",
            " extracting: valid/images/BikesHelmets462_png_jpg.rf.9eac61401dc6091dd631903143a45bef.jpg  \n",
            " extracting: valid/images/BikesHelmets46_png_jpg.rf.eee9ac59efd94609392364c8befcd624.jpg  \n",
            " extracting: valid/images/BikesHelmets487_png_jpg.rf.7d874eb20dd38093834bc6c4ba373830.jpg  \n",
            " extracting: valid/images/BikesHelmets488_png_jpg.rf.80a8d7dc889b2c86d1f99ab1f3832eeb.jpg  \n",
            " extracting: valid/images/BikesHelmets493_png_jpg.rf.c609aac094ffe0a9afa22a6cc4704b79.jpg  \n",
            " extracting: valid/images/BikesHelmets494_png_jpg.rf.15967f9be41abf45d44a7e79ce7b5a61.jpg  \n",
            " extracting: valid/images/BikesHelmets501_png_jpg.rf.a1702a6ea643828071bf2f05409d18a0.jpg  \n",
            " extracting: valid/images/BikesHelmets506_png_jpg.rf.0849ccf655bdda444b8b0bd52289f516.jpg  \n",
            " extracting: valid/images/BikesHelmets519_png_jpg.rf.648c9a9da52a991b09abee9c80fd6605.jpg  \n",
            " extracting: valid/images/BikesHelmets527_png_jpg.rf.0d756da494fd8f06dcb70f0b5bbabd85.jpg  \n",
            " extracting: valid/images/BikesHelmets537_png_jpg.rf.5f7b0a2cc2c3b912a195aa9941cc1db2.jpg  \n",
            " extracting: valid/images/BikesHelmets540_png_jpg.rf.518b43ec8f8c431002c1c4c22bcb7695.jpg  \n",
            " extracting: valid/images/BikesHelmets543_png_jpg.rf.87753a358b70fca89006a2dd96475954.jpg  \n",
            " extracting: valid/images/BikesHelmets548_png_jpg.rf.6e9948cc72278a7da2b78fa7058a1ff3.jpg  \n",
            " extracting: valid/images/BikesHelmets554_png_jpg.rf.634f06e096e50ffdc942c8456e90358f.jpg  \n",
            " extracting: valid/images/BikesHelmets560_png_jpg.rf.1f5554dd1816d633a4ed17e47cc94f68.jpg  \n",
            " extracting: valid/images/BikesHelmets566_png_jpg.rf.584eeea090750e4838a05718e13382d2.jpg  \n",
            " extracting: valid/images/BikesHelmets573_png_jpg.rf.12ad526ecd8addfca3f2e506156299b3.jpg  \n",
            " extracting: valid/images/BikesHelmets579_png_jpg.rf.931146b848734ff7668188aeac263e0b.jpg  \n",
            " extracting: valid/images/BikesHelmets583_png_jpg.rf.9c36b7fb77fb6b05af7535d3f004298f.jpg  \n",
            " extracting: valid/images/BikesHelmets585_png_jpg.rf.59f8e4a179836abf031df2bebd01471a.jpg  \n",
            " extracting: valid/images/BikesHelmets587_png_jpg.rf.a49a9f93824065bc99306534d658b9a9.jpg  \n",
            " extracting: valid/images/BikesHelmets596_png_jpg.rf.2e892fd940c90fcdde2bf8666d90a187.jpg  \n",
            " extracting: valid/images/BikesHelmets601_png_jpg.rf.66d9e8133c8226411ef33c31ec1b3630.jpg  \n",
            " extracting: valid/images/BikesHelmets611_png_jpg.rf.bf57b6d0cf9a4a253372aaa09dd3a3b3.jpg  \n",
            " extracting: valid/images/BikesHelmets616_png_jpg.rf.6442d26eafeabd253a76398870e2e4df.jpg  \n",
            " extracting: valid/images/BikesHelmets627_png_jpg.rf.6a8a0a863d9df35b3f10eb588800675d.jpg  \n",
            " extracting: valid/images/BikesHelmets630_png_jpg.rf.75f7a85f27d094b5a3e9804618c5013e.jpg  \n",
            " extracting: valid/images/BikesHelmets631_png_jpg.rf.5088b36ef4769fd3fcb2011b70f313e4.jpg  \n",
            " extracting: valid/images/BikesHelmets634_png_jpg.rf.8fa43ebb9d9f11df36bd0b8d28043597.jpg  \n",
            " extracting: valid/images/BikesHelmets635_png_jpg.rf.d5875b117c25bbc2724e8fe1bf9adcb2.jpg  \n",
            " extracting: valid/images/BikesHelmets638_png_jpg.rf.380a00e9d672bd7f100d84eabe5c34cc.jpg  \n",
            " extracting: valid/images/BikesHelmets661_png_jpg.rf.bc3c7d6266ff2fd3db18313f84a6095b.jpg  \n",
            " extracting: valid/images/BikesHelmets664_png_jpg.rf.9bceb9a04d0e52e27d42a645da4cd09f.jpg  \n",
            " extracting: valid/images/BikesHelmets671_png_jpg.rf.513a45970b8b13d32a74dc166f396b91.jpg  \n",
            " extracting: valid/images/BikesHelmets679_png_jpg.rf.a1d6533b994aa4ab6a74d8cc69334836.jpg  \n",
            " extracting: valid/images/BikesHelmets682_png_jpg.rf.5efe5dbeff528b27cfbdd2f7c4a2285d.jpg  \n",
            " extracting: valid/images/BikesHelmets70_png_jpg.rf.09a054473f72a66f85319019b89692fb.jpg  \n",
            " extracting: valid/images/BikesHelmets711_png_jpg.rf.7347d3dedb8e55bcdbd66b765486b7d3.jpg  \n",
            " extracting: valid/images/BikesHelmets712_png_jpg.rf.e92200460ba727c324c0d64c88ed99dc.jpg  \n",
            " extracting: valid/images/BikesHelmets719_png_jpg.rf.a7bda4e56347057918c5e168f2f55072.jpg  \n",
            " extracting: valid/images/BikesHelmets71_png_jpg.rf.e6c87c7f3b7acefc1c2206371bada2af.jpg  \n",
            " extracting: valid/images/BikesHelmets720_png_jpg.rf.fad3546df3656484f4c1727391909773.jpg  \n",
            " extracting: valid/images/BikesHelmets723_png_jpg.rf.14ac2b07f70e81e8bdfce372539e35af.jpg  \n",
            " extracting: valid/images/BikesHelmets729_png_jpg.rf.eb117e7579295654b16f6dbd2e2722b5.jpg  \n",
            " extracting: valid/images/BikesHelmets749_png_jpg.rf.16e9c2195463ba8525943428e59a514b.jpg  \n",
            " extracting: valid/images/BikesHelmets74_png_jpg.rf.a57b64e67b11773a0057e71bb3cf612b.jpg  \n",
            " extracting: valid/images/BikesHelmets752_png_jpg.rf.8d41fedb0f8b4efb0cf6cdc608f99ef0.jpg  \n",
            " extracting: valid/images/BikesHelmets754_png_jpg.rf.abea9bbbcc8a7c7b08a893eae8e0057f.jpg  \n",
            " extracting: valid/images/BikesHelmets757_png_jpg.rf.25fca8c767d2481cd20b344394dcca48.jpg  \n",
            " extracting: valid/images/BikesHelmets758_png_jpg.rf.fdc55d0d43f9f4aa30558870474043b8.jpg  \n",
            " extracting: valid/images/BikesHelmets759_png_jpg.rf.443f82758ab4fd6a34a19ca6de4aae44.jpg  \n",
            " extracting: valid/images/BikesHelmets75_png_jpg.rf.e2820b0b2ff69d95ce0f7ddf646273f4.jpg  \n",
            " extracting: valid/images/BikesHelmets764_png_jpg.rf.cfd930ae2045736cf81b006e5da120fc.jpg  \n",
            " extracting: valid/images/BikesHelmets87_png_jpg.rf.7ca8c720e6f89bbdb48c5338d12c1d72.jpg  \n",
            " extracting: valid/images/BikesHelmets8_png_jpg.rf.ac67c56da7ade92acac134f789c6b13e.jpg  \n",
            " extracting: valid/images/BikesHelmets94_png_jpg.rf.6cc224df0cfd671b18c656ed4250fa01.jpg  \n",
            " extracting: valid/images/BikesHelmets9_png_jpg.rf.c5d2a47d3da5fa87f9d3546efa394b59.jpg  \n",
            "   creating: valid/labels/\n",
            " extracting: valid/labels/BikesHelmets0_png_jpg.rf.6b5704cd71c95602bcb6d97a40fb2ac4.txt  \n",
            " extracting: valid/labels/BikesHelmets104_png_jpg.rf.92493ba303089eda2c78fce531a13fad.txt  \n",
            " extracting: valid/labels/BikesHelmets105_png_jpg.rf.dd9c24164890a6d12e366ee8bf550e7f.txt  \n",
            " extracting: valid/labels/BikesHelmets10_png_jpg.rf.41b8adf0381b2dc549920a6d44d7669c.txt  \n",
            " extracting: valid/labels/BikesHelmets117_png_jpg.rf.fdd963fd06f58b8b1a0116aa7c7e7182.txt  \n",
            " extracting: valid/labels/BikesHelmets119_png_jpg.rf.515538c8f9cc8f3dfcae958428a05e83.txt  \n",
            " extracting: valid/labels/BikesHelmets11_png_jpg.rf.cf422d864c22cbb8965f6e6d736cc4f3.txt  \n",
            " extracting: valid/labels/BikesHelmets135_png_jpg.rf.9785af6e149b2e99340b120792902e43.txt  \n",
            " extracting: valid/labels/BikesHelmets139_png_jpg.rf.2f4ee0fcdcc4dd48797678d928d35254.txt  \n",
            " extracting: valid/labels/BikesHelmets140_png_jpg.rf.a0ef74b0613f22424b27da1b1824b599.txt  \n",
            " extracting: valid/labels/BikesHelmets144_png_jpg.rf.8411cd802481530fb3b7fbaaf41b7088.txt  \n",
            " extracting: valid/labels/BikesHelmets146_png_jpg.rf.fa72491ab899128ac9fd5cf7f479b917.txt  \n",
            " extracting: valid/labels/BikesHelmets148_png_jpg.rf.399c9c066b524c84e524ea6887c2e8ed.txt  \n",
            " extracting: valid/labels/BikesHelmets151_png_jpg.rf.0aa12f426059cf9ab2afb17d5c4216ce.txt  \n",
            " extracting: valid/labels/BikesHelmets157_png_jpg.rf.38cd053b2173c593a3e974180c7d6f76.txt  \n",
            " extracting: valid/labels/BikesHelmets159_png_jpg.rf.513b31431d7178ed7ec855a8ad944d46.txt  \n",
            " extracting: valid/labels/BikesHelmets15_png_jpg.rf.b105cebf2c612bff159bd688a629acd7.txt  \n",
            " extracting: valid/labels/BikesHelmets166_png_jpg.rf.e7c5f7fa9d31bf3fc71767fffbf498da.txt  \n",
            " extracting: valid/labels/BikesHelmets179_png_jpg.rf.8ff885d0deb0c2677d30b9421fb7c871.txt  \n",
            " extracting: valid/labels/BikesHelmets180_png_jpg.rf.5b0006fac2ac5df04703477261ab4bd4.txt  \n",
            " extracting: valid/labels/BikesHelmets186_png_jpg.rf.0ce3a773c83337ed061aa90bbcce836e.txt  \n",
            " extracting: valid/labels/BikesHelmets191_png_jpg.rf.63b3a39aa2ebd7ebbfd8e9f8caa232cb.txt  \n",
            " extracting: valid/labels/BikesHelmets196_png_jpg.rf.24cbb36ae5e1bb429037cd4e777e06fc.txt  \n",
            " extracting: valid/labels/BikesHelmets198_png_jpg.rf.5ea01b695f88f893f4c630626f53af67.txt  \n",
            " extracting: valid/labels/BikesHelmets200_png_jpg.rf.6d1fdd72d93940b0231c4d71febf4c79.txt  \n",
            " extracting: valid/labels/BikesHelmets201_png_jpg.rf.564f31af1871901a60772868d33375bf.txt  \n",
            " extracting: valid/labels/BikesHelmets205_png_jpg.rf.780768501666f2adcb70e9123effe4df.txt  \n",
            " extracting: valid/labels/BikesHelmets206_png_jpg.rf.b16da058257f4de10149dd629650274e.txt  \n",
            " extracting: valid/labels/BikesHelmets210_png_jpg.rf.45f9cf699909183e49981a7419249c29.txt  \n",
            " extracting: valid/labels/BikesHelmets214_png_jpg.rf.1d0ffe8683b60c22758b285d719ad461.txt  \n",
            " extracting: valid/labels/BikesHelmets216_png_jpg.rf.6d3be7e70c143030ebaeda3a44fd56b1.txt  \n",
            " extracting: valid/labels/BikesHelmets219_png_jpg.rf.889c4229eae3d987ed58fd14d80ee710.txt  \n",
            " extracting: valid/labels/BikesHelmets221_png_jpg.rf.c96918d5a52b0e0bba7520c0f868dbc2.txt  \n",
            " extracting: valid/labels/BikesHelmets224_png_jpg.rf.1479a85587cebc7af5f7f61de1669795.txt  \n",
            " extracting: valid/labels/BikesHelmets228_png_jpg.rf.14d82b0c2d71dc3a163a8f18bff14649.txt  \n",
            " extracting: valid/labels/BikesHelmets236_png_jpg.rf.d360e8fb3cf27b4b26202ed1a9874d1e.txt  \n",
            " extracting: valid/labels/BikesHelmets238_png_jpg.rf.14533b4d4c483966f567c2f30e0d2144.txt  \n",
            " extracting: valid/labels/BikesHelmets245_png_jpg.rf.ca30f46f0d200926a17df2567c353e3f.txt  \n",
            " extracting: valid/labels/BikesHelmets24_png_jpg.rf.f22100dba05f7d9839aad0319c803a69.txt  \n",
            " extracting: valid/labels/BikesHelmets274_png_jpg.rf.c83477d36436a7d7a71ec18ce0e61e6e.txt  \n",
            " extracting: valid/labels/BikesHelmets275_png_jpg.rf.3385ff45c479cf986395feb129564fd9.txt  \n",
            " extracting: valid/labels/BikesHelmets280_png_jpg.rf.b192bd9e4fec76d310ea53675442ad2b.txt  \n",
            " extracting: valid/labels/BikesHelmets297_png_jpg.rf.8d6065900e0a44a67b1f4dc96eb09c5f.txt  \n",
            " extracting: valid/labels/BikesHelmets299_png_jpg.rf.73d64ab0b782fb6fc267a0694cefe42d.txt  \n",
            " extracting: valid/labels/BikesHelmets2_png_jpg.rf.2cca0279ece1d8f364403dde4b4e5a9c.txt  \n",
            " extracting: valid/labels/BikesHelmets303_png_jpg.rf.a3c75d42bd88e206a7825feb55ca87fd.txt  \n",
            " extracting: valid/labels/BikesHelmets306_png_jpg.rf.adc142435e5936db5e857f586bd12955.txt  \n",
            " extracting: valid/labels/BikesHelmets309_png_jpg.rf.286aeb08e7e790e8151ed40d43384d73.txt  \n",
            " extracting: valid/labels/BikesHelmets30_png_jpg.rf.e9274ab657a92205e5e2c3e684efb89e.txt  \n",
            " extracting: valid/labels/BikesHelmets312_png_jpg.rf.de0f0306dc9074df3284fe6eccc254e2.txt  \n",
            " extracting: valid/labels/BikesHelmets316_png_jpg.rf.0bdc8e553348cc4cc3e54e24b56cb9fb.txt  \n",
            " extracting: valid/labels/BikesHelmets319_png_jpg.rf.c5d8cb9dbf558c6b83981934ce166825.txt  \n",
            " extracting: valid/labels/BikesHelmets320_png_jpg.rf.2f9ce848cdc6df7fedc3c6e84900cd17.txt  \n",
            " extracting: valid/labels/BikesHelmets321_png_jpg.rf.d55bd3ead9117daec5baf193e2ea7aa2.txt  \n",
            " extracting: valid/labels/BikesHelmets323_png_jpg.rf.21ac2512c491d67e59b0c68643fe8b0e.txt  \n",
            " extracting: valid/labels/BikesHelmets325_png_jpg.rf.20521ff77f7fb5d5d3e23c4fc9c62773.txt  \n",
            " extracting: valid/labels/BikesHelmets347_png_jpg.rf.cbec94ed3b6c15a26655c92ed06140e2.txt  \n",
            " extracting: valid/labels/BikesHelmets35_png_jpg.rf.1ee0b586f112b0cc9e1cfebec24ca036.txt  \n",
            " extracting: valid/labels/BikesHelmets362_png_jpg.rf.3621f4db828734214cb9d8ab9d021a04.txt  \n",
            " extracting: valid/labels/BikesHelmets365_png_jpg.rf.b365cd576f909e3d5d650c95c7cc33aa.txt  \n",
            " extracting: valid/labels/BikesHelmets367_png_jpg.rf.969c528ed313254eb5006ccc1dae859b.txt  \n",
            " extracting: valid/labels/BikesHelmets371_png_jpg.rf.6832eecfa550d066748bc48701760b70.txt  \n",
            " extracting: valid/labels/BikesHelmets374_png_jpg.rf.2902d1e39dbab8d1da3f11192abda1b2.txt  \n",
            " extracting: valid/labels/BikesHelmets383_png_jpg.rf.be79c8dbfc1fc7eaa498562cb6bc831c.txt  \n",
            " extracting: valid/labels/BikesHelmets421_png_jpg.rf.0661442b7a488a234a207b75746f63de.txt  \n",
            " extracting: valid/labels/BikesHelmets426_png_jpg.rf.eb1ff9a9a79264ddcf6c2dc4ebf7d993.txt  \n",
            " extracting: valid/labels/BikesHelmets437_png_jpg.rf.bd0123240e34c020851cfe569aa81664.txt  \n",
            " extracting: valid/labels/BikesHelmets43_png_jpg.rf.0996afa8de3c7afa623d7cac0d67223e.txt  \n",
            " extracting: valid/labels/BikesHelmets462_png_jpg.rf.9eac61401dc6091dd631903143a45bef.txt  \n",
            " extracting: valid/labels/BikesHelmets46_png_jpg.rf.eee9ac59efd94609392364c8befcd624.txt  \n",
            " extracting: valid/labels/BikesHelmets487_png_jpg.rf.7d874eb20dd38093834bc6c4ba373830.txt  \n",
            " extracting: valid/labels/BikesHelmets488_png_jpg.rf.80a8d7dc889b2c86d1f99ab1f3832eeb.txt  \n",
            " extracting: valid/labels/BikesHelmets493_png_jpg.rf.c609aac094ffe0a9afa22a6cc4704b79.txt  \n",
            " extracting: valid/labels/BikesHelmets494_png_jpg.rf.15967f9be41abf45d44a7e79ce7b5a61.txt  \n",
            " extracting: valid/labels/BikesHelmets501_png_jpg.rf.a1702a6ea643828071bf2f05409d18a0.txt  \n",
            " extracting: valid/labels/BikesHelmets506_png_jpg.rf.0849ccf655bdda444b8b0bd52289f516.txt  \n",
            " extracting: valid/labels/BikesHelmets519_png_jpg.rf.648c9a9da52a991b09abee9c80fd6605.txt  \n",
            " extracting: valid/labels/BikesHelmets527_png_jpg.rf.0d756da494fd8f06dcb70f0b5bbabd85.txt  \n",
            " extracting: valid/labels/BikesHelmets537_png_jpg.rf.5f7b0a2cc2c3b912a195aa9941cc1db2.txt  \n",
            " extracting: valid/labels/BikesHelmets540_png_jpg.rf.518b43ec8f8c431002c1c4c22bcb7695.txt  \n",
            " extracting: valid/labels/BikesHelmets543_png_jpg.rf.87753a358b70fca89006a2dd96475954.txt  \n",
            " extracting: valid/labels/BikesHelmets548_png_jpg.rf.6e9948cc72278a7da2b78fa7058a1ff3.txt  \n",
            " extracting: valid/labels/BikesHelmets554_png_jpg.rf.634f06e096e50ffdc942c8456e90358f.txt  \n",
            " extracting: valid/labels/BikesHelmets560_png_jpg.rf.1f5554dd1816d633a4ed17e47cc94f68.txt  \n",
            " extracting: valid/labels/BikesHelmets566_png_jpg.rf.584eeea090750e4838a05718e13382d2.txt  \n",
            " extracting: valid/labels/BikesHelmets573_png_jpg.rf.12ad526ecd8addfca3f2e506156299b3.txt  \n",
            " extracting: valid/labels/BikesHelmets579_png_jpg.rf.931146b848734ff7668188aeac263e0b.txt  \n",
            " extracting: valid/labels/BikesHelmets583_png_jpg.rf.9c36b7fb77fb6b05af7535d3f004298f.txt  \n",
            " extracting: valid/labels/BikesHelmets585_png_jpg.rf.59f8e4a179836abf031df2bebd01471a.txt  \n",
            " extracting: valid/labels/BikesHelmets587_png_jpg.rf.a49a9f93824065bc99306534d658b9a9.txt  \n",
            " extracting: valid/labels/BikesHelmets596_png_jpg.rf.2e892fd940c90fcdde2bf8666d90a187.txt  \n",
            " extracting: valid/labels/BikesHelmets601_png_jpg.rf.66d9e8133c8226411ef33c31ec1b3630.txt  \n",
            " extracting: valid/labels/BikesHelmets611_png_jpg.rf.bf57b6d0cf9a4a253372aaa09dd3a3b3.txt  \n",
            " extracting: valid/labels/BikesHelmets616_png_jpg.rf.6442d26eafeabd253a76398870e2e4df.txt  \n",
            " extracting: valid/labels/BikesHelmets627_png_jpg.rf.6a8a0a863d9df35b3f10eb588800675d.txt  \n",
            " extracting: valid/labels/BikesHelmets630_png_jpg.rf.75f7a85f27d094b5a3e9804618c5013e.txt  \n",
            " extracting: valid/labels/BikesHelmets631_png_jpg.rf.5088b36ef4769fd3fcb2011b70f313e4.txt  \n",
            " extracting: valid/labels/BikesHelmets634_png_jpg.rf.8fa43ebb9d9f11df36bd0b8d28043597.txt  \n",
            " extracting: valid/labels/BikesHelmets635_png_jpg.rf.d5875b117c25bbc2724e8fe1bf9adcb2.txt  \n",
            " extracting: valid/labels/BikesHelmets638_png_jpg.rf.380a00e9d672bd7f100d84eabe5c34cc.txt  \n",
            " extracting: valid/labels/BikesHelmets661_png_jpg.rf.bc3c7d6266ff2fd3db18313f84a6095b.txt  \n",
            " extracting: valid/labels/BikesHelmets664_png_jpg.rf.9bceb9a04d0e52e27d42a645da4cd09f.txt  \n",
            " extracting: valid/labels/BikesHelmets671_png_jpg.rf.513a45970b8b13d32a74dc166f396b91.txt  \n",
            " extracting: valid/labels/BikesHelmets679_png_jpg.rf.a1d6533b994aa4ab6a74d8cc69334836.txt  \n",
            " extracting: valid/labels/BikesHelmets682_png_jpg.rf.5efe5dbeff528b27cfbdd2f7c4a2285d.txt  \n",
            " extracting: valid/labels/BikesHelmets70_png_jpg.rf.09a054473f72a66f85319019b89692fb.txt  \n",
            " extracting: valid/labels/BikesHelmets711_png_jpg.rf.7347d3dedb8e55bcdbd66b765486b7d3.txt  \n",
            " extracting: valid/labels/BikesHelmets712_png_jpg.rf.e92200460ba727c324c0d64c88ed99dc.txt  \n",
            " extracting: valid/labels/BikesHelmets719_png_jpg.rf.a7bda4e56347057918c5e168f2f55072.txt  \n",
            " extracting: valid/labels/BikesHelmets71_png_jpg.rf.e6c87c7f3b7acefc1c2206371bada2af.txt  \n",
            " extracting: valid/labels/BikesHelmets720_png_jpg.rf.fad3546df3656484f4c1727391909773.txt  \n",
            " extracting: valid/labels/BikesHelmets723_png_jpg.rf.14ac2b07f70e81e8bdfce372539e35af.txt  \n",
            " extracting: valid/labels/BikesHelmets729_png_jpg.rf.eb117e7579295654b16f6dbd2e2722b5.txt  \n",
            " extracting: valid/labels/BikesHelmets749_png_jpg.rf.16e9c2195463ba8525943428e59a514b.txt  \n",
            " extracting: valid/labels/BikesHelmets74_png_jpg.rf.a57b64e67b11773a0057e71bb3cf612b.txt  \n",
            " extracting: valid/labels/BikesHelmets752_png_jpg.rf.8d41fedb0f8b4efb0cf6cdc608f99ef0.txt  \n",
            " extracting: valid/labels/BikesHelmets754_png_jpg.rf.abea9bbbcc8a7c7b08a893eae8e0057f.txt  \n",
            " extracting: valid/labels/BikesHelmets757_png_jpg.rf.25fca8c767d2481cd20b344394dcca48.txt  \n",
            " extracting: valid/labels/BikesHelmets758_png_jpg.rf.fdc55d0d43f9f4aa30558870474043b8.txt  \n",
            " extracting: valid/labels/BikesHelmets759_png_jpg.rf.443f82758ab4fd6a34a19ca6de4aae44.txt  \n",
            " extracting: valid/labels/BikesHelmets75_png_jpg.rf.e2820b0b2ff69d95ce0f7ddf646273f4.txt  \n",
            " extracting: valid/labels/BikesHelmets764_png_jpg.rf.cfd930ae2045736cf81b006e5da120fc.txt  \n",
            " extracting: valid/labels/BikesHelmets87_png_jpg.rf.7ca8c720e6f89bbdb48c5338d12c1d72.txt  \n",
            " extracting: valid/labels/BikesHelmets8_png_jpg.rf.ac67c56da7ade92acac134f789c6b13e.txt  \n",
            " extracting: valid/labels/BikesHelmets94_png_jpg.rf.6cc224df0cfd671b18c656ed4250fa01.txt  \n",
            " extracting: valid/labels/BikesHelmets9_png_jpg.rf.c5d2a47d3da5fa87f9d3546efa394b59.txt  \n"
          ]
        }
      ]
    },
    {
      "cell_type": "code",
      "execution_count": 3,
      "metadata": {
        "id": "bMhsCDFFQoLq"
      },
      "outputs": [],
      "source": [
        "dir='/content/drive/MyDrive/helmet-dataset.zipa'"
      ]
    },
    {
      "cell_type": "code",
      "execution_count": 4,
      "metadata": {
        "colab": {
          "base_uri": "https://localhost:8080/"
        },
        "id": "eLrqtzwqQ13I",
        "outputId": "132fe2eb-ae73-4c98-d77c-a435fbea904a"
      },
      "outputs": [
        {
          "output_type": "stream",
          "name": "stdout",
          "text": [
            "Collecting ultralytics\n",
            "  Downloading ultralytics-8.1.11-py3-none-any.whl (709 kB)\n",
            "\u001b[2K     \u001b[90m━━━━━━━━━━━━━━━━━━━━━━━━━━━━━━━━━━━━━━━━\u001b[0m \u001b[32m709.5/709.5 kB\u001b[0m \u001b[31m8.8 MB/s\u001b[0m eta \u001b[36m0:00:00\u001b[0m\n",
            "\u001b[?25hRequirement already satisfied: matplotlib>=3.3.0 in /usr/local/lib/python3.10/dist-packages (from ultralytics) (3.7.1)\n",
            "Requirement already satisfied: numpy>=1.22.2 in /usr/local/lib/python3.10/dist-packages (from ultralytics) (1.23.5)\n",
            "Requirement already satisfied: opencv-python>=4.6.0 in /usr/local/lib/python3.10/dist-packages (from ultralytics) (4.8.0.76)\n",
            "Requirement already satisfied: pillow>=7.1.2 in /usr/local/lib/python3.10/dist-packages (from ultralytics) (9.4.0)\n",
            "Requirement already satisfied: pyyaml>=5.3.1 in /usr/local/lib/python3.10/dist-packages (from ultralytics) (6.0.1)\n",
            "Requirement already satisfied: requests>=2.23.0 in /usr/local/lib/python3.10/dist-packages (from ultralytics) (2.31.0)\n",
            "Requirement already satisfied: scipy>=1.4.1 in /usr/local/lib/python3.10/dist-packages (from ultralytics) (1.11.4)\n",
            "Requirement already satisfied: torch>=1.8.0 in /usr/local/lib/python3.10/dist-packages (from ultralytics) (2.1.0+cu121)\n",
            "Requirement already satisfied: torchvision>=0.9.0 in /usr/local/lib/python3.10/dist-packages (from ultralytics) (0.16.0+cu121)\n",
            "Requirement already satisfied: tqdm>=4.64.0 in /usr/local/lib/python3.10/dist-packages (from ultralytics) (4.66.1)\n",
            "Requirement already satisfied: psutil in /usr/local/lib/python3.10/dist-packages (from ultralytics) (5.9.5)\n",
            "Requirement already satisfied: py-cpuinfo in /usr/local/lib/python3.10/dist-packages (from ultralytics) (9.0.0)\n",
            "Collecting thop>=0.1.1 (from ultralytics)\n",
            "  Downloading thop-0.1.1.post2209072238-py3-none-any.whl (15 kB)\n",
            "Requirement already satisfied: pandas>=1.1.4 in /usr/local/lib/python3.10/dist-packages (from ultralytics) (1.5.3)\n",
            "Requirement already satisfied: seaborn>=0.11.0 in /usr/local/lib/python3.10/dist-packages (from ultralytics) (0.13.1)\n",
            "Requirement already satisfied: contourpy>=1.0.1 in /usr/local/lib/python3.10/dist-packages (from matplotlib>=3.3.0->ultralytics) (1.2.0)\n",
            "Requirement already satisfied: cycler>=0.10 in /usr/local/lib/python3.10/dist-packages (from matplotlib>=3.3.0->ultralytics) (0.12.1)\n",
            "Requirement already satisfied: fonttools>=4.22.0 in /usr/local/lib/python3.10/dist-packages (from matplotlib>=3.3.0->ultralytics) (4.48.1)\n",
            "Requirement already satisfied: kiwisolver>=1.0.1 in /usr/local/lib/python3.10/dist-packages (from matplotlib>=3.3.0->ultralytics) (1.4.5)\n",
            "Requirement already satisfied: packaging>=20.0 in /usr/local/lib/python3.10/dist-packages (from matplotlib>=3.3.0->ultralytics) (23.2)\n",
            "Requirement already satisfied: pyparsing>=2.3.1 in /usr/local/lib/python3.10/dist-packages (from matplotlib>=3.3.0->ultralytics) (3.1.1)\n",
            "Requirement already satisfied: python-dateutil>=2.7 in /usr/local/lib/python3.10/dist-packages (from matplotlib>=3.3.0->ultralytics) (2.8.2)\n",
            "Requirement already satisfied: pytz>=2020.1 in /usr/local/lib/python3.10/dist-packages (from pandas>=1.1.4->ultralytics) (2023.4)\n",
            "Requirement already satisfied: charset-normalizer<4,>=2 in /usr/local/lib/python3.10/dist-packages (from requests>=2.23.0->ultralytics) (3.3.2)\n",
            "Requirement already satisfied: idna<4,>=2.5 in /usr/local/lib/python3.10/dist-packages (from requests>=2.23.0->ultralytics) (3.6)\n",
            "Requirement already satisfied: urllib3<3,>=1.21.1 in /usr/local/lib/python3.10/dist-packages (from requests>=2.23.0->ultralytics) (2.0.7)\n",
            "Requirement already satisfied: certifi>=2017.4.17 in /usr/local/lib/python3.10/dist-packages (from requests>=2.23.0->ultralytics) (2024.2.2)\n",
            "Requirement already satisfied: filelock in /usr/local/lib/python3.10/dist-packages (from torch>=1.8.0->ultralytics) (3.13.1)\n",
            "Requirement already satisfied: typing-extensions in /usr/local/lib/python3.10/dist-packages (from torch>=1.8.0->ultralytics) (4.9.0)\n",
            "Requirement already satisfied: sympy in /usr/local/lib/python3.10/dist-packages (from torch>=1.8.0->ultralytics) (1.12)\n",
            "Requirement already satisfied: networkx in /usr/local/lib/python3.10/dist-packages (from torch>=1.8.0->ultralytics) (3.2.1)\n",
            "Requirement already satisfied: jinja2 in /usr/local/lib/python3.10/dist-packages (from torch>=1.8.0->ultralytics) (3.1.3)\n",
            "Requirement already satisfied: fsspec in /usr/local/lib/python3.10/dist-packages (from torch>=1.8.0->ultralytics) (2023.6.0)\n",
            "Requirement already satisfied: triton==2.1.0 in /usr/local/lib/python3.10/dist-packages (from torch>=1.8.0->ultralytics) (2.1.0)\n",
            "Requirement already satisfied: six>=1.5 in /usr/local/lib/python3.10/dist-packages (from python-dateutil>=2.7->matplotlib>=3.3.0->ultralytics) (1.16.0)\n",
            "Requirement already satisfied: MarkupSafe>=2.0 in /usr/local/lib/python3.10/dist-packages (from jinja2->torch>=1.8.0->ultralytics) (2.1.5)\n",
            "Requirement already satisfied: mpmath>=0.19 in /usr/local/lib/python3.10/dist-packages (from sympy->torch>=1.8.0->ultralytics) (1.3.0)\n",
            "Installing collected packages: thop, ultralytics\n",
            "Successfully installed thop-0.1.1.post2209072238 ultralytics-8.1.11\n"
          ]
        }
      ],
      "source": [
        "!pip install ultralytics"
      ]
    },
    {
      "cell_type": "code",
      "execution_count": 5,
      "metadata": {
        "id": "a48tORqjQ3t0",
        "colab": {
          "base_uri": "https://localhost:8080/"
        },
        "outputId": "ef216bfa-4591-40c3-9efc-d7c68bfbcebb"
      },
      "outputs": [
        {
          "output_type": "stream",
          "name": "stdout",
          "text": [
            "Ultralytics YOLOv8.1.11 🚀 Python-3.10.12 torch-2.1.0+cu121 CUDA:0 (Tesla T4, 15102MiB)\n",
            "\u001b[34m\u001b[1mengine/trainer: \u001b[0mtask=detect, mode=train, model=yolov8n.yaml, data=/content/data.yaml, epochs=100, time=None, patience=50, batch=16, imgsz=640, save=True, save_period=-1, cache=False, device=None, workers=8, project=None, name=train, exist_ok=False, pretrained=True, optimizer=auto, verbose=True, seed=0, deterministic=True, single_cls=False, rect=False, cos_lr=False, close_mosaic=10, resume=False, amp=True, fraction=1.0, profile=False, freeze=None, multi_scale=False, overlap_mask=True, mask_ratio=4, dropout=0.0, val=True, split=val, save_json=False, save_hybrid=False, conf=None, iou=0.7, max_det=300, half=False, dnn=False, plots=True, source=None, vid_stride=1, stream_buffer=False, visualize=False, augment=False, agnostic_nms=False, classes=None, retina_masks=False, embed=None, show=False, save_frames=False, save_txt=False, save_conf=False, save_crop=False, show_labels=True, show_conf=True, show_boxes=True, line_width=None, format=torchscript, keras=False, optimize=False, int8=False, dynamic=False, simplify=False, opset=None, workspace=4, nms=False, lr0=0.01, lrf=0.01, momentum=0.937, weight_decay=0.0005, warmup_epochs=3.0, warmup_momentum=0.8, warmup_bias_lr=0.1, box=7.5, cls=0.5, dfl=1.5, pose=12.0, kobj=1.0, label_smoothing=0.0, nbs=64, hsv_h=0.015, hsv_s=0.7, hsv_v=0.4, degrees=0.0, translate=0.1, scale=0.5, shear=0.0, perspective=0.0, flipud=0.0, fliplr=0.5, mosaic=1.0, mixup=0.0, copy_paste=0.0, auto_augment=randaugment, erasing=0.4, crop_fraction=1.0, cfg=None, tracker=botsort.yaml, save_dir=runs/detect/train\n",
            "Downloading https://ultralytics.com/assets/Arial.ttf to '/root/.config/Ultralytics/Arial.ttf'...\n"
          ]
        },
        {
          "output_type": "stream",
          "name": "stderr",
          "text": [
            "100%|██████████| 755k/755k [00:00<00:00, 16.1MB/s]\n"
          ]
        },
        {
          "output_type": "stream",
          "name": "stdout",
          "text": [
            "Overriding model.yaml nc=80 with nc=2\n",
            "\n",
            "                   from  n    params  module                                       arguments                     \n",
            "  0                  -1  1       464  ultralytics.nn.modules.conv.Conv             [3, 16, 3, 2]                 \n",
            "  1                  -1  1      4672  ultralytics.nn.modules.conv.Conv             [16, 32, 3, 2]                \n",
            "  2                  -1  1      7360  ultralytics.nn.modules.block.C2f             [32, 32, 1, True]             \n",
            "  3                  -1  1     18560  ultralytics.nn.modules.conv.Conv             [32, 64, 3, 2]                \n",
            "  4                  -1  2     49664  ultralytics.nn.modules.block.C2f             [64, 64, 2, True]             \n",
            "  5                  -1  1     73984  ultralytics.nn.modules.conv.Conv             [64, 128, 3, 2]               \n",
            "  6                  -1  2    197632  ultralytics.nn.modules.block.C2f             [128, 128, 2, True]           \n",
            "  7                  -1  1    295424  ultralytics.nn.modules.conv.Conv             [128, 256, 3, 2]              \n",
            "  8                  -1  1    460288  ultralytics.nn.modules.block.C2f             [256, 256, 1, True]           \n",
            "  9                  -1  1    164608  ultralytics.nn.modules.block.SPPF            [256, 256, 5]                 \n",
            " 10                  -1  1         0  torch.nn.modules.upsampling.Upsample         [None, 2, 'nearest']          \n",
            " 11             [-1, 6]  1         0  ultralytics.nn.modules.conv.Concat           [1]                           \n",
            " 12                  -1  1    148224  ultralytics.nn.modules.block.C2f             [384, 128, 1]                 \n",
            " 13                  -1  1         0  torch.nn.modules.upsampling.Upsample         [None, 2, 'nearest']          \n",
            " 14             [-1, 4]  1         0  ultralytics.nn.modules.conv.Concat           [1]                           \n",
            " 15                  -1  1     37248  ultralytics.nn.modules.block.C2f             [192, 64, 1]                  \n",
            " 16                  -1  1     36992  ultralytics.nn.modules.conv.Conv             [64, 64, 3, 2]                \n",
            " 17            [-1, 12]  1         0  ultralytics.nn.modules.conv.Concat           [1]                           \n",
            " 18                  -1  1    123648  ultralytics.nn.modules.block.C2f             [192, 128, 1]                 \n",
            " 19                  -1  1    147712  ultralytics.nn.modules.conv.Conv             [128, 128, 3, 2]              \n",
            " 20             [-1, 9]  1         0  ultralytics.nn.modules.conv.Concat           [1]                           \n",
            " 21                  -1  1    493056  ultralytics.nn.modules.block.C2f             [384, 256, 1]                 \n",
            " 22        [15, 18, 21]  1    751702  ultralytics.nn.modules.head.Detect           [2, [64, 128, 256]]           \n",
            "YOLOv8n summary: 225 layers, 3011238 parameters, 3011222 gradients, 8.2 GFLOPs\n",
            "\n",
            "\u001b[34m\u001b[1mTensorBoard: \u001b[0mStart with 'tensorboard --logdir runs/detect/train', view at http://localhost:6006/\n",
            "Freezing layer 'model.22.dfl.conv.weight'\n",
            "\u001b[34m\u001b[1mAMP: \u001b[0mrunning Automatic Mixed Precision (AMP) checks with YOLOv8n...\n",
            "Downloading https://github.com/ultralytics/assets/releases/download/v8.1.0/yolov8n.pt to 'yolov8n.pt'...\n"
          ]
        },
        {
          "output_type": "stream",
          "name": "stderr",
          "text": [
            "100%|██████████| 6.23M/6.23M [00:00<00:00, 78.1MB/s]\n"
          ]
        },
        {
          "output_type": "stream",
          "name": "stdout",
          "text": [
            "\u001b[34m\u001b[1mAMP: \u001b[0mchecks passed ✅\n"
          ]
        },
        {
          "output_type": "stream",
          "name": "stderr",
          "text": [
            "\u001b[34m\u001b[1mtrain: \u001b[0mScanning /content/train/labels... 3546 images, 129 backgrounds, 0 corrupt: 100%|██████████| 3546/3546 [00:01<00:00, 2065.34it/s]\n"
          ]
        },
        {
          "output_type": "stream",
          "name": "stdout",
          "text": [
            "\u001b[34m\u001b[1mtrain: \u001b[0mNew cache created: /content/train/labels.cache\n",
            "\u001b[34m\u001b[1malbumentations: \u001b[0mBlur(p=0.01, blur_limit=(3, 7)), MedianBlur(p=0.01, blur_limit=(3, 7)), ToGray(p=0.01), CLAHE(p=0.01, clip_limit=(1, 4.0), tile_grid_size=(8, 8))\n"
          ]
        },
        {
          "output_type": "stream",
          "name": "stderr",
          "text": [
            "\u001b[34m\u001b[1mval: \u001b[0mScanning /content/valid/labels... 126 images, 0 backgrounds, 0 corrupt: 100%|██████████| 126/126 [00:00<00:00, 814.58it/s]"
          ]
        },
        {
          "output_type": "stream",
          "name": "stdout",
          "text": [
            "\u001b[34m\u001b[1mval: \u001b[0mNew cache created: /content/valid/labels.cache\n"
          ]
        },
        {
          "output_type": "stream",
          "name": "stderr",
          "text": [
            "\n"
          ]
        },
        {
          "output_type": "stream",
          "name": "stdout",
          "text": [
            "Plotting labels to runs/detect/train/labels.jpg... \n",
            "\u001b[34m\u001b[1moptimizer:\u001b[0m 'optimizer=auto' found, ignoring 'lr0=0.01' and 'momentum=0.937' and determining best 'optimizer', 'lr0' and 'momentum' automatically... \n",
            "\u001b[34m\u001b[1moptimizer:\u001b[0m AdamW(lr=0.001667, momentum=0.9) with parameter groups 57 weight(decay=0.0), 64 weight(decay=0.0005), 63 bias(decay=0.0)\n",
            "\u001b[34m\u001b[1mTensorBoard: \u001b[0mmodel graph visualization added ✅\n",
            "Image sizes 640 train, 640 val\n",
            "Using 2 dataloader workers\n",
            "Logging results to \u001b[1mruns/detect/train\u001b[0m\n",
            "Starting training for 100 epochs...\n",
            "\n",
            "      Epoch    GPU_mem   box_loss   cls_loss   dfl_loss  Instances       Size\n"
          ]
        },
        {
          "output_type": "stream",
          "name": "stderr",
          "text": [
            "      1/100      2.57G      3.567      4.014      3.689         62        640: 100%|██████████| 222/222 [01:20<00:00,  2.75it/s]\n",
            "                 Class     Images  Instances      Box(P          R      mAP50  mAP50-95): 100%|██████████| 4/4 [00:02<00:00,  1.43it/s]"
          ]
        },
        {
          "output_type": "stream",
          "name": "stdout",
          "text": [
            "                   all        126        299      0.174      0.121     0.0429       0.01\n"
          ]
        },
        {
          "output_type": "stream",
          "name": "stderr",
          "text": [
            "\n"
          ]
        },
        {
          "output_type": "stream",
          "name": "stdout",
          "text": [
            "\n",
            "      Epoch    GPU_mem   box_loss   cls_loss   dfl_loss  Instances       Size\n"
          ]
        },
        {
          "output_type": "stream",
          "name": "stderr",
          "text": [
            "      2/100      2.32G      2.719       3.14      2.703         53        640: 100%|██████████| 222/222 [01:12<00:00,  3.07it/s]\n",
            "                 Class     Images  Instances      Box(P          R      mAP50  mAP50-95): 100%|██████████| 4/4 [00:02<00:00,  1.59it/s]"
          ]
        },
        {
          "output_type": "stream",
          "name": "stdout",
          "text": [
            "                   all        126        299      0.168       0.12     0.0796     0.0258\n"
          ]
        },
        {
          "output_type": "stream",
          "name": "stderr",
          "text": [
            "\n"
          ]
        },
        {
          "output_type": "stream",
          "name": "stdout",
          "text": [
            "\n",
            "      Epoch    GPU_mem   box_loss   cls_loss   dfl_loss  Instances       Size\n"
          ]
        },
        {
          "output_type": "stream",
          "name": "stderr",
          "text": [
            "      3/100       2.3G       2.41      2.715      2.358         50        640: 100%|██████████| 222/222 [01:12<00:00,  3.07it/s]\n",
            "                 Class     Images  Instances      Box(P          R      mAP50  mAP50-95): 100%|██████████| 4/4 [00:01<00:00,  2.70it/s]"
          ]
        },
        {
          "output_type": "stream",
          "name": "stdout",
          "text": [
            "                   all        126        299      0.167      0.311      0.134     0.0382\n"
          ]
        },
        {
          "output_type": "stream",
          "name": "stderr",
          "text": [
            "\n"
          ]
        },
        {
          "output_type": "stream",
          "name": "stdout",
          "text": [
            "\n",
            "      Epoch    GPU_mem   box_loss   cls_loss   dfl_loss  Instances       Size\n"
          ]
        },
        {
          "output_type": "stream",
          "name": "stderr",
          "text": [
            "      4/100       2.3G      2.248      2.524      2.199         51        640: 100%|██████████| 222/222 [01:12<00:00,  3.06it/s]\n",
            "                 Class     Images  Instances      Box(P          R      mAP50  mAP50-95): 100%|██████████| 4/4 [00:01<00:00,  2.44it/s]"
          ]
        },
        {
          "output_type": "stream",
          "name": "stdout",
          "text": [
            "                   all        126        299      0.239      0.305      0.193     0.0587\n"
          ]
        },
        {
          "output_type": "stream",
          "name": "stderr",
          "text": [
            "\n"
          ]
        },
        {
          "output_type": "stream",
          "name": "stdout",
          "text": [
            "\n",
            "      Epoch    GPU_mem   box_loss   cls_loss   dfl_loss  Instances       Size\n"
          ]
        },
        {
          "output_type": "stream",
          "name": "stderr",
          "text": [
            "      5/100       2.3G      2.146       2.42      2.097         66        640: 100%|██████████| 222/222 [01:14<00:00,  2.99it/s]\n",
            "                 Class     Images  Instances      Box(P          R      mAP50  mAP50-95): 100%|██████████| 4/4 [00:01<00:00,  2.46it/s]"
          ]
        },
        {
          "output_type": "stream",
          "name": "stdout",
          "text": [
            "                   all        126        299      0.307      0.384      0.251     0.0788\n"
          ]
        },
        {
          "output_type": "stream",
          "name": "stderr",
          "text": [
            "\n"
          ]
        },
        {
          "output_type": "stream",
          "name": "stdout",
          "text": [
            "\n",
            "      Epoch    GPU_mem   box_loss   cls_loss   dfl_loss  Instances       Size\n"
          ]
        },
        {
          "output_type": "stream",
          "name": "stderr",
          "text": [
            "      6/100      2.29G      2.063      2.258      2.019         43        640: 100%|██████████| 222/222 [01:12<00:00,  3.05it/s]\n",
            "                 Class     Images  Instances      Box(P          R      mAP50  mAP50-95): 100%|██████████| 4/4 [00:01<00:00,  2.44it/s]"
          ]
        },
        {
          "output_type": "stream",
          "name": "stdout",
          "text": [
            "                   all        126        299       0.42      0.383      0.318      0.108\n"
          ]
        },
        {
          "output_type": "stream",
          "name": "stderr",
          "text": [
            "\n"
          ]
        },
        {
          "output_type": "stream",
          "name": "stdout",
          "text": [
            "\n",
            "      Epoch    GPU_mem   box_loss   cls_loss   dfl_loss  Instances       Size\n"
          ]
        },
        {
          "output_type": "stream",
          "name": "stderr",
          "text": [
            "      7/100      2.21G      2.008      2.197      1.984         56        640: 100%|██████████| 222/222 [01:12<00:00,  3.05it/s]\n",
            "                 Class     Images  Instances      Box(P          R      mAP50  mAP50-95): 100%|██████████| 4/4 [00:02<00:00,  1.62it/s]"
          ]
        },
        {
          "output_type": "stream",
          "name": "stdout",
          "text": [
            "                   all        126        299      0.446      0.361      0.322      0.111\n"
          ]
        },
        {
          "output_type": "stream",
          "name": "stderr",
          "text": [
            "\n"
          ]
        },
        {
          "output_type": "stream",
          "name": "stdout",
          "text": [
            "\n",
            "      Epoch    GPU_mem   box_loss   cls_loss   dfl_loss  Instances       Size\n"
          ]
        },
        {
          "output_type": "stream",
          "name": "stderr",
          "text": [
            "      8/100      2.29G      1.962      2.121      1.928         46        640: 100%|██████████| 222/222 [01:12<00:00,  3.07it/s]\n",
            "                 Class     Images  Instances      Box(P          R      mAP50  mAP50-95): 100%|██████████| 4/4 [00:01<00:00,  2.42it/s]"
          ]
        },
        {
          "output_type": "stream",
          "name": "stdout",
          "text": [
            "                   all        126        299      0.439      0.497      0.418      0.132\n"
          ]
        },
        {
          "output_type": "stream",
          "name": "stderr",
          "text": [
            "\n"
          ]
        },
        {
          "output_type": "stream",
          "name": "stdout",
          "text": [
            "\n",
            "      Epoch    GPU_mem   box_loss   cls_loss   dfl_loss  Instances       Size\n"
          ]
        },
        {
          "output_type": "stream",
          "name": "stderr",
          "text": [
            "      9/100      2.33G       1.92      2.047      1.895         58        640: 100%|██████████| 222/222 [01:12<00:00,  3.08it/s]\n",
            "                 Class     Images  Instances      Box(P          R      mAP50  mAP50-95): 100%|██████████| 4/4 [00:01<00:00,  2.17it/s]"
          ]
        },
        {
          "output_type": "stream",
          "name": "stdout",
          "text": [
            "                   all        126        299      0.419      0.492      0.415      0.135\n"
          ]
        },
        {
          "output_type": "stream",
          "name": "stderr",
          "text": [
            "\n"
          ]
        },
        {
          "output_type": "stream",
          "name": "stdout",
          "text": [
            "\n",
            "      Epoch    GPU_mem   box_loss   cls_loss   dfl_loss  Instances       Size\n"
          ]
        },
        {
          "output_type": "stream",
          "name": "stderr",
          "text": [
            "     10/100       2.3G      1.879      1.978      1.864         69        640: 100%|██████████| 222/222 [01:12<00:00,  3.07it/s]\n",
            "                 Class     Images  Instances      Box(P          R      mAP50  mAP50-95): 100%|██████████| 4/4 [00:01<00:00,  2.42it/s]"
          ]
        },
        {
          "output_type": "stream",
          "name": "stdout",
          "text": [
            "                   all        126        299      0.489       0.46      0.448      0.156\n"
          ]
        },
        {
          "output_type": "stream",
          "name": "stderr",
          "text": [
            "\n"
          ]
        },
        {
          "output_type": "stream",
          "name": "stdout",
          "text": [
            "\n",
            "      Epoch    GPU_mem   box_loss   cls_loss   dfl_loss  Instances       Size\n"
          ]
        },
        {
          "output_type": "stream",
          "name": "stderr",
          "text": [
            "     11/100      2.33G      1.873      1.918      1.839         80        640: 100%|██████████| 222/222 [01:12<00:00,  3.08it/s]\n",
            "                 Class     Images  Instances      Box(P          R      mAP50  mAP50-95): 100%|██████████| 4/4 [00:01<00:00,  2.80it/s]"
          ]
        },
        {
          "output_type": "stream",
          "name": "stdout",
          "text": [
            "                   all        126        299      0.462        0.5      0.416      0.136\n"
          ]
        },
        {
          "output_type": "stream",
          "name": "stderr",
          "text": [
            "\n"
          ]
        },
        {
          "output_type": "stream",
          "name": "stdout",
          "text": [
            "\n",
            "      Epoch    GPU_mem   box_loss   cls_loss   dfl_loss  Instances       Size\n"
          ]
        },
        {
          "output_type": "stream",
          "name": "stderr",
          "text": [
            "     12/100       2.3G      1.856      1.893      1.817         59        640: 100%|██████████| 222/222 [01:11<00:00,  3.10it/s]\n",
            "                 Class     Images  Instances      Box(P          R      mAP50  mAP50-95): 100%|██████████| 4/4 [00:02<00:00,  1.68it/s]"
          ]
        },
        {
          "output_type": "stream",
          "name": "stdout",
          "text": [
            "                   all        126        299      0.513      0.504      0.465      0.136\n"
          ]
        },
        {
          "output_type": "stream",
          "name": "stderr",
          "text": [
            "\n"
          ]
        },
        {
          "output_type": "stream",
          "name": "stdout",
          "text": [
            "\n",
            "      Epoch    GPU_mem   box_loss   cls_loss   dfl_loss  Instances       Size\n"
          ]
        },
        {
          "output_type": "stream",
          "name": "stderr",
          "text": [
            "     13/100       2.3G      1.822      1.813      1.782         62        640: 100%|██████████| 222/222 [01:11<00:00,  3.09it/s]\n",
            "                 Class     Images  Instances      Box(P          R      mAP50  mAP50-95): 100%|██████████| 4/4 [00:01<00:00,  2.78it/s]"
          ]
        },
        {
          "output_type": "stream",
          "name": "stdout",
          "text": [
            "                   all        126        299      0.606      0.481      0.466      0.138\n"
          ]
        },
        {
          "output_type": "stream",
          "name": "stderr",
          "text": [
            "\n"
          ]
        },
        {
          "output_type": "stream",
          "name": "stdout",
          "text": [
            "\n",
            "      Epoch    GPU_mem   box_loss   cls_loss   dfl_loss  Instances       Size\n"
          ]
        },
        {
          "output_type": "stream",
          "name": "stderr",
          "text": [
            "     14/100      2.32G      1.798      1.779       1.76         45        640: 100%|██████████| 222/222 [01:12<00:00,  3.05it/s]\n",
            "                 Class     Images  Instances      Box(P          R      mAP50  mAP50-95): 100%|██████████| 4/4 [00:01<00:00,  2.49it/s]"
          ]
        },
        {
          "output_type": "stream",
          "name": "stdout",
          "text": [
            "                   all        126        299      0.509      0.567      0.511      0.169\n"
          ]
        },
        {
          "output_type": "stream",
          "name": "stderr",
          "text": [
            "\n"
          ]
        },
        {
          "output_type": "stream",
          "name": "stdout",
          "text": [
            "\n",
            "      Epoch    GPU_mem   box_loss   cls_loss   dfl_loss  Instances       Size\n"
          ]
        },
        {
          "output_type": "stream",
          "name": "stderr",
          "text": [
            "     15/100       2.3G      1.774      1.741      1.745         43        640: 100%|██████████| 222/222 [01:14<00:00,  2.99it/s]\n",
            "                 Class     Images  Instances      Box(P          R      mAP50  mAP50-95): 100%|██████████| 4/4 [00:01<00:00,  2.46it/s]"
          ]
        },
        {
          "output_type": "stream",
          "name": "stdout",
          "text": [
            "                   all        126        299      0.632      0.511      0.538      0.203\n"
          ]
        },
        {
          "output_type": "stream",
          "name": "stderr",
          "text": [
            "\n"
          ]
        },
        {
          "output_type": "stream",
          "name": "stdout",
          "text": [
            "\n",
            "      Epoch    GPU_mem   box_loss   cls_loss   dfl_loss  Instances       Size\n"
          ]
        },
        {
          "output_type": "stream",
          "name": "stderr",
          "text": [
            "     16/100      2.32G      1.771      1.714      1.745         49        640: 100%|██████████| 222/222 [01:12<00:00,  3.05it/s]\n",
            "                 Class     Images  Instances      Box(P          R      mAP50  mAP50-95): 100%|██████████| 4/4 [00:01<00:00,  2.81it/s]"
          ]
        },
        {
          "output_type": "stream",
          "name": "stdout",
          "text": [
            "                   all        126        299      0.584      0.556      0.539      0.172\n"
          ]
        },
        {
          "output_type": "stream",
          "name": "stderr",
          "text": [
            "\n"
          ]
        },
        {
          "output_type": "stream",
          "name": "stdout",
          "text": [
            "\n",
            "      Epoch    GPU_mem   box_loss   cls_loss   dfl_loss  Instances       Size\n"
          ]
        },
        {
          "output_type": "stream",
          "name": "stderr",
          "text": [
            "     17/100       2.3G      1.769      1.707      1.742         61        640: 100%|██████████| 222/222 [01:12<00:00,  3.08it/s]\n",
            "                 Class     Images  Instances      Box(P          R      mAP50  mAP50-95): 100%|██████████| 4/4 [00:02<00:00,  1.45it/s]"
          ]
        },
        {
          "output_type": "stream",
          "name": "stdout",
          "text": [
            "                   all        126        299      0.545      0.554      0.505       0.15\n"
          ]
        },
        {
          "output_type": "stream",
          "name": "stderr",
          "text": [
            "\n"
          ]
        },
        {
          "output_type": "stream",
          "name": "stdout",
          "text": [
            "\n",
            "      Epoch    GPU_mem   box_loss   cls_loss   dfl_loss  Instances       Size\n"
          ]
        },
        {
          "output_type": "stream",
          "name": "stderr",
          "text": [
            "     18/100      2.32G      1.739      1.647      1.715         47        640: 100%|██████████| 222/222 [01:12<00:00,  3.07it/s]\n",
            "                 Class     Images  Instances      Box(P          R      mAP50  mAP50-95): 100%|██████████| 4/4 [00:01<00:00,  2.85it/s]"
          ]
        },
        {
          "output_type": "stream",
          "name": "stdout",
          "text": [
            "                   all        126        299      0.584      0.606      0.562      0.228\n"
          ]
        },
        {
          "output_type": "stream",
          "name": "stderr",
          "text": [
            "\n"
          ]
        },
        {
          "output_type": "stream",
          "name": "stdout",
          "text": [
            "\n",
            "      Epoch    GPU_mem   box_loss   cls_loss   dfl_loss  Instances       Size\n"
          ]
        },
        {
          "output_type": "stream",
          "name": "stderr",
          "text": [
            "     19/100      2.19G      1.738       1.63      1.703         60        640: 100%|██████████| 222/222 [01:12<00:00,  3.07it/s]\n",
            "                 Class     Images  Instances      Box(P          R      mAP50  mAP50-95): 100%|██████████| 4/4 [00:01<00:00,  2.76it/s]"
          ]
        },
        {
          "output_type": "stream",
          "name": "stdout",
          "text": [
            "                   all        126        299      0.596      0.621      0.602       0.22\n"
          ]
        },
        {
          "output_type": "stream",
          "name": "stderr",
          "text": [
            "\n"
          ]
        },
        {
          "output_type": "stream",
          "name": "stdout",
          "text": [
            "\n",
            "      Epoch    GPU_mem   box_loss   cls_loss   dfl_loss  Instances       Size\n"
          ]
        },
        {
          "output_type": "stream",
          "name": "stderr",
          "text": [
            "     20/100      2.29G      1.721      1.617      1.678         46        640: 100%|██████████| 222/222 [01:14<00:00,  2.99it/s]\n",
            "                 Class     Images  Instances      Box(P          R      mAP50  mAP50-95): 100%|██████████| 4/4 [00:01<00:00,  2.80it/s]"
          ]
        },
        {
          "output_type": "stream",
          "name": "stdout",
          "text": [
            "                   all        126        299      0.645      0.616      0.633       0.26\n"
          ]
        },
        {
          "output_type": "stream",
          "name": "stderr",
          "text": [
            "\n"
          ]
        },
        {
          "output_type": "stream",
          "name": "stdout",
          "text": [
            "\n",
            "      Epoch    GPU_mem   box_loss   cls_loss   dfl_loss  Instances       Size\n"
          ]
        },
        {
          "output_type": "stream",
          "name": "stderr",
          "text": [
            "     21/100      2.33G       1.71      1.568      1.674         81        640: 100%|██████████| 222/222 [01:12<00:00,  3.06it/s]\n",
            "                 Class     Images  Instances      Box(P          R      mAP50  mAP50-95): 100%|██████████| 4/4 [00:01<00:00,  3.06it/s]"
          ]
        },
        {
          "output_type": "stream",
          "name": "stdout",
          "text": [
            "                   all        126        299        0.6      0.619      0.595      0.187\n"
          ]
        },
        {
          "output_type": "stream",
          "name": "stderr",
          "text": [
            "\n"
          ]
        },
        {
          "output_type": "stream",
          "name": "stdout",
          "text": [
            "\n",
            "      Epoch    GPU_mem   box_loss   cls_loss   dfl_loss  Instances       Size\n"
          ]
        },
        {
          "output_type": "stream",
          "name": "stderr",
          "text": [
            "     22/100      2.21G      1.697      1.559      1.665         75        640: 100%|██████████| 222/222 [01:12<00:00,  3.04it/s]\n",
            "                 Class     Images  Instances      Box(P          R      mAP50  mAP50-95): 100%|██████████| 4/4 [00:02<00:00,  1.64it/s]"
          ]
        },
        {
          "output_type": "stream",
          "name": "stdout",
          "text": [
            "                   all        126        299      0.632      0.628      0.618      0.217\n"
          ]
        },
        {
          "output_type": "stream",
          "name": "stderr",
          "text": [
            "\n"
          ]
        },
        {
          "output_type": "stream",
          "name": "stdout",
          "text": [
            "\n",
            "      Epoch    GPU_mem   box_loss   cls_loss   dfl_loss  Instances       Size\n"
          ]
        },
        {
          "output_type": "stream",
          "name": "stderr",
          "text": [
            "     23/100      2.33G      1.676      1.524       1.65         62        640: 100%|██████████| 222/222 [01:11<00:00,  3.09it/s]\n",
            "                 Class     Images  Instances      Box(P          R      mAP50  mAP50-95): 100%|██████████| 4/4 [00:01<00:00,  2.53it/s]"
          ]
        },
        {
          "output_type": "stream",
          "name": "stdout",
          "text": [
            "                   all        126        299      0.658      0.599      0.604      0.243\n"
          ]
        },
        {
          "output_type": "stream",
          "name": "stderr",
          "text": [
            "\n"
          ]
        },
        {
          "output_type": "stream",
          "name": "stdout",
          "text": [
            "\n",
            "      Epoch    GPU_mem   box_loss   cls_loss   dfl_loss  Instances       Size\n"
          ]
        },
        {
          "output_type": "stream",
          "name": "stderr",
          "text": [
            "     24/100       2.3G      1.673      1.522      1.647         68        640: 100%|██████████| 222/222 [01:12<00:00,  3.06it/s]\n",
            "                 Class     Images  Instances      Box(P          R      mAP50  mAP50-95): 100%|██████████| 4/4 [00:01<00:00,  2.71it/s]"
          ]
        },
        {
          "output_type": "stream",
          "name": "stdout",
          "text": [
            "                   all        126        299       0.64      0.689      0.651      0.249\n"
          ]
        },
        {
          "output_type": "stream",
          "name": "stderr",
          "text": [
            "\n"
          ]
        },
        {
          "output_type": "stream",
          "name": "stdout",
          "text": [
            "\n",
            "      Epoch    GPU_mem   box_loss   cls_loss   dfl_loss  Instances       Size\n"
          ]
        },
        {
          "output_type": "stream",
          "name": "stderr",
          "text": [
            "     25/100      2.32G      1.686      1.511      1.645         33        640: 100%|██████████| 222/222 [01:13<00:00,  3.03it/s]\n",
            "                 Class     Images  Instances      Box(P          R      mAP50  mAP50-95): 100%|██████████| 4/4 [00:02<00:00,  1.86it/s]"
          ]
        },
        {
          "output_type": "stream",
          "name": "stdout",
          "text": [
            "                   all        126        299      0.622      0.561      0.553      0.168\n"
          ]
        },
        {
          "output_type": "stream",
          "name": "stderr",
          "text": [
            "\n"
          ]
        },
        {
          "output_type": "stream",
          "name": "stdout",
          "text": [
            "\n",
            "      Epoch    GPU_mem   box_loss   cls_loss   dfl_loss  Instances       Size\n"
          ]
        },
        {
          "output_type": "stream",
          "name": "stderr",
          "text": [
            "     26/100      2.32G      1.659      1.466      1.628         73        640: 100%|██████████| 222/222 [01:12<00:00,  3.07it/s]\n",
            "                 Class     Images  Instances      Box(P          R      mAP50  mAP50-95): 100%|██████████| 4/4 [00:01<00:00,  2.42it/s]"
          ]
        },
        {
          "output_type": "stream",
          "name": "stdout",
          "text": [
            "                   all        126        299      0.671      0.662      0.651      0.266\n"
          ]
        },
        {
          "output_type": "stream",
          "name": "stderr",
          "text": [
            "\n"
          ]
        },
        {
          "output_type": "stream",
          "name": "stdout",
          "text": [
            "\n",
            "      Epoch    GPU_mem   box_loss   cls_loss   dfl_loss  Instances       Size\n"
          ]
        },
        {
          "output_type": "stream",
          "name": "stderr",
          "text": [
            "     27/100      2.19G      1.658      1.448      1.622         77        640: 100%|██████████| 222/222 [01:11<00:00,  3.09it/s]\n",
            "                 Class     Images  Instances      Box(P          R      mAP50  mAP50-95): 100%|██████████| 4/4 [00:01<00:00,  2.75it/s]"
          ]
        },
        {
          "output_type": "stream",
          "name": "stdout",
          "text": [
            "                   all        126        299      0.655      0.604      0.601      0.218\n"
          ]
        },
        {
          "output_type": "stream",
          "name": "stderr",
          "text": [
            "\n"
          ]
        },
        {
          "output_type": "stream",
          "name": "stdout",
          "text": [
            "\n",
            "      Epoch    GPU_mem   box_loss   cls_loss   dfl_loss  Instances       Size\n"
          ]
        },
        {
          "output_type": "stream",
          "name": "stderr",
          "text": [
            "     28/100      2.19G      1.647       1.45      1.613         34        640: 100%|██████████| 222/222 [01:12<00:00,  3.04it/s]\n",
            "                 Class     Images  Instances      Box(P          R      mAP50  mAP50-95): 100%|██████████| 4/4 [00:01<00:00,  2.47it/s]"
          ]
        },
        {
          "output_type": "stream",
          "name": "stdout",
          "text": [
            "                   all        126        299      0.644      0.626      0.633      0.249\n"
          ]
        },
        {
          "output_type": "stream",
          "name": "stderr",
          "text": [
            "\n"
          ]
        },
        {
          "output_type": "stream",
          "name": "stdout",
          "text": [
            "\n",
            "      Epoch    GPU_mem   box_loss   cls_loss   dfl_loss  Instances       Size\n"
          ]
        },
        {
          "output_type": "stream",
          "name": "stderr",
          "text": [
            "     29/100       2.2G      1.641       1.43      1.612         68        640: 100%|██████████| 222/222 [01:12<00:00,  3.07it/s]\n",
            "                 Class     Images  Instances      Box(P          R      mAP50  mAP50-95): 100%|██████████| 4/4 [00:01<00:00,  2.72it/s]"
          ]
        },
        {
          "output_type": "stream",
          "name": "stdout",
          "text": [
            "                   all        126        299      0.695      0.665      0.677      0.258\n"
          ]
        },
        {
          "output_type": "stream",
          "name": "stderr",
          "text": [
            "\n"
          ]
        },
        {
          "output_type": "stream",
          "name": "stdout",
          "text": [
            "\n",
            "      Epoch    GPU_mem   box_loss   cls_loss   dfl_loss  Instances       Size\n"
          ]
        },
        {
          "output_type": "stream",
          "name": "stderr",
          "text": [
            "     30/100      2.19G       1.66       1.44      1.621         66        640: 100%|██████████| 222/222 [01:12<00:00,  3.05it/s]\n",
            "                 Class     Images  Instances      Box(P          R      mAP50  mAP50-95): 100%|██████████| 4/4 [00:02<00:00,  1.71it/s]"
          ]
        },
        {
          "output_type": "stream",
          "name": "stdout",
          "text": [
            "                   all        126        299       0.62      0.671      0.666       0.25\n"
          ]
        },
        {
          "output_type": "stream",
          "name": "stderr",
          "text": [
            "\n"
          ]
        },
        {
          "output_type": "stream",
          "name": "stdout",
          "text": [
            "\n",
            "      Epoch    GPU_mem   box_loss   cls_loss   dfl_loss  Instances       Size\n"
          ]
        },
        {
          "output_type": "stream",
          "name": "stderr",
          "text": [
            "     31/100      2.24G      1.626      1.399        1.6         55        640: 100%|██████████| 222/222 [01:12<00:00,  3.08it/s]\n",
            "                 Class     Images  Instances      Box(P          R      mAP50  mAP50-95): 100%|██████████| 4/4 [00:01<00:00,  2.78it/s]"
          ]
        },
        {
          "output_type": "stream",
          "name": "stdout",
          "text": [
            "                   all        126        299      0.557      0.629      0.592      0.211\n"
          ]
        },
        {
          "output_type": "stream",
          "name": "stderr",
          "text": [
            "\n"
          ]
        },
        {
          "output_type": "stream",
          "name": "stdout",
          "text": [
            "\n",
            "      Epoch    GPU_mem   box_loss   cls_loss   dfl_loss  Instances       Size\n"
          ]
        },
        {
          "output_type": "stream",
          "name": "stderr",
          "text": [
            "     32/100      2.31G      1.617      1.368      1.589         84        640: 100%|██████████| 222/222 [01:12<00:00,  3.07it/s]\n",
            "                 Class     Images  Instances      Box(P          R      mAP50  mAP50-95): 100%|██████████| 4/4 [00:01<00:00,  2.62it/s]"
          ]
        },
        {
          "output_type": "stream",
          "name": "stdout",
          "text": [
            "                   all        126        299      0.685      0.657      0.693      0.278\n"
          ]
        },
        {
          "output_type": "stream",
          "name": "stderr",
          "text": [
            "\n"
          ]
        },
        {
          "output_type": "stream",
          "name": "stdout",
          "text": [
            "\n",
            "      Epoch    GPU_mem   box_loss   cls_loss   dfl_loss  Instances       Size\n"
          ]
        },
        {
          "output_type": "stream",
          "name": "stderr",
          "text": [
            "     33/100       2.3G      1.605      1.358      1.583         53        640: 100%|██████████| 222/222 [01:12<00:00,  3.05it/s]\n",
            "                 Class     Images  Instances      Box(P          R      mAP50  mAP50-95): 100%|██████████| 4/4 [00:01<00:00,  2.02it/s]"
          ]
        },
        {
          "output_type": "stream",
          "name": "stdout",
          "text": [
            "                   all        126        299      0.725      0.657      0.671      0.255\n"
          ]
        },
        {
          "output_type": "stream",
          "name": "stderr",
          "text": [
            "\n"
          ]
        },
        {
          "output_type": "stream",
          "name": "stdout",
          "text": [
            "\n",
            "      Epoch    GPU_mem   box_loss   cls_loss   dfl_loss  Instances       Size\n"
          ]
        },
        {
          "output_type": "stream",
          "name": "stderr",
          "text": [
            "     34/100      2.32G      1.615      1.352      1.583         48        640: 100%|██████████| 222/222 [01:12<00:00,  3.07it/s]\n",
            "                 Class     Images  Instances      Box(P          R      mAP50  mAP50-95): 100%|██████████| 4/4 [00:01<00:00,  2.72it/s]"
          ]
        },
        {
          "output_type": "stream",
          "name": "stdout",
          "text": [
            "                   all        126        299      0.698      0.679      0.695       0.24\n"
          ]
        },
        {
          "output_type": "stream",
          "name": "stderr",
          "text": [
            "\n"
          ]
        },
        {
          "output_type": "stream",
          "name": "stdout",
          "text": [
            "\n",
            "      Epoch    GPU_mem   box_loss   cls_loss   dfl_loss  Instances       Size\n"
          ]
        },
        {
          "output_type": "stream",
          "name": "stderr",
          "text": [
            "     35/100      2.33G      1.595       1.34      1.575         72        640: 100%|██████████| 222/222 [01:11<00:00,  3.09it/s]\n",
            "                 Class     Images  Instances      Box(P          R      mAP50  mAP50-95): 100%|██████████| 4/4 [00:01<00:00,  2.39it/s]"
          ]
        },
        {
          "output_type": "stream",
          "name": "stdout",
          "text": [
            "                   all        126        299      0.676      0.677      0.676       0.24\n"
          ]
        },
        {
          "output_type": "stream",
          "name": "stderr",
          "text": [
            "\n"
          ]
        },
        {
          "output_type": "stream",
          "name": "stdout",
          "text": [
            "\n",
            "      Epoch    GPU_mem   box_loss   cls_loss   dfl_loss  Instances       Size\n"
          ]
        },
        {
          "output_type": "stream",
          "name": "stderr",
          "text": [
            "     36/100      2.29G      1.593      1.346      1.575         51        640: 100%|██████████| 222/222 [01:13<00:00,  3.02it/s]\n",
            "                 Class     Images  Instances      Box(P          R      mAP50  mAP50-95): 100%|██████████| 4/4 [00:01<00:00,  2.69it/s]"
          ]
        },
        {
          "output_type": "stream",
          "name": "stdout",
          "text": [
            "                   all        126        299       0.65      0.701      0.666       0.25\n"
          ]
        },
        {
          "output_type": "stream",
          "name": "stderr",
          "text": [
            "\n"
          ]
        },
        {
          "output_type": "stream",
          "name": "stdout",
          "text": [
            "\n",
            "      Epoch    GPU_mem   box_loss   cls_loss   dfl_loss  Instances       Size\n"
          ]
        },
        {
          "output_type": "stream",
          "name": "stderr",
          "text": [
            "     37/100      2.32G      1.585      1.317      1.562         52        640: 100%|██████████| 222/222 [01:11<00:00,  3.09it/s]\n",
            "                 Class     Images  Instances      Box(P          R      mAP50  mAP50-95): 100%|██████████| 4/4 [00:01<00:00,  2.62it/s]"
          ]
        },
        {
          "output_type": "stream",
          "name": "stdout",
          "text": [
            "                   all        126        299      0.641       0.67      0.624       0.23\n"
          ]
        },
        {
          "output_type": "stream",
          "name": "stderr",
          "text": [
            "\n"
          ]
        },
        {
          "output_type": "stream",
          "name": "stdout",
          "text": [
            "\n",
            "      Epoch    GPU_mem   box_loss   cls_loss   dfl_loss  Instances       Size\n"
          ]
        },
        {
          "output_type": "stream",
          "name": "stderr",
          "text": [
            "     38/100       2.2G      1.566      1.289      1.551         62        640: 100%|██████████| 222/222 [01:11<00:00,  3.09it/s]\n",
            "                 Class     Images  Instances      Box(P          R      mAP50  mAP50-95): 100%|██████████| 4/4 [00:02<00:00,  1.49it/s]"
          ]
        },
        {
          "output_type": "stream",
          "name": "stdout",
          "text": [
            "                   all        126        299      0.692      0.641      0.668      0.234\n"
          ]
        },
        {
          "output_type": "stream",
          "name": "stderr",
          "text": [
            "\n"
          ]
        },
        {
          "output_type": "stream",
          "name": "stdout",
          "text": [
            "\n",
            "      Epoch    GPU_mem   box_loss   cls_loss   dfl_loss  Instances       Size\n"
          ]
        },
        {
          "output_type": "stream",
          "name": "stderr",
          "text": [
            "     39/100      2.21G      1.572      1.279       1.55         42        640: 100%|██████████| 222/222 [01:13<00:00,  3.03it/s]\n",
            "                 Class     Images  Instances      Box(P          R      mAP50  mAP50-95): 100%|██████████| 4/4 [00:01<00:00,  2.73it/s]"
          ]
        },
        {
          "output_type": "stream",
          "name": "stdout",
          "text": [
            "                   all        126        299       0.69      0.682      0.675      0.261\n"
          ]
        },
        {
          "output_type": "stream",
          "name": "stderr",
          "text": [
            "\n"
          ]
        },
        {
          "output_type": "stream",
          "name": "stdout",
          "text": [
            "\n",
            "      Epoch    GPU_mem   box_loss   cls_loss   dfl_loss  Instances       Size\n"
          ]
        },
        {
          "output_type": "stream",
          "name": "stderr",
          "text": [
            "     40/100      2.19G      1.571      1.293      1.544         38        640: 100%|██████████| 222/222 [01:13<00:00,  3.04it/s]\n",
            "                 Class     Images  Instances      Box(P          R      mAP50  mAP50-95): 100%|██████████| 4/4 [00:01<00:00,  2.87it/s]"
          ]
        },
        {
          "output_type": "stream",
          "name": "stdout",
          "text": [
            "                   all        126        299      0.759      0.677      0.721      0.324\n"
          ]
        },
        {
          "output_type": "stream",
          "name": "stderr",
          "text": [
            "\n"
          ]
        },
        {
          "output_type": "stream",
          "name": "stdout",
          "text": [
            "\n",
            "      Epoch    GPU_mem   box_loss   cls_loss   dfl_loss  Instances       Size\n"
          ]
        },
        {
          "output_type": "stream",
          "name": "stderr",
          "text": [
            "     41/100       2.3G      1.553      1.272      1.534         49        640: 100%|██████████| 222/222 [01:14<00:00,  2.98it/s]\n",
            "                 Class     Images  Instances      Box(P          R      mAP50  mAP50-95): 100%|██████████| 4/4 [00:01<00:00,  2.70it/s]"
          ]
        },
        {
          "output_type": "stream",
          "name": "stdout",
          "text": [
            "                   all        126        299      0.713       0.63      0.682      0.283\n"
          ]
        },
        {
          "output_type": "stream",
          "name": "stderr",
          "text": [
            "\n"
          ]
        },
        {
          "output_type": "stream",
          "name": "stdout",
          "text": [
            "\n",
            "      Epoch    GPU_mem   box_loss   cls_loss   dfl_loss  Instances       Size\n"
          ]
        },
        {
          "output_type": "stream",
          "name": "stderr",
          "text": [
            "     42/100      2.29G      1.546      1.257       1.53         74        640: 100%|██████████| 222/222 [01:13<00:00,  3.02it/s]\n",
            "                 Class     Images  Instances      Box(P          R      mAP50  mAP50-95): 100%|██████████| 4/4 [00:01<00:00,  2.71it/s]"
          ]
        },
        {
          "output_type": "stream",
          "name": "stdout",
          "text": [
            "                   all        126        299      0.726        0.7       0.72      0.295\n"
          ]
        },
        {
          "output_type": "stream",
          "name": "stderr",
          "text": [
            "\n"
          ]
        },
        {
          "output_type": "stream",
          "name": "stdout",
          "text": [
            "\n",
            "      Epoch    GPU_mem   box_loss   cls_loss   dfl_loss  Instances       Size\n"
          ]
        },
        {
          "output_type": "stream",
          "name": "stderr",
          "text": [
            "     43/100       2.3G      1.544      1.245      1.528         63        640: 100%|██████████| 222/222 [01:14<00:00,  2.97it/s]\n",
            "                 Class     Images  Instances      Box(P          R      mAP50  mAP50-95): 100%|██████████| 4/4 [00:01<00:00,  2.64it/s]"
          ]
        },
        {
          "output_type": "stream",
          "name": "stdout",
          "text": [
            "                   all        126        299      0.719      0.669      0.693      0.264\n"
          ]
        },
        {
          "output_type": "stream",
          "name": "stderr",
          "text": [
            "\n"
          ]
        },
        {
          "output_type": "stream",
          "name": "stdout",
          "text": [
            "\n",
            "      Epoch    GPU_mem   box_loss   cls_loss   dfl_loss  Instances       Size\n"
          ]
        },
        {
          "output_type": "stream",
          "name": "stderr",
          "text": [
            "     44/100      2.18G      1.545      1.232      1.523         53        640: 100%|██████████| 222/222 [01:12<00:00,  3.06it/s]\n",
            "                 Class     Images  Instances      Box(P          R      mAP50  mAP50-95): 100%|██████████| 4/4 [00:01<00:00,  2.80it/s]"
          ]
        },
        {
          "output_type": "stream",
          "name": "stdout",
          "text": [
            "                   all        126        299      0.699      0.665      0.682      0.274\n"
          ]
        },
        {
          "output_type": "stream",
          "name": "stderr",
          "text": [
            "\n"
          ]
        },
        {
          "output_type": "stream",
          "name": "stdout",
          "text": [
            "\n",
            "      Epoch    GPU_mem   box_loss   cls_loss   dfl_loss  Instances       Size\n"
          ]
        },
        {
          "output_type": "stream",
          "name": "stderr",
          "text": [
            "     45/100      2.33G      1.547      1.237      1.532         37        640: 100%|██████████| 222/222 [01:12<00:00,  3.06it/s]\n",
            "                 Class     Images  Instances      Box(P          R      mAP50  mAP50-95): 100%|██████████| 4/4 [00:02<00:00,  1.50it/s]"
          ]
        },
        {
          "output_type": "stream",
          "name": "stdout",
          "text": [
            "                   all        126        299      0.665      0.642      0.654      0.265\n"
          ]
        },
        {
          "output_type": "stream",
          "name": "stderr",
          "text": [
            "\n"
          ]
        },
        {
          "output_type": "stream",
          "name": "stdout",
          "text": [
            "\n",
            "      Epoch    GPU_mem   box_loss   cls_loss   dfl_loss  Instances       Size\n"
          ]
        },
        {
          "output_type": "stream",
          "name": "stderr",
          "text": [
            "     46/100      2.32G       1.53      1.226       1.52         49        640: 100%|██████████| 222/222 [01:12<00:00,  3.06it/s]\n",
            "                 Class     Images  Instances      Box(P          R      mAP50  mAP50-95): 100%|██████████| 4/4 [00:01<00:00,  2.51it/s]"
          ]
        },
        {
          "output_type": "stream",
          "name": "stdout",
          "text": [
            "                   all        126        299      0.739      0.684      0.723      0.289\n"
          ]
        },
        {
          "output_type": "stream",
          "name": "stderr",
          "text": [
            "\n"
          ]
        },
        {
          "output_type": "stream",
          "name": "stdout",
          "text": [
            "\n",
            "      Epoch    GPU_mem   box_loss   cls_loss   dfl_loss  Instances       Size\n"
          ]
        },
        {
          "output_type": "stream",
          "name": "stderr",
          "text": [
            "     47/100      2.19G      1.532      1.214      1.515         73        640: 100%|██████████| 222/222 [01:11<00:00,  3.09it/s]\n",
            "                 Class     Images  Instances      Box(P          R      mAP50  mAP50-95): 100%|██████████| 4/4 [00:01<00:00,  2.67it/s]"
          ]
        },
        {
          "output_type": "stream",
          "name": "stdout",
          "text": [
            "                   all        126        299      0.689      0.666       0.67      0.272\n"
          ]
        },
        {
          "output_type": "stream",
          "name": "stderr",
          "text": [
            "\n"
          ]
        },
        {
          "output_type": "stream",
          "name": "stdout",
          "text": [
            "\n",
            "      Epoch    GPU_mem   box_loss   cls_loss   dfl_loss  Instances       Size\n"
          ]
        },
        {
          "output_type": "stream",
          "name": "stderr",
          "text": [
            "     48/100      2.32G      1.515       1.19        1.5         70        640: 100%|██████████| 222/222 [01:13<00:00,  3.01it/s]\n",
            "                 Class     Images  Instances      Box(P          R      mAP50  mAP50-95): 100%|██████████| 4/4 [00:01<00:00,  2.60it/s]"
          ]
        },
        {
          "output_type": "stream",
          "name": "stdout",
          "text": [
            "                   all        126        299      0.675      0.691      0.718      0.288\n"
          ]
        },
        {
          "output_type": "stream",
          "name": "stderr",
          "text": [
            "\n"
          ]
        },
        {
          "output_type": "stream",
          "name": "stdout",
          "text": [
            "\n",
            "      Epoch    GPU_mem   box_loss   cls_loss   dfl_loss  Instances       Size\n"
          ]
        },
        {
          "output_type": "stream",
          "name": "stderr",
          "text": [
            "     49/100      2.19G      1.519      1.189      1.499         75        640: 100%|██████████| 222/222 [01:12<00:00,  3.08it/s]\n",
            "                 Class     Images  Instances      Box(P          R      mAP50  mAP50-95): 100%|██████████| 4/4 [00:01<00:00,  2.85it/s]"
          ]
        },
        {
          "output_type": "stream",
          "name": "stdout",
          "text": [
            "                   all        126        299      0.751      0.718      0.752      0.326\n"
          ]
        },
        {
          "output_type": "stream",
          "name": "stderr",
          "text": [
            "\n"
          ]
        },
        {
          "output_type": "stream",
          "name": "stdout",
          "text": [
            "\n",
            "      Epoch    GPU_mem   box_loss   cls_loss   dfl_loss  Instances       Size\n"
          ]
        },
        {
          "output_type": "stream",
          "name": "stderr",
          "text": [
            "     50/100      2.32G      1.524      1.183      1.502         79        640: 100%|██████████| 222/222 [01:11<00:00,  3.12it/s]\n",
            "                 Class     Images  Instances      Box(P          R      mAP50  mAP50-95): 100%|██████████| 4/4 [00:01<00:00,  2.73it/s]"
          ]
        },
        {
          "output_type": "stream",
          "name": "stdout",
          "text": [
            "                   all        126        299      0.735      0.686      0.719      0.304\n"
          ]
        },
        {
          "output_type": "stream",
          "name": "stderr",
          "text": [
            "\n"
          ]
        },
        {
          "output_type": "stream",
          "name": "stdout",
          "text": [
            "\n",
            "      Epoch    GPU_mem   box_loss   cls_loss   dfl_loss  Instances       Size\n"
          ]
        },
        {
          "output_type": "stream",
          "name": "stderr",
          "text": [
            "     51/100      2.33G      1.493      1.161      1.491         59        640: 100%|██████████| 222/222 [01:11<00:00,  3.11it/s]\n",
            "                 Class     Images  Instances      Box(P          R      mAP50  mAP50-95): 100%|██████████| 4/4 [00:02<00:00,  1.67it/s]"
          ]
        },
        {
          "output_type": "stream",
          "name": "stdout",
          "text": [
            "                   all        126        299      0.788      0.691      0.736      0.302\n"
          ]
        },
        {
          "output_type": "stream",
          "name": "stderr",
          "text": [
            "\n"
          ]
        },
        {
          "output_type": "stream",
          "name": "stdout",
          "text": [
            "\n",
            "      Epoch    GPU_mem   box_loss   cls_loss   dfl_loss  Instances       Size\n"
          ]
        },
        {
          "output_type": "stream",
          "name": "stderr",
          "text": [
            "     52/100      2.31G      1.498      1.163      1.482         63        640: 100%|██████████| 222/222 [01:11<00:00,  3.13it/s]\n",
            "                 Class     Images  Instances      Box(P          R      mAP50  mAP50-95): 100%|██████████| 4/4 [00:01<00:00,  2.95it/s]"
          ]
        },
        {
          "output_type": "stream",
          "name": "stdout",
          "text": [
            "                   all        126        299      0.719      0.696      0.736      0.304\n"
          ]
        },
        {
          "output_type": "stream",
          "name": "stderr",
          "text": [
            "\n"
          ]
        },
        {
          "output_type": "stream",
          "name": "stdout",
          "text": [
            "\n",
            "      Epoch    GPU_mem   box_loss   cls_loss   dfl_loss  Instances       Size\n"
          ]
        },
        {
          "output_type": "stream",
          "name": "stderr",
          "text": [
            "     53/100      2.32G      1.509      1.165      1.493         60        640: 100%|██████████| 222/222 [01:10<00:00,  3.13it/s]\n",
            "                 Class     Images  Instances      Box(P          R      mAP50  mAP50-95): 100%|██████████| 4/4 [00:01<00:00,  2.34it/s]"
          ]
        },
        {
          "output_type": "stream",
          "name": "stdout",
          "text": [
            "                   all        126        299      0.759      0.662      0.694      0.281\n"
          ]
        },
        {
          "output_type": "stream",
          "name": "stderr",
          "text": [
            "\n"
          ]
        },
        {
          "output_type": "stream",
          "name": "stdout",
          "text": [
            "\n",
            "      Epoch    GPU_mem   box_loss   cls_loss   dfl_loss  Instances       Size\n"
          ]
        },
        {
          "output_type": "stream",
          "name": "stderr",
          "text": [
            "     54/100      2.19G      1.492      1.155      1.483         36        640: 100%|██████████| 222/222 [01:10<00:00,  3.15it/s]\n",
            "                 Class     Images  Instances      Box(P          R      mAP50  mAP50-95): 100%|██████████| 4/4 [00:01<00:00,  2.27it/s]"
          ]
        },
        {
          "output_type": "stream",
          "name": "stdout",
          "text": [
            "                   all        126        299      0.739      0.713      0.725      0.288\n"
          ]
        },
        {
          "output_type": "stream",
          "name": "stderr",
          "text": [
            "\n"
          ]
        },
        {
          "output_type": "stream",
          "name": "stdout",
          "text": [
            "\n",
            "      Epoch    GPU_mem   box_loss   cls_loss   dfl_loss  Instances       Size\n"
          ]
        },
        {
          "output_type": "stream",
          "name": "stderr",
          "text": [
            "     55/100      2.33G      1.483      1.145      1.477         55        640: 100%|██████████| 222/222 [01:11<00:00,  3.11it/s]\n",
            "                 Class     Images  Instances      Box(P          R      mAP50  mAP50-95): 100%|██████████| 4/4 [00:01<00:00,  2.51it/s]"
          ]
        },
        {
          "output_type": "stream",
          "name": "stdout",
          "text": [
            "                   all        126        299      0.703      0.724      0.737      0.303\n"
          ]
        },
        {
          "output_type": "stream",
          "name": "stderr",
          "text": [
            "\n"
          ]
        },
        {
          "output_type": "stream",
          "name": "stdout",
          "text": [
            "\n",
            "      Epoch    GPU_mem   box_loss   cls_loss   dfl_loss  Instances       Size\n"
          ]
        },
        {
          "output_type": "stream",
          "name": "stderr",
          "text": [
            "     56/100      2.19G      1.468      1.139      1.475         66        640: 100%|██████████| 222/222 [01:10<00:00,  3.14it/s]\n",
            "                 Class     Images  Instances      Box(P          R      mAP50  mAP50-95): 100%|██████████| 4/4 [00:01<00:00,  2.53it/s]"
          ]
        },
        {
          "output_type": "stream",
          "name": "stdout",
          "text": [
            "                   all        126        299      0.699      0.719      0.713      0.311\n"
          ]
        },
        {
          "output_type": "stream",
          "name": "stderr",
          "text": [
            "\n"
          ]
        },
        {
          "output_type": "stream",
          "name": "stdout",
          "text": [
            "\n",
            "      Epoch    GPU_mem   box_loss   cls_loss   dfl_loss  Instances       Size\n"
          ]
        },
        {
          "output_type": "stream",
          "name": "stderr",
          "text": [
            "     57/100      2.32G      1.471      1.131      1.468         48        640: 100%|██████████| 222/222 [01:10<00:00,  3.13it/s]\n",
            "                 Class     Images  Instances      Box(P          R      mAP50  mAP50-95): 100%|██████████| 4/4 [00:01<00:00,  2.79it/s]"
          ]
        },
        {
          "output_type": "stream",
          "name": "stdout",
          "text": [
            "                   all        126        299      0.674      0.693      0.717      0.267\n"
          ]
        },
        {
          "output_type": "stream",
          "name": "stderr",
          "text": [
            "\n"
          ]
        },
        {
          "output_type": "stream",
          "name": "stdout",
          "text": [
            "\n",
            "      Epoch    GPU_mem   box_loss   cls_loss   dfl_loss  Instances       Size\n"
          ]
        },
        {
          "output_type": "stream",
          "name": "stderr",
          "text": [
            "     58/100      2.32G      1.475      1.119       1.47         60        640: 100%|██████████| 222/222 [01:12<00:00,  3.06it/s]\n",
            "                 Class     Images  Instances      Box(P          R      mAP50  mAP50-95): 100%|██████████| 4/4 [00:01<00:00,  2.03it/s]"
          ]
        },
        {
          "output_type": "stream",
          "name": "stdout",
          "text": [
            "                   all        126        299      0.707      0.706      0.698      0.261\n"
          ]
        },
        {
          "output_type": "stream",
          "name": "stderr",
          "text": [
            "\n"
          ]
        },
        {
          "output_type": "stream",
          "name": "stdout",
          "text": [
            "\n",
            "      Epoch    GPU_mem   box_loss   cls_loss   dfl_loss  Instances       Size\n"
          ]
        },
        {
          "output_type": "stream",
          "name": "stderr",
          "text": [
            "     59/100      2.33G      1.477       1.12       1.47         52        640: 100%|██████████| 222/222 [01:11<00:00,  3.12it/s]\n",
            "                 Class     Images  Instances      Box(P          R      mAP50  mAP50-95): 100%|██████████| 4/4 [00:01<00:00,  2.65it/s]"
          ]
        },
        {
          "output_type": "stream",
          "name": "stdout",
          "text": [
            "                   all        126        299      0.727      0.662      0.679      0.272\n"
          ]
        },
        {
          "output_type": "stream",
          "name": "stderr",
          "text": [
            "\n"
          ]
        },
        {
          "output_type": "stream",
          "name": "stdout",
          "text": [
            "\n",
            "      Epoch    GPU_mem   box_loss   cls_loss   dfl_loss  Instances       Size\n"
          ]
        },
        {
          "output_type": "stream",
          "name": "stderr",
          "text": [
            "     60/100      2.32G      1.464      1.113      1.462         52        640: 100%|██████████| 222/222 [01:11<00:00,  3.11it/s]\n",
            "                 Class     Images  Instances      Box(P          R      mAP50  mAP50-95): 100%|██████████| 4/4 [00:01<00:00,  2.63it/s]"
          ]
        },
        {
          "output_type": "stream",
          "name": "stdout",
          "text": [
            "                   all        126        299      0.771      0.674       0.71      0.286\n"
          ]
        },
        {
          "output_type": "stream",
          "name": "stderr",
          "text": [
            "\n"
          ]
        },
        {
          "output_type": "stream",
          "name": "stdout",
          "text": [
            "\n",
            "      Epoch    GPU_mem   box_loss   cls_loss   dfl_loss  Instances       Size\n"
          ]
        },
        {
          "output_type": "stream",
          "name": "stderr",
          "text": [
            "     61/100      2.21G      1.464      1.101      1.453         57        640: 100%|██████████| 222/222 [01:11<00:00,  3.09it/s]\n",
            "                 Class     Images  Instances      Box(P          R      mAP50  mAP50-95): 100%|██████████| 4/4 [00:02<00:00,  1.58it/s]"
          ]
        },
        {
          "output_type": "stream",
          "name": "stdout",
          "text": [
            "                   all        126        299      0.709       0.68      0.704      0.286\n"
          ]
        },
        {
          "output_type": "stream",
          "name": "stderr",
          "text": [
            "\n"
          ]
        },
        {
          "output_type": "stream",
          "name": "stdout",
          "text": [
            "\n",
            "      Epoch    GPU_mem   box_loss   cls_loss   dfl_loss  Instances       Size\n"
          ]
        },
        {
          "output_type": "stream",
          "name": "stderr",
          "text": [
            "     62/100      2.32G      1.451      1.078      1.446         65        640: 100%|██████████| 222/222 [01:11<00:00,  3.12it/s]\n",
            "                 Class     Images  Instances      Box(P          R      mAP50  mAP50-95): 100%|██████████| 4/4 [00:01<00:00,  2.81it/s]"
          ]
        },
        {
          "output_type": "stream",
          "name": "stdout",
          "text": [
            "                   all        126        299      0.696      0.708       0.71      0.312\n"
          ]
        },
        {
          "output_type": "stream",
          "name": "stderr",
          "text": [
            "\n"
          ]
        },
        {
          "output_type": "stream",
          "name": "stdout",
          "text": [
            "\n",
            "      Epoch    GPU_mem   box_loss   cls_loss   dfl_loss  Instances       Size\n"
          ]
        },
        {
          "output_type": "stream",
          "name": "stderr",
          "text": [
            "     63/100      2.33G       1.46      1.094      1.452         41        640: 100%|██████████| 222/222 [01:11<00:00,  3.12it/s]\n",
            "                 Class     Images  Instances      Box(P          R      mAP50  mAP50-95): 100%|██████████| 4/4 [00:01<00:00,  2.67it/s]"
          ]
        },
        {
          "output_type": "stream",
          "name": "stdout",
          "text": [
            "                   all        126        299      0.736      0.701      0.717      0.293\n"
          ]
        },
        {
          "output_type": "stream",
          "name": "stderr",
          "text": [
            "\n"
          ]
        },
        {
          "output_type": "stream",
          "name": "stdout",
          "text": [
            "\n",
            "      Epoch    GPU_mem   box_loss   cls_loss   dfl_loss  Instances       Size\n"
          ]
        },
        {
          "output_type": "stream",
          "name": "stderr",
          "text": [
            "     64/100       2.3G      1.446       1.08      1.444         51        640: 100%|██████████| 222/222 [01:11<00:00,  3.11it/s]\n",
            "                 Class     Images  Instances      Box(P          R      mAP50  mAP50-95): 100%|██████████| 4/4 [00:02<00:00,  1.88it/s]"
          ]
        },
        {
          "output_type": "stream",
          "name": "stdout",
          "text": [
            "                   all        126        299       0.68      0.684      0.694      0.297\n"
          ]
        },
        {
          "output_type": "stream",
          "name": "stderr",
          "text": [
            "\n"
          ]
        },
        {
          "output_type": "stream",
          "name": "stdout",
          "text": [
            "\n",
            "      Epoch    GPU_mem   box_loss   cls_loss   dfl_loss  Instances       Size\n"
          ]
        },
        {
          "output_type": "stream",
          "name": "stderr",
          "text": [
            "     65/100       2.2G      1.443      1.072      1.436         87        640: 100%|██████████| 222/222 [01:11<00:00,  3.09it/s]\n",
            "                 Class     Images  Instances      Box(P          R      mAP50  mAP50-95): 100%|██████████| 4/4 [00:01<00:00,  2.62it/s]"
          ]
        },
        {
          "output_type": "stream",
          "name": "stdout",
          "text": [
            "                   all        126        299      0.715      0.702      0.722      0.291\n"
          ]
        },
        {
          "output_type": "stream",
          "name": "stderr",
          "text": [
            "\n"
          ]
        },
        {
          "output_type": "stream",
          "name": "stdout",
          "text": [
            "\n",
            "      Epoch    GPU_mem   box_loss   cls_loss   dfl_loss  Instances       Size\n"
          ]
        },
        {
          "output_type": "stream",
          "name": "stderr",
          "text": [
            "     66/100      2.32G       1.44      1.069      1.446         75        640: 100%|██████████| 222/222 [01:11<00:00,  3.11it/s]\n",
            "                 Class     Images  Instances      Box(P          R      mAP50  mAP50-95): 100%|██████████| 4/4 [00:01<00:00,  2.63it/s]"
          ]
        },
        {
          "output_type": "stream",
          "name": "stdout",
          "text": [
            "                   all        126        299      0.687      0.671      0.705      0.286\n"
          ]
        },
        {
          "output_type": "stream",
          "name": "stderr",
          "text": [
            "\n"
          ]
        },
        {
          "output_type": "stream",
          "name": "stdout",
          "text": [
            "\n",
            "      Epoch    GPU_mem   box_loss   cls_loss   dfl_loss  Instances       Size\n"
          ]
        },
        {
          "output_type": "stream",
          "name": "stderr",
          "text": [
            "     67/100      2.33G      1.428      1.053      1.431         42        640: 100%|██████████| 222/222 [01:14<00:00,  2.97it/s]\n",
            "                 Class     Images  Instances      Box(P          R      mAP50  mAP50-95): 100%|██████████| 4/4 [00:02<00:00,  1.89it/s]"
          ]
        },
        {
          "output_type": "stream",
          "name": "stdout",
          "text": [
            "                   all        126        299      0.695      0.701       0.71      0.306\n"
          ]
        },
        {
          "output_type": "stream",
          "name": "stderr",
          "text": [
            "\n"
          ]
        },
        {
          "output_type": "stream",
          "name": "stdout",
          "text": [
            "\n",
            "      Epoch    GPU_mem   box_loss   cls_loss   dfl_loss  Instances       Size\n"
          ]
        },
        {
          "output_type": "stream",
          "name": "stderr",
          "text": [
            "     68/100      2.23G      1.427      1.056      1.426         37        640: 100%|██████████| 222/222 [01:11<00:00,  3.09it/s]\n",
            "                 Class     Images  Instances      Box(P          R      mAP50  mAP50-95): 100%|██████████| 4/4 [00:01<00:00,  2.59it/s]"
          ]
        },
        {
          "output_type": "stream",
          "name": "stdout",
          "text": [
            "                   all        126        299      0.716      0.695      0.716      0.301\n"
          ]
        },
        {
          "output_type": "stream",
          "name": "stderr",
          "text": [
            "\n"
          ]
        },
        {
          "output_type": "stream",
          "name": "stdout",
          "text": [
            "\n",
            "      Epoch    GPU_mem   box_loss   cls_loss   dfl_loss  Instances       Size\n"
          ]
        },
        {
          "output_type": "stream",
          "name": "stderr",
          "text": [
            "     69/100       2.3G      1.425      1.058      1.425         57        640: 100%|██████████| 222/222 [01:11<00:00,  3.10it/s]\n",
            "                 Class     Images  Instances      Box(P          R      mAP50  mAP50-95): 100%|██████████| 4/4 [00:01<00:00,  2.41it/s]"
          ]
        },
        {
          "output_type": "stream",
          "name": "stdout",
          "text": [
            "                   all        126        299      0.809      0.634      0.705      0.295\n"
          ]
        },
        {
          "output_type": "stream",
          "name": "stderr",
          "text": [
            "\n"
          ]
        },
        {
          "output_type": "stream",
          "name": "stdout",
          "text": [
            "\n",
            "      Epoch    GPU_mem   box_loss   cls_loss   dfl_loss  Instances       Size\n"
          ]
        },
        {
          "output_type": "stream",
          "name": "stderr",
          "text": [
            "     70/100      2.32G      1.412      1.039      1.407         63        640: 100%|██████████| 222/222 [01:11<00:00,  3.09it/s]\n",
            "                 Class     Images  Instances      Box(P          R      mAP50  mAP50-95): 100%|██████████| 4/4 [00:02<00:00,  1.71it/s]"
          ]
        },
        {
          "output_type": "stream",
          "name": "stdout",
          "text": [
            "                   all        126        299      0.735      0.699      0.734      0.295\n"
          ]
        },
        {
          "output_type": "stream",
          "name": "stderr",
          "text": [
            "\n"
          ]
        },
        {
          "output_type": "stream",
          "name": "stdout",
          "text": [
            "\n",
            "      Epoch    GPU_mem   box_loss   cls_loss   dfl_loss  Instances       Size\n"
          ]
        },
        {
          "output_type": "stream",
          "name": "stderr",
          "text": [
            "     71/100      2.19G      1.404      1.034      1.418         75        640: 100%|██████████| 222/222 [01:10<00:00,  3.14it/s]\n",
            "                 Class     Images  Instances      Box(P          R      mAP50  mAP50-95): 100%|██████████| 4/4 [00:01<00:00,  2.56it/s]"
          ]
        },
        {
          "output_type": "stream",
          "name": "stdout",
          "text": [
            "                   all        126        299      0.732      0.721      0.748      0.306\n"
          ]
        },
        {
          "output_type": "stream",
          "name": "stderr",
          "text": [
            "\n"
          ]
        },
        {
          "output_type": "stream",
          "name": "stdout",
          "text": [
            "\n",
            "      Epoch    GPU_mem   box_loss   cls_loss   dfl_loss  Instances       Size\n"
          ]
        },
        {
          "output_type": "stream",
          "name": "stderr",
          "text": [
            "     72/100      2.29G       1.41      1.036      1.425         43        640: 100%|██████████| 222/222 [01:11<00:00,  3.09it/s]\n",
            "                 Class     Images  Instances      Box(P          R      mAP50  mAP50-95): 100%|██████████| 4/4 [00:01<00:00,  3.04it/s]"
          ]
        },
        {
          "output_type": "stream",
          "name": "stdout",
          "text": [
            "                   all        126        299      0.732      0.716      0.762        0.3\n"
          ]
        },
        {
          "output_type": "stream",
          "name": "stderr",
          "text": [
            "\n"
          ]
        },
        {
          "output_type": "stream",
          "name": "stdout",
          "text": [
            "\n",
            "      Epoch    GPU_mem   box_loss   cls_loss   dfl_loss  Instances       Size\n"
          ]
        },
        {
          "output_type": "stream",
          "name": "stderr",
          "text": [
            "     73/100      2.33G       1.41      1.013       1.41         89        640: 100%|██████████| 222/222 [01:11<00:00,  3.10it/s]\n",
            "                 Class     Images  Instances      Box(P          R      mAP50  mAP50-95): 100%|██████████| 4/4 [00:02<00:00,  1.58it/s]"
          ]
        },
        {
          "output_type": "stream",
          "name": "stdout",
          "text": [
            "                   all        126        299      0.708      0.702      0.727      0.297\n"
          ]
        },
        {
          "output_type": "stream",
          "name": "stderr",
          "text": [
            "\n"
          ]
        },
        {
          "output_type": "stream",
          "name": "stdout",
          "text": [
            "\n",
            "      Epoch    GPU_mem   box_loss   cls_loss   dfl_loss  Instances       Size\n"
          ]
        },
        {
          "output_type": "stream",
          "name": "stderr",
          "text": [
            "     74/100      2.21G      1.407      1.024      1.408         37        640: 100%|██████████| 222/222 [01:11<00:00,  3.10it/s]\n",
            "                 Class     Images  Instances      Box(P          R      mAP50  mAP50-95): 100%|██████████| 4/4 [00:01<00:00,  2.55it/s]"
          ]
        },
        {
          "output_type": "stream",
          "name": "stdout",
          "text": [
            "                   all        126        299      0.753      0.689      0.731      0.304\n"
          ]
        },
        {
          "output_type": "stream",
          "name": "stderr",
          "text": [
            "\n"
          ]
        },
        {
          "output_type": "stream",
          "name": "stdout",
          "text": [
            "\n",
            "      Epoch    GPU_mem   box_loss   cls_loss   dfl_loss  Instances       Size\n"
          ]
        },
        {
          "output_type": "stream",
          "name": "stderr",
          "text": [
            "     75/100       2.3G      1.401       1.03      1.408         52        640: 100%|██████████| 222/222 [01:12<00:00,  3.08it/s]\n",
            "                 Class     Images  Instances      Box(P          R      mAP50  mAP50-95): 100%|██████████| 4/4 [00:01<00:00,  2.62it/s]"
          ]
        },
        {
          "output_type": "stream",
          "name": "stdout",
          "text": [
            "                   all        126        299      0.727      0.723      0.723      0.311\n"
          ]
        },
        {
          "output_type": "stream",
          "name": "stderr",
          "text": [
            "\n"
          ]
        },
        {
          "output_type": "stream",
          "name": "stdout",
          "text": [
            "\n",
            "      Epoch    GPU_mem   box_loss   cls_loss   dfl_loss  Instances       Size\n"
          ]
        },
        {
          "output_type": "stream",
          "name": "stderr",
          "text": [
            "     76/100      2.19G      1.403      1.015      1.408         33        640: 100%|██████████| 222/222 [01:11<00:00,  3.11it/s]\n",
            "                 Class     Images  Instances      Box(P          R      mAP50  mAP50-95): 100%|██████████| 4/4 [00:02<00:00,  1.56it/s]"
          ]
        },
        {
          "output_type": "stream",
          "name": "stdout",
          "text": [
            "                   all        126        299      0.755      0.699      0.728      0.293\n"
          ]
        },
        {
          "output_type": "stream",
          "name": "stderr",
          "text": [
            "\n"
          ]
        },
        {
          "output_type": "stream",
          "name": "stdout",
          "text": [
            "\n",
            "      Epoch    GPU_mem   box_loss   cls_loss   dfl_loss  Instances       Size\n"
          ]
        },
        {
          "output_type": "stream",
          "name": "stderr",
          "text": [
            "     77/100       2.2G      1.398      1.008      1.407         44        640: 100%|██████████| 222/222 [01:10<00:00,  3.13it/s]\n",
            "                 Class     Images  Instances      Box(P          R      mAP50  mAP50-95): 100%|██████████| 4/4 [00:01<00:00,  2.65it/s]"
          ]
        },
        {
          "output_type": "stream",
          "name": "stdout",
          "text": [
            "                   all        126        299      0.734      0.689      0.727      0.319\n"
          ]
        },
        {
          "output_type": "stream",
          "name": "stderr",
          "text": [
            "\n"
          ]
        },
        {
          "output_type": "stream",
          "name": "stdout",
          "text": [
            "\n",
            "      Epoch    GPU_mem   box_loss   cls_loss   dfl_loss  Instances       Size\n"
          ]
        },
        {
          "output_type": "stream",
          "name": "stderr",
          "text": [
            "     78/100      2.32G      1.392      1.003        1.4         55        640: 100%|██████████| 222/222 [01:10<00:00,  3.14it/s]\n",
            "                 Class     Images  Instances      Box(P          R      mAP50  mAP50-95): 100%|██████████| 4/4 [00:01<00:00,  2.51it/s]"
          ]
        },
        {
          "output_type": "stream",
          "name": "stdout",
          "text": [
            "                   all        126        299      0.748      0.709      0.731      0.307\n"
          ]
        },
        {
          "output_type": "stream",
          "name": "stderr",
          "text": [
            "\n"
          ]
        },
        {
          "output_type": "stream",
          "name": "stdout",
          "text": [
            "\n",
            "      Epoch    GPU_mem   box_loss   cls_loss   dfl_loss  Instances       Size\n"
          ]
        },
        {
          "output_type": "stream",
          "name": "stderr",
          "text": [
            "     79/100      2.33G      1.393     0.9885      1.402         77        640: 100%|██████████| 222/222 [01:11<00:00,  3.11it/s]\n",
            "                 Class     Images  Instances      Box(P          R      mAP50  mAP50-95): 100%|██████████| 4/4 [00:01<00:00,  2.24it/s]"
          ]
        },
        {
          "output_type": "stream",
          "name": "stdout",
          "text": [
            "                   all        126        299       0.75      0.725      0.741        0.3\n"
          ]
        },
        {
          "output_type": "stream",
          "name": "stderr",
          "text": [
            "\n"
          ]
        },
        {
          "output_type": "stream",
          "name": "stdout",
          "text": [
            "\n",
            "      Epoch    GPU_mem   box_loss   cls_loss   dfl_loss  Instances       Size\n"
          ]
        },
        {
          "output_type": "stream",
          "name": "stderr",
          "text": [
            "     80/100      2.32G      1.389     0.9888      1.394         73        640: 100%|██████████| 222/222 [01:13<00:00,  3.02it/s]\n",
            "                 Class     Images  Instances      Box(P          R      mAP50  mAP50-95): 100%|██████████| 4/4 [00:01<00:00,  2.86it/s]"
          ]
        },
        {
          "output_type": "stream",
          "name": "stdout",
          "text": [
            "                   all        126        299      0.754      0.733      0.756      0.333\n"
          ]
        },
        {
          "output_type": "stream",
          "name": "stderr",
          "text": [
            "\n"
          ]
        },
        {
          "output_type": "stream",
          "name": "stdout",
          "text": [
            "\n",
            "      Epoch    GPU_mem   box_loss   cls_loss   dfl_loss  Instances       Size\n"
          ]
        },
        {
          "output_type": "stream",
          "name": "stderr",
          "text": [
            "     81/100      2.19G      1.363      0.979      1.387         67        640: 100%|██████████| 222/222 [01:12<00:00,  3.06it/s]\n",
            "                 Class     Images  Instances      Box(P          R      mAP50  mAP50-95): 100%|██████████| 4/4 [00:01<00:00,  2.68it/s]"
          ]
        },
        {
          "output_type": "stream",
          "name": "stdout",
          "text": [
            "                   all        126        299      0.742      0.713      0.728      0.323\n"
          ]
        },
        {
          "output_type": "stream",
          "name": "stderr",
          "text": [
            "\n"
          ]
        },
        {
          "output_type": "stream",
          "name": "stdout",
          "text": [
            "\n",
            "      Epoch    GPU_mem   box_loss   cls_loss   dfl_loss  Instances       Size\n"
          ]
        },
        {
          "output_type": "stream",
          "name": "stderr",
          "text": [
            "     82/100      2.19G       1.37     0.9757      1.379         81        640: 100%|██████████| 222/222 [01:13<00:00,  3.04it/s]\n",
            "                 Class     Images  Instances      Box(P          R      mAP50  mAP50-95): 100%|██████████| 4/4 [00:02<00:00,  1.76it/s]"
          ]
        },
        {
          "output_type": "stream",
          "name": "stdout",
          "text": [
            "                   all        126        299      0.779      0.738       0.76      0.316\n"
          ]
        },
        {
          "output_type": "stream",
          "name": "stderr",
          "text": [
            "\n"
          ]
        },
        {
          "output_type": "stream",
          "name": "stdout",
          "text": [
            "\n",
            "      Epoch    GPU_mem   box_loss   cls_loss   dfl_loss  Instances       Size\n"
          ]
        },
        {
          "output_type": "stream",
          "name": "stderr",
          "text": [
            "     83/100      2.33G       1.36     0.9676      1.378         65        640: 100%|██████████| 222/222 [01:12<00:00,  3.07it/s]\n",
            "                 Class     Images  Instances      Box(P          R      mAP50  mAP50-95): 100%|██████████| 4/4 [00:01<00:00,  2.59it/s]"
          ]
        },
        {
          "output_type": "stream",
          "name": "stdout",
          "text": [
            "                   all        126        299      0.765      0.699      0.738      0.317\n"
          ]
        },
        {
          "output_type": "stream",
          "name": "stderr",
          "text": [
            "\n"
          ]
        },
        {
          "output_type": "stream",
          "name": "stdout",
          "text": [
            "\n",
            "      Epoch    GPU_mem   box_loss   cls_loss   dfl_loss  Instances       Size\n"
          ]
        },
        {
          "output_type": "stream",
          "name": "stderr",
          "text": [
            "     84/100      2.32G      1.364     0.9604      1.378         56        640: 100%|██████████| 222/222 [01:11<00:00,  3.10it/s]\n",
            "                 Class     Images  Instances      Box(P          R      mAP50  mAP50-95): 100%|██████████| 4/4 [00:01<00:00,  2.67it/s]"
          ]
        },
        {
          "output_type": "stream",
          "name": "stdout",
          "text": [
            "                   all        126        299      0.735      0.709      0.744      0.323\n"
          ]
        },
        {
          "output_type": "stream",
          "name": "stderr",
          "text": [
            "\n"
          ]
        },
        {
          "output_type": "stream",
          "name": "stdout",
          "text": [
            "\n",
            "      Epoch    GPU_mem   box_loss   cls_loss   dfl_loss  Instances       Size\n"
          ]
        },
        {
          "output_type": "stream",
          "name": "stderr",
          "text": [
            "     85/100       2.3G       1.35     0.9586      1.373         59        640: 100%|██████████| 222/222 [01:12<00:00,  3.07it/s]\n",
            "                 Class     Images  Instances      Box(P          R      mAP50  mAP50-95): 100%|██████████| 4/4 [00:01<00:00,  2.39it/s]"
          ]
        },
        {
          "output_type": "stream",
          "name": "stdout",
          "text": [
            "                   all        126        299      0.736      0.708       0.74      0.309\n"
          ]
        },
        {
          "output_type": "stream",
          "name": "stderr",
          "text": [
            "\n"
          ]
        },
        {
          "output_type": "stream",
          "name": "stdout",
          "text": [
            "\n",
            "      Epoch    GPU_mem   box_loss   cls_loss   dfl_loss  Instances       Size\n"
          ]
        },
        {
          "output_type": "stream",
          "name": "stderr",
          "text": [
            "     86/100      2.32G      1.353     0.9566      1.367         69        640: 100%|██████████| 222/222 [01:10<00:00,  3.13it/s]\n",
            "                 Class     Images  Instances      Box(P          R      mAP50  mAP50-95): 100%|██████████| 4/4 [00:01<00:00,  2.68it/s]"
          ]
        },
        {
          "output_type": "stream",
          "name": "stdout",
          "text": [
            "                   all        126        299      0.778      0.717      0.764      0.326\n"
          ]
        },
        {
          "output_type": "stream",
          "name": "stderr",
          "text": [
            "\n"
          ]
        },
        {
          "output_type": "stream",
          "name": "stdout",
          "text": [
            "\n",
            "      Epoch    GPU_mem   box_loss   cls_loss   dfl_loss  Instances       Size\n"
          ]
        },
        {
          "output_type": "stream",
          "name": "stderr",
          "text": [
            "     87/100      2.33G      1.354     0.9628      1.371         65        640: 100%|██████████| 222/222 [01:12<00:00,  3.05it/s]\n",
            "                 Class     Images  Instances      Box(P          R      mAP50  mAP50-95): 100%|██████████| 4/4 [00:01<00:00,  2.53it/s]"
          ]
        },
        {
          "output_type": "stream",
          "name": "stdout",
          "text": [
            "                   all        126        299      0.782      0.721       0.76      0.321\n"
          ]
        },
        {
          "output_type": "stream",
          "name": "stderr",
          "text": [
            "\n"
          ]
        },
        {
          "output_type": "stream",
          "name": "stdout",
          "text": [
            "\n",
            "      Epoch    GPU_mem   box_loss   cls_loss   dfl_loss  Instances       Size\n"
          ]
        },
        {
          "output_type": "stream",
          "name": "stderr",
          "text": [
            "     88/100      2.29G      1.339     0.9422      1.366         57        640: 100%|██████████| 222/222 [01:13<00:00,  3.00it/s]\n",
            "                 Class     Images  Instances      Box(P          R      mAP50  mAP50-95): 100%|██████████| 4/4 [00:01<00:00,  2.71it/s]"
          ]
        },
        {
          "output_type": "stream",
          "name": "stdout",
          "text": [
            "                   all        126        299      0.811      0.683      0.768      0.336\n"
          ]
        },
        {
          "output_type": "stream",
          "name": "stderr",
          "text": [
            "\n"
          ]
        },
        {
          "output_type": "stream",
          "name": "stdout",
          "text": [
            "\n",
            "      Epoch    GPU_mem   box_loss   cls_loss   dfl_loss  Instances       Size\n"
          ]
        },
        {
          "output_type": "stream",
          "name": "stderr",
          "text": [
            "     89/100       2.3G      1.353      0.949      1.372         72        640: 100%|██████████| 222/222 [01:12<00:00,  3.06it/s]\n",
            "                 Class     Images  Instances      Box(P          R      mAP50  mAP50-95): 100%|██████████| 4/4 [00:01<00:00,  2.63it/s]"
          ]
        },
        {
          "output_type": "stream",
          "name": "stdout",
          "text": [
            "                   all        126        299      0.724      0.719      0.759      0.322\n"
          ]
        },
        {
          "output_type": "stream",
          "name": "stderr",
          "text": [
            "\n"
          ]
        },
        {
          "output_type": "stream",
          "name": "stdout",
          "text": [
            "\n",
            "      Epoch    GPU_mem   box_loss   cls_loss   dfl_loss  Instances       Size\n"
          ]
        },
        {
          "output_type": "stream",
          "name": "stderr",
          "text": [
            "     90/100      2.29G      1.332     0.9355      1.361         72        640: 100%|██████████| 222/222 [01:13<00:00,  3.03it/s]\n",
            "                 Class     Images  Instances      Box(P          R      mAP50  mAP50-95): 100%|██████████| 4/4 [00:02<00:00,  1.67it/s]"
          ]
        },
        {
          "output_type": "stream",
          "name": "stdout",
          "text": [
            "                   all        126        299      0.767      0.718      0.762      0.329\n"
          ]
        },
        {
          "output_type": "stream",
          "name": "stderr",
          "text": [
            "\n"
          ]
        },
        {
          "output_type": "stream",
          "name": "stdout",
          "text": [
            "Closing dataloader mosaic\n",
            "\u001b[34m\u001b[1malbumentations: \u001b[0mBlur(p=0.01, blur_limit=(3, 7)), MedianBlur(p=0.01, blur_limit=(3, 7)), ToGray(p=0.01), CLAHE(p=0.01, clip_limit=(1, 4.0), tile_grid_size=(8, 8))\n",
            "\n",
            "      Epoch    GPU_mem   box_loss   cls_loss   dfl_loss  Instances       Size\n"
          ]
        },
        {
          "output_type": "stream",
          "name": "stderr",
          "text": [
            "     91/100       2.3G      1.325     0.8697      1.385         27        640: 100%|██████████| 222/222 [01:10<00:00,  3.16it/s]\n",
            "                 Class     Images  Instances      Box(P          R      mAP50  mAP50-95): 100%|██████████| 4/4 [00:01<00:00,  2.55it/s]"
          ]
        },
        {
          "output_type": "stream",
          "name": "stdout",
          "text": [
            "                   all        126        299      0.762      0.709       0.75      0.317\n"
          ]
        },
        {
          "output_type": "stream",
          "name": "stderr",
          "text": [
            "\n"
          ]
        },
        {
          "output_type": "stream",
          "name": "stdout",
          "text": [
            "\n",
            "      Epoch    GPU_mem   box_loss   cls_loss   dfl_loss  Instances       Size\n"
          ]
        },
        {
          "output_type": "stream",
          "name": "stderr",
          "text": [
            "     92/100      2.29G      1.298     0.8442      1.363         35        640: 100%|██████████| 222/222 [01:07<00:00,  3.28it/s]\n",
            "                 Class     Images  Instances      Box(P          R      mAP50  mAP50-95): 100%|██████████| 4/4 [00:01<00:00,  2.82it/s]"
          ]
        },
        {
          "output_type": "stream",
          "name": "stdout",
          "text": [
            "                   all        126        299      0.767      0.721      0.761      0.322\n"
          ]
        },
        {
          "output_type": "stream",
          "name": "stderr",
          "text": [
            "\n"
          ]
        },
        {
          "output_type": "stream",
          "name": "stdout",
          "text": [
            "\n",
            "      Epoch    GPU_mem   box_loss   cls_loss   dfl_loss  Instances       Size\n"
          ]
        },
        {
          "output_type": "stream",
          "name": "stderr",
          "text": [
            "     93/100      2.32G      1.286     0.8355      1.352         32        640: 100%|██████████| 222/222 [01:07<00:00,  3.28it/s]\n",
            "                 Class     Images  Instances      Box(P          R      mAP50  mAP50-95): 100%|██████████| 4/4 [00:01<00:00,  2.77it/s]"
          ]
        },
        {
          "output_type": "stream",
          "name": "stdout",
          "text": [
            "                   all        126        299      0.735      0.694      0.743      0.315\n"
          ]
        },
        {
          "output_type": "stream",
          "name": "stderr",
          "text": [
            "\n"
          ]
        },
        {
          "output_type": "stream",
          "name": "stdout",
          "text": [
            "\n",
            "      Epoch    GPU_mem   box_loss   cls_loss   dfl_loss  Instances       Size\n"
          ]
        },
        {
          "output_type": "stream",
          "name": "stderr",
          "text": [
            "     94/100      2.29G      1.291     0.8315      1.358         32        640: 100%|██████████| 222/222 [01:08<00:00,  3.26it/s]\n",
            "                 Class     Images  Instances      Box(P          R      mAP50  mAP50-95): 100%|██████████| 4/4 [00:01<00:00,  3.02it/s]"
          ]
        },
        {
          "output_type": "stream",
          "name": "stdout",
          "text": [
            "                   all        126        299      0.731       0.74      0.762      0.321\n"
          ]
        },
        {
          "output_type": "stream",
          "name": "stderr",
          "text": [
            "\n"
          ]
        },
        {
          "output_type": "stream",
          "name": "stdout",
          "text": [
            "\n",
            "      Epoch    GPU_mem   box_loss   cls_loss   dfl_loss  Instances       Size\n"
          ]
        },
        {
          "output_type": "stream",
          "name": "stderr",
          "text": [
            "     95/100       2.3G      1.285     0.8309      1.352         40        640: 100%|██████████| 222/222 [01:08<00:00,  3.26it/s]\n",
            "                 Class     Images  Instances      Box(P          R      mAP50  mAP50-95): 100%|██████████| 4/4 [00:01<00:00,  2.70it/s]"
          ]
        },
        {
          "output_type": "stream",
          "name": "stdout",
          "text": [
            "                   all        126        299      0.759      0.707      0.758      0.329\n"
          ]
        },
        {
          "output_type": "stream",
          "name": "stderr",
          "text": [
            "\n"
          ]
        },
        {
          "output_type": "stream",
          "name": "stdout",
          "text": [
            "\n",
            "      Epoch    GPU_mem   box_loss   cls_loss   dfl_loss  Instances       Size\n"
          ]
        },
        {
          "output_type": "stream",
          "name": "stderr",
          "text": [
            "     96/100      2.29G      1.279     0.8251       1.35         28        640: 100%|██████████| 222/222 [01:07<00:00,  3.29it/s]\n",
            "                 Class     Images  Instances      Box(P          R      mAP50  mAP50-95): 100%|██████████| 4/4 [00:01<00:00,  2.60it/s]"
          ]
        },
        {
          "output_type": "stream",
          "name": "stdout",
          "text": [
            "                   all        126        299      0.741      0.706      0.748      0.323\n"
          ]
        },
        {
          "output_type": "stream",
          "name": "stderr",
          "text": [
            "\n"
          ]
        },
        {
          "output_type": "stream",
          "name": "stdout",
          "text": [
            "\n",
            "      Epoch    GPU_mem   box_loss   cls_loss   dfl_loss  Instances       Size\n"
          ]
        },
        {
          "output_type": "stream",
          "name": "stderr",
          "text": [
            "     97/100       2.3G      1.277     0.8281      1.351         34        640: 100%|██████████| 222/222 [01:07<00:00,  3.29it/s]\n",
            "                 Class     Images  Instances      Box(P          R      mAP50  mAP50-95): 100%|██████████| 4/4 [00:01<00:00,  2.85it/s]"
          ]
        },
        {
          "output_type": "stream",
          "name": "stdout",
          "text": [
            "                   all        126        299      0.754      0.728      0.745      0.327\n"
          ]
        },
        {
          "output_type": "stream",
          "name": "stderr",
          "text": [
            "\n"
          ]
        },
        {
          "output_type": "stream",
          "name": "stdout",
          "text": [
            "\n",
            "      Epoch    GPU_mem   box_loss   cls_loss   dfl_loss  Instances       Size\n"
          ]
        },
        {
          "output_type": "stream",
          "name": "stderr",
          "text": [
            "     98/100      2.29G      1.273     0.8245      1.344         37        640: 100%|██████████| 222/222 [01:06<00:00,  3.32it/s]\n",
            "                 Class     Images  Instances      Box(P          R      mAP50  mAP50-95): 100%|██████████| 4/4 [00:01<00:00,  2.79it/s]"
          ]
        },
        {
          "output_type": "stream",
          "name": "stdout",
          "text": [
            "                   all        126        299      0.753      0.702       0.74      0.322\n"
          ]
        },
        {
          "output_type": "stream",
          "name": "stderr",
          "text": [
            "\n"
          ]
        },
        {
          "output_type": "stream",
          "name": "stdout",
          "text": [
            "\n",
            "      Epoch    GPU_mem   box_loss   cls_loss   dfl_loss  Instances       Size\n"
          ]
        },
        {
          "output_type": "stream",
          "name": "stderr",
          "text": [
            "     99/100       2.3G      1.268     0.8148      1.347         45        640: 100%|██████████| 222/222 [01:07<00:00,  3.30it/s]\n",
            "                 Class     Images  Instances      Box(P          R      mAP50  mAP50-95): 100%|██████████| 4/4 [00:01<00:00,  2.54it/s]"
          ]
        },
        {
          "output_type": "stream",
          "name": "stdout",
          "text": [
            "                   all        126        299      0.761      0.703      0.742      0.323\n"
          ]
        },
        {
          "output_type": "stream",
          "name": "stderr",
          "text": [
            "\n"
          ]
        },
        {
          "output_type": "stream",
          "name": "stdout",
          "text": [
            "\n",
            "      Epoch    GPU_mem   box_loss   cls_loss   dfl_loss  Instances       Size\n"
          ]
        },
        {
          "output_type": "stream",
          "name": "stderr",
          "text": [
            "    100/100      2.32G       1.26     0.8119      1.335         41        640: 100%|██████████| 222/222 [01:07<00:00,  3.28it/s]\n",
            "                 Class     Images  Instances      Box(P          R      mAP50  mAP50-95): 100%|██████████| 4/4 [00:01<00:00,  2.77it/s]"
          ]
        },
        {
          "output_type": "stream",
          "name": "stdout",
          "text": [
            "                   all        126        299      0.756      0.717      0.752      0.326\n"
          ]
        },
        {
          "output_type": "stream",
          "name": "stderr",
          "text": [
            "\n"
          ]
        },
        {
          "output_type": "stream",
          "name": "stdout",
          "text": [
            "\n",
            "100 epochs completed in 2.062 hours.\n",
            "Optimizer stripped from runs/detect/train/weights/last.pt, 6.3MB\n",
            "Optimizer stripped from runs/detect/train/weights/best.pt, 6.3MB\n",
            "\n",
            "Validating runs/detect/train/weights/best.pt...\n",
            "Ultralytics YOLOv8.1.11 🚀 Python-3.10.12 torch-2.1.0+cu121 CUDA:0 (Tesla T4, 15102MiB)\n",
            "YOLOv8n summary (fused): 168 layers, 3006038 parameters, 0 gradients, 8.1 GFLOPs\n"
          ]
        },
        {
          "output_type": "stream",
          "name": "stderr",
          "text": [
            "                 Class     Images  Instances      Box(P          R      mAP50  mAP50-95): 100%|██████████| 4/4 [00:04<00:00,  1.05s/it]\n"
          ]
        },
        {
          "output_type": "stream",
          "name": "stdout",
          "text": [
            "                   all        126        299      0.811      0.683      0.768      0.336\n",
            "           With Helmet        126        184      0.811      0.842      0.868      0.394\n",
            "        Without Helmet        126        115      0.811      0.524      0.668      0.278\n",
            "Speed: 0.8ms preprocess, 3.8ms inference, 0.0ms loss, 6.1ms postprocess per image\n",
            "Results saved to \u001b[1mruns/detect/train\u001b[0m\n"
          ]
        }
      ],
      "source": [
        "import os\n",
        "from ultralytics import YOLO\n",
        "\n",
        "model= YOLO(\"yolov8n.yaml\")\n",
        "\n",
        "result=model.train(data='/content/data.yaml',epochs=100)"
      ]
    },
    {
      "cell_type": "code",
      "execution_count": 6,
      "metadata": {
        "id": "oPX4ZOWQTgYu"
      },
      "outputs": [],
      "source": []
    },
    {
      "cell_type": "code",
      "execution_count": 7,
      "metadata": {
        "id": "fva1tdDLW4Sf",
        "colab": {
          "base_uri": "https://localhost:8080/",
          "height": 366
        },
        "outputId": "0a86d056-7bc3-4e72-f0b9-4142ac0bf048"
      },
      "outputs": [
        {
          "output_type": "error",
          "ename": "FileNotFoundError",
          "evalue": "[Errno 2] No such file or directory: '/content/best.pt'",
          "traceback": [
            "\u001b[0;31m---------------------------------------------------------------------------\u001b[0m",
            "\u001b[0;31mFileNotFoundError\u001b[0m                         Traceback (most recent call last)",
            "\u001b[0;32m<ipython-input-7-b1a7950a6f12>\u001b[0m in \u001b[0;36m<cell line: 3>\u001b[0;34m()\u001b[0m\n\u001b[1;32m      1\u001b[0m \u001b[0;32mfrom\u001b[0m \u001b[0multralytics\u001b[0m \u001b[0;32mimport\u001b[0m \u001b[0mYOLO\u001b[0m\u001b[0;34m\u001b[0m\u001b[0;34m\u001b[0m\u001b[0m\n\u001b[1;32m      2\u001b[0m \u001b[0;34m\u001b[0m\u001b[0m\n\u001b[0;32m----> 3\u001b[0;31m \u001b[0mmodel\u001b[0m\u001b[0;34m=\u001b[0m \u001b[0mYOLO\u001b[0m\u001b[0;34m(\u001b[0m\u001b[0;34m\"/content/best.pt\"\u001b[0m\u001b[0;34m)\u001b[0m\u001b[0;34m\u001b[0m\u001b[0;34m\u001b[0m\u001b[0m\n\u001b[0m",
            "\u001b[0;32m/usr/local/lib/python3.10/dist-packages/ultralytics/engine/model.py\u001b[0m in \u001b[0;36m__init__\u001b[0;34m(self, model, task, verbose)\u001b[0m\n\u001b[1;32m    132\u001b[0m             \u001b[0mself\u001b[0m\u001b[0;34m.\u001b[0m\u001b[0m_new\u001b[0m\u001b[0;34m(\u001b[0m\u001b[0mmodel\u001b[0m\u001b[0;34m,\u001b[0m \u001b[0mtask\u001b[0m\u001b[0;34m=\u001b[0m\u001b[0mtask\u001b[0m\u001b[0;34m,\u001b[0m \u001b[0mverbose\u001b[0m\u001b[0;34m=\u001b[0m\u001b[0mverbose\u001b[0m\u001b[0;34m)\u001b[0m\u001b[0;34m\u001b[0m\u001b[0;34m\u001b[0m\u001b[0m\n\u001b[1;32m    133\u001b[0m         \u001b[0;32melse\u001b[0m\u001b[0;34m:\u001b[0m\u001b[0;34m\u001b[0m\u001b[0;34m\u001b[0m\u001b[0m\n\u001b[0;32m--> 134\u001b[0;31m             \u001b[0mself\u001b[0m\u001b[0;34m.\u001b[0m\u001b[0m_load\u001b[0m\u001b[0;34m(\u001b[0m\u001b[0mmodel\u001b[0m\u001b[0;34m,\u001b[0m \u001b[0mtask\u001b[0m\u001b[0;34m=\u001b[0m\u001b[0mtask\u001b[0m\u001b[0;34m)\u001b[0m\u001b[0;34m\u001b[0m\u001b[0;34m\u001b[0m\u001b[0m\n\u001b[0m\u001b[1;32m    135\u001b[0m \u001b[0;34m\u001b[0m\u001b[0m\n\u001b[1;32m    136\u001b[0m         \u001b[0mself\u001b[0m\u001b[0;34m.\u001b[0m\u001b[0mmodel_name\u001b[0m \u001b[0;34m=\u001b[0m \u001b[0mmodel\u001b[0m\u001b[0;34m\u001b[0m\u001b[0;34m\u001b[0m\u001b[0m\n",
            "\u001b[0;32m/usr/local/lib/python3.10/dist-packages/ultralytics/engine/model.py\u001b[0m in \u001b[0;36m_load\u001b[0;34m(self, weights, task)\u001b[0m\n\u001b[1;32m    213\u001b[0m         \u001b[0msuffix\u001b[0m \u001b[0;34m=\u001b[0m \u001b[0mPath\u001b[0m\u001b[0;34m(\u001b[0m\u001b[0mweights\u001b[0m\u001b[0;34m)\u001b[0m\u001b[0;34m.\u001b[0m\u001b[0msuffix\u001b[0m\u001b[0;34m\u001b[0m\u001b[0;34m\u001b[0m\u001b[0m\n\u001b[1;32m    214\u001b[0m         \u001b[0;32mif\u001b[0m \u001b[0msuffix\u001b[0m \u001b[0;34m==\u001b[0m \u001b[0;34m\".pt\"\u001b[0m\u001b[0;34m:\u001b[0m\u001b[0;34m\u001b[0m\u001b[0;34m\u001b[0m\u001b[0m\n\u001b[0;32m--> 215\u001b[0;31m             \u001b[0mself\u001b[0m\u001b[0;34m.\u001b[0m\u001b[0mmodel\u001b[0m\u001b[0;34m,\u001b[0m \u001b[0mself\u001b[0m\u001b[0;34m.\u001b[0m\u001b[0mckpt\u001b[0m \u001b[0;34m=\u001b[0m \u001b[0mattempt_load_one_weight\u001b[0m\u001b[0;34m(\u001b[0m\u001b[0mweights\u001b[0m\u001b[0;34m)\u001b[0m\u001b[0;34m\u001b[0m\u001b[0;34m\u001b[0m\u001b[0m\n\u001b[0m\u001b[1;32m    216\u001b[0m             \u001b[0mself\u001b[0m\u001b[0;34m.\u001b[0m\u001b[0mtask\u001b[0m \u001b[0;34m=\u001b[0m \u001b[0mself\u001b[0m\u001b[0;34m.\u001b[0m\u001b[0mmodel\u001b[0m\u001b[0;34m.\u001b[0m\u001b[0margs\u001b[0m\u001b[0;34m[\u001b[0m\u001b[0;34m\"task\"\u001b[0m\u001b[0;34m]\u001b[0m\u001b[0;34m\u001b[0m\u001b[0;34m\u001b[0m\u001b[0m\n\u001b[1;32m    217\u001b[0m             \u001b[0mself\u001b[0m\u001b[0;34m.\u001b[0m\u001b[0moverrides\u001b[0m \u001b[0;34m=\u001b[0m \u001b[0mself\u001b[0m\u001b[0;34m.\u001b[0m\u001b[0mmodel\u001b[0m\u001b[0;34m.\u001b[0m\u001b[0margs\u001b[0m \u001b[0;34m=\u001b[0m \u001b[0mself\u001b[0m\u001b[0;34m.\u001b[0m\u001b[0m_reset_ckpt_args\u001b[0m\u001b[0;34m(\u001b[0m\u001b[0mself\u001b[0m\u001b[0;34m.\u001b[0m\u001b[0mmodel\u001b[0m\u001b[0;34m.\u001b[0m\u001b[0margs\u001b[0m\u001b[0;34m)\u001b[0m\u001b[0;34m\u001b[0m\u001b[0;34m\u001b[0m\u001b[0m\n",
            "\u001b[0;32m/usr/local/lib/python3.10/dist-packages/ultralytics/nn/tasks.py\u001b[0m in \u001b[0;36mattempt_load_one_weight\u001b[0;34m(weight, device, inplace, fuse)\u001b[0m\n\u001b[1;32m    707\u001b[0m \u001b[0;32mdef\u001b[0m \u001b[0mattempt_load_one_weight\u001b[0m\u001b[0;34m(\u001b[0m\u001b[0mweight\u001b[0m\u001b[0;34m,\u001b[0m \u001b[0mdevice\u001b[0m\u001b[0;34m=\u001b[0m\u001b[0;32mNone\u001b[0m\u001b[0;34m,\u001b[0m \u001b[0minplace\u001b[0m\u001b[0;34m=\u001b[0m\u001b[0;32mTrue\u001b[0m\u001b[0;34m,\u001b[0m \u001b[0mfuse\u001b[0m\u001b[0;34m=\u001b[0m\u001b[0;32mFalse\u001b[0m\u001b[0;34m)\u001b[0m\u001b[0;34m:\u001b[0m\u001b[0;34m\u001b[0m\u001b[0;34m\u001b[0m\u001b[0m\n\u001b[1;32m    708\u001b[0m     \u001b[0;34m\"\"\"Loads a single model weights.\"\"\"\u001b[0m\u001b[0;34m\u001b[0m\u001b[0;34m\u001b[0m\u001b[0m\n\u001b[0;32m--> 709\u001b[0;31m     \u001b[0mckpt\u001b[0m\u001b[0;34m,\u001b[0m \u001b[0mweight\u001b[0m \u001b[0;34m=\u001b[0m \u001b[0mtorch_safe_load\u001b[0m\u001b[0;34m(\u001b[0m\u001b[0mweight\u001b[0m\u001b[0;34m)\u001b[0m  \u001b[0;31m# load ckpt\u001b[0m\u001b[0;34m\u001b[0m\u001b[0;34m\u001b[0m\u001b[0m\n\u001b[0m\u001b[1;32m    710\u001b[0m     \u001b[0margs\u001b[0m \u001b[0;34m=\u001b[0m \u001b[0;34m{\u001b[0m\u001b[0;34m**\u001b[0m\u001b[0mDEFAULT_CFG_DICT\u001b[0m\u001b[0;34m,\u001b[0m \u001b[0;34m**\u001b[0m\u001b[0;34m(\u001b[0m\u001b[0mckpt\u001b[0m\u001b[0;34m.\u001b[0m\u001b[0mget\u001b[0m\u001b[0;34m(\u001b[0m\u001b[0;34m\"train_args\"\u001b[0m\u001b[0;34m,\u001b[0m \u001b[0;34m{\u001b[0m\u001b[0;34m}\u001b[0m\u001b[0;34m)\u001b[0m\u001b[0;34m)\u001b[0m\u001b[0;34m}\u001b[0m  \u001b[0;31m# combine model and default args, preferring model args\u001b[0m\u001b[0;34m\u001b[0m\u001b[0;34m\u001b[0m\u001b[0m\n\u001b[1;32m    711\u001b[0m     \u001b[0mmodel\u001b[0m \u001b[0;34m=\u001b[0m \u001b[0;34m(\u001b[0m\u001b[0mckpt\u001b[0m\u001b[0;34m.\u001b[0m\u001b[0mget\u001b[0m\u001b[0;34m(\u001b[0m\u001b[0;34m\"ema\"\u001b[0m\u001b[0;34m)\u001b[0m \u001b[0;32mor\u001b[0m \u001b[0mckpt\u001b[0m\u001b[0;34m[\u001b[0m\u001b[0;34m\"model\"\u001b[0m\u001b[0;34m]\u001b[0m\u001b[0;34m)\u001b[0m\u001b[0;34m.\u001b[0m\u001b[0mto\u001b[0m\u001b[0;34m(\u001b[0m\u001b[0mdevice\u001b[0m\u001b[0;34m)\u001b[0m\u001b[0;34m.\u001b[0m\u001b[0mfloat\u001b[0m\u001b[0;34m(\u001b[0m\u001b[0;34m)\u001b[0m  \u001b[0;31m# FP32 model\u001b[0m\u001b[0;34m\u001b[0m\u001b[0;34m\u001b[0m\u001b[0m\n",
            "\u001b[0;32m/usr/local/lib/python3.10/dist-packages/ultralytics/nn/tasks.py\u001b[0m in \u001b[0;36mtorch_safe_load\u001b[0;34m(weight)\u001b[0m\n\u001b[1;32m    632\u001b[0m             }\n\u001b[1;32m    633\u001b[0m         ):  # for legacy 8.0 Classify and Pose models\n\u001b[0;32m--> 634\u001b[0;31m             \u001b[0mckpt\u001b[0m \u001b[0;34m=\u001b[0m \u001b[0mtorch\u001b[0m\u001b[0;34m.\u001b[0m\u001b[0mload\u001b[0m\u001b[0;34m(\u001b[0m\u001b[0mfile\u001b[0m\u001b[0;34m,\u001b[0m \u001b[0mmap_location\u001b[0m\u001b[0;34m=\u001b[0m\u001b[0;34m\"cpu\"\u001b[0m\u001b[0;34m)\u001b[0m\u001b[0;34m\u001b[0m\u001b[0;34m\u001b[0m\u001b[0m\n\u001b[0m\u001b[1;32m    635\u001b[0m \u001b[0;34m\u001b[0m\u001b[0m\n\u001b[1;32m    636\u001b[0m     \u001b[0;32mexcept\u001b[0m \u001b[0mModuleNotFoundError\u001b[0m \u001b[0;32mas\u001b[0m \u001b[0me\u001b[0m\u001b[0;34m:\u001b[0m  \u001b[0;31m# e.name is missing module name\u001b[0m\u001b[0;34m\u001b[0m\u001b[0;34m\u001b[0m\u001b[0m\n",
            "\u001b[0;32m/usr/local/lib/python3.10/dist-packages/torch/serialization.py\u001b[0m in \u001b[0;36mload\u001b[0;34m(f, map_location, pickle_module, weights_only, mmap, **pickle_load_args)\u001b[0m\n\u001b[1;32m    984\u001b[0m         \u001b[0mpickle_load_args\u001b[0m\u001b[0;34m[\u001b[0m\u001b[0;34m'encoding'\u001b[0m\u001b[0;34m]\u001b[0m \u001b[0;34m=\u001b[0m \u001b[0;34m'utf-8'\u001b[0m\u001b[0;34m\u001b[0m\u001b[0;34m\u001b[0m\u001b[0m\n\u001b[1;32m    985\u001b[0m \u001b[0;34m\u001b[0m\u001b[0m\n\u001b[0;32m--> 986\u001b[0;31m     \u001b[0;32mwith\u001b[0m \u001b[0m_open_file_like\u001b[0m\u001b[0;34m(\u001b[0m\u001b[0mf\u001b[0m\u001b[0;34m,\u001b[0m \u001b[0;34m'rb'\u001b[0m\u001b[0;34m)\u001b[0m \u001b[0;32mas\u001b[0m \u001b[0mopened_file\u001b[0m\u001b[0;34m:\u001b[0m\u001b[0;34m\u001b[0m\u001b[0;34m\u001b[0m\u001b[0m\n\u001b[0m\u001b[1;32m    987\u001b[0m         \u001b[0;32mif\u001b[0m \u001b[0m_is_zipfile\u001b[0m\u001b[0;34m(\u001b[0m\u001b[0mopened_file\u001b[0m\u001b[0;34m)\u001b[0m\u001b[0;34m:\u001b[0m\u001b[0;34m\u001b[0m\u001b[0;34m\u001b[0m\u001b[0m\n\u001b[1;32m    988\u001b[0m             \u001b[0;31m# The zipfile reader is going to advance the current file position.\u001b[0m\u001b[0;34m\u001b[0m\u001b[0;34m\u001b[0m\u001b[0m\n",
            "\u001b[0;32m/usr/local/lib/python3.10/dist-packages/torch/serialization.py\u001b[0m in \u001b[0;36m_open_file_like\u001b[0;34m(name_or_buffer, mode)\u001b[0m\n\u001b[1;32m    433\u001b[0m \u001b[0;32mdef\u001b[0m \u001b[0m_open_file_like\u001b[0m\u001b[0;34m(\u001b[0m\u001b[0mname_or_buffer\u001b[0m\u001b[0;34m,\u001b[0m \u001b[0mmode\u001b[0m\u001b[0;34m)\u001b[0m\u001b[0;34m:\u001b[0m\u001b[0;34m\u001b[0m\u001b[0;34m\u001b[0m\u001b[0m\n\u001b[1;32m    434\u001b[0m     \u001b[0;32mif\u001b[0m \u001b[0m_is_path\u001b[0m\u001b[0;34m(\u001b[0m\u001b[0mname_or_buffer\u001b[0m\u001b[0;34m)\u001b[0m\u001b[0;34m:\u001b[0m\u001b[0;34m\u001b[0m\u001b[0;34m\u001b[0m\u001b[0m\n\u001b[0;32m--> 435\u001b[0;31m         \u001b[0;32mreturn\u001b[0m \u001b[0m_open_file\u001b[0m\u001b[0;34m(\u001b[0m\u001b[0mname_or_buffer\u001b[0m\u001b[0;34m,\u001b[0m \u001b[0mmode\u001b[0m\u001b[0;34m)\u001b[0m\u001b[0;34m\u001b[0m\u001b[0;34m\u001b[0m\u001b[0m\n\u001b[0m\u001b[1;32m    436\u001b[0m     \u001b[0;32melse\u001b[0m\u001b[0;34m:\u001b[0m\u001b[0;34m\u001b[0m\u001b[0;34m\u001b[0m\u001b[0m\n\u001b[1;32m    437\u001b[0m         \u001b[0;32mif\u001b[0m \u001b[0;34m'w'\u001b[0m \u001b[0;32min\u001b[0m \u001b[0mmode\u001b[0m\u001b[0;34m:\u001b[0m\u001b[0;34m\u001b[0m\u001b[0;34m\u001b[0m\u001b[0m\n",
            "\u001b[0;32m/usr/local/lib/python3.10/dist-packages/torch/serialization.py\u001b[0m in \u001b[0;36m__init__\u001b[0;34m(self, name, mode)\u001b[0m\n\u001b[1;32m    414\u001b[0m \u001b[0;32mclass\u001b[0m \u001b[0m_open_file\u001b[0m\u001b[0;34m(\u001b[0m\u001b[0m_opener\u001b[0m\u001b[0;34m)\u001b[0m\u001b[0;34m:\u001b[0m\u001b[0;34m\u001b[0m\u001b[0;34m\u001b[0m\u001b[0m\n\u001b[1;32m    415\u001b[0m     \u001b[0;32mdef\u001b[0m \u001b[0m__init__\u001b[0m\u001b[0;34m(\u001b[0m\u001b[0mself\u001b[0m\u001b[0;34m,\u001b[0m \u001b[0mname\u001b[0m\u001b[0;34m,\u001b[0m \u001b[0mmode\u001b[0m\u001b[0;34m)\u001b[0m\u001b[0;34m:\u001b[0m\u001b[0;34m\u001b[0m\u001b[0;34m\u001b[0m\u001b[0m\n\u001b[0;32m--> 416\u001b[0;31m         \u001b[0msuper\u001b[0m\u001b[0;34m(\u001b[0m\u001b[0;34m)\u001b[0m\u001b[0;34m.\u001b[0m\u001b[0m__init__\u001b[0m\u001b[0;34m(\u001b[0m\u001b[0mopen\u001b[0m\u001b[0;34m(\u001b[0m\u001b[0mname\u001b[0m\u001b[0;34m,\u001b[0m \u001b[0mmode\u001b[0m\u001b[0;34m)\u001b[0m\u001b[0;34m)\u001b[0m\u001b[0;34m\u001b[0m\u001b[0;34m\u001b[0m\u001b[0m\n\u001b[0m\u001b[1;32m    417\u001b[0m \u001b[0;34m\u001b[0m\u001b[0m\n\u001b[1;32m    418\u001b[0m     \u001b[0;32mdef\u001b[0m \u001b[0m__exit__\u001b[0m\u001b[0;34m(\u001b[0m\u001b[0mself\u001b[0m\u001b[0;34m,\u001b[0m \u001b[0;34m*\u001b[0m\u001b[0margs\u001b[0m\u001b[0;34m)\u001b[0m\u001b[0;34m:\u001b[0m\u001b[0;34m\u001b[0m\u001b[0;34m\u001b[0m\u001b[0m\n",
            "\u001b[0;31mFileNotFoundError\u001b[0m: [Errno 2] No such file or directory: '/content/best.pt'"
          ]
        }
      ],
      "source": []
    },
    {
      "cell_type": "code",
      "source": [],
      "metadata": {
        "id": "ETN83HWyQg83"
      },
      "execution_count": null,
      "outputs": []
    },
    {
      "cell_type": "code",
      "source": [],
      "metadata": {
        "id": "0J3uM6Raq5NY"
      },
      "execution_count": null,
      "outputs": []
    }
  ],
  "metadata": {
    "accelerator": "GPU",
    "colab": {
      "provenance": []
    },
    "kernelspec": {
      "display_name": "Python 3",
      "name": "python3"
    },
    "language_info": {
      "name": "python"
    }
  },
  "nbformat": 4,
  "nbformat_minor": 0
}